{
 "cells": [
  {
   "cell_type": "code",
   "execution_count": 14,
   "id": "generous-thinking",
   "metadata": {},
   "outputs": [
    {
     "name": "stderr",
     "output_type": "stream",
     "text": [
      "C:\\Users\\frede\\anaconda3\\lib\\site-packages\\pandas\\core\\computation\\expressions.py:20: UserWarning: Pandas requires version '2.7.3' or newer of 'numexpr' (version '2.7.2' currently installed).\n",
      "  from pandas.core.computation.check import NUMEXPR_INSTALLED\n"
     ]
    },
    {
     "data": {
      "text/html": [
       "<div>\n",
       "<style scoped>\n",
       "    .dataframe tbody tr th:only-of-type {\n",
       "        vertical-align: middle;\n",
       "    }\n",
       "\n",
       "    .dataframe tbody tr th {\n",
       "        vertical-align: top;\n",
       "    }\n",
       "\n",
       "    .dataframe thead th {\n",
       "        text-align: right;\n",
       "    }\n",
       "</style>\n",
       "<table border=\"1\" class=\"dataframe\">\n",
       "  <thead>\n",
       "    <tr style=\"text-align: right;\">\n",
       "      <th></th>\n",
       "      <th>acc_x</th>\n",
       "      <th>acc_y</th>\n",
       "      <th>acc_z</th>\n",
       "      <th>vel_x</th>\n",
       "      <th>vel_y</th>\n",
       "      <th>vel_z</th>\n",
       "      <th>ang_acc_roll</th>\n",
       "      <th>ang_acc_pitch</th>\n",
       "      <th>ang_acc_yaw</th>\n",
       "      <th>ang_vel_roll</th>\n",
       "      <th>...</th>\n",
       "      <th>yaw</th>\n",
       "      <th>u1</th>\n",
       "      <th>u2</th>\n",
       "      <th>u3</th>\n",
       "      <th>x1</th>\n",
       "      <th>x2</th>\n",
       "      <th>x3</th>\n",
       "      <th>x4</th>\n",
       "      <th>x5</th>\n",
       "      <th>x6</th>\n",
       "    </tr>\n",
       "  </thead>\n",
       "  <tbody>\n",
       "    <tr>\n",
       "      <th>0</th>\n",
       "      <td>0.000000</td>\n",
       "      <td>0.00000</td>\n",
       "      <td>0.000000</td>\n",
       "      <td>0.000000</td>\n",
       "      <td>0.000000</td>\n",
       "      <td>0.000000</td>\n",
       "      <td>0.000000</td>\n",
       "      <td>0.000000</td>\n",
       "      <td>0.000000</td>\n",
       "      <td>0.0</td>\n",
       "      <td>...</td>\n",
       "      <td>-19.999989</td>\n",
       "      <td>0.000000</td>\n",
       "      <td>0.000000</td>\n",
       "      <td>0.000000</td>\n",
       "      <td>1.840000</td>\n",
       "      <td>0.000000</td>\n",
       "      <td>0.000000</td>\n",
       "      <td>0.0</td>\n",
       "      <td>0.000000</td>\n",
       "      <td>0.000000</td>\n",
       "    </tr>\n",
       "    <tr>\n",
       "      <th>1</th>\n",
       "      <td>1.879385</td>\n",
       "      <td>-0.68404</td>\n",
       "      <td>0.000000</td>\n",
       "      <td>0.009397</td>\n",
       "      <td>-0.003420</td>\n",
       "      <td>0.000000</td>\n",
       "      <td>0.000000</td>\n",
       "      <td>0.000000</td>\n",
       "      <td>0.000000</td>\n",
       "      <td>0.0</td>\n",
       "      <td>...</td>\n",
       "      <td>-19.999989</td>\n",
       "      <td>0.000000</td>\n",
       "      <td>0.000000</td>\n",
       "      <td>0.000000</td>\n",
       "      <td>1.840000</td>\n",
       "      <td>0.000000</td>\n",
       "      <td>0.000000</td>\n",
       "      <td>0.0</td>\n",
       "      <td>0.000000</td>\n",
       "      <td>0.000000</td>\n",
       "    </tr>\n",
       "    <tr>\n",
       "      <th>2</th>\n",
       "      <td>1.879385</td>\n",
       "      <td>-0.68404</td>\n",
       "      <td>0.000000</td>\n",
       "      <td>0.018794</td>\n",
       "      <td>-0.006840</td>\n",
       "      <td>0.000000</td>\n",
       "      <td>0.000000</td>\n",
       "      <td>0.000000</td>\n",
       "      <td>0.000000</td>\n",
       "      <td>0.0</td>\n",
       "      <td>...</td>\n",
       "      <td>-19.999989</td>\n",
       "      <td>0.000000</td>\n",
       "      <td>0.000000</td>\n",
       "      <td>0.000000</td>\n",
       "      <td>1.840000</td>\n",
       "      <td>0.000000</td>\n",
       "      <td>0.000000</td>\n",
       "      <td>0.0</td>\n",
       "      <td>0.000000</td>\n",
       "      <td>0.000000</td>\n",
       "    </tr>\n",
       "    <tr>\n",
       "      <th>3</th>\n",
       "      <td>1.879385</td>\n",
       "      <td>-0.68404</td>\n",
       "      <td>0.000000</td>\n",
       "      <td>0.028191</td>\n",
       "      <td>-0.010261</td>\n",
       "      <td>0.000000</td>\n",
       "      <td>0.000000</td>\n",
       "      <td>0.000000</td>\n",
       "      <td>0.000000</td>\n",
       "      <td>0.0</td>\n",
       "      <td>...</td>\n",
       "      <td>-19.999989</td>\n",
       "      <td>0.000000</td>\n",
       "      <td>0.000000</td>\n",
       "      <td>0.000000</td>\n",
       "      <td>1.840003</td>\n",
       "      <td>0.000000</td>\n",
       "      <td>0.000000</td>\n",
       "      <td>0.0</td>\n",
       "      <td>0.000000</td>\n",
       "      <td>0.000000</td>\n",
       "    </tr>\n",
       "    <tr>\n",
       "      <th>4</th>\n",
       "      <td>1.879385</td>\n",
       "      <td>-0.68404</td>\n",
       "      <td>0.000000</td>\n",
       "      <td>0.037588</td>\n",
       "      <td>-0.013681</td>\n",
       "      <td>0.000000</td>\n",
       "      <td>0.000000</td>\n",
       "      <td>0.000000</td>\n",
       "      <td>0.000000</td>\n",
       "      <td>0.0</td>\n",
       "      <td>...</td>\n",
       "      <td>-19.999989</td>\n",
       "      <td>0.000000</td>\n",
       "      <td>0.000000</td>\n",
       "      <td>0.000000</td>\n",
       "      <td>1.840000</td>\n",
       "      <td>0.000000</td>\n",
       "      <td>0.000000</td>\n",
       "      <td>0.0</td>\n",
       "      <td>0.000000</td>\n",
       "      <td>0.000000</td>\n",
       "    </tr>\n",
       "    <tr>\n",
       "      <th>...</th>\n",
       "      <td>...</td>\n",
       "      <td>...</td>\n",
       "      <td>...</td>\n",
       "      <td>...</td>\n",
       "      <td>...</td>\n",
       "      <td>...</td>\n",
       "      <td>...</td>\n",
       "      <td>...</td>\n",
       "      <td>...</td>\n",
       "      <td>...</td>\n",
       "      <td>...</td>\n",
       "      <td>...</td>\n",
       "      <td>...</td>\n",
       "      <td>...</td>\n",
       "      <td>...</td>\n",
       "      <td>...</td>\n",
       "      <td>...</td>\n",
       "      <td>...</td>\n",
       "      <td>...</td>\n",
       "      <td>...</td>\n",
       "      <td>...</td>\n",
       "    </tr>\n",
       "    <tr>\n",
       "      <th>5195</th>\n",
       "      <td>0.000000</td>\n",
       "      <td>0.00000</td>\n",
       "      <td>-0.029135</td>\n",
       "      <td>1.681425</td>\n",
       "      <td>-0.626792</td>\n",
       "      <td>-0.053621</td>\n",
       "      <td>-0.051270</td>\n",
       "      <td>-0.143644</td>\n",
       "      <td>0.005327</td>\n",
       "      <td>0.0</td>\n",
       "      <td>...</td>\n",
       "      <td>-19.647398</td>\n",
       "      <td>7.253233</td>\n",
       "      <td>7.253233</td>\n",
       "      <td>-5.276293</td>\n",
       "      <td>1.905993</td>\n",
       "      <td>-0.053621</td>\n",
       "      <td>-2.001007</td>\n",
       "      <td>0.0</td>\n",
       "      <td>0.134582</td>\n",
       "      <td>0.007803</td>\n",
       "    </tr>\n",
       "    <tr>\n",
       "      <th>5196</th>\n",
       "      <td>0.000000</td>\n",
       "      <td>0.00000</td>\n",
       "      <td>-0.028688</td>\n",
       "      <td>1.681423</td>\n",
       "      <td>-0.626796</td>\n",
       "      <td>-0.053764</td>\n",
       "      <td>-0.051917</td>\n",
       "      <td>-0.145456</td>\n",
       "      <td>0.005396</td>\n",
       "      <td>0.0</td>\n",
       "      <td>...</td>\n",
       "      <td>-19.647350</td>\n",
       "      <td>7.247940</td>\n",
       "      <td>7.247940</td>\n",
       "      <td>-5.365687</td>\n",
       "      <td>1.905333</td>\n",
       "      <td>-0.053764</td>\n",
       "      <td>-2.001709</td>\n",
       "      <td>0.0</td>\n",
       "      <td>0.136535</td>\n",
       "      <td>0.007076</td>\n",
       "    </tr>\n",
       "    <tr>\n",
       "      <th>5197</th>\n",
       "      <td>0.000000</td>\n",
       "      <td>0.00000</td>\n",
       "      <td>-0.028285</td>\n",
       "      <td>1.681422</td>\n",
       "      <td>-0.626801</td>\n",
       "      <td>-0.053906</td>\n",
       "      <td>-0.052496</td>\n",
       "      <td>-0.147079</td>\n",
       "      <td>0.005458</td>\n",
       "      <td>0.0</td>\n",
       "      <td>...</td>\n",
       "      <td>-19.647295</td>\n",
       "      <td>7.242662</td>\n",
       "      <td>7.242662</td>\n",
       "      <td>-5.445792</td>\n",
       "      <td>1.904680</td>\n",
       "      <td>-0.053906</td>\n",
       "      <td>-2.002380</td>\n",
       "      <td>0.0</td>\n",
       "      <td>0.138277</td>\n",
       "      <td>0.006340</td>\n",
       "    </tr>\n",
       "    <tr>\n",
       "      <th>5198</th>\n",
       "      <td>0.000000</td>\n",
       "      <td>0.00000</td>\n",
       "      <td>-0.027922</td>\n",
       "      <td>1.681420</td>\n",
       "      <td>-0.626805</td>\n",
       "      <td>-0.054046</td>\n",
       "      <td>-0.053012</td>\n",
       "      <td>-0.148526</td>\n",
       "      <td>0.005514</td>\n",
       "      <td>0.0</td>\n",
       "      <td>...</td>\n",
       "      <td>-19.647230</td>\n",
       "      <td>7.237442</td>\n",
       "      <td>7.237442</td>\n",
       "      <td>-5.517153</td>\n",
       "      <td>1.904029</td>\n",
       "      <td>-0.054046</td>\n",
       "      <td>-2.003083</td>\n",
       "      <td>0.0</td>\n",
       "      <td>0.139800</td>\n",
       "      <td>0.005598</td>\n",
       "    </tr>\n",
       "    <tr>\n",
       "      <th>5199</th>\n",
       "      <td>0.000000</td>\n",
       "      <td>0.00000</td>\n",
       "      <td>-0.027598</td>\n",
       "      <td>1.681418</td>\n",
       "      <td>-0.626810</td>\n",
       "      <td>-0.054184</td>\n",
       "      <td>-0.053465</td>\n",
       "      <td>-0.149797</td>\n",
       "      <td>0.005563</td>\n",
       "      <td>0.0</td>\n",
       "      <td>...</td>\n",
       "      <td>-19.647152</td>\n",
       "      <td>7.232235</td>\n",
       "      <td>7.232235</td>\n",
       "      <td>-5.579827</td>\n",
       "      <td>1.903381</td>\n",
       "      <td>-0.054184</td>\n",
       "      <td>-2.003754</td>\n",
       "      <td>0.0</td>\n",
       "      <td>0.141078</td>\n",
       "      <td>0.004849</td>\n",
       "    </tr>\n",
       "  </tbody>\n",
       "</table>\n",
       "<p>5200 rows × 27 columns</p>\n",
       "</div>"
      ],
      "text/plain": [
       "         acc_x    acc_y     acc_z     vel_x     vel_y     vel_z  ang_acc_roll  \\\n",
       "0     0.000000  0.00000  0.000000  0.000000  0.000000  0.000000      0.000000   \n",
       "1     1.879385 -0.68404  0.000000  0.009397 -0.003420  0.000000      0.000000   \n",
       "2     1.879385 -0.68404  0.000000  0.018794 -0.006840  0.000000      0.000000   \n",
       "3     1.879385 -0.68404  0.000000  0.028191 -0.010261  0.000000      0.000000   \n",
       "4     1.879385 -0.68404  0.000000  0.037588 -0.013681  0.000000      0.000000   \n",
       "...        ...      ...       ...       ...       ...       ...           ...   \n",
       "5195  0.000000  0.00000 -0.029135  1.681425 -0.626792 -0.053621     -0.051270   \n",
       "5196  0.000000  0.00000 -0.028688  1.681423 -0.626796 -0.053764     -0.051917   \n",
       "5197  0.000000  0.00000 -0.028285  1.681422 -0.626801 -0.053906     -0.052496   \n",
       "5198  0.000000  0.00000 -0.027922  1.681420 -0.626805 -0.054046     -0.053012   \n",
       "5199  0.000000  0.00000 -0.027598  1.681418 -0.626810 -0.054184     -0.053465   \n",
       "\n",
       "      ang_acc_pitch  ang_acc_yaw  ang_vel_roll  ...        yaw        u1  \\\n",
       "0          0.000000     0.000000           0.0  ... -19.999989  0.000000   \n",
       "1          0.000000     0.000000           0.0  ... -19.999989  0.000000   \n",
       "2          0.000000     0.000000           0.0  ... -19.999989  0.000000   \n",
       "3          0.000000     0.000000           0.0  ... -19.999989  0.000000   \n",
       "4          0.000000     0.000000           0.0  ... -19.999989  0.000000   \n",
       "...             ...          ...           ...  ...        ...       ...   \n",
       "5195      -0.143644     0.005327           0.0  ... -19.647398  7.253233   \n",
       "5196      -0.145456     0.005396           0.0  ... -19.647350  7.247940   \n",
       "5197      -0.147079     0.005458           0.0  ... -19.647295  7.242662   \n",
       "5198      -0.148526     0.005514           0.0  ... -19.647230  7.237442   \n",
       "5199      -0.149797     0.005563           0.0  ... -19.647152  7.232235   \n",
       "\n",
       "            u2        u3        x1        x2        x3   x4        x5  \\\n",
       "0     0.000000  0.000000  1.840000  0.000000  0.000000  0.0  0.000000   \n",
       "1     0.000000  0.000000  1.840000  0.000000  0.000000  0.0  0.000000   \n",
       "2     0.000000  0.000000  1.840000  0.000000  0.000000  0.0  0.000000   \n",
       "3     0.000000  0.000000  1.840003  0.000000  0.000000  0.0  0.000000   \n",
       "4     0.000000  0.000000  1.840000  0.000000  0.000000  0.0  0.000000   \n",
       "...        ...       ...       ...       ...       ...  ...       ...   \n",
       "5195  7.253233 -5.276293  1.905993 -0.053621 -2.001007  0.0  0.134582   \n",
       "5196  7.247940 -5.365687  1.905333 -0.053764 -2.001709  0.0  0.136535   \n",
       "5197  7.242662 -5.445792  1.904680 -0.053906 -2.002380  0.0  0.138277   \n",
       "5198  7.237442 -5.517153  1.904029 -0.054046 -2.003083  0.0  0.139800   \n",
       "5199  7.232235 -5.579827  1.903381 -0.054184 -2.003754  0.0  0.141078   \n",
       "\n",
       "            x6  \n",
       "0     0.000000  \n",
       "1     0.000000  \n",
       "2     0.000000  \n",
       "3     0.000000  \n",
       "4     0.000000  \n",
       "...        ...  \n",
       "5195  0.007803  \n",
       "5196  0.007076  \n",
       "5197  0.006340  \n",
       "5198  0.005598  \n",
       "5199  0.004849  \n",
       "\n",
       "[5200 rows x 27 columns]"
      ]
     },
     "metadata": {},
     "output_type": "display_data"
    }
   ],
   "source": [
    "import pandas as pd\n",
    "import numpy as np\n",
    "import matplotlib.pyplot as plt\n",
    "np.set_printoptions(formatter={'float': lambda x: \"{0:0.3f}\".format(x)})\n",
    "df = pd.read_csv(\"Simulation_data.csv\")\n",
    "display(df)"
   ]
  },
  {
   "cell_type": "code",
   "execution_count": 7,
   "id": "private-anger",
   "metadata": {},
   "outputs": [
    {
     "data": {
      "text/plain": [
       "1.5758323669433594"
      ]
     },
     "execution_count": 7,
     "metadata": {},
     "output_type": "execute_result"
    }
   ],
   "source": [
    "df[\"u1\"][1205]"
   ]
  },
  {
   "cell_type": "code",
   "execution_count": 8,
   "id": "short-netherlands",
   "metadata": {},
   "outputs": [
    {
     "data": {
      "text/plain": [
       "0.0001285430043935999"
      ]
     },
     "execution_count": 8,
     "metadata": {},
     "output_type": "execute_result"
    }
   ],
   "source": [
    "(df[\"ang_vel_roll\"][1600]-df[\"ang_vel_roll\"][1400])"
   ]
  },
  {
   "cell_type": "code",
   "execution_count": 9,
   "id": "exterior-shannon",
   "metadata": {},
   "outputs": [
    {
     "data": {
      "text/html": [
       "<div>\n",
       "<style scoped>\n",
       "    .dataframe tbody tr th:only-of-type {\n",
       "        vertical-align: middle;\n",
       "    }\n",
       "\n",
       "    .dataframe tbody tr th {\n",
       "        vertical-align: top;\n",
       "    }\n",
       "\n",
       "    .dataframe thead th {\n",
       "        text-align: right;\n",
       "    }\n",
       "</style>\n",
       "<table border=\"1\" class=\"dataframe\">\n",
       "  <thead>\n",
       "    <tr style=\"text-align: right;\">\n",
       "      <th></th>\n",
       "      <th>acc_x</th>\n",
       "      <th>acc_y</th>\n",
       "      <th>acc_z</th>\n",
       "      <th>vel_x</th>\n",
       "      <th>vel_y</th>\n",
       "      <th>vel_z</th>\n",
       "      <th>ang_acc_roll</th>\n",
       "      <th>ang_acc_pitch</th>\n",
       "      <th>ang_acc_yaw</th>\n",
       "      <th>ang_vel_roll</th>\n",
       "      <th>ang_vel_pitch</th>\n",
       "      <th>ang_vel_yaw</th>\n",
       "      <th>x</th>\n",
       "      <th>y</th>\n",
       "      <th>z</th>\n",
       "      <th>roll</th>\n",
       "      <th>pitch</th>\n",
       "      <th>yaw</th>\n",
       "      <th>u1</th>\n",
       "      <th>u2</th>\n",
       "      <th>u3</th>\n",
       "      <th>x1</th>\n",
       "      <th>x2</th>\n",
       "      <th>x3</th>\n",
       "      <th>x4</th>\n",
       "      <th>x5</th>\n",
       "      <th>x6</th>\n",
       "    </tr>\n",
       "  </thead>\n",
       "  <tbody>\n",
       "    <tr>\n",
       "      <th>0</th>\n",
       "      <td>0.000000</td>\n",
       "      <td>0.00000</td>\n",
       "      <td>0.0</td>\n",
       "      <td>0.000000</td>\n",
       "      <td>0.000000</td>\n",
       "      <td>0.0</td>\n",
       "      <td>0.0</td>\n",
       "      <td>0.0</td>\n",
       "      <td>0.0</td>\n",
       "      <td>0.0</td>\n",
       "      <td>0.0</td>\n",
       "      <td>0.0</td>\n",
       "      <td>0.0</td>\n",
       "      <td>0.0</td>\n",
       "      <td>-28.0</td>\n",
       "      <td>0.0</td>\n",
       "      <td>0.0</td>\n",
       "      <td>-19.999989</td>\n",
       "      <td>0.0</td>\n",
       "      <td>0.0</td>\n",
       "      <td>0.0</td>\n",
       "      <td>1.840000</td>\n",
       "      <td>0.0</td>\n",
       "      <td>0.0</td>\n",
       "      <td>0.0</td>\n",
       "      <td>0.0</td>\n",
       "      <td>0.0</td>\n",
       "    </tr>\n",
       "    <tr>\n",
       "      <th>1</th>\n",
       "      <td>1.879385</td>\n",
       "      <td>-0.68404</td>\n",
       "      <td>0.0</td>\n",
       "      <td>0.009397</td>\n",
       "      <td>-0.003420</td>\n",
       "      <td>0.0</td>\n",
       "      <td>0.0</td>\n",
       "      <td>0.0</td>\n",
       "      <td>0.0</td>\n",
       "      <td>0.0</td>\n",
       "      <td>0.0</td>\n",
       "      <td>0.0</td>\n",
       "      <td>0.0</td>\n",
       "      <td>0.0</td>\n",
       "      <td>-28.0</td>\n",
       "      <td>0.0</td>\n",
       "      <td>0.0</td>\n",
       "      <td>-19.999989</td>\n",
       "      <td>0.0</td>\n",
       "      <td>0.0</td>\n",
       "      <td>0.0</td>\n",
       "      <td>1.840000</td>\n",
       "      <td>0.0</td>\n",
       "      <td>0.0</td>\n",
       "      <td>0.0</td>\n",
       "      <td>0.0</td>\n",
       "      <td>0.0</td>\n",
       "    </tr>\n",
       "    <tr>\n",
       "      <th>2</th>\n",
       "      <td>1.879385</td>\n",
       "      <td>-0.68404</td>\n",
       "      <td>0.0</td>\n",
       "      <td>0.018794</td>\n",
       "      <td>-0.006840</td>\n",
       "      <td>0.0</td>\n",
       "      <td>0.0</td>\n",
       "      <td>0.0</td>\n",
       "      <td>0.0</td>\n",
       "      <td>0.0</td>\n",
       "      <td>0.0</td>\n",
       "      <td>0.0</td>\n",
       "      <td>0.0</td>\n",
       "      <td>0.0</td>\n",
       "      <td>-28.0</td>\n",
       "      <td>0.0</td>\n",
       "      <td>0.0</td>\n",
       "      <td>-19.999989</td>\n",
       "      <td>0.0</td>\n",
       "      <td>0.0</td>\n",
       "      <td>0.0</td>\n",
       "      <td>1.840000</td>\n",
       "      <td>0.0</td>\n",
       "      <td>0.0</td>\n",
       "      <td>0.0</td>\n",
       "      <td>0.0</td>\n",
       "      <td>0.0</td>\n",
       "    </tr>\n",
       "    <tr>\n",
       "      <th>3</th>\n",
       "      <td>1.879385</td>\n",
       "      <td>-0.68404</td>\n",
       "      <td>0.0</td>\n",
       "      <td>0.028191</td>\n",
       "      <td>-0.010261</td>\n",
       "      <td>0.0</td>\n",
       "      <td>0.0</td>\n",
       "      <td>0.0</td>\n",
       "      <td>0.0</td>\n",
       "      <td>0.0</td>\n",
       "      <td>0.0</td>\n",
       "      <td>0.0</td>\n",
       "      <td>0.0</td>\n",
       "      <td>0.0</td>\n",
       "      <td>-28.0</td>\n",
       "      <td>0.0</td>\n",
       "      <td>0.0</td>\n",
       "      <td>-19.999989</td>\n",
       "      <td>0.0</td>\n",
       "      <td>0.0</td>\n",
       "      <td>0.0</td>\n",
       "      <td>1.840003</td>\n",
       "      <td>0.0</td>\n",
       "      <td>0.0</td>\n",
       "      <td>0.0</td>\n",
       "      <td>0.0</td>\n",
       "      <td>0.0</td>\n",
       "    </tr>\n",
       "    <tr>\n",
       "      <th>4</th>\n",
       "      <td>1.879385</td>\n",
       "      <td>-0.68404</td>\n",
       "      <td>0.0</td>\n",
       "      <td>0.037588</td>\n",
       "      <td>-0.013681</td>\n",
       "      <td>0.0</td>\n",
       "      <td>0.0</td>\n",
       "      <td>0.0</td>\n",
       "      <td>0.0</td>\n",
       "      <td>0.0</td>\n",
       "      <td>0.0</td>\n",
       "      <td>0.0</td>\n",
       "      <td>0.0</td>\n",
       "      <td>0.0</td>\n",
       "      <td>-28.0</td>\n",
       "      <td>0.0</td>\n",
       "      <td>0.0</td>\n",
       "      <td>-19.999989</td>\n",
       "      <td>0.0</td>\n",
       "      <td>0.0</td>\n",
       "      <td>0.0</td>\n",
       "      <td>1.840000</td>\n",
       "      <td>0.0</td>\n",
       "      <td>0.0</td>\n",
       "      <td>0.0</td>\n",
       "      <td>0.0</td>\n",
       "      <td>0.0</td>\n",
       "    </tr>\n",
       "  </tbody>\n",
       "</table>\n",
       "</div>"
      ],
      "text/plain": [
       "      acc_x    acc_y  acc_z     vel_x     vel_y  vel_z  ang_acc_roll  \\\n",
       "0  0.000000  0.00000    0.0  0.000000  0.000000    0.0           0.0   \n",
       "1  1.879385 -0.68404    0.0  0.009397 -0.003420    0.0           0.0   \n",
       "2  1.879385 -0.68404    0.0  0.018794 -0.006840    0.0           0.0   \n",
       "3  1.879385 -0.68404    0.0  0.028191 -0.010261    0.0           0.0   \n",
       "4  1.879385 -0.68404    0.0  0.037588 -0.013681    0.0           0.0   \n",
       "\n",
       "   ang_acc_pitch  ang_acc_yaw  ang_vel_roll  ang_vel_pitch  ang_vel_yaw    x  \\\n",
       "0            0.0          0.0           0.0            0.0          0.0  0.0   \n",
       "1            0.0          0.0           0.0            0.0          0.0  0.0   \n",
       "2            0.0          0.0           0.0            0.0          0.0  0.0   \n",
       "3            0.0          0.0           0.0            0.0          0.0  0.0   \n",
       "4            0.0          0.0           0.0            0.0          0.0  0.0   \n",
       "\n",
       "     y     z  roll  pitch        yaw   u1   u2   u3        x1   x2   x3   x4  \\\n",
       "0  0.0 -28.0   0.0    0.0 -19.999989  0.0  0.0  0.0  1.840000  0.0  0.0  0.0   \n",
       "1  0.0 -28.0   0.0    0.0 -19.999989  0.0  0.0  0.0  1.840000  0.0  0.0  0.0   \n",
       "2  0.0 -28.0   0.0    0.0 -19.999989  0.0  0.0  0.0  1.840000  0.0  0.0  0.0   \n",
       "3  0.0 -28.0   0.0    0.0 -19.999989  0.0  0.0  0.0  1.840003  0.0  0.0  0.0   \n",
       "4  0.0 -28.0   0.0    0.0 -19.999989  0.0  0.0  0.0  1.840000  0.0  0.0  0.0   \n",
       "\n",
       "    x5   x6  \n",
       "0  0.0  0.0  \n",
       "1  0.0  0.0  \n",
       "2  0.0  0.0  \n",
       "3  0.0  0.0  \n",
       "4  0.0  0.0  "
      ]
     },
     "execution_count": 9,
     "metadata": {},
     "output_type": "execute_result"
    }
   ],
   "source": [
    "pd.set_option('display.max_columns', None)\n",
    "df.head()"
   ]
  },
  {
   "cell_type": "markdown",
   "id": "stone-directive",
   "metadata": {},
   "source": [
    "# State space representation"
   ]
  },
  {
   "cell_type": "markdown",
   "id": "automated-parcel",
   "metadata": {},
   "source": [
    "#### Define symbols"
   ]
  },
  {
   "cell_type": "code",
   "execution_count": 2,
   "id": "loved-advancement",
   "metadata": {},
   "outputs": [],
   "source": [
    "import sympy as sy\n",
    "from sympy import *\n",
    "m, g, theta, rho, Vol, S1, S2, S3, S4, u, x1, x2, x3, x4, x5, x6, dh1,dh2, dr1,dr2,dp1,dp2 = symbols(\"m g theta rho Vol S1 S2 S3 S4 u x1 x2 x3 x4 x5 x6 dh1 dh2 dr1 dr2 dp1 dp2\")\n",
    "u1, u2, u3, r1, Iyx, Ixz, Iyz, Zw, xG, dg, db, d1, d2, d3, d4 = symbols (\"u1 u2 u3 r1 Iyx Ixz Iyz Zw xG dg db d1 d2 d3 d4\")\n",
    "x2d, x4d, x6d, Ix, Kp, Ixy, Iy, Mq = symbols(\"x2d x4d x6d Ix Kp Ixy Iy Mq\")"
   ]
  },
  {
   "cell_type": "code",
   "execution_count": null,
   "id": "actual-ordering",
   "metadata": {},
   "outputs": [],
   "source": []
  },
  {
   "cell_type": "markdown",
   "id": "chief-giant",
   "metadata": {},
   "source": [
    "#### Force equations"
   ]
  },
  {
   "cell_type": "code",
   "execution_count": 3,
   "id": "proved-honor",
   "metadata": {},
   "outputs": [],
   "source": [
    "#Heave equation\n",
    "damping_h = dh1*x2+dh2*x2d\n",
    "F1 = -damping_h -m*g*cos(x5) + rho*Vol*g*cos(x5) + 2*(1/2*rho*1/8*x5*S1*(x2**2+u**2) + 1/2*rho*1/8*x5*S3*(x2**2+u**2)+1/2*rho*1/8*(x5-u3)*S4*(x2**2+u**2)) + 1/2*rho*1/8*(x5-u1)*S2*(x2**2+u**2)+1/2*rho*1/8*(x5-u2)*S2*(x2**2+u**2) - u*m*x6\n",
    "#Roll equation\n",
    "damping_r = dr1*x4+dr2*x4d\n",
    "F2 = -damping_r + 1/2*rho*1/8*(x5-u1)*S2*(x2**2+u**2)*r1 - 1/2*rho*1/8*(x5-u2)*S2*(x2**2+u**2)*r1 + x6*(Iyx*x6-Ixz*x4)\n",
    "#Pitch equation\n",
    "damping_p = dp1*x6+dp2*x6d\n",
    "F3 = -damping_p -m*g*dg*cos(x5) + db*rho*Vol*g*cos(x5) + 2*1/2*rho*1/8*x5*S1*(x2**2+u**2)*d1 + 1/2*rho*1/8*(x5-u1)*S2*(x2**2+u**2)*d2 + 1/2*rho*1/8*(x5-u2)*S2*(x2**2+u**2)*d2 + 2*1/2*rho*1/8*x5*S3*(x2**2+u**2)*d3 + 2*1/2*rho*1/8*(x5-u3)*S4*(x2**2+u**2)*d4 + u*m*xG*x6 + x4*(Iyz*x6+Ixz*x4)+Zw*x2*u"
   ]
  },
  {
   "cell_type": "code",
   "execution_count": 4,
   "id": "saved-halifax",
   "metadata": {},
   "outputs": [],
   "source": [
    "#Heave equation\n",
    "damping_h = -dh1*x2-dh2*(x2**2)\n",
    "F1 = damping_h -m*g*sin(x5) + rho*Vol*g*sin(x5) + 2*(1/2*rho*1/8*x5*S1*(x2**2+u**2) + 1/2*rho*1/8*x5*S3*(x2**2+u**2)+1/2*rho*1/8*(x5-u3)*S4*(x2**2+u**2)) + 1/2*rho*1/8*(x5-u1)*S2*(x2**2+u**2)+1/2*rho*1/8*(x5-u2)*S2*(x2**2+u**2) - u*m*x6\n",
    "#Roll equation\n",
    "damping_r = -dr1*x4-dr2*(x4**2)\n",
    "F2 = damping_r + 1/2*rho*1/8*(x5-u1)*S2*(x2**2+u**2)*r1 - 1/2*rho*1/8*(x5-u2)*S2*(x2**2+u**2)*r1 + x6*(Iyx*x6-Ixz*x4)\n",
    "#Pitch equation\n",
    "damping_p = -dp1*x6-dp2*(x6**2)\n",
    "F3 = damping_p -m*g*dg*sin(x5) + db*rho*Vol*g*sin(x5) + 2*1/2*rho*1/8*x5*S1*(x2**2+u**2)*d1 + 1/2*rho*1/8*(x5-u1)*S2*(x2**2+u**2)*d2 + 1/2*rho*1/8*(x5-u2)*S2*(x2**2+u**2)*d2 + 2*1/2*rho*1/8*x5*S3*(x2**2+u**2)*d3 + 2*1/2*rho*1/8*(x5-u3)*S4*(x2**2+u**2)*d4 + u*m*xG*x6 + x4*(Iyz*x6+Ixz*x4)+Zw*x2*u"
   ]
  },
  {
   "cell_type": "markdown",
   "id": "fantastic-diamond",
   "metadata": {},
   "source": [
    "#### M*a equations"
   ]
  },
  {
   "cell_type": "code",
   "execution_count": 5,
   "id": "recognized-galaxy",
   "metadata": {},
   "outputs": [],
   "source": [
    "#Heave mass-acceleration product\n",
    "Ma1 = x2d*(m+Zw) - x6d*m*xG\n",
    "#Roll mass-acceleration product\n",
    "Ma2 = x4d*(Ix+Kp) - x6d*Ixy\n",
    "#Pitch mass-acceleration product\n",
    "Ma3 = -x2d*m*xG - x4d*Ixy + x6d*(Iy+Mq)\n",
    "\n",
    "#Define equations\n",
    "eq1 = sy.Eq(F1, Ma1)\n",
    "eq2 = sy.Eq(F2, Ma2)\n",
    "eq3 = sy.Eq(F3, Ma3)"
   ]
  },
  {
   "cell_type": "markdown",
   "id": "public-credits",
   "metadata": {},
   "source": [
    "#### Solving for x2d, x4d and x6d - little slow"
   ]
  },
  {
   "cell_type": "code",
   "execution_count": 42,
   "id": "bearing-tactics",
   "metadata": {},
   "outputs": [
    {
     "name": "stdout",
     "output_type": "stream",
     "text": [
      "---------------------------------------------X2D-------------------------------------------\n",
      "(x2d, -16.0*Ix*Ixz*m*x4**2*xG/(-16.0*Ix*Iy*Zw - 16.0*Ix*Iy*m - 16.0*Ix*Mq*Zw - 16.0*Ix*Mq*m + 16.0*Ix*m**2*xG**2 + 16.0*Ixy**2*Zw + 16.0*Ixy**2*m - 16.0*Iy*Kp*Zw - 16.0*Iy*Kp*m - 16.0*Kp*Mq*Zw - 16.0*Kp*Mq*m + 16.0*Kp*m**2*xG**2) - 2.0*Ix*Iy*S1*rho*u**2*x5/(-16.0*Ix*Iy*Zw - 16.0*Ix*Iy*m - 16.0*Ix*Mq*Zw - 16.0*Ix*Mq*m + 16.0*Ix*m**2*xG**2 + 16.0*Ixy**2*Zw + 16.0*Ixy**2*m - 16.0*Iy*Kp*Zw - 16.0*Iy*Kp*m - 16.0*Kp*Mq*Zw - 16.0*Kp*Mq*m + 16.0*Kp*m**2*xG**2) - 2.0*Ix*Iy*S1*rho*x2**2*x5/(-16.0*Ix*Iy*Zw - 16.0*Ix*Iy*m - 16.0*Ix*Mq*Zw - 16.0*Ix*Mq*m + 16.0*Ix*m**2*xG**2 + 16.0*Ixy**2*Zw + 16.0*Ixy**2*m - 16.0*Iy*Kp*Zw - 16.0*Iy*Kp*m - 16.0*Kp*Mq*Zw - 16.0*Kp*Mq*m + 16.0*Kp*m**2*xG**2) + Ix*Iy*S2*rho*u**2*u1/(-16.0*Ix*Iy*Zw - 16.0*Ix*Iy*m - 16.0*Ix*Mq*Zw - 16.0*Ix*Mq*m + 16.0*Ix*m**2*xG**2 + 16.0*Ixy**2*Zw + 16.0*Ixy**2*m - 16.0*Iy*Kp*Zw - 16.0*Iy*Kp*m - 16.0*Kp*Mq*Zw - 16.0*Kp*Mq*m + 16.0*Kp*m**2*xG**2) + Ix*Iy*S2*rho*u**2*u2/(-16.0*Ix*Iy*Zw - 16.0*Ix*Iy*m - 16.0*Ix*Mq*Zw - 16.0*Ix*Mq*m + 16.0*Ix*m**2*xG**2 + 16.0*Ixy**2*Zw + 16.0*Ixy**2*m - 16.0*Iy*Kp*Zw - 16.0*Iy*Kp*m - 16.0*Kp*Mq*Zw - 16.0*Kp*Mq*m + 16.0*Kp*m**2*xG**2) - 2.0*Ix*Iy*S2*rho*u**2*x5/(-16.0*Ix*Iy*Zw - 16.0*Ix*Iy*m - 16.0*Ix*Mq*Zw - 16.0*Ix*Mq*m + 16.0*Ix*m**2*xG**2 + 16.0*Ixy**2*Zw + 16.0*Ixy**2*m - 16.0*Iy*Kp*Zw - 16.0*Iy*Kp*m - 16.0*Kp*Mq*Zw - 16.0*Kp*Mq*m + 16.0*Kp*m**2*xG**2) + Ix*Iy*S2*rho*u1*x2**2/(-16.0*Ix*Iy*Zw - 16.0*Ix*Iy*m - 16.0*Ix*Mq*Zw - 16.0*Ix*Mq*m + 16.0*Ix*m**2*xG**2 + 16.0*Ixy**2*Zw + 16.0*Ixy**2*m - 16.0*Iy*Kp*Zw - 16.0*Iy*Kp*m - 16.0*Kp*Mq*Zw - 16.0*Kp*Mq*m + 16.0*Kp*m**2*xG**2) + Ix*Iy*S2*rho*u2*x2**2/(-16.0*Ix*Iy*Zw - 16.0*Ix*Iy*m - 16.0*Ix*Mq*Zw - 16.0*Ix*Mq*m + 16.0*Ix*m**2*xG**2 + 16.0*Ixy**2*Zw + 16.0*Ixy**2*m - 16.0*Iy*Kp*Zw - 16.0*Iy*Kp*m - 16.0*Kp*Mq*Zw - 16.0*Kp*Mq*m + 16.0*Kp*m**2*xG**2) - 2.0*Ix*Iy*S2*rho*x2**2*x5/(-16.0*Ix*Iy*Zw - 16.0*Ix*Iy*m - 16.0*Ix*Mq*Zw - 16.0*Ix*Mq*m + 16.0*Ix*m**2*xG**2 + 16.0*Ixy**2*Zw + 16.0*Ixy**2*m - 16.0*Iy*Kp*Zw - 16.0*Iy*Kp*m - 16.0*Kp*Mq*Zw - 16.0*Kp*Mq*m + 16.0*Kp*m**2*xG**2) - 2.0*Ix*Iy*S3*rho*u**2*x5/(-16.0*Ix*Iy*Zw - 16.0*Ix*Iy*m - 16.0*Ix*Mq*Zw - 16.0*Ix*Mq*m + 16.0*Ix*m**2*xG**2 + 16.0*Ixy**2*Zw + 16.0*Ixy**2*m - 16.0*Iy*Kp*Zw - 16.0*Iy*Kp*m - 16.0*Kp*Mq*Zw - 16.0*Kp*Mq*m + 16.0*Kp*m**2*xG**2) - 2.0*Ix*Iy*S3*rho*x2**2*x5/(-16.0*Ix*Iy*Zw - 16.0*Ix*Iy*m - 16.0*Ix*Mq*Zw - 16.0*Ix*Mq*m + 16.0*Ix*m**2*xG**2 + 16.0*Ixy**2*Zw + 16.0*Ixy**2*m - 16.0*Iy*Kp*Zw - 16.0*Iy*Kp*m - 16.0*Kp*Mq*Zw - 16.0*Kp*Mq*m + 16.0*Kp*m**2*xG**2) + 2.0*Ix*Iy*S4*rho*u**2*u3/(-16.0*Ix*Iy*Zw - 16.0*Ix*Iy*m - 16.0*Ix*Mq*Zw - 16.0*Ix*Mq*m + 16.0*Ix*m**2*xG**2 + 16.0*Ixy**2*Zw + 16.0*Ixy**2*m - 16.0*Iy*Kp*Zw - 16.0*Iy*Kp*m - 16.0*Kp*Mq*Zw - 16.0*Kp*Mq*m + 16.0*Kp*m**2*xG**2) - 2.0*Ix*Iy*S4*rho*u**2*x5/(-16.0*Ix*Iy*Zw - 16.0*Ix*Iy*m - 16.0*Ix*Mq*Zw - 16.0*Ix*Mq*m + 16.0*Ix*m**2*xG**2 + 16.0*Ixy**2*Zw + 16.0*Ixy**2*m - 16.0*Iy*Kp*Zw - 16.0*Iy*Kp*m - 16.0*Kp*Mq*Zw - 16.0*Kp*Mq*m + 16.0*Kp*m**2*xG**2) + 2.0*Ix*Iy*S4*rho*u3*x2**2/(-16.0*Ix*Iy*Zw - 16.0*Ix*Iy*m - 16.0*Ix*Mq*Zw - 16.0*Ix*Mq*m + 16.0*Ix*m**2*xG**2 + 16.0*Ixy**2*Zw + 16.0*Ixy**2*m - 16.0*Iy*Kp*Zw - 16.0*Iy*Kp*m - 16.0*Kp*Mq*Zw - 16.0*Kp*Mq*m + 16.0*Kp*m**2*xG**2) - 2.0*Ix*Iy*S4*rho*x2**2*x5/(-16.0*Ix*Iy*Zw - 16.0*Ix*Iy*m - 16.0*Ix*Mq*Zw - 16.0*Ix*Mq*m + 16.0*Ix*m**2*xG**2 + 16.0*Ixy**2*Zw + 16.0*Ixy**2*m - 16.0*Iy*Kp*Zw - 16.0*Iy*Kp*m - 16.0*Kp*Mq*Zw - 16.0*Kp*Mq*m + 16.0*Kp*m**2*xG**2) - 16.0*Ix*Iy*Vol*g*rho*sin(x5)/(-16.0*Ix*Iy*Zw - 16.0*Ix*Iy*m - 16.0*Ix*Mq*Zw - 16.0*Ix*Mq*m + 16.0*Ix*m**2*xG**2 + 16.0*Ixy**2*Zw + 16.0*Ixy**2*m - 16.0*Iy*Kp*Zw - 16.0*Iy*Kp*m - 16.0*Kp*Mq*Zw - 16.0*Kp*Mq*m + 16.0*Kp*m**2*xG**2) + 16.0*Ix*Iy*dh1*x2/(-16.0*Ix*Iy*Zw - 16.0*Ix*Iy*m - 16.0*Ix*Mq*Zw - 16.0*Ix*Mq*m + 16.0*Ix*m**2*xG**2 + 16.0*Ixy**2*Zw + 16.0*Ixy**2*m - 16.0*Iy*Kp*Zw - 16.0*Iy*Kp*m - 16.0*Kp*Mq*Zw - 16.0*Kp*Mq*m + 16.0*Kp*m**2*xG**2) + 16.0*Ix*Iy*dh2*x2**2/(-16.0*Ix*Iy*Zw - 16.0*Ix*Iy*m - 16.0*Ix*Mq*Zw - 16.0*Ix*Mq*m + 16.0*Ix*m**2*xG**2 + 16.0*Ixy**2*Zw + 16.0*Ixy**2*m - 16.0*Iy*Kp*Zw - 16.0*Iy*Kp*m - 16.0*Kp*Mq*Zw - 16.0*Kp*Mq*m + 16.0*Kp*m**2*xG**2) + 16.0*Ix*Iy*g*m*sin(x5)/(-16.0*Ix*Iy*Zw - 16.0*Ix*Iy*m - 16.0*Ix*Mq*Zw - 16.0*Ix*Mq*m + 16.0*Ix*m**2*xG**2 + 16.0*Ixy**2*Zw + 16.0*Ixy**2*m - 16.0*Iy*Kp*Zw - 16.0*Iy*Kp*m - 16.0*Kp*Mq*Zw - 16.0*Kp*Mq*m + 16.0*Kp*m**2*xG**2) + 16.0*Ix*Iy*m*u*x6/(-16.0*Ix*Iy*Zw - 16.0*Ix*Iy*m - 16.0*Ix*Mq*Zw - 16.0*Ix*Mq*m + 16.0*Ix*m**2*xG**2 + 16.0*Ixy**2*Zw + 16.0*Ixy**2*m - 16.0*Iy*Kp*Zw - 16.0*Iy*Kp*m - 16.0*Kp*Mq*Zw - 16.0*Kp*Mq*m + 16.0*Kp*m**2*xG**2) - 16.0*Ix*Iyz*m*x4*x6*xG/(-16.0*Ix*Iy*Zw - 16.0*Ix*Iy*m - 16.0*Ix*Mq*Zw - 16.0*Ix*Mq*m + 16.0*Ix*m**2*xG**2 + 16.0*Ixy**2*Zw + 16.0*Ixy**2*m - 16.0*Iy*Kp*Zw - 16.0*Iy*Kp*m - 16.0*Kp*Mq*Zw - 16.0*Kp*Mq*m + 16.0*Kp*m**2*xG**2) - 2.0*Ix*Mq*S1*rho*u**2*x5/(-16.0*Ix*Iy*Zw - 16.0*Ix*Iy*m - 16.0*Ix*Mq*Zw - 16.0*Ix*Mq*m + 16.0*Ix*m**2*xG**2 + 16.0*Ixy**2*Zw + 16.0*Ixy**2*m - 16.0*Iy*Kp*Zw - 16.0*Iy*Kp*m - 16.0*Kp*Mq*Zw - 16.0*Kp*Mq*m + 16.0*Kp*m**2*xG**2) - 2.0*Ix*Mq*S1*rho*x2**2*x5/(-16.0*Ix*Iy*Zw - 16.0*Ix*Iy*m - 16.0*Ix*Mq*Zw - 16.0*Ix*Mq*m + 16.0*Ix*m**2*xG**2 + 16.0*Ixy**2*Zw + 16.0*Ixy**2*m - 16.0*Iy*Kp*Zw - 16.0*Iy*Kp*m - 16.0*Kp*Mq*Zw - 16.0*Kp*Mq*m + 16.0*Kp*m**2*xG**2) + Ix*Mq*S2*rho*u**2*u1/(-16.0*Ix*Iy*Zw - 16.0*Ix*Iy*m - 16.0*Ix*Mq*Zw - 16.0*Ix*Mq*m + 16.0*Ix*m**2*xG**2 + 16.0*Ixy**2*Zw + 16.0*Ixy**2*m - 16.0*Iy*Kp*Zw - 16.0*Iy*Kp*m - 16.0*Kp*Mq*Zw - 16.0*Kp*Mq*m + 16.0*Kp*m**2*xG**2) + Ix*Mq*S2*rho*u**2*u2/(-16.0*Ix*Iy*Zw - 16.0*Ix*Iy*m - 16.0*Ix*Mq*Zw - 16.0*Ix*Mq*m + 16.0*Ix*m**2*xG**2 + 16.0*Ixy**2*Zw + 16.0*Ixy**2*m - 16.0*Iy*Kp*Zw - 16.0*Iy*Kp*m - 16.0*Kp*Mq*Zw - 16.0*Kp*Mq*m + 16.0*Kp*m**2*xG**2) - 2.0*Ix*Mq*S2*rho*u**2*x5/(-16.0*Ix*Iy*Zw - 16.0*Ix*Iy*m - 16.0*Ix*Mq*Zw - 16.0*Ix*Mq*m + 16.0*Ix*m**2*xG**2 + 16.0*Ixy**2*Zw + 16.0*Ixy**2*m - 16.0*Iy*Kp*Zw - 16.0*Iy*Kp*m - 16.0*Kp*Mq*Zw - 16.0*Kp*Mq*m + 16.0*Kp*m**2*xG**2) + Ix*Mq*S2*rho*u1*x2**2/(-16.0*Ix*Iy*Zw - 16.0*Ix*Iy*m - 16.0*Ix*Mq*Zw - 16.0*Ix*Mq*m + 16.0*Ix*m**2*xG**2 + 16.0*Ixy**2*Zw + 16.0*Ixy**2*m - 16.0*Iy*Kp*Zw - 16.0*Iy*Kp*m - 16.0*Kp*Mq*Zw - 16.0*Kp*Mq*m + 16.0*Kp*m**2*xG**2) + Ix*Mq*S2*rho*u2*x2**2/(-16.0*Ix*Iy*Zw - 16.0*Ix*Iy*m - 16.0*Ix*Mq*Zw - 16.0*Ix*Mq*m + 16.0*Ix*m**2*xG**2 + 16.0*Ixy**2*Zw + 16.0*Ixy**2*m - 16.0*Iy*Kp*Zw - 16.0*Iy*Kp*m - 16.0*Kp*Mq*Zw - 16.0*Kp*Mq*m + 16.0*Kp*m**2*xG**2) - 2.0*Ix*Mq*S2*rho*x2**2*x5/(-16.0*Ix*Iy*Zw - 16.0*Ix*Iy*m - 16.0*Ix*Mq*Zw - 16.0*Ix*Mq*m + 16.0*Ix*m**2*xG**2 + 16.0*Ixy**2*Zw + 16.0*Ixy**2*m - 16.0*Iy*Kp*Zw - 16.0*Iy*Kp*m - 16.0*Kp*Mq*Zw - 16.0*Kp*Mq*m + 16.0*Kp*m**2*xG**2) - 2.0*Ix*Mq*S3*rho*u**2*x5/(-16.0*Ix*Iy*Zw - 16.0*Ix*Iy*m - 16.0*Ix*Mq*Zw - 16.0*Ix*Mq*m + 16.0*Ix*m**2*xG**2 + 16.0*Ixy**2*Zw + 16.0*Ixy**2*m - 16.0*Iy*Kp*Zw - 16.0*Iy*Kp*m - 16.0*Kp*Mq*Zw - 16.0*Kp*Mq*m + 16.0*Kp*m**2*xG**2) - 2.0*Ix*Mq*S3*rho*x2**2*x5/(-16.0*Ix*Iy*Zw - 16.0*Ix*Iy*m - 16.0*Ix*Mq*Zw - 16.0*Ix*Mq*m + 16.0*Ix*m**2*xG**2 + 16.0*Ixy**2*Zw + 16.0*Ixy**2*m - 16.0*Iy*Kp*Zw - 16.0*Iy*Kp*m - 16.0*Kp*Mq*Zw - 16.0*Kp*Mq*m + 16.0*Kp*m**2*xG**2) + 2.0*Ix*Mq*S4*rho*u**2*u3/(-16.0*Ix*Iy*Zw - 16.0*Ix*Iy*m - 16.0*Ix*Mq*Zw - 16.0*Ix*Mq*m + 16.0*Ix*m**2*xG**2 + 16.0*Ixy**2*Zw + 16.0*Ixy**2*m - 16.0*Iy*Kp*Zw - 16.0*Iy*Kp*m - 16.0*Kp*Mq*Zw - 16.0*Kp*Mq*m + 16.0*Kp*m**2*xG**2) - 2.0*Ix*Mq*S4*rho*u**2*x5/(-16.0*Ix*Iy*Zw - 16.0*Ix*Iy*m - 16.0*Ix*Mq*Zw - 16.0*Ix*Mq*m + 16.0*Ix*m**2*xG**2 + 16.0*Ixy**2*Zw + 16.0*Ixy**2*m - 16.0*Iy*Kp*Zw - 16.0*Iy*Kp*m - 16.0*Kp*Mq*Zw - 16.0*Kp*Mq*m + 16.0*Kp*m**2*xG**2) + 2.0*Ix*Mq*S4*rho*u3*x2**2/(-16.0*Ix*Iy*Zw - 16.0*Ix*Iy*m - 16.0*Ix*Mq*Zw - 16.0*Ix*Mq*m + 16.0*Ix*m**2*xG**2 + 16.0*Ixy**2*Zw + 16.0*Ixy**2*m - 16.0*Iy*Kp*Zw - 16.0*Iy*Kp*m - 16.0*Kp*Mq*Zw - 16.0*Kp*Mq*m + 16.0*Kp*m**2*xG**2) - 2.0*Ix*Mq*S4*rho*x2**2*x5/(-16.0*Ix*Iy*Zw - 16.0*Ix*Iy*m - 16.0*Ix*Mq*Zw - 16.0*Ix*Mq*m + 16.0*Ix*m**2*xG**2 + 16.0*Ixy**2*Zw + 16.0*Ixy**2*m - 16.0*Iy*Kp*Zw - 16.0*Iy*Kp*m - 16.0*Kp*Mq*Zw - 16.0*Kp*Mq*m + 16.0*Kp*m**2*xG**2) - 16.0*Ix*Mq*Vol*g*rho*sin(x5)/(-16.0*Ix*Iy*Zw - 16.0*Ix*Iy*m - 16.0*Ix*Mq*Zw - 16.0*Ix*Mq*m + 16.0*Ix*m**2*xG**2 + 16.0*Ixy**2*Zw + 16.0*Ixy**2*m - 16.0*Iy*Kp*Zw - 16.0*Iy*Kp*m - 16.0*Kp*Mq*Zw - 16.0*Kp*Mq*m + 16.0*Kp*m**2*xG**2) + 16.0*Ix*Mq*dh1*x2/(-16.0*Ix*Iy*Zw - 16.0*Ix*Iy*m - 16.0*Ix*Mq*Zw - 16.0*Ix*Mq*m + 16.0*Ix*m**2*xG**2 + 16.0*Ixy**2*Zw + 16.0*Ixy**2*m - 16.0*Iy*Kp*Zw - 16.0*Iy*Kp*m - 16.0*Kp*Mq*Zw - 16.0*Kp*Mq*m + 16.0*Kp*m**2*xG**2) + 16.0*Ix*Mq*dh2*x2**2/(-16.0*Ix*Iy*Zw - 16.0*Ix*Iy*m - 16.0*Ix*Mq*Zw - 16.0*Ix*Mq*m + 16.0*Ix*m**2*xG**2 + 16.0*Ixy**2*Zw + 16.0*Ixy**2*m - 16.0*Iy*Kp*Zw - 16.0*Iy*Kp*m - 16.0*Kp*Mq*Zw - 16.0*Kp*Mq*m + 16.0*Kp*m**2*xG**2) + 16.0*Ix*Mq*g*m*sin(x5)/(-16.0*Ix*Iy*Zw - 16.0*Ix*Iy*m - 16.0*Ix*Mq*Zw - 16.0*Ix*Mq*m + 16.0*Ix*m**2*xG**2 + 16.0*Ixy**2*Zw + 16.0*Ixy**2*m - 16.0*Iy*Kp*Zw - 16.0*Iy*Kp*m - 16.0*Kp*Mq*Zw - 16.0*Kp*Mq*m + 16.0*Kp*m**2*xG**2) + 16.0*Ix*Mq*m*u*x6/(-16.0*Ix*Iy*Zw - 16.0*Ix*Iy*m - 16.0*Ix*Mq*Zw - 16.0*Ix*Mq*m + 16.0*Ix*m**2*xG**2 + 16.0*Ixy**2*Zw + 16.0*Ixy**2*m - 16.0*Iy*Kp*Zw - 16.0*Iy*Kp*m - 16.0*Kp*Mq*Zw - 16.0*Kp*Mq*m + 16.0*Kp*m**2*xG**2) - 2.0*Ix*S1*d1*m*rho*u**2*x5*xG/(-16.0*Ix*Iy*Zw - 16.0*Ix*Iy*m - 16.0*Ix*Mq*Zw - 16.0*Ix*Mq*m + 16.0*Ix*m**2*xG**2 + 16.0*Ixy**2*Zw + 16.0*Ixy**2*m - 16.0*Iy*Kp*Zw - 16.0*Iy*Kp*m - 16.0*Kp*Mq*Zw - 16.0*Kp*Mq*m + 16.0*Kp*m**2*xG**2) - 2.0*Ix*S1*d1*m*rho*x2**2*x5*xG/(-16.0*Ix*Iy*Zw - 16.0*Ix*Iy*m - 16.0*Ix*Mq*Zw - 16.0*Ix*Mq*m + 16.0*Ix*m**2*xG**2 + 16.0*Ixy**2*Zw + 16.0*Ixy**2*m - 16.0*Iy*Kp*Zw - 16.0*Iy*Kp*m - 16.0*Kp*Mq*Zw - 16.0*Kp*Mq*m + 16.0*Kp*m**2*xG**2) + Ix*S2*d2*m*rho*u**2*u1*xG/(-16.0*Ix*Iy*Zw - 16.0*Ix*Iy*m - 16.0*Ix*Mq*Zw - 16.0*Ix*Mq*m + 16.0*Ix*m**2*xG**2 + 16.0*Ixy**2*Zw + 16.0*Ixy**2*m - 16.0*Iy*Kp*Zw - 16.0*Iy*Kp*m - 16.0*Kp*Mq*Zw - 16.0*Kp*Mq*m + 16.0*Kp*m**2*xG**2) + Ix*S2*d2*m*rho*u**2*u2*xG/(-16.0*Ix*Iy*Zw - 16.0*Ix*Iy*m - 16.0*Ix*Mq*Zw - 16.0*Ix*Mq*m + 16.0*Ix*m**2*xG**2 + 16.0*Ixy**2*Zw + 16.0*Ixy**2*m - 16.0*Iy*Kp*Zw - 16.0*Iy*Kp*m - 16.0*Kp*Mq*Zw - 16.0*Kp*Mq*m + 16.0*Kp*m**2*xG**2) - 2.0*Ix*S2*d2*m*rho*u**2*x5*xG/(-16.0*Ix*Iy*Zw - 16.0*Ix*Iy*m - 16.0*Ix*Mq*Zw - 16.0*Ix*Mq*m + 16.0*Ix*m**2*xG**2 + 16.0*Ixy**2*Zw + 16.0*Ixy**2*m - 16.0*Iy*Kp*Zw - 16.0*Iy*Kp*m - 16.0*Kp*Mq*Zw - 16.0*Kp*Mq*m + 16.0*Kp*m**2*xG**2) + Ix*S2*d2*m*rho*u1*x2**2*xG/(-16.0*Ix*Iy*Zw - 16.0*Ix*Iy*m - 16.0*Ix*Mq*Zw - 16.0*Ix*Mq*m + 16.0*Ix*m**2*xG**2 + 16.0*Ixy**2*Zw + 16.0*Ixy**2*m - 16.0*Iy*Kp*Zw - 16.0*Iy*Kp*m - 16.0*Kp*Mq*Zw - 16.0*Kp*Mq*m + 16.0*Kp*m**2*xG**2) + Ix*S2*d2*m*rho*u2*x2**2*xG/(-16.0*Ix*Iy*Zw - 16.0*Ix*Iy*m - 16.0*Ix*Mq*Zw - 16.0*Ix*Mq*m + 16.0*Ix*m**2*xG**2 + 16.0*Ixy**2*Zw + 16.0*Ixy**2*m - 16.0*Iy*Kp*Zw - 16.0*Iy*Kp*m - 16.0*Kp*Mq*Zw - 16.0*Kp*Mq*m + 16.0*Kp*m**2*xG**2) - 2.0*Ix*S2*d2*m*rho*x2**2*x5*xG/(-16.0*Ix*Iy*Zw - 16.0*Ix*Iy*m - 16.0*Ix*Mq*Zw - 16.0*Ix*Mq*m + 16.0*Ix*m**2*xG**2 + 16.0*Ixy**2*Zw + 16.0*Ixy**2*m - 16.0*Iy*Kp*Zw - 16.0*Iy*Kp*m - 16.0*Kp*Mq*Zw - 16.0*Kp*Mq*m + 16.0*Kp*m**2*xG**2) - 2.0*Ix*S3*d3*m*rho*u**2*x5*xG/(-16.0*Ix*Iy*Zw - 16.0*Ix*Iy*m - 16.0*Ix*Mq*Zw - 16.0*Ix*Mq*m + 16.0*Ix*m**2*xG**2 + 16.0*Ixy**2*Zw + 16.0*Ixy**2*m - 16.0*Iy*Kp*Zw - 16.0*Iy*Kp*m - 16.0*Kp*Mq*Zw - 16.0*Kp*Mq*m + 16.0*Kp*m**2*xG**2) - 2.0*Ix*S3*d3*m*rho*x2**2*x5*xG/(-16.0*Ix*Iy*Zw - 16.0*Ix*Iy*m - 16.0*Ix*Mq*Zw - 16.0*Ix*Mq*m + 16.0*Ix*m**2*xG**2 + 16.0*Ixy**2*Zw + 16.0*Ixy**2*m - 16.0*Iy*Kp*Zw - 16.0*Iy*Kp*m - 16.0*Kp*Mq*Zw - 16.0*Kp*Mq*m + 16.0*Kp*m**2*xG**2) + 2.0*Ix*S4*d4*m*rho*u**2*u3*xG/(-16.0*Ix*Iy*Zw - 16.0*Ix*Iy*m - 16.0*Ix*Mq*Zw - 16.0*Ix*Mq*m + 16.0*Ix*m**2*xG**2 + 16.0*Ixy**2*Zw + 16.0*Ixy**2*m - 16.0*Iy*Kp*Zw - 16.0*Iy*Kp*m - 16.0*Kp*Mq*Zw - 16.0*Kp*Mq*m + 16.0*Kp*m**2*xG**2) - 2.0*Ix*S4*d4*m*rho*u**2*x5*xG/(-16.0*Ix*Iy*Zw - 16.0*Ix*Iy*m - 16.0*Ix*Mq*Zw - 16.0*Ix*Mq*m + 16.0*Ix*m**2*xG**2 + 16.0*Ixy**2*Zw + 16.0*Ixy**2*m - 16.0*Iy*Kp*Zw - 16.0*Iy*Kp*m - 16.0*Kp*Mq*Zw - 16.0*Kp*Mq*m + 16.0*Kp*m**2*xG**2) + 2.0*Ix*S4*d4*m*rho*u3*x2**2*xG/(-16.0*Ix*Iy*Zw - 16.0*Ix*Iy*m - 16.0*Ix*Mq*Zw - 16.0*Ix*Mq*m + 16.0*Ix*m**2*xG**2 + 16.0*Ixy**2*Zw + 16.0*Ixy**2*m - 16.0*Iy*Kp*Zw - 16.0*Iy*Kp*m - 16.0*Kp*Mq*Zw - 16.0*Kp*Mq*m + 16.0*Kp*m**2*xG**2) - 2.0*Ix*S4*d4*m*rho*x2**2*x5*xG/(-16.0*Ix*Iy*Zw - 16.0*Ix*Iy*m - 16.0*Ix*Mq*Zw - 16.0*Ix*Mq*m + 16.0*Ix*m**2*xG**2 + 16.0*Ixy**2*Zw + 16.0*Ixy**2*m - 16.0*Iy*Kp*Zw - 16.0*Iy*Kp*m - 16.0*Kp*Mq*Zw - 16.0*Kp*Mq*m + 16.0*Kp*m**2*xG**2) - 16.0*Ix*Vol*db*g*m*rho*xG*sin(x5)/(-16.0*Ix*Iy*Zw - 16.0*Ix*Iy*m - 16.0*Ix*Mq*Zw - 16.0*Ix*Mq*m + 16.0*Ix*m**2*xG**2 + 16.0*Ixy**2*Zw + 16.0*Ixy**2*m - 16.0*Iy*Kp*Zw - 16.0*Iy*Kp*m - 16.0*Kp*Mq*Zw - 16.0*Kp*Mq*m + 16.0*Kp*m**2*xG**2) - 16.0*Ix*Zw*m*u*x2*xG/(-16.0*Ix*Iy*Zw - 16.0*Ix*Iy*m - 16.0*Ix*Mq*Zw - 16.0*Ix*Mq*m + 16.0*Ix*m**2*xG**2 + 16.0*Ixy**2*Zw + 16.0*Ixy**2*m - 16.0*Iy*Kp*Zw - 16.0*Iy*Kp*m - 16.0*Kp*Mq*Zw - 16.0*Kp*Mq*m + 16.0*Kp*m**2*xG**2) + 16.0*Ix*dg*g*m**2*xG*sin(x5)/(-16.0*Ix*Iy*Zw - 16.0*Ix*Iy*m - 16.0*Ix*Mq*Zw - 16.0*Ix*Mq*m + 16.0*Ix*m**2*xG**2 + 16.0*Ixy**2*Zw + 16.0*Ixy**2*m - 16.0*Iy*Kp*Zw - 16.0*Iy*Kp*m - 16.0*Kp*Mq*Zw - 16.0*Kp*Mq*m + 16.0*Kp*m**2*xG**2) + 16.0*Ix*dp1*m*x6*xG/(-16.0*Ix*Iy*Zw - 16.0*Ix*Iy*m - 16.0*Ix*Mq*Zw - 16.0*Ix*Mq*m + 16.0*Ix*m**2*xG**2 + 16.0*Ixy**2*Zw + 16.0*Ixy**2*m - 16.0*Iy*Kp*Zw - 16.0*Iy*Kp*m - 16.0*Kp*Mq*Zw - 16.0*Kp*Mq*m + 16.0*Kp*m**2*xG**2) + 16.0*Ix*dp2*m*x6**2*xG/(-16.0*Ix*Iy*Zw - 16.0*Ix*Iy*m - 16.0*Ix*Mq*Zw - 16.0*Ix*Mq*m + 16.0*Ix*m**2*xG**2 + 16.0*Ixy**2*Zw + 16.0*Ixy**2*m - 16.0*Iy*Kp*Zw - 16.0*Iy*Kp*m - 16.0*Kp*Mq*Zw - 16.0*Kp*Mq*m + 16.0*Kp*m**2*xG**2) - 16.0*Ix*m**2*u*x6*xG**2/(-16.0*Ix*Iy*Zw - 16.0*Ix*Iy*m - 16.0*Ix*Mq*Zw - 16.0*Ix*Mq*m + 16.0*Ix*m**2*xG**2 + 16.0*Ixy**2*Zw + 16.0*Ixy**2*m - 16.0*Iy*Kp*Zw - 16.0*Iy*Kp*m - 16.0*Kp*Mq*Zw - 16.0*Kp*Mq*m + 16.0*Kp*m**2*xG**2) + 2.0*Ixy**2*S1*rho*u**2*x5/(-16.0*Ix*Iy*Zw - 16.0*Ix*Iy*m - 16.0*Ix*Mq*Zw - 16.0*Ix*Mq*m + 16.0*Ix*m**2*xG**2 + 16.0*Ixy**2*Zw + 16.0*Ixy**2*m - 16.0*Iy*Kp*Zw - 16.0*Iy*Kp*m - 16.0*Kp*Mq*Zw - 16.0*Kp*Mq*m + 16.0*Kp*m**2*xG**2) + 2.0*Ixy**2*S1*rho*x2**2*x5/(-16.0*Ix*Iy*Zw - 16.0*Ix*Iy*m - 16.0*Ix*Mq*Zw - 16.0*Ix*Mq*m + 16.0*Ix*m**2*xG**2 + 16.0*Ixy**2*Zw + 16.0*Ixy**2*m - 16.0*Iy*Kp*Zw - 16.0*Iy*Kp*m - 16.0*Kp*Mq*Zw - 16.0*Kp*Mq*m + 16.0*Kp*m**2*xG**2) - Ixy**2*S2*rho*u**2*u1/(-16.0*Ix*Iy*Zw - 16.0*Ix*Iy*m - 16.0*Ix*Mq*Zw - 16.0*Ix*Mq*m + 16.0*Ix*m**2*xG**2 + 16.0*Ixy**2*Zw + 16.0*Ixy**2*m - 16.0*Iy*Kp*Zw - 16.0*Iy*Kp*m - 16.0*Kp*Mq*Zw - 16.0*Kp*Mq*m + 16.0*Kp*m**2*xG**2) - Ixy**2*S2*rho*u**2*u2/(-16.0*Ix*Iy*Zw - 16.0*Ix*Iy*m - 16.0*Ix*Mq*Zw - 16.0*Ix*Mq*m + 16.0*Ix*m**2*xG**2 + 16.0*Ixy**2*Zw + 16.0*Ixy**2*m - 16.0*Iy*Kp*Zw - 16.0*Iy*Kp*m - 16.0*Kp*Mq*Zw - 16.0*Kp*Mq*m + 16.0*Kp*m**2*xG**2) + 2.0*Ixy**2*S2*rho*u**2*x5/(-16.0*Ix*Iy*Zw - 16.0*Ix*Iy*m - 16.0*Ix*Mq*Zw - 16.0*Ix*Mq*m + 16.0*Ix*m**2*xG**2 + 16.0*Ixy**2*Zw + 16.0*Ixy**2*m - 16.0*Iy*Kp*Zw - 16.0*Iy*Kp*m - 16.0*Kp*Mq*Zw - 16.0*Kp*Mq*m + 16.0*Kp*m**2*xG**2) - Ixy**2*S2*rho*u1*x2**2/(-16.0*Ix*Iy*Zw - 16.0*Ix*Iy*m - 16.0*Ix*Mq*Zw - 16.0*Ix*Mq*m + 16.0*Ix*m**2*xG**2 + 16.0*Ixy**2*Zw + 16.0*Ixy**2*m - 16.0*Iy*Kp*Zw - 16.0*Iy*Kp*m - 16.0*Kp*Mq*Zw - 16.0*Kp*Mq*m + 16.0*Kp*m**2*xG**2) - Ixy**2*S2*rho*u2*x2**2/(-16.0*Ix*Iy*Zw - 16.0*Ix*Iy*m - 16.0*Ix*Mq*Zw - 16.0*Ix*Mq*m + 16.0*Ix*m**2*xG**2 + 16.0*Ixy**2*Zw + 16.0*Ixy**2*m - 16.0*Iy*Kp*Zw - 16.0*Iy*Kp*m - 16.0*Kp*Mq*Zw - 16.0*Kp*Mq*m + 16.0*Kp*m**2*xG**2) + 2.0*Ixy**2*S2*rho*x2**2*x5/(-16.0*Ix*Iy*Zw - 16.0*Ix*Iy*m - 16.0*Ix*Mq*Zw - 16.0*Ix*Mq*m + 16.0*Ix*m**2*xG**2 + 16.0*Ixy**2*Zw + 16.0*Ixy**2*m - 16.0*Iy*Kp*Zw - 16.0*Iy*Kp*m - 16.0*Kp*Mq*Zw - 16.0*Kp*Mq*m + 16.0*Kp*m**2*xG**2) + 2.0*Ixy**2*S3*rho*u**2*x5/(-16.0*Ix*Iy*Zw - 16.0*Ix*Iy*m - 16.0*Ix*Mq*Zw - 16.0*Ix*Mq*m + 16.0*Ix*m**2*xG**2 + 16.0*Ixy**2*Zw + 16.0*Ixy**2*m - 16.0*Iy*Kp*Zw - 16.0*Iy*Kp*m - 16.0*Kp*Mq*Zw - 16.0*Kp*Mq*m + 16.0*Kp*m**2*xG**2) + 2.0*Ixy**2*S3*rho*x2**2*x5/(-16.0*Ix*Iy*Zw - 16.0*Ix*Iy*m - 16.0*Ix*Mq*Zw - 16.0*Ix*Mq*m + 16.0*Ix*m**2*xG**2 + 16.0*Ixy**2*Zw + 16.0*Ixy**2*m - 16.0*Iy*Kp*Zw - 16.0*Iy*Kp*m - 16.0*Kp*Mq*Zw - 16.0*Kp*Mq*m + 16.0*Kp*m**2*xG**2) - 2.0*Ixy**2*S4*rho*u**2*u3/(-16.0*Ix*Iy*Zw - 16.0*Ix*Iy*m - 16.0*Ix*Mq*Zw - 16.0*Ix*Mq*m + 16.0*Ix*m**2*xG**2 + 16.0*Ixy**2*Zw + 16.0*Ixy**2*m - 16.0*Iy*Kp*Zw - 16.0*Iy*Kp*m - 16.0*Kp*Mq*Zw - 16.0*Kp*Mq*m + 16.0*Kp*m**2*xG**2) + 2.0*Ixy**2*S4*rho*u**2*x5/(-16.0*Ix*Iy*Zw - 16.0*Ix*Iy*m - 16.0*Ix*Mq*Zw - 16.0*Ix*Mq*m + 16.0*Ix*m**2*xG**2 + 16.0*Ixy**2*Zw + 16.0*Ixy**2*m - 16.0*Iy*Kp*Zw - 16.0*Iy*Kp*m - 16.0*Kp*Mq*Zw - 16.0*Kp*Mq*m + 16.0*Kp*m**2*xG**2) - 2.0*Ixy**2*S4*rho*u3*x2**2/(-16.0*Ix*Iy*Zw - 16.0*Ix*Iy*m - 16.0*Ix*Mq*Zw - 16.0*Ix*Mq*m + 16.0*Ix*m**2*xG**2 + 16.0*Ixy**2*Zw + 16.0*Ixy**2*m - 16.0*Iy*Kp*Zw - 16.0*Iy*Kp*m - 16.0*Kp*Mq*Zw - 16.0*Kp*Mq*m + 16.0*Kp*m**2*xG**2) + 2.0*Ixy**2*S4*rho*x2**2*x5/(-16.0*Ix*Iy*Zw - 16.0*Ix*Iy*m - 16.0*Ix*Mq*Zw - 16.0*Ix*Mq*m + 16.0*Ix*m**2*xG**2 + 16.0*Ixy**2*Zw + 16.0*Ixy**2*m - 16.0*Iy*Kp*Zw - 16.0*Iy*Kp*m - 16.0*Kp*Mq*Zw - 16.0*Kp*Mq*m + 16.0*Kp*m**2*xG**2) + 16.0*Ixy**2*Vol*g*rho*sin(x5)/(-16.0*Ix*Iy*Zw - 16.0*Ix*Iy*m - 16.0*Ix*Mq*Zw - 16.0*Ix*Mq*m + 16.0*Ix*m**2*xG**2 + 16.0*Ixy**2*Zw + 16.0*Ixy**2*m - 16.0*Iy*Kp*Zw - 16.0*Iy*Kp*m - 16.0*Kp*Mq*Zw - 16.0*Kp*Mq*m + 16.0*Kp*m**2*xG**2) - 16.0*Ixy**2*dh1*x2/(-16.0*Ix*Iy*Zw - 16.0*Ix*Iy*m - 16.0*Ix*Mq*Zw - 16.0*Ix*Mq*m + 16.0*Ix*m**2*xG**2 + 16.0*Ixy**2*Zw + 16.0*Ixy**2*m - 16.0*Iy*Kp*Zw - 16.0*Iy*Kp*m - 16.0*Kp*Mq*Zw - 16.0*Kp*Mq*m + 16.0*Kp*m**2*xG**2) - 16.0*Ixy**2*dh2*x2**2/(-16.0*Ix*Iy*Zw - 16.0*Ix*Iy*m - 16.0*Ix*Mq*Zw - 16.0*Ix*Mq*m + 16.0*Ix*m**2*xG**2 + 16.0*Ixy**2*Zw + 16.0*Ixy**2*m - 16.0*Iy*Kp*Zw - 16.0*Iy*Kp*m - 16.0*Kp*Mq*Zw - 16.0*Kp*Mq*m + 16.0*Kp*m**2*xG**2) - 16.0*Ixy**2*g*m*sin(x5)/(-16.0*Ix*Iy*Zw - 16.0*Ix*Iy*m - 16.0*Ix*Mq*Zw - 16.0*Ix*Mq*m + 16.0*Ix*m**2*xG**2 + 16.0*Ixy**2*Zw + 16.0*Ixy**2*m - 16.0*Iy*Kp*Zw - 16.0*Iy*Kp*m - 16.0*Kp*Mq*Zw - 16.0*Kp*Mq*m + 16.0*Kp*m**2*xG**2) - 16.0*Ixy**2*m*u*x6/(-16.0*Ix*Iy*Zw - 16.0*Ix*Iy*m - 16.0*Ix*Mq*Zw - 16.0*Ix*Mq*m + 16.0*Ix*m**2*xG**2 + 16.0*Ixy**2*Zw + 16.0*Ixy**2*m - 16.0*Iy*Kp*Zw - 16.0*Iy*Kp*m - 16.0*Kp*Mq*Zw - 16.0*Kp*Mq*m + 16.0*Kp*m**2*xG**2) + 16.0*Ixy*Ixz*m*x4*x6*xG/(-16.0*Ix*Iy*Zw - 16.0*Ix*Iy*m - 16.0*Ix*Mq*Zw - 16.0*Ix*Mq*m + 16.0*Ix*m**2*xG**2 + 16.0*Ixy**2*Zw + 16.0*Ixy**2*m - 16.0*Iy*Kp*Zw - 16.0*Iy*Kp*m - 16.0*Kp*Mq*Zw - 16.0*Kp*Mq*m + 16.0*Kp*m**2*xG**2) - 16.0*Ixy*Iyx*m*x6**2*xG/(-16.0*Ix*Iy*Zw - 16.0*Ix*Iy*m - 16.0*Ix*Mq*Zw - 16.0*Ix*Mq*m + 16.0*Ix*m**2*xG**2 + 16.0*Ixy**2*Zw + 16.0*Ixy**2*m - 16.0*Iy*Kp*Zw - 16.0*Iy*Kp*m - 16.0*Kp*Mq*Zw - 16.0*Kp*Mq*m + 16.0*Kp*m**2*xG**2) + Ixy*S2*m*r1*rho*u**2*u1*xG/(-16.0*Ix*Iy*Zw - 16.0*Ix*Iy*m - 16.0*Ix*Mq*Zw - 16.0*Ix*Mq*m + 16.0*Ix*m**2*xG**2 + 16.0*Ixy**2*Zw + 16.0*Ixy**2*m - 16.0*Iy*Kp*Zw - 16.0*Iy*Kp*m - 16.0*Kp*Mq*Zw - 16.0*Kp*Mq*m + 16.0*Kp*m**2*xG**2) - Ixy*S2*m*r1*rho*u**2*u2*xG/(-16.0*Ix*Iy*Zw - 16.0*Ix*Iy*m - 16.0*Ix*Mq*Zw - 16.0*Ix*Mq*m + 16.0*Ix*m**2*xG**2 + 16.0*Ixy**2*Zw + 16.0*Ixy**2*m - 16.0*Iy*Kp*Zw - 16.0*Iy*Kp*m - 16.0*Kp*Mq*Zw - 16.0*Kp*Mq*m + 16.0*Kp*m**2*xG**2) + Ixy*S2*m*r1*rho*u1*x2**2*xG/(-16.0*Ix*Iy*Zw - 16.0*Ix*Iy*m - 16.0*Ix*Mq*Zw - 16.0*Ix*Mq*m + 16.0*Ix*m**2*xG**2 + 16.0*Ixy**2*Zw + 16.0*Ixy**2*m - 16.0*Iy*Kp*Zw - 16.0*Iy*Kp*m - 16.0*Kp*Mq*Zw - 16.0*Kp*Mq*m + 16.0*Kp*m**2*xG**2) - Ixy*S2*m*r1*rho*u2*x2**2*xG/(-16.0*Ix*Iy*Zw - 16.0*Ix*Iy*m - 16.0*Ix*Mq*Zw - 16.0*Ix*Mq*m + 16.0*Ix*m**2*xG**2 + 16.0*Ixy**2*Zw + 16.0*Ixy**2*m - 16.0*Iy*Kp*Zw - 16.0*Iy*Kp*m - 16.0*Kp*Mq*Zw - 16.0*Kp*Mq*m + 16.0*Kp*m**2*xG**2) + 16.0*Ixy*dr1*m*x4*xG/(-16.0*Ix*Iy*Zw - 16.0*Ix*Iy*m - 16.0*Ix*Mq*Zw - 16.0*Ix*Mq*m + 16.0*Ix*m**2*xG**2 + 16.0*Ixy**2*Zw + 16.0*Ixy**2*m - 16.0*Iy*Kp*Zw - 16.0*Iy*Kp*m - 16.0*Kp*Mq*Zw - 16.0*Kp*Mq*m + 16.0*Kp*m**2*xG**2) + 16.0*Ixy*dr2*m*x4**2*xG/(-16.0*Ix*Iy*Zw - 16.0*Ix*Iy*m - 16.0*Ix*Mq*Zw - 16.0*Ix*Mq*m + 16.0*Ix*m**2*xG**2 + 16.0*Ixy**2*Zw + 16.0*Ixy**2*m - 16.0*Iy*Kp*Zw - 16.0*Iy*Kp*m - 16.0*Kp*Mq*Zw - 16.0*Kp*Mq*m + 16.0*Kp*m**2*xG**2) - 16.0*Ixz*Kp*m*x4**2*xG/(-16.0*Ix*Iy*Zw - 16.0*Ix*Iy*m - 16.0*Ix*Mq*Zw - 16.0*Ix*Mq*m + 16.0*Ix*m**2*xG**2 + 16.0*Ixy**2*Zw + 16.0*Ixy**2*m - 16.0*Iy*Kp*Zw - 16.0*Iy*Kp*m - 16.0*Kp*Mq*Zw - 16.0*Kp*Mq*m + 16.0*Kp*m**2*xG**2) - 2.0*Iy*Kp*S1*rho*u**2*x5/(-16.0*Ix*Iy*Zw - 16.0*Ix*Iy*m - 16.0*Ix*Mq*Zw - 16.0*Ix*Mq*m + 16.0*Ix*m**2*xG**2 + 16.0*Ixy**2*Zw + 16.0*Ixy**2*m - 16.0*Iy*Kp*Zw - 16.0*Iy*Kp*m - 16.0*Kp*Mq*Zw - 16.0*Kp*Mq*m + 16.0*Kp*m**2*xG**2) - 2.0*Iy*Kp*S1*rho*x2**2*x5/(-16.0*Ix*Iy*Zw - 16.0*Ix*Iy*m - 16.0*Ix*Mq*Zw - 16.0*Ix*Mq*m + 16.0*Ix*m**2*xG**2 + 16.0*Ixy**2*Zw + 16.0*Ixy**2*m - 16.0*Iy*Kp*Zw - 16.0*Iy*Kp*m - 16.0*Kp*Mq*Zw - 16.0*Kp*Mq*m + 16.0*Kp*m**2*xG**2) + Iy*Kp*S2*rho*u**2*u1/(-16.0*Ix*Iy*Zw - 16.0*Ix*Iy*m - 16.0*Ix*Mq*Zw - 16.0*Ix*Mq*m + 16.0*Ix*m**2*xG**2 + 16.0*Ixy**2*Zw + 16.0*Ixy**2*m - 16.0*Iy*Kp*Zw - 16.0*Iy*Kp*m - 16.0*Kp*Mq*Zw - 16.0*Kp*Mq*m + 16.0*Kp*m**2*xG**2) + Iy*Kp*S2*rho*u**2*u2/(-16.0*Ix*Iy*Zw - 16.0*Ix*Iy*m - 16.0*Ix*Mq*Zw - 16.0*Ix*Mq*m + 16.0*Ix*m**2*xG**2 + 16.0*Ixy**2*Zw + 16.0*Ixy**2*m - 16.0*Iy*Kp*Zw - 16.0*Iy*Kp*m - 16.0*Kp*Mq*Zw - 16.0*Kp*Mq*m + 16.0*Kp*m**2*xG**2) - 2.0*Iy*Kp*S2*rho*u**2*x5/(-16.0*Ix*Iy*Zw - 16.0*Ix*Iy*m - 16.0*Ix*Mq*Zw - 16.0*Ix*Mq*m + 16.0*Ix*m**2*xG**2 + 16.0*Ixy**2*Zw + 16.0*Ixy**2*m - 16.0*Iy*Kp*Zw - 16.0*Iy*Kp*m - 16.0*Kp*Mq*Zw - 16.0*Kp*Mq*m + 16.0*Kp*m**2*xG**2) + Iy*Kp*S2*rho*u1*x2**2/(-16.0*Ix*Iy*Zw - 16.0*Ix*Iy*m - 16.0*Ix*Mq*Zw - 16.0*Ix*Mq*m + 16.0*Ix*m**2*xG**2 + 16.0*Ixy**2*Zw + 16.0*Ixy**2*m - 16.0*Iy*Kp*Zw - 16.0*Iy*Kp*m - 16.0*Kp*Mq*Zw - 16.0*Kp*Mq*m + 16.0*Kp*m**2*xG**2) + Iy*Kp*S2*rho*u2*x2**2/(-16.0*Ix*Iy*Zw - 16.0*Ix*Iy*m - 16.0*Ix*Mq*Zw - 16.0*Ix*Mq*m + 16.0*Ix*m**2*xG**2 + 16.0*Ixy**2*Zw + 16.0*Ixy**2*m - 16.0*Iy*Kp*Zw - 16.0*Iy*Kp*m - 16.0*Kp*Mq*Zw - 16.0*Kp*Mq*m + 16.0*Kp*m**2*xG**2) - 2.0*Iy*Kp*S2*rho*x2**2*x5/(-16.0*Ix*Iy*Zw - 16.0*Ix*Iy*m - 16.0*Ix*Mq*Zw - 16.0*Ix*Mq*m + 16.0*Ix*m**2*xG**2 + 16.0*Ixy**2*Zw + 16.0*Ixy**2*m - 16.0*Iy*Kp*Zw - 16.0*Iy*Kp*m - 16.0*Kp*Mq*Zw - 16.0*Kp*Mq*m + 16.0*Kp*m**2*xG**2) - 2.0*Iy*Kp*S3*rho*u**2*x5/(-16.0*Ix*Iy*Zw - 16.0*Ix*Iy*m - 16.0*Ix*Mq*Zw - 16.0*Ix*Mq*m + 16.0*Ix*m**2*xG**2 + 16.0*Ixy**2*Zw + 16.0*Ixy**2*m - 16.0*Iy*Kp*Zw - 16.0*Iy*Kp*m - 16.0*Kp*Mq*Zw - 16.0*Kp*Mq*m + 16.0*Kp*m**2*xG**2) - 2.0*Iy*Kp*S3*rho*x2**2*x5/(-16.0*Ix*Iy*Zw - 16.0*Ix*Iy*m - 16.0*Ix*Mq*Zw - 16.0*Ix*Mq*m + 16.0*Ix*m**2*xG**2 + 16.0*Ixy**2*Zw + 16.0*Ixy**2*m - 16.0*Iy*Kp*Zw - 16.0*Iy*Kp*m - 16.0*Kp*Mq*Zw - 16.0*Kp*Mq*m + 16.0*Kp*m**2*xG**2) + 2.0*Iy*Kp*S4*rho*u**2*u3/(-16.0*Ix*Iy*Zw - 16.0*Ix*Iy*m - 16.0*Ix*Mq*Zw - 16.0*Ix*Mq*m + 16.0*Ix*m**2*xG**2 + 16.0*Ixy**2*Zw + 16.0*Ixy**2*m - 16.0*Iy*Kp*Zw - 16.0*Iy*Kp*m - 16.0*Kp*Mq*Zw - 16.0*Kp*Mq*m + 16.0*Kp*m**2*xG**2) - 2.0*Iy*Kp*S4*rho*u**2*x5/(-16.0*Ix*Iy*Zw - 16.0*Ix*Iy*m - 16.0*Ix*Mq*Zw - 16.0*Ix*Mq*m + 16.0*Ix*m**2*xG**2 + 16.0*Ixy**2*Zw + 16.0*Ixy**2*m - 16.0*Iy*Kp*Zw - 16.0*Iy*Kp*m - 16.0*Kp*Mq*Zw - 16.0*Kp*Mq*m + 16.0*Kp*m**2*xG**2) + 2.0*Iy*Kp*S4*rho*u3*x2**2/(-16.0*Ix*Iy*Zw - 16.0*Ix*Iy*m - 16.0*Ix*Mq*Zw - 16.0*Ix*Mq*m + 16.0*Ix*m**2*xG**2 + 16.0*Ixy**2*Zw + 16.0*Ixy**2*m - 16.0*Iy*Kp*Zw - 16.0*Iy*Kp*m - 16.0*Kp*Mq*Zw - 16.0*Kp*Mq*m + 16.0*Kp*m**2*xG**2) - 2.0*Iy*Kp*S4*rho*x2**2*x5/(-16.0*Ix*Iy*Zw - 16.0*Ix*Iy*m - 16.0*Ix*Mq*Zw - 16.0*Ix*Mq*m + 16.0*Ix*m**2*xG**2 + 16.0*Ixy**2*Zw + 16.0*Ixy**2*m - 16.0*Iy*Kp*Zw - 16.0*Iy*Kp*m - 16.0*Kp*Mq*Zw - 16.0*Kp*Mq*m + 16.0*Kp*m**2*xG**2) - 16.0*Iy*Kp*Vol*g*rho*sin(x5)/(-16.0*Ix*Iy*Zw - 16.0*Ix*Iy*m - 16.0*Ix*Mq*Zw - 16.0*Ix*Mq*m + 16.0*Ix*m**2*xG**2 + 16.0*Ixy**2*Zw + 16.0*Ixy**2*m - 16.0*Iy*Kp*Zw - 16.0*Iy*Kp*m - 16.0*Kp*Mq*Zw - 16.0*Kp*Mq*m + 16.0*Kp*m**2*xG**2) + 16.0*Iy*Kp*dh1*x2/(-16.0*Ix*Iy*Zw - 16.0*Ix*Iy*m - 16.0*Ix*Mq*Zw - 16.0*Ix*Mq*m + 16.0*Ix*m**2*xG**2 + 16.0*Ixy**2*Zw + 16.0*Ixy**2*m - 16.0*Iy*Kp*Zw - 16.0*Iy*Kp*m - 16.0*Kp*Mq*Zw - 16.0*Kp*Mq*m + 16.0*Kp*m**2*xG**2) + 16.0*Iy*Kp*dh2*x2**2/(-16.0*Ix*Iy*Zw - 16.0*Ix*Iy*m - 16.0*Ix*Mq*Zw - 16.0*Ix*Mq*m + 16.0*Ix*m**2*xG**2 + 16.0*Ixy**2*Zw + 16.0*Ixy**2*m - 16.0*Iy*Kp*Zw - 16.0*Iy*Kp*m - 16.0*Kp*Mq*Zw - 16.0*Kp*Mq*m + 16.0*Kp*m**2*xG**2) + 16.0*Iy*Kp*g*m*sin(x5)/(-16.0*Ix*Iy*Zw - 16.0*Ix*Iy*m - 16.0*Ix*Mq*Zw - 16.0*Ix*Mq*m + 16.0*Ix*m**2*xG**2 + 16.0*Ixy**2*Zw + 16.0*Ixy**2*m - 16.0*Iy*Kp*Zw - 16.0*Iy*Kp*m - 16.0*Kp*Mq*Zw - 16.0*Kp*Mq*m + 16.0*Kp*m**2*xG**2) + 16.0*Iy*Kp*m*u*x6/(-16.0*Ix*Iy*Zw - 16.0*Ix*Iy*m - 16.0*Ix*Mq*Zw - 16.0*Ix*Mq*m + 16.0*Ix*m**2*xG**2 + 16.0*Ixy**2*Zw + 16.0*Ixy**2*m - 16.0*Iy*Kp*Zw - 16.0*Iy*Kp*m - 16.0*Kp*Mq*Zw - 16.0*Kp*Mq*m + 16.0*Kp*m**2*xG**2) - 16.0*Iyz*Kp*m*x4*x6*xG/(-16.0*Ix*Iy*Zw - 16.0*Ix*Iy*m - 16.0*Ix*Mq*Zw - 16.0*Ix*Mq*m + 16.0*Ix*m**2*xG**2 + 16.0*Ixy**2*Zw + 16.0*Ixy**2*m - 16.0*Iy*Kp*Zw - 16.0*Iy*Kp*m - 16.0*Kp*Mq*Zw - 16.0*Kp*Mq*m + 16.0*Kp*m**2*xG**2) - 2.0*Kp*Mq*S1*rho*u**2*x5/(-16.0*Ix*Iy*Zw - 16.0*Ix*Iy*m - 16.0*Ix*Mq*Zw - 16.0*Ix*Mq*m + 16.0*Ix*m**2*xG**2 + 16.0*Ixy**2*Zw + 16.0*Ixy**2*m - 16.0*Iy*Kp*Zw - 16.0*Iy*Kp*m - 16.0*Kp*Mq*Zw - 16.0*Kp*Mq*m + 16.0*Kp*m**2*xG**2) - 2.0*Kp*Mq*S1*rho*x2**2*x5/(-16.0*Ix*Iy*Zw - 16.0*Ix*Iy*m - 16.0*Ix*Mq*Zw - 16.0*Ix*Mq*m + 16.0*Ix*m**2*xG**2 + 16.0*Ixy**2*Zw + 16.0*Ixy**2*m - 16.0*Iy*Kp*Zw - 16.0*Iy*Kp*m - 16.0*Kp*Mq*Zw - 16.0*Kp*Mq*m + 16.0*Kp*m**2*xG**2) + Kp*Mq*S2*rho*u**2*u1/(-16.0*Ix*Iy*Zw - 16.0*Ix*Iy*m - 16.0*Ix*Mq*Zw - 16.0*Ix*Mq*m + 16.0*Ix*m**2*xG**2 + 16.0*Ixy**2*Zw + 16.0*Ixy**2*m - 16.0*Iy*Kp*Zw - 16.0*Iy*Kp*m - 16.0*Kp*Mq*Zw - 16.0*Kp*Mq*m + 16.0*Kp*m**2*xG**2) + Kp*Mq*S2*rho*u**2*u2/(-16.0*Ix*Iy*Zw - 16.0*Ix*Iy*m - 16.0*Ix*Mq*Zw - 16.0*Ix*Mq*m + 16.0*Ix*m**2*xG**2 + 16.0*Ixy**2*Zw + 16.0*Ixy**2*m - 16.0*Iy*Kp*Zw - 16.0*Iy*Kp*m - 16.0*Kp*Mq*Zw - 16.0*Kp*Mq*m + 16.0*Kp*m**2*xG**2) - 2.0*Kp*Mq*S2*rho*u**2*x5/(-16.0*Ix*Iy*Zw - 16.0*Ix*Iy*m - 16.0*Ix*Mq*Zw - 16.0*Ix*Mq*m + 16.0*Ix*m**2*xG**2 + 16.0*Ixy**2*Zw + 16.0*Ixy**2*m - 16.0*Iy*Kp*Zw - 16.0*Iy*Kp*m - 16.0*Kp*Mq*Zw - 16.0*Kp*Mq*m + 16.0*Kp*m**2*xG**2) + Kp*Mq*S2*rho*u1*x2**2/(-16.0*Ix*Iy*Zw - 16.0*Ix*Iy*m - 16.0*Ix*Mq*Zw - 16.0*Ix*Mq*m + 16.0*Ix*m**2*xG**2 + 16.0*Ixy**2*Zw + 16.0*Ixy**2*m - 16.0*Iy*Kp*Zw - 16.0*Iy*Kp*m - 16.0*Kp*Mq*Zw - 16.0*Kp*Mq*m + 16.0*Kp*m**2*xG**2) + Kp*Mq*S2*rho*u2*x2**2/(-16.0*Ix*Iy*Zw - 16.0*Ix*Iy*m - 16.0*Ix*Mq*Zw - 16.0*Ix*Mq*m + 16.0*Ix*m**2*xG**2 + 16.0*Ixy**2*Zw + 16.0*Ixy**2*m - 16.0*Iy*Kp*Zw - 16.0*Iy*Kp*m - 16.0*Kp*Mq*Zw - 16.0*Kp*Mq*m + 16.0*Kp*m**2*xG**2) - 2.0*Kp*Mq*S2*rho*x2**2*x5/(-16.0*Ix*Iy*Zw - 16.0*Ix*Iy*m - 16.0*Ix*Mq*Zw - 16.0*Ix*Mq*m + 16.0*Ix*m**2*xG**2 + 16.0*Ixy**2*Zw + 16.0*Ixy**2*m - 16.0*Iy*Kp*Zw - 16.0*Iy*Kp*m - 16.0*Kp*Mq*Zw - 16.0*Kp*Mq*m + 16.0*Kp*m**2*xG**2) - 2.0*Kp*Mq*S3*rho*u**2*x5/(-16.0*Ix*Iy*Zw - 16.0*Ix*Iy*m - 16.0*Ix*Mq*Zw - 16.0*Ix*Mq*m + 16.0*Ix*m**2*xG**2 + 16.0*Ixy**2*Zw + 16.0*Ixy**2*m - 16.0*Iy*Kp*Zw - 16.0*Iy*Kp*m - 16.0*Kp*Mq*Zw - 16.0*Kp*Mq*m + 16.0*Kp*m**2*xG**2) - 2.0*Kp*Mq*S3*rho*x2**2*x5/(-16.0*Ix*Iy*Zw - 16.0*Ix*Iy*m - 16.0*Ix*Mq*Zw - 16.0*Ix*Mq*m + 16.0*Ix*m**2*xG**2 + 16.0*Ixy**2*Zw + 16.0*Ixy**2*m - 16.0*Iy*Kp*Zw - 16.0*Iy*Kp*m - 16.0*Kp*Mq*Zw - 16.0*Kp*Mq*m + 16.0*Kp*m**2*xG**2) + 2.0*Kp*Mq*S4*rho*u**2*u3/(-16.0*Ix*Iy*Zw - 16.0*Ix*Iy*m - 16.0*Ix*Mq*Zw - 16.0*Ix*Mq*m + 16.0*Ix*m**2*xG**2 + 16.0*Ixy**2*Zw + 16.0*Ixy**2*m - 16.0*Iy*Kp*Zw - 16.0*Iy*Kp*m - 16.0*Kp*Mq*Zw - 16.0*Kp*Mq*m + 16.0*Kp*m**2*xG**2) - 2.0*Kp*Mq*S4*rho*u**2*x5/(-16.0*Ix*Iy*Zw - 16.0*Ix*Iy*m - 16.0*Ix*Mq*Zw - 16.0*Ix*Mq*m + 16.0*Ix*m**2*xG**2 + 16.0*Ixy**2*Zw + 16.0*Ixy**2*m - 16.0*Iy*Kp*Zw - 16.0*Iy*Kp*m - 16.0*Kp*Mq*Zw - 16.0*Kp*Mq*m + 16.0*Kp*m**2*xG**2) + 2.0*Kp*Mq*S4*rho*u3*x2**2/(-16.0*Ix*Iy*Zw - 16.0*Ix*Iy*m - 16.0*Ix*Mq*Zw - 16.0*Ix*Mq*m + 16.0*Ix*m**2*xG**2 + 16.0*Ixy**2*Zw + 16.0*Ixy**2*m - 16.0*Iy*Kp*Zw - 16.0*Iy*Kp*m - 16.0*Kp*Mq*Zw - 16.0*Kp*Mq*m + 16.0*Kp*m**2*xG**2) - 2.0*Kp*Mq*S4*rho*x2**2*x5/(-16.0*Ix*Iy*Zw - 16.0*Ix*Iy*m - 16.0*Ix*Mq*Zw - 16.0*Ix*Mq*m + 16.0*Ix*m**2*xG**2 + 16.0*Ixy**2*Zw + 16.0*Ixy**2*m - 16.0*Iy*Kp*Zw - 16.0*Iy*Kp*m - 16.0*Kp*Mq*Zw - 16.0*Kp*Mq*m + 16.0*Kp*m**2*xG**2) - 16.0*Kp*Mq*Vol*g*rho*sin(x5)/(-16.0*Ix*Iy*Zw - 16.0*Ix*Iy*m - 16.0*Ix*Mq*Zw - 16.0*Ix*Mq*m + 16.0*Ix*m**2*xG**2 + 16.0*Ixy**2*Zw + 16.0*Ixy**2*m - 16.0*Iy*Kp*Zw - 16.0*Iy*Kp*m - 16.0*Kp*Mq*Zw - 16.0*Kp*Mq*m + 16.0*Kp*m**2*xG**2) + 16.0*Kp*Mq*dh1*x2/(-16.0*Ix*Iy*Zw - 16.0*Ix*Iy*m - 16.0*Ix*Mq*Zw - 16.0*Ix*Mq*m + 16.0*Ix*m**2*xG**2 + 16.0*Ixy**2*Zw + 16.0*Ixy**2*m - 16.0*Iy*Kp*Zw - 16.0*Iy*Kp*m - 16.0*Kp*Mq*Zw - 16.0*Kp*Mq*m + 16.0*Kp*m**2*xG**2) + 16.0*Kp*Mq*dh2*x2**2/(-16.0*Ix*Iy*Zw - 16.0*Ix*Iy*m - 16.0*Ix*Mq*Zw - 16.0*Ix*Mq*m + 16.0*Ix*m**2*xG**2 + 16.0*Ixy**2*Zw + 16.0*Ixy**2*m - 16.0*Iy*Kp*Zw - 16.0*Iy*Kp*m - 16.0*Kp*Mq*Zw - 16.0*Kp*Mq*m + 16.0*Kp*m**2*xG**2) + 16.0*Kp*Mq*g*m*sin(x5)/(-16.0*Ix*Iy*Zw - 16.0*Ix*Iy*m - 16.0*Ix*Mq*Zw - 16.0*Ix*Mq*m + 16.0*Ix*m**2*xG**2 + 16.0*Ixy**2*Zw + 16.0*Ixy**2*m - 16.0*Iy*Kp*Zw - 16.0*Iy*Kp*m - 16.0*Kp*Mq*Zw - 16.0*Kp*Mq*m + 16.0*Kp*m**2*xG**2) + 16.0*Kp*Mq*m*u*x6/(-16.0*Ix*Iy*Zw - 16.0*Ix*Iy*m - 16.0*Ix*Mq*Zw - 16.0*Ix*Mq*m + 16.0*Ix*m**2*xG**2 + 16.0*Ixy**2*Zw + 16.0*Ixy**2*m - 16.0*Iy*Kp*Zw - 16.0*Iy*Kp*m - 16.0*Kp*Mq*Zw - 16.0*Kp*Mq*m + 16.0*Kp*m**2*xG**2) - 2.0*Kp*S1*d1*m*rho*u**2*x5*xG/(-16.0*Ix*Iy*Zw - 16.0*Ix*Iy*m - 16.0*Ix*Mq*Zw - 16.0*Ix*Mq*m + 16.0*Ix*m**2*xG**2 + 16.0*Ixy**2*Zw + 16.0*Ixy**2*m - 16.0*Iy*Kp*Zw - 16.0*Iy*Kp*m - 16.0*Kp*Mq*Zw - 16.0*Kp*Mq*m + 16.0*Kp*m**2*xG**2) - 2.0*Kp*S1*d1*m*rho*x2**2*x5*xG/(-16.0*Ix*Iy*Zw - 16.0*Ix*Iy*m - 16.0*Ix*Mq*Zw - 16.0*Ix*Mq*m + 16.0*Ix*m**2*xG**2 + 16.0*Ixy**2*Zw + 16.0*Ixy**2*m - 16.0*Iy*Kp*Zw - 16.0*Iy*Kp*m - 16.0*Kp*Mq*Zw - 16.0*Kp*Mq*m + 16.0*Kp*m**2*xG**2) + Kp*S2*d2*m*rho*u**2*u1*xG/(-16.0*Ix*Iy*Zw - 16.0*Ix*Iy*m - 16.0*Ix*Mq*Zw - 16.0*Ix*Mq*m + 16.0*Ix*m**2*xG**2 + 16.0*Ixy**2*Zw + 16.0*Ixy**2*m - 16.0*Iy*Kp*Zw - 16.0*Iy*Kp*m - 16.0*Kp*Mq*Zw - 16.0*Kp*Mq*m + 16.0*Kp*m**2*xG**2) + Kp*S2*d2*m*rho*u**2*u2*xG/(-16.0*Ix*Iy*Zw - 16.0*Ix*Iy*m - 16.0*Ix*Mq*Zw - 16.0*Ix*Mq*m + 16.0*Ix*m**2*xG**2 + 16.0*Ixy**2*Zw + 16.0*Ixy**2*m - 16.0*Iy*Kp*Zw - 16.0*Iy*Kp*m - 16.0*Kp*Mq*Zw - 16.0*Kp*Mq*m + 16.0*Kp*m**2*xG**2) - 2.0*Kp*S2*d2*m*rho*u**2*x5*xG/(-16.0*Ix*Iy*Zw - 16.0*Ix*Iy*m - 16.0*Ix*Mq*Zw - 16.0*Ix*Mq*m + 16.0*Ix*m**2*xG**2 + 16.0*Ixy**2*Zw + 16.0*Ixy**2*m - 16.0*Iy*Kp*Zw - 16.0*Iy*Kp*m - 16.0*Kp*Mq*Zw - 16.0*Kp*Mq*m + 16.0*Kp*m**2*xG**2) + Kp*S2*d2*m*rho*u1*x2**2*xG/(-16.0*Ix*Iy*Zw - 16.0*Ix*Iy*m - 16.0*Ix*Mq*Zw - 16.0*Ix*Mq*m + 16.0*Ix*m**2*xG**2 + 16.0*Ixy**2*Zw + 16.0*Ixy**2*m - 16.0*Iy*Kp*Zw - 16.0*Iy*Kp*m - 16.0*Kp*Mq*Zw - 16.0*Kp*Mq*m + 16.0*Kp*m**2*xG**2) + Kp*S2*d2*m*rho*u2*x2**2*xG/(-16.0*Ix*Iy*Zw - 16.0*Ix*Iy*m - 16.0*Ix*Mq*Zw - 16.0*Ix*Mq*m + 16.0*Ix*m**2*xG**2 + 16.0*Ixy**2*Zw + 16.0*Ixy**2*m - 16.0*Iy*Kp*Zw - 16.0*Iy*Kp*m - 16.0*Kp*Mq*Zw - 16.0*Kp*Mq*m + 16.0*Kp*m**2*xG**2) - 2.0*Kp*S2*d2*m*rho*x2**2*x5*xG/(-16.0*Ix*Iy*Zw - 16.0*Ix*Iy*m - 16.0*Ix*Mq*Zw - 16.0*Ix*Mq*m + 16.0*Ix*m**2*xG**2 + 16.0*Ixy**2*Zw + 16.0*Ixy**2*m - 16.0*Iy*Kp*Zw - 16.0*Iy*Kp*m - 16.0*Kp*Mq*Zw - 16.0*Kp*Mq*m + 16.0*Kp*m**2*xG**2) - 2.0*Kp*S3*d3*m*rho*u**2*x5*xG/(-16.0*Ix*Iy*Zw - 16.0*Ix*Iy*m - 16.0*Ix*Mq*Zw - 16.0*Ix*Mq*m + 16.0*Ix*m**2*xG**2 + 16.0*Ixy**2*Zw + 16.0*Ixy**2*m - 16.0*Iy*Kp*Zw - 16.0*Iy*Kp*m - 16.0*Kp*Mq*Zw - 16.0*Kp*Mq*m + 16.0*Kp*m**2*xG**2) - 2.0*Kp*S3*d3*m*rho*x2**2*x5*xG/(-16.0*Ix*Iy*Zw - 16.0*Ix*Iy*m - 16.0*Ix*Mq*Zw - 16.0*Ix*Mq*m + 16.0*Ix*m**2*xG**2 + 16.0*Ixy**2*Zw + 16.0*Ixy**2*m - 16.0*Iy*Kp*Zw - 16.0*Iy*Kp*m - 16.0*Kp*Mq*Zw - 16.0*Kp*Mq*m + 16.0*Kp*m**2*xG**2) + 2.0*Kp*S4*d4*m*rho*u**2*u3*xG/(-16.0*Ix*Iy*Zw - 16.0*Ix*Iy*m - 16.0*Ix*Mq*Zw - 16.0*Ix*Mq*m + 16.0*Ix*m**2*xG**2 + 16.0*Ixy**2*Zw + 16.0*Ixy**2*m - 16.0*Iy*Kp*Zw - 16.0*Iy*Kp*m - 16.0*Kp*Mq*Zw - 16.0*Kp*Mq*m + 16.0*Kp*m**2*xG**2) - 2.0*Kp*S4*d4*m*rho*u**2*x5*xG/(-16.0*Ix*Iy*Zw - 16.0*Ix*Iy*m - 16.0*Ix*Mq*Zw - 16.0*Ix*Mq*m + 16.0*Ix*m**2*xG**2 + 16.0*Ixy**2*Zw + 16.0*Ixy**2*m - 16.0*Iy*Kp*Zw - 16.0*Iy*Kp*m - 16.0*Kp*Mq*Zw - 16.0*Kp*Mq*m + 16.0*Kp*m**2*xG**2) + 2.0*Kp*S4*d4*m*rho*u3*x2**2*xG/(-16.0*Ix*Iy*Zw - 16.0*Ix*Iy*m - 16.0*Ix*Mq*Zw - 16.0*Ix*Mq*m + 16.0*Ix*m**2*xG**2 + 16.0*Ixy**2*Zw + 16.0*Ixy**2*m - 16.0*Iy*Kp*Zw - 16.0*Iy*Kp*m - 16.0*Kp*Mq*Zw - 16.0*Kp*Mq*m + 16.0*Kp*m**2*xG**2) - 2.0*Kp*S4*d4*m*rho*x2**2*x5*xG/(-16.0*Ix*Iy*Zw - 16.0*Ix*Iy*m - 16.0*Ix*Mq*Zw - 16.0*Ix*Mq*m + 16.0*Ix*m**2*xG**2 + 16.0*Ixy**2*Zw + 16.0*Ixy**2*m - 16.0*Iy*Kp*Zw - 16.0*Iy*Kp*m - 16.0*Kp*Mq*Zw - 16.0*Kp*Mq*m + 16.0*Kp*m**2*xG**2) - 16.0*Kp*Vol*db*g*m*rho*xG*sin(x5)/(-16.0*Ix*Iy*Zw - 16.0*Ix*Iy*m - 16.0*Ix*Mq*Zw - 16.0*Ix*Mq*m + 16.0*Ix*m**2*xG**2 + 16.0*Ixy**2*Zw + 16.0*Ixy**2*m - 16.0*Iy*Kp*Zw - 16.0*Iy*Kp*m - 16.0*Kp*Mq*Zw - 16.0*Kp*Mq*m + 16.0*Kp*m**2*xG**2) - 16.0*Kp*Zw*m*u*x2*xG/(-16.0*Ix*Iy*Zw - 16.0*Ix*Iy*m - 16.0*Ix*Mq*Zw - 16.0*Ix*Mq*m + 16.0*Ix*m**2*xG**2 + 16.0*Ixy**2*Zw + 16.0*Ixy**2*m - 16.0*Iy*Kp*Zw - 16.0*Iy*Kp*m - 16.0*Kp*Mq*Zw - 16.0*Kp*Mq*m + 16.0*Kp*m**2*xG**2) + 16.0*Kp*dg*g*m**2*xG*sin(x5)/(-16.0*Ix*Iy*Zw - 16.0*Ix*Iy*m - 16.0*Ix*Mq*Zw - 16.0*Ix*Mq*m + 16.0*Ix*m**2*xG**2 + 16.0*Ixy**2*Zw + 16.0*Ixy**2*m - 16.0*Iy*Kp*Zw - 16.0*Iy*Kp*m - 16.0*Kp*Mq*Zw - 16.0*Kp*Mq*m + 16.0*Kp*m**2*xG**2) + 16.0*Kp*dp1*m*x6*xG/(-16.0*Ix*Iy*Zw - 16.0*Ix*Iy*m - 16.0*Ix*Mq*Zw - 16.0*Ix*Mq*m + 16.0*Ix*m**2*xG**2 + 16.0*Ixy**2*Zw + 16.0*Ixy**2*m - 16.0*Iy*Kp*Zw - 16.0*Iy*Kp*m - 16.0*Kp*Mq*Zw - 16.0*Kp*Mq*m + 16.0*Kp*m**2*xG**2) + 16.0*Kp*dp2*m*x6**2*xG/(-16.0*Ix*Iy*Zw - 16.0*Ix*Iy*m - 16.0*Ix*Mq*Zw - 16.0*Ix*Mq*m + 16.0*Ix*m**2*xG**2 + 16.0*Ixy**2*Zw + 16.0*Ixy**2*m - 16.0*Iy*Kp*Zw - 16.0*Iy*Kp*m - 16.0*Kp*Mq*Zw - 16.0*Kp*Mq*m + 16.0*Kp*m**2*xG**2) - 16.0*Kp*m**2*u*x6*xG**2/(-16.0*Ix*Iy*Zw - 16.0*Ix*Iy*m - 16.0*Ix*Mq*Zw - 16.0*Ix*Mq*m + 16.0*Ix*m**2*xG**2 + 16.0*Ixy**2*Zw + 16.0*Ixy**2*m - 16.0*Iy*Kp*Zw - 16.0*Iy*Kp*m - 16.0*Kp*Mq*Zw - 16.0*Kp*Mq*m + 16.0*Kp*m**2*xG**2))\n",
      "---------------------------------------------X4D-------------------------------------------\n",
      "(x4d, -16.0*Ixy*Ixz*Zw*x4**2/(-16.0*Ix*Iy*Zw - 16.0*Ix*Iy*m - 16.0*Ix*Mq*Zw - 16.0*Ix*Mq*m + 16.0*Ix*m**2*xG**2 + 16.0*Ixy**2*Zw + 16.0*Ixy**2*m - 16.0*Iy*Kp*Zw - 16.0*Iy*Kp*m - 16.0*Kp*Mq*Zw - 16.0*Kp*Mq*m + 16.0*Kp*m**2*xG**2) - 16.0*Ixy*Ixz*m*x4**2/(-16.0*Ix*Iy*Zw - 16.0*Ix*Iy*m - 16.0*Ix*Mq*Zw - 16.0*Ix*Mq*m + 16.0*Ix*m**2*xG**2 + 16.0*Ixy**2*Zw + 16.0*Ixy**2*m - 16.0*Iy*Kp*Zw - 16.0*Iy*Kp*m - 16.0*Kp*Mq*Zw - 16.0*Kp*Mq*m + 16.0*Kp*m**2*xG**2) - 16.0*Ixy*Iyz*Zw*x4*x6/(-16.0*Ix*Iy*Zw - 16.0*Ix*Iy*m - 16.0*Ix*Mq*Zw - 16.0*Ix*Mq*m + 16.0*Ix*m**2*xG**2 + 16.0*Ixy**2*Zw + 16.0*Ixy**2*m - 16.0*Iy*Kp*Zw - 16.0*Iy*Kp*m - 16.0*Kp*Mq*Zw - 16.0*Kp*Mq*m + 16.0*Kp*m**2*xG**2) - 16.0*Ixy*Iyz*m*x4*x6/(-16.0*Ix*Iy*Zw - 16.0*Ix*Iy*m - 16.0*Ix*Mq*Zw - 16.0*Ix*Mq*m + 16.0*Ix*m**2*xG**2 + 16.0*Ixy**2*Zw + 16.0*Ixy**2*m - 16.0*Iy*Kp*Zw - 16.0*Iy*Kp*m - 16.0*Kp*Mq*Zw - 16.0*Kp*Mq*m + 16.0*Kp*m**2*xG**2) - 2.0*Ixy*S1*Zw*d1*rho*u**2*x5/(-16.0*Ix*Iy*Zw - 16.0*Ix*Iy*m - 16.0*Ix*Mq*Zw - 16.0*Ix*Mq*m + 16.0*Ix*m**2*xG**2 + 16.0*Ixy**2*Zw + 16.0*Ixy**2*m - 16.0*Iy*Kp*Zw - 16.0*Iy*Kp*m - 16.0*Kp*Mq*Zw - 16.0*Kp*Mq*m + 16.0*Kp*m**2*xG**2) - 2.0*Ixy*S1*Zw*d1*rho*x2**2*x5/(-16.0*Ix*Iy*Zw - 16.0*Ix*Iy*m - 16.0*Ix*Mq*Zw - 16.0*Ix*Mq*m + 16.0*Ix*m**2*xG**2 + 16.0*Ixy**2*Zw + 16.0*Ixy**2*m - 16.0*Iy*Kp*Zw - 16.0*Iy*Kp*m - 16.0*Kp*Mq*Zw - 16.0*Kp*Mq*m + 16.0*Kp*m**2*xG**2) - 2.0*Ixy*S1*d1*m*rho*u**2*x5/(-16.0*Ix*Iy*Zw - 16.0*Ix*Iy*m - 16.0*Ix*Mq*Zw - 16.0*Ix*Mq*m + 16.0*Ix*m**2*xG**2 + 16.0*Ixy**2*Zw + 16.0*Ixy**2*m - 16.0*Iy*Kp*Zw - 16.0*Iy*Kp*m - 16.0*Kp*Mq*Zw - 16.0*Kp*Mq*m + 16.0*Kp*m**2*xG**2) - 2.0*Ixy*S1*d1*m*rho*x2**2*x5/(-16.0*Ix*Iy*Zw - 16.0*Ix*Iy*m - 16.0*Ix*Mq*Zw - 16.0*Ix*Mq*m + 16.0*Ix*m**2*xG**2 + 16.0*Ixy**2*Zw + 16.0*Ixy**2*m - 16.0*Iy*Kp*Zw - 16.0*Iy*Kp*m - 16.0*Kp*Mq*Zw - 16.0*Kp*Mq*m + 16.0*Kp*m**2*xG**2) - 2.0*Ixy*S1*m*rho*u**2*x5*xG/(-16.0*Ix*Iy*Zw - 16.0*Ix*Iy*m - 16.0*Ix*Mq*Zw - 16.0*Ix*Mq*m + 16.0*Ix*m**2*xG**2 + 16.0*Ixy**2*Zw + 16.0*Ixy**2*m - 16.0*Iy*Kp*Zw - 16.0*Iy*Kp*m - 16.0*Kp*Mq*Zw - 16.0*Kp*Mq*m + 16.0*Kp*m**2*xG**2) - 2.0*Ixy*S1*m*rho*x2**2*x5*xG/(-16.0*Ix*Iy*Zw - 16.0*Ix*Iy*m - 16.0*Ix*Mq*Zw - 16.0*Ix*Mq*m + 16.0*Ix*m**2*xG**2 + 16.0*Ixy**2*Zw + 16.0*Ixy**2*m - 16.0*Iy*Kp*Zw - 16.0*Iy*Kp*m - 16.0*Kp*Mq*Zw - 16.0*Kp*Mq*m + 16.0*Kp*m**2*xG**2) + Ixy*S2*Zw*d2*rho*u**2*u1/(-16.0*Ix*Iy*Zw - 16.0*Ix*Iy*m - 16.0*Ix*Mq*Zw - 16.0*Ix*Mq*m + 16.0*Ix*m**2*xG**2 + 16.0*Ixy**2*Zw + 16.0*Ixy**2*m - 16.0*Iy*Kp*Zw - 16.0*Iy*Kp*m - 16.0*Kp*Mq*Zw - 16.0*Kp*Mq*m + 16.0*Kp*m**2*xG**2) + Ixy*S2*Zw*d2*rho*u**2*u2/(-16.0*Ix*Iy*Zw - 16.0*Ix*Iy*m - 16.0*Ix*Mq*Zw - 16.0*Ix*Mq*m + 16.0*Ix*m**2*xG**2 + 16.0*Ixy**2*Zw + 16.0*Ixy**2*m - 16.0*Iy*Kp*Zw - 16.0*Iy*Kp*m - 16.0*Kp*Mq*Zw - 16.0*Kp*Mq*m + 16.0*Kp*m**2*xG**2) - 2.0*Ixy*S2*Zw*d2*rho*u**2*x5/(-16.0*Ix*Iy*Zw - 16.0*Ix*Iy*m - 16.0*Ix*Mq*Zw - 16.0*Ix*Mq*m + 16.0*Ix*m**2*xG**2 + 16.0*Ixy**2*Zw + 16.0*Ixy**2*m - 16.0*Iy*Kp*Zw - 16.0*Iy*Kp*m - 16.0*Kp*Mq*Zw - 16.0*Kp*Mq*m + 16.0*Kp*m**2*xG**2) + Ixy*S2*Zw*d2*rho*u1*x2**2/(-16.0*Ix*Iy*Zw - 16.0*Ix*Iy*m - 16.0*Ix*Mq*Zw - 16.0*Ix*Mq*m + 16.0*Ix*m**2*xG**2 + 16.0*Ixy**2*Zw + 16.0*Ixy**2*m - 16.0*Iy*Kp*Zw - 16.0*Iy*Kp*m - 16.0*Kp*Mq*Zw - 16.0*Kp*Mq*m + 16.0*Kp*m**2*xG**2) + Ixy*S2*Zw*d2*rho*u2*x2**2/(-16.0*Ix*Iy*Zw - 16.0*Ix*Iy*m - 16.0*Ix*Mq*Zw - 16.0*Ix*Mq*m + 16.0*Ix*m**2*xG**2 + 16.0*Ixy**2*Zw + 16.0*Ixy**2*m - 16.0*Iy*Kp*Zw - 16.0*Iy*Kp*m - 16.0*Kp*Mq*Zw - 16.0*Kp*Mq*m + 16.0*Kp*m**2*xG**2) - 2.0*Ixy*S2*Zw*d2*rho*x2**2*x5/(-16.0*Ix*Iy*Zw - 16.0*Ix*Iy*m - 16.0*Ix*Mq*Zw - 16.0*Ix*Mq*m + 16.0*Ix*m**2*xG**2 + 16.0*Ixy**2*Zw + 16.0*Ixy**2*m - 16.0*Iy*Kp*Zw - 16.0*Iy*Kp*m - 16.0*Kp*Mq*Zw - 16.0*Kp*Mq*m + 16.0*Kp*m**2*xG**2) + Ixy*S2*d2*m*rho*u**2*u1/(-16.0*Ix*Iy*Zw - 16.0*Ix*Iy*m - 16.0*Ix*Mq*Zw - 16.0*Ix*Mq*m + 16.0*Ix*m**2*xG**2 + 16.0*Ixy**2*Zw + 16.0*Ixy**2*m - 16.0*Iy*Kp*Zw - 16.0*Iy*Kp*m - 16.0*Kp*Mq*Zw - 16.0*Kp*Mq*m + 16.0*Kp*m**2*xG**2) + Ixy*S2*d2*m*rho*u**2*u2/(-16.0*Ix*Iy*Zw - 16.0*Ix*Iy*m - 16.0*Ix*Mq*Zw - 16.0*Ix*Mq*m + 16.0*Ix*m**2*xG**2 + 16.0*Ixy**2*Zw + 16.0*Ixy**2*m - 16.0*Iy*Kp*Zw - 16.0*Iy*Kp*m - 16.0*Kp*Mq*Zw - 16.0*Kp*Mq*m + 16.0*Kp*m**2*xG**2) - 2.0*Ixy*S2*d2*m*rho*u**2*x5/(-16.0*Ix*Iy*Zw - 16.0*Ix*Iy*m - 16.0*Ix*Mq*Zw - 16.0*Ix*Mq*m + 16.0*Ix*m**2*xG**2 + 16.0*Ixy**2*Zw + 16.0*Ixy**2*m - 16.0*Iy*Kp*Zw - 16.0*Iy*Kp*m - 16.0*Kp*Mq*Zw - 16.0*Kp*Mq*m + 16.0*Kp*m**2*xG**2) + Ixy*S2*d2*m*rho*u1*x2**2/(-16.0*Ix*Iy*Zw - 16.0*Ix*Iy*m - 16.0*Ix*Mq*Zw - 16.0*Ix*Mq*m + 16.0*Ix*m**2*xG**2 + 16.0*Ixy**2*Zw + 16.0*Ixy**2*m - 16.0*Iy*Kp*Zw - 16.0*Iy*Kp*m - 16.0*Kp*Mq*Zw - 16.0*Kp*Mq*m + 16.0*Kp*m**2*xG**2) + Ixy*S2*d2*m*rho*u2*x2**2/(-16.0*Ix*Iy*Zw - 16.0*Ix*Iy*m - 16.0*Ix*Mq*Zw - 16.0*Ix*Mq*m + 16.0*Ix*m**2*xG**2 + 16.0*Ixy**2*Zw + 16.0*Ixy**2*m - 16.0*Iy*Kp*Zw - 16.0*Iy*Kp*m - 16.0*Kp*Mq*Zw - 16.0*Kp*Mq*m + 16.0*Kp*m**2*xG**2) - 2.0*Ixy*S2*d2*m*rho*x2**2*x5/(-16.0*Ix*Iy*Zw - 16.0*Ix*Iy*m - 16.0*Ix*Mq*Zw - 16.0*Ix*Mq*m + 16.0*Ix*m**2*xG**2 + 16.0*Ixy**2*Zw + 16.0*Ixy**2*m - 16.0*Iy*Kp*Zw - 16.0*Iy*Kp*m - 16.0*Kp*Mq*Zw - 16.0*Kp*Mq*m + 16.0*Kp*m**2*xG**2) + Ixy*S2*m*rho*u**2*u1*xG/(-16.0*Ix*Iy*Zw - 16.0*Ix*Iy*m - 16.0*Ix*Mq*Zw - 16.0*Ix*Mq*m + 16.0*Ix*m**2*xG**2 + 16.0*Ixy**2*Zw + 16.0*Ixy**2*m - 16.0*Iy*Kp*Zw - 16.0*Iy*Kp*m - 16.0*Kp*Mq*Zw - 16.0*Kp*Mq*m + 16.0*Kp*m**2*xG**2) + Ixy*S2*m*rho*u**2*u2*xG/(-16.0*Ix*Iy*Zw - 16.0*Ix*Iy*m - 16.0*Ix*Mq*Zw - 16.0*Ix*Mq*m + 16.0*Ix*m**2*xG**2 + 16.0*Ixy**2*Zw + 16.0*Ixy**2*m - 16.0*Iy*Kp*Zw - 16.0*Iy*Kp*m - 16.0*Kp*Mq*Zw - 16.0*Kp*Mq*m + 16.0*Kp*m**2*xG**2) - 2.0*Ixy*S2*m*rho*u**2*x5*xG/(-16.0*Ix*Iy*Zw - 16.0*Ix*Iy*m - 16.0*Ix*Mq*Zw - 16.0*Ix*Mq*m + 16.0*Ix*m**2*xG**2 + 16.0*Ixy**2*Zw + 16.0*Ixy**2*m - 16.0*Iy*Kp*Zw - 16.0*Iy*Kp*m - 16.0*Kp*Mq*Zw - 16.0*Kp*Mq*m + 16.0*Kp*m**2*xG**2) + Ixy*S2*m*rho*u1*x2**2*xG/(-16.0*Ix*Iy*Zw - 16.0*Ix*Iy*m - 16.0*Ix*Mq*Zw - 16.0*Ix*Mq*m + 16.0*Ix*m**2*xG**2 + 16.0*Ixy**2*Zw + 16.0*Ixy**2*m - 16.0*Iy*Kp*Zw - 16.0*Iy*Kp*m - 16.0*Kp*Mq*Zw - 16.0*Kp*Mq*m + 16.0*Kp*m**2*xG**2) + Ixy*S2*m*rho*u2*x2**2*xG/(-16.0*Ix*Iy*Zw - 16.0*Ix*Iy*m - 16.0*Ix*Mq*Zw - 16.0*Ix*Mq*m + 16.0*Ix*m**2*xG**2 + 16.0*Ixy**2*Zw + 16.0*Ixy**2*m - 16.0*Iy*Kp*Zw - 16.0*Iy*Kp*m - 16.0*Kp*Mq*Zw - 16.0*Kp*Mq*m + 16.0*Kp*m**2*xG**2) - 2.0*Ixy*S2*m*rho*x2**2*x5*xG/(-16.0*Ix*Iy*Zw - 16.0*Ix*Iy*m - 16.0*Ix*Mq*Zw - 16.0*Ix*Mq*m + 16.0*Ix*m**2*xG**2 + 16.0*Ixy**2*Zw + 16.0*Ixy**2*m - 16.0*Iy*Kp*Zw - 16.0*Iy*Kp*m - 16.0*Kp*Mq*Zw - 16.0*Kp*Mq*m + 16.0*Kp*m**2*xG**2) - 2.0*Ixy*S3*Zw*d3*rho*u**2*x5/(-16.0*Ix*Iy*Zw - 16.0*Ix*Iy*m - 16.0*Ix*Mq*Zw - 16.0*Ix*Mq*m + 16.0*Ix*m**2*xG**2 + 16.0*Ixy**2*Zw + 16.0*Ixy**2*m - 16.0*Iy*Kp*Zw - 16.0*Iy*Kp*m - 16.0*Kp*Mq*Zw - 16.0*Kp*Mq*m + 16.0*Kp*m**2*xG**2) - 2.0*Ixy*S3*Zw*d3*rho*x2**2*x5/(-16.0*Ix*Iy*Zw - 16.0*Ix*Iy*m - 16.0*Ix*Mq*Zw - 16.0*Ix*Mq*m + 16.0*Ix*m**2*xG**2 + 16.0*Ixy**2*Zw + 16.0*Ixy**2*m - 16.0*Iy*Kp*Zw - 16.0*Iy*Kp*m - 16.0*Kp*Mq*Zw - 16.0*Kp*Mq*m + 16.0*Kp*m**2*xG**2) - 2.0*Ixy*S3*d3*m*rho*u**2*x5/(-16.0*Ix*Iy*Zw - 16.0*Ix*Iy*m - 16.0*Ix*Mq*Zw - 16.0*Ix*Mq*m + 16.0*Ix*m**2*xG**2 + 16.0*Ixy**2*Zw + 16.0*Ixy**2*m - 16.0*Iy*Kp*Zw - 16.0*Iy*Kp*m - 16.0*Kp*Mq*Zw - 16.0*Kp*Mq*m + 16.0*Kp*m**2*xG**2) - 2.0*Ixy*S3*d3*m*rho*x2**2*x5/(-16.0*Ix*Iy*Zw - 16.0*Ix*Iy*m - 16.0*Ix*Mq*Zw - 16.0*Ix*Mq*m + 16.0*Ix*m**2*xG**2 + 16.0*Ixy**2*Zw + 16.0*Ixy**2*m - 16.0*Iy*Kp*Zw - 16.0*Iy*Kp*m - 16.0*Kp*Mq*Zw - 16.0*Kp*Mq*m + 16.0*Kp*m**2*xG**2) - 2.0*Ixy*S3*m*rho*u**2*x5*xG/(-16.0*Ix*Iy*Zw - 16.0*Ix*Iy*m - 16.0*Ix*Mq*Zw - 16.0*Ix*Mq*m + 16.0*Ix*m**2*xG**2 + 16.0*Ixy**2*Zw + 16.0*Ixy**2*m - 16.0*Iy*Kp*Zw - 16.0*Iy*Kp*m - 16.0*Kp*Mq*Zw - 16.0*Kp*Mq*m + 16.0*Kp*m**2*xG**2) - 2.0*Ixy*S3*m*rho*x2**2*x5*xG/(-16.0*Ix*Iy*Zw - 16.0*Ix*Iy*m - 16.0*Ix*Mq*Zw - 16.0*Ix*Mq*m + 16.0*Ix*m**2*xG**2 + 16.0*Ixy**2*Zw + 16.0*Ixy**2*m - 16.0*Iy*Kp*Zw - 16.0*Iy*Kp*m - 16.0*Kp*Mq*Zw - 16.0*Kp*Mq*m + 16.0*Kp*m**2*xG**2) + 2.0*Ixy*S4*Zw*d4*rho*u**2*u3/(-16.0*Ix*Iy*Zw - 16.0*Ix*Iy*m - 16.0*Ix*Mq*Zw - 16.0*Ix*Mq*m + 16.0*Ix*m**2*xG**2 + 16.0*Ixy**2*Zw + 16.0*Ixy**2*m - 16.0*Iy*Kp*Zw - 16.0*Iy*Kp*m - 16.0*Kp*Mq*Zw - 16.0*Kp*Mq*m + 16.0*Kp*m**2*xG**2) - 2.0*Ixy*S4*Zw*d4*rho*u**2*x5/(-16.0*Ix*Iy*Zw - 16.0*Ix*Iy*m - 16.0*Ix*Mq*Zw - 16.0*Ix*Mq*m + 16.0*Ix*m**2*xG**2 + 16.0*Ixy**2*Zw + 16.0*Ixy**2*m - 16.0*Iy*Kp*Zw - 16.0*Iy*Kp*m - 16.0*Kp*Mq*Zw - 16.0*Kp*Mq*m + 16.0*Kp*m**2*xG**2) + 2.0*Ixy*S4*Zw*d4*rho*u3*x2**2/(-16.0*Ix*Iy*Zw - 16.0*Ix*Iy*m - 16.0*Ix*Mq*Zw - 16.0*Ix*Mq*m + 16.0*Ix*m**2*xG**2 + 16.0*Ixy**2*Zw + 16.0*Ixy**2*m - 16.0*Iy*Kp*Zw - 16.0*Iy*Kp*m - 16.0*Kp*Mq*Zw - 16.0*Kp*Mq*m + 16.0*Kp*m**2*xG**2) - 2.0*Ixy*S4*Zw*d4*rho*x2**2*x5/(-16.0*Ix*Iy*Zw - 16.0*Ix*Iy*m - 16.0*Ix*Mq*Zw - 16.0*Ix*Mq*m + 16.0*Ix*m**2*xG**2 + 16.0*Ixy**2*Zw + 16.0*Ixy**2*m - 16.0*Iy*Kp*Zw - 16.0*Iy*Kp*m - 16.0*Kp*Mq*Zw - 16.0*Kp*Mq*m + 16.0*Kp*m**2*xG**2) + 2.0*Ixy*S4*d4*m*rho*u**2*u3/(-16.0*Ix*Iy*Zw - 16.0*Ix*Iy*m - 16.0*Ix*Mq*Zw - 16.0*Ix*Mq*m + 16.0*Ix*m**2*xG**2 + 16.0*Ixy**2*Zw + 16.0*Ixy**2*m - 16.0*Iy*Kp*Zw - 16.0*Iy*Kp*m - 16.0*Kp*Mq*Zw - 16.0*Kp*Mq*m + 16.0*Kp*m**2*xG**2) - 2.0*Ixy*S4*d4*m*rho*u**2*x5/(-16.0*Ix*Iy*Zw - 16.0*Ix*Iy*m - 16.0*Ix*Mq*Zw - 16.0*Ix*Mq*m + 16.0*Ix*m**2*xG**2 + 16.0*Ixy**2*Zw + 16.0*Ixy**2*m - 16.0*Iy*Kp*Zw - 16.0*Iy*Kp*m - 16.0*Kp*Mq*Zw - 16.0*Kp*Mq*m + 16.0*Kp*m**2*xG**2) + 2.0*Ixy*S4*d4*m*rho*u3*x2**2/(-16.0*Ix*Iy*Zw - 16.0*Ix*Iy*m - 16.0*Ix*Mq*Zw - 16.0*Ix*Mq*m + 16.0*Ix*m**2*xG**2 + 16.0*Ixy**2*Zw + 16.0*Ixy**2*m - 16.0*Iy*Kp*Zw - 16.0*Iy*Kp*m - 16.0*Kp*Mq*Zw - 16.0*Kp*Mq*m + 16.0*Kp*m**2*xG**2) - 2.0*Ixy*S4*d4*m*rho*x2**2*x5/(-16.0*Ix*Iy*Zw - 16.0*Ix*Iy*m - 16.0*Ix*Mq*Zw - 16.0*Ix*Mq*m + 16.0*Ix*m**2*xG**2 + 16.0*Ixy**2*Zw + 16.0*Ixy**2*m - 16.0*Iy*Kp*Zw - 16.0*Iy*Kp*m - 16.0*Kp*Mq*Zw - 16.0*Kp*Mq*m + 16.0*Kp*m**2*xG**2) + 2.0*Ixy*S4*m*rho*u**2*u3*xG/(-16.0*Ix*Iy*Zw - 16.0*Ix*Iy*m - 16.0*Ix*Mq*Zw - 16.0*Ix*Mq*m + 16.0*Ix*m**2*xG**2 + 16.0*Ixy**2*Zw + 16.0*Ixy**2*m - 16.0*Iy*Kp*Zw - 16.0*Iy*Kp*m - 16.0*Kp*Mq*Zw - 16.0*Kp*Mq*m + 16.0*Kp*m**2*xG**2) - 2.0*Ixy*S4*m*rho*u**2*x5*xG/(-16.0*Ix*Iy*Zw - 16.0*Ix*Iy*m - 16.0*Ix*Mq*Zw - 16.0*Ix*Mq*m + 16.0*Ix*m**2*xG**2 + 16.0*Ixy**2*Zw + 16.0*Ixy**2*m - 16.0*Iy*Kp*Zw - 16.0*Iy*Kp*m - 16.0*Kp*Mq*Zw - 16.0*Kp*Mq*m + 16.0*Kp*m**2*xG**2) + 2.0*Ixy*S4*m*rho*u3*x2**2*xG/(-16.0*Ix*Iy*Zw - 16.0*Ix*Iy*m - 16.0*Ix*Mq*Zw - 16.0*Ix*Mq*m + 16.0*Ix*m**2*xG**2 + 16.0*Ixy**2*Zw + 16.0*Ixy**2*m - 16.0*Iy*Kp*Zw - 16.0*Iy*Kp*m - 16.0*Kp*Mq*Zw - 16.0*Kp*Mq*m + 16.0*Kp*m**2*xG**2) - 2.0*Ixy*S4*m*rho*x2**2*x5*xG/(-16.0*Ix*Iy*Zw - 16.0*Ix*Iy*m - 16.0*Ix*Mq*Zw - 16.0*Ix*Mq*m + 16.0*Ix*m**2*xG**2 + 16.0*Ixy**2*Zw + 16.0*Ixy**2*m - 16.0*Iy*Kp*Zw - 16.0*Iy*Kp*m - 16.0*Kp*Mq*Zw - 16.0*Kp*Mq*m + 16.0*Kp*m**2*xG**2) - 16.0*Ixy*Vol*Zw*db*g*rho*sin(x5)/(-16.0*Ix*Iy*Zw - 16.0*Ix*Iy*m - 16.0*Ix*Mq*Zw - 16.0*Ix*Mq*m + 16.0*Ix*m**2*xG**2 + 16.0*Ixy**2*Zw + 16.0*Ixy**2*m - 16.0*Iy*Kp*Zw - 16.0*Iy*Kp*m - 16.0*Kp*Mq*Zw - 16.0*Kp*Mq*m + 16.0*Kp*m**2*xG**2) - 16.0*Ixy*Vol*db*g*m*rho*sin(x5)/(-16.0*Ix*Iy*Zw - 16.0*Ix*Iy*m - 16.0*Ix*Mq*Zw - 16.0*Ix*Mq*m + 16.0*Ix*m**2*xG**2 + 16.0*Ixy**2*Zw + 16.0*Ixy**2*m - 16.0*Iy*Kp*Zw - 16.0*Iy*Kp*m - 16.0*Kp*Mq*Zw - 16.0*Kp*Mq*m + 16.0*Kp*m**2*xG**2) - 16.0*Ixy*Vol*g*m*rho*xG*sin(x5)/(-16.0*Ix*Iy*Zw - 16.0*Ix*Iy*m - 16.0*Ix*Mq*Zw - 16.0*Ix*Mq*m + 16.0*Ix*m**2*xG**2 + 16.0*Ixy**2*Zw + 16.0*Ixy**2*m - 16.0*Iy*Kp*Zw - 16.0*Iy*Kp*m - 16.0*Kp*Mq*Zw - 16.0*Kp*Mq*m + 16.0*Kp*m**2*xG**2) - 16.0*Ixy*Zw**2*u*x2/(-16.0*Ix*Iy*Zw - 16.0*Ix*Iy*m - 16.0*Ix*Mq*Zw - 16.0*Ix*Mq*m + 16.0*Ix*m**2*xG**2 + 16.0*Ixy**2*Zw + 16.0*Ixy**2*m - 16.0*Iy*Kp*Zw - 16.0*Iy*Kp*m - 16.0*Kp*Mq*Zw - 16.0*Kp*Mq*m + 16.0*Kp*m**2*xG**2) + 16.0*Ixy*Zw*dg*g*m*sin(x5)/(-16.0*Ix*Iy*Zw - 16.0*Ix*Iy*m - 16.0*Ix*Mq*Zw - 16.0*Ix*Mq*m + 16.0*Ix*m**2*xG**2 + 16.0*Ixy**2*Zw + 16.0*Ixy**2*m - 16.0*Iy*Kp*Zw - 16.0*Iy*Kp*m - 16.0*Kp*Mq*Zw - 16.0*Kp*Mq*m + 16.0*Kp*m**2*xG**2) + 16.0*Ixy*Zw*dp1*x6/(-16.0*Ix*Iy*Zw - 16.0*Ix*Iy*m - 16.0*Ix*Mq*Zw - 16.0*Ix*Mq*m + 16.0*Ix*m**2*xG**2 + 16.0*Ixy**2*Zw + 16.0*Ixy**2*m - 16.0*Iy*Kp*Zw - 16.0*Iy*Kp*m - 16.0*Kp*Mq*Zw - 16.0*Kp*Mq*m + 16.0*Kp*m**2*xG**2) + 16.0*Ixy*Zw*dp2*x6**2/(-16.0*Ix*Iy*Zw - 16.0*Ix*Iy*m - 16.0*Ix*Mq*Zw - 16.0*Ix*Mq*m + 16.0*Ix*m**2*xG**2 + 16.0*Ixy**2*Zw + 16.0*Ixy**2*m - 16.0*Iy*Kp*Zw - 16.0*Iy*Kp*m - 16.0*Kp*Mq*Zw - 16.0*Kp*Mq*m + 16.0*Kp*m**2*xG**2) - 16.0*Ixy*Zw*m*u*x2/(-16.0*Ix*Iy*Zw - 16.0*Ix*Iy*m - 16.0*Ix*Mq*Zw - 16.0*Ix*Mq*m + 16.0*Ix*m**2*xG**2 + 16.0*Ixy**2*Zw + 16.0*Ixy**2*m - 16.0*Iy*Kp*Zw - 16.0*Iy*Kp*m - 16.0*Kp*Mq*Zw - 16.0*Kp*Mq*m + 16.0*Kp*m**2*xG**2) - 16.0*Ixy*Zw*m*u*x6*xG/(-16.0*Ix*Iy*Zw - 16.0*Ix*Iy*m - 16.0*Ix*Mq*Zw - 16.0*Ix*Mq*m + 16.0*Ix*m**2*xG**2 + 16.0*Ixy**2*Zw + 16.0*Ixy**2*m - 16.0*Iy*Kp*Zw - 16.0*Iy*Kp*m - 16.0*Kp*Mq*Zw - 16.0*Kp*Mq*m + 16.0*Kp*m**2*xG**2) + 16.0*Ixy*dg*g*m**2*sin(x5)/(-16.0*Ix*Iy*Zw - 16.0*Ix*Iy*m - 16.0*Ix*Mq*Zw - 16.0*Ix*Mq*m + 16.0*Ix*m**2*xG**2 + 16.0*Ixy**2*Zw + 16.0*Ixy**2*m - 16.0*Iy*Kp*Zw - 16.0*Iy*Kp*m - 16.0*Kp*Mq*Zw - 16.0*Kp*Mq*m + 16.0*Kp*m**2*xG**2) + 16.0*Ixy*dh1*m*x2*xG/(-16.0*Ix*Iy*Zw - 16.0*Ix*Iy*m - 16.0*Ix*Mq*Zw - 16.0*Ix*Mq*m + 16.0*Ix*m**2*xG**2 + 16.0*Ixy**2*Zw + 16.0*Ixy**2*m - 16.0*Iy*Kp*Zw - 16.0*Iy*Kp*m - 16.0*Kp*Mq*Zw - 16.0*Kp*Mq*m + 16.0*Kp*m**2*xG**2) + 16.0*Ixy*dh2*m*x2**2*xG/(-16.0*Ix*Iy*Zw - 16.0*Ix*Iy*m - 16.0*Ix*Mq*Zw - 16.0*Ix*Mq*m + 16.0*Ix*m**2*xG**2 + 16.0*Ixy**2*Zw + 16.0*Ixy**2*m - 16.0*Iy*Kp*Zw - 16.0*Iy*Kp*m - 16.0*Kp*Mq*Zw - 16.0*Kp*Mq*m + 16.0*Kp*m**2*xG**2) + 16.0*Ixy*dp1*m*x6/(-16.0*Ix*Iy*Zw - 16.0*Ix*Iy*m - 16.0*Ix*Mq*Zw - 16.0*Ix*Mq*m + 16.0*Ix*m**2*xG**2 + 16.0*Ixy**2*Zw + 16.0*Ixy**2*m - 16.0*Iy*Kp*Zw - 16.0*Iy*Kp*m - 16.0*Kp*Mq*Zw - 16.0*Kp*Mq*m + 16.0*Kp*m**2*xG**2) + 16.0*Ixy*dp2*m*x6**2/(-16.0*Ix*Iy*Zw - 16.0*Ix*Iy*m - 16.0*Ix*Mq*Zw - 16.0*Ix*Mq*m + 16.0*Ix*m**2*xG**2 + 16.0*Ixy**2*Zw + 16.0*Ixy**2*m - 16.0*Iy*Kp*Zw - 16.0*Iy*Kp*m - 16.0*Kp*Mq*Zw - 16.0*Kp*Mq*m + 16.0*Kp*m**2*xG**2) + 16.0*Ixy*g*m**2*xG*sin(x5)/(-16.0*Ix*Iy*Zw - 16.0*Ix*Iy*m - 16.0*Ix*Mq*Zw - 16.0*Ix*Mq*m + 16.0*Ix*m**2*xG**2 + 16.0*Ixy**2*Zw + 16.0*Ixy**2*m - 16.0*Iy*Kp*Zw - 16.0*Iy*Kp*m - 16.0*Kp*Mq*Zw - 16.0*Kp*Mq*m + 16.0*Kp*m**2*xG**2) + 16.0*Ixz*Iy*Zw*x4*x6/(-16.0*Ix*Iy*Zw - 16.0*Ix*Iy*m - 16.0*Ix*Mq*Zw - 16.0*Ix*Mq*m + 16.0*Ix*m**2*xG**2 + 16.0*Ixy**2*Zw + 16.0*Ixy**2*m - 16.0*Iy*Kp*Zw - 16.0*Iy*Kp*m - 16.0*Kp*Mq*Zw - 16.0*Kp*Mq*m + 16.0*Kp*m**2*xG**2) + 16.0*Ixz*Iy*m*x4*x6/(-16.0*Ix*Iy*Zw - 16.0*Ix*Iy*m - 16.0*Ix*Mq*Zw - 16.0*Ix*Mq*m + 16.0*Ix*m**2*xG**2 + 16.0*Ixy**2*Zw + 16.0*Ixy**2*m - 16.0*Iy*Kp*Zw - 16.0*Iy*Kp*m - 16.0*Kp*Mq*Zw - 16.0*Kp*Mq*m + 16.0*Kp*m**2*xG**2) + 16.0*Ixz*Mq*Zw*x4*x6/(-16.0*Ix*Iy*Zw - 16.0*Ix*Iy*m - 16.0*Ix*Mq*Zw - 16.0*Ix*Mq*m + 16.0*Ix*m**2*xG**2 + 16.0*Ixy**2*Zw + 16.0*Ixy**2*m - 16.0*Iy*Kp*Zw - 16.0*Iy*Kp*m - 16.0*Kp*Mq*Zw - 16.0*Kp*Mq*m + 16.0*Kp*m**2*xG**2) + 16.0*Ixz*Mq*m*x4*x6/(-16.0*Ix*Iy*Zw - 16.0*Ix*Iy*m - 16.0*Ix*Mq*Zw - 16.0*Ix*Mq*m + 16.0*Ix*m**2*xG**2 + 16.0*Ixy**2*Zw + 16.0*Ixy**2*m - 16.0*Iy*Kp*Zw - 16.0*Iy*Kp*m - 16.0*Kp*Mq*Zw - 16.0*Kp*Mq*m + 16.0*Kp*m**2*xG**2) - 16.0*Ixz*m**2*x4*x6*xG**2/(-16.0*Ix*Iy*Zw - 16.0*Ix*Iy*m - 16.0*Ix*Mq*Zw - 16.0*Ix*Mq*m + 16.0*Ix*m**2*xG**2 + 16.0*Ixy**2*Zw + 16.0*Ixy**2*m - 16.0*Iy*Kp*Zw - 16.0*Iy*Kp*m - 16.0*Kp*Mq*Zw - 16.0*Kp*Mq*m + 16.0*Kp*m**2*xG**2) - 16.0*Iy*Iyx*Zw*x6**2/(-16.0*Ix*Iy*Zw - 16.0*Ix*Iy*m - 16.0*Ix*Mq*Zw - 16.0*Ix*Mq*m + 16.0*Ix*m**2*xG**2 + 16.0*Ixy**2*Zw + 16.0*Ixy**2*m - 16.0*Iy*Kp*Zw - 16.0*Iy*Kp*m - 16.0*Kp*Mq*Zw - 16.0*Kp*Mq*m + 16.0*Kp*m**2*xG**2) - 16.0*Iy*Iyx*m*x6**2/(-16.0*Ix*Iy*Zw - 16.0*Ix*Iy*m - 16.0*Ix*Mq*Zw - 16.0*Ix*Mq*m + 16.0*Ix*m**2*xG**2 + 16.0*Ixy**2*Zw + 16.0*Ixy**2*m - 16.0*Iy*Kp*Zw - 16.0*Iy*Kp*m - 16.0*Kp*Mq*Zw - 16.0*Kp*Mq*m + 16.0*Kp*m**2*xG**2) + Iy*S2*Zw*r1*rho*u**2*u1/(-16.0*Ix*Iy*Zw - 16.0*Ix*Iy*m - 16.0*Ix*Mq*Zw - 16.0*Ix*Mq*m + 16.0*Ix*m**2*xG**2 + 16.0*Ixy**2*Zw + 16.0*Ixy**2*m - 16.0*Iy*Kp*Zw - 16.0*Iy*Kp*m - 16.0*Kp*Mq*Zw - 16.0*Kp*Mq*m + 16.0*Kp*m**2*xG**2) - Iy*S2*Zw*r1*rho*u**2*u2/(-16.0*Ix*Iy*Zw - 16.0*Ix*Iy*m - 16.0*Ix*Mq*Zw - 16.0*Ix*Mq*m + 16.0*Ix*m**2*xG**2 + 16.0*Ixy**2*Zw + 16.0*Ixy**2*m - 16.0*Iy*Kp*Zw - 16.0*Iy*Kp*m - 16.0*Kp*Mq*Zw - 16.0*Kp*Mq*m + 16.0*Kp*m**2*xG**2) + Iy*S2*Zw*r1*rho*u1*x2**2/(-16.0*Ix*Iy*Zw - 16.0*Ix*Iy*m - 16.0*Ix*Mq*Zw - 16.0*Ix*Mq*m + 16.0*Ix*m**2*xG**2 + 16.0*Ixy**2*Zw + 16.0*Ixy**2*m - 16.0*Iy*Kp*Zw - 16.0*Iy*Kp*m - 16.0*Kp*Mq*Zw - 16.0*Kp*Mq*m + 16.0*Kp*m**2*xG**2) - Iy*S2*Zw*r1*rho*u2*x2**2/(-16.0*Ix*Iy*Zw - 16.0*Ix*Iy*m - 16.0*Ix*Mq*Zw - 16.0*Ix*Mq*m + 16.0*Ix*m**2*xG**2 + 16.0*Ixy**2*Zw + 16.0*Ixy**2*m - 16.0*Iy*Kp*Zw - 16.0*Iy*Kp*m - 16.0*Kp*Mq*Zw - 16.0*Kp*Mq*m + 16.0*Kp*m**2*xG**2) + Iy*S2*m*r1*rho*u**2*u1/(-16.0*Ix*Iy*Zw - 16.0*Ix*Iy*m - 16.0*Ix*Mq*Zw - 16.0*Ix*Mq*m + 16.0*Ix*m**2*xG**2 + 16.0*Ixy**2*Zw + 16.0*Ixy**2*m - 16.0*Iy*Kp*Zw - 16.0*Iy*Kp*m - 16.0*Kp*Mq*Zw - 16.0*Kp*Mq*m + 16.0*Kp*m**2*xG**2) - Iy*S2*m*r1*rho*u**2*u2/(-16.0*Ix*Iy*Zw - 16.0*Ix*Iy*m - 16.0*Ix*Mq*Zw - 16.0*Ix*Mq*m + 16.0*Ix*m**2*xG**2 + 16.0*Ixy**2*Zw + 16.0*Ixy**2*m - 16.0*Iy*Kp*Zw - 16.0*Iy*Kp*m - 16.0*Kp*Mq*Zw - 16.0*Kp*Mq*m + 16.0*Kp*m**2*xG**2) + Iy*S2*m*r1*rho*u1*x2**2/(-16.0*Ix*Iy*Zw - 16.0*Ix*Iy*m - 16.0*Ix*Mq*Zw - 16.0*Ix*Mq*m + 16.0*Ix*m**2*xG**2 + 16.0*Ixy**2*Zw + 16.0*Ixy**2*m - 16.0*Iy*Kp*Zw - 16.0*Iy*Kp*m - 16.0*Kp*Mq*Zw - 16.0*Kp*Mq*m + 16.0*Kp*m**2*xG**2) - Iy*S2*m*r1*rho*u2*x2**2/(-16.0*Ix*Iy*Zw - 16.0*Ix*Iy*m - 16.0*Ix*Mq*Zw - 16.0*Ix*Mq*m + 16.0*Ix*m**2*xG**2 + 16.0*Ixy**2*Zw + 16.0*Ixy**2*m - 16.0*Iy*Kp*Zw - 16.0*Iy*Kp*m - 16.0*Kp*Mq*Zw - 16.0*Kp*Mq*m + 16.0*Kp*m**2*xG**2) + 16.0*Iy*Zw*dr1*x4/(-16.0*Ix*Iy*Zw - 16.0*Ix*Iy*m - 16.0*Ix*Mq*Zw - 16.0*Ix*Mq*m + 16.0*Ix*m**2*xG**2 + 16.0*Ixy**2*Zw + 16.0*Ixy**2*m - 16.0*Iy*Kp*Zw - 16.0*Iy*Kp*m - 16.0*Kp*Mq*Zw - 16.0*Kp*Mq*m + 16.0*Kp*m**2*xG**2) + 16.0*Iy*Zw*dr2*x4**2/(-16.0*Ix*Iy*Zw - 16.0*Ix*Iy*m - 16.0*Ix*Mq*Zw - 16.0*Ix*Mq*m + 16.0*Ix*m**2*xG**2 + 16.0*Ixy**2*Zw + 16.0*Ixy**2*m - 16.0*Iy*Kp*Zw - 16.0*Iy*Kp*m - 16.0*Kp*Mq*Zw - 16.0*Kp*Mq*m + 16.0*Kp*m**2*xG**2) + 16.0*Iy*dr1*m*x4/(-16.0*Ix*Iy*Zw - 16.0*Ix*Iy*m - 16.0*Ix*Mq*Zw - 16.0*Ix*Mq*m + 16.0*Ix*m**2*xG**2 + 16.0*Ixy**2*Zw + 16.0*Ixy**2*m - 16.0*Iy*Kp*Zw - 16.0*Iy*Kp*m - 16.0*Kp*Mq*Zw - 16.0*Kp*Mq*m + 16.0*Kp*m**2*xG**2) + 16.0*Iy*dr2*m*x4**2/(-16.0*Ix*Iy*Zw - 16.0*Ix*Iy*m - 16.0*Ix*Mq*Zw - 16.0*Ix*Mq*m + 16.0*Ix*m**2*xG**2 + 16.0*Ixy**2*Zw + 16.0*Ixy**2*m - 16.0*Iy*Kp*Zw - 16.0*Iy*Kp*m - 16.0*Kp*Mq*Zw - 16.0*Kp*Mq*m + 16.0*Kp*m**2*xG**2) - 16.0*Iyx*Mq*Zw*x6**2/(-16.0*Ix*Iy*Zw - 16.0*Ix*Iy*m - 16.0*Ix*Mq*Zw - 16.0*Ix*Mq*m + 16.0*Ix*m**2*xG**2 + 16.0*Ixy**2*Zw + 16.0*Ixy**2*m - 16.0*Iy*Kp*Zw - 16.0*Iy*Kp*m - 16.0*Kp*Mq*Zw - 16.0*Kp*Mq*m + 16.0*Kp*m**2*xG**2) - 16.0*Iyx*Mq*m*x6**2/(-16.0*Ix*Iy*Zw - 16.0*Ix*Iy*m - 16.0*Ix*Mq*Zw - 16.0*Ix*Mq*m + 16.0*Ix*m**2*xG**2 + 16.0*Ixy**2*Zw + 16.0*Ixy**2*m - 16.0*Iy*Kp*Zw - 16.0*Iy*Kp*m - 16.0*Kp*Mq*Zw - 16.0*Kp*Mq*m + 16.0*Kp*m**2*xG**2) + 16.0*Iyx*m**2*x6**2*xG**2/(-16.0*Ix*Iy*Zw - 16.0*Ix*Iy*m - 16.0*Ix*Mq*Zw - 16.0*Ix*Mq*m + 16.0*Ix*m**2*xG**2 + 16.0*Ixy**2*Zw + 16.0*Ixy**2*m - 16.0*Iy*Kp*Zw - 16.0*Iy*Kp*m - 16.0*Kp*Mq*Zw - 16.0*Kp*Mq*m + 16.0*Kp*m**2*xG**2) + Mq*S2*Zw*r1*rho*u**2*u1/(-16.0*Ix*Iy*Zw - 16.0*Ix*Iy*m - 16.0*Ix*Mq*Zw - 16.0*Ix*Mq*m + 16.0*Ix*m**2*xG**2 + 16.0*Ixy**2*Zw + 16.0*Ixy**2*m - 16.0*Iy*Kp*Zw - 16.0*Iy*Kp*m - 16.0*Kp*Mq*Zw - 16.0*Kp*Mq*m + 16.0*Kp*m**2*xG**2) - Mq*S2*Zw*r1*rho*u**2*u2/(-16.0*Ix*Iy*Zw - 16.0*Ix*Iy*m - 16.0*Ix*Mq*Zw - 16.0*Ix*Mq*m + 16.0*Ix*m**2*xG**2 + 16.0*Ixy**2*Zw + 16.0*Ixy**2*m - 16.0*Iy*Kp*Zw - 16.0*Iy*Kp*m - 16.0*Kp*Mq*Zw - 16.0*Kp*Mq*m + 16.0*Kp*m**2*xG**2) + Mq*S2*Zw*r1*rho*u1*x2**2/(-16.0*Ix*Iy*Zw - 16.0*Ix*Iy*m - 16.0*Ix*Mq*Zw - 16.0*Ix*Mq*m + 16.0*Ix*m**2*xG**2 + 16.0*Ixy**2*Zw + 16.0*Ixy**2*m - 16.0*Iy*Kp*Zw - 16.0*Iy*Kp*m - 16.0*Kp*Mq*Zw - 16.0*Kp*Mq*m + 16.0*Kp*m**2*xG**2) - Mq*S2*Zw*r1*rho*u2*x2**2/(-16.0*Ix*Iy*Zw - 16.0*Ix*Iy*m - 16.0*Ix*Mq*Zw - 16.0*Ix*Mq*m + 16.0*Ix*m**2*xG**2 + 16.0*Ixy**2*Zw + 16.0*Ixy**2*m - 16.0*Iy*Kp*Zw - 16.0*Iy*Kp*m - 16.0*Kp*Mq*Zw - 16.0*Kp*Mq*m + 16.0*Kp*m**2*xG**2) + Mq*S2*m*r1*rho*u**2*u1/(-16.0*Ix*Iy*Zw - 16.0*Ix*Iy*m - 16.0*Ix*Mq*Zw - 16.0*Ix*Mq*m + 16.0*Ix*m**2*xG**2 + 16.0*Ixy**2*Zw + 16.0*Ixy**2*m - 16.0*Iy*Kp*Zw - 16.0*Iy*Kp*m - 16.0*Kp*Mq*Zw - 16.0*Kp*Mq*m + 16.0*Kp*m**2*xG**2) - Mq*S2*m*r1*rho*u**2*u2/(-16.0*Ix*Iy*Zw - 16.0*Ix*Iy*m - 16.0*Ix*Mq*Zw - 16.0*Ix*Mq*m + 16.0*Ix*m**2*xG**2 + 16.0*Ixy**2*Zw + 16.0*Ixy**2*m - 16.0*Iy*Kp*Zw - 16.0*Iy*Kp*m - 16.0*Kp*Mq*Zw - 16.0*Kp*Mq*m + 16.0*Kp*m**2*xG**2) + Mq*S2*m*r1*rho*u1*x2**2/(-16.0*Ix*Iy*Zw - 16.0*Ix*Iy*m - 16.0*Ix*Mq*Zw - 16.0*Ix*Mq*m + 16.0*Ix*m**2*xG**2 + 16.0*Ixy**2*Zw + 16.0*Ixy**2*m - 16.0*Iy*Kp*Zw - 16.0*Iy*Kp*m - 16.0*Kp*Mq*Zw - 16.0*Kp*Mq*m + 16.0*Kp*m**2*xG**2) - Mq*S2*m*r1*rho*u2*x2**2/(-16.0*Ix*Iy*Zw - 16.0*Ix*Iy*m - 16.0*Ix*Mq*Zw - 16.0*Ix*Mq*m + 16.0*Ix*m**2*xG**2 + 16.0*Ixy**2*Zw + 16.0*Ixy**2*m - 16.0*Iy*Kp*Zw - 16.0*Iy*Kp*m - 16.0*Kp*Mq*Zw - 16.0*Kp*Mq*m + 16.0*Kp*m**2*xG**2) + 16.0*Mq*Zw*dr1*x4/(-16.0*Ix*Iy*Zw - 16.0*Ix*Iy*m - 16.0*Ix*Mq*Zw - 16.0*Ix*Mq*m + 16.0*Ix*m**2*xG**2 + 16.0*Ixy**2*Zw + 16.0*Ixy**2*m - 16.0*Iy*Kp*Zw - 16.0*Iy*Kp*m - 16.0*Kp*Mq*Zw - 16.0*Kp*Mq*m + 16.0*Kp*m**2*xG**2) + 16.0*Mq*Zw*dr2*x4**2/(-16.0*Ix*Iy*Zw - 16.0*Ix*Iy*m - 16.0*Ix*Mq*Zw - 16.0*Ix*Mq*m + 16.0*Ix*m**2*xG**2 + 16.0*Ixy**2*Zw + 16.0*Ixy**2*m - 16.0*Iy*Kp*Zw - 16.0*Iy*Kp*m - 16.0*Kp*Mq*Zw - 16.0*Kp*Mq*m + 16.0*Kp*m**2*xG**2) + 16.0*Mq*dr1*m*x4/(-16.0*Ix*Iy*Zw - 16.0*Ix*Iy*m - 16.0*Ix*Mq*Zw - 16.0*Ix*Mq*m + 16.0*Ix*m**2*xG**2 + 16.0*Ixy**2*Zw + 16.0*Ixy**2*m - 16.0*Iy*Kp*Zw - 16.0*Iy*Kp*m - 16.0*Kp*Mq*Zw - 16.0*Kp*Mq*m + 16.0*Kp*m**2*xG**2) + 16.0*Mq*dr2*m*x4**2/(-16.0*Ix*Iy*Zw - 16.0*Ix*Iy*m - 16.0*Ix*Mq*Zw - 16.0*Ix*Mq*m + 16.0*Ix*m**2*xG**2 + 16.0*Ixy**2*Zw + 16.0*Ixy**2*m - 16.0*Iy*Kp*Zw - 16.0*Iy*Kp*m - 16.0*Kp*Mq*Zw - 16.0*Kp*Mq*m + 16.0*Kp*m**2*xG**2) - S2*m**2*r1*rho*u**2*u1*xG**2/(-16.0*Ix*Iy*Zw - 16.0*Ix*Iy*m - 16.0*Ix*Mq*Zw - 16.0*Ix*Mq*m + 16.0*Ix*m**2*xG**2 + 16.0*Ixy**2*Zw + 16.0*Ixy**2*m - 16.0*Iy*Kp*Zw - 16.0*Iy*Kp*m - 16.0*Kp*Mq*Zw - 16.0*Kp*Mq*m + 16.0*Kp*m**2*xG**2) + S2*m**2*r1*rho*u**2*u2*xG**2/(-16.0*Ix*Iy*Zw - 16.0*Ix*Iy*m - 16.0*Ix*Mq*Zw - 16.0*Ix*Mq*m + 16.0*Ix*m**2*xG**2 + 16.0*Ixy**2*Zw + 16.0*Ixy**2*m - 16.0*Iy*Kp*Zw - 16.0*Iy*Kp*m - 16.0*Kp*Mq*Zw - 16.0*Kp*Mq*m + 16.0*Kp*m**2*xG**2) - S2*m**2*r1*rho*u1*x2**2*xG**2/(-16.0*Ix*Iy*Zw - 16.0*Ix*Iy*m - 16.0*Ix*Mq*Zw - 16.0*Ix*Mq*m + 16.0*Ix*m**2*xG**2 + 16.0*Ixy**2*Zw + 16.0*Ixy**2*m - 16.0*Iy*Kp*Zw - 16.0*Iy*Kp*m - 16.0*Kp*Mq*Zw - 16.0*Kp*Mq*m + 16.0*Kp*m**2*xG**2) + S2*m**2*r1*rho*u2*x2**2*xG**2/(-16.0*Ix*Iy*Zw - 16.0*Ix*Iy*m - 16.0*Ix*Mq*Zw - 16.0*Ix*Mq*m + 16.0*Ix*m**2*xG**2 + 16.0*Ixy**2*Zw + 16.0*Ixy**2*m - 16.0*Iy*Kp*Zw - 16.0*Iy*Kp*m - 16.0*Kp*Mq*Zw - 16.0*Kp*Mq*m + 16.0*Kp*m**2*xG**2) - 16.0*dr1*m**2*x4*xG**2/(-16.0*Ix*Iy*Zw - 16.0*Ix*Iy*m - 16.0*Ix*Mq*Zw - 16.0*Ix*Mq*m + 16.0*Ix*m**2*xG**2 + 16.0*Ixy**2*Zw + 16.0*Ixy**2*m - 16.0*Iy*Kp*Zw - 16.0*Iy*Kp*m - 16.0*Kp*Mq*Zw - 16.0*Kp*Mq*m + 16.0*Kp*m**2*xG**2) - 16.0*dr2*m**2*x4**2*xG**2/(-16.0*Ix*Iy*Zw - 16.0*Ix*Iy*m - 16.0*Ix*Mq*Zw - 16.0*Ix*Mq*m + 16.0*Ix*m**2*xG**2 + 16.0*Ixy**2*Zw + 16.0*Ixy**2*m - 16.0*Iy*Kp*Zw - 16.0*Iy*Kp*m - 16.0*Kp*Mq*Zw - 16.0*Kp*Mq*m + 16.0*Kp*m**2*xG**2))\n",
      "---------------------------------------------X6D-------------------------------------------\n",
      "(x6d, -16.0*Ix*Ixz*Zw*x4**2/(-16.0*Ix*Iy*Zw - 16.0*Ix*Iy*m - 16.0*Ix*Mq*Zw - 16.0*Ix*Mq*m + 16.0*Ix*m**2*xG**2 + 16.0*Ixy**2*Zw + 16.0*Ixy**2*m - 16.0*Iy*Kp*Zw - 16.0*Iy*Kp*m - 16.0*Kp*Mq*Zw - 16.0*Kp*Mq*m + 16.0*Kp*m**2*xG**2) - 16.0*Ix*Ixz*m*x4**2/(-16.0*Ix*Iy*Zw - 16.0*Ix*Iy*m - 16.0*Ix*Mq*Zw - 16.0*Ix*Mq*m + 16.0*Ix*m**2*xG**2 + 16.0*Ixy**2*Zw + 16.0*Ixy**2*m - 16.0*Iy*Kp*Zw - 16.0*Iy*Kp*m - 16.0*Kp*Mq*Zw - 16.0*Kp*Mq*m + 16.0*Kp*m**2*xG**2) - 16.0*Ix*Iyz*Zw*x4*x6/(-16.0*Ix*Iy*Zw - 16.0*Ix*Iy*m - 16.0*Ix*Mq*Zw - 16.0*Ix*Mq*m + 16.0*Ix*m**2*xG**2 + 16.0*Ixy**2*Zw + 16.0*Ixy**2*m - 16.0*Iy*Kp*Zw - 16.0*Iy*Kp*m - 16.0*Kp*Mq*Zw - 16.0*Kp*Mq*m + 16.0*Kp*m**2*xG**2) - 16.0*Ix*Iyz*m*x4*x6/(-16.0*Ix*Iy*Zw - 16.0*Ix*Iy*m - 16.0*Ix*Mq*Zw - 16.0*Ix*Mq*m + 16.0*Ix*m**2*xG**2 + 16.0*Ixy**2*Zw + 16.0*Ixy**2*m - 16.0*Iy*Kp*Zw - 16.0*Iy*Kp*m - 16.0*Kp*Mq*Zw - 16.0*Kp*Mq*m + 16.0*Kp*m**2*xG**2) - 2.0*Ix*S1*Zw*d1*rho*u**2*x5/(-16.0*Ix*Iy*Zw - 16.0*Ix*Iy*m - 16.0*Ix*Mq*Zw - 16.0*Ix*Mq*m + 16.0*Ix*m**2*xG**2 + 16.0*Ixy**2*Zw + 16.0*Ixy**2*m - 16.0*Iy*Kp*Zw - 16.0*Iy*Kp*m - 16.0*Kp*Mq*Zw - 16.0*Kp*Mq*m + 16.0*Kp*m**2*xG**2) - 2.0*Ix*S1*Zw*d1*rho*x2**2*x5/(-16.0*Ix*Iy*Zw - 16.0*Ix*Iy*m - 16.0*Ix*Mq*Zw - 16.0*Ix*Mq*m + 16.0*Ix*m**2*xG**2 + 16.0*Ixy**2*Zw + 16.0*Ixy**2*m - 16.0*Iy*Kp*Zw - 16.0*Iy*Kp*m - 16.0*Kp*Mq*Zw - 16.0*Kp*Mq*m + 16.0*Kp*m**2*xG**2) - 2.0*Ix*S1*d1*m*rho*u**2*x5/(-16.0*Ix*Iy*Zw - 16.0*Ix*Iy*m - 16.0*Ix*Mq*Zw - 16.0*Ix*Mq*m + 16.0*Ix*m**2*xG**2 + 16.0*Ixy**2*Zw + 16.0*Ixy**2*m - 16.0*Iy*Kp*Zw - 16.0*Iy*Kp*m - 16.0*Kp*Mq*Zw - 16.0*Kp*Mq*m + 16.0*Kp*m**2*xG**2) - 2.0*Ix*S1*d1*m*rho*x2**2*x5/(-16.0*Ix*Iy*Zw - 16.0*Ix*Iy*m - 16.0*Ix*Mq*Zw - 16.0*Ix*Mq*m + 16.0*Ix*m**2*xG**2 + 16.0*Ixy**2*Zw + 16.0*Ixy**2*m - 16.0*Iy*Kp*Zw - 16.0*Iy*Kp*m - 16.0*Kp*Mq*Zw - 16.0*Kp*Mq*m + 16.0*Kp*m**2*xG**2) - 2.0*Ix*S1*m*rho*u**2*x5*xG/(-16.0*Ix*Iy*Zw - 16.0*Ix*Iy*m - 16.0*Ix*Mq*Zw - 16.0*Ix*Mq*m + 16.0*Ix*m**2*xG**2 + 16.0*Ixy**2*Zw + 16.0*Ixy**2*m - 16.0*Iy*Kp*Zw - 16.0*Iy*Kp*m - 16.0*Kp*Mq*Zw - 16.0*Kp*Mq*m + 16.0*Kp*m**2*xG**2) - 2.0*Ix*S1*m*rho*x2**2*x5*xG/(-16.0*Ix*Iy*Zw - 16.0*Ix*Iy*m - 16.0*Ix*Mq*Zw - 16.0*Ix*Mq*m + 16.0*Ix*m**2*xG**2 + 16.0*Ixy**2*Zw + 16.0*Ixy**2*m - 16.0*Iy*Kp*Zw - 16.0*Iy*Kp*m - 16.0*Kp*Mq*Zw - 16.0*Kp*Mq*m + 16.0*Kp*m**2*xG**2) + Ix*S2*Zw*d2*rho*u**2*u1/(-16.0*Ix*Iy*Zw - 16.0*Ix*Iy*m - 16.0*Ix*Mq*Zw - 16.0*Ix*Mq*m + 16.0*Ix*m**2*xG**2 + 16.0*Ixy**2*Zw + 16.0*Ixy**2*m - 16.0*Iy*Kp*Zw - 16.0*Iy*Kp*m - 16.0*Kp*Mq*Zw - 16.0*Kp*Mq*m + 16.0*Kp*m**2*xG**2) + Ix*S2*Zw*d2*rho*u**2*u2/(-16.0*Ix*Iy*Zw - 16.0*Ix*Iy*m - 16.0*Ix*Mq*Zw - 16.0*Ix*Mq*m + 16.0*Ix*m**2*xG**2 + 16.0*Ixy**2*Zw + 16.0*Ixy**2*m - 16.0*Iy*Kp*Zw - 16.0*Iy*Kp*m - 16.0*Kp*Mq*Zw - 16.0*Kp*Mq*m + 16.0*Kp*m**2*xG**2) - 2.0*Ix*S2*Zw*d2*rho*u**2*x5/(-16.0*Ix*Iy*Zw - 16.0*Ix*Iy*m - 16.0*Ix*Mq*Zw - 16.0*Ix*Mq*m + 16.0*Ix*m**2*xG**2 + 16.0*Ixy**2*Zw + 16.0*Ixy**2*m - 16.0*Iy*Kp*Zw - 16.0*Iy*Kp*m - 16.0*Kp*Mq*Zw - 16.0*Kp*Mq*m + 16.0*Kp*m**2*xG**2) + Ix*S2*Zw*d2*rho*u1*x2**2/(-16.0*Ix*Iy*Zw - 16.0*Ix*Iy*m - 16.0*Ix*Mq*Zw - 16.0*Ix*Mq*m + 16.0*Ix*m**2*xG**2 + 16.0*Ixy**2*Zw + 16.0*Ixy**2*m - 16.0*Iy*Kp*Zw - 16.0*Iy*Kp*m - 16.0*Kp*Mq*Zw - 16.0*Kp*Mq*m + 16.0*Kp*m**2*xG**2) + Ix*S2*Zw*d2*rho*u2*x2**2/(-16.0*Ix*Iy*Zw - 16.0*Ix*Iy*m - 16.0*Ix*Mq*Zw - 16.0*Ix*Mq*m + 16.0*Ix*m**2*xG**2 + 16.0*Ixy**2*Zw + 16.0*Ixy**2*m - 16.0*Iy*Kp*Zw - 16.0*Iy*Kp*m - 16.0*Kp*Mq*Zw - 16.0*Kp*Mq*m + 16.0*Kp*m**2*xG**2) - 2.0*Ix*S2*Zw*d2*rho*x2**2*x5/(-16.0*Ix*Iy*Zw - 16.0*Ix*Iy*m - 16.0*Ix*Mq*Zw - 16.0*Ix*Mq*m + 16.0*Ix*m**2*xG**2 + 16.0*Ixy**2*Zw + 16.0*Ixy**2*m - 16.0*Iy*Kp*Zw - 16.0*Iy*Kp*m - 16.0*Kp*Mq*Zw - 16.0*Kp*Mq*m + 16.0*Kp*m**2*xG**2) + Ix*S2*d2*m*rho*u**2*u1/(-16.0*Ix*Iy*Zw - 16.0*Ix*Iy*m - 16.0*Ix*Mq*Zw - 16.0*Ix*Mq*m + 16.0*Ix*m**2*xG**2 + 16.0*Ixy**2*Zw + 16.0*Ixy**2*m - 16.0*Iy*Kp*Zw - 16.0*Iy*Kp*m - 16.0*Kp*Mq*Zw - 16.0*Kp*Mq*m + 16.0*Kp*m**2*xG**2) + Ix*S2*d2*m*rho*u**2*u2/(-16.0*Ix*Iy*Zw - 16.0*Ix*Iy*m - 16.0*Ix*Mq*Zw - 16.0*Ix*Mq*m + 16.0*Ix*m**2*xG**2 + 16.0*Ixy**2*Zw + 16.0*Ixy**2*m - 16.0*Iy*Kp*Zw - 16.0*Iy*Kp*m - 16.0*Kp*Mq*Zw - 16.0*Kp*Mq*m + 16.0*Kp*m**2*xG**2) - 2.0*Ix*S2*d2*m*rho*u**2*x5/(-16.0*Ix*Iy*Zw - 16.0*Ix*Iy*m - 16.0*Ix*Mq*Zw - 16.0*Ix*Mq*m + 16.0*Ix*m**2*xG**2 + 16.0*Ixy**2*Zw + 16.0*Ixy**2*m - 16.0*Iy*Kp*Zw - 16.0*Iy*Kp*m - 16.0*Kp*Mq*Zw - 16.0*Kp*Mq*m + 16.0*Kp*m**2*xG**2) + Ix*S2*d2*m*rho*u1*x2**2/(-16.0*Ix*Iy*Zw - 16.0*Ix*Iy*m - 16.0*Ix*Mq*Zw - 16.0*Ix*Mq*m + 16.0*Ix*m**2*xG**2 + 16.0*Ixy**2*Zw + 16.0*Ixy**2*m - 16.0*Iy*Kp*Zw - 16.0*Iy*Kp*m - 16.0*Kp*Mq*Zw - 16.0*Kp*Mq*m + 16.0*Kp*m**2*xG**2) + Ix*S2*d2*m*rho*u2*x2**2/(-16.0*Ix*Iy*Zw - 16.0*Ix*Iy*m - 16.0*Ix*Mq*Zw - 16.0*Ix*Mq*m + 16.0*Ix*m**2*xG**2 + 16.0*Ixy**2*Zw + 16.0*Ixy**2*m - 16.0*Iy*Kp*Zw - 16.0*Iy*Kp*m - 16.0*Kp*Mq*Zw - 16.0*Kp*Mq*m + 16.0*Kp*m**2*xG**2) - 2.0*Ix*S2*d2*m*rho*x2**2*x5/(-16.0*Ix*Iy*Zw - 16.0*Ix*Iy*m - 16.0*Ix*Mq*Zw - 16.0*Ix*Mq*m + 16.0*Ix*m**2*xG**2 + 16.0*Ixy**2*Zw + 16.0*Ixy**2*m - 16.0*Iy*Kp*Zw - 16.0*Iy*Kp*m - 16.0*Kp*Mq*Zw - 16.0*Kp*Mq*m + 16.0*Kp*m**2*xG**2) + Ix*S2*m*rho*u**2*u1*xG/(-16.0*Ix*Iy*Zw - 16.0*Ix*Iy*m - 16.0*Ix*Mq*Zw - 16.0*Ix*Mq*m + 16.0*Ix*m**2*xG**2 + 16.0*Ixy**2*Zw + 16.0*Ixy**2*m - 16.0*Iy*Kp*Zw - 16.0*Iy*Kp*m - 16.0*Kp*Mq*Zw - 16.0*Kp*Mq*m + 16.0*Kp*m**2*xG**2) + Ix*S2*m*rho*u**2*u2*xG/(-16.0*Ix*Iy*Zw - 16.0*Ix*Iy*m - 16.0*Ix*Mq*Zw - 16.0*Ix*Mq*m + 16.0*Ix*m**2*xG**2 + 16.0*Ixy**2*Zw + 16.0*Ixy**2*m - 16.0*Iy*Kp*Zw - 16.0*Iy*Kp*m - 16.0*Kp*Mq*Zw - 16.0*Kp*Mq*m + 16.0*Kp*m**2*xG**2) - 2.0*Ix*S2*m*rho*u**2*x5*xG/(-16.0*Ix*Iy*Zw - 16.0*Ix*Iy*m - 16.0*Ix*Mq*Zw - 16.0*Ix*Mq*m + 16.0*Ix*m**2*xG**2 + 16.0*Ixy**2*Zw + 16.0*Ixy**2*m - 16.0*Iy*Kp*Zw - 16.0*Iy*Kp*m - 16.0*Kp*Mq*Zw - 16.0*Kp*Mq*m + 16.0*Kp*m**2*xG**2) + Ix*S2*m*rho*u1*x2**2*xG/(-16.0*Ix*Iy*Zw - 16.0*Ix*Iy*m - 16.0*Ix*Mq*Zw - 16.0*Ix*Mq*m + 16.0*Ix*m**2*xG**2 + 16.0*Ixy**2*Zw + 16.0*Ixy**2*m - 16.0*Iy*Kp*Zw - 16.0*Iy*Kp*m - 16.0*Kp*Mq*Zw - 16.0*Kp*Mq*m + 16.0*Kp*m**2*xG**2) + Ix*S2*m*rho*u2*x2**2*xG/(-16.0*Ix*Iy*Zw - 16.0*Ix*Iy*m - 16.0*Ix*Mq*Zw - 16.0*Ix*Mq*m + 16.0*Ix*m**2*xG**2 + 16.0*Ixy**2*Zw + 16.0*Ixy**2*m - 16.0*Iy*Kp*Zw - 16.0*Iy*Kp*m - 16.0*Kp*Mq*Zw - 16.0*Kp*Mq*m + 16.0*Kp*m**2*xG**2) - 2.0*Ix*S2*m*rho*x2**2*x5*xG/(-16.0*Ix*Iy*Zw - 16.0*Ix*Iy*m - 16.0*Ix*Mq*Zw - 16.0*Ix*Mq*m + 16.0*Ix*m**2*xG**2 + 16.0*Ixy**2*Zw + 16.0*Ixy**2*m - 16.0*Iy*Kp*Zw - 16.0*Iy*Kp*m - 16.0*Kp*Mq*Zw - 16.0*Kp*Mq*m + 16.0*Kp*m**2*xG**2) - 2.0*Ix*S3*Zw*d3*rho*u**2*x5/(-16.0*Ix*Iy*Zw - 16.0*Ix*Iy*m - 16.0*Ix*Mq*Zw - 16.0*Ix*Mq*m + 16.0*Ix*m**2*xG**2 + 16.0*Ixy**2*Zw + 16.0*Ixy**2*m - 16.0*Iy*Kp*Zw - 16.0*Iy*Kp*m - 16.0*Kp*Mq*Zw - 16.0*Kp*Mq*m + 16.0*Kp*m**2*xG**2) - 2.0*Ix*S3*Zw*d3*rho*x2**2*x5/(-16.0*Ix*Iy*Zw - 16.0*Ix*Iy*m - 16.0*Ix*Mq*Zw - 16.0*Ix*Mq*m + 16.0*Ix*m**2*xG**2 + 16.0*Ixy**2*Zw + 16.0*Ixy**2*m - 16.0*Iy*Kp*Zw - 16.0*Iy*Kp*m - 16.0*Kp*Mq*Zw - 16.0*Kp*Mq*m + 16.0*Kp*m**2*xG**2) - 2.0*Ix*S3*d3*m*rho*u**2*x5/(-16.0*Ix*Iy*Zw - 16.0*Ix*Iy*m - 16.0*Ix*Mq*Zw - 16.0*Ix*Mq*m + 16.0*Ix*m**2*xG**2 + 16.0*Ixy**2*Zw + 16.0*Ixy**2*m - 16.0*Iy*Kp*Zw - 16.0*Iy*Kp*m - 16.0*Kp*Mq*Zw - 16.0*Kp*Mq*m + 16.0*Kp*m**2*xG**2) - 2.0*Ix*S3*d3*m*rho*x2**2*x5/(-16.0*Ix*Iy*Zw - 16.0*Ix*Iy*m - 16.0*Ix*Mq*Zw - 16.0*Ix*Mq*m + 16.0*Ix*m**2*xG**2 + 16.0*Ixy**2*Zw + 16.0*Ixy**2*m - 16.0*Iy*Kp*Zw - 16.0*Iy*Kp*m - 16.0*Kp*Mq*Zw - 16.0*Kp*Mq*m + 16.0*Kp*m**2*xG**2) - 2.0*Ix*S3*m*rho*u**2*x5*xG/(-16.0*Ix*Iy*Zw - 16.0*Ix*Iy*m - 16.0*Ix*Mq*Zw - 16.0*Ix*Mq*m + 16.0*Ix*m**2*xG**2 + 16.0*Ixy**2*Zw + 16.0*Ixy**2*m - 16.0*Iy*Kp*Zw - 16.0*Iy*Kp*m - 16.0*Kp*Mq*Zw - 16.0*Kp*Mq*m + 16.0*Kp*m**2*xG**2) - 2.0*Ix*S3*m*rho*x2**2*x5*xG/(-16.0*Ix*Iy*Zw - 16.0*Ix*Iy*m - 16.0*Ix*Mq*Zw - 16.0*Ix*Mq*m + 16.0*Ix*m**2*xG**2 + 16.0*Ixy**2*Zw + 16.0*Ixy**2*m - 16.0*Iy*Kp*Zw - 16.0*Iy*Kp*m - 16.0*Kp*Mq*Zw - 16.0*Kp*Mq*m + 16.0*Kp*m**2*xG**2) + 2.0*Ix*S4*Zw*d4*rho*u**2*u3/(-16.0*Ix*Iy*Zw - 16.0*Ix*Iy*m - 16.0*Ix*Mq*Zw - 16.0*Ix*Mq*m + 16.0*Ix*m**2*xG**2 + 16.0*Ixy**2*Zw + 16.0*Ixy**2*m - 16.0*Iy*Kp*Zw - 16.0*Iy*Kp*m - 16.0*Kp*Mq*Zw - 16.0*Kp*Mq*m + 16.0*Kp*m**2*xG**2) - 2.0*Ix*S4*Zw*d4*rho*u**2*x5/(-16.0*Ix*Iy*Zw - 16.0*Ix*Iy*m - 16.0*Ix*Mq*Zw - 16.0*Ix*Mq*m + 16.0*Ix*m**2*xG**2 + 16.0*Ixy**2*Zw + 16.0*Ixy**2*m - 16.0*Iy*Kp*Zw - 16.0*Iy*Kp*m - 16.0*Kp*Mq*Zw - 16.0*Kp*Mq*m + 16.0*Kp*m**2*xG**2) + 2.0*Ix*S4*Zw*d4*rho*u3*x2**2/(-16.0*Ix*Iy*Zw - 16.0*Ix*Iy*m - 16.0*Ix*Mq*Zw - 16.0*Ix*Mq*m + 16.0*Ix*m**2*xG**2 + 16.0*Ixy**2*Zw + 16.0*Ixy**2*m - 16.0*Iy*Kp*Zw - 16.0*Iy*Kp*m - 16.0*Kp*Mq*Zw - 16.0*Kp*Mq*m + 16.0*Kp*m**2*xG**2) - 2.0*Ix*S4*Zw*d4*rho*x2**2*x5/(-16.0*Ix*Iy*Zw - 16.0*Ix*Iy*m - 16.0*Ix*Mq*Zw - 16.0*Ix*Mq*m + 16.0*Ix*m**2*xG**2 + 16.0*Ixy**2*Zw + 16.0*Ixy**2*m - 16.0*Iy*Kp*Zw - 16.0*Iy*Kp*m - 16.0*Kp*Mq*Zw - 16.0*Kp*Mq*m + 16.0*Kp*m**2*xG**2) + 2.0*Ix*S4*d4*m*rho*u**2*u3/(-16.0*Ix*Iy*Zw - 16.0*Ix*Iy*m - 16.0*Ix*Mq*Zw - 16.0*Ix*Mq*m + 16.0*Ix*m**2*xG**2 + 16.0*Ixy**2*Zw + 16.0*Ixy**2*m - 16.0*Iy*Kp*Zw - 16.0*Iy*Kp*m - 16.0*Kp*Mq*Zw - 16.0*Kp*Mq*m + 16.0*Kp*m**2*xG**2) - 2.0*Ix*S4*d4*m*rho*u**2*x5/(-16.0*Ix*Iy*Zw - 16.0*Ix*Iy*m - 16.0*Ix*Mq*Zw - 16.0*Ix*Mq*m + 16.0*Ix*m**2*xG**2 + 16.0*Ixy**2*Zw + 16.0*Ixy**2*m - 16.0*Iy*Kp*Zw - 16.0*Iy*Kp*m - 16.0*Kp*Mq*Zw - 16.0*Kp*Mq*m + 16.0*Kp*m**2*xG**2) + 2.0*Ix*S4*d4*m*rho*u3*x2**2/(-16.0*Ix*Iy*Zw - 16.0*Ix*Iy*m - 16.0*Ix*Mq*Zw - 16.0*Ix*Mq*m + 16.0*Ix*m**2*xG**2 + 16.0*Ixy**2*Zw + 16.0*Ixy**2*m - 16.0*Iy*Kp*Zw - 16.0*Iy*Kp*m - 16.0*Kp*Mq*Zw - 16.0*Kp*Mq*m + 16.0*Kp*m**2*xG**2) - 2.0*Ix*S4*d4*m*rho*x2**2*x5/(-16.0*Ix*Iy*Zw - 16.0*Ix*Iy*m - 16.0*Ix*Mq*Zw - 16.0*Ix*Mq*m + 16.0*Ix*m**2*xG**2 + 16.0*Ixy**2*Zw + 16.0*Ixy**2*m - 16.0*Iy*Kp*Zw - 16.0*Iy*Kp*m - 16.0*Kp*Mq*Zw - 16.0*Kp*Mq*m + 16.0*Kp*m**2*xG**2) + 2.0*Ix*S4*m*rho*u**2*u3*xG/(-16.0*Ix*Iy*Zw - 16.0*Ix*Iy*m - 16.0*Ix*Mq*Zw - 16.0*Ix*Mq*m + 16.0*Ix*m**2*xG**2 + 16.0*Ixy**2*Zw + 16.0*Ixy**2*m - 16.0*Iy*Kp*Zw - 16.0*Iy*Kp*m - 16.0*Kp*Mq*Zw - 16.0*Kp*Mq*m + 16.0*Kp*m**2*xG**2) - 2.0*Ix*S4*m*rho*u**2*x5*xG/(-16.0*Ix*Iy*Zw - 16.0*Ix*Iy*m - 16.0*Ix*Mq*Zw - 16.0*Ix*Mq*m + 16.0*Ix*m**2*xG**2 + 16.0*Ixy**2*Zw + 16.0*Ixy**2*m - 16.0*Iy*Kp*Zw - 16.0*Iy*Kp*m - 16.0*Kp*Mq*Zw - 16.0*Kp*Mq*m + 16.0*Kp*m**2*xG**2) + 2.0*Ix*S4*m*rho*u3*x2**2*xG/(-16.0*Ix*Iy*Zw - 16.0*Ix*Iy*m - 16.0*Ix*Mq*Zw - 16.0*Ix*Mq*m + 16.0*Ix*m**2*xG**2 + 16.0*Ixy**2*Zw + 16.0*Ixy**2*m - 16.0*Iy*Kp*Zw - 16.0*Iy*Kp*m - 16.0*Kp*Mq*Zw - 16.0*Kp*Mq*m + 16.0*Kp*m**2*xG**2) - 2.0*Ix*S4*m*rho*x2**2*x5*xG/(-16.0*Ix*Iy*Zw - 16.0*Ix*Iy*m - 16.0*Ix*Mq*Zw - 16.0*Ix*Mq*m + 16.0*Ix*m**2*xG**2 + 16.0*Ixy**2*Zw + 16.0*Ixy**2*m - 16.0*Iy*Kp*Zw - 16.0*Iy*Kp*m - 16.0*Kp*Mq*Zw - 16.0*Kp*Mq*m + 16.0*Kp*m**2*xG**2) - 16.0*Ix*Vol*Zw*db*g*rho*sin(x5)/(-16.0*Ix*Iy*Zw - 16.0*Ix*Iy*m - 16.0*Ix*Mq*Zw - 16.0*Ix*Mq*m + 16.0*Ix*m**2*xG**2 + 16.0*Ixy**2*Zw + 16.0*Ixy**2*m - 16.0*Iy*Kp*Zw - 16.0*Iy*Kp*m - 16.0*Kp*Mq*Zw - 16.0*Kp*Mq*m + 16.0*Kp*m**2*xG**2) - 16.0*Ix*Vol*db*g*m*rho*sin(x5)/(-16.0*Ix*Iy*Zw - 16.0*Ix*Iy*m - 16.0*Ix*Mq*Zw - 16.0*Ix*Mq*m + 16.0*Ix*m**2*xG**2 + 16.0*Ixy**2*Zw + 16.0*Ixy**2*m - 16.0*Iy*Kp*Zw - 16.0*Iy*Kp*m - 16.0*Kp*Mq*Zw - 16.0*Kp*Mq*m + 16.0*Kp*m**2*xG**2) - 16.0*Ix*Vol*g*m*rho*xG*sin(x5)/(-16.0*Ix*Iy*Zw - 16.0*Ix*Iy*m - 16.0*Ix*Mq*Zw - 16.0*Ix*Mq*m + 16.0*Ix*m**2*xG**2 + 16.0*Ixy**2*Zw + 16.0*Ixy**2*m - 16.0*Iy*Kp*Zw - 16.0*Iy*Kp*m - 16.0*Kp*Mq*Zw - 16.0*Kp*Mq*m + 16.0*Kp*m**2*xG**2) - 16.0*Ix*Zw**2*u*x2/(-16.0*Ix*Iy*Zw - 16.0*Ix*Iy*m - 16.0*Ix*Mq*Zw - 16.0*Ix*Mq*m + 16.0*Ix*m**2*xG**2 + 16.0*Ixy**2*Zw + 16.0*Ixy**2*m - 16.0*Iy*Kp*Zw - 16.0*Iy*Kp*m - 16.0*Kp*Mq*Zw - 16.0*Kp*Mq*m + 16.0*Kp*m**2*xG**2) + 16.0*Ix*Zw*dg*g*m*sin(x5)/(-16.0*Ix*Iy*Zw - 16.0*Ix*Iy*m - 16.0*Ix*Mq*Zw - 16.0*Ix*Mq*m + 16.0*Ix*m**2*xG**2 + 16.0*Ixy**2*Zw + 16.0*Ixy**2*m - 16.0*Iy*Kp*Zw - 16.0*Iy*Kp*m - 16.0*Kp*Mq*Zw - 16.0*Kp*Mq*m + 16.0*Kp*m**2*xG**2) + 16.0*Ix*Zw*dp1*x6/(-16.0*Ix*Iy*Zw - 16.0*Ix*Iy*m - 16.0*Ix*Mq*Zw - 16.0*Ix*Mq*m + 16.0*Ix*m**2*xG**2 + 16.0*Ixy**2*Zw + 16.0*Ixy**2*m - 16.0*Iy*Kp*Zw - 16.0*Iy*Kp*m - 16.0*Kp*Mq*Zw - 16.0*Kp*Mq*m + 16.0*Kp*m**2*xG**2) + 16.0*Ix*Zw*dp2*x6**2/(-16.0*Ix*Iy*Zw - 16.0*Ix*Iy*m - 16.0*Ix*Mq*Zw - 16.0*Ix*Mq*m + 16.0*Ix*m**2*xG**2 + 16.0*Ixy**2*Zw + 16.0*Ixy**2*m - 16.0*Iy*Kp*Zw - 16.0*Iy*Kp*m - 16.0*Kp*Mq*Zw - 16.0*Kp*Mq*m + 16.0*Kp*m**2*xG**2) - 16.0*Ix*Zw*m*u*x2/(-16.0*Ix*Iy*Zw - 16.0*Ix*Iy*m - 16.0*Ix*Mq*Zw - 16.0*Ix*Mq*m + 16.0*Ix*m**2*xG**2 + 16.0*Ixy**2*Zw + 16.0*Ixy**2*m - 16.0*Iy*Kp*Zw - 16.0*Iy*Kp*m - 16.0*Kp*Mq*Zw - 16.0*Kp*Mq*m + 16.0*Kp*m**2*xG**2) - 16.0*Ix*Zw*m*u*x6*xG/(-16.0*Ix*Iy*Zw - 16.0*Ix*Iy*m - 16.0*Ix*Mq*Zw - 16.0*Ix*Mq*m + 16.0*Ix*m**2*xG**2 + 16.0*Ixy**2*Zw + 16.0*Ixy**2*m - 16.0*Iy*Kp*Zw - 16.0*Iy*Kp*m - 16.0*Kp*Mq*Zw - 16.0*Kp*Mq*m + 16.0*Kp*m**2*xG**2) + 16.0*Ix*dg*g*m**2*sin(x5)/(-16.0*Ix*Iy*Zw - 16.0*Ix*Iy*m - 16.0*Ix*Mq*Zw - 16.0*Ix*Mq*m + 16.0*Ix*m**2*xG**2 + 16.0*Ixy**2*Zw + 16.0*Ixy**2*m - 16.0*Iy*Kp*Zw - 16.0*Iy*Kp*m - 16.0*Kp*Mq*Zw - 16.0*Kp*Mq*m + 16.0*Kp*m**2*xG**2) + 16.0*Ix*dh1*m*x2*xG/(-16.0*Ix*Iy*Zw - 16.0*Ix*Iy*m - 16.0*Ix*Mq*Zw - 16.0*Ix*Mq*m + 16.0*Ix*m**2*xG**2 + 16.0*Ixy**2*Zw + 16.0*Ixy**2*m - 16.0*Iy*Kp*Zw - 16.0*Iy*Kp*m - 16.0*Kp*Mq*Zw - 16.0*Kp*Mq*m + 16.0*Kp*m**2*xG**2) + 16.0*Ix*dh2*m*x2**2*xG/(-16.0*Ix*Iy*Zw - 16.0*Ix*Iy*m - 16.0*Ix*Mq*Zw - 16.0*Ix*Mq*m + 16.0*Ix*m**2*xG**2 + 16.0*Ixy**2*Zw + 16.0*Ixy**2*m - 16.0*Iy*Kp*Zw - 16.0*Iy*Kp*m - 16.0*Kp*Mq*Zw - 16.0*Kp*Mq*m + 16.0*Kp*m**2*xG**2) + 16.0*Ix*dp1*m*x6/(-16.0*Ix*Iy*Zw - 16.0*Ix*Iy*m - 16.0*Ix*Mq*Zw - 16.0*Ix*Mq*m + 16.0*Ix*m**2*xG**2 + 16.0*Ixy**2*Zw + 16.0*Ixy**2*m - 16.0*Iy*Kp*Zw - 16.0*Iy*Kp*m - 16.0*Kp*Mq*Zw - 16.0*Kp*Mq*m + 16.0*Kp*m**2*xG**2) + 16.0*Ix*dp2*m*x6**2/(-16.0*Ix*Iy*Zw - 16.0*Ix*Iy*m - 16.0*Ix*Mq*Zw - 16.0*Ix*Mq*m + 16.0*Ix*m**2*xG**2 + 16.0*Ixy**2*Zw + 16.0*Ixy**2*m - 16.0*Iy*Kp*Zw - 16.0*Iy*Kp*m - 16.0*Kp*Mq*Zw - 16.0*Kp*Mq*m + 16.0*Kp*m**2*xG**2) + 16.0*Ix*g*m**2*xG*sin(x5)/(-16.0*Ix*Iy*Zw - 16.0*Ix*Iy*m - 16.0*Ix*Mq*Zw - 16.0*Ix*Mq*m + 16.0*Ix*m**2*xG**2 + 16.0*Ixy**2*Zw + 16.0*Ixy**2*m - 16.0*Iy*Kp*Zw - 16.0*Iy*Kp*m - 16.0*Kp*Mq*Zw - 16.0*Kp*Mq*m + 16.0*Kp*m**2*xG**2) + 16.0*Ixy*Ixz*Zw*x4*x6/(-16.0*Ix*Iy*Zw - 16.0*Ix*Iy*m - 16.0*Ix*Mq*Zw - 16.0*Ix*Mq*m + 16.0*Ix*m**2*xG**2 + 16.0*Ixy**2*Zw + 16.0*Ixy**2*m - 16.0*Iy*Kp*Zw - 16.0*Iy*Kp*m - 16.0*Kp*Mq*Zw - 16.0*Kp*Mq*m + 16.0*Kp*m**2*xG**2) + 16.0*Ixy*Ixz*m*x4*x6/(-16.0*Ix*Iy*Zw - 16.0*Ix*Iy*m - 16.0*Ix*Mq*Zw - 16.0*Ix*Mq*m + 16.0*Ix*m**2*xG**2 + 16.0*Ixy**2*Zw + 16.0*Ixy**2*m - 16.0*Iy*Kp*Zw - 16.0*Iy*Kp*m - 16.0*Kp*Mq*Zw - 16.0*Kp*Mq*m + 16.0*Kp*m**2*xG**2) - 16.0*Ixy*Iyx*Zw*x6**2/(-16.0*Ix*Iy*Zw - 16.0*Ix*Iy*m - 16.0*Ix*Mq*Zw - 16.0*Ix*Mq*m + 16.0*Ix*m**2*xG**2 + 16.0*Ixy**2*Zw + 16.0*Ixy**2*m - 16.0*Iy*Kp*Zw - 16.0*Iy*Kp*m - 16.0*Kp*Mq*Zw - 16.0*Kp*Mq*m + 16.0*Kp*m**2*xG**2) - 16.0*Ixy*Iyx*m*x6**2/(-16.0*Ix*Iy*Zw - 16.0*Ix*Iy*m - 16.0*Ix*Mq*Zw - 16.0*Ix*Mq*m + 16.0*Ix*m**2*xG**2 + 16.0*Ixy**2*Zw + 16.0*Ixy**2*m - 16.0*Iy*Kp*Zw - 16.0*Iy*Kp*m - 16.0*Kp*Mq*Zw - 16.0*Kp*Mq*m + 16.0*Kp*m**2*xG**2) + Ixy*S2*Zw*r1*rho*u**2*u1/(-16.0*Ix*Iy*Zw - 16.0*Ix*Iy*m - 16.0*Ix*Mq*Zw - 16.0*Ix*Mq*m + 16.0*Ix*m**2*xG**2 + 16.0*Ixy**2*Zw + 16.0*Ixy**2*m - 16.0*Iy*Kp*Zw - 16.0*Iy*Kp*m - 16.0*Kp*Mq*Zw - 16.0*Kp*Mq*m + 16.0*Kp*m**2*xG**2) - Ixy*S2*Zw*r1*rho*u**2*u2/(-16.0*Ix*Iy*Zw - 16.0*Ix*Iy*m - 16.0*Ix*Mq*Zw - 16.0*Ix*Mq*m + 16.0*Ix*m**2*xG**2 + 16.0*Ixy**2*Zw + 16.0*Ixy**2*m - 16.0*Iy*Kp*Zw - 16.0*Iy*Kp*m - 16.0*Kp*Mq*Zw - 16.0*Kp*Mq*m + 16.0*Kp*m**2*xG**2) + Ixy*S2*Zw*r1*rho*u1*x2**2/(-16.0*Ix*Iy*Zw - 16.0*Ix*Iy*m - 16.0*Ix*Mq*Zw - 16.0*Ix*Mq*m + 16.0*Ix*m**2*xG**2 + 16.0*Ixy**2*Zw + 16.0*Ixy**2*m - 16.0*Iy*Kp*Zw - 16.0*Iy*Kp*m - 16.0*Kp*Mq*Zw - 16.0*Kp*Mq*m + 16.0*Kp*m**2*xG**2) - Ixy*S2*Zw*r1*rho*u2*x2**2/(-16.0*Ix*Iy*Zw - 16.0*Ix*Iy*m - 16.0*Ix*Mq*Zw - 16.0*Ix*Mq*m + 16.0*Ix*m**2*xG**2 + 16.0*Ixy**2*Zw + 16.0*Ixy**2*m - 16.0*Iy*Kp*Zw - 16.0*Iy*Kp*m - 16.0*Kp*Mq*Zw - 16.0*Kp*Mq*m + 16.0*Kp*m**2*xG**2) + Ixy*S2*m*r1*rho*u**2*u1/(-16.0*Ix*Iy*Zw - 16.0*Ix*Iy*m - 16.0*Ix*Mq*Zw - 16.0*Ix*Mq*m + 16.0*Ix*m**2*xG**2 + 16.0*Ixy**2*Zw + 16.0*Ixy**2*m - 16.0*Iy*Kp*Zw - 16.0*Iy*Kp*m - 16.0*Kp*Mq*Zw - 16.0*Kp*Mq*m + 16.0*Kp*m**2*xG**2) - Ixy*S2*m*r1*rho*u**2*u2/(-16.0*Ix*Iy*Zw - 16.0*Ix*Iy*m - 16.0*Ix*Mq*Zw - 16.0*Ix*Mq*m + 16.0*Ix*m**2*xG**2 + 16.0*Ixy**2*Zw + 16.0*Ixy**2*m - 16.0*Iy*Kp*Zw - 16.0*Iy*Kp*m - 16.0*Kp*Mq*Zw - 16.0*Kp*Mq*m + 16.0*Kp*m**2*xG**2) + Ixy*S2*m*r1*rho*u1*x2**2/(-16.0*Ix*Iy*Zw - 16.0*Ix*Iy*m - 16.0*Ix*Mq*Zw - 16.0*Ix*Mq*m + 16.0*Ix*m**2*xG**2 + 16.0*Ixy**2*Zw + 16.0*Ixy**2*m - 16.0*Iy*Kp*Zw - 16.0*Iy*Kp*m - 16.0*Kp*Mq*Zw - 16.0*Kp*Mq*m + 16.0*Kp*m**2*xG**2) - Ixy*S2*m*r1*rho*u2*x2**2/(-16.0*Ix*Iy*Zw - 16.0*Ix*Iy*m - 16.0*Ix*Mq*Zw - 16.0*Ix*Mq*m + 16.0*Ix*m**2*xG**2 + 16.0*Ixy**2*Zw + 16.0*Ixy**2*m - 16.0*Iy*Kp*Zw - 16.0*Iy*Kp*m - 16.0*Kp*Mq*Zw - 16.0*Kp*Mq*m + 16.0*Kp*m**2*xG**2) + 16.0*Ixy*Zw*dr1*x4/(-16.0*Ix*Iy*Zw - 16.0*Ix*Iy*m - 16.0*Ix*Mq*Zw - 16.0*Ix*Mq*m + 16.0*Ix*m**2*xG**2 + 16.0*Ixy**2*Zw + 16.0*Ixy**2*m - 16.0*Iy*Kp*Zw - 16.0*Iy*Kp*m - 16.0*Kp*Mq*Zw - 16.0*Kp*Mq*m + 16.0*Kp*m**2*xG**2) + 16.0*Ixy*Zw*dr2*x4**2/(-16.0*Ix*Iy*Zw - 16.0*Ix*Iy*m - 16.0*Ix*Mq*Zw - 16.0*Ix*Mq*m + 16.0*Ix*m**2*xG**2 + 16.0*Ixy**2*Zw + 16.0*Ixy**2*m - 16.0*Iy*Kp*Zw - 16.0*Iy*Kp*m - 16.0*Kp*Mq*Zw - 16.0*Kp*Mq*m + 16.0*Kp*m**2*xG**2) + 16.0*Ixy*dr1*m*x4/(-16.0*Ix*Iy*Zw - 16.0*Ix*Iy*m - 16.0*Ix*Mq*Zw - 16.0*Ix*Mq*m + 16.0*Ix*m**2*xG**2 + 16.0*Ixy**2*Zw + 16.0*Ixy**2*m - 16.0*Iy*Kp*Zw - 16.0*Iy*Kp*m - 16.0*Kp*Mq*Zw - 16.0*Kp*Mq*m + 16.0*Kp*m**2*xG**2) + 16.0*Ixy*dr2*m*x4**2/(-16.0*Ix*Iy*Zw - 16.0*Ix*Iy*m - 16.0*Ix*Mq*Zw - 16.0*Ix*Mq*m + 16.0*Ix*m**2*xG**2 + 16.0*Ixy**2*Zw + 16.0*Ixy**2*m - 16.0*Iy*Kp*Zw - 16.0*Iy*Kp*m - 16.0*Kp*Mq*Zw - 16.0*Kp*Mq*m + 16.0*Kp*m**2*xG**2) - 16.0*Ixz*Kp*Zw*x4**2/(-16.0*Ix*Iy*Zw - 16.0*Ix*Iy*m - 16.0*Ix*Mq*Zw - 16.0*Ix*Mq*m + 16.0*Ix*m**2*xG**2 + 16.0*Ixy**2*Zw + 16.0*Ixy**2*m - 16.0*Iy*Kp*Zw - 16.0*Iy*Kp*m - 16.0*Kp*Mq*Zw - 16.0*Kp*Mq*m + 16.0*Kp*m**2*xG**2) - 16.0*Ixz*Kp*m*x4**2/(-16.0*Ix*Iy*Zw - 16.0*Ix*Iy*m - 16.0*Ix*Mq*Zw - 16.0*Ix*Mq*m + 16.0*Ix*m**2*xG**2 + 16.0*Ixy**2*Zw + 16.0*Ixy**2*m - 16.0*Iy*Kp*Zw - 16.0*Iy*Kp*m - 16.0*Kp*Mq*Zw - 16.0*Kp*Mq*m + 16.0*Kp*m**2*xG**2) - 16.0*Iyz*Kp*Zw*x4*x6/(-16.0*Ix*Iy*Zw - 16.0*Ix*Iy*m - 16.0*Ix*Mq*Zw - 16.0*Ix*Mq*m + 16.0*Ix*m**2*xG**2 + 16.0*Ixy**2*Zw + 16.0*Ixy**2*m - 16.0*Iy*Kp*Zw - 16.0*Iy*Kp*m - 16.0*Kp*Mq*Zw - 16.0*Kp*Mq*m + 16.0*Kp*m**2*xG**2) - 16.0*Iyz*Kp*m*x4*x6/(-16.0*Ix*Iy*Zw - 16.0*Ix*Iy*m - 16.0*Ix*Mq*Zw - 16.0*Ix*Mq*m + 16.0*Ix*m**2*xG**2 + 16.0*Ixy**2*Zw + 16.0*Ixy**2*m - 16.0*Iy*Kp*Zw - 16.0*Iy*Kp*m - 16.0*Kp*Mq*Zw - 16.0*Kp*Mq*m + 16.0*Kp*m**2*xG**2) - 2.0*Kp*S1*Zw*d1*rho*u**2*x5/(-16.0*Ix*Iy*Zw - 16.0*Ix*Iy*m - 16.0*Ix*Mq*Zw - 16.0*Ix*Mq*m + 16.0*Ix*m**2*xG**2 + 16.0*Ixy**2*Zw + 16.0*Ixy**2*m - 16.0*Iy*Kp*Zw - 16.0*Iy*Kp*m - 16.0*Kp*Mq*Zw - 16.0*Kp*Mq*m + 16.0*Kp*m**2*xG**2) - 2.0*Kp*S1*Zw*d1*rho*x2**2*x5/(-16.0*Ix*Iy*Zw - 16.0*Ix*Iy*m - 16.0*Ix*Mq*Zw - 16.0*Ix*Mq*m + 16.0*Ix*m**2*xG**2 + 16.0*Ixy**2*Zw + 16.0*Ixy**2*m - 16.0*Iy*Kp*Zw - 16.0*Iy*Kp*m - 16.0*Kp*Mq*Zw - 16.0*Kp*Mq*m + 16.0*Kp*m**2*xG**2) - 2.0*Kp*S1*d1*m*rho*u**2*x5/(-16.0*Ix*Iy*Zw - 16.0*Ix*Iy*m - 16.0*Ix*Mq*Zw - 16.0*Ix*Mq*m + 16.0*Ix*m**2*xG**2 + 16.0*Ixy**2*Zw + 16.0*Ixy**2*m - 16.0*Iy*Kp*Zw - 16.0*Iy*Kp*m - 16.0*Kp*Mq*Zw - 16.0*Kp*Mq*m + 16.0*Kp*m**2*xG**2) - 2.0*Kp*S1*d1*m*rho*x2**2*x5/(-16.0*Ix*Iy*Zw - 16.0*Ix*Iy*m - 16.0*Ix*Mq*Zw - 16.0*Ix*Mq*m + 16.0*Ix*m**2*xG**2 + 16.0*Ixy**2*Zw + 16.0*Ixy**2*m - 16.0*Iy*Kp*Zw - 16.0*Iy*Kp*m - 16.0*Kp*Mq*Zw - 16.0*Kp*Mq*m + 16.0*Kp*m**2*xG**2) - 2.0*Kp*S1*m*rho*u**2*x5*xG/(-16.0*Ix*Iy*Zw - 16.0*Ix*Iy*m - 16.0*Ix*Mq*Zw - 16.0*Ix*Mq*m + 16.0*Ix*m**2*xG**2 + 16.0*Ixy**2*Zw + 16.0*Ixy**2*m - 16.0*Iy*Kp*Zw - 16.0*Iy*Kp*m - 16.0*Kp*Mq*Zw - 16.0*Kp*Mq*m + 16.0*Kp*m**2*xG**2) - 2.0*Kp*S1*m*rho*x2**2*x5*xG/(-16.0*Ix*Iy*Zw - 16.0*Ix*Iy*m - 16.0*Ix*Mq*Zw - 16.0*Ix*Mq*m + 16.0*Ix*m**2*xG**2 + 16.0*Ixy**2*Zw + 16.0*Ixy**2*m - 16.0*Iy*Kp*Zw - 16.0*Iy*Kp*m - 16.0*Kp*Mq*Zw - 16.0*Kp*Mq*m + 16.0*Kp*m**2*xG**2) + Kp*S2*Zw*d2*rho*u**2*u1/(-16.0*Ix*Iy*Zw - 16.0*Ix*Iy*m - 16.0*Ix*Mq*Zw - 16.0*Ix*Mq*m + 16.0*Ix*m**2*xG**2 + 16.0*Ixy**2*Zw + 16.0*Ixy**2*m - 16.0*Iy*Kp*Zw - 16.0*Iy*Kp*m - 16.0*Kp*Mq*Zw - 16.0*Kp*Mq*m + 16.0*Kp*m**2*xG**2) + Kp*S2*Zw*d2*rho*u**2*u2/(-16.0*Ix*Iy*Zw - 16.0*Ix*Iy*m - 16.0*Ix*Mq*Zw - 16.0*Ix*Mq*m + 16.0*Ix*m**2*xG**2 + 16.0*Ixy**2*Zw + 16.0*Ixy**2*m - 16.0*Iy*Kp*Zw - 16.0*Iy*Kp*m - 16.0*Kp*Mq*Zw - 16.0*Kp*Mq*m + 16.0*Kp*m**2*xG**2) - 2.0*Kp*S2*Zw*d2*rho*u**2*x5/(-16.0*Ix*Iy*Zw - 16.0*Ix*Iy*m - 16.0*Ix*Mq*Zw - 16.0*Ix*Mq*m + 16.0*Ix*m**2*xG**2 + 16.0*Ixy**2*Zw + 16.0*Ixy**2*m - 16.0*Iy*Kp*Zw - 16.0*Iy*Kp*m - 16.0*Kp*Mq*Zw - 16.0*Kp*Mq*m + 16.0*Kp*m**2*xG**2) + Kp*S2*Zw*d2*rho*u1*x2**2/(-16.0*Ix*Iy*Zw - 16.0*Ix*Iy*m - 16.0*Ix*Mq*Zw - 16.0*Ix*Mq*m + 16.0*Ix*m**2*xG**2 + 16.0*Ixy**2*Zw + 16.0*Ixy**2*m - 16.0*Iy*Kp*Zw - 16.0*Iy*Kp*m - 16.0*Kp*Mq*Zw - 16.0*Kp*Mq*m + 16.0*Kp*m**2*xG**2) + Kp*S2*Zw*d2*rho*u2*x2**2/(-16.0*Ix*Iy*Zw - 16.0*Ix*Iy*m - 16.0*Ix*Mq*Zw - 16.0*Ix*Mq*m + 16.0*Ix*m**2*xG**2 + 16.0*Ixy**2*Zw + 16.0*Ixy**2*m - 16.0*Iy*Kp*Zw - 16.0*Iy*Kp*m - 16.0*Kp*Mq*Zw - 16.0*Kp*Mq*m + 16.0*Kp*m**2*xG**2) - 2.0*Kp*S2*Zw*d2*rho*x2**2*x5/(-16.0*Ix*Iy*Zw - 16.0*Ix*Iy*m - 16.0*Ix*Mq*Zw - 16.0*Ix*Mq*m + 16.0*Ix*m**2*xG**2 + 16.0*Ixy**2*Zw + 16.0*Ixy**2*m - 16.0*Iy*Kp*Zw - 16.0*Iy*Kp*m - 16.0*Kp*Mq*Zw - 16.0*Kp*Mq*m + 16.0*Kp*m**2*xG**2) + Kp*S2*d2*m*rho*u**2*u1/(-16.0*Ix*Iy*Zw - 16.0*Ix*Iy*m - 16.0*Ix*Mq*Zw - 16.0*Ix*Mq*m + 16.0*Ix*m**2*xG**2 + 16.0*Ixy**2*Zw + 16.0*Ixy**2*m - 16.0*Iy*Kp*Zw - 16.0*Iy*Kp*m - 16.0*Kp*Mq*Zw - 16.0*Kp*Mq*m + 16.0*Kp*m**2*xG**2) + Kp*S2*d2*m*rho*u**2*u2/(-16.0*Ix*Iy*Zw - 16.0*Ix*Iy*m - 16.0*Ix*Mq*Zw - 16.0*Ix*Mq*m + 16.0*Ix*m**2*xG**2 + 16.0*Ixy**2*Zw + 16.0*Ixy**2*m - 16.0*Iy*Kp*Zw - 16.0*Iy*Kp*m - 16.0*Kp*Mq*Zw - 16.0*Kp*Mq*m + 16.0*Kp*m**2*xG**2) - 2.0*Kp*S2*d2*m*rho*u**2*x5/(-16.0*Ix*Iy*Zw - 16.0*Ix*Iy*m - 16.0*Ix*Mq*Zw - 16.0*Ix*Mq*m + 16.0*Ix*m**2*xG**2 + 16.0*Ixy**2*Zw + 16.0*Ixy**2*m - 16.0*Iy*Kp*Zw - 16.0*Iy*Kp*m - 16.0*Kp*Mq*Zw - 16.0*Kp*Mq*m + 16.0*Kp*m**2*xG**2) + Kp*S2*d2*m*rho*u1*x2**2/(-16.0*Ix*Iy*Zw - 16.0*Ix*Iy*m - 16.0*Ix*Mq*Zw - 16.0*Ix*Mq*m + 16.0*Ix*m**2*xG**2 + 16.0*Ixy**2*Zw + 16.0*Ixy**2*m - 16.0*Iy*Kp*Zw - 16.0*Iy*Kp*m - 16.0*Kp*Mq*Zw - 16.0*Kp*Mq*m + 16.0*Kp*m**2*xG**2) + Kp*S2*d2*m*rho*u2*x2**2/(-16.0*Ix*Iy*Zw - 16.0*Ix*Iy*m - 16.0*Ix*Mq*Zw - 16.0*Ix*Mq*m + 16.0*Ix*m**2*xG**2 + 16.0*Ixy**2*Zw + 16.0*Ixy**2*m - 16.0*Iy*Kp*Zw - 16.0*Iy*Kp*m - 16.0*Kp*Mq*Zw - 16.0*Kp*Mq*m + 16.0*Kp*m**2*xG**2) - 2.0*Kp*S2*d2*m*rho*x2**2*x5/(-16.0*Ix*Iy*Zw - 16.0*Ix*Iy*m - 16.0*Ix*Mq*Zw - 16.0*Ix*Mq*m + 16.0*Ix*m**2*xG**2 + 16.0*Ixy**2*Zw + 16.0*Ixy**2*m - 16.0*Iy*Kp*Zw - 16.0*Iy*Kp*m - 16.0*Kp*Mq*Zw - 16.0*Kp*Mq*m + 16.0*Kp*m**2*xG**2) + Kp*S2*m*rho*u**2*u1*xG/(-16.0*Ix*Iy*Zw - 16.0*Ix*Iy*m - 16.0*Ix*Mq*Zw - 16.0*Ix*Mq*m + 16.0*Ix*m**2*xG**2 + 16.0*Ixy**2*Zw + 16.0*Ixy**2*m - 16.0*Iy*Kp*Zw - 16.0*Iy*Kp*m - 16.0*Kp*Mq*Zw - 16.0*Kp*Mq*m + 16.0*Kp*m**2*xG**2) + Kp*S2*m*rho*u**2*u2*xG/(-16.0*Ix*Iy*Zw - 16.0*Ix*Iy*m - 16.0*Ix*Mq*Zw - 16.0*Ix*Mq*m + 16.0*Ix*m**2*xG**2 + 16.0*Ixy**2*Zw + 16.0*Ixy**2*m - 16.0*Iy*Kp*Zw - 16.0*Iy*Kp*m - 16.0*Kp*Mq*Zw - 16.0*Kp*Mq*m + 16.0*Kp*m**2*xG**2) - 2.0*Kp*S2*m*rho*u**2*x5*xG/(-16.0*Ix*Iy*Zw - 16.0*Ix*Iy*m - 16.0*Ix*Mq*Zw - 16.0*Ix*Mq*m + 16.0*Ix*m**2*xG**2 + 16.0*Ixy**2*Zw + 16.0*Ixy**2*m - 16.0*Iy*Kp*Zw - 16.0*Iy*Kp*m - 16.0*Kp*Mq*Zw - 16.0*Kp*Mq*m + 16.0*Kp*m**2*xG**2) + Kp*S2*m*rho*u1*x2**2*xG/(-16.0*Ix*Iy*Zw - 16.0*Ix*Iy*m - 16.0*Ix*Mq*Zw - 16.0*Ix*Mq*m + 16.0*Ix*m**2*xG**2 + 16.0*Ixy**2*Zw + 16.0*Ixy**2*m - 16.0*Iy*Kp*Zw - 16.0*Iy*Kp*m - 16.0*Kp*Mq*Zw - 16.0*Kp*Mq*m + 16.0*Kp*m**2*xG**2) + Kp*S2*m*rho*u2*x2**2*xG/(-16.0*Ix*Iy*Zw - 16.0*Ix*Iy*m - 16.0*Ix*Mq*Zw - 16.0*Ix*Mq*m + 16.0*Ix*m**2*xG**2 + 16.0*Ixy**2*Zw + 16.0*Ixy**2*m - 16.0*Iy*Kp*Zw - 16.0*Iy*Kp*m - 16.0*Kp*Mq*Zw - 16.0*Kp*Mq*m + 16.0*Kp*m**2*xG**2) - 2.0*Kp*S2*m*rho*x2**2*x5*xG/(-16.0*Ix*Iy*Zw - 16.0*Ix*Iy*m - 16.0*Ix*Mq*Zw - 16.0*Ix*Mq*m + 16.0*Ix*m**2*xG**2 + 16.0*Ixy**2*Zw + 16.0*Ixy**2*m - 16.0*Iy*Kp*Zw - 16.0*Iy*Kp*m - 16.0*Kp*Mq*Zw - 16.0*Kp*Mq*m + 16.0*Kp*m**2*xG**2) - 2.0*Kp*S3*Zw*d3*rho*u**2*x5/(-16.0*Ix*Iy*Zw - 16.0*Ix*Iy*m - 16.0*Ix*Mq*Zw - 16.0*Ix*Mq*m + 16.0*Ix*m**2*xG**2 + 16.0*Ixy**2*Zw + 16.0*Ixy**2*m - 16.0*Iy*Kp*Zw - 16.0*Iy*Kp*m - 16.0*Kp*Mq*Zw - 16.0*Kp*Mq*m + 16.0*Kp*m**2*xG**2) - 2.0*Kp*S3*Zw*d3*rho*x2**2*x5/(-16.0*Ix*Iy*Zw - 16.0*Ix*Iy*m - 16.0*Ix*Mq*Zw - 16.0*Ix*Mq*m + 16.0*Ix*m**2*xG**2 + 16.0*Ixy**2*Zw + 16.0*Ixy**2*m - 16.0*Iy*Kp*Zw - 16.0*Iy*Kp*m - 16.0*Kp*Mq*Zw - 16.0*Kp*Mq*m + 16.0*Kp*m**2*xG**2) - 2.0*Kp*S3*d3*m*rho*u**2*x5/(-16.0*Ix*Iy*Zw - 16.0*Ix*Iy*m - 16.0*Ix*Mq*Zw - 16.0*Ix*Mq*m + 16.0*Ix*m**2*xG**2 + 16.0*Ixy**2*Zw + 16.0*Ixy**2*m - 16.0*Iy*Kp*Zw - 16.0*Iy*Kp*m - 16.0*Kp*Mq*Zw - 16.0*Kp*Mq*m + 16.0*Kp*m**2*xG**2) - 2.0*Kp*S3*d3*m*rho*x2**2*x5/(-16.0*Ix*Iy*Zw - 16.0*Ix*Iy*m - 16.0*Ix*Mq*Zw - 16.0*Ix*Mq*m + 16.0*Ix*m**2*xG**2 + 16.0*Ixy**2*Zw + 16.0*Ixy**2*m - 16.0*Iy*Kp*Zw - 16.0*Iy*Kp*m - 16.0*Kp*Mq*Zw - 16.0*Kp*Mq*m + 16.0*Kp*m**2*xG**2) - 2.0*Kp*S3*m*rho*u**2*x5*xG/(-16.0*Ix*Iy*Zw - 16.0*Ix*Iy*m - 16.0*Ix*Mq*Zw - 16.0*Ix*Mq*m + 16.0*Ix*m**2*xG**2 + 16.0*Ixy**2*Zw + 16.0*Ixy**2*m - 16.0*Iy*Kp*Zw - 16.0*Iy*Kp*m - 16.0*Kp*Mq*Zw - 16.0*Kp*Mq*m + 16.0*Kp*m**2*xG**2) - 2.0*Kp*S3*m*rho*x2**2*x5*xG/(-16.0*Ix*Iy*Zw - 16.0*Ix*Iy*m - 16.0*Ix*Mq*Zw - 16.0*Ix*Mq*m + 16.0*Ix*m**2*xG**2 + 16.0*Ixy**2*Zw + 16.0*Ixy**2*m - 16.0*Iy*Kp*Zw - 16.0*Iy*Kp*m - 16.0*Kp*Mq*Zw - 16.0*Kp*Mq*m + 16.0*Kp*m**2*xG**2) + 2.0*Kp*S4*Zw*d4*rho*u**2*u3/(-16.0*Ix*Iy*Zw - 16.0*Ix*Iy*m - 16.0*Ix*Mq*Zw - 16.0*Ix*Mq*m + 16.0*Ix*m**2*xG**2 + 16.0*Ixy**2*Zw + 16.0*Ixy**2*m - 16.0*Iy*Kp*Zw - 16.0*Iy*Kp*m - 16.0*Kp*Mq*Zw - 16.0*Kp*Mq*m + 16.0*Kp*m**2*xG**2) - 2.0*Kp*S4*Zw*d4*rho*u**2*x5/(-16.0*Ix*Iy*Zw - 16.0*Ix*Iy*m - 16.0*Ix*Mq*Zw - 16.0*Ix*Mq*m + 16.0*Ix*m**2*xG**2 + 16.0*Ixy**2*Zw + 16.0*Ixy**2*m - 16.0*Iy*Kp*Zw - 16.0*Iy*Kp*m - 16.0*Kp*Mq*Zw - 16.0*Kp*Mq*m + 16.0*Kp*m**2*xG**2) + 2.0*Kp*S4*Zw*d4*rho*u3*x2**2/(-16.0*Ix*Iy*Zw - 16.0*Ix*Iy*m - 16.0*Ix*Mq*Zw - 16.0*Ix*Mq*m + 16.0*Ix*m**2*xG**2 + 16.0*Ixy**2*Zw + 16.0*Ixy**2*m - 16.0*Iy*Kp*Zw - 16.0*Iy*Kp*m - 16.0*Kp*Mq*Zw - 16.0*Kp*Mq*m + 16.0*Kp*m**2*xG**2) - 2.0*Kp*S4*Zw*d4*rho*x2**2*x5/(-16.0*Ix*Iy*Zw - 16.0*Ix*Iy*m - 16.0*Ix*Mq*Zw - 16.0*Ix*Mq*m + 16.0*Ix*m**2*xG**2 + 16.0*Ixy**2*Zw + 16.0*Ixy**2*m - 16.0*Iy*Kp*Zw - 16.0*Iy*Kp*m - 16.0*Kp*Mq*Zw - 16.0*Kp*Mq*m + 16.0*Kp*m**2*xG**2) + 2.0*Kp*S4*d4*m*rho*u**2*u3/(-16.0*Ix*Iy*Zw - 16.0*Ix*Iy*m - 16.0*Ix*Mq*Zw - 16.0*Ix*Mq*m + 16.0*Ix*m**2*xG**2 + 16.0*Ixy**2*Zw + 16.0*Ixy**2*m - 16.0*Iy*Kp*Zw - 16.0*Iy*Kp*m - 16.0*Kp*Mq*Zw - 16.0*Kp*Mq*m + 16.0*Kp*m**2*xG**2) - 2.0*Kp*S4*d4*m*rho*u**2*x5/(-16.0*Ix*Iy*Zw - 16.0*Ix*Iy*m - 16.0*Ix*Mq*Zw - 16.0*Ix*Mq*m + 16.0*Ix*m**2*xG**2 + 16.0*Ixy**2*Zw + 16.0*Ixy**2*m - 16.0*Iy*Kp*Zw - 16.0*Iy*Kp*m - 16.0*Kp*Mq*Zw - 16.0*Kp*Mq*m + 16.0*Kp*m**2*xG**2) + 2.0*Kp*S4*d4*m*rho*u3*x2**2/(-16.0*Ix*Iy*Zw - 16.0*Ix*Iy*m - 16.0*Ix*Mq*Zw - 16.0*Ix*Mq*m + 16.0*Ix*m**2*xG**2 + 16.0*Ixy**2*Zw + 16.0*Ixy**2*m - 16.0*Iy*Kp*Zw - 16.0*Iy*Kp*m - 16.0*Kp*Mq*Zw - 16.0*Kp*Mq*m + 16.0*Kp*m**2*xG**2) - 2.0*Kp*S4*d4*m*rho*x2**2*x5/(-16.0*Ix*Iy*Zw - 16.0*Ix*Iy*m - 16.0*Ix*Mq*Zw - 16.0*Ix*Mq*m + 16.0*Ix*m**2*xG**2 + 16.0*Ixy**2*Zw + 16.0*Ixy**2*m - 16.0*Iy*Kp*Zw - 16.0*Iy*Kp*m - 16.0*Kp*Mq*Zw - 16.0*Kp*Mq*m + 16.0*Kp*m**2*xG**2) + 2.0*Kp*S4*m*rho*u**2*u3*xG/(-16.0*Ix*Iy*Zw - 16.0*Ix*Iy*m - 16.0*Ix*Mq*Zw - 16.0*Ix*Mq*m + 16.0*Ix*m**2*xG**2 + 16.0*Ixy**2*Zw + 16.0*Ixy**2*m - 16.0*Iy*Kp*Zw - 16.0*Iy*Kp*m - 16.0*Kp*Mq*Zw - 16.0*Kp*Mq*m + 16.0*Kp*m**2*xG**2) - 2.0*Kp*S4*m*rho*u**2*x5*xG/(-16.0*Ix*Iy*Zw - 16.0*Ix*Iy*m - 16.0*Ix*Mq*Zw - 16.0*Ix*Mq*m + 16.0*Ix*m**2*xG**2 + 16.0*Ixy**2*Zw + 16.0*Ixy**2*m - 16.0*Iy*Kp*Zw - 16.0*Iy*Kp*m - 16.0*Kp*Mq*Zw - 16.0*Kp*Mq*m + 16.0*Kp*m**2*xG**2) + 2.0*Kp*S4*m*rho*u3*x2**2*xG/(-16.0*Ix*Iy*Zw - 16.0*Ix*Iy*m - 16.0*Ix*Mq*Zw - 16.0*Ix*Mq*m + 16.0*Ix*m**2*xG**2 + 16.0*Ixy**2*Zw + 16.0*Ixy**2*m - 16.0*Iy*Kp*Zw - 16.0*Iy*Kp*m - 16.0*Kp*Mq*Zw - 16.0*Kp*Mq*m + 16.0*Kp*m**2*xG**2) - 2.0*Kp*S4*m*rho*x2**2*x5*xG/(-16.0*Ix*Iy*Zw - 16.0*Ix*Iy*m - 16.0*Ix*Mq*Zw - 16.0*Ix*Mq*m + 16.0*Ix*m**2*xG**2 + 16.0*Ixy**2*Zw + 16.0*Ixy**2*m - 16.0*Iy*Kp*Zw - 16.0*Iy*Kp*m - 16.0*Kp*Mq*Zw - 16.0*Kp*Mq*m + 16.0*Kp*m**2*xG**2) - 16.0*Kp*Vol*Zw*db*g*rho*sin(x5)/(-16.0*Ix*Iy*Zw - 16.0*Ix*Iy*m - 16.0*Ix*Mq*Zw - 16.0*Ix*Mq*m + 16.0*Ix*m**2*xG**2 + 16.0*Ixy**2*Zw + 16.0*Ixy**2*m - 16.0*Iy*Kp*Zw - 16.0*Iy*Kp*m - 16.0*Kp*Mq*Zw - 16.0*Kp*Mq*m + 16.0*Kp*m**2*xG**2) - 16.0*Kp*Vol*db*g*m*rho*sin(x5)/(-16.0*Ix*Iy*Zw - 16.0*Ix*Iy*m - 16.0*Ix*Mq*Zw - 16.0*Ix*Mq*m + 16.0*Ix*m**2*xG**2 + 16.0*Ixy**2*Zw + 16.0*Ixy**2*m - 16.0*Iy*Kp*Zw - 16.0*Iy*Kp*m - 16.0*Kp*Mq*Zw - 16.0*Kp*Mq*m + 16.0*Kp*m**2*xG**2) - 16.0*Kp*Vol*g*m*rho*xG*sin(x5)/(-16.0*Ix*Iy*Zw - 16.0*Ix*Iy*m - 16.0*Ix*Mq*Zw - 16.0*Ix*Mq*m + 16.0*Ix*m**2*xG**2 + 16.0*Ixy**2*Zw + 16.0*Ixy**2*m - 16.0*Iy*Kp*Zw - 16.0*Iy*Kp*m - 16.0*Kp*Mq*Zw - 16.0*Kp*Mq*m + 16.0*Kp*m**2*xG**2) - 16.0*Kp*Zw**2*u*x2/(-16.0*Ix*Iy*Zw - 16.0*Ix*Iy*m - 16.0*Ix*Mq*Zw - 16.0*Ix*Mq*m + 16.0*Ix*m**2*xG**2 + 16.0*Ixy**2*Zw + 16.0*Ixy**2*m - 16.0*Iy*Kp*Zw - 16.0*Iy*Kp*m - 16.0*Kp*Mq*Zw - 16.0*Kp*Mq*m + 16.0*Kp*m**2*xG**2) + 16.0*Kp*Zw*dg*g*m*sin(x5)/(-16.0*Ix*Iy*Zw - 16.0*Ix*Iy*m - 16.0*Ix*Mq*Zw - 16.0*Ix*Mq*m + 16.0*Ix*m**2*xG**2 + 16.0*Ixy**2*Zw + 16.0*Ixy**2*m - 16.0*Iy*Kp*Zw - 16.0*Iy*Kp*m - 16.0*Kp*Mq*Zw - 16.0*Kp*Mq*m + 16.0*Kp*m**2*xG**2) + 16.0*Kp*Zw*dp1*x6/(-16.0*Ix*Iy*Zw - 16.0*Ix*Iy*m - 16.0*Ix*Mq*Zw - 16.0*Ix*Mq*m + 16.0*Ix*m**2*xG**2 + 16.0*Ixy**2*Zw + 16.0*Ixy**2*m - 16.0*Iy*Kp*Zw - 16.0*Iy*Kp*m - 16.0*Kp*Mq*Zw - 16.0*Kp*Mq*m + 16.0*Kp*m**2*xG**2) + 16.0*Kp*Zw*dp2*x6**2/(-16.0*Ix*Iy*Zw - 16.0*Ix*Iy*m - 16.0*Ix*Mq*Zw - 16.0*Ix*Mq*m + 16.0*Ix*m**2*xG**2 + 16.0*Ixy**2*Zw + 16.0*Ixy**2*m - 16.0*Iy*Kp*Zw - 16.0*Iy*Kp*m - 16.0*Kp*Mq*Zw - 16.0*Kp*Mq*m + 16.0*Kp*m**2*xG**2) - 16.0*Kp*Zw*m*u*x2/(-16.0*Ix*Iy*Zw - 16.0*Ix*Iy*m - 16.0*Ix*Mq*Zw - 16.0*Ix*Mq*m + 16.0*Ix*m**2*xG**2 + 16.0*Ixy**2*Zw + 16.0*Ixy**2*m - 16.0*Iy*Kp*Zw - 16.0*Iy*Kp*m - 16.0*Kp*Mq*Zw - 16.0*Kp*Mq*m + 16.0*Kp*m**2*xG**2) - 16.0*Kp*Zw*m*u*x6*xG/(-16.0*Ix*Iy*Zw - 16.0*Ix*Iy*m - 16.0*Ix*Mq*Zw - 16.0*Ix*Mq*m + 16.0*Ix*m**2*xG**2 + 16.0*Ixy**2*Zw + 16.0*Ixy**2*m - 16.0*Iy*Kp*Zw - 16.0*Iy*Kp*m - 16.0*Kp*Mq*Zw - 16.0*Kp*Mq*m + 16.0*Kp*m**2*xG**2) + 16.0*Kp*dg*g*m**2*sin(x5)/(-16.0*Ix*Iy*Zw - 16.0*Ix*Iy*m - 16.0*Ix*Mq*Zw - 16.0*Ix*Mq*m + 16.0*Ix*m**2*xG**2 + 16.0*Ixy**2*Zw + 16.0*Ixy**2*m - 16.0*Iy*Kp*Zw - 16.0*Iy*Kp*m - 16.0*Kp*Mq*Zw - 16.0*Kp*Mq*m + 16.0*Kp*m**2*xG**2) + 16.0*Kp*dh1*m*x2*xG/(-16.0*Ix*Iy*Zw - 16.0*Ix*Iy*m - 16.0*Ix*Mq*Zw - 16.0*Ix*Mq*m + 16.0*Ix*m**2*xG**2 + 16.0*Ixy**2*Zw + 16.0*Ixy**2*m - 16.0*Iy*Kp*Zw - 16.0*Iy*Kp*m - 16.0*Kp*Mq*Zw - 16.0*Kp*Mq*m + 16.0*Kp*m**2*xG**2) + 16.0*Kp*dh2*m*x2**2*xG/(-16.0*Ix*Iy*Zw - 16.0*Ix*Iy*m - 16.0*Ix*Mq*Zw - 16.0*Ix*Mq*m + 16.0*Ix*m**2*xG**2 + 16.0*Ixy**2*Zw + 16.0*Ixy**2*m - 16.0*Iy*Kp*Zw - 16.0*Iy*Kp*m - 16.0*Kp*Mq*Zw - 16.0*Kp*Mq*m + 16.0*Kp*m**2*xG**2) + 16.0*Kp*dp1*m*x6/(-16.0*Ix*Iy*Zw - 16.0*Ix*Iy*m - 16.0*Ix*Mq*Zw - 16.0*Ix*Mq*m + 16.0*Ix*m**2*xG**2 + 16.0*Ixy**2*Zw + 16.0*Ixy**2*m - 16.0*Iy*Kp*Zw - 16.0*Iy*Kp*m - 16.0*Kp*Mq*Zw - 16.0*Kp*Mq*m + 16.0*Kp*m**2*xG**2) + 16.0*Kp*dp2*m*x6**2/(-16.0*Ix*Iy*Zw - 16.0*Ix*Iy*m - 16.0*Ix*Mq*Zw - 16.0*Ix*Mq*m + 16.0*Ix*m**2*xG**2 + 16.0*Ixy**2*Zw + 16.0*Ixy**2*m - 16.0*Iy*Kp*Zw - 16.0*Iy*Kp*m - 16.0*Kp*Mq*Zw - 16.0*Kp*Mq*m + 16.0*Kp*m**2*xG**2) + 16.0*Kp*g*m**2*xG*sin(x5)/(-16.0*Ix*Iy*Zw - 16.0*Ix*Iy*m - 16.0*Ix*Mq*Zw - 16.0*Ix*Mq*m + 16.0*Ix*m**2*xG**2 + 16.0*Ixy**2*Zw + 16.0*Ixy**2*m - 16.0*Iy*Kp*Zw - 16.0*Iy*Kp*m - 16.0*Kp*Mq*Zw - 16.0*Kp*Mq*m + 16.0*Kp*m**2*xG**2))\n"
     ]
    }
   ],
   "source": [
    "#\n",
    "r = sy.solve((eq1,eq2,eq3),(x2d,x4d,x6d))\n",
    "\n",
    "r_list = list(r.items())\n",
    "\"\"\"\"\n",
    "print(\"---------------------------------------------X2D-------------------------------------------\")\n",
    "print(str(r_list[0]))\n",
    "print(\"---------------------------------------------X4D-------------------------------------------\")\n",
    "print(str(r_list[1]))\n",
    "print(\"---------------------------------------------X6D-------------------------------------------\")\n",
    "print(str(r_list[2]))\n"
   ]
  },
  {
   "cell_type": "markdown",
   "id": "naked-money",
   "metadata": {},
   "source": [
    "#### Define x2d,x4d and x6d using sin"
   ]
  },
  {
   "cell_type": "code",
   "execution_count": 7,
   "id": "wooden-stevens",
   "metadata": {},
   "outputs": [],
   "source": [
    "x2d = -16.0*Ix*Ixz*m*x4**2*xG/(-16.0*Ix*Iy*Zw - 16.0*Ix*Iy*m - 16.0*Ix*Mq*Zw - 16.0*Ix*Mq*m + 16.0*Ix*m**2*xG**2 + 16.0*Ixy**2*Zw + 16.0*Ixy**2*m - 16.0*Iy*Kp*Zw - 16.0*Iy*Kp*m - 16.0*Kp*Mq*Zw - 16.0*Kp*Mq*m + 16.0*Kp*m**2*xG**2) - 2.0*Ix*Iy*S1*rho*u**2*x5/(-16.0*Ix*Iy*Zw - 16.0*Ix*Iy*m - 16.0*Ix*Mq*Zw - 16.0*Ix*Mq*m + 16.0*Ix*m**2*xG**2 + 16.0*Ixy**2*Zw + 16.0*Ixy**2*m - 16.0*Iy*Kp*Zw - 16.0*Iy*Kp*m - 16.0*Kp*Mq*Zw - 16.0*Kp*Mq*m + 16.0*Kp*m**2*xG**2) - 2.0*Ix*Iy*S1*rho*x2**2*x5/(-16.0*Ix*Iy*Zw - 16.0*Ix*Iy*m - 16.0*Ix*Mq*Zw - 16.0*Ix*Mq*m + 16.0*Ix*m**2*xG**2 + 16.0*Ixy**2*Zw + 16.0*Ixy**2*m - 16.0*Iy*Kp*Zw - 16.0*Iy*Kp*m - 16.0*Kp*Mq*Zw - 16.0*Kp*Mq*m + 16.0*Kp*m**2*xG**2) + Ix*Iy*S2*rho*u**2*u1/(-16.0*Ix*Iy*Zw - 16.0*Ix*Iy*m - 16.0*Ix*Mq*Zw - 16.0*Ix*Mq*m + 16.0*Ix*m**2*xG**2 + 16.0*Ixy**2*Zw + 16.0*Ixy**2*m - 16.0*Iy*Kp*Zw - 16.0*Iy*Kp*m - 16.0*Kp*Mq*Zw - 16.0*Kp*Mq*m + 16.0*Kp*m**2*xG**2) + Ix*Iy*S2*rho*u**2*u2/(-16.0*Ix*Iy*Zw - 16.0*Ix*Iy*m - 16.0*Ix*Mq*Zw - 16.0*Ix*Mq*m + 16.0*Ix*m**2*xG**2 + 16.0*Ixy**2*Zw + 16.0*Ixy**2*m - 16.0*Iy*Kp*Zw - 16.0*Iy*Kp*m - 16.0*Kp*Mq*Zw - 16.0*Kp*Mq*m + 16.0*Kp*m**2*xG**2) - 2.0*Ix*Iy*S2*rho*u**2*x5/(-16.0*Ix*Iy*Zw - 16.0*Ix*Iy*m - 16.0*Ix*Mq*Zw - 16.0*Ix*Mq*m + 16.0*Ix*m**2*xG**2 + 16.0*Ixy**2*Zw + 16.0*Ixy**2*m - 16.0*Iy*Kp*Zw - 16.0*Iy*Kp*m - 16.0*Kp*Mq*Zw - 16.0*Kp*Mq*m + 16.0*Kp*m**2*xG**2) + Ix*Iy*S2*rho*u1*x2**2/(-16.0*Ix*Iy*Zw - 16.0*Ix*Iy*m - 16.0*Ix*Mq*Zw - 16.0*Ix*Mq*m + 16.0*Ix*m**2*xG**2 + 16.0*Ixy**2*Zw + 16.0*Ixy**2*m - 16.0*Iy*Kp*Zw - 16.0*Iy*Kp*m - 16.0*Kp*Mq*Zw - 16.0*Kp*Mq*m + 16.0*Kp*m**2*xG**2) + Ix*Iy*S2*rho*u2*x2**2/(-16.0*Ix*Iy*Zw - 16.0*Ix*Iy*m - 16.0*Ix*Mq*Zw - 16.0*Ix*Mq*m + 16.0*Ix*m**2*xG**2 + 16.0*Ixy**2*Zw + 16.0*Ixy**2*m - 16.0*Iy*Kp*Zw - 16.0*Iy*Kp*m - 16.0*Kp*Mq*Zw - 16.0*Kp*Mq*m + 16.0*Kp*m**2*xG**2) - 2.0*Ix*Iy*S2*rho*x2**2*x5/(-16.0*Ix*Iy*Zw - 16.0*Ix*Iy*m - 16.0*Ix*Mq*Zw - 16.0*Ix*Mq*m + 16.0*Ix*m**2*xG**2 + 16.0*Ixy**2*Zw + 16.0*Ixy**2*m - 16.0*Iy*Kp*Zw - 16.0*Iy*Kp*m - 16.0*Kp*Mq*Zw - 16.0*Kp*Mq*m + 16.0*Kp*m**2*xG**2) - 2.0*Ix*Iy*S3*rho*u**2*x5/(-16.0*Ix*Iy*Zw - 16.0*Ix*Iy*m - 16.0*Ix*Mq*Zw - 16.0*Ix*Mq*m + 16.0*Ix*m**2*xG**2 + 16.0*Ixy**2*Zw + 16.0*Ixy**2*m - 16.0*Iy*Kp*Zw - 16.0*Iy*Kp*m - 16.0*Kp*Mq*Zw - 16.0*Kp*Mq*m + 16.0*Kp*m**2*xG**2) - 2.0*Ix*Iy*S3*rho*x2**2*x5/(-16.0*Ix*Iy*Zw - 16.0*Ix*Iy*m - 16.0*Ix*Mq*Zw - 16.0*Ix*Mq*m + 16.0*Ix*m**2*xG**2 + 16.0*Ixy**2*Zw + 16.0*Ixy**2*m - 16.0*Iy*Kp*Zw - 16.0*Iy*Kp*m - 16.0*Kp*Mq*Zw - 16.0*Kp*Mq*m + 16.0*Kp*m**2*xG**2) + 2.0*Ix*Iy*S4*rho*u**2*u3/(-16.0*Ix*Iy*Zw - 16.0*Ix*Iy*m - 16.0*Ix*Mq*Zw - 16.0*Ix*Mq*m + 16.0*Ix*m**2*xG**2 + 16.0*Ixy**2*Zw + 16.0*Ixy**2*m - 16.0*Iy*Kp*Zw - 16.0*Iy*Kp*m - 16.0*Kp*Mq*Zw - 16.0*Kp*Mq*m + 16.0*Kp*m**2*xG**2) - 2.0*Ix*Iy*S4*rho*u**2*x5/(-16.0*Ix*Iy*Zw - 16.0*Ix*Iy*m - 16.0*Ix*Mq*Zw - 16.0*Ix*Mq*m + 16.0*Ix*m**2*xG**2 + 16.0*Ixy**2*Zw + 16.0*Ixy**2*m - 16.0*Iy*Kp*Zw - 16.0*Iy*Kp*m - 16.0*Kp*Mq*Zw - 16.0*Kp*Mq*m + 16.0*Kp*m**2*xG**2) + 2.0*Ix*Iy*S4*rho*u3*x2**2/(-16.0*Ix*Iy*Zw - 16.0*Ix*Iy*m - 16.0*Ix*Mq*Zw - 16.0*Ix*Mq*m + 16.0*Ix*m**2*xG**2 + 16.0*Ixy**2*Zw + 16.0*Ixy**2*m - 16.0*Iy*Kp*Zw - 16.0*Iy*Kp*m - 16.0*Kp*Mq*Zw - 16.0*Kp*Mq*m + 16.0*Kp*m**2*xG**2) - 2.0*Ix*Iy*S4*rho*x2**2*x5/(-16.0*Ix*Iy*Zw - 16.0*Ix*Iy*m - 16.0*Ix*Mq*Zw - 16.0*Ix*Mq*m + 16.0*Ix*m**2*xG**2 + 16.0*Ixy**2*Zw + 16.0*Ixy**2*m - 16.0*Iy*Kp*Zw - 16.0*Iy*Kp*m - 16.0*Kp*Mq*Zw - 16.0*Kp*Mq*m + 16.0*Kp*m**2*xG**2) - 16.0*Ix*Iy*Vol*g*rho*sin(x5)/(-16.0*Ix*Iy*Zw - 16.0*Ix*Iy*m - 16.0*Ix*Mq*Zw - 16.0*Ix*Mq*m + 16.0*Ix*m**2*xG**2 + 16.0*Ixy**2*Zw + 16.0*Ixy**2*m - 16.0*Iy*Kp*Zw - 16.0*Iy*Kp*m - 16.0*Kp*Mq*Zw - 16.0*Kp*Mq*m + 16.0*Kp*m**2*xG**2) + 16.0*Ix*Iy*dh1*x2/(-16.0*Ix*Iy*Zw - 16.0*Ix*Iy*m - 16.0*Ix*Mq*Zw - 16.0*Ix*Mq*m + 16.0*Ix*m**2*xG**2 + 16.0*Ixy**2*Zw + 16.0*Ixy**2*m - 16.0*Iy*Kp*Zw - 16.0*Iy*Kp*m - 16.0*Kp*Mq*Zw - 16.0*Kp*Mq*m + 16.0*Kp*m**2*xG**2) + 16.0*Ix*Iy*dh2*x2**2/(-16.0*Ix*Iy*Zw - 16.0*Ix*Iy*m - 16.0*Ix*Mq*Zw - 16.0*Ix*Mq*m + 16.0*Ix*m**2*xG**2 + 16.0*Ixy**2*Zw + 16.0*Ixy**2*m - 16.0*Iy*Kp*Zw - 16.0*Iy*Kp*m - 16.0*Kp*Mq*Zw - 16.0*Kp*Mq*m + 16.0*Kp*m**2*xG**2) + 16.0*Ix*Iy*g*m*sin(x5)/(-16.0*Ix*Iy*Zw - 16.0*Ix*Iy*m - 16.0*Ix*Mq*Zw - 16.0*Ix*Mq*m + 16.0*Ix*m**2*xG**2 + 16.0*Ixy**2*Zw + 16.0*Ixy**2*m - 16.0*Iy*Kp*Zw - 16.0*Iy*Kp*m - 16.0*Kp*Mq*Zw - 16.0*Kp*Mq*m + 16.0*Kp*m**2*xG**2) + 16.0*Ix*Iy*m*u*x6/(-16.0*Ix*Iy*Zw - 16.0*Ix*Iy*m - 16.0*Ix*Mq*Zw - 16.0*Ix*Mq*m + 16.0*Ix*m**2*xG**2 + 16.0*Ixy**2*Zw + 16.0*Ixy**2*m - 16.0*Iy*Kp*Zw - 16.0*Iy*Kp*m - 16.0*Kp*Mq*Zw - 16.0*Kp*Mq*m + 16.0*Kp*m**2*xG**2) - 16.0*Ix*Iyz*m*x4*x6*xG/(-16.0*Ix*Iy*Zw - 16.0*Ix*Iy*m - 16.0*Ix*Mq*Zw - 16.0*Ix*Mq*m + 16.0*Ix*m**2*xG**2 + 16.0*Ixy**2*Zw + 16.0*Ixy**2*m - 16.0*Iy*Kp*Zw - 16.0*Iy*Kp*m - 16.0*Kp*Mq*Zw - 16.0*Kp*Mq*m + 16.0*Kp*m**2*xG**2) - 2.0*Ix*Mq*S1*rho*u**2*x5/(-16.0*Ix*Iy*Zw - 16.0*Ix*Iy*m - 16.0*Ix*Mq*Zw - 16.0*Ix*Mq*m + 16.0*Ix*m**2*xG**2 + 16.0*Ixy**2*Zw + 16.0*Ixy**2*m - 16.0*Iy*Kp*Zw - 16.0*Iy*Kp*m - 16.0*Kp*Mq*Zw - 16.0*Kp*Mq*m + 16.0*Kp*m**2*xG**2) - 2.0*Ix*Mq*S1*rho*x2**2*x5/(-16.0*Ix*Iy*Zw - 16.0*Ix*Iy*m - 16.0*Ix*Mq*Zw - 16.0*Ix*Mq*m + 16.0*Ix*m**2*xG**2 + 16.0*Ixy**2*Zw + 16.0*Ixy**2*m - 16.0*Iy*Kp*Zw - 16.0*Iy*Kp*m - 16.0*Kp*Mq*Zw - 16.0*Kp*Mq*m + 16.0*Kp*m**2*xG**2) + Ix*Mq*S2*rho*u**2*u1/(-16.0*Ix*Iy*Zw - 16.0*Ix*Iy*m - 16.0*Ix*Mq*Zw - 16.0*Ix*Mq*m + 16.0*Ix*m**2*xG**2 + 16.0*Ixy**2*Zw + 16.0*Ixy**2*m - 16.0*Iy*Kp*Zw - 16.0*Iy*Kp*m - 16.0*Kp*Mq*Zw - 16.0*Kp*Mq*m + 16.0*Kp*m**2*xG**2) + Ix*Mq*S2*rho*u**2*u2/(-16.0*Ix*Iy*Zw - 16.0*Ix*Iy*m - 16.0*Ix*Mq*Zw - 16.0*Ix*Mq*m + 16.0*Ix*m**2*xG**2 + 16.0*Ixy**2*Zw + 16.0*Ixy**2*m - 16.0*Iy*Kp*Zw - 16.0*Iy*Kp*m - 16.0*Kp*Mq*Zw - 16.0*Kp*Mq*m + 16.0*Kp*m**2*xG**2) - 2.0*Ix*Mq*S2*rho*u**2*x5/(-16.0*Ix*Iy*Zw - 16.0*Ix*Iy*m - 16.0*Ix*Mq*Zw - 16.0*Ix*Mq*m + 16.0*Ix*m**2*xG**2 + 16.0*Ixy**2*Zw + 16.0*Ixy**2*m - 16.0*Iy*Kp*Zw - 16.0*Iy*Kp*m - 16.0*Kp*Mq*Zw - 16.0*Kp*Mq*m + 16.0*Kp*m**2*xG**2) + Ix*Mq*S2*rho*u1*x2**2/(-16.0*Ix*Iy*Zw - 16.0*Ix*Iy*m - 16.0*Ix*Mq*Zw - 16.0*Ix*Mq*m + 16.0*Ix*m**2*xG**2 + 16.0*Ixy**2*Zw + 16.0*Ixy**2*m - 16.0*Iy*Kp*Zw - 16.0*Iy*Kp*m - 16.0*Kp*Mq*Zw - 16.0*Kp*Mq*m + 16.0*Kp*m**2*xG**2) + Ix*Mq*S2*rho*u2*x2**2/(-16.0*Ix*Iy*Zw - 16.0*Ix*Iy*m - 16.0*Ix*Mq*Zw - 16.0*Ix*Mq*m + 16.0*Ix*m**2*xG**2 + 16.0*Ixy**2*Zw + 16.0*Ixy**2*m - 16.0*Iy*Kp*Zw - 16.0*Iy*Kp*m - 16.0*Kp*Mq*Zw - 16.0*Kp*Mq*m + 16.0*Kp*m**2*xG**2) - 2.0*Ix*Mq*S2*rho*x2**2*x5/(-16.0*Ix*Iy*Zw - 16.0*Ix*Iy*m - 16.0*Ix*Mq*Zw - 16.0*Ix*Mq*m + 16.0*Ix*m**2*xG**2 + 16.0*Ixy**2*Zw + 16.0*Ixy**2*m - 16.0*Iy*Kp*Zw - 16.0*Iy*Kp*m - 16.0*Kp*Mq*Zw - 16.0*Kp*Mq*m + 16.0*Kp*m**2*xG**2) - 2.0*Ix*Mq*S3*rho*u**2*x5/(-16.0*Ix*Iy*Zw - 16.0*Ix*Iy*m - 16.0*Ix*Mq*Zw - 16.0*Ix*Mq*m + 16.0*Ix*m**2*xG**2 + 16.0*Ixy**2*Zw + 16.0*Ixy**2*m - 16.0*Iy*Kp*Zw - 16.0*Iy*Kp*m - 16.0*Kp*Mq*Zw - 16.0*Kp*Mq*m + 16.0*Kp*m**2*xG**2) - 2.0*Ix*Mq*S3*rho*x2**2*x5/(-16.0*Ix*Iy*Zw - 16.0*Ix*Iy*m - 16.0*Ix*Mq*Zw - 16.0*Ix*Mq*m + 16.0*Ix*m**2*xG**2 + 16.0*Ixy**2*Zw + 16.0*Ixy**2*m - 16.0*Iy*Kp*Zw - 16.0*Iy*Kp*m - 16.0*Kp*Mq*Zw - 16.0*Kp*Mq*m + 16.0*Kp*m**2*xG**2) + 2.0*Ix*Mq*S4*rho*u**2*u3/(-16.0*Ix*Iy*Zw - 16.0*Ix*Iy*m - 16.0*Ix*Mq*Zw - 16.0*Ix*Mq*m + 16.0*Ix*m**2*xG**2 + 16.0*Ixy**2*Zw + 16.0*Ixy**2*m - 16.0*Iy*Kp*Zw - 16.0*Iy*Kp*m - 16.0*Kp*Mq*Zw - 16.0*Kp*Mq*m + 16.0*Kp*m**2*xG**2) - 2.0*Ix*Mq*S4*rho*u**2*x5/(-16.0*Ix*Iy*Zw - 16.0*Ix*Iy*m - 16.0*Ix*Mq*Zw - 16.0*Ix*Mq*m + 16.0*Ix*m**2*xG**2 + 16.0*Ixy**2*Zw + 16.0*Ixy**2*m - 16.0*Iy*Kp*Zw - 16.0*Iy*Kp*m - 16.0*Kp*Mq*Zw - 16.0*Kp*Mq*m + 16.0*Kp*m**2*xG**2) + 2.0*Ix*Mq*S4*rho*u3*x2**2/(-16.0*Ix*Iy*Zw - 16.0*Ix*Iy*m - 16.0*Ix*Mq*Zw - 16.0*Ix*Mq*m + 16.0*Ix*m**2*xG**2 + 16.0*Ixy**2*Zw + 16.0*Ixy**2*m - 16.0*Iy*Kp*Zw - 16.0*Iy*Kp*m - 16.0*Kp*Mq*Zw - 16.0*Kp*Mq*m + 16.0*Kp*m**2*xG**2) - 2.0*Ix*Mq*S4*rho*x2**2*x5/(-16.0*Ix*Iy*Zw - 16.0*Ix*Iy*m - 16.0*Ix*Mq*Zw - 16.0*Ix*Mq*m + 16.0*Ix*m**2*xG**2 + 16.0*Ixy**2*Zw + 16.0*Ixy**2*m - 16.0*Iy*Kp*Zw - 16.0*Iy*Kp*m - 16.0*Kp*Mq*Zw - 16.0*Kp*Mq*m + 16.0*Kp*m**2*xG**2) - 16.0*Ix*Mq*Vol*g*rho*sin(x5)/(-16.0*Ix*Iy*Zw - 16.0*Ix*Iy*m - 16.0*Ix*Mq*Zw - 16.0*Ix*Mq*m + 16.0*Ix*m**2*xG**2 + 16.0*Ixy**2*Zw + 16.0*Ixy**2*m - 16.0*Iy*Kp*Zw - 16.0*Iy*Kp*m - 16.0*Kp*Mq*Zw - 16.0*Kp*Mq*m + 16.0*Kp*m**2*xG**2) + 16.0*Ix*Mq*dh1*x2/(-16.0*Ix*Iy*Zw - 16.0*Ix*Iy*m - 16.0*Ix*Mq*Zw - 16.0*Ix*Mq*m + 16.0*Ix*m**2*xG**2 + 16.0*Ixy**2*Zw + 16.0*Ixy**2*m - 16.0*Iy*Kp*Zw - 16.0*Iy*Kp*m - 16.0*Kp*Mq*Zw - 16.0*Kp*Mq*m + 16.0*Kp*m**2*xG**2) + 16.0*Ix*Mq*dh2*x2**2/(-16.0*Ix*Iy*Zw - 16.0*Ix*Iy*m - 16.0*Ix*Mq*Zw - 16.0*Ix*Mq*m + 16.0*Ix*m**2*xG**2 + 16.0*Ixy**2*Zw + 16.0*Ixy**2*m - 16.0*Iy*Kp*Zw - 16.0*Iy*Kp*m - 16.0*Kp*Mq*Zw - 16.0*Kp*Mq*m + 16.0*Kp*m**2*xG**2) + 16.0*Ix*Mq*g*m*sin(x5)/(-16.0*Ix*Iy*Zw - 16.0*Ix*Iy*m - 16.0*Ix*Mq*Zw - 16.0*Ix*Mq*m + 16.0*Ix*m**2*xG**2 + 16.0*Ixy**2*Zw + 16.0*Ixy**2*m - 16.0*Iy*Kp*Zw - 16.0*Iy*Kp*m - 16.0*Kp*Mq*Zw - 16.0*Kp*Mq*m + 16.0*Kp*m**2*xG**2) + 16.0*Ix*Mq*m*u*x6/(-16.0*Ix*Iy*Zw - 16.0*Ix*Iy*m - 16.0*Ix*Mq*Zw - 16.0*Ix*Mq*m + 16.0*Ix*m**2*xG**2 + 16.0*Ixy**2*Zw + 16.0*Ixy**2*m - 16.0*Iy*Kp*Zw - 16.0*Iy*Kp*m - 16.0*Kp*Mq*Zw - 16.0*Kp*Mq*m + 16.0*Kp*m**2*xG**2) - 2.0*Ix*S1*d1*m*rho*u**2*x5*xG/(-16.0*Ix*Iy*Zw - 16.0*Ix*Iy*m - 16.0*Ix*Mq*Zw - 16.0*Ix*Mq*m + 16.0*Ix*m**2*xG**2 + 16.0*Ixy**2*Zw + 16.0*Ixy**2*m - 16.0*Iy*Kp*Zw - 16.0*Iy*Kp*m - 16.0*Kp*Mq*Zw - 16.0*Kp*Mq*m + 16.0*Kp*m**2*xG**2) - 2.0*Ix*S1*d1*m*rho*x2**2*x5*xG/(-16.0*Ix*Iy*Zw - 16.0*Ix*Iy*m - 16.0*Ix*Mq*Zw - 16.0*Ix*Mq*m + 16.0*Ix*m**2*xG**2 + 16.0*Ixy**2*Zw + 16.0*Ixy**2*m - 16.0*Iy*Kp*Zw - 16.0*Iy*Kp*m - 16.0*Kp*Mq*Zw - 16.0*Kp*Mq*m + 16.0*Kp*m**2*xG**2) + Ix*S2*d2*m*rho*u**2*u1*xG/(-16.0*Ix*Iy*Zw - 16.0*Ix*Iy*m - 16.0*Ix*Mq*Zw - 16.0*Ix*Mq*m + 16.0*Ix*m**2*xG**2 + 16.0*Ixy**2*Zw + 16.0*Ixy**2*m - 16.0*Iy*Kp*Zw - 16.0*Iy*Kp*m - 16.0*Kp*Mq*Zw - 16.0*Kp*Mq*m + 16.0*Kp*m**2*xG**2) + Ix*S2*d2*m*rho*u**2*u2*xG/(-16.0*Ix*Iy*Zw - 16.0*Ix*Iy*m - 16.0*Ix*Mq*Zw - 16.0*Ix*Mq*m + 16.0*Ix*m**2*xG**2 + 16.0*Ixy**2*Zw + 16.0*Ixy**2*m - 16.0*Iy*Kp*Zw - 16.0*Iy*Kp*m - 16.0*Kp*Mq*Zw - 16.0*Kp*Mq*m + 16.0*Kp*m**2*xG**2) - 2.0*Ix*S2*d2*m*rho*u**2*x5*xG/(-16.0*Ix*Iy*Zw - 16.0*Ix*Iy*m - 16.0*Ix*Mq*Zw - 16.0*Ix*Mq*m + 16.0*Ix*m**2*xG**2 + 16.0*Ixy**2*Zw + 16.0*Ixy**2*m - 16.0*Iy*Kp*Zw - 16.0*Iy*Kp*m - 16.0*Kp*Mq*Zw - 16.0*Kp*Mq*m + 16.0*Kp*m**2*xG**2) + Ix*S2*d2*m*rho*u1*x2**2*xG/(-16.0*Ix*Iy*Zw - 16.0*Ix*Iy*m - 16.0*Ix*Mq*Zw - 16.0*Ix*Mq*m + 16.0*Ix*m**2*xG**2 + 16.0*Ixy**2*Zw + 16.0*Ixy**2*m - 16.0*Iy*Kp*Zw - 16.0*Iy*Kp*m - 16.0*Kp*Mq*Zw - 16.0*Kp*Mq*m + 16.0*Kp*m**2*xG**2) + Ix*S2*d2*m*rho*u2*x2**2*xG/(-16.0*Ix*Iy*Zw - 16.0*Ix*Iy*m - 16.0*Ix*Mq*Zw - 16.0*Ix*Mq*m + 16.0*Ix*m**2*xG**2 + 16.0*Ixy**2*Zw + 16.0*Ixy**2*m - 16.0*Iy*Kp*Zw - 16.0*Iy*Kp*m - 16.0*Kp*Mq*Zw - 16.0*Kp*Mq*m + 16.0*Kp*m**2*xG**2) - 2.0*Ix*S2*d2*m*rho*x2**2*x5*xG/(-16.0*Ix*Iy*Zw - 16.0*Ix*Iy*m - 16.0*Ix*Mq*Zw - 16.0*Ix*Mq*m + 16.0*Ix*m**2*xG**2 + 16.0*Ixy**2*Zw + 16.0*Ixy**2*m - 16.0*Iy*Kp*Zw - 16.0*Iy*Kp*m - 16.0*Kp*Mq*Zw - 16.0*Kp*Mq*m + 16.0*Kp*m**2*xG**2) - 2.0*Ix*S3*d3*m*rho*u**2*x5*xG/(-16.0*Ix*Iy*Zw - 16.0*Ix*Iy*m - 16.0*Ix*Mq*Zw - 16.0*Ix*Mq*m + 16.0*Ix*m**2*xG**2 + 16.0*Ixy**2*Zw + 16.0*Ixy**2*m - 16.0*Iy*Kp*Zw - 16.0*Iy*Kp*m - 16.0*Kp*Mq*Zw - 16.0*Kp*Mq*m + 16.0*Kp*m**2*xG**2) - 2.0*Ix*S3*d3*m*rho*x2**2*x5*xG/(-16.0*Ix*Iy*Zw - 16.0*Ix*Iy*m - 16.0*Ix*Mq*Zw - 16.0*Ix*Mq*m + 16.0*Ix*m**2*xG**2 + 16.0*Ixy**2*Zw + 16.0*Ixy**2*m - 16.0*Iy*Kp*Zw - 16.0*Iy*Kp*m - 16.0*Kp*Mq*Zw - 16.0*Kp*Mq*m + 16.0*Kp*m**2*xG**2) + 2.0*Ix*S4*d4*m*rho*u**2*u3*xG/(-16.0*Ix*Iy*Zw - 16.0*Ix*Iy*m - 16.0*Ix*Mq*Zw - 16.0*Ix*Mq*m + 16.0*Ix*m**2*xG**2 + 16.0*Ixy**2*Zw + 16.0*Ixy**2*m - 16.0*Iy*Kp*Zw - 16.0*Iy*Kp*m - 16.0*Kp*Mq*Zw - 16.0*Kp*Mq*m + 16.0*Kp*m**2*xG**2) - 2.0*Ix*S4*d4*m*rho*u**2*x5*xG/(-16.0*Ix*Iy*Zw - 16.0*Ix*Iy*m - 16.0*Ix*Mq*Zw - 16.0*Ix*Mq*m + 16.0*Ix*m**2*xG**2 + 16.0*Ixy**2*Zw + 16.0*Ixy**2*m - 16.0*Iy*Kp*Zw - 16.0*Iy*Kp*m - 16.0*Kp*Mq*Zw - 16.0*Kp*Mq*m + 16.0*Kp*m**2*xG**2) + 2.0*Ix*S4*d4*m*rho*u3*x2**2*xG/(-16.0*Ix*Iy*Zw - 16.0*Ix*Iy*m - 16.0*Ix*Mq*Zw - 16.0*Ix*Mq*m + 16.0*Ix*m**2*xG**2 + 16.0*Ixy**2*Zw + 16.0*Ixy**2*m - 16.0*Iy*Kp*Zw - 16.0*Iy*Kp*m - 16.0*Kp*Mq*Zw - 16.0*Kp*Mq*m + 16.0*Kp*m**2*xG**2) - 2.0*Ix*S4*d4*m*rho*x2**2*x5*xG/(-16.0*Ix*Iy*Zw - 16.0*Ix*Iy*m - 16.0*Ix*Mq*Zw - 16.0*Ix*Mq*m + 16.0*Ix*m**2*xG**2 + 16.0*Ixy**2*Zw + 16.0*Ixy**2*m - 16.0*Iy*Kp*Zw - 16.0*Iy*Kp*m - 16.0*Kp*Mq*Zw - 16.0*Kp*Mq*m + 16.0*Kp*m**2*xG**2) - 16.0*Ix*Vol*db*g*m*rho*xG*sin(x5)/(-16.0*Ix*Iy*Zw - 16.0*Ix*Iy*m - 16.0*Ix*Mq*Zw - 16.0*Ix*Mq*m + 16.0*Ix*m**2*xG**2 + 16.0*Ixy**2*Zw + 16.0*Ixy**2*m - 16.0*Iy*Kp*Zw - 16.0*Iy*Kp*m - 16.0*Kp*Mq*Zw - 16.0*Kp*Mq*m + 16.0*Kp*m**2*xG**2) - 16.0*Ix*Zw*m*u*x2*xG/(-16.0*Ix*Iy*Zw - 16.0*Ix*Iy*m - 16.0*Ix*Mq*Zw - 16.0*Ix*Mq*m + 16.0*Ix*m**2*xG**2 + 16.0*Ixy**2*Zw + 16.0*Ixy**2*m - 16.0*Iy*Kp*Zw - 16.0*Iy*Kp*m - 16.0*Kp*Mq*Zw - 16.0*Kp*Mq*m + 16.0*Kp*m**2*xG**2) + 16.0*Ix*dg*g*m**2*xG*sin(x5)/(-16.0*Ix*Iy*Zw - 16.0*Ix*Iy*m - 16.0*Ix*Mq*Zw - 16.0*Ix*Mq*m + 16.0*Ix*m**2*xG**2 + 16.0*Ixy**2*Zw + 16.0*Ixy**2*m - 16.0*Iy*Kp*Zw - 16.0*Iy*Kp*m - 16.0*Kp*Mq*Zw - 16.0*Kp*Mq*m + 16.0*Kp*m**2*xG**2) + 16.0*Ix*dp1*m*x6*xG/(-16.0*Ix*Iy*Zw - 16.0*Ix*Iy*m - 16.0*Ix*Mq*Zw - 16.0*Ix*Mq*m + 16.0*Ix*m**2*xG**2 + 16.0*Ixy**2*Zw + 16.0*Ixy**2*m - 16.0*Iy*Kp*Zw - 16.0*Iy*Kp*m - 16.0*Kp*Mq*Zw - 16.0*Kp*Mq*m + 16.0*Kp*m**2*xG**2) + 16.0*Ix*dp2*m*x6**2*xG/(-16.0*Ix*Iy*Zw - 16.0*Ix*Iy*m - 16.0*Ix*Mq*Zw - 16.0*Ix*Mq*m + 16.0*Ix*m**2*xG**2 + 16.0*Ixy**2*Zw + 16.0*Ixy**2*m - 16.0*Iy*Kp*Zw - 16.0*Iy*Kp*m - 16.0*Kp*Mq*Zw - 16.0*Kp*Mq*m + 16.0*Kp*m**2*xG**2) - 16.0*Ix*m**2*u*x6*xG**2/(-16.0*Ix*Iy*Zw - 16.0*Ix*Iy*m - 16.0*Ix*Mq*Zw - 16.0*Ix*Mq*m + 16.0*Ix*m**2*xG**2 + 16.0*Ixy**2*Zw + 16.0*Ixy**2*m - 16.0*Iy*Kp*Zw - 16.0*Iy*Kp*m - 16.0*Kp*Mq*Zw - 16.0*Kp*Mq*m + 16.0*Kp*m**2*xG**2) + 2.0*Ixy**2*S1*rho*u**2*x5/(-16.0*Ix*Iy*Zw - 16.0*Ix*Iy*m - 16.0*Ix*Mq*Zw - 16.0*Ix*Mq*m + 16.0*Ix*m**2*xG**2 + 16.0*Ixy**2*Zw + 16.0*Ixy**2*m - 16.0*Iy*Kp*Zw - 16.0*Iy*Kp*m - 16.0*Kp*Mq*Zw - 16.0*Kp*Mq*m + 16.0*Kp*m**2*xG**2) + 2.0*Ixy**2*S1*rho*x2**2*x5/(-16.0*Ix*Iy*Zw - 16.0*Ix*Iy*m - 16.0*Ix*Mq*Zw - 16.0*Ix*Mq*m + 16.0*Ix*m**2*xG**2 + 16.0*Ixy**2*Zw + 16.0*Ixy**2*m - 16.0*Iy*Kp*Zw - 16.0*Iy*Kp*m - 16.0*Kp*Mq*Zw - 16.0*Kp*Mq*m + 16.0*Kp*m**2*xG**2) - Ixy**2*S2*rho*u**2*u1/(-16.0*Ix*Iy*Zw - 16.0*Ix*Iy*m - 16.0*Ix*Mq*Zw - 16.0*Ix*Mq*m + 16.0*Ix*m**2*xG**2 + 16.0*Ixy**2*Zw + 16.0*Ixy**2*m - 16.0*Iy*Kp*Zw - 16.0*Iy*Kp*m - 16.0*Kp*Mq*Zw - 16.0*Kp*Mq*m + 16.0*Kp*m**2*xG**2) - Ixy**2*S2*rho*u**2*u2/(-16.0*Ix*Iy*Zw - 16.0*Ix*Iy*m - 16.0*Ix*Mq*Zw - 16.0*Ix*Mq*m + 16.0*Ix*m**2*xG**2 + 16.0*Ixy**2*Zw + 16.0*Ixy**2*m - 16.0*Iy*Kp*Zw - 16.0*Iy*Kp*m - 16.0*Kp*Mq*Zw - 16.0*Kp*Mq*m + 16.0*Kp*m**2*xG**2) + 2.0*Ixy**2*S2*rho*u**2*x5/(-16.0*Ix*Iy*Zw - 16.0*Ix*Iy*m - 16.0*Ix*Mq*Zw - 16.0*Ix*Mq*m + 16.0*Ix*m**2*xG**2 + 16.0*Ixy**2*Zw + 16.0*Ixy**2*m - 16.0*Iy*Kp*Zw - 16.0*Iy*Kp*m - 16.0*Kp*Mq*Zw - 16.0*Kp*Mq*m + 16.0*Kp*m**2*xG**2) - Ixy**2*S2*rho*u1*x2**2/(-16.0*Ix*Iy*Zw - 16.0*Ix*Iy*m - 16.0*Ix*Mq*Zw - 16.0*Ix*Mq*m + 16.0*Ix*m**2*xG**2 + 16.0*Ixy**2*Zw + 16.0*Ixy**2*m - 16.0*Iy*Kp*Zw - 16.0*Iy*Kp*m - 16.0*Kp*Mq*Zw - 16.0*Kp*Mq*m + 16.0*Kp*m**2*xG**2) - Ixy**2*S2*rho*u2*x2**2/(-16.0*Ix*Iy*Zw - 16.0*Ix*Iy*m - 16.0*Ix*Mq*Zw - 16.0*Ix*Mq*m + 16.0*Ix*m**2*xG**2 + 16.0*Ixy**2*Zw + 16.0*Ixy**2*m - 16.0*Iy*Kp*Zw - 16.0*Iy*Kp*m - 16.0*Kp*Mq*Zw - 16.0*Kp*Mq*m + 16.0*Kp*m**2*xG**2) + 2.0*Ixy**2*S2*rho*x2**2*x5/(-16.0*Ix*Iy*Zw - 16.0*Ix*Iy*m - 16.0*Ix*Mq*Zw - 16.0*Ix*Mq*m + 16.0*Ix*m**2*xG**2 + 16.0*Ixy**2*Zw + 16.0*Ixy**2*m - 16.0*Iy*Kp*Zw - 16.0*Iy*Kp*m - 16.0*Kp*Mq*Zw - 16.0*Kp*Mq*m + 16.0*Kp*m**2*xG**2) + 2.0*Ixy**2*S3*rho*u**2*x5/(-16.0*Ix*Iy*Zw - 16.0*Ix*Iy*m - 16.0*Ix*Mq*Zw - 16.0*Ix*Mq*m + 16.0*Ix*m**2*xG**2 + 16.0*Ixy**2*Zw + 16.0*Ixy**2*m - 16.0*Iy*Kp*Zw - 16.0*Iy*Kp*m - 16.0*Kp*Mq*Zw - 16.0*Kp*Mq*m + 16.0*Kp*m**2*xG**2) + 2.0*Ixy**2*S3*rho*x2**2*x5/(-16.0*Ix*Iy*Zw - 16.0*Ix*Iy*m - 16.0*Ix*Mq*Zw - 16.0*Ix*Mq*m + 16.0*Ix*m**2*xG**2 + 16.0*Ixy**2*Zw + 16.0*Ixy**2*m - 16.0*Iy*Kp*Zw - 16.0*Iy*Kp*m - 16.0*Kp*Mq*Zw - 16.0*Kp*Mq*m + 16.0*Kp*m**2*xG**2) - 2.0*Ixy**2*S4*rho*u**2*u3/(-16.0*Ix*Iy*Zw - 16.0*Ix*Iy*m - 16.0*Ix*Mq*Zw - 16.0*Ix*Mq*m + 16.0*Ix*m**2*xG**2 + 16.0*Ixy**2*Zw + 16.0*Ixy**2*m - 16.0*Iy*Kp*Zw - 16.0*Iy*Kp*m - 16.0*Kp*Mq*Zw - 16.0*Kp*Mq*m + 16.0*Kp*m**2*xG**2) + 2.0*Ixy**2*S4*rho*u**2*x5/(-16.0*Ix*Iy*Zw - 16.0*Ix*Iy*m - 16.0*Ix*Mq*Zw - 16.0*Ix*Mq*m + 16.0*Ix*m**2*xG**2 + 16.0*Ixy**2*Zw + 16.0*Ixy**2*m - 16.0*Iy*Kp*Zw - 16.0*Iy*Kp*m - 16.0*Kp*Mq*Zw - 16.0*Kp*Mq*m + 16.0*Kp*m**2*xG**2) - 2.0*Ixy**2*S4*rho*u3*x2**2/(-16.0*Ix*Iy*Zw - 16.0*Ix*Iy*m - 16.0*Ix*Mq*Zw - 16.0*Ix*Mq*m + 16.0*Ix*m**2*xG**2 + 16.0*Ixy**2*Zw + 16.0*Ixy**2*m - 16.0*Iy*Kp*Zw - 16.0*Iy*Kp*m - 16.0*Kp*Mq*Zw - 16.0*Kp*Mq*m + 16.0*Kp*m**2*xG**2) + 2.0*Ixy**2*S4*rho*x2**2*x5/(-16.0*Ix*Iy*Zw - 16.0*Ix*Iy*m - 16.0*Ix*Mq*Zw - 16.0*Ix*Mq*m + 16.0*Ix*m**2*xG**2 + 16.0*Ixy**2*Zw + 16.0*Ixy**2*m - 16.0*Iy*Kp*Zw - 16.0*Iy*Kp*m - 16.0*Kp*Mq*Zw - 16.0*Kp*Mq*m + 16.0*Kp*m**2*xG**2) + 16.0*Ixy**2*Vol*g*rho*sin(x5)/(-16.0*Ix*Iy*Zw - 16.0*Ix*Iy*m - 16.0*Ix*Mq*Zw - 16.0*Ix*Mq*m + 16.0*Ix*m**2*xG**2 + 16.0*Ixy**2*Zw + 16.0*Ixy**2*m - 16.0*Iy*Kp*Zw - 16.0*Iy*Kp*m - 16.0*Kp*Mq*Zw - 16.0*Kp*Mq*m + 16.0*Kp*m**2*xG**2) - 16.0*Ixy**2*dh1*x2/(-16.0*Ix*Iy*Zw - 16.0*Ix*Iy*m - 16.0*Ix*Mq*Zw - 16.0*Ix*Mq*m + 16.0*Ix*m**2*xG**2 + 16.0*Ixy**2*Zw + 16.0*Ixy**2*m - 16.0*Iy*Kp*Zw - 16.0*Iy*Kp*m - 16.0*Kp*Mq*Zw - 16.0*Kp*Mq*m + 16.0*Kp*m**2*xG**2) - 16.0*Ixy**2*dh2*x2**2/(-16.0*Ix*Iy*Zw - 16.0*Ix*Iy*m - 16.0*Ix*Mq*Zw - 16.0*Ix*Mq*m + 16.0*Ix*m**2*xG**2 + 16.0*Ixy**2*Zw + 16.0*Ixy**2*m - 16.0*Iy*Kp*Zw - 16.0*Iy*Kp*m - 16.0*Kp*Mq*Zw - 16.0*Kp*Mq*m + 16.0*Kp*m**2*xG**2) - 16.0*Ixy**2*g*m*sin(x5)/(-16.0*Ix*Iy*Zw - 16.0*Ix*Iy*m - 16.0*Ix*Mq*Zw - 16.0*Ix*Mq*m + 16.0*Ix*m**2*xG**2 + 16.0*Ixy**2*Zw + 16.0*Ixy**2*m - 16.0*Iy*Kp*Zw - 16.0*Iy*Kp*m - 16.0*Kp*Mq*Zw - 16.0*Kp*Mq*m + 16.0*Kp*m**2*xG**2) - 16.0*Ixy**2*m*u*x6/(-16.0*Ix*Iy*Zw - 16.0*Ix*Iy*m - 16.0*Ix*Mq*Zw - 16.0*Ix*Mq*m + 16.0*Ix*m**2*xG**2 + 16.0*Ixy**2*Zw + 16.0*Ixy**2*m - 16.0*Iy*Kp*Zw - 16.0*Iy*Kp*m - 16.0*Kp*Mq*Zw - 16.0*Kp*Mq*m + 16.0*Kp*m**2*xG**2) + 16.0*Ixy*Ixz*m*x4*x6*xG/(-16.0*Ix*Iy*Zw - 16.0*Ix*Iy*m - 16.0*Ix*Mq*Zw - 16.0*Ix*Mq*m + 16.0*Ix*m**2*xG**2 + 16.0*Ixy**2*Zw + 16.0*Ixy**2*m - 16.0*Iy*Kp*Zw - 16.0*Iy*Kp*m - 16.0*Kp*Mq*Zw - 16.0*Kp*Mq*m + 16.0*Kp*m**2*xG**2) - 16.0*Ixy*Iyx*m*x6**2*xG/(-16.0*Ix*Iy*Zw - 16.0*Ix*Iy*m - 16.0*Ix*Mq*Zw - 16.0*Ix*Mq*m + 16.0*Ix*m**2*xG**2 + 16.0*Ixy**2*Zw + 16.0*Ixy**2*m - 16.0*Iy*Kp*Zw - 16.0*Iy*Kp*m - 16.0*Kp*Mq*Zw - 16.0*Kp*Mq*m + 16.0*Kp*m**2*xG**2) + Ixy*S2*m*r1*rho*u**2*u1*xG/(-16.0*Ix*Iy*Zw - 16.0*Ix*Iy*m - 16.0*Ix*Mq*Zw - 16.0*Ix*Mq*m + 16.0*Ix*m**2*xG**2 + 16.0*Ixy**2*Zw + 16.0*Ixy**2*m - 16.0*Iy*Kp*Zw - 16.0*Iy*Kp*m - 16.0*Kp*Mq*Zw - 16.0*Kp*Mq*m + 16.0*Kp*m**2*xG**2) - Ixy*S2*m*r1*rho*u**2*u2*xG/(-16.0*Ix*Iy*Zw - 16.0*Ix*Iy*m - 16.0*Ix*Mq*Zw - 16.0*Ix*Mq*m + 16.0*Ix*m**2*xG**2 + 16.0*Ixy**2*Zw + 16.0*Ixy**2*m - 16.0*Iy*Kp*Zw - 16.0*Iy*Kp*m - 16.0*Kp*Mq*Zw - 16.0*Kp*Mq*m + 16.0*Kp*m**2*xG**2) + Ixy*S2*m*r1*rho*u1*x2**2*xG/(-16.0*Ix*Iy*Zw - 16.0*Ix*Iy*m - 16.0*Ix*Mq*Zw - 16.0*Ix*Mq*m + 16.0*Ix*m**2*xG**2 + 16.0*Ixy**2*Zw + 16.0*Ixy**2*m - 16.0*Iy*Kp*Zw - 16.0*Iy*Kp*m - 16.0*Kp*Mq*Zw - 16.0*Kp*Mq*m + 16.0*Kp*m**2*xG**2) - Ixy*S2*m*r1*rho*u2*x2**2*xG/(-16.0*Ix*Iy*Zw - 16.0*Ix*Iy*m - 16.0*Ix*Mq*Zw - 16.0*Ix*Mq*m + 16.0*Ix*m**2*xG**2 + 16.0*Ixy**2*Zw + 16.0*Ixy**2*m - 16.0*Iy*Kp*Zw - 16.0*Iy*Kp*m - 16.0*Kp*Mq*Zw - 16.0*Kp*Mq*m + 16.0*Kp*m**2*xG**2) + 16.0*Ixy*dr1*m*x4*xG/(-16.0*Ix*Iy*Zw - 16.0*Ix*Iy*m - 16.0*Ix*Mq*Zw - 16.0*Ix*Mq*m + 16.0*Ix*m**2*xG**2 + 16.0*Ixy**2*Zw + 16.0*Ixy**2*m - 16.0*Iy*Kp*Zw - 16.0*Iy*Kp*m - 16.0*Kp*Mq*Zw - 16.0*Kp*Mq*m + 16.0*Kp*m**2*xG**2) + 16.0*Ixy*dr2*m*x4**2*xG/(-16.0*Ix*Iy*Zw - 16.0*Ix*Iy*m - 16.0*Ix*Mq*Zw - 16.0*Ix*Mq*m + 16.0*Ix*m**2*xG**2 + 16.0*Ixy**2*Zw + 16.0*Ixy**2*m - 16.0*Iy*Kp*Zw - 16.0*Iy*Kp*m - 16.0*Kp*Mq*Zw - 16.0*Kp*Mq*m + 16.0*Kp*m**2*xG**2) - 16.0*Ixz*Kp*m*x4**2*xG/(-16.0*Ix*Iy*Zw - 16.0*Ix*Iy*m - 16.0*Ix*Mq*Zw - 16.0*Ix*Mq*m + 16.0*Ix*m**2*xG**2 + 16.0*Ixy**2*Zw + 16.0*Ixy**2*m - 16.0*Iy*Kp*Zw - 16.0*Iy*Kp*m - 16.0*Kp*Mq*Zw - 16.0*Kp*Mq*m + 16.0*Kp*m**2*xG**2) - 2.0*Iy*Kp*S1*rho*u**2*x5/(-16.0*Ix*Iy*Zw - 16.0*Ix*Iy*m - 16.0*Ix*Mq*Zw - 16.0*Ix*Mq*m + 16.0*Ix*m**2*xG**2 + 16.0*Ixy**2*Zw + 16.0*Ixy**2*m - 16.0*Iy*Kp*Zw - 16.0*Iy*Kp*m - 16.0*Kp*Mq*Zw - 16.0*Kp*Mq*m + 16.0*Kp*m**2*xG**2) - 2.0*Iy*Kp*S1*rho*x2**2*x5/(-16.0*Ix*Iy*Zw - 16.0*Ix*Iy*m - 16.0*Ix*Mq*Zw - 16.0*Ix*Mq*m + 16.0*Ix*m**2*xG**2 + 16.0*Ixy**2*Zw + 16.0*Ixy**2*m - 16.0*Iy*Kp*Zw - 16.0*Iy*Kp*m - 16.0*Kp*Mq*Zw - 16.0*Kp*Mq*m + 16.0*Kp*m**2*xG**2) + Iy*Kp*S2*rho*u**2*u1/(-16.0*Ix*Iy*Zw - 16.0*Ix*Iy*m - 16.0*Ix*Mq*Zw - 16.0*Ix*Mq*m + 16.0*Ix*m**2*xG**2 + 16.0*Ixy**2*Zw + 16.0*Ixy**2*m - 16.0*Iy*Kp*Zw - 16.0*Iy*Kp*m - 16.0*Kp*Mq*Zw - 16.0*Kp*Mq*m + 16.0*Kp*m**2*xG**2) + Iy*Kp*S2*rho*u**2*u2/(-16.0*Ix*Iy*Zw - 16.0*Ix*Iy*m - 16.0*Ix*Mq*Zw - 16.0*Ix*Mq*m + 16.0*Ix*m**2*xG**2 + 16.0*Ixy**2*Zw + 16.0*Ixy**2*m - 16.0*Iy*Kp*Zw - 16.0*Iy*Kp*m - 16.0*Kp*Mq*Zw - 16.0*Kp*Mq*m + 16.0*Kp*m**2*xG**2) - 2.0*Iy*Kp*S2*rho*u**2*x5/(-16.0*Ix*Iy*Zw - 16.0*Ix*Iy*m - 16.0*Ix*Mq*Zw - 16.0*Ix*Mq*m + 16.0*Ix*m**2*xG**2 + 16.0*Ixy**2*Zw + 16.0*Ixy**2*m - 16.0*Iy*Kp*Zw - 16.0*Iy*Kp*m - 16.0*Kp*Mq*Zw - 16.0*Kp*Mq*m + 16.0*Kp*m**2*xG**2) + Iy*Kp*S2*rho*u1*x2**2/(-16.0*Ix*Iy*Zw - 16.0*Ix*Iy*m - 16.0*Ix*Mq*Zw - 16.0*Ix*Mq*m + 16.0*Ix*m**2*xG**2 + 16.0*Ixy**2*Zw + 16.0*Ixy**2*m - 16.0*Iy*Kp*Zw - 16.0*Iy*Kp*m - 16.0*Kp*Mq*Zw - 16.0*Kp*Mq*m + 16.0*Kp*m**2*xG**2) + Iy*Kp*S2*rho*u2*x2**2/(-16.0*Ix*Iy*Zw - 16.0*Ix*Iy*m - 16.0*Ix*Mq*Zw - 16.0*Ix*Mq*m + 16.0*Ix*m**2*xG**2 + 16.0*Ixy**2*Zw + 16.0*Ixy**2*m - 16.0*Iy*Kp*Zw - 16.0*Iy*Kp*m - 16.0*Kp*Mq*Zw - 16.0*Kp*Mq*m + 16.0*Kp*m**2*xG**2) - 2.0*Iy*Kp*S2*rho*x2**2*x5/(-16.0*Ix*Iy*Zw - 16.0*Ix*Iy*m - 16.0*Ix*Mq*Zw - 16.0*Ix*Mq*m + 16.0*Ix*m**2*xG**2 + 16.0*Ixy**2*Zw + 16.0*Ixy**2*m - 16.0*Iy*Kp*Zw - 16.0*Iy*Kp*m - 16.0*Kp*Mq*Zw - 16.0*Kp*Mq*m + 16.0*Kp*m**2*xG**2) - 2.0*Iy*Kp*S3*rho*u**2*x5/(-16.0*Ix*Iy*Zw - 16.0*Ix*Iy*m - 16.0*Ix*Mq*Zw - 16.0*Ix*Mq*m + 16.0*Ix*m**2*xG**2 + 16.0*Ixy**2*Zw + 16.0*Ixy**2*m - 16.0*Iy*Kp*Zw - 16.0*Iy*Kp*m - 16.0*Kp*Mq*Zw - 16.0*Kp*Mq*m + 16.0*Kp*m**2*xG**2) - 2.0*Iy*Kp*S3*rho*x2**2*x5/(-16.0*Ix*Iy*Zw - 16.0*Ix*Iy*m - 16.0*Ix*Mq*Zw - 16.0*Ix*Mq*m + 16.0*Ix*m**2*xG**2 + 16.0*Ixy**2*Zw + 16.0*Ixy**2*m - 16.0*Iy*Kp*Zw - 16.0*Iy*Kp*m - 16.0*Kp*Mq*Zw - 16.0*Kp*Mq*m + 16.0*Kp*m**2*xG**2) + 2.0*Iy*Kp*S4*rho*u**2*u3/(-16.0*Ix*Iy*Zw - 16.0*Ix*Iy*m - 16.0*Ix*Mq*Zw - 16.0*Ix*Mq*m + 16.0*Ix*m**2*xG**2 + 16.0*Ixy**2*Zw + 16.0*Ixy**2*m - 16.0*Iy*Kp*Zw - 16.0*Iy*Kp*m - 16.0*Kp*Mq*Zw - 16.0*Kp*Mq*m + 16.0*Kp*m**2*xG**2) - 2.0*Iy*Kp*S4*rho*u**2*x5/(-16.0*Ix*Iy*Zw - 16.0*Ix*Iy*m - 16.0*Ix*Mq*Zw - 16.0*Ix*Mq*m + 16.0*Ix*m**2*xG**2 + 16.0*Ixy**2*Zw + 16.0*Ixy**2*m - 16.0*Iy*Kp*Zw - 16.0*Iy*Kp*m - 16.0*Kp*Mq*Zw - 16.0*Kp*Mq*m + 16.0*Kp*m**2*xG**2) + 2.0*Iy*Kp*S4*rho*u3*x2**2/(-16.0*Ix*Iy*Zw - 16.0*Ix*Iy*m - 16.0*Ix*Mq*Zw - 16.0*Ix*Mq*m + 16.0*Ix*m**2*xG**2 + 16.0*Ixy**2*Zw + 16.0*Ixy**2*m - 16.0*Iy*Kp*Zw - 16.0*Iy*Kp*m - 16.0*Kp*Mq*Zw - 16.0*Kp*Mq*m + 16.0*Kp*m**2*xG**2) - 2.0*Iy*Kp*S4*rho*x2**2*x5/(-16.0*Ix*Iy*Zw - 16.0*Ix*Iy*m - 16.0*Ix*Mq*Zw - 16.0*Ix*Mq*m + 16.0*Ix*m**2*xG**2 + 16.0*Ixy**2*Zw + 16.0*Ixy**2*m - 16.0*Iy*Kp*Zw - 16.0*Iy*Kp*m - 16.0*Kp*Mq*Zw - 16.0*Kp*Mq*m + 16.0*Kp*m**2*xG**2) - 16.0*Iy*Kp*Vol*g*rho*sin(x5)/(-16.0*Ix*Iy*Zw - 16.0*Ix*Iy*m - 16.0*Ix*Mq*Zw - 16.0*Ix*Mq*m + 16.0*Ix*m**2*xG**2 + 16.0*Ixy**2*Zw + 16.0*Ixy**2*m - 16.0*Iy*Kp*Zw - 16.0*Iy*Kp*m - 16.0*Kp*Mq*Zw - 16.0*Kp*Mq*m + 16.0*Kp*m**2*xG**2) + 16.0*Iy*Kp*dh1*x2/(-16.0*Ix*Iy*Zw - 16.0*Ix*Iy*m - 16.0*Ix*Mq*Zw - 16.0*Ix*Mq*m + 16.0*Ix*m**2*xG**2 + 16.0*Ixy**2*Zw + 16.0*Ixy**2*m - 16.0*Iy*Kp*Zw - 16.0*Iy*Kp*m - 16.0*Kp*Mq*Zw - 16.0*Kp*Mq*m + 16.0*Kp*m**2*xG**2) + 16.0*Iy*Kp*dh2*x2**2/(-16.0*Ix*Iy*Zw - 16.0*Ix*Iy*m - 16.0*Ix*Mq*Zw - 16.0*Ix*Mq*m + 16.0*Ix*m**2*xG**2 + 16.0*Ixy**2*Zw + 16.0*Ixy**2*m - 16.0*Iy*Kp*Zw - 16.0*Iy*Kp*m - 16.0*Kp*Mq*Zw - 16.0*Kp*Mq*m + 16.0*Kp*m**2*xG**2) + 16.0*Iy*Kp*g*m*sin(x5)/(-16.0*Ix*Iy*Zw - 16.0*Ix*Iy*m - 16.0*Ix*Mq*Zw - 16.0*Ix*Mq*m + 16.0*Ix*m**2*xG**2 + 16.0*Ixy**2*Zw + 16.0*Ixy**2*m - 16.0*Iy*Kp*Zw - 16.0*Iy*Kp*m - 16.0*Kp*Mq*Zw - 16.0*Kp*Mq*m + 16.0*Kp*m**2*xG**2) + 16.0*Iy*Kp*m*u*x6/(-16.0*Ix*Iy*Zw - 16.0*Ix*Iy*m - 16.0*Ix*Mq*Zw - 16.0*Ix*Mq*m + 16.0*Ix*m**2*xG**2 + 16.0*Ixy**2*Zw + 16.0*Ixy**2*m - 16.0*Iy*Kp*Zw - 16.0*Iy*Kp*m - 16.0*Kp*Mq*Zw - 16.0*Kp*Mq*m + 16.0*Kp*m**2*xG**2) - 16.0*Iyz*Kp*m*x4*x6*xG/(-16.0*Ix*Iy*Zw - 16.0*Ix*Iy*m - 16.0*Ix*Mq*Zw - 16.0*Ix*Mq*m + 16.0*Ix*m**2*xG**2 + 16.0*Ixy**2*Zw + 16.0*Ixy**2*m - 16.0*Iy*Kp*Zw - 16.0*Iy*Kp*m - 16.0*Kp*Mq*Zw - 16.0*Kp*Mq*m + 16.0*Kp*m**2*xG**2) - 2.0*Kp*Mq*S1*rho*u**2*x5/(-16.0*Ix*Iy*Zw - 16.0*Ix*Iy*m - 16.0*Ix*Mq*Zw - 16.0*Ix*Mq*m + 16.0*Ix*m**2*xG**2 + 16.0*Ixy**2*Zw + 16.0*Ixy**2*m - 16.0*Iy*Kp*Zw - 16.0*Iy*Kp*m - 16.0*Kp*Mq*Zw - 16.0*Kp*Mq*m + 16.0*Kp*m**2*xG**2) - 2.0*Kp*Mq*S1*rho*x2**2*x5/(-16.0*Ix*Iy*Zw - 16.0*Ix*Iy*m - 16.0*Ix*Mq*Zw - 16.0*Ix*Mq*m + 16.0*Ix*m**2*xG**2 + 16.0*Ixy**2*Zw + 16.0*Ixy**2*m - 16.0*Iy*Kp*Zw - 16.0*Iy*Kp*m - 16.0*Kp*Mq*Zw - 16.0*Kp*Mq*m + 16.0*Kp*m**2*xG**2) + Kp*Mq*S2*rho*u**2*u1/(-16.0*Ix*Iy*Zw - 16.0*Ix*Iy*m - 16.0*Ix*Mq*Zw - 16.0*Ix*Mq*m + 16.0*Ix*m**2*xG**2 + 16.0*Ixy**2*Zw + 16.0*Ixy**2*m - 16.0*Iy*Kp*Zw - 16.0*Iy*Kp*m - 16.0*Kp*Mq*Zw - 16.0*Kp*Mq*m + 16.0*Kp*m**2*xG**2) + Kp*Mq*S2*rho*u**2*u2/(-16.0*Ix*Iy*Zw - 16.0*Ix*Iy*m - 16.0*Ix*Mq*Zw - 16.0*Ix*Mq*m + 16.0*Ix*m**2*xG**2 + 16.0*Ixy**2*Zw + 16.0*Ixy**2*m - 16.0*Iy*Kp*Zw - 16.0*Iy*Kp*m - 16.0*Kp*Mq*Zw - 16.0*Kp*Mq*m + 16.0*Kp*m**2*xG**2) - 2.0*Kp*Mq*S2*rho*u**2*x5/(-16.0*Ix*Iy*Zw - 16.0*Ix*Iy*m - 16.0*Ix*Mq*Zw - 16.0*Ix*Mq*m + 16.0*Ix*m**2*xG**2 + 16.0*Ixy**2*Zw + 16.0*Ixy**2*m - 16.0*Iy*Kp*Zw - 16.0*Iy*Kp*m - 16.0*Kp*Mq*Zw - 16.0*Kp*Mq*m + 16.0*Kp*m**2*xG**2) + Kp*Mq*S2*rho*u1*x2**2/(-16.0*Ix*Iy*Zw - 16.0*Ix*Iy*m - 16.0*Ix*Mq*Zw - 16.0*Ix*Mq*m + 16.0*Ix*m**2*xG**2 + 16.0*Ixy**2*Zw + 16.0*Ixy**2*m - 16.0*Iy*Kp*Zw - 16.0*Iy*Kp*m - 16.0*Kp*Mq*Zw - 16.0*Kp*Mq*m + 16.0*Kp*m**2*xG**2) + Kp*Mq*S2*rho*u2*x2**2/(-16.0*Ix*Iy*Zw - 16.0*Ix*Iy*m - 16.0*Ix*Mq*Zw - 16.0*Ix*Mq*m + 16.0*Ix*m**2*xG**2 + 16.0*Ixy**2*Zw + 16.0*Ixy**2*m - 16.0*Iy*Kp*Zw - 16.0*Iy*Kp*m - 16.0*Kp*Mq*Zw - 16.0*Kp*Mq*m + 16.0*Kp*m**2*xG**2) - 2.0*Kp*Mq*S2*rho*x2**2*x5/(-16.0*Ix*Iy*Zw - 16.0*Ix*Iy*m - 16.0*Ix*Mq*Zw - 16.0*Ix*Mq*m + 16.0*Ix*m**2*xG**2 + 16.0*Ixy**2*Zw + 16.0*Ixy**2*m - 16.0*Iy*Kp*Zw - 16.0*Iy*Kp*m - 16.0*Kp*Mq*Zw - 16.0*Kp*Mq*m + 16.0*Kp*m**2*xG**2) - 2.0*Kp*Mq*S3*rho*u**2*x5/(-16.0*Ix*Iy*Zw - 16.0*Ix*Iy*m - 16.0*Ix*Mq*Zw - 16.0*Ix*Mq*m + 16.0*Ix*m**2*xG**2 + 16.0*Ixy**2*Zw + 16.0*Ixy**2*m - 16.0*Iy*Kp*Zw - 16.0*Iy*Kp*m - 16.0*Kp*Mq*Zw - 16.0*Kp*Mq*m + 16.0*Kp*m**2*xG**2) - 2.0*Kp*Mq*S3*rho*x2**2*x5/(-16.0*Ix*Iy*Zw - 16.0*Ix*Iy*m - 16.0*Ix*Mq*Zw - 16.0*Ix*Mq*m + 16.0*Ix*m**2*xG**2 + 16.0*Ixy**2*Zw + 16.0*Ixy**2*m - 16.0*Iy*Kp*Zw - 16.0*Iy*Kp*m - 16.0*Kp*Mq*Zw - 16.0*Kp*Mq*m + 16.0*Kp*m**2*xG**2) + 2.0*Kp*Mq*S4*rho*u**2*u3/(-16.0*Ix*Iy*Zw - 16.0*Ix*Iy*m - 16.0*Ix*Mq*Zw - 16.0*Ix*Mq*m + 16.0*Ix*m**2*xG**2 + 16.0*Ixy**2*Zw + 16.0*Ixy**2*m - 16.0*Iy*Kp*Zw - 16.0*Iy*Kp*m - 16.0*Kp*Mq*Zw - 16.0*Kp*Mq*m + 16.0*Kp*m**2*xG**2) - 2.0*Kp*Mq*S4*rho*u**2*x5/(-16.0*Ix*Iy*Zw - 16.0*Ix*Iy*m - 16.0*Ix*Mq*Zw - 16.0*Ix*Mq*m + 16.0*Ix*m**2*xG**2 + 16.0*Ixy**2*Zw + 16.0*Ixy**2*m - 16.0*Iy*Kp*Zw - 16.0*Iy*Kp*m - 16.0*Kp*Mq*Zw - 16.0*Kp*Mq*m + 16.0*Kp*m**2*xG**2) + 2.0*Kp*Mq*S4*rho*u3*x2**2/(-16.0*Ix*Iy*Zw - 16.0*Ix*Iy*m - 16.0*Ix*Mq*Zw - 16.0*Ix*Mq*m + 16.0*Ix*m**2*xG**2 + 16.0*Ixy**2*Zw + 16.0*Ixy**2*m - 16.0*Iy*Kp*Zw - 16.0*Iy*Kp*m - 16.0*Kp*Mq*Zw - 16.0*Kp*Mq*m + 16.0*Kp*m**2*xG**2) - 2.0*Kp*Mq*S4*rho*x2**2*x5/(-16.0*Ix*Iy*Zw - 16.0*Ix*Iy*m - 16.0*Ix*Mq*Zw - 16.0*Ix*Mq*m + 16.0*Ix*m**2*xG**2 + 16.0*Ixy**2*Zw + 16.0*Ixy**2*m - 16.0*Iy*Kp*Zw - 16.0*Iy*Kp*m - 16.0*Kp*Mq*Zw - 16.0*Kp*Mq*m + 16.0*Kp*m**2*xG**2) - 16.0*Kp*Mq*Vol*g*rho*sin(x5)/(-16.0*Ix*Iy*Zw - 16.0*Ix*Iy*m - 16.0*Ix*Mq*Zw - 16.0*Ix*Mq*m + 16.0*Ix*m**2*xG**2 + 16.0*Ixy**2*Zw + 16.0*Ixy**2*m - 16.0*Iy*Kp*Zw - 16.0*Iy*Kp*m - 16.0*Kp*Mq*Zw - 16.0*Kp*Mq*m + 16.0*Kp*m**2*xG**2) + 16.0*Kp*Mq*dh1*x2/(-16.0*Ix*Iy*Zw - 16.0*Ix*Iy*m - 16.0*Ix*Mq*Zw - 16.0*Ix*Mq*m + 16.0*Ix*m**2*xG**2 + 16.0*Ixy**2*Zw + 16.0*Ixy**2*m - 16.0*Iy*Kp*Zw - 16.0*Iy*Kp*m - 16.0*Kp*Mq*Zw - 16.0*Kp*Mq*m + 16.0*Kp*m**2*xG**2) + 16.0*Kp*Mq*dh2*x2**2/(-16.0*Ix*Iy*Zw - 16.0*Ix*Iy*m - 16.0*Ix*Mq*Zw - 16.0*Ix*Mq*m + 16.0*Ix*m**2*xG**2 + 16.0*Ixy**2*Zw + 16.0*Ixy**2*m - 16.0*Iy*Kp*Zw - 16.0*Iy*Kp*m - 16.0*Kp*Mq*Zw - 16.0*Kp*Mq*m + 16.0*Kp*m**2*xG**2) + 16.0*Kp*Mq*g*m*sin(x5)/(-16.0*Ix*Iy*Zw - 16.0*Ix*Iy*m - 16.0*Ix*Mq*Zw - 16.0*Ix*Mq*m + 16.0*Ix*m**2*xG**2 + 16.0*Ixy**2*Zw + 16.0*Ixy**2*m - 16.0*Iy*Kp*Zw - 16.0*Iy*Kp*m - 16.0*Kp*Mq*Zw - 16.0*Kp*Mq*m + 16.0*Kp*m**2*xG**2) + 16.0*Kp*Mq*m*u*x6/(-16.0*Ix*Iy*Zw - 16.0*Ix*Iy*m - 16.0*Ix*Mq*Zw - 16.0*Ix*Mq*m + 16.0*Ix*m**2*xG**2 + 16.0*Ixy**2*Zw + 16.0*Ixy**2*m - 16.0*Iy*Kp*Zw - 16.0*Iy*Kp*m - 16.0*Kp*Mq*Zw - 16.0*Kp*Mq*m + 16.0*Kp*m**2*xG**2) - 2.0*Kp*S1*d1*m*rho*u**2*x5*xG/(-16.0*Ix*Iy*Zw - 16.0*Ix*Iy*m - 16.0*Ix*Mq*Zw - 16.0*Ix*Mq*m + 16.0*Ix*m**2*xG**2 + 16.0*Ixy**2*Zw + 16.0*Ixy**2*m - 16.0*Iy*Kp*Zw - 16.0*Iy*Kp*m - 16.0*Kp*Mq*Zw - 16.0*Kp*Mq*m + 16.0*Kp*m**2*xG**2) - 2.0*Kp*S1*d1*m*rho*x2**2*x5*xG/(-16.0*Ix*Iy*Zw - 16.0*Ix*Iy*m - 16.0*Ix*Mq*Zw - 16.0*Ix*Mq*m + 16.0*Ix*m**2*xG**2 + 16.0*Ixy**2*Zw + 16.0*Ixy**2*m - 16.0*Iy*Kp*Zw - 16.0*Iy*Kp*m - 16.0*Kp*Mq*Zw - 16.0*Kp*Mq*m + 16.0*Kp*m**2*xG**2) + Kp*S2*d2*m*rho*u**2*u1*xG/(-16.0*Ix*Iy*Zw - 16.0*Ix*Iy*m - 16.0*Ix*Mq*Zw - 16.0*Ix*Mq*m + 16.0*Ix*m**2*xG**2 + 16.0*Ixy**2*Zw + 16.0*Ixy**2*m - 16.0*Iy*Kp*Zw - 16.0*Iy*Kp*m - 16.0*Kp*Mq*Zw - 16.0*Kp*Mq*m + 16.0*Kp*m**2*xG**2) + Kp*S2*d2*m*rho*u**2*u2*xG/(-16.0*Ix*Iy*Zw - 16.0*Ix*Iy*m - 16.0*Ix*Mq*Zw - 16.0*Ix*Mq*m + 16.0*Ix*m**2*xG**2 + 16.0*Ixy**2*Zw + 16.0*Ixy**2*m - 16.0*Iy*Kp*Zw - 16.0*Iy*Kp*m - 16.0*Kp*Mq*Zw - 16.0*Kp*Mq*m + 16.0*Kp*m**2*xG**2) - 2.0*Kp*S2*d2*m*rho*u**2*x5*xG/(-16.0*Ix*Iy*Zw - 16.0*Ix*Iy*m - 16.0*Ix*Mq*Zw - 16.0*Ix*Mq*m + 16.0*Ix*m**2*xG**2 + 16.0*Ixy**2*Zw + 16.0*Ixy**2*m - 16.0*Iy*Kp*Zw - 16.0*Iy*Kp*m - 16.0*Kp*Mq*Zw - 16.0*Kp*Mq*m + 16.0*Kp*m**2*xG**2) + Kp*S2*d2*m*rho*u1*x2**2*xG/(-16.0*Ix*Iy*Zw - 16.0*Ix*Iy*m - 16.0*Ix*Mq*Zw - 16.0*Ix*Mq*m + 16.0*Ix*m**2*xG**2 + 16.0*Ixy**2*Zw + 16.0*Ixy**2*m - 16.0*Iy*Kp*Zw - 16.0*Iy*Kp*m - 16.0*Kp*Mq*Zw - 16.0*Kp*Mq*m + 16.0*Kp*m**2*xG**2) + Kp*S2*d2*m*rho*u2*x2**2*xG/(-16.0*Ix*Iy*Zw - 16.0*Ix*Iy*m - 16.0*Ix*Mq*Zw - 16.0*Ix*Mq*m + 16.0*Ix*m**2*xG**2 + 16.0*Ixy**2*Zw + 16.0*Ixy**2*m - 16.0*Iy*Kp*Zw - 16.0*Iy*Kp*m - 16.0*Kp*Mq*Zw - 16.0*Kp*Mq*m + 16.0*Kp*m**2*xG**2) - 2.0*Kp*S2*d2*m*rho*x2**2*x5*xG/(-16.0*Ix*Iy*Zw - 16.0*Ix*Iy*m - 16.0*Ix*Mq*Zw - 16.0*Ix*Mq*m + 16.0*Ix*m**2*xG**2 + 16.0*Ixy**2*Zw + 16.0*Ixy**2*m - 16.0*Iy*Kp*Zw - 16.0*Iy*Kp*m - 16.0*Kp*Mq*Zw - 16.0*Kp*Mq*m + 16.0*Kp*m**2*xG**2) - 2.0*Kp*S3*d3*m*rho*u**2*x5*xG/(-16.0*Ix*Iy*Zw - 16.0*Ix*Iy*m - 16.0*Ix*Mq*Zw - 16.0*Ix*Mq*m + 16.0*Ix*m**2*xG**2 + 16.0*Ixy**2*Zw + 16.0*Ixy**2*m - 16.0*Iy*Kp*Zw - 16.0*Iy*Kp*m - 16.0*Kp*Mq*Zw - 16.0*Kp*Mq*m + 16.0*Kp*m**2*xG**2) - 2.0*Kp*S3*d3*m*rho*x2**2*x5*xG/(-16.0*Ix*Iy*Zw - 16.0*Ix*Iy*m - 16.0*Ix*Mq*Zw - 16.0*Ix*Mq*m + 16.0*Ix*m**2*xG**2 + 16.0*Ixy**2*Zw + 16.0*Ixy**2*m - 16.0*Iy*Kp*Zw - 16.0*Iy*Kp*m - 16.0*Kp*Mq*Zw - 16.0*Kp*Mq*m + 16.0*Kp*m**2*xG**2) + 2.0*Kp*S4*d4*m*rho*u**2*u3*xG/(-16.0*Ix*Iy*Zw - 16.0*Ix*Iy*m - 16.0*Ix*Mq*Zw - 16.0*Ix*Mq*m + 16.0*Ix*m**2*xG**2 + 16.0*Ixy**2*Zw + 16.0*Ixy**2*m - 16.0*Iy*Kp*Zw - 16.0*Iy*Kp*m - 16.0*Kp*Mq*Zw - 16.0*Kp*Mq*m + 16.0*Kp*m**2*xG**2) - 2.0*Kp*S4*d4*m*rho*u**2*x5*xG/(-16.0*Ix*Iy*Zw - 16.0*Ix*Iy*m - 16.0*Ix*Mq*Zw - 16.0*Ix*Mq*m + 16.0*Ix*m**2*xG**2 + 16.0*Ixy**2*Zw + 16.0*Ixy**2*m - 16.0*Iy*Kp*Zw - 16.0*Iy*Kp*m - 16.0*Kp*Mq*Zw - 16.0*Kp*Mq*m + 16.0*Kp*m**2*xG**2) + 2.0*Kp*S4*d4*m*rho*u3*x2**2*xG/(-16.0*Ix*Iy*Zw - 16.0*Ix*Iy*m - 16.0*Ix*Mq*Zw - 16.0*Ix*Mq*m + 16.0*Ix*m**2*xG**2 + 16.0*Ixy**2*Zw + 16.0*Ixy**2*m - 16.0*Iy*Kp*Zw - 16.0*Iy*Kp*m - 16.0*Kp*Mq*Zw - 16.0*Kp*Mq*m + 16.0*Kp*m**2*xG**2) - 2.0*Kp*S4*d4*m*rho*x2**2*x5*xG/(-16.0*Ix*Iy*Zw - 16.0*Ix*Iy*m - 16.0*Ix*Mq*Zw - 16.0*Ix*Mq*m + 16.0*Ix*m**2*xG**2 + 16.0*Ixy**2*Zw + 16.0*Ixy**2*m - 16.0*Iy*Kp*Zw - 16.0*Iy*Kp*m - 16.0*Kp*Mq*Zw - 16.0*Kp*Mq*m + 16.0*Kp*m**2*xG**2) - 16.0*Kp*Vol*db*g*m*rho*xG*sin(x5)/(-16.0*Ix*Iy*Zw - 16.0*Ix*Iy*m - 16.0*Ix*Mq*Zw - 16.0*Ix*Mq*m + 16.0*Ix*m**2*xG**2 + 16.0*Ixy**2*Zw + 16.0*Ixy**2*m - 16.0*Iy*Kp*Zw - 16.0*Iy*Kp*m - 16.0*Kp*Mq*Zw - 16.0*Kp*Mq*m + 16.0*Kp*m**2*xG**2) - 16.0*Kp*Zw*m*u*x2*xG/(-16.0*Ix*Iy*Zw - 16.0*Ix*Iy*m - 16.0*Ix*Mq*Zw - 16.0*Ix*Mq*m + 16.0*Ix*m**2*xG**2 + 16.0*Ixy**2*Zw + 16.0*Ixy**2*m - 16.0*Iy*Kp*Zw - 16.0*Iy*Kp*m - 16.0*Kp*Mq*Zw - 16.0*Kp*Mq*m + 16.0*Kp*m**2*xG**2) + 16.0*Kp*dg*g*m**2*xG*sin(x5)/(-16.0*Ix*Iy*Zw - 16.0*Ix*Iy*m - 16.0*Ix*Mq*Zw - 16.0*Ix*Mq*m + 16.0*Ix*m**2*xG**2 + 16.0*Ixy**2*Zw + 16.0*Ixy**2*m - 16.0*Iy*Kp*Zw - 16.0*Iy*Kp*m - 16.0*Kp*Mq*Zw - 16.0*Kp*Mq*m + 16.0*Kp*m**2*xG**2) + 16.0*Kp*dp1*m*x6*xG/(-16.0*Ix*Iy*Zw - 16.0*Ix*Iy*m - 16.0*Ix*Mq*Zw - 16.0*Ix*Mq*m + 16.0*Ix*m**2*xG**2 + 16.0*Ixy**2*Zw + 16.0*Ixy**2*m - 16.0*Iy*Kp*Zw - 16.0*Iy*Kp*m - 16.0*Kp*Mq*Zw - 16.0*Kp*Mq*m + 16.0*Kp*m**2*xG**2) + 16.0*Kp*dp2*m*x6**2*xG/(-16.0*Ix*Iy*Zw - 16.0*Ix*Iy*m - 16.0*Ix*Mq*Zw - 16.0*Ix*Mq*m + 16.0*Ix*m**2*xG**2 + 16.0*Ixy**2*Zw + 16.0*Ixy**2*m - 16.0*Iy*Kp*Zw - 16.0*Iy*Kp*m - 16.0*Kp*Mq*Zw - 16.0*Kp*Mq*m + 16.0*Kp*m**2*xG**2) - 16.0*Kp*m**2*u*x6*xG**2/(-16.0*Ix*Iy*Zw - 16.0*Ix*Iy*m - 16.0*Ix*Mq*Zw - 16.0*Ix*Mq*m + 16.0*Ix*m**2*xG**2 + 16.0*Ixy**2*Zw + 16.0*Ixy**2*m - 16.0*Iy*Kp*Zw - 16.0*Iy*Kp*m - 16.0*Kp*Mq*Zw - 16.0*Kp*Mq*m + 16.0*Kp*m**2*xG**2)"
   ]
  },
  {
   "cell_type": "code",
   "execution_count": 8,
   "id": "controversial-level",
   "metadata": {},
   "outputs": [],
   "source": [
    "x4d = -16.0*Ixy*Ixz*Zw*x4**2/(-16.0*Ix*Iy*Zw - 16.0*Ix*Iy*m - 16.0*Ix*Mq*Zw - 16.0*Ix*Mq*m + 16.0*Ix*m**2*xG**2 + 16.0*Ixy**2*Zw + 16.0*Ixy**2*m - 16.0*Iy*Kp*Zw - 16.0*Iy*Kp*m - 16.0*Kp*Mq*Zw - 16.0*Kp*Mq*m + 16.0*Kp*m**2*xG**2) - 16.0*Ixy*Ixz*m*x4**2/(-16.0*Ix*Iy*Zw - 16.0*Ix*Iy*m - 16.0*Ix*Mq*Zw - 16.0*Ix*Mq*m + 16.0*Ix*m**2*xG**2 + 16.0*Ixy**2*Zw + 16.0*Ixy**2*m - 16.0*Iy*Kp*Zw - 16.0*Iy*Kp*m - 16.0*Kp*Mq*Zw - 16.0*Kp*Mq*m + 16.0*Kp*m**2*xG**2) - 16.0*Ixy*Iyz*Zw*x4*x6/(-16.0*Ix*Iy*Zw - 16.0*Ix*Iy*m - 16.0*Ix*Mq*Zw - 16.0*Ix*Mq*m + 16.0*Ix*m**2*xG**2 + 16.0*Ixy**2*Zw + 16.0*Ixy**2*m - 16.0*Iy*Kp*Zw - 16.0*Iy*Kp*m - 16.0*Kp*Mq*Zw - 16.0*Kp*Mq*m + 16.0*Kp*m**2*xG**2) - 16.0*Ixy*Iyz*m*x4*x6/(-16.0*Ix*Iy*Zw - 16.0*Ix*Iy*m - 16.0*Ix*Mq*Zw - 16.0*Ix*Mq*m + 16.0*Ix*m**2*xG**2 + 16.0*Ixy**2*Zw + 16.0*Ixy**2*m - 16.0*Iy*Kp*Zw - 16.0*Iy*Kp*m - 16.0*Kp*Mq*Zw - 16.0*Kp*Mq*m + 16.0*Kp*m**2*xG**2) - 2.0*Ixy*S1*Zw*d1*rho*u**2*x5/(-16.0*Ix*Iy*Zw - 16.0*Ix*Iy*m - 16.0*Ix*Mq*Zw - 16.0*Ix*Mq*m + 16.0*Ix*m**2*xG**2 + 16.0*Ixy**2*Zw + 16.0*Ixy**2*m - 16.0*Iy*Kp*Zw - 16.0*Iy*Kp*m - 16.0*Kp*Mq*Zw - 16.0*Kp*Mq*m + 16.0*Kp*m**2*xG**2) - 2.0*Ixy*S1*Zw*d1*rho*x2**2*x5/(-16.0*Ix*Iy*Zw - 16.0*Ix*Iy*m - 16.0*Ix*Mq*Zw - 16.0*Ix*Mq*m + 16.0*Ix*m**2*xG**2 + 16.0*Ixy**2*Zw + 16.0*Ixy**2*m - 16.0*Iy*Kp*Zw - 16.0*Iy*Kp*m - 16.0*Kp*Mq*Zw - 16.0*Kp*Mq*m + 16.0*Kp*m**2*xG**2) - 2.0*Ixy*S1*d1*m*rho*u**2*x5/(-16.0*Ix*Iy*Zw - 16.0*Ix*Iy*m - 16.0*Ix*Mq*Zw - 16.0*Ix*Mq*m + 16.0*Ix*m**2*xG**2 + 16.0*Ixy**2*Zw + 16.0*Ixy**2*m - 16.0*Iy*Kp*Zw - 16.0*Iy*Kp*m - 16.0*Kp*Mq*Zw - 16.0*Kp*Mq*m + 16.0*Kp*m**2*xG**2) - 2.0*Ixy*S1*d1*m*rho*x2**2*x5/(-16.0*Ix*Iy*Zw - 16.0*Ix*Iy*m - 16.0*Ix*Mq*Zw - 16.0*Ix*Mq*m + 16.0*Ix*m**2*xG**2 + 16.0*Ixy**2*Zw + 16.0*Ixy**2*m - 16.0*Iy*Kp*Zw - 16.0*Iy*Kp*m - 16.0*Kp*Mq*Zw - 16.0*Kp*Mq*m + 16.0*Kp*m**2*xG**2) - 2.0*Ixy*S1*m*rho*u**2*x5*xG/(-16.0*Ix*Iy*Zw - 16.0*Ix*Iy*m - 16.0*Ix*Mq*Zw - 16.0*Ix*Mq*m + 16.0*Ix*m**2*xG**2 + 16.0*Ixy**2*Zw + 16.0*Ixy**2*m - 16.0*Iy*Kp*Zw - 16.0*Iy*Kp*m - 16.0*Kp*Mq*Zw - 16.0*Kp*Mq*m + 16.0*Kp*m**2*xG**2) - 2.0*Ixy*S1*m*rho*x2**2*x5*xG/(-16.0*Ix*Iy*Zw - 16.0*Ix*Iy*m - 16.0*Ix*Mq*Zw - 16.0*Ix*Mq*m + 16.0*Ix*m**2*xG**2 + 16.0*Ixy**2*Zw + 16.0*Ixy**2*m - 16.0*Iy*Kp*Zw - 16.0*Iy*Kp*m - 16.0*Kp*Mq*Zw - 16.0*Kp*Mq*m + 16.0*Kp*m**2*xG**2) + Ixy*S2*Zw*d2*rho*u**2*u1/(-16.0*Ix*Iy*Zw - 16.0*Ix*Iy*m - 16.0*Ix*Mq*Zw - 16.0*Ix*Mq*m + 16.0*Ix*m**2*xG**2 + 16.0*Ixy**2*Zw + 16.0*Ixy**2*m - 16.0*Iy*Kp*Zw - 16.0*Iy*Kp*m - 16.0*Kp*Mq*Zw - 16.0*Kp*Mq*m + 16.0*Kp*m**2*xG**2) + Ixy*S2*Zw*d2*rho*u**2*u2/(-16.0*Ix*Iy*Zw - 16.0*Ix*Iy*m - 16.0*Ix*Mq*Zw - 16.0*Ix*Mq*m + 16.0*Ix*m**2*xG**2 + 16.0*Ixy**2*Zw + 16.0*Ixy**2*m - 16.0*Iy*Kp*Zw - 16.0*Iy*Kp*m - 16.0*Kp*Mq*Zw - 16.0*Kp*Mq*m + 16.0*Kp*m**2*xG**2) - 2.0*Ixy*S2*Zw*d2*rho*u**2*x5/(-16.0*Ix*Iy*Zw - 16.0*Ix*Iy*m - 16.0*Ix*Mq*Zw - 16.0*Ix*Mq*m + 16.0*Ix*m**2*xG**2 + 16.0*Ixy**2*Zw + 16.0*Ixy**2*m - 16.0*Iy*Kp*Zw - 16.0*Iy*Kp*m - 16.0*Kp*Mq*Zw - 16.0*Kp*Mq*m + 16.0*Kp*m**2*xG**2) + Ixy*S2*Zw*d2*rho*u1*x2**2/(-16.0*Ix*Iy*Zw - 16.0*Ix*Iy*m - 16.0*Ix*Mq*Zw - 16.0*Ix*Mq*m + 16.0*Ix*m**2*xG**2 + 16.0*Ixy**2*Zw + 16.0*Ixy**2*m - 16.0*Iy*Kp*Zw - 16.0*Iy*Kp*m - 16.0*Kp*Mq*Zw - 16.0*Kp*Mq*m + 16.0*Kp*m**2*xG**2) + Ixy*S2*Zw*d2*rho*u2*x2**2/(-16.0*Ix*Iy*Zw - 16.0*Ix*Iy*m - 16.0*Ix*Mq*Zw - 16.0*Ix*Mq*m + 16.0*Ix*m**2*xG**2 + 16.0*Ixy**2*Zw + 16.0*Ixy**2*m - 16.0*Iy*Kp*Zw - 16.0*Iy*Kp*m - 16.0*Kp*Mq*Zw - 16.0*Kp*Mq*m + 16.0*Kp*m**2*xG**2) - 2.0*Ixy*S2*Zw*d2*rho*x2**2*x5/(-16.0*Ix*Iy*Zw - 16.0*Ix*Iy*m - 16.0*Ix*Mq*Zw - 16.0*Ix*Mq*m + 16.0*Ix*m**2*xG**2 + 16.0*Ixy**2*Zw + 16.0*Ixy**2*m - 16.0*Iy*Kp*Zw - 16.0*Iy*Kp*m - 16.0*Kp*Mq*Zw - 16.0*Kp*Mq*m + 16.0*Kp*m**2*xG**2) + Ixy*S2*d2*m*rho*u**2*u1/(-16.0*Ix*Iy*Zw - 16.0*Ix*Iy*m - 16.0*Ix*Mq*Zw - 16.0*Ix*Mq*m + 16.0*Ix*m**2*xG**2 + 16.0*Ixy**2*Zw + 16.0*Ixy**2*m - 16.0*Iy*Kp*Zw - 16.0*Iy*Kp*m - 16.0*Kp*Mq*Zw - 16.0*Kp*Mq*m + 16.0*Kp*m**2*xG**2) + Ixy*S2*d2*m*rho*u**2*u2/(-16.0*Ix*Iy*Zw - 16.0*Ix*Iy*m - 16.0*Ix*Mq*Zw - 16.0*Ix*Mq*m + 16.0*Ix*m**2*xG**2 + 16.0*Ixy**2*Zw + 16.0*Ixy**2*m - 16.0*Iy*Kp*Zw - 16.0*Iy*Kp*m - 16.0*Kp*Mq*Zw - 16.0*Kp*Mq*m + 16.0*Kp*m**2*xG**2) - 2.0*Ixy*S2*d2*m*rho*u**2*x5/(-16.0*Ix*Iy*Zw - 16.0*Ix*Iy*m - 16.0*Ix*Mq*Zw - 16.0*Ix*Mq*m + 16.0*Ix*m**2*xG**2 + 16.0*Ixy**2*Zw + 16.0*Ixy**2*m - 16.0*Iy*Kp*Zw - 16.0*Iy*Kp*m - 16.0*Kp*Mq*Zw - 16.0*Kp*Mq*m + 16.0*Kp*m**2*xG**2) + Ixy*S2*d2*m*rho*u1*x2**2/(-16.0*Ix*Iy*Zw - 16.0*Ix*Iy*m - 16.0*Ix*Mq*Zw - 16.0*Ix*Mq*m + 16.0*Ix*m**2*xG**2 + 16.0*Ixy**2*Zw + 16.0*Ixy**2*m - 16.0*Iy*Kp*Zw - 16.0*Iy*Kp*m - 16.0*Kp*Mq*Zw - 16.0*Kp*Mq*m + 16.0*Kp*m**2*xG**2) + Ixy*S2*d2*m*rho*u2*x2**2/(-16.0*Ix*Iy*Zw - 16.0*Ix*Iy*m - 16.0*Ix*Mq*Zw - 16.0*Ix*Mq*m + 16.0*Ix*m**2*xG**2 + 16.0*Ixy**2*Zw + 16.0*Ixy**2*m - 16.0*Iy*Kp*Zw - 16.0*Iy*Kp*m - 16.0*Kp*Mq*Zw - 16.0*Kp*Mq*m + 16.0*Kp*m**2*xG**2) - 2.0*Ixy*S2*d2*m*rho*x2**2*x5/(-16.0*Ix*Iy*Zw - 16.0*Ix*Iy*m - 16.0*Ix*Mq*Zw - 16.0*Ix*Mq*m + 16.0*Ix*m**2*xG**2 + 16.0*Ixy**2*Zw + 16.0*Ixy**2*m - 16.0*Iy*Kp*Zw - 16.0*Iy*Kp*m - 16.0*Kp*Mq*Zw - 16.0*Kp*Mq*m + 16.0*Kp*m**2*xG**2) + Ixy*S2*m*rho*u**2*u1*xG/(-16.0*Ix*Iy*Zw - 16.0*Ix*Iy*m - 16.0*Ix*Mq*Zw - 16.0*Ix*Mq*m + 16.0*Ix*m**2*xG**2 + 16.0*Ixy**2*Zw + 16.0*Ixy**2*m - 16.0*Iy*Kp*Zw - 16.0*Iy*Kp*m - 16.0*Kp*Mq*Zw - 16.0*Kp*Mq*m + 16.0*Kp*m**2*xG**2) + Ixy*S2*m*rho*u**2*u2*xG/(-16.0*Ix*Iy*Zw - 16.0*Ix*Iy*m - 16.0*Ix*Mq*Zw - 16.0*Ix*Mq*m + 16.0*Ix*m**2*xG**2 + 16.0*Ixy**2*Zw + 16.0*Ixy**2*m - 16.0*Iy*Kp*Zw - 16.0*Iy*Kp*m - 16.0*Kp*Mq*Zw - 16.0*Kp*Mq*m + 16.0*Kp*m**2*xG**2) - 2.0*Ixy*S2*m*rho*u**2*x5*xG/(-16.0*Ix*Iy*Zw - 16.0*Ix*Iy*m - 16.0*Ix*Mq*Zw - 16.0*Ix*Mq*m + 16.0*Ix*m**2*xG**2 + 16.0*Ixy**2*Zw + 16.0*Ixy**2*m - 16.0*Iy*Kp*Zw - 16.0*Iy*Kp*m - 16.0*Kp*Mq*Zw - 16.0*Kp*Mq*m + 16.0*Kp*m**2*xG**2) + Ixy*S2*m*rho*u1*x2**2*xG/(-16.0*Ix*Iy*Zw - 16.0*Ix*Iy*m - 16.0*Ix*Mq*Zw - 16.0*Ix*Mq*m + 16.0*Ix*m**2*xG**2 + 16.0*Ixy**2*Zw + 16.0*Ixy**2*m - 16.0*Iy*Kp*Zw - 16.0*Iy*Kp*m - 16.0*Kp*Mq*Zw - 16.0*Kp*Mq*m + 16.0*Kp*m**2*xG**2) + Ixy*S2*m*rho*u2*x2**2*xG/(-16.0*Ix*Iy*Zw - 16.0*Ix*Iy*m - 16.0*Ix*Mq*Zw - 16.0*Ix*Mq*m + 16.0*Ix*m**2*xG**2 + 16.0*Ixy**2*Zw + 16.0*Ixy**2*m - 16.0*Iy*Kp*Zw - 16.0*Iy*Kp*m - 16.0*Kp*Mq*Zw - 16.0*Kp*Mq*m + 16.0*Kp*m**2*xG**2) - 2.0*Ixy*S2*m*rho*x2**2*x5*xG/(-16.0*Ix*Iy*Zw - 16.0*Ix*Iy*m - 16.0*Ix*Mq*Zw - 16.0*Ix*Mq*m + 16.0*Ix*m**2*xG**2 + 16.0*Ixy**2*Zw + 16.0*Ixy**2*m - 16.0*Iy*Kp*Zw - 16.0*Iy*Kp*m - 16.0*Kp*Mq*Zw - 16.0*Kp*Mq*m + 16.0*Kp*m**2*xG**2) - 2.0*Ixy*S3*Zw*d3*rho*u**2*x5/(-16.0*Ix*Iy*Zw - 16.0*Ix*Iy*m - 16.0*Ix*Mq*Zw - 16.0*Ix*Mq*m + 16.0*Ix*m**2*xG**2 + 16.0*Ixy**2*Zw + 16.0*Ixy**2*m - 16.0*Iy*Kp*Zw - 16.0*Iy*Kp*m - 16.0*Kp*Mq*Zw - 16.0*Kp*Mq*m + 16.0*Kp*m**2*xG**2) - 2.0*Ixy*S3*Zw*d3*rho*x2**2*x5/(-16.0*Ix*Iy*Zw - 16.0*Ix*Iy*m - 16.0*Ix*Mq*Zw - 16.0*Ix*Mq*m + 16.0*Ix*m**2*xG**2 + 16.0*Ixy**2*Zw + 16.0*Ixy**2*m - 16.0*Iy*Kp*Zw - 16.0*Iy*Kp*m - 16.0*Kp*Mq*Zw - 16.0*Kp*Mq*m + 16.0*Kp*m**2*xG**2) - 2.0*Ixy*S3*d3*m*rho*u**2*x5/(-16.0*Ix*Iy*Zw - 16.0*Ix*Iy*m - 16.0*Ix*Mq*Zw - 16.0*Ix*Mq*m + 16.0*Ix*m**2*xG**2 + 16.0*Ixy**2*Zw + 16.0*Ixy**2*m - 16.0*Iy*Kp*Zw - 16.0*Iy*Kp*m - 16.0*Kp*Mq*Zw - 16.0*Kp*Mq*m + 16.0*Kp*m**2*xG**2) - 2.0*Ixy*S3*d3*m*rho*x2**2*x5/(-16.0*Ix*Iy*Zw - 16.0*Ix*Iy*m - 16.0*Ix*Mq*Zw - 16.0*Ix*Mq*m + 16.0*Ix*m**2*xG**2 + 16.0*Ixy**2*Zw + 16.0*Ixy**2*m - 16.0*Iy*Kp*Zw - 16.0*Iy*Kp*m - 16.0*Kp*Mq*Zw - 16.0*Kp*Mq*m + 16.0*Kp*m**2*xG**2) - 2.0*Ixy*S3*m*rho*u**2*x5*xG/(-16.0*Ix*Iy*Zw - 16.0*Ix*Iy*m - 16.0*Ix*Mq*Zw - 16.0*Ix*Mq*m + 16.0*Ix*m**2*xG**2 + 16.0*Ixy**2*Zw + 16.0*Ixy**2*m - 16.0*Iy*Kp*Zw - 16.0*Iy*Kp*m - 16.0*Kp*Mq*Zw - 16.0*Kp*Mq*m + 16.0*Kp*m**2*xG**2) - 2.0*Ixy*S3*m*rho*x2**2*x5*xG/(-16.0*Ix*Iy*Zw - 16.0*Ix*Iy*m - 16.0*Ix*Mq*Zw - 16.0*Ix*Mq*m + 16.0*Ix*m**2*xG**2 + 16.0*Ixy**2*Zw + 16.0*Ixy**2*m - 16.0*Iy*Kp*Zw - 16.0*Iy*Kp*m - 16.0*Kp*Mq*Zw - 16.0*Kp*Mq*m + 16.0*Kp*m**2*xG**2) + 2.0*Ixy*S4*Zw*d4*rho*u**2*u3/(-16.0*Ix*Iy*Zw - 16.0*Ix*Iy*m - 16.0*Ix*Mq*Zw - 16.0*Ix*Mq*m + 16.0*Ix*m**2*xG**2 + 16.0*Ixy**2*Zw + 16.0*Ixy**2*m - 16.0*Iy*Kp*Zw - 16.0*Iy*Kp*m - 16.0*Kp*Mq*Zw - 16.0*Kp*Mq*m + 16.0*Kp*m**2*xG**2) - 2.0*Ixy*S4*Zw*d4*rho*u**2*x5/(-16.0*Ix*Iy*Zw - 16.0*Ix*Iy*m - 16.0*Ix*Mq*Zw - 16.0*Ix*Mq*m + 16.0*Ix*m**2*xG**2 + 16.0*Ixy**2*Zw + 16.0*Ixy**2*m - 16.0*Iy*Kp*Zw - 16.0*Iy*Kp*m - 16.0*Kp*Mq*Zw - 16.0*Kp*Mq*m + 16.0*Kp*m**2*xG**2) + 2.0*Ixy*S4*Zw*d4*rho*u3*x2**2/(-16.0*Ix*Iy*Zw - 16.0*Ix*Iy*m - 16.0*Ix*Mq*Zw - 16.0*Ix*Mq*m + 16.0*Ix*m**2*xG**2 + 16.0*Ixy**2*Zw + 16.0*Ixy**2*m - 16.0*Iy*Kp*Zw - 16.0*Iy*Kp*m - 16.0*Kp*Mq*Zw - 16.0*Kp*Mq*m + 16.0*Kp*m**2*xG**2) - 2.0*Ixy*S4*Zw*d4*rho*x2**2*x5/(-16.0*Ix*Iy*Zw - 16.0*Ix*Iy*m - 16.0*Ix*Mq*Zw - 16.0*Ix*Mq*m + 16.0*Ix*m**2*xG**2 + 16.0*Ixy**2*Zw + 16.0*Ixy**2*m - 16.0*Iy*Kp*Zw - 16.0*Iy*Kp*m - 16.0*Kp*Mq*Zw - 16.0*Kp*Mq*m + 16.0*Kp*m**2*xG**2) + 2.0*Ixy*S4*d4*m*rho*u**2*u3/(-16.0*Ix*Iy*Zw - 16.0*Ix*Iy*m - 16.0*Ix*Mq*Zw - 16.0*Ix*Mq*m + 16.0*Ix*m**2*xG**2 + 16.0*Ixy**2*Zw + 16.0*Ixy**2*m - 16.0*Iy*Kp*Zw - 16.0*Iy*Kp*m - 16.0*Kp*Mq*Zw - 16.0*Kp*Mq*m + 16.0*Kp*m**2*xG**2) - 2.0*Ixy*S4*d4*m*rho*u**2*x5/(-16.0*Ix*Iy*Zw - 16.0*Ix*Iy*m - 16.0*Ix*Mq*Zw - 16.0*Ix*Mq*m + 16.0*Ix*m**2*xG**2 + 16.0*Ixy**2*Zw + 16.0*Ixy**2*m - 16.0*Iy*Kp*Zw - 16.0*Iy*Kp*m - 16.0*Kp*Mq*Zw - 16.0*Kp*Mq*m + 16.0*Kp*m**2*xG**2) + 2.0*Ixy*S4*d4*m*rho*u3*x2**2/(-16.0*Ix*Iy*Zw - 16.0*Ix*Iy*m - 16.0*Ix*Mq*Zw - 16.0*Ix*Mq*m + 16.0*Ix*m**2*xG**2 + 16.0*Ixy**2*Zw + 16.0*Ixy**2*m - 16.0*Iy*Kp*Zw - 16.0*Iy*Kp*m - 16.0*Kp*Mq*Zw - 16.0*Kp*Mq*m + 16.0*Kp*m**2*xG**2) - 2.0*Ixy*S4*d4*m*rho*x2**2*x5/(-16.0*Ix*Iy*Zw - 16.0*Ix*Iy*m - 16.0*Ix*Mq*Zw - 16.0*Ix*Mq*m + 16.0*Ix*m**2*xG**2 + 16.0*Ixy**2*Zw + 16.0*Ixy**2*m - 16.0*Iy*Kp*Zw - 16.0*Iy*Kp*m - 16.0*Kp*Mq*Zw - 16.0*Kp*Mq*m + 16.0*Kp*m**2*xG**2) + 2.0*Ixy*S4*m*rho*u**2*u3*xG/(-16.0*Ix*Iy*Zw - 16.0*Ix*Iy*m - 16.0*Ix*Mq*Zw - 16.0*Ix*Mq*m + 16.0*Ix*m**2*xG**2 + 16.0*Ixy**2*Zw + 16.0*Ixy**2*m - 16.0*Iy*Kp*Zw - 16.0*Iy*Kp*m - 16.0*Kp*Mq*Zw - 16.0*Kp*Mq*m + 16.0*Kp*m**2*xG**2) - 2.0*Ixy*S4*m*rho*u**2*x5*xG/(-16.0*Ix*Iy*Zw - 16.0*Ix*Iy*m - 16.0*Ix*Mq*Zw - 16.0*Ix*Mq*m + 16.0*Ix*m**2*xG**2 + 16.0*Ixy**2*Zw + 16.0*Ixy**2*m - 16.0*Iy*Kp*Zw - 16.0*Iy*Kp*m - 16.0*Kp*Mq*Zw - 16.0*Kp*Mq*m + 16.0*Kp*m**2*xG**2) + 2.0*Ixy*S4*m*rho*u3*x2**2*xG/(-16.0*Ix*Iy*Zw - 16.0*Ix*Iy*m - 16.0*Ix*Mq*Zw - 16.0*Ix*Mq*m + 16.0*Ix*m**2*xG**2 + 16.0*Ixy**2*Zw + 16.0*Ixy**2*m - 16.0*Iy*Kp*Zw - 16.0*Iy*Kp*m - 16.0*Kp*Mq*Zw - 16.0*Kp*Mq*m + 16.0*Kp*m**2*xG**2) - 2.0*Ixy*S4*m*rho*x2**2*x5*xG/(-16.0*Ix*Iy*Zw - 16.0*Ix*Iy*m - 16.0*Ix*Mq*Zw - 16.0*Ix*Mq*m + 16.0*Ix*m**2*xG**2 + 16.0*Ixy**2*Zw + 16.0*Ixy**2*m - 16.0*Iy*Kp*Zw - 16.0*Iy*Kp*m - 16.0*Kp*Mq*Zw - 16.0*Kp*Mq*m + 16.0*Kp*m**2*xG**2) - 16.0*Ixy*Vol*Zw*db*g*rho*sin(x5)/(-16.0*Ix*Iy*Zw - 16.0*Ix*Iy*m - 16.0*Ix*Mq*Zw - 16.0*Ix*Mq*m + 16.0*Ix*m**2*xG**2 + 16.0*Ixy**2*Zw + 16.0*Ixy**2*m - 16.0*Iy*Kp*Zw - 16.0*Iy*Kp*m - 16.0*Kp*Mq*Zw - 16.0*Kp*Mq*m + 16.0*Kp*m**2*xG**2) - 16.0*Ixy*Vol*db*g*m*rho*sin(x5)/(-16.0*Ix*Iy*Zw - 16.0*Ix*Iy*m - 16.0*Ix*Mq*Zw - 16.0*Ix*Mq*m + 16.0*Ix*m**2*xG**2 + 16.0*Ixy**2*Zw + 16.0*Ixy**2*m - 16.0*Iy*Kp*Zw - 16.0*Iy*Kp*m - 16.0*Kp*Mq*Zw - 16.0*Kp*Mq*m + 16.0*Kp*m**2*xG**2) - 16.0*Ixy*Vol*g*m*rho*xG*sin(x5)/(-16.0*Ix*Iy*Zw - 16.0*Ix*Iy*m - 16.0*Ix*Mq*Zw - 16.0*Ix*Mq*m + 16.0*Ix*m**2*xG**2 + 16.0*Ixy**2*Zw + 16.0*Ixy**2*m - 16.0*Iy*Kp*Zw - 16.0*Iy*Kp*m - 16.0*Kp*Mq*Zw - 16.0*Kp*Mq*m + 16.0*Kp*m**2*xG**2) - 16.0*Ixy*Zw**2*u*x2/(-16.0*Ix*Iy*Zw - 16.0*Ix*Iy*m - 16.0*Ix*Mq*Zw - 16.0*Ix*Mq*m + 16.0*Ix*m**2*xG**2 + 16.0*Ixy**2*Zw + 16.0*Ixy**2*m - 16.0*Iy*Kp*Zw - 16.0*Iy*Kp*m - 16.0*Kp*Mq*Zw - 16.0*Kp*Mq*m + 16.0*Kp*m**2*xG**2) + 16.0*Ixy*Zw*dg*g*m*sin(x5)/(-16.0*Ix*Iy*Zw - 16.0*Ix*Iy*m - 16.0*Ix*Mq*Zw - 16.0*Ix*Mq*m + 16.0*Ix*m**2*xG**2 + 16.0*Ixy**2*Zw + 16.0*Ixy**2*m - 16.0*Iy*Kp*Zw - 16.0*Iy*Kp*m - 16.0*Kp*Mq*Zw - 16.0*Kp*Mq*m + 16.0*Kp*m**2*xG**2) + 16.0*Ixy*Zw*dp1*x6/(-16.0*Ix*Iy*Zw - 16.0*Ix*Iy*m - 16.0*Ix*Mq*Zw - 16.0*Ix*Mq*m + 16.0*Ix*m**2*xG**2 + 16.0*Ixy**2*Zw + 16.0*Ixy**2*m - 16.0*Iy*Kp*Zw - 16.0*Iy*Kp*m - 16.0*Kp*Mq*Zw - 16.0*Kp*Mq*m + 16.0*Kp*m**2*xG**2) + 16.0*Ixy*Zw*dp2*x6**2/(-16.0*Ix*Iy*Zw - 16.0*Ix*Iy*m - 16.0*Ix*Mq*Zw - 16.0*Ix*Mq*m + 16.0*Ix*m**2*xG**2 + 16.0*Ixy**2*Zw + 16.0*Ixy**2*m - 16.0*Iy*Kp*Zw - 16.0*Iy*Kp*m - 16.0*Kp*Mq*Zw - 16.0*Kp*Mq*m + 16.0*Kp*m**2*xG**2) - 16.0*Ixy*Zw*m*u*x2/(-16.0*Ix*Iy*Zw - 16.0*Ix*Iy*m - 16.0*Ix*Mq*Zw - 16.0*Ix*Mq*m + 16.0*Ix*m**2*xG**2 + 16.0*Ixy**2*Zw + 16.0*Ixy**2*m - 16.0*Iy*Kp*Zw - 16.0*Iy*Kp*m - 16.0*Kp*Mq*Zw - 16.0*Kp*Mq*m + 16.0*Kp*m**2*xG**2) - 16.0*Ixy*Zw*m*u*x6*xG/(-16.0*Ix*Iy*Zw - 16.0*Ix*Iy*m - 16.0*Ix*Mq*Zw - 16.0*Ix*Mq*m + 16.0*Ix*m**2*xG**2 + 16.0*Ixy**2*Zw + 16.0*Ixy**2*m - 16.0*Iy*Kp*Zw - 16.0*Iy*Kp*m - 16.0*Kp*Mq*Zw - 16.0*Kp*Mq*m + 16.0*Kp*m**2*xG**2) + 16.0*Ixy*dg*g*m**2*sin(x5)/(-16.0*Ix*Iy*Zw - 16.0*Ix*Iy*m - 16.0*Ix*Mq*Zw - 16.0*Ix*Mq*m + 16.0*Ix*m**2*xG**2 + 16.0*Ixy**2*Zw + 16.0*Ixy**2*m - 16.0*Iy*Kp*Zw - 16.0*Iy*Kp*m - 16.0*Kp*Mq*Zw - 16.0*Kp*Mq*m + 16.0*Kp*m**2*xG**2) + 16.0*Ixy*dh1*m*x2*xG/(-16.0*Ix*Iy*Zw - 16.0*Ix*Iy*m - 16.0*Ix*Mq*Zw - 16.0*Ix*Mq*m + 16.0*Ix*m**2*xG**2 + 16.0*Ixy**2*Zw + 16.0*Ixy**2*m - 16.0*Iy*Kp*Zw - 16.0*Iy*Kp*m - 16.0*Kp*Mq*Zw - 16.0*Kp*Mq*m + 16.0*Kp*m**2*xG**2) + 16.0*Ixy*dh2*m*x2**2*xG/(-16.0*Ix*Iy*Zw - 16.0*Ix*Iy*m - 16.0*Ix*Mq*Zw - 16.0*Ix*Mq*m + 16.0*Ix*m**2*xG**2 + 16.0*Ixy**2*Zw + 16.0*Ixy**2*m - 16.0*Iy*Kp*Zw - 16.0*Iy*Kp*m - 16.0*Kp*Mq*Zw - 16.0*Kp*Mq*m + 16.0*Kp*m**2*xG**2) + 16.0*Ixy*dp1*m*x6/(-16.0*Ix*Iy*Zw - 16.0*Ix*Iy*m - 16.0*Ix*Mq*Zw - 16.0*Ix*Mq*m + 16.0*Ix*m**2*xG**2 + 16.0*Ixy**2*Zw + 16.0*Ixy**2*m - 16.0*Iy*Kp*Zw - 16.0*Iy*Kp*m - 16.0*Kp*Mq*Zw - 16.0*Kp*Mq*m + 16.0*Kp*m**2*xG**2) + 16.0*Ixy*dp2*m*x6**2/(-16.0*Ix*Iy*Zw - 16.0*Ix*Iy*m - 16.0*Ix*Mq*Zw - 16.0*Ix*Mq*m + 16.0*Ix*m**2*xG**2 + 16.0*Ixy**2*Zw + 16.0*Ixy**2*m - 16.0*Iy*Kp*Zw - 16.0*Iy*Kp*m - 16.0*Kp*Mq*Zw - 16.0*Kp*Mq*m + 16.0*Kp*m**2*xG**2) + 16.0*Ixy*g*m**2*xG*sin(x5)/(-16.0*Ix*Iy*Zw - 16.0*Ix*Iy*m - 16.0*Ix*Mq*Zw - 16.0*Ix*Mq*m + 16.0*Ix*m**2*xG**2 + 16.0*Ixy**2*Zw + 16.0*Ixy**2*m - 16.0*Iy*Kp*Zw - 16.0*Iy*Kp*m - 16.0*Kp*Mq*Zw - 16.0*Kp*Mq*m + 16.0*Kp*m**2*xG**2) + 16.0*Ixz*Iy*Zw*x4*x6/(-16.0*Ix*Iy*Zw - 16.0*Ix*Iy*m - 16.0*Ix*Mq*Zw - 16.0*Ix*Mq*m + 16.0*Ix*m**2*xG**2 + 16.0*Ixy**2*Zw + 16.0*Ixy**2*m - 16.0*Iy*Kp*Zw - 16.0*Iy*Kp*m - 16.0*Kp*Mq*Zw - 16.0*Kp*Mq*m + 16.0*Kp*m**2*xG**2) + 16.0*Ixz*Iy*m*x4*x6/(-16.0*Ix*Iy*Zw - 16.0*Ix*Iy*m - 16.0*Ix*Mq*Zw - 16.0*Ix*Mq*m + 16.0*Ix*m**2*xG**2 + 16.0*Ixy**2*Zw + 16.0*Ixy**2*m - 16.0*Iy*Kp*Zw - 16.0*Iy*Kp*m - 16.0*Kp*Mq*Zw - 16.0*Kp*Mq*m + 16.0*Kp*m**2*xG**2) + 16.0*Ixz*Mq*Zw*x4*x6/(-16.0*Ix*Iy*Zw - 16.0*Ix*Iy*m - 16.0*Ix*Mq*Zw - 16.0*Ix*Mq*m + 16.0*Ix*m**2*xG**2 + 16.0*Ixy**2*Zw + 16.0*Ixy**2*m - 16.0*Iy*Kp*Zw - 16.0*Iy*Kp*m - 16.0*Kp*Mq*Zw - 16.0*Kp*Mq*m + 16.0*Kp*m**2*xG**2) + 16.0*Ixz*Mq*m*x4*x6/(-16.0*Ix*Iy*Zw - 16.0*Ix*Iy*m - 16.0*Ix*Mq*Zw - 16.0*Ix*Mq*m + 16.0*Ix*m**2*xG**2 + 16.0*Ixy**2*Zw + 16.0*Ixy**2*m - 16.0*Iy*Kp*Zw - 16.0*Iy*Kp*m - 16.0*Kp*Mq*Zw - 16.0*Kp*Mq*m + 16.0*Kp*m**2*xG**2) - 16.0*Ixz*m**2*x4*x6*xG**2/(-16.0*Ix*Iy*Zw - 16.0*Ix*Iy*m - 16.0*Ix*Mq*Zw - 16.0*Ix*Mq*m + 16.0*Ix*m**2*xG**2 + 16.0*Ixy**2*Zw + 16.0*Ixy**2*m - 16.0*Iy*Kp*Zw - 16.0*Iy*Kp*m - 16.0*Kp*Mq*Zw - 16.0*Kp*Mq*m + 16.0*Kp*m**2*xG**2) - 16.0*Iy*Iyx*Zw*x6**2/(-16.0*Ix*Iy*Zw - 16.0*Ix*Iy*m - 16.0*Ix*Mq*Zw - 16.0*Ix*Mq*m + 16.0*Ix*m**2*xG**2 + 16.0*Ixy**2*Zw + 16.0*Ixy**2*m - 16.0*Iy*Kp*Zw - 16.0*Iy*Kp*m - 16.0*Kp*Mq*Zw - 16.0*Kp*Mq*m + 16.0*Kp*m**2*xG**2) - 16.0*Iy*Iyx*m*x6**2/(-16.0*Ix*Iy*Zw - 16.0*Ix*Iy*m - 16.0*Ix*Mq*Zw - 16.0*Ix*Mq*m + 16.0*Ix*m**2*xG**2 + 16.0*Ixy**2*Zw + 16.0*Ixy**2*m - 16.0*Iy*Kp*Zw - 16.0*Iy*Kp*m - 16.0*Kp*Mq*Zw - 16.0*Kp*Mq*m + 16.0*Kp*m**2*xG**2) + Iy*S2*Zw*r1*rho*u**2*u1/(-16.0*Ix*Iy*Zw - 16.0*Ix*Iy*m - 16.0*Ix*Mq*Zw - 16.0*Ix*Mq*m + 16.0*Ix*m**2*xG**2 + 16.0*Ixy**2*Zw + 16.0*Ixy**2*m - 16.0*Iy*Kp*Zw - 16.0*Iy*Kp*m - 16.0*Kp*Mq*Zw - 16.0*Kp*Mq*m + 16.0*Kp*m**2*xG**2) - Iy*S2*Zw*r1*rho*u**2*u2/(-16.0*Ix*Iy*Zw - 16.0*Ix*Iy*m - 16.0*Ix*Mq*Zw - 16.0*Ix*Mq*m + 16.0*Ix*m**2*xG**2 + 16.0*Ixy**2*Zw + 16.0*Ixy**2*m - 16.0*Iy*Kp*Zw - 16.0*Iy*Kp*m - 16.0*Kp*Mq*Zw - 16.0*Kp*Mq*m + 16.0*Kp*m**2*xG**2) + Iy*S2*Zw*r1*rho*u1*x2**2/(-16.0*Ix*Iy*Zw - 16.0*Ix*Iy*m - 16.0*Ix*Mq*Zw - 16.0*Ix*Mq*m + 16.0*Ix*m**2*xG**2 + 16.0*Ixy**2*Zw + 16.0*Ixy**2*m - 16.0*Iy*Kp*Zw - 16.0*Iy*Kp*m - 16.0*Kp*Mq*Zw - 16.0*Kp*Mq*m + 16.0*Kp*m**2*xG**2) - Iy*S2*Zw*r1*rho*u2*x2**2/(-16.0*Ix*Iy*Zw - 16.0*Ix*Iy*m - 16.0*Ix*Mq*Zw - 16.0*Ix*Mq*m + 16.0*Ix*m**2*xG**2 + 16.0*Ixy**2*Zw + 16.0*Ixy**2*m - 16.0*Iy*Kp*Zw - 16.0*Iy*Kp*m - 16.0*Kp*Mq*Zw - 16.0*Kp*Mq*m + 16.0*Kp*m**2*xG**2) + Iy*S2*m*r1*rho*u**2*u1/(-16.0*Ix*Iy*Zw - 16.0*Ix*Iy*m - 16.0*Ix*Mq*Zw - 16.0*Ix*Mq*m + 16.0*Ix*m**2*xG**2 + 16.0*Ixy**2*Zw + 16.0*Ixy**2*m - 16.0*Iy*Kp*Zw - 16.0*Iy*Kp*m - 16.0*Kp*Mq*Zw - 16.0*Kp*Mq*m + 16.0*Kp*m**2*xG**2) - Iy*S2*m*r1*rho*u**2*u2/(-16.0*Ix*Iy*Zw - 16.0*Ix*Iy*m - 16.0*Ix*Mq*Zw - 16.0*Ix*Mq*m + 16.0*Ix*m**2*xG**2 + 16.0*Ixy**2*Zw + 16.0*Ixy**2*m - 16.0*Iy*Kp*Zw - 16.0*Iy*Kp*m - 16.0*Kp*Mq*Zw - 16.0*Kp*Mq*m + 16.0*Kp*m**2*xG**2) + Iy*S2*m*r1*rho*u1*x2**2/(-16.0*Ix*Iy*Zw - 16.0*Ix*Iy*m - 16.0*Ix*Mq*Zw - 16.0*Ix*Mq*m + 16.0*Ix*m**2*xG**2 + 16.0*Ixy**2*Zw + 16.0*Ixy**2*m - 16.0*Iy*Kp*Zw - 16.0*Iy*Kp*m - 16.0*Kp*Mq*Zw - 16.0*Kp*Mq*m + 16.0*Kp*m**2*xG**2) - Iy*S2*m*r1*rho*u2*x2**2/(-16.0*Ix*Iy*Zw - 16.0*Ix*Iy*m - 16.0*Ix*Mq*Zw - 16.0*Ix*Mq*m + 16.0*Ix*m**2*xG**2 + 16.0*Ixy**2*Zw + 16.0*Ixy**2*m - 16.0*Iy*Kp*Zw - 16.0*Iy*Kp*m - 16.0*Kp*Mq*Zw - 16.0*Kp*Mq*m + 16.0*Kp*m**2*xG**2) + 16.0*Iy*Zw*dr1*x4/(-16.0*Ix*Iy*Zw - 16.0*Ix*Iy*m - 16.0*Ix*Mq*Zw - 16.0*Ix*Mq*m + 16.0*Ix*m**2*xG**2 + 16.0*Ixy**2*Zw + 16.0*Ixy**2*m - 16.0*Iy*Kp*Zw - 16.0*Iy*Kp*m - 16.0*Kp*Mq*Zw - 16.0*Kp*Mq*m + 16.0*Kp*m**2*xG**2) + 16.0*Iy*Zw*dr2*x4**2/(-16.0*Ix*Iy*Zw - 16.0*Ix*Iy*m - 16.0*Ix*Mq*Zw - 16.0*Ix*Mq*m + 16.0*Ix*m**2*xG**2 + 16.0*Ixy**2*Zw + 16.0*Ixy**2*m - 16.0*Iy*Kp*Zw - 16.0*Iy*Kp*m - 16.0*Kp*Mq*Zw - 16.0*Kp*Mq*m + 16.0*Kp*m**2*xG**2) + 16.0*Iy*dr1*m*x4/(-16.0*Ix*Iy*Zw - 16.0*Ix*Iy*m - 16.0*Ix*Mq*Zw - 16.0*Ix*Mq*m + 16.0*Ix*m**2*xG**2 + 16.0*Ixy**2*Zw + 16.0*Ixy**2*m - 16.0*Iy*Kp*Zw - 16.0*Iy*Kp*m - 16.0*Kp*Mq*Zw - 16.0*Kp*Mq*m + 16.0*Kp*m**2*xG**2) + 16.0*Iy*dr2*m*x4**2/(-16.0*Ix*Iy*Zw - 16.0*Ix*Iy*m - 16.0*Ix*Mq*Zw - 16.0*Ix*Mq*m + 16.0*Ix*m**2*xG**2 + 16.0*Ixy**2*Zw + 16.0*Ixy**2*m - 16.0*Iy*Kp*Zw - 16.0*Iy*Kp*m - 16.0*Kp*Mq*Zw - 16.0*Kp*Mq*m + 16.0*Kp*m**2*xG**2) - 16.0*Iyx*Mq*Zw*x6**2/(-16.0*Ix*Iy*Zw - 16.0*Ix*Iy*m - 16.0*Ix*Mq*Zw - 16.0*Ix*Mq*m + 16.0*Ix*m**2*xG**2 + 16.0*Ixy**2*Zw + 16.0*Ixy**2*m - 16.0*Iy*Kp*Zw - 16.0*Iy*Kp*m - 16.0*Kp*Mq*Zw - 16.0*Kp*Mq*m + 16.0*Kp*m**2*xG**2) - 16.0*Iyx*Mq*m*x6**2/(-16.0*Ix*Iy*Zw - 16.0*Ix*Iy*m - 16.0*Ix*Mq*Zw - 16.0*Ix*Mq*m + 16.0*Ix*m**2*xG**2 + 16.0*Ixy**2*Zw + 16.0*Ixy**2*m - 16.0*Iy*Kp*Zw - 16.0*Iy*Kp*m - 16.0*Kp*Mq*Zw - 16.0*Kp*Mq*m + 16.0*Kp*m**2*xG**2) + 16.0*Iyx*m**2*x6**2*xG**2/(-16.0*Ix*Iy*Zw - 16.0*Ix*Iy*m - 16.0*Ix*Mq*Zw - 16.0*Ix*Mq*m + 16.0*Ix*m**2*xG**2 + 16.0*Ixy**2*Zw + 16.0*Ixy**2*m - 16.0*Iy*Kp*Zw - 16.0*Iy*Kp*m - 16.0*Kp*Mq*Zw - 16.0*Kp*Mq*m + 16.0*Kp*m**2*xG**2) + Mq*S2*Zw*r1*rho*u**2*u1/(-16.0*Ix*Iy*Zw - 16.0*Ix*Iy*m - 16.0*Ix*Mq*Zw - 16.0*Ix*Mq*m + 16.0*Ix*m**2*xG**2 + 16.0*Ixy**2*Zw + 16.0*Ixy**2*m - 16.0*Iy*Kp*Zw - 16.0*Iy*Kp*m - 16.0*Kp*Mq*Zw - 16.0*Kp*Mq*m + 16.0*Kp*m**2*xG**2) - Mq*S2*Zw*r1*rho*u**2*u2/(-16.0*Ix*Iy*Zw - 16.0*Ix*Iy*m - 16.0*Ix*Mq*Zw - 16.0*Ix*Mq*m + 16.0*Ix*m**2*xG**2 + 16.0*Ixy**2*Zw + 16.0*Ixy**2*m - 16.0*Iy*Kp*Zw - 16.0*Iy*Kp*m - 16.0*Kp*Mq*Zw - 16.0*Kp*Mq*m + 16.0*Kp*m**2*xG**2) + Mq*S2*Zw*r1*rho*u1*x2**2/(-16.0*Ix*Iy*Zw - 16.0*Ix*Iy*m - 16.0*Ix*Mq*Zw - 16.0*Ix*Mq*m + 16.0*Ix*m**2*xG**2 + 16.0*Ixy**2*Zw + 16.0*Ixy**2*m - 16.0*Iy*Kp*Zw - 16.0*Iy*Kp*m - 16.0*Kp*Mq*Zw - 16.0*Kp*Mq*m + 16.0*Kp*m**2*xG**2) - Mq*S2*Zw*r1*rho*u2*x2**2/(-16.0*Ix*Iy*Zw - 16.0*Ix*Iy*m - 16.0*Ix*Mq*Zw - 16.0*Ix*Mq*m + 16.0*Ix*m**2*xG**2 + 16.0*Ixy**2*Zw + 16.0*Ixy**2*m - 16.0*Iy*Kp*Zw - 16.0*Iy*Kp*m - 16.0*Kp*Mq*Zw - 16.0*Kp*Mq*m + 16.0*Kp*m**2*xG**2) + Mq*S2*m*r1*rho*u**2*u1/(-16.0*Ix*Iy*Zw - 16.0*Ix*Iy*m - 16.0*Ix*Mq*Zw - 16.0*Ix*Mq*m + 16.0*Ix*m**2*xG**2 + 16.0*Ixy**2*Zw + 16.0*Ixy**2*m - 16.0*Iy*Kp*Zw - 16.0*Iy*Kp*m - 16.0*Kp*Mq*Zw - 16.0*Kp*Mq*m + 16.0*Kp*m**2*xG**2) - Mq*S2*m*r1*rho*u**2*u2/(-16.0*Ix*Iy*Zw - 16.0*Ix*Iy*m - 16.0*Ix*Mq*Zw - 16.0*Ix*Mq*m + 16.0*Ix*m**2*xG**2 + 16.0*Ixy**2*Zw + 16.0*Ixy**2*m - 16.0*Iy*Kp*Zw - 16.0*Iy*Kp*m - 16.0*Kp*Mq*Zw - 16.0*Kp*Mq*m + 16.0*Kp*m**2*xG**2) + Mq*S2*m*r1*rho*u1*x2**2/(-16.0*Ix*Iy*Zw - 16.0*Ix*Iy*m - 16.0*Ix*Mq*Zw - 16.0*Ix*Mq*m + 16.0*Ix*m**2*xG**2 + 16.0*Ixy**2*Zw + 16.0*Ixy**2*m - 16.0*Iy*Kp*Zw - 16.0*Iy*Kp*m - 16.0*Kp*Mq*Zw - 16.0*Kp*Mq*m + 16.0*Kp*m**2*xG**2) - Mq*S2*m*r1*rho*u2*x2**2/(-16.0*Ix*Iy*Zw - 16.0*Ix*Iy*m - 16.0*Ix*Mq*Zw - 16.0*Ix*Mq*m + 16.0*Ix*m**2*xG**2 + 16.0*Ixy**2*Zw + 16.0*Ixy**2*m - 16.0*Iy*Kp*Zw - 16.0*Iy*Kp*m - 16.0*Kp*Mq*Zw - 16.0*Kp*Mq*m + 16.0*Kp*m**2*xG**2) + 16.0*Mq*Zw*dr1*x4/(-16.0*Ix*Iy*Zw - 16.0*Ix*Iy*m - 16.0*Ix*Mq*Zw - 16.0*Ix*Mq*m + 16.0*Ix*m**2*xG**2 + 16.0*Ixy**2*Zw + 16.0*Ixy**2*m - 16.0*Iy*Kp*Zw - 16.0*Iy*Kp*m - 16.0*Kp*Mq*Zw - 16.0*Kp*Mq*m + 16.0*Kp*m**2*xG**2) + 16.0*Mq*Zw*dr2*x4**2/(-16.0*Ix*Iy*Zw - 16.0*Ix*Iy*m - 16.0*Ix*Mq*Zw - 16.0*Ix*Mq*m + 16.0*Ix*m**2*xG**2 + 16.0*Ixy**2*Zw + 16.0*Ixy**2*m - 16.0*Iy*Kp*Zw - 16.0*Iy*Kp*m - 16.0*Kp*Mq*Zw - 16.0*Kp*Mq*m + 16.0*Kp*m**2*xG**2) + 16.0*Mq*dr1*m*x4/(-16.0*Ix*Iy*Zw - 16.0*Ix*Iy*m - 16.0*Ix*Mq*Zw - 16.0*Ix*Mq*m + 16.0*Ix*m**2*xG**2 + 16.0*Ixy**2*Zw + 16.0*Ixy**2*m - 16.0*Iy*Kp*Zw - 16.0*Iy*Kp*m - 16.0*Kp*Mq*Zw - 16.0*Kp*Mq*m + 16.0*Kp*m**2*xG**2) + 16.0*Mq*dr2*m*x4**2/(-16.0*Ix*Iy*Zw - 16.0*Ix*Iy*m - 16.0*Ix*Mq*Zw - 16.0*Ix*Mq*m + 16.0*Ix*m**2*xG**2 + 16.0*Ixy**2*Zw + 16.0*Ixy**2*m - 16.0*Iy*Kp*Zw - 16.0*Iy*Kp*m - 16.0*Kp*Mq*Zw - 16.0*Kp*Mq*m + 16.0*Kp*m**2*xG**2) - S2*m**2*r1*rho*u**2*u1*xG**2/(-16.0*Ix*Iy*Zw - 16.0*Ix*Iy*m - 16.0*Ix*Mq*Zw - 16.0*Ix*Mq*m + 16.0*Ix*m**2*xG**2 + 16.0*Ixy**2*Zw + 16.0*Ixy**2*m - 16.0*Iy*Kp*Zw - 16.0*Iy*Kp*m - 16.0*Kp*Mq*Zw - 16.0*Kp*Mq*m + 16.0*Kp*m**2*xG**2) + S2*m**2*r1*rho*u**2*u2*xG**2/(-16.0*Ix*Iy*Zw - 16.0*Ix*Iy*m - 16.0*Ix*Mq*Zw - 16.0*Ix*Mq*m + 16.0*Ix*m**2*xG**2 + 16.0*Ixy**2*Zw + 16.0*Ixy**2*m - 16.0*Iy*Kp*Zw - 16.0*Iy*Kp*m - 16.0*Kp*Mq*Zw - 16.0*Kp*Mq*m + 16.0*Kp*m**2*xG**2) - S2*m**2*r1*rho*u1*x2**2*xG**2/(-16.0*Ix*Iy*Zw - 16.0*Ix*Iy*m - 16.0*Ix*Mq*Zw - 16.0*Ix*Mq*m + 16.0*Ix*m**2*xG**2 + 16.0*Ixy**2*Zw + 16.0*Ixy**2*m - 16.0*Iy*Kp*Zw - 16.0*Iy*Kp*m - 16.0*Kp*Mq*Zw - 16.0*Kp*Mq*m + 16.0*Kp*m**2*xG**2) + S2*m**2*r1*rho*u2*x2**2*xG**2/(-16.0*Ix*Iy*Zw - 16.0*Ix*Iy*m - 16.0*Ix*Mq*Zw - 16.0*Ix*Mq*m + 16.0*Ix*m**2*xG**2 + 16.0*Ixy**2*Zw + 16.0*Ixy**2*m - 16.0*Iy*Kp*Zw - 16.0*Iy*Kp*m - 16.0*Kp*Mq*Zw - 16.0*Kp*Mq*m + 16.0*Kp*m**2*xG**2) - 16.0*dr1*m**2*x4*xG**2/(-16.0*Ix*Iy*Zw - 16.0*Ix*Iy*m - 16.0*Ix*Mq*Zw - 16.0*Ix*Mq*m + 16.0*Ix*m**2*xG**2 + 16.0*Ixy**2*Zw + 16.0*Ixy**2*m - 16.0*Iy*Kp*Zw - 16.0*Iy*Kp*m - 16.0*Kp*Mq*Zw - 16.0*Kp*Mq*m + 16.0*Kp*m**2*xG**2) - 16.0*dr2*m**2*x4**2*xG**2/(-16.0*Ix*Iy*Zw - 16.0*Ix*Iy*m - 16.0*Ix*Mq*Zw - 16.0*Ix*Mq*m + 16.0*Ix*m**2*xG**2 + 16.0*Ixy**2*Zw + 16.0*Ixy**2*m - 16.0*Iy*Kp*Zw - 16.0*Iy*Kp*m - 16.0*Kp*Mq*Zw - 16.0*Kp*Mq*m + 16.0*Kp*m**2*xG**2)"
   ]
  },
  {
   "cell_type": "code",
   "execution_count": 9,
   "id": "saving-shaft",
   "metadata": {},
   "outputs": [],
   "source": [
    "x6d = -16.0*Ix*Ixz*Zw*x4**2/(-16.0*Ix*Iy*Zw - 16.0*Ix*Iy*m - 16.0*Ix*Mq*Zw - 16.0*Ix*Mq*m + 16.0*Ix*m**2*xG**2 + 16.0*Ixy**2*Zw + 16.0*Ixy**2*m - 16.0*Iy*Kp*Zw - 16.0*Iy*Kp*m - 16.0*Kp*Mq*Zw - 16.0*Kp*Mq*m + 16.0*Kp*m**2*xG**2) - 16.0*Ix*Ixz*m*x4**2/(-16.0*Ix*Iy*Zw - 16.0*Ix*Iy*m - 16.0*Ix*Mq*Zw - 16.0*Ix*Mq*m + 16.0*Ix*m**2*xG**2 + 16.0*Ixy**2*Zw + 16.0*Ixy**2*m - 16.0*Iy*Kp*Zw - 16.0*Iy*Kp*m - 16.0*Kp*Mq*Zw - 16.0*Kp*Mq*m + 16.0*Kp*m**2*xG**2) - 16.0*Ix*Iyz*Zw*x4*x6/(-16.0*Ix*Iy*Zw - 16.0*Ix*Iy*m - 16.0*Ix*Mq*Zw - 16.0*Ix*Mq*m + 16.0*Ix*m**2*xG**2 + 16.0*Ixy**2*Zw + 16.0*Ixy**2*m - 16.0*Iy*Kp*Zw - 16.0*Iy*Kp*m - 16.0*Kp*Mq*Zw - 16.0*Kp*Mq*m + 16.0*Kp*m**2*xG**2) - 16.0*Ix*Iyz*m*x4*x6/(-16.0*Ix*Iy*Zw - 16.0*Ix*Iy*m - 16.0*Ix*Mq*Zw - 16.0*Ix*Mq*m + 16.0*Ix*m**2*xG**2 + 16.0*Ixy**2*Zw + 16.0*Ixy**2*m - 16.0*Iy*Kp*Zw - 16.0*Iy*Kp*m - 16.0*Kp*Mq*Zw - 16.0*Kp*Mq*m + 16.0*Kp*m**2*xG**2) - 2.0*Ix*S1*Zw*d1*rho*u**2*x5/(-16.0*Ix*Iy*Zw - 16.0*Ix*Iy*m - 16.0*Ix*Mq*Zw - 16.0*Ix*Mq*m + 16.0*Ix*m**2*xG**2 + 16.0*Ixy**2*Zw + 16.0*Ixy**2*m - 16.0*Iy*Kp*Zw - 16.0*Iy*Kp*m - 16.0*Kp*Mq*Zw - 16.0*Kp*Mq*m + 16.0*Kp*m**2*xG**2) - 2.0*Ix*S1*Zw*d1*rho*x2**2*x5/(-16.0*Ix*Iy*Zw - 16.0*Ix*Iy*m - 16.0*Ix*Mq*Zw - 16.0*Ix*Mq*m + 16.0*Ix*m**2*xG**2 + 16.0*Ixy**2*Zw + 16.0*Ixy**2*m - 16.0*Iy*Kp*Zw - 16.0*Iy*Kp*m - 16.0*Kp*Mq*Zw - 16.0*Kp*Mq*m + 16.0*Kp*m**2*xG**2) - 2.0*Ix*S1*d1*m*rho*u**2*x5/(-16.0*Ix*Iy*Zw - 16.0*Ix*Iy*m - 16.0*Ix*Mq*Zw - 16.0*Ix*Mq*m + 16.0*Ix*m**2*xG**2 + 16.0*Ixy**2*Zw + 16.0*Ixy**2*m - 16.0*Iy*Kp*Zw - 16.0*Iy*Kp*m - 16.0*Kp*Mq*Zw - 16.0*Kp*Mq*m + 16.0*Kp*m**2*xG**2) - 2.0*Ix*S1*d1*m*rho*x2**2*x5/(-16.0*Ix*Iy*Zw - 16.0*Ix*Iy*m - 16.0*Ix*Mq*Zw - 16.0*Ix*Mq*m + 16.0*Ix*m**2*xG**2 + 16.0*Ixy**2*Zw + 16.0*Ixy**2*m - 16.0*Iy*Kp*Zw - 16.0*Iy*Kp*m - 16.0*Kp*Mq*Zw - 16.0*Kp*Mq*m + 16.0*Kp*m**2*xG**2) - 2.0*Ix*S1*m*rho*u**2*x5*xG/(-16.0*Ix*Iy*Zw - 16.0*Ix*Iy*m - 16.0*Ix*Mq*Zw - 16.0*Ix*Mq*m + 16.0*Ix*m**2*xG**2 + 16.0*Ixy**2*Zw + 16.0*Ixy**2*m - 16.0*Iy*Kp*Zw - 16.0*Iy*Kp*m - 16.0*Kp*Mq*Zw - 16.0*Kp*Mq*m + 16.0*Kp*m**2*xG**2) - 2.0*Ix*S1*m*rho*x2**2*x5*xG/(-16.0*Ix*Iy*Zw - 16.0*Ix*Iy*m - 16.0*Ix*Mq*Zw - 16.0*Ix*Mq*m + 16.0*Ix*m**2*xG**2 + 16.0*Ixy**2*Zw + 16.0*Ixy**2*m - 16.0*Iy*Kp*Zw - 16.0*Iy*Kp*m - 16.0*Kp*Mq*Zw - 16.0*Kp*Mq*m + 16.0*Kp*m**2*xG**2) + Ix*S2*Zw*d2*rho*u**2*u1/(-16.0*Ix*Iy*Zw - 16.0*Ix*Iy*m - 16.0*Ix*Mq*Zw - 16.0*Ix*Mq*m + 16.0*Ix*m**2*xG**2 + 16.0*Ixy**2*Zw + 16.0*Ixy**2*m - 16.0*Iy*Kp*Zw - 16.0*Iy*Kp*m - 16.0*Kp*Mq*Zw - 16.0*Kp*Mq*m + 16.0*Kp*m**2*xG**2) + Ix*S2*Zw*d2*rho*u**2*u2/(-16.0*Ix*Iy*Zw - 16.0*Ix*Iy*m - 16.0*Ix*Mq*Zw - 16.0*Ix*Mq*m + 16.0*Ix*m**2*xG**2 + 16.0*Ixy**2*Zw + 16.0*Ixy**2*m - 16.0*Iy*Kp*Zw - 16.0*Iy*Kp*m - 16.0*Kp*Mq*Zw - 16.0*Kp*Mq*m + 16.0*Kp*m**2*xG**2) - 2.0*Ix*S2*Zw*d2*rho*u**2*x5/(-16.0*Ix*Iy*Zw - 16.0*Ix*Iy*m - 16.0*Ix*Mq*Zw - 16.0*Ix*Mq*m + 16.0*Ix*m**2*xG**2 + 16.0*Ixy**2*Zw + 16.0*Ixy**2*m - 16.0*Iy*Kp*Zw - 16.0*Iy*Kp*m - 16.0*Kp*Mq*Zw - 16.0*Kp*Mq*m + 16.0*Kp*m**2*xG**2) + Ix*S2*Zw*d2*rho*u1*x2**2/(-16.0*Ix*Iy*Zw - 16.0*Ix*Iy*m - 16.0*Ix*Mq*Zw - 16.0*Ix*Mq*m + 16.0*Ix*m**2*xG**2 + 16.0*Ixy**2*Zw + 16.0*Ixy**2*m - 16.0*Iy*Kp*Zw - 16.0*Iy*Kp*m - 16.0*Kp*Mq*Zw - 16.0*Kp*Mq*m + 16.0*Kp*m**2*xG**2) + Ix*S2*Zw*d2*rho*u2*x2**2/(-16.0*Ix*Iy*Zw - 16.0*Ix*Iy*m - 16.0*Ix*Mq*Zw - 16.0*Ix*Mq*m + 16.0*Ix*m**2*xG**2 + 16.0*Ixy**2*Zw + 16.0*Ixy**2*m - 16.0*Iy*Kp*Zw - 16.0*Iy*Kp*m - 16.0*Kp*Mq*Zw - 16.0*Kp*Mq*m + 16.0*Kp*m**2*xG**2) - 2.0*Ix*S2*Zw*d2*rho*x2**2*x5/(-16.0*Ix*Iy*Zw - 16.0*Ix*Iy*m - 16.0*Ix*Mq*Zw - 16.0*Ix*Mq*m + 16.0*Ix*m**2*xG**2 + 16.0*Ixy**2*Zw + 16.0*Ixy**2*m - 16.0*Iy*Kp*Zw - 16.0*Iy*Kp*m - 16.0*Kp*Mq*Zw - 16.0*Kp*Mq*m + 16.0*Kp*m**2*xG**2) + Ix*S2*d2*m*rho*u**2*u1/(-16.0*Ix*Iy*Zw - 16.0*Ix*Iy*m - 16.0*Ix*Mq*Zw - 16.0*Ix*Mq*m + 16.0*Ix*m**2*xG**2 + 16.0*Ixy**2*Zw + 16.0*Ixy**2*m - 16.0*Iy*Kp*Zw - 16.0*Iy*Kp*m - 16.0*Kp*Mq*Zw - 16.0*Kp*Mq*m + 16.0*Kp*m**2*xG**2) + Ix*S2*d2*m*rho*u**2*u2/(-16.0*Ix*Iy*Zw - 16.0*Ix*Iy*m - 16.0*Ix*Mq*Zw - 16.0*Ix*Mq*m + 16.0*Ix*m**2*xG**2 + 16.0*Ixy**2*Zw + 16.0*Ixy**2*m - 16.0*Iy*Kp*Zw - 16.0*Iy*Kp*m - 16.0*Kp*Mq*Zw - 16.0*Kp*Mq*m + 16.0*Kp*m**2*xG**2) - 2.0*Ix*S2*d2*m*rho*u**2*x5/(-16.0*Ix*Iy*Zw - 16.0*Ix*Iy*m - 16.0*Ix*Mq*Zw - 16.0*Ix*Mq*m + 16.0*Ix*m**2*xG**2 + 16.0*Ixy**2*Zw + 16.0*Ixy**2*m - 16.0*Iy*Kp*Zw - 16.0*Iy*Kp*m - 16.0*Kp*Mq*Zw - 16.0*Kp*Mq*m + 16.0*Kp*m**2*xG**2) + Ix*S2*d2*m*rho*u1*x2**2/(-16.0*Ix*Iy*Zw - 16.0*Ix*Iy*m - 16.0*Ix*Mq*Zw - 16.0*Ix*Mq*m + 16.0*Ix*m**2*xG**2 + 16.0*Ixy**2*Zw + 16.0*Ixy**2*m - 16.0*Iy*Kp*Zw - 16.0*Iy*Kp*m - 16.0*Kp*Mq*Zw - 16.0*Kp*Mq*m + 16.0*Kp*m**2*xG**2) + Ix*S2*d2*m*rho*u2*x2**2/(-16.0*Ix*Iy*Zw - 16.0*Ix*Iy*m - 16.0*Ix*Mq*Zw - 16.0*Ix*Mq*m + 16.0*Ix*m**2*xG**2 + 16.0*Ixy**2*Zw + 16.0*Ixy**2*m - 16.0*Iy*Kp*Zw - 16.0*Iy*Kp*m - 16.0*Kp*Mq*Zw - 16.0*Kp*Mq*m + 16.0*Kp*m**2*xG**2) - 2.0*Ix*S2*d2*m*rho*x2**2*x5/(-16.0*Ix*Iy*Zw - 16.0*Ix*Iy*m - 16.0*Ix*Mq*Zw - 16.0*Ix*Mq*m + 16.0*Ix*m**2*xG**2 + 16.0*Ixy**2*Zw + 16.0*Ixy**2*m - 16.0*Iy*Kp*Zw - 16.0*Iy*Kp*m - 16.0*Kp*Mq*Zw - 16.0*Kp*Mq*m + 16.0*Kp*m**2*xG**2) + Ix*S2*m*rho*u**2*u1*xG/(-16.0*Ix*Iy*Zw - 16.0*Ix*Iy*m - 16.0*Ix*Mq*Zw - 16.0*Ix*Mq*m + 16.0*Ix*m**2*xG**2 + 16.0*Ixy**2*Zw + 16.0*Ixy**2*m - 16.0*Iy*Kp*Zw - 16.0*Iy*Kp*m - 16.0*Kp*Mq*Zw - 16.0*Kp*Mq*m + 16.0*Kp*m**2*xG**2) + Ix*S2*m*rho*u**2*u2*xG/(-16.0*Ix*Iy*Zw - 16.0*Ix*Iy*m - 16.0*Ix*Mq*Zw - 16.0*Ix*Mq*m + 16.0*Ix*m**2*xG**2 + 16.0*Ixy**2*Zw + 16.0*Ixy**2*m - 16.0*Iy*Kp*Zw - 16.0*Iy*Kp*m - 16.0*Kp*Mq*Zw - 16.0*Kp*Mq*m + 16.0*Kp*m**2*xG**2) - 2.0*Ix*S2*m*rho*u**2*x5*xG/(-16.0*Ix*Iy*Zw - 16.0*Ix*Iy*m - 16.0*Ix*Mq*Zw - 16.0*Ix*Mq*m + 16.0*Ix*m**2*xG**2 + 16.0*Ixy**2*Zw + 16.0*Ixy**2*m - 16.0*Iy*Kp*Zw - 16.0*Iy*Kp*m - 16.0*Kp*Mq*Zw - 16.0*Kp*Mq*m + 16.0*Kp*m**2*xG**2) + Ix*S2*m*rho*u1*x2**2*xG/(-16.0*Ix*Iy*Zw - 16.0*Ix*Iy*m - 16.0*Ix*Mq*Zw - 16.0*Ix*Mq*m + 16.0*Ix*m**2*xG**2 + 16.0*Ixy**2*Zw + 16.0*Ixy**2*m - 16.0*Iy*Kp*Zw - 16.0*Iy*Kp*m - 16.0*Kp*Mq*Zw - 16.0*Kp*Mq*m + 16.0*Kp*m**2*xG**2) + Ix*S2*m*rho*u2*x2**2*xG/(-16.0*Ix*Iy*Zw - 16.0*Ix*Iy*m - 16.0*Ix*Mq*Zw - 16.0*Ix*Mq*m + 16.0*Ix*m**2*xG**2 + 16.0*Ixy**2*Zw + 16.0*Ixy**2*m - 16.0*Iy*Kp*Zw - 16.0*Iy*Kp*m - 16.0*Kp*Mq*Zw - 16.0*Kp*Mq*m + 16.0*Kp*m**2*xG**2) - 2.0*Ix*S2*m*rho*x2**2*x5*xG/(-16.0*Ix*Iy*Zw - 16.0*Ix*Iy*m - 16.0*Ix*Mq*Zw - 16.0*Ix*Mq*m + 16.0*Ix*m**2*xG**2 + 16.0*Ixy**2*Zw + 16.0*Ixy**2*m - 16.0*Iy*Kp*Zw - 16.0*Iy*Kp*m - 16.0*Kp*Mq*Zw - 16.0*Kp*Mq*m + 16.0*Kp*m**2*xG**2) - 2.0*Ix*S3*Zw*d3*rho*u**2*x5/(-16.0*Ix*Iy*Zw - 16.0*Ix*Iy*m - 16.0*Ix*Mq*Zw - 16.0*Ix*Mq*m + 16.0*Ix*m**2*xG**2 + 16.0*Ixy**2*Zw + 16.0*Ixy**2*m - 16.0*Iy*Kp*Zw - 16.0*Iy*Kp*m - 16.0*Kp*Mq*Zw - 16.0*Kp*Mq*m + 16.0*Kp*m**2*xG**2) - 2.0*Ix*S3*Zw*d3*rho*x2**2*x5/(-16.0*Ix*Iy*Zw - 16.0*Ix*Iy*m - 16.0*Ix*Mq*Zw - 16.0*Ix*Mq*m + 16.0*Ix*m**2*xG**2 + 16.0*Ixy**2*Zw + 16.0*Ixy**2*m - 16.0*Iy*Kp*Zw - 16.0*Iy*Kp*m - 16.0*Kp*Mq*Zw - 16.0*Kp*Mq*m + 16.0*Kp*m**2*xG**2) - 2.0*Ix*S3*d3*m*rho*u**2*x5/(-16.0*Ix*Iy*Zw - 16.0*Ix*Iy*m - 16.0*Ix*Mq*Zw - 16.0*Ix*Mq*m + 16.0*Ix*m**2*xG**2 + 16.0*Ixy**2*Zw + 16.0*Ixy**2*m - 16.0*Iy*Kp*Zw - 16.0*Iy*Kp*m - 16.0*Kp*Mq*Zw - 16.0*Kp*Mq*m + 16.0*Kp*m**2*xG**2) - 2.0*Ix*S3*d3*m*rho*x2**2*x5/(-16.0*Ix*Iy*Zw - 16.0*Ix*Iy*m - 16.0*Ix*Mq*Zw - 16.0*Ix*Mq*m + 16.0*Ix*m**2*xG**2 + 16.0*Ixy**2*Zw + 16.0*Ixy**2*m - 16.0*Iy*Kp*Zw - 16.0*Iy*Kp*m - 16.0*Kp*Mq*Zw - 16.0*Kp*Mq*m + 16.0*Kp*m**2*xG**2) - 2.0*Ix*S3*m*rho*u**2*x5*xG/(-16.0*Ix*Iy*Zw - 16.0*Ix*Iy*m - 16.0*Ix*Mq*Zw - 16.0*Ix*Mq*m + 16.0*Ix*m**2*xG**2 + 16.0*Ixy**2*Zw + 16.0*Ixy**2*m - 16.0*Iy*Kp*Zw - 16.0*Iy*Kp*m - 16.0*Kp*Mq*Zw - 16.0*Kp*Mq*m + 16.0*Kp*m**2*xG**2) - 2.0*Ix*S3*m*rho*x2**2*x5*xG/(-16.0*Ix*Iy*Zw - 16.0*Ix*Iy*m - 16.0*Ix*Mq*Zw - 16.0*Ix*Mq*m + 16.0*Ix*m**2*xG**2 + 16.0*Ixy**2*Zw + 16.0*Ixy**2*m - 16.0*Iy*Kp*Zw - 16.0*Iy*Kp*m - 16.0*Kp*Mq*Zw - 16.0*Kp*Mq*m + 16.0*Kp*m**2*xG**2) + 2.0*Ix*S4*Zw*d4*rho*u**2*u3/(-16.0*Ix*Iy*Zw - 16.0*Ix*Iy*m - 16.0*Ix*Mq*Zw - 16.0*Ix*Mq*m + 16.0*Ix*m**2*xG**2 + 16.0*Ixy**2*Zw + 16.0*Ixy**2*m - 16.0*Iy*Kp*Zw - 16.0*Iy*Kp*m - 16.0*Kp*Mq*Zw - 16.0*Kp*Mq*m + 16.0*Kp*m**2*xG**2) - 2.0*Ix*S4*Zw*d4*rho*u**2*x5/(-16.0*Ix*Iy*Zw - 16.0*Ix*Iy*m - 16.0*Ix*Mq*Zw - 16.0*Ix*Mq*m + 16.0*Ix*m**2*xG**2 + 16.0*Ixy**2*Zw + 16.0*Ixy**2*m - 16.0*Iy*Kp*Zw - 16.0*Iy*Kp*m - 16.0*Kp*Mq*Zw - 16.0*Kp*Mq*m + 16.0*Kp*m**2*xG**2) + 2.0*Ix*S4*Zw*d4*rho*u3*x2**2/(-16.0*Ix*Iy*Zw - 16.0*Ix*Iy*m - 16.0*Ix*Mq*Zw - 16.0*Ix*Mq*m + 16.0*Ix*m**2*xG**2 + 16.0*Ixy**2*Zw + 16.0*Ixy**2*m - 16.0*Iy*Kp*Zw - 16.0*Iy*Kp*m - 16.0*Kp*Mq*Zw - 16.0*Kp*Mq*m + 16.0*Kp*m**2*xG**2) - 2.0*Ix*S4*Zw*d4*rho*x2**2*x5/(-16.0*Ix*Iy*Zw - 16.0*Ix*Iy*m - 16.0*Ix*Mq*Zw - 16.0*Ix*Mq*m + 16.0*Ix*m**2*xG**2 + 16.0*Ixy**2*Zw + 16.0*Ixy**2*m - 16.0*Iy*Kp*Zw - 16.0*Iy*Kp*m - 16.0*Kp*Mq*Zw - 16.0*Kp*Mq*m + 16.0*Kp*m**2*xG**2) + 2.0*Ix*S4*d4*m*rho*u**2*u3/(-16.0*Ix*Iy*Zw - 16.0*Ix*Iy*m - 16.0*Ix*Mq*Zw - 16.0*Ix*Mq*m + 16.0*Ix*m**2*xG**2 + 16.0*Ixy**2*Zw + 16.0*Ixy**2*m - 16.0*Iy*Kp*Zw - 16.0*Iy*Kp*m - 16.0*Kp*Mq*Zw - 16.0*Kp*Mq*m + 16.0*Kp*m**2*xG**2) - 2.0*Ix*S4*d4*m*rho*u**2*x5/(-16.0*Ix*Iy*Zw - 16.0*Ix*Iy*m - 16.0*Ix*Mq*Zw - 16.0*Ix*Mq*m + 16.0*Ix*m**2*xG**2 + 16.0*Ixy**2*Zw + 16.0*Ixy**2*m - 16.0*Iy*Kp*Zw - 16.0*Iy*Kp*m - 16.0*Kp*Mq*Zw - 16.0*Kp*Mq*m + 16.0*Kp*m**2*xG**2) + 2.0*Ix*S4*d4*m*rho*u3*x2**2/(-16.0*Ix*Iy*Zw - 16.0*Ix*Iy*m - 16.0*Ix*Mq*Zw - 16.0*Ix*Mq*m + 16.0*Ix*m**2*xG**2 + 16.0*Ixy**2*Zw + 16.0*Ixy**2*m - 16.0*Iy*Kp*Zw - 16.0*Iy*Kp*m - 16.0*Kp*Mq*Zw - 16.0*Kp*Mq*m + 16.0*Kp*m**2*xG**2) - 2.0*Ix*S4*d4*m*rho*x2**2*x5/(-16.0*Ix*Iy*Zw - 16.0*Ix*Iy*m - 16.0*Ix*Mq*Zw - 16.0*Ix*Mq*m + 16.0*Ix*m**2*xG**2 + 16.0*Ixy**2*Zw + 16.0*Ixy**2*m - 16.0*Iy*Kp*Zw - 16.0*Iy*Kp*m - 16.0*Kp*Mq*Zw - 16.0*Kp*Mq*m + 16.0*Kp*m**2*xG**2) + 2.0*Ix*S4*m*rho*u**2*u3*xG/(-16.0*Ix*Iy*Zw - 16.0*Ix*Iy*m - 16.0*Ix*Mq*Zw - 16.0*Ix*Mq*m + 16.0*Ix*m**2*xG**2 + 16.0*Ixy**2*Zw + 16.0*Ixy**2*m - 16.0*Iy*Kp*Zw - 16.0*Iy*Kp*m - 16.0*Kp*Mq*Zw - 16.0*Kp*Mq*m + 16.0*Kp*m**2*xG**2) - 2.0*Ix*S4*m*rho*u**2*x5*xG/(-16.0*Ix*Iy*Zw - 16.0*Ix*Iy*m - 16.0*Ix*Mq*Zw - 16.0*Ix*Mq*m + 16.0*Ix*m**2*xG**2 + 16.0*Ixy**2*Zw + 16.0*Ixy**2*m - 16.0*Iy*Kp*Zw - 16.0*Iy*Kp*m - 16.0*Kp*Mq*Zw - 16.0*Kp*Mq*m + 16.0*Kp*m**2*xG**2) + 2.0*Ix*S4*m*rho*u3*x2**2*xG/(-16.0*Ix*Iy*Zw - 16.0*Ix*Iy*m - 16.0*Ix*Mq*Zw - 16.0*Ix*Mq*m + 16.0*Ix*m**2*xG**2 + 16.0*Ixy**2*Zw + 16.0*Ixy**2*m - 16.0*Iy*Kp*Zw - 16.0*Iy*Kp*m - 16.0*Kp*Mq*Zw - 16.0*Kp*Mq*m + 16.0*Kp*m**2*xG**2) - 2.0*Ix*S4*m*rho*x2**2*x5*xG/(-16.0*Ix*Iy*Zw - 16.0*Ix*Iy*m - 16.0*Ix*Mq*Zw - 16.0*Ix*Mq*m + 16.0*Ix*m**2*xG**2 + 16.0*Ixy**2*Zw + 16.0*Ixy**2*m - 16.0*Iy*Kp*Zw - 16.0*Iy*Kp*m - 16.0*Kp*Mq*Zw - 16.0*Kp*Mq*m + 16.0*Kp*m**2*xG**2) - 16.0*Ix*Vol*Zw*db*g*rho*sin(x5)/(-16.0*Ix*Iy*Zw - 16.0*Ix*Iy*m - 16.0*Ix*Mq*Zw - 16.0*Ix*Mq*m + 16.0*Ix*m**2*xG**2 + 16.0*Ixy**2*Zw + 16.0*Ixy**2*m - 16.0*Iy*Kp*Zw - 16.0*Iy*Kp*m - 16.0*Kp*Mq*Zw - 16.0*Kp*Mq*m + 16.0*Kp*m**2*xG**2) - 16.0*Ix*Vol*db*g*m*rho*sin(x5)/(-16.0*Ix*Iy*Zw - 16.0*Ix*Iy*m - 16.0*Ix*Mq*Zw - 16.0*Ix*Mq*m + 16.0*Ix*m**2*xG**2 + 16.0*Ixy**2*Zw + 16.0*Ixy**2*m - 16.0*Iy*Kp*Zw - 16.0*Iy*Kp*m - 16.0*Kp*Mq*Zw - 16.0*Kp*Mq*m + 16.0*Kp*m**2*xG**2) - 16.0*Ix*Vol*g*m*rho*xG*sin(x5)/(-16.0*Ix*Iy*Zw - 16.0*Ix*Iy*m - 16.0*Ix*Mq*Zw - 16.0*Ix*Mq*m + 16.0*Ix*m**2*xG**2 + 16.0*Ixy**2*Zw + 16.0*Ixy**2*m - 16.0*Iy*Kp*Zw - 16.0*Iy*Kp*m - 16.0*Kp*Mq*Zw - 16.0*Kp*Mq*m + 16.0*Kp*m**2*xG**2) - 16.0*Ix*Zw**2*u*x2/(-16.0*Ix*Iy*Zw - 16.0*Ix*Iy*m - 16.0*Ix*Mq*Zw - 16.0*Ix*Mq*m + 16.0*Ix*m**2*xG**2 + 16.0*Ixy**2*Zw + 16.0*Ixy**2*m - 16.0*Iy*Kp*Zw - 16.0*Iy*Kp*m - 16.0*Kp*Mq*Zw - 16.0*Kp*Mq*m + 16.0*Kp*m**2*xG**2) + 16.0*Ix*Zw*dg*g*m*sin(x5)/(-16.0*Ix*Iy*Zw - 16.0*Ix*Iy*m - 16.0*Ix*Mq*Zw - 16.0*Ix*Mq*m + 16.0*Ix*m**2*xG**2 + 16.0*Ixy**2*Zw + 16.0*Ixy**2*m - 16.0*Iy*Kp*Zw - 16.0*Iy*Kp*m - 16.0*Kp*Mq*Zw - 16.0*Kp*Mq*m + 16.0*Kp*m**2*xG**2) + 16.0*Ix*Zw*dp1*x6/(-16.0*Ix*Iy*Zw - 16.0*Ix*Iy*m - 16.0*Ix*Mq*Zw - 16.0*Ix*Mq*m + 16.0*Ix*m**2*xG**2 + 16.0*Ixy**2*Zw + 16.0*Ixy**2*m - 16.0*Iy*Kp*Zw - 16.0*Iy*Kp*m - 16.0*Kp*Mq*Zw - 16.0*Kp*Mq*m + 16.0*Kp*m**2*xG**2) + 16.0*Ix*Zw*dp2*x6**2/(-16.0*Ix*Iy*Zw - 16.0*Ix*Iy*m - 16.0*Ix*Mq*Zw - 16.0*Ix*Mq*m + 16.0*Ix*m**2*xG**2 + 16.0*Ixy**2*Zw + 16.0*Ixy**2*m - 16.0*Iy*Kp*Zw - 16.0*Iy*Kp*m - 16.0*Kp*Mq*Zw - 16.0*Kp*Mq*m + 16.0*Kp*m**2*xG**2) - 16.0*Ix*Zw*m*u*x2/(-16.0*Ix*Iy*Zw - 16.0*Ix*Iy*m - 16.0*Ix*Mq*Zw - 16.0*Ix*Mq*m + 16.0*Ix*m**2*xG**2 + 16.0*Ixy**2*Zw + 16.0*Ixy**2*m - 16.0*Iy*Kp*Zw - 16.0*Iy*Kp*m - 16.0*Kp*Mq*Zw - 16.0*Kp*Mq*m + 16.0*Kp*m**2*xG**2) - 16.0*Ix*Zw*m*u*x6*xG/(-16.0*Ix*Iy*Zw - 16.0*Ix*Iy*m - 16.0*Ix*Mq*Zw - 16.0*Ix*Mq*m + 16.0*Ix*m**2*xG**2 + 16.0*Ixy**2*Zw + 16.0*Ixy**2*m - 16.0*Iy*Kp*Zw - 16.0*Iy*Kp*m - 16.0*Kp*Mq*Zw - 16.0*Kp*Mq*m + 16.0*Kp*m**2*xG**2) + 16.0*Ix*dg*g*m**2*sin(x5)/(-16.0*Ix*Iy*Zw - 16.0*Ix*Iy*m - 16.0*Ix*Mq*Zw - 16.0*Ix*Mq*m + 16.0*Ix*m**2*xG**2 + 16.0*Ixy**2*Zw + 16.0*Ixy**2*m - 16.0*Iy*Kp*Zw - 16.0*Iy*Kp*m - 16.0*Kp*Mq*Zw - 16.0*Kp*Mq*m + 16.0*Kp*m**2*xG**2) + 16.0*Ix*dh1*m*x2*xG/(-16.0*Ix*Iy*Zw - 16.0*Ix*Iy*m - 16.0*Ix*Mq*Zw - 16.0*Ix*Mq*m + 16.0*Ix*m**2*xG**2 + 16.0*Ixy**2*Zw + 16.0*Ixy**2*m - 16.0*Iy*Kp*Zw - 16.0*Iy*Kp*m - 16.0*Kp*Mq*Zw - 16.0*Kp*Mq*m + 16.0*Kp*m**2*xG**2) + 16.0*Ix*dh2*m*x2**2*xG/(-16.0*Ix*Iy*Zw - 16.0*Ix*Iy*m - 16.0*Ix*Mq*Zw - 16.0*Ix*Mq*m + 16.0*Ix*m**2*xG**2 + 16.0*Ixy**2*Zw + 16.0*Ixy**2*m - 16.0*Iy*Kp*Zw - 16.0*Iy*Kp*m - 16.0*Kp*Mq*Zw - 16.0*Kp*Mq*m + 16.0*Kp*m**2*xG**2) + 16.0*Ix*dp1*m*x6/(-16.0*Ix*Iy*Zw - 16.0*Ix*Iy*m - 16.0*Ix*Mq*Zw - 16.0*Ix*Mq*m + 16.0*Ix*m**2*xG**2 + 16.0*Ixy**2*Zw + 16.0*Ixy**2*m - 16.0*Iy*Kp*Zw - 16.0*Iy*Kp*m - 16.0*Kp*Mq*Zw - 16.0*Kp*Mq*m + 16.0*Kp*m**2*xG**2) + 16.0*Ix*dp2*m*x6**2/(-16.0*Ix*Iy*Zw - 16.0*Ix*Iy*m - 16.0*Ix*Mq*Zw - 16.0*Ix*Mq*m + 16.0*Ix*m**2*xG**2 + 16.0*Ixy**2*Zw + 16.0*Ixy**2*m - 16.0*Iy*Kp*Zw - 16.0*Iy*Kp*m - 16.0*Kp*Mq*Zw - 16.0*Kp*Mq*m + 16.0*Kp*m**2*xG**2) + 16.0*Ix*g*m**2*xG*sin(x5)/(-16.0*Ix*Iy*Zw - 16.0*Ix*Iy*m - 16.0*Ix*Mq*Zw - 16.0*Ix*Mq*m + 16.0*Ix*m**2*xG**2 + 16.0*Ixy**2*Zw + 16.0*Ixy**2*m - 16.0*Iy*Kp*Zw - 16.0*Iy*Kp*m - 16.0*Kp*Mq*Zw - 16.0*Kp*Mq*m + 16.0*Kp*m**2*xG**2) + 16.0*Ixy*Ixz*Zw*x4*x6/(-16.0*Ix*Iy*Zw - 16.0*Ix*Iy*m - 16.0*Ix*Mq*Zw - 16.0*Ix*Mq*m + 16.0*Ix*m**2*xG**2 + 16.0*Ixy**2*Zw + 16.0*Ixy**2*m - 16.0*Iy*Kp*Zw - 16.0*Iy*Kp*m - 16.0*Kp*Mq*Zw - 16.0*Kp*Mq*m + 16.0*Kp*m**2*xG**2) + 16.0*Ixy*Ixz*m*x4*x6/(-16.0*Ix*Iy*Zw - 16.0*Ix*Iy*m - 16.0*Ix*Mq*Zw - 16.0*Ix*Mq*m + 16.0*Ix*m**2*xG**2 + 16.0*Ixy**2*Zw + 16.0*Ixy**2*m - 16.0*Iy*Kp*Zw - 16.0*Iy*Kp*m - 16.0*Kp*Mq*Zw - 16.0*Kp*Mq*m + 16.0*Kp*m**2*xG**2) - 16.0*Ixy*Iyx*Zw*x6**2/(-16.0*Ix*Iy*Zw - 16.0*Ix*Iy*m - 16.0*Ix*Mq*Zw - 16.0*Ix*Mq*m + 16.0*Ix*m**2*xG**2 + 16.0*Ixy**2*Zw + 16.0*Ixy**2*m - 16.0*Iy*Kp*Zw - 16.0*Iy*Kp*m - 16.0*Kp*Mq*Zw - 16.0*Kp*Mq*m + 16.0*Kp*m**2*xG**2) - 16.0*Ixy*Iyx*m*x6**2/(-16.0*Ix*Iy*Zw - 16.0*Ix*Iy*m - 16.0*Ix*Mq*Zw - 16.0*Ix*Mq*m + 16.0*Ix*m**2*xG**2 + 16.0*Ixy**2*Zw + 16.0*Ixy**2*m - 16.0*Iy*Kp*Zw - 16.0*Iy*Kp*m - 16.0*Kp*Mq*Zw - 16.0*Kp*Mq*m + 16.0*Kp*m**2*xG**2) + Ixy*S2*Zw*r1*rho*u**2*u1/(-16.0*Ix*Iy*Zw - 16.0*Ix*Iy*m - 16.0*Ix*Mq*Zw - 16.0*Ix*Mq*m + 16.0*Ix*m**2*xG**2 + 16.0*Ixy**2*Zw + 16.0*Ixy**2*m - 16.0*Iy*Kp*Zw - 16.0*Iy*Kp*m - 16.0*Kp*Mq*Zw - 16.0*Kp*Mq*m + 16.0*Kp*m**2*xG**2) - Ixy*S2*Zw*r1*rho*u**2*u2/(-16.0*Ix*Iy*Zw - 16.0*Ix*Iy*m - 16.0*Ix*Mq*Zw - 16.0*Ix*Mq*m + 16.0*Ix*m**2*xG**2 + 16.0*Ixy**2*Zw + 16.0*Ixy**2*m - 16.0*Iy*Kp*Zw - 16.0*Iy*Kp*m - 16.0*Kp*Mq*Zw - 16.0*Kp*Mq*m + 16.0*Kp*m**2*xG**2) + Ixy*S2*Zw*r1*rho*u1*x2**2/(-16.0*Ix*Iy*Zw - 16.0*Ix*Iy*m - 16.0*Ix*Mq*Zw - 16.0*Ix*Mq*m + 16.0*Ix*m**2*xG**2 + 16.0*Ixy**2*Zw + 16.0*Ixy**2*m - 16.0*Iy*Kp*Zw - 16.0*Iy*Kp*m - 16.0*Kp*Mq*Zw - 16.0*Kp*Mq*m + 16.0*Kp*m**2*xG**2) - Ixy*S2*Zw*r1*rho*u2*x2**2/(-16.0*Ix*Iy*Zw - 16.0*Ix*Iy*m - 16.0*Ix*Mq*Zw - 16.0*Ix*Mq*m + 16.0*Ix*m**2*xG**2 + 16.0*Ixy**2*Zw + 16.0*Ixy**2*m - 16.0*Iy*Kp*Zw - 16.0*Iy*Kp*m - 16.0*Kp*Mq*Zw - 16.0*Kp*Mq*m + 16.0*Kp*m**2*xG**2) + Ixy*S2*m*r1*rho*u**2*u1/(-16.0*Ix*Iy*Zw - 16.0*Ix*Iy*m - 16.0*Ix*Mq*Zw - 16.0*Ix*Mq*m + 16.0*Ix*m**2*xG**2 + 16.0*Ixy**2*Zw + 16.0*Ixy**2*m - 16.0*Iy*Kp*Zw - 16.0*Iy*Kp*m - 16.0*Kp*Mq*Zw - 16.0*Kp*Mq*m + 16.0*Kp*m**2*xG**2) - Ixy*S2*m*r1*rho*u**2*u2/(-16.0*Ix*Iy*Zw - 16.0*Ix*Iy*m - 16.0*Ix*Mq*Zw - 16.0*Ix*Mq*m + 16.0*Ix*m**2*xG**2 + 16.0*Ixy**2*Zw + 16.0*Ixy**2*m - 16.0*Iy*Kp*Zw - 16.0*Iy*Kp*m - 16.0*Kp*Mq*Zw - 16.0*Kp*Mq*m + 16.0*Kp*m**2*xG**2) + Ixy*S2*m*r1*rho*u1*x2**2/(-16.0*Ix*Iy*Zw - 16.0*Ix*Iy*m - 16.0*Ix*Mq*Zw - 16.0*Ix*Mq*m + 16.0*Ix*m**2*xG**2 + 16.0*Ixy**2*Zw + 16.0*Ixy**2*m - 16.0*Iy*Kp*Zw - 16.0*Iy*Kp*m - 16.0*Kp*Mq*Zw - 16.0*Kp*Mq*m + 16.0*Kp*m**2*xG**2) - Ixy*S2*m*r1*rho*u2*x2**2/(-16.0*Ix*Iy*Zw - 16.0*Ix*Iy*m - 16.0*Ix*Mq*Zw - 16.0*Ix*Mq*m + 16.0*Ix*m**2*xG**2 + 16.0*Ixy**2*Zw + 16.0*Ixy**2*m - 16.0*Iy*Kp*Zw - 16.0*Iy*Kp*m - 16.0*Kp*Mq*Zw - 16.0*Kp*Mq*m + 16.0*Kp*m**2*xG**2) + 16.0*Ixy*Zw*dr1*x4/(-16.0*Ix*Iy*Zw - 16.0*Ix*Iy*m - 16.0*Ix*Mq*Zw - 16.0*Ix*Mq*m + 16.0*Ix*m**2*xG**2 + 16.0*Ixy**2*Zw + 16.0*Ixy**2*m - 16.0*Iy*Kp*Zw - 16.0*Iy*Kp*m - 16.0*Kp*Mq*Zw - 16.0*Kp*Mq*m + 16.0*Kp*m**2*xG**2) + 16.0*Ixy*Zw*dr2*x4**2/(-16.0*Ix*Iy*Zw - 16.0*Ix*Iy*m - 16.0*Ix*Mq*Zw - 16.0*Ix*Mq*m + 16.0*Ix*m**2*xG**2 + 16.0*Ixy**2*Zw + 16.0*Ixy**2*m - 16.0*Iy*Kp*Zw - 16.0*Iy*Kp*m - 16.0*Kp*Mq*Zw - 16.0*Kp*Mq*m + 16.0*Kp*m**2*xG**2) + 16.0*Ixy*dr1*m*x4/(-16.0*Ix*Iy*Zw - 16.0*Ix*Iy*m - 16.0*Ix*Mq*Zw - 16.0*Ix*Mq*m + 16.0*Ix*m**2*xG**2 + 16.0*Ixy**2*Zw + 16.0*Ixy**2*m - 16.0*Iy*Kp*Zw - 16.0*Iy*Kp*m - 16.0*Kp*Mq*Zw - 16.0*Kp*Mq*m + 16.0*Kp*m**2*xG**2) + 16.0*Ixy*dr2*m*x4**2/(-16.0*Ix*Iy*Zw - 16.0*Ix*Iy*m - 16.0*Ix*Mq*Zw - 16.0*Ix*Mq*m + 16.0*Ix*m**2*xG**2 + 16.0*Ixy**2*Zw + 16.0*Ixy**2*m - 16.0*Iy*Kp*Zw - 16.0*Iy*Kp*m - 16.0*Kp*Mq*Zw - 16.0*Kp*Mq*m + 16.0*Kp*m**2*xG**2) - 16.0*Ixz*Kp*Zw*x4**2/(-16.0*Ix*Iy*Zw - 16.0*Ix*Iy*m - 16.0*Ix*Mq*Zw - 16.0*Ix*Mq*m + 16.0*Ix*m**2*xG**2 + 16.0*Ixy**2*Zw + 16.0*Ixy**2*m - 16.0*Iy*Kp*Zw - 16.0*Iy*Kp*m - 16.0*Kp*Mq*Zw - 16.0*Kp*Mq*m + 16.0*Kp*m**2*xG**2) - 16.0*Ixz*Kp*m*x4**2/(-16.0*Ix*Iy*Zw - 16.0*Ix*Iy*m - 16.0*Ix*Mq*Zw - 16.0*Ix*Mq*m + 16.0*Ix*m**2*xG**2 + 16.0*Ixy**2*Zw + 16.0*Ixy**2*m - 16.0*Iy*Kp*Zw - 16.0*Iy*Kp*m - 16.0*Kp*Mq*Zw - 16.0*Kp*Mq*m + 16.0*Kp*m**2*xG**2) - 16.0*Iyz*Kp*Zw*x4*x6/(-16.0*Ix*Iy*Zw - 16.0*Ix*Iy*m - 16.0*Ix*Mq*Zw - 16.0*Ix*Mq*m + 16.0*Ix*m**2*xG**2 + 16.0*Ixy**2*Zw + 16.0*Ixy**2*m - 16.0*Iy*Kp*Zw - 16.0*Iy*Kp*m - 16.0*Kp*Mq*Zw - 16.0*Kp*Mq*m + 16.0*Kp*m**2*xG**2) - 16.0*Iyz*Kp*m*x4*x6/(-16.0*Ix*Iy*Zw - 16.0*Ix*Iy*m - 16.0*Ix*Mq*Zw - 16.0*Ix*Mq*m + 16.0*Ix*m**2*xG**2 + 16.0*Ixy**2*Zw + 16.0*Ixy**2*m - 16.0*Iy*Kp*Zw - 16.0*Iy*Kp*m - 16.0*Kp*Mq*Zw - 16.0*Kp*Mq*m + 16.0*Kp*m**2*xG**2) - 2.0*Kp*S1*Zw*d1*rho*u**2*x5/(-16.0*Ix*Iy*Zw - 16.0*Ix*Iy*m - 16.0*Ix*Mq*Zw - 16.0*Ix*Mq*m + 16.0*Ix*m**2*xG**2 + 16.0*Ixy**2*Zw + 16.0*Ixy**2*m - 16.0*Iy*Kp*Zw - 16.0*Iy*Kp*m - 16.0*Kp*Mq*Zw - 16.0*Kp*Mq*m + 16.0*Kp*m**2*xG**2) - 2.0*Kp*S1*Zw*d1*rho*x2**2*x5/(-16.0*Ix*Iy*Zw - 16.0*Ix*Iy*m - 16.0*Ix*Mq*Zw - 16.0*Ix*Mq*m + 16.0*Ix*m**2*xG**2 + 16.0*Ixy**2*Zw + 16.0*Ixy**2*m - 16.0*Iy*Kp*Zw - 16.0*Iy*Kp*m - 16.0*Kp*Mq*Zw - 16.0*Kp*Mq*m + 16.0*Kp*m**2*xG**2) - 2.0*Kp*S1*d1*m*rho*u**2*x5/(-16.0*Ix*Iy*Zw - 16.0*Ix*Iy*m - 16.0*Ix*Mq*Zw - 16.0*Ix*Mq*m + 16.0*Ix*m**2*xG**2 + 16.0*Ixy**2*Zw + 16.0*Ixy**2*m - 16.0*Iy*Kp*Zw - 16.0*Iy*Kp*m - 16.0*Kp*Mq*Zw - 16.0*Kp*Mq*m + 16.0*Kp*m**2*xG**2) - 2.0*Kp*S1*d1*m*rho*x2**2*x5/(-16.0*Ix*Iy*Zw - 16.0*Ix*Iy*m - 16.0*Ix*Mq*Zw - 16.0*Ix*Mq*m + 16.0*Ix*m**2*xG**2 + 16.0*Ixy**2*Zw + 16.0*Ixy**2*m - 16.0*Iy*Kp*Zw - 16.0*Iy*Kp*m - 16.0*Kp*Mq*Zw - 16.0*Kp*Mq*m + 16.0*Kp*m**2*xG**2) - 2.0*Kp*S1*m*rho*u**2*x5*xG/(-16.0*Ix*Iy*Zw - 16.0*Ix*Iy*m - 16.0*Ix*Mq*Zw - 16.0*Ix*Mq*m + 16.0*Ix*m**2*xG**2 + 16.0*Ixy**2*Zw + 16.0*Ixy**2*m - 16.0*Iy*Kp*Zw - 16.0*Iy*Kp*m - 16.0*Kp*Mq*Zw - 16.0*Kp*Mq*m + 16.0*Kp*m**2*xG**2) - 2.0*Kp*S1*m*rho*x2**2*x5*xG/(-16.0*Ix*Iy*Zw - 16.0*Ix*Iy*m - 16.0*Ix*Mq*Zw - 16.0*Ix*Mq*m + 16.0*Ix*m**2*xG**2 + 16.0*Ixy**2*Zw + 16.0*Ixy**2*m - 16.0*Iy*Kp*Zw - 16.0*Iy*Kp*m - 16.0*Kp*Mq*Zw - 16.0*Kp*Mq*m + 16.0*Kp*m**2*xG**2) + Kp*S2*Zw*d2*rho*u**2*u1/(-16.0*Ix*Iy*Zw - 16.0*Ix*Iy*m - 16.0*Ix*Mq*Zw - 16.0*Ix*Mq*m + 16.0*Ix*m**2*xG**2 + 16.0*Ixy**2*Zw + 16.0*Ixy**2*m - 16.0*Iy*Kp*Zw - 16.0*Iy*Kp*m - 16.0*Kp*Mq*Zw - 16.0*Kp*Mq*m + 16.0*Kp*m**2*xG**2) + Kp*S2*Zw*d2*rho*u**2*u2/(-16.0*Ix*Iy*Zw - 16.0*Ix*Iy*m - 16.0*Ix*Mq*Zw - 16.0*Ix*Mq*m + 16.0*Ix*m**2*xG**2 + 16.0*Ixy**2*Zw + 16.0*Ixy**2*m - 16.0*Iy*Kp*Zw - 16.0*Iy*Kp*m - 16.0*Kp*Mq*Zw - 16.0*Kp*Mq*m + 16.0*Kp*m**2*xG**2) - 2.0*Kp*S2*Zw*d2*rho*u**2*x5/(-16.0*Ix*Iy*Zw - 16.0*Ix*Iy*m - 16.0*Ix*Mq*Zw - 16.0*Ix*Mq*m + 16.0*Ix*m**2*xG**2 + 16.0*Ixy**2*Zw + 16.0*Ixy**2*m - 16.0*Iy*Kp*Zw - 16.0*Iy*Kp*m - 16.0*Kp*Mq*Zw - 16.0*Kp*Mq*m + 16.0*Kp*m**2*xG**2) + Kp*S2*Zw*d2*rho*u1*x2**2/(-16.0*Ix*Iy*Zw - 16.0*Ix*Iy*m - 16.0*Ix*Mq*Zw - 16.0*Ix*Mq*m + 16.0*Ix*m**2*xG**2 + 16.0*Ixy**2*Zw + 16.0*Ixy**2*m - 16.0*Iy*Kp*Zw - 16.0*Iy*Kp*m - 16.0*Kp*Mq*Zw - 16.0*Kp*Mq*m + 16.0*Kp*m**2*xG**2) + Kp*S2*Zw*d2*rho*u2*x2**2/(-16.0*Ix*Iy*Zw - 16.0*Ix*Iy*m - 16.0*Ix*Mq*Zw - 16.0*Ix*Mq*m + 16.0*Ix*m**2*xG**2 + 16.0*Ixy**2*Zw + 16.0*Ixy**2*m - 16.0*Iy*Kp*Zw - 16.0*Iy*Kp*m - 16.0*Kp*Mq*Zw - 16.0*Kp*Mq*m + 16.0*Kp*m**2*xG**2) - 2.0*Kp*S2*Zw*d2*rho*x2**2*x5/(-16.0*Ix*Iy*Zw - 16.0*Ix*Iy*m - 16.0*Ix*Mq*Zw - 16.0*Ix*Mq*m + 16.0*Ix*m**2*xG**2 + 16.0*Ixy**2*Zw + 16.0*Ixy**2*m - 16.0*Iy*Kp*Zw - 16.0*Iy*Kp*m - 16.0*Kp*Mq*Zw - 16.0*Kp*Mq*m + 16.0*Kp*m**2*xG**2) + Kp*S2*d2*m*rho*u**2*u1/(-16.0*Ix*Iy*Zw - 16.0*Ix*Iy*m - 16.0*Ix*Mq*Zw - 16.0*Ix*Mq*m + 16.0*Ix*m**2*xG**2 + 16.0*Ixy**2*Zw + 16.0*Ixy**2*m - 16.0*Iy*Kp*Zw - 16.0*Iy*Kp*m - 16.0*Kp*Mq*Zw - 16.0*Kp*Mq*m + 16.0*Kp*m**2*xG**2) + Kp*S2*d2*m*rho*u**2*u2/(-16.0*Ix*Iy*Zw - 16.0*Ix*Iy*m - 16.0*Ix*Mq*Zw - 16.0*Ix*Mq*m + 16.0*Ix*m**2*xG**2 + 16.0*Ixy**2*Zw + 16.0*Ixy**2*m - 16.0*Iy*Kp*Zw - 16.0*Iy*Kp*m - 16.0*Kp*Mq*Zw - 16.0*Kp*Mq*m + 16.0*Kp*m**2*xG**2) - 2.0*Kp*S2*d2*m*rho*u**2*x5/(-16.0*Ix*Iy*Zw - 16.0*Ix*Iy*m - 16.0*Ix*Mq*Zw - 16.0*Ix*Mq*m + 16.0*Ix*m**2*xG**2 + 16.0*Ixy**2*Zw + 16.0*Ixy**2*m - 16.0*Iy*Kp*Zw - 16.0*Iy*Kp*m - 16.0*Kp*Mq*Zw - 16.0*Kp*Mq*m + 16.0*Kp*m**2*xG**2) + Kp*S2*d2*m*rho*u1*x2**2/(-16.0*Ix*Iy*Zw - 16.0*Ix*Iy*m - 16.0*Ix*Mq*Zw - 16.0*Ix*Mq*m + 16.0*Ix*m**2*xG**2 + 16.0*Ixy**2*Zw + 16.0*Ixy**2*m - 16.0*Iy*Kp*Zw - 16.0*Iy*Kp*m - 16.0*Kp*Mq*Zw - 16.0*Kp*Mq*m + 16.0*Kp*m**2*xG**2) + Kp*S2*d2*m*rho*u2*x2**2/(-16.0*Ix*Iy*Zw - 16.0*Ix*Iy*m - 16.0*Ix*Mq*Zw - 16.0*Ix*Mq*m + 16.0*Ix*m**2*xG**2 + 16.0*Ixy**2*Zw + 16.0*Ixy**2*m - 16.0*Iy*Kp*Zw - 16.0*Iy*Kp*m - 16.0*Kp*Mq*Zw - 16.0*Kp*Mq*m + 16.0*Kp*m**2*xG**2) - 2.0*Kp*S2*d2*m*rho*x2**2*x5/(-16.0*Ix*Iy*Zw - 16.0*Ix*Iy*m - 16.0*Ix*Mq*Zw - 16.0*Ix*Mq*m + 16.0*Ix*m**2*xG**2 + 16.0*Ixy**2*Zw + 16.0*Ixy**2*m - 16.0*Iy*Kp*Zw - 16.0*Iy*Kp*m - 16.0*Kp*Mq*Zw - 16.0*Kp*Mq*m + 16.0*Kp*m**2*xG**2) + Kp*S2*m*rho*u**2*u1*xG/(-16.0*Ix*Iy*Zw - 16.0*Ix*Iy*m - 16.0*Ix*Mq*Zw - 16.0*Ix*Mq*m + 16.0*Ix*m**2*xG**2 + 16.0*Ixy**2*Zw + 16.0*Ixy**2*m - 16.0*Iy*Kp*Zw - 16.0*Iy*Kp*m - 16.0*Kp*Mq*Zw - 16.0*Kp*Mq*m + 16.0*Kp*m**2*xG**2) + Kp*S2*m*rho*u**2*u2*xG/(-16.0*Ix*Iy*Zw - 16.0*Ix*Iy*m - 16.0*Ix*Mq*Zw - 16.0*Ix*Mq*m + 16.0*Ix*m**2*xG**2 + 16.0*Ixy**2*Zw + 16.0*Ixy**2*m - 16.0*Iy*Kp*Zw - 16.0*Iy*Kp*m - 16.0*Kp*Mq*Zw - 16.0*Kp*Mq*m + 16.0*Kp*m**2*xG**2) - 2.0*Kp*S2*m*rho*u**2*x5*xG/(-16.0*Ix*Iy*Zw - 16.0*Ix*Iy*m - 16.0*Ix*Mq*Zw - 16.0*Ix*Mq*m + 16.0*Ix*m**2*xG**2 + 16.0*Ixy**2*Zw + 16.0*Ixy**2*m - 16.0*Iy*Kp*Zw - 16.0*Iy*Kp*m - 16.0*Kp*Mq*Zw - 16.0*Kp*Mq*m + 16.0*Kp*m**2*xG**2) + Kp*S2*m*rho*u1*x2**2*xG/(-16.0*Ix*Iy*Zw - 16.0*Ix*Iy*m - 16.0*Ix*Mq*Zw - 16.0*Ix*Mq*m + 16.0*Ix*m**2*xG**2 + 16.0*Ixy**2*Zw + 16.0*Ixy**2*m - 16.0*Iy*Kp*Zw - 16.0*Iy*Kp*m - 16.0*Kp*Mq*Zw - 16.0*Kp*Mq*m + 16.0*Kp*m**2*xG**2) + Kp*S2*m*rho*u2*x2**2*xG/(-16.0*Ix*Iy*Zw - 16.0*Ix*Iy*m - 16.0*Ix*Mq*Zw - 16.0*Ix*Mq*m + 16.0*Ix*m**2*xG**2 + 16.0*Ixy**2*Zw + 16.0*Ixy**2*m - 16.0*Iy*Kp*Zw - 16.0*Iy*Kp*m - 16.0*Kp*Mq*Zw - 16.0*Kp*Mq*m + 16.0*Kp*m**2*xG**2) - 2.0*Kp*S2*m*rho*x2**2*x5*xG/(-16.0*Ix*Iy*Zw - 16.0*Ix*Iy*m - 16.0*Ix*Mq*Zw - 16.0*Ix*Mq*m + 16.0*Ix*m**2*xG**2 + 16.0*Ixy**2*Zw + 16.0*Ixy**2*m - 16.0*Iy*Kp*Zw - 16.0*Iy*Kp*m - 16.0*Kp*Mq*Zw - 16.0*Kp*Mq*m + 16.0*Kp*m**2*xG**2) - 2.0*Kp*S3*Zw*d3*rho*u**2*x5/(-16.0*Ix*Iy*Zw - 16.0*Ix*Iy*m - 16.0*Ix*Mq*Zw - 16.0*Ix*Mq*m + 16.0*Ix*m**2*xG**2 + 16.0*Ixy**2*Zw + 16.0*Ixy**2*m - 16.0*Iy*Kp*Zw - 16.0*Iy*Kp*m - 16.0*Kp*Mq*Zw - 16.0*Kp*Mq*m + 16.0*Kp*m**2*xG**2) - 2.0*Kp*S3*Zw*d3*rho*x2**2*x5/(-16.0*Ix*Iy*Zw - 16.0*Ix*Iy*m - 16.0*Ix*Mq*Zw - 16.0*Ix*Mq*m + 16.0*Ix*m**2*xG**2 + 16.0*Ixy**2*Zw + 16.0*Ixy**2*m - 16.0*Iy*Kp*Zw - 16.0*Iy*Kp*m - 16.0*Kp*Mq*Zw - 16.0*Kp*Mq*m + 16.0*Kp*m**2*xG**2) - 2.0*Kp*S3*d3*m*rho*u**2*x5/(-16.0*Ix*Iy*Zw - 16.0*Ix*Iy*m - 16.0*Ix*Mq*Zw - 16.0*Ix*Mq*m + 16.0*Ix*m**2*xG**2 + 16.0*Ixy**2*Zw + 16.0*Ixy**2*m - 16.0*Iy*Kp*Zw - 16.0*Iy*Kp*m - 16.0*Kp*Mq*Zw - 16.0*Kp*Mq*m + 16.0*Kp*m**2*xG**2) - 2.0*Kp*S3*d3*m*rho*x2**2*x5/(-16.0*Ix*Iy*Zw - 16.0*Ix*Iy*m - 16.0*Ix*Mq*Zw - 16.0*Ix*Mq*m + 16.0*Ix*m**2*xG**2 + 16.0*Ixy**2*Zw + 16.0*Ixy**2*m - 16.0*Iy*Kp*Zw - 16.0*Iy*Kp*m - 16.0*Kp*Mq*Zw - 16.0*Kp*Mq*m + 16.0*Kp*m**2*xG**2) - 2.0*Kp*S3*m*rho*u**2*x5*xG/(-16.0*Ix*Iy*Zw - 16.0*Ix*Iy*m - 16.0*Ix*Mq*Zw - 16.0*Ix*Mq*m + 16.0*Ix*m**2*xG**2 + 16.0*Ixy**2*Zw + 16.0*Ixy**2*m - 16.0*Iy*Kp*Zw - 16.0*Iy*Kp*m - 16.0*Kp*Mq*Zw - 16.0*Kp*Mq*m + 16.0*Kp*m**2*xG**2) - 2.0*Kp*S3*m*rho*x2**2*x5*xG/(-16.0*Ix*Iy*Zw - 16.0*Ix*Iy*m - 16.0*Ix*Mq*Zw - 16.0*Ix*Mq*m + 16.0*Ix*m**2*xG**2 + 16.0*Ixy**2*Zw + 16.0*Ixy**2*m - 16.0*Iy*Kp*Zw - 16.0*Iy*Kp*m - 16.0*Kp*Mq*Zw - 16.0*Kp*Mq*m + 16.0*Kp*m**2*xG**2) + 2.0*Kp*S4*Zw*d4*rho*u**2*u3/(-16.0*Ix*Iy*Zw - 16.0*Ix*Iy*m - 16.0*Ix*Mq*Zw - 16.0*Ix*Mq*m + 16.0*Ix*m**2*xG**2 + 16.0*Ixy**2*Zw + 16.0*Ixy**2*m - 16.0*Iy*Kp*Zw - 16.0*Iy*Kp*m - 16.0*Kp*Mq*Zw - 16.0*Kp*Mq*m + 16.0*Kp*m**2*xG**2) - 2.0*Kp*S4*Zw*d4*rho*u**2*x5/(-16.0*Ix*Iy*Zw - 16.0*Ix*Iy*m - 16.0*Ix*Mq*Zw - 16.0*Ix*Mq*m + 16.0*Ix*m**2*xG**2 + 16.0*Ixy**2*Zw + 16.0*Ixy**2*m - 16.0*Iy*Kp*Zw - 16.0*Iy*Kp*m - 16.0*Kp*Mq*Zw - 16.0*Kp*Mq*m + 16.0*Kp*m**2*xG**2) + 2.0*Kp*S4*Zw*d4*rho*u3*x2**2/(-16.0*Ix*Iy*Zw - 16.0*Ix*Iy*m - 16.0*Ix*Mq*Zw - 16.0*Ix*Mq*m + 16.0*Ix*m**2*xG**2 + 16.0*Ixy**2*Zw + 16.0*Ixy**2*m - 16.0*Iy*Kp*Zw - 16.0*Iy*Kp*m - 16.0*Kp*Mq*Zw - 16.0*Kp*Mq*m + 16.0*Kp*m**2*xG**2) - 2.0*Kp*S4*Zw*d4*rho*x2**2*x5/(-16.0*Ix*Iy*Zw - 16.0*Ix*Iy*m - 16.0*Ix*Mq*Zw - 16.0*Ix*Mq*m + 16.0*Ix*m**2*xG**2 + 16.0*Ixy**2*Zw + 16.0*Ixy**2*m - 16.0*Iy*Kp*Zw - 16.0*Iy*Kp*m - 16.0*Kp*Mq*Zw - 16.0*Kp*Mq*m + 16.0*Kp*m**2*xG**2) + 2.0*Kp*S4*d4*m*rho*u**2*u3/(-16.0*Ix*Iy*Zw - 16.0*Ix*Iy*m - 16.0*Ix*Mq*Zw - 16.0*Ix*Mq*m + 16.0*Ix*m**2*xG**2 + 16.0*Ixy**2*Zw + 16.0*Ixy**2*m - 16.0*Iy*Kp*Zw - 16.0*Iy*Kp*m - 16.0*Kp*Mq*Zw - 16.0*Kp*Mq*m + 16.0*Kp*m**2*xG**2) - 2.0*Kp*S4*d4*m*rho*u**2*x5/(-16.0*Ix*Iy*Zw - 16.0*Ix*Iy*m - 16.0*Ix*Mq*Zw - 16.0*Ix*Mq*m + 16.0*Ix*m**2*xG**2 + 16.0*Ixy**2*Zw + 16.0*Ixy**2*m - 16.0*Iy*Kp*Zw - 16.0*Iy*Kp*m - 16.0*Kp*Mq*Zw - 16.0*Kp*Mq*m + 16.0*Kp*m**2*xG**2) + 2.0*Kp*S4*d4*m*rho*u3*x2**2/(-16.0*Ix*Iy*Zw - 16.0*Ix*Iy*m - 16.0*Ix*Mq*Zw - 16.0*Ix*Mq*m + 16.0*Ix*m**2*xG**2 + 16.0*Ixy**2*Zw + 16.0*Ixy**2*m - 16.0*Iy*Kp*Zw - 16.0*Iy*Kp*m - 16.0*Kp*Mq*Zw - 16.0*Kp*Mq*m + 16.0*Kp*m**2*xG**2) - 2.0*Kp*S4*d4*m*rho*x2**2*x5/(-16.0*Ix*Iy*Zw - 16.0*Ix*Iy*m - 16.0*Ix*Mq*Zw - 16.0*Ix*Mq*m + 16.0*Ix*m**2*xG**2 + 16.0*Ixy**2*Zw + 16.0*Ixy**2*m - 16.0*Iy*Kp*Zw - 16.0*Iy*Kp*m - 16.0*Kp*Mq*Zw - 16.0*Kp*Mq*m + 16.0*Kp*m**2*xG**2) + 2.0*Kp*S4*m*rho*u**2*u3*xG/(-16.0*Ix*Iy*Zw - 16.0*Ix*Iy*m - 16.0*Ix*Mq*Zw - 16.0*Ix*Mq*m + 16.0*Ix*m**2*xG**2 + 16.0*Ixy**2*Zw + 16.0*Ixy**2*m - 16.0*Iy*Kp*Zw - 16.0*Iy*Kp*m - 16.0*Kp*Mq*Zw - 16.0*Kp*Mq*m + 16.0*Kp*m**2*xG**2) - 2.0*Kp*S4*m*rho*u**2*x5*xG/(-16.0*Ix*Iy*Zw - 16.0*Ix*Iy*m - 16.0*Ix*Mq*Zw - 16.0*Ix*Mq*m + 16.0*Ix*m**2*xG**2 + 16.0*Ixy**2*Zw + 16.0*Ixy**2*m - 16.0*Iy*Kp*Zw - 16.0*Iy*Kp*m - 16.0*Kp*Mq*Zw - 16.0*Kp*Mq*m + 16.0*Kp*m**2*xG**2) + 2.0*Kp*S4*m*rho*u3*x2**2*xG/(-16.0*Ix*Iy*Zw - 16.0*Ix*Iy*m - 16.0*Ix*Mq*Zw - 16.0*Ix*Mq*m + 16.0*Ix*m**2*xG**2 + 16.0*Ixy**2*Zw + 16.0*Ixy**2*m - 16.0*Iy*Kp*Zw - 16.0*Iy*Kp*m - 16.0*Kp*Mq*Zw - 16.0*Kp*Mq*m + 16.0*Kp*m**2*xG**2) - 2.0*Kp*S4*m*rho*x2**2*x5*xG/(-16.0*Ix*Iy*Zw - 16.0*Ix*Iy*m - 16.0*Ix*Mq*Zw - 16.0*Ix*Mq*m + 16.0*Ix*m**2*xG**2 + 16.0*Ixy**2*Zw + 16.0*Ixy**2*m - 16.0*Iy*Kp*Zw - 16.0*Iy*Kp*m - 16.0*Kp*Mq*Zw - 16.0*Kp*Mq*m + 16.0*Kp*m**2*xG**2) - 16.0*Kp*Vol*Zw*db*g*rho*sin(x5)/(-16.0*Ix*Iy*Zw - 16.0*Ix*Iy*m - 16.0*Ix*Mq*Zw - 16.0*Ix*Mq*m + 16.0*Ix*m**2*xG**2 + 16.0*Ixy**2*Zw + 16.0*Ixy**2*m - 16.0*Iy*Kp*Zw - 16.0*Iy*Kp*m - 16.0*Kp*Mq*Zw - 16.0*Kp*Mq*m + 16.0*Kp*m**2*xG**2) - 16.0*Kp*Vol*db*g*m*rho*sin(x5)/(-16.0*Ix*Iy*Zw - 16.0*Ix*Iy*m - 16.0*Ix*Mq*Zw - 16.0*Ix*Mq*m + 16.0*Ix*m**2*xG**2 + 16.0*Ixy**2*Zw + 16.0*Ixy**2*m - 16.0*Iy*Kp*Zw - 16.0*Iy*Kp*m - 16.0*Kp*Mq*Zw - 16.0*Kp*Mq*m + 16.0*Kp*m**2*xG**2) - 16.0*Kp*Vol*g*m*rho*xG*sin(x5)/(-16.0*Ix*Iy*Zw - 16.0*Ix*Iy*m - 16.0*Ix*Mq*Zw - 16.0*Ix*Mq*m + 16.0*Ix*m**2*xG**2 + 16.0*Ixy**2*Zw + 16.0*Ixy**2*m - 16.0*Iy*Kp*Zw - 16.0*Iy*Kp*m - 16.0*Kp*Mq*Zw - 16.0*Kp*Mq*m + 16.0*Kp*m**2*xG**2) - 16.0*Kp*Zw**2*u*x2/(-16.0*Ix*Iy*Zw - 16.0*Ix*Iy*m - 16.0*Ix*Mq*Zw - 16.0*Ix*Mq*m + 16.0*Ix*m**2*xG**2 + 16.0*Ixy**2*Zw + 16.0*Ixy**2*m - 16.0*Iy*Kp*Zw - 16.0*Iy*Kp*m - 16.0*Kp*Mq*Zw - 16.0*Kp*Mq*m + 16.0*Kp*m**2*xG**2) + 16.0*Kp*Zw*dg*g*m*sin(x5)/(-16.0*Ix*Iy*Zw - 16.0*Ix*Iy*m - 16.0*Ix*Mq*Zw - 16.0*Ix*Mq*m + 16.0*Ix*m**2*xG**2 + 16.0*Ixy**2*Zw + 16.0*Ixy**2*m - 16.0*Iy*Kp*Zw - 16.0*Iy*Kp*m - 16.0*Kp*Mq*Zw - 16.0*Kp*Mq*m + 16.0*Kp*m**2*xG**2) + 16.0*Kp*Zw*dp1*x6/(-16.0*Ix*Iy*Zw - 16.0*Ix*Iy*m - 16.0*Ix*Mq*Zw - 16.0*Ix*Mq*m + 16.0*Ix*m**2*xG**2 + 16.0*Ixy**2*Zw + 16.0*Ixy**2*m - 16.0*Iy*Kp*Zw - 16.0*Iy*Kp*m - 16.0*Kp*Mq*Zw - 16.0*Kp*Mq*m + 16.0*Kp*m**2*xG**2) + 16.0*Kp*Zw*dp2*x6**2/(-16.0*Ix*Iy*Zw - 16.0*Ix*Iy*m - 16.0*Ix*Mq*Zw - 16.0*Ix*Mq*m + 16.0*Ix*m**2*xG**2 + 16.0*Ixy**2*Zw + 16.0*Ixy**2*m - 16.0*Iy*Kp*Zw - 16.0*Iy*Kp*m - 16.0*Kp*Mq*Zw - 16.0*Kp*Mq*m + 16.0*Kp*m**2*xG**2) - 16.0*Kp*Zw*m*u*x2/(-16.0*Ix*Iy*Zw - 16.0*Ix*Iy*m - 16.0*Ix*Mq*Zw - 16.0*Ix*Mq*m + 16.0*Ix*m**2*xG**2 + 16.0*Ixy**2*Zw + 16.0*Ixy**2*m - 16.0*Iy*Kp*Zw - 16.0*Iy*Kp*m - 16.0*Kp*Mq*Zw - 16.0*Kp*Mq*m + 16.0*Kp*m**2*xG**2) - 16.0*Kp*Zw*m*u*x6*xG/(-16.0*Ix*Iy*Zw - 16.0*Ix*Iy*m - 16.0*Ix*Mq*Zw - 16.0*Ix*Mq*m + 16.0*Ix*m**2*xG**2 + 16.0*Ixy**2*Zw + 16.0*Ixy**2*m - 16.0*Iy*Kp*Zw - 16.0*Iy*Kp*m - 16.0*Kp*Mq*Zw - 16.0*Kp*Mq*m + 16.0*Kp*m**2*xG**2) + 16.0*Kp*dg*g*m**2*sin(x5)/(-16.0*Ix*Iy*Zw - 16.0*Ix*Iy*m - 16.0*Ix*Mq*Zw - 16.0*Ix*Mq*m + 16.0*Ix*m**2*xG**2 + 16.0*Ixy**2*Zw + 16.0*Ixy**2*m - 16.0*Iy*Kp*Zw - 16.0*Iy*Kp*m - 16.0*Kp*Mq*Zw - 16.0*Kp*Mq*m + 16.0*Kp*m**2*xG**2) + 16.0*Kp*dh1*m*x2*xG/(-16.0*Ix*Iy*Zw - 16.0*Ix*Iy*m - 16.0*Ix*Mq*Zw - 16.0*Ix*Mq*m + 16.0*Ix*m**2*xG**2 + 16.0*Ixy**2*Zw + 16.0*Ixy**2*m - 16.0*Iy*Kp*Zw - 16.0*Iy*Kp*m - 16.0*Kp*Mq*Zw - 16.0*Kp*Mq*m + 16.0*Kp*m**2*xG**2) + 16.0*Kp*dh2*m*x2**2*xG/(-16.0*Ix*Iy*Zw - 16.0*Ix*Iy*m - 16.0*Ix*Mq*Zw - 16.0*Ix*Mq*m + 16.0*Ix*m**2*xG**2 + 16.0*Ixy**2*Zw + 16.0*Ixy**2*m - 16.0*Iy*Kp*Zw - 16.0*Iy*Kp*m - 16.0*Kp*Mq*Zw - 16.0*Kp*Mq*m + 16.0*Kp*m**2*xG**2) + 16.0*Kp*dp1*m*x6/(-16.0*Ix*Iy*Zw - 16.0*Ix*Iy*m - 16.0*Ix*Mq*Zw - 16.0*Ix*Mq*m + 16.0*Ix*m**2*xG**2 + 16.0*Ixy**2*Zw + 16.0*Ixy**2*m - 16.0*Iy*Kp*Zw - 16.0*Iy*Kp*m - 16.0*Kp*Mq*Zw - 16.0*Kp*Mq*m + 16.0*Kp*m**2*xG**2) + 16.0*Kp*dp2*m*x6**2/(-16.0*Ix*Iy*Zw - 16.0*Ix*Iy*m - 16.0*Ix*Mq*Zw - 16.0*Ix*Mq*m + 16.0*Ix*m**2*xG**2 + 16.0*Ixy**2*Zw + 16.0*Ixy**2*m - 16.0*Iy*Kp*Zw - 16.0*Iy*Kp*m - 16.0*Kp*Mq*Zw - 16.0*Kp*Mq*m + 16.0*Kp*m**2*xG**2) + 16.0*Kp*g*m**2*xG*sin(x5)/(-16.0*Ix*Iy*Zw - 16.0*Ix*Iy*m - 16.0*Ix*Mq*Zw - 16.0*Ix*Mq*m + 16.0*Ix*m**2*xG**2 + 16.0*Ixy**2*Zw + 16.0*Ixy**2*m - 16.0*Iy*Kp*Zw - 16.0*Iy*Kp*m - 16.0*Kp*Mq*Zw - 16.0*Kp*Mq*m + 16.0*Kp*m**2*xG**2)"
   ]
  },
  {
   "cell_type": "markdown",
   "id": "varied-basis",
   "metadata": {},
   "source": [
    "#### Insert parameter values to symbols"
   ]
  },
  {
   "cell_type": "code",
   "execution_count": 19,
   "id": "dense-postcard",
   "metadata": {},
   "outputs": [
    {
     "name": "stdout",
     "output_type": "stream",
     "text": [
      "[(m,m_val),(g,g_val),(rho,rho_val),(Vol,Vol_val),(S1,S1_val),(S2,S2_val),(S3,S3_val),(S4,S4_val),(u,u_val),(Zw,Zw_val),(Kp,Kp_val),(Mq,Mq_val),(xG,xG_val),(r1,r1_val),(Iyx,Iyx_val),(Ixy,Ixy_val),(Ixz,Ixz_val),(Iyz,Iyz_val),(dg,dg_val),(db,db_val),(d1,d1_val),(d2,d2_val),(d3,d3_val),(d4,d4_val),(Ix,Ix_val),(Iy,Iy_val),(dh1,dh1_val),(dh2,dh2_val),(dr1,dr1_val),(dr2,dr2_val),(dp1,dp1_val),(dp2,dp2_val)]\n"
     ]
    }
   ],
   "source": [
    "# Inserval values to equations\n",
    "syms = [m,      g, rho,   Vol,    S1,    S2,    S3,   S4, u,  Zw, Kp, Mq, xG,    r1, Iyx, Ixy, Ixz, Iyz,   dg,   db,   d1,   d2,    d3,    d4, Ix ,Iy, dh1, dh2,dr1,dr2,dp1,dp2] \n",
    "values =[29, 9.82, 997, 0.018, 0.052, 0.084, 0.069, 0.05, 5, 151, 16, 20, 0.1, 0.31,   0,   0,   0,   0,  0.2, 0.10, 0.17, 0.05, -0.23, -0.58, 1,   1]\n",
    "\n",
    "#USED FOR GENERTAING STRING TO INPUT FOR SUBSTITUION\n",
    "string = \"[\"\n",
    "for j in range(len(syms)):\n",
    "    string += f\"({syms[j]},{syms[j]}_val),\"\n",
    "string = string[:-1]\n",
    "string += \"]\"\n",
    "print(string)\n",
    "\n",
    "\n",
    "\n",
    "m_val = 29\n",
    "g_val = 9.82\n",
    "rho_val = 997\n",
    "Vol_val = 0.018\n",
    "S1_val = 0.052\n",
    "S2_val = 0.084\n",
    "S3_val = 0.069\n",
    "S4_val = 0.05\n",
    "u_val = 5\n",
    "Zw_val = 151\n",
    "Kp_val = 16\n",
    "Mq_val = 20\n",
    "xG_val = 0\n",
    "r1_val = 0.31\n",
    "Iyx_val = -0.059 \n",
    "Ixy_val = -0.059\n",
    "Ixz_val = 0.25\n",
    "Iyz_val = 0.01255\n",
    "dg_val = 0.2\n",
    "db_val = 0.1\n",
    "d1_val = 0.17\n",
    "d2_val = 0.05\n",
    "d3_val = -0.23\n",
    "d4_val = -0.58\n",
    "Ix_val = 8\n",
    "Iy_val = 19\n",
    "\n",
    "#Damping coefficients for linear term\n",
    "dh1_val = 0.9 #0.9\n",
    "dr1_val = 0.35 #0.8\n",
    "dp1_val = 0.36 #0.9\n",
    "\n",
    "#Damping coefficients for quadratic term\n",
    "dh2_val = 1\n",
    "dr2_val = 1\n",
    "dp2_val = 1\n"
   ]
  },
  {
   "cell_type": "markdown",
   "id": "fitting-print",
   "metadata": {},
   "source": [
    "#### With damping"
   ]
  },
  {
   "cell_type": "code",
   "execution_count": 20,
   "id": "changing-wayne",
   "metadata": {},
   "outputs": [],
   "source": [
    "x2d_equ = x2d.subs([(m,m_val),(g,g_val),(rho,rho_val),(Vol,Vol_val),(S1,S1_val),(S2,S2_val),(S3,S3_val),(S4,S4_val),(u,u_val),(Zw,Zw_val),(Kp,Kp_val),(Mq,Mq_val),(xG,xG_val),(r1,r1_val),(Iyx,Iyx_val),(Ixy,Ixy_val),(Ixz,Ixz_val),(Iyz,Iyz_val),(dg,dg_val),(db,db_val),(d1,d1_val),(d2,d2_val),(d3,d3_val),(d4,d4_val),(Ix,Ix_val),(Iy,Iy_val),(dh1,dh1_val),(dh2,dh2_val),(dr1,dr1_val),(dr2,dr2_val),(dp1,dp1_val),(dp2,dp2_val)])\n",
    "x4d_equ = x4d.subs([(m,m_val),(g,g_val),(rho,rho_val),(Vol,Vol_val),(S1,S1_val),(S2,S2_val),(S3,S3_val),(S4,S4_val),(u,u_val),(Zw,Zw_val),(Kp,Kp_val),(Mq,Mq_val),(xG,xG_val),(r1,r1_val),(Iyx,Iyx_val),(Ixy,Ixy_val),(Ixz,Ixz_val),(Iyz,Iyz_val),(dg,dg_val),(db,db_val),(d1,d1_val),(d2,d2_val),(d3,d3_val),(d4,d4_val),(Ix,Ix_val),(Iy,Iy_val),(dh1,dh1_val),(dh2,dh2_val),(dr1,dr1_val),(dr2,dr2_val),(dp1,dp1_val),(dp2,dp2_val)])\n",
    "x6d_equ = x6d.subs([(m,m_val),(g,g_val),(rho,rho_val),(Vol,Vol_val),(S1,S1_val),(S2,S2_val),(S3,S3_val),(S4,S4_val),(u,u_val),(Zw,Zw_val),(Kp,Kp_val),(Mq,Mq_val),(xG,xG_val),(r1,r1_val),(Iyx,Iyx_val),(Ixy,Ixy_val),(Ixz,Ixz_val),(Iyz,Iyz_val),(dg,dg_val),(db,db_val),(d1,d1_val),(d2,d2_val),(d3,d3_val),(d4,d4_val),(Ix,Ix_val),(Iy,Iy_val),(dh1,dh1_val),(dh2,dh2_val),(dr1,dr1_val),(dr2,dr2_val),(dp1,dp1_val),(dp2,dp2_val)])\n"
   ]
  },
  {
   "cell_type": "markdown",
   "id": "antique-pizza",
   "metadata": {},
   "source": [
    "#### Lineratization"
   ]
  },
  {
   "cell_type": "code",
   "execution_count": 21,
   "id": "surrounded-signal",
   "metadata": {},
   "outputs": [],
   "source": [
    "x_list = [x1,x2,x3,x4,x5,x6,u1,u2,u3]\n",
    "#Heave acceleration equation\n",
    "dif1_x1 = sy.diff(x2d_equ, x1) \n",
    "dif1_x2 = sy.diff(x2d_equ, x2) \n",
    "dif1_x3 = sy.diff(x2d_equ, x3) \n",
    "dif1_x4 = sy.diff(x2d_equ, x4) \n",
    "dif1_x5 = sy.diff(x2d_equ, x5) \n",
    "dif1_x6 = sy.diff(x2d_equ, x6) \n",
    "dif1_u1 = sy.diff(x2d_equ, u1) \n",
    "dif1_u2 = sy.diff(x2d_equ, u2) \n",
    "dif1_u3 = sy.diff(x2d_equ, u3) \n",
    "\n",
    "#Roll acceleration equation\n",
    "dif2_x1 = sy.diff(x4d_equ, x1) \n",
    "dif2_x2 = sy.diff(x4d_equ, x2) \n",
    "dif2_x3 = sy.diff(x4d_equ, x3) \n",
    "dif2_x4 = sy.diff(x4d_equ, x4) \n",
    "dif2_x5 = sy.diff(x4d_equ, x5) \n",
    "dif2_x6 = sy.diff(x4d_equ, x6) \n",
    "dif2_u1 = sy.diff(x4d_equ, u1) \n",
    "dif2_u2 = sy.diff(x4d_equ, u2) \n",
    "dif2_u3 = sy.diff(x4d_equ, u3) \n",
    "\n",
    "#Pitch acceleration equation\n",
    "dif3_x1 = sy.diff(x6d_equ, x1) \n",
    "dif3_x2 = sy.diff(x6d_equ, x2) \n",
    "dif3_x3 = sy.diff(x6d_equ, x3) \n",
    "dif3_x4 = sy.diff(x6d_equ, x4) \n",
    "dif3_x5 = sy.diff(x6d_equ, x5) \n",
    "dif3_x6 = sy.diff(x6d_equ, x6) \n",
    "dif3_u1 = sy.diff(x6d_equ, u1) \n",
    "dif3_u2 = sy.diff(x6d_equ, u2) \n",
    "dif3_u3 = sy.diff(x6d_equ, u3)\n",
    "\n",
    "list_diff = [dif1_x1, dif1_x2, dif1_x3, dif1_x4, dif1_x5, dif1_x6, dif1_u1, dif1_u2, dif1_u3, dif2_x1, dif2_x2, dif2_x3, dif2_x4, dif2_x5, dif2_x6, dif2_u1, dif2_u2, dif2_u3, dif3_x1, dif3_x2, dif3_x3, dif3_x4, dif3_x5, dif3_x6, dif3_u1, dif3_u2, dif3_u3]\n",
    "\n",
    "list_diff_sub = []\n",
    "for k in range(27):\n",
    "    list_diff_sub.append(list_diff[k].subs([(x1, 0),(x2, 0),(x3, 0),(x4, 0),(x5, 0),(x6, 0),(u1, 0),(u2, 0),(u3, 0)]))\n",
    "\n",
    "x2d_val = list_diff_sub[0:9]\n",
    "x4d_val = list_diff_sub[9:18]\n",
    "x6d_val = list_diff_sub[18:27]\n",
    "x1, x2, x3, x4, x5, x6 = symbols(\"x1 x2 x3 x4 x5 x6\")"
   ]
  },
  {
   "cell_type": "markdown",
   "id": "proper-worst",
   "metadata": {},
   "source": [
    "#### Develop state space represention from linerized data"
   ]
  },
  {
   "cell_type": "code",
   "execution_count": 25,
   "id": "immediate-symposium",
   "metadata": {},
   "outputs": [
    {
     "name": "stdout",
     "output_type": "stream",
     "text": [
      "A\n",
      "[[0.000 1.000 0.000 0.000 0.000 0.000]\n",
      " [0.000 -0.005 0.000 0.000 3.811 -0.806]\n",
      " [0.000 0.000 0.000 1.000 0.000 0.000]\n",
      " [0.000 -0.048 0.000 -0.015 0.009 0.000]\n",
      " [0.000 0.000 0.000 0.000 0.000 1.000]\n",
      " [0.000 19.359 0.000 0.000 -3.551 -0.009]]\n",
      "\n",
      "B\n",
      "[[0.000 0.000 0.000]\n",
      " [-0.727 -0.727 -0.865]\n",
      " [0.000 0.000 0.000]\n",
      " [-1.690 1.691 -0.006]\n",
      " [0.000 0.000 0.000]\n",
      " [-0.165 -0.170 2.317]]\n",
      "\n",
      "C\n",
      "[[1 0 0 0 0 0]\n",
      " [0 0 1 0 0 0]\n",
      " [0 0 0 0 1 0]]\n",
      "\n",
      "D\n",
      "[[0 0 0]\n",
      " [0 0 0]\n",
      " [0 0 0]]\n"
     ]
    }
   ],
   "source": [
    "A = np.zeros((6,6))\n",
    "o = 0\n",
    "for j in range(3):\n",
    "    for k in range(6):\n",
    "        x=(k+o)\n",
    "        A[2*j+1,k] = list_diff_sub[x]\n",
    "    o += 9\n",
    "A[0,1] = 1\n",
    "A[2,3] = 1\n",
    "A[4,5] = 1\n",
    "\n",
    "o = 0\n",
    "B = np.zeros((6,3))\n",
    "for j in range(3):\n",
    "    for k in range(3):\n",
    "        x = k+o+6\n",
    "        B[2*j+1, k] = list_diff_sub[x]\n",
    "    o += 9\n",
    "\n",
    "C = np.array([[1, 0, 0, 0, 0, 0], \n",
    "              [0, 0, 1, 0, 0, 0],\n",
    "              [0, 0, 0, 0, 1, 0]])\n",
    "\n",
    "D = np.array([[0, 0, 0],\n",
    "              [0, 0, 0],\n",
    "              [0, 0, 0]])\n",
    "print(\"A\")\n",
    "print(A)\n",
    "print()\n",
    "print(\"B\")\n",
    "print(B)\n",
    "print()\n",
    "print(\"C\")\n",
    "print(C)\n",
    "print()\n",
    "print(\"D\")\n",
    "print(D)"
   ]
  },
  {
   "cell_type": "code",
   "execution_count": 27,
   "id": "typical-signal",
   "metadata": {},
   "outputs": [
    {
     "data": {
      "text/plain": [
       "array([[0.000, 0.000, 0.000],\n",
       "       [-0.727, -0.727, -0.865],\n",
       "       [0.000, 0.000, 0.000],\n",
       "       [-1.690, 1.691, -0.006],\n",
       "       [0.000, 0.000, 0.000],\n",
       "       [-0.165, -0.170, 2.317]])"
      ]
     },
     "execution_count": 27,
     "metadata": {},
     "output_type": "execute_result"
    }
   ],
   "source": [
    "B"
   ]
  },
  {
   "cell_type": "markdown",
   "id": "valued-forge",
   "metadata": {},
   "source": [
    "# State space controller"
   ]
  },
  {
   "cell_type": "code",
   "execution_count": 39,
   "id": "stunning-ground",
   "metadata": {},
   "outputs": [
    {
     "data": {
      "text/plain": [
       "array([[-0.000, -7.657, -0.000, 0.567, -1.573, 2.403],\n",
       "       [-0.000, -6.596, -0.000, 0.880, -1.573, 1.597],\n",
       "       [0.000, 7.632, -0.000, 0.118, -1.761, 0.586]])"
      ]
     },
     "execution_count": 39,
     "metadata": {},
     "output_type": "execute_result"
    }
   ],
   "source": [
    "import control as ct\n",
    "desired_poles = [0, 0, 0,-1, (-2+1j),(-2-1j)]\n",
    "K=ct.place(A,B,desired_poles)\n",
    "K"
   ]
  },
  {
   "cell_type": "code",
   "execution_count": 40,
   "id": "illegal-thread",
   "metadata": {},
   "outputs": [
    {
     "data": {
      "text/plain": [
       "array([[-0.000, -7.695, -0.000, 0.659, -1.573, 2.321],\n",
       "       [-0.000, -6.761, -0.000, 1.272, -1.573, 1.249],\n",
       "       [0.000, 7.699, 0.000, -0.042, -1.761, 0.727]])"
      ]
     },
     "execution_count": 40,
     "metadata": {},
     "output_type": "execute_result"
    }
   ],
   "source": [
    "desired_poles1 = [0, -2, 0,0, (-2+1j),(-2-1j)]\n",
    "K=ct.place(A,B,desired_poles1)\n",
    "K"
   ]
  },
  {
   "cell_type": "code",
   "execution_count": 41,
   "id": "prime-explanation",
   "metadata": {},
   "outputs": [
    {
     "name": "stdout",
     "output_type": "stream",
     "text": [
      "[[0.000 1.000 0.000 0.000 0.000 0.000]\n",
      " [-0.000 -3.851 -0.000 1.368 -0.000 2.419]\n",
      " [0.000 0.000 0.000 1.000 0.000 0.000]\n",
      " [-0.000 -1.576 0.000 -1.051 -0.000 1.816]\n",
      " [0.000 0.000 0.000 0.000 0.000 1.000]\n",
      " [-0.000 -0.901 -0.000 0.422 -0.000 -1.098]]\n"
     ]
    }
   ],
   "source": [
    "abk = A - B@K\n",
    "np.set_printoptions(formatter={'float': lambda x: \"{0:0.3f}\".format(x)})\n",
    "print(abk)"
   ]
  },
  {
   "cell_type": "markdown",
   "id": "greater-desire",
   "metadata": {},
   "source": [
    "# Eigenvalues (poles)"
   ]
  },
  {
   "cell_type": "code",
   "execution_count": 42,
   "id": "transparent-disorder",
   "metadata": {},
   "outputs": [
    {
     "name": "stdout",
     "output_type": "stream",
     "text": [
      "0j\n",
      "0j\n",
      "(-1.3844758478279262+4.985692606990417j)\n",
      "(-1.3844758478279262-4.985692606990417j)\n",
      "(2.7547208378596983+0j)\n",
      "(-0.014583333333334817+0j)\n",
      "\n",
      " Poles for compensated system\n",
      "(-1.9999999999999982+0.9999999999999952j)\n",
      "(-1.9999999999999982-0.9999999999999952j)\n",
      "(-1.9999999999999978+0j)\n",
      "(-2.722410233383544e-16+0j)\n",
      "(-8.843132583625639e-16+0j)\n",
      "(5.77007543604053e-16+0j)\n"
     ]
    },
    {
     "data": {
      "image/png": "[encoded data removed]",
      "text/plain": [
       "<Figure size 432x288 with 1 Axes>"
      ]
     },
     "metadata": {
      "needs_background": "light"
     },
     "output_type": "display_data"
    }
   ],
   "source": [
    "[eigenval, v] = np.linalg.eig(A)\n",
    "for eig in eigenval:\n",
    "    print(eig)\n",
    "plt.scatter(np.real(eigenval), np.imag(eigenval), marker = \"x\",color =\"red\")\n",
    "plt.grid()\n",
    "\n",
    "print(\"\\n Poles for compensated system\")\n",
    "[eigenval, v] = np.linalg.eig(A-B@K)\n",
    "for eig in eigenval:\n",
    "    print(eig)\n",
    "plt.scatter(np.real(eigenval), np.imag(eigenval), marker = \"x\",color =\"green\")\n",
    "plt.grid()"
   ]
  },
  {
   "cell_type": "markdown",
   "id": "scenic-madrid",
   "metadata": {},
   "source": [
    "# Controllability"
   ]
  },
  {
   "cell_type": "code",
   "execution_count": 32,
   "id": "specified-newsletter",
   "metadata": {},
   "outputs": [
    {
     "data": {
      "text/plain": [
       "6"
      ]
     },
     "execution_count": 32,
     "metadata": {},
     "output_type": "execute_result"
    }
   ],
   "source": [
    "R = np.hstack([B, A@B, A**2 @ B,A**3 @ B,A**4 @ B, A**5 @ B])\n",
    "np.linalg.matrix_rank(R)\n",
    "\n",
    "#OR: \n",
    "#import control as ct\n",
    "#R = ct.ctrb(A, B)"
   ]
  },
  {
   "cell_type": "code",
   "execution_count": 35,
   "id": "protective-moment",
   "metadata": {},
   "outputs": [],
   "source": [
    "import scipy as sp\n",
    "import control as ct\n",
    "sys = sp.signal.lti(A,B,C,D)"
   ]
  },
  {
   "cell_type": "code",
   "execution_count": 36,
   "id": "divine-thanksgiving",
   "metadata": {},
   "outputs": [
    {
     "data": {
      "text/plain": [
       "array([[-6.521, -14.223, -0.224, -22.365, -2.352, -8.086],\n",
       "       [-6.527, -14.232, 0.224, 22.354, -2.350, -8.069],\n",
       "       [-3.856, 2.036, -0.000, -0.017, 0.873, 29.326]])"
      ]
     },
     "execution_count": 36,
     "metadata": {},
     "output_type": "execute_result"
    }
   ],
   "source": [
    "Q = np.array([[1.000, 0.000, 0.000, 0.000, 0.000, 0.000],\n",
    "              [0.000, 1.000, 0.000, 0.000, 0.000, 0.000],\n",
    "              [0.000, 0.000, 1.000, 0.000, 0.000, 0.000],\n",
    "              [0.000, 0.000, 0.000, 1.000, 0.000, 0.000],\n",
    "              [0.000, 0.000, 0.000, 0.000, 1.000, 0.000],\n",
    "              [0.000, 0.000, 0.000, 0.000, 0.000, 1.000]])\n",
    "\n",
    "R = np.array([[1.000, 0.000, 0.000],\n",
    "              [0.000, 1.000, 0.000],\n",
    "              [0.000, 0.000, 1.000]])\n",
    "\n",
    "K, S, E = ct.lqr(sys, Q, R)\n",
    "K"
   ]
  },
  {
   "cell_type": "code",
   "execution_count": 37,
   "id": "phantom-label",
   "metadata": {},
   "outputs": [
    {
     "data": {
      "text/plain": [
       "array([[0.000, 1.000, 0.000, 0.000, 0.000, 0.000],\n",
       "       [-12.823, -18.929, -0.000, -0.023, 1.148, 12.830],\n",
       "       [0.000, 0.000, 0.000, 1.000, 0.000, 0.000],\n",
       "       [-0.006, -0.009, -0.756, -75.600, 0.013, 0.144],\n",
       "       [0.000, 0.000, 0.000, 0.000, 0.000, 1.000],\n",
       "       [6.744, 9.868, 0.002, 0.151, -6.363, -70.660]])"
      ]
     },
     "execution_count": 37,
     "metadata": {},
     "output_type": "execute_result"
    }
   ],
   "source": [
    "A-B@K"
   ]
  },
  {
   "cell_type": "code",
   "execution_count": 38,
   "id": "automotive-recycling",
   "metadata": {},
   "outputs": [
    {
     "name": "stdout",
     "output_type": "stream",
     "text": [
      "-72.87850964335509\n",
      "-75.59761405554606\n",
      "-15.905697471892237\n",
      "-0.7059302638958598\n",
      "-0.09023957509335835\n",
      "-0.009999999901400375\n"
     ]
    },
    {
     "data": {
      "image/png": "[encoded data removed]",
      "text/plain": [
       "<Figure size 432x288 with 1 Axes>"
      ]
     },
     "metadata": {
      "needs_background": "light"
     },
     "output_type": "display_data"
    }
   ],
   "source": [
    "[eigenval, v] = np.linalg.eig(A-B@K)\n",
    "for eig in eigenval:\n",
    "    print(eig)\n",
    "plt.scatter(np.real(eigenval), np.imag(eigenval), marker = \"x\",color =\"red\")\n",
    "plt.grid()"
   ]
  },
  {
   "cell_type": "code",
   "execution_count": null,
   "id": "boring-fighter",
   "metadata": {},
   "outputs": [],
   "source": []
  }
 ],
 "metadata": {
  "kernelspec": {
   "display_name": "Python 3",
   "language": "python",
   "name": "python3"
  },
  "language_info": {
   "codemirror_mode": {
    "name": "ipython",
    "version": 3
   },
   "file_extension": ".py",
   "mimetype": "text/x-python",
   "name": "python",
   "nbconvert_exporter": "python",
   "pygments_lexer": "ipython3",
   "version": "3.8.5"
  }
 },
 "nbformat": 4,
 "nbformat_minor": 5
}
