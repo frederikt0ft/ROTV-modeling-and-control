{
 "cells": [
  {
   "cell_type": "code",
   "execution_count": null,
   "id": "statutory-clinic",
   "metadata": {},
   "outputs": [],
   "source": [
    "#plus ref\n",
    "[[1.78523629]\n",
    " [1.35465005]\n",
    " [0.01400529]]\n",
    "Depth: 0.047011833637952805\n",
    "Pitch: 0.04996282607316971\n",
    "1.2818081e-05\n",
    "[[1.78662821]\n",
    " [1.35390057]\n",
    " [0.01350808]]\n",
    "Depth: 0.047011833637952805\n",
    "Pitch: 0.04996282607316971\n",
    "4.3471155e-05\n",
    "[[1.80420456]\n",
    " [1.34564684]\n",
    " [0.00605849]]\n",
    "\n",
    "# minus ref\n",
    "[[-0.03173274]\n",
    " [-0.05918025]\n",
    " [ 0.12503985]]\n",
    "Depth: 0.08798865973949432\n",
    "Pitch: 0.0782739669084549\n",
    "4.6452396e-06\n",
    "[[-0.03167964]\n",
    " [-0.05908908]\n",
    " [ 0.12499007]]\n",
    "Depth: 0.08798620849847794\n",
    "Pitch: 0.0782739669084549\n",
    "4.584723e-06\n",
    "[[-0.03161414]\n",
    " [-0.05898519]\n",
    " [ 0.12495675]]"
   ]
  }
 ],
 "metadata": {
  "kernelspec": {
   "display_name": "Python 3",
   "language": "python",
   "name": "python3"
  },
  "language_info": {
   "codemirror_mode": {
    "name": "ipython",
    "version": 3
   },
   "file_extension": ".py",
   "mimetype": "text/x-python",
   "name": "python",
   "nbconvert_exporter": "python",
   "pygments_lexer": "ipython3",
   "version": "3.8.5"
  }
 },
 "nbformat": 4,
 "nbformat_minor": 5
}
