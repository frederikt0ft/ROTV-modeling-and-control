{
 "cells": [
  {
   "cell_type": "code",
   "execution_count": 191,
   "id": "distinct-encounter",
   "metadata": {},
   "outputs": [
    {
     "data": {
      "text/html": [
       "<div>\n",
       "<style scoped>\n",
       "    .dataframe tbody tr th:only-of-type {\n",
       "        vertical-align: middle;\n",
       "    }\n",
       "\n",
       "    .dataframe tbody tr th {\n",
       "        vertical-align: top;\n",
       "    }\n",
       "\n",
       "    .dataframe thead th {\n",
       "        text-align: right;\n",
       "    }\n",
       "</style>\n",
       "<table border=\"1\" class=\"dataframe\">\n",
       "  <thead>\n",
       "    <tr style=\"text-align: right;\">\n",
       "      <th></th>\n",
       "      <th>acc_x</th>\n",
       "      <th>acc_y</th>\n",
       "      <th>acc_z</th>\n",
       "      <th>vel_x</th>\n",
       "      <th>vel_y</th>\n",
       "      <th>vel_z</th>\n",
       "      <th>ang_acc_roll</th>\n",
       "      <th>ang_acc_pitch</th>\n",
       "      <th>ang_acc_yaw</th>\n",
       "      <th>ang_vel_roll</th>\n",
       "      <th>...</th>\n",
       "      <th>yaw</th>\n",
       "      <th>u1</th>\n",
       "      <th>u2</th>\n",
       "      <th>u3</th>\n",
       "      <th>x1</th>\n",
       "      <th>x2</th>\n",
       "      <th>x3</th>\n",
       "      <th>x4</th>\n",
       "      <th>x5</th>\n",
       "      <th>x6</th>\n",
       "    </tr>\n",
       "  </thead>\n",
       "  <tbody>\n",
       "    <tr>\n",
       "      <th>0</th>\n",
       "      <td>0.000000</td>\n",
       "      <td>0.0</td>\n",
       "      <td>0.000000</td>\n",
       "      <td>0.000000</td>\n",
       "      <td>0.0</td>\n",
       "      <td>0.000000</td>\n",
       "      <td>0.000000</td>\n",
       "      <td>0.000000</td>\n",
       "      <td>0.0</td>\n",
       "      <td>0.000000</td>\n",
       "      <td>...</td>\n",
       "      <td>-19.999989</td>\n",
       "      <td>0.000000</td>\n",
       "      <td>0.000000</td>\n",
       "      <td>0.000000</td>\n",
       "      <td>2.000000</td>\n",
       "      <td>0.000000</td>\n",
       "      <td>0.000000</td>\n",
       "      <td>0.000000</td>\n",
       "      <td>0.000000</td>\n",
       "      <td>0.000000</td>\n",
       "    </tr>\n",
       "    <tr>\n",
       "      <th>1</th>\n",
       "      <td>2.000000</td>\n",
       "      <td>0.0</td>\n",
       "      <td>0.000000</td>\n",
       "      <td>0.010000</td>\n",
       "      <td>0.0</td>\n",
       "      <td>0.000000</td>\n",
       "      <td>0.000000</td>\n",
       "      <td>0.000000</td>\n",
       "      <td>0.0</td>\n",
       "      <td>0.000000</td>\n",
       "      <td>...</td>\n",
       "      <td>-19.999989</td>\n",
       "      <td>0.000000</td>\n",
       "      <td>0.000000</td>\n",
       "      <td>0.000000</td>\n",
       "      <td>2.000000</td>\n",
       "      <td>0.000000</td>\n",
       "      <td>0.000000</td>\n",
       "      <td>0.000000</td>\n",
       "      <td>0.000000</td>\n",
       "      <td>0.000000</td>\n",
       "    </tr>\n",
       "    <tr>\n",
       "      <th>2</th>\n",
       "      <td>2.000000</td>\n",
       "      <td>0.0</td>\n",
       "      <td>0.000000</td>\n",
       "      <td>0.020000</td>\n",
       "      <td>0.0</td>\n",
       "      <td>0.000000</td>\n",
       "      <td>0.000000</td>\n",
       "      <td>0.000000</td>\n",
       "      <td>0.0</td>\n",
       "      <td>0.000000</td>\n",
       "      <td>...</td>\n",
       "      <td>-19.999989</td>\n",
       "      <td>0.000000</td>\n",
       "      <td>0.000000</td>\n",
       "      <td>0.000000</td>\n",
       "      <td>2.000003</td>\n",
       "      <td>0.000000</td>\n",
       "      <td>0.000000</td>\n",
       "      <td>0.000000</td>\n",
       "      <td>0.000000</td>\n",
       "      <td>0.000000</td>\n",
       "    </tr>\n",
       "    <tr>\n",
       "      <th>3</th>\n",
       "      <td>2.000000</td>\n",
       "      <td>0.0</td>\n",
       "      <td>0.000000</td>\n",
       "      <td>0.030000</td>\n",
       "      <td>0.0</td>\n",
       "      <td>0.000000</td>\n",
       "      <td>0.000000</td>\n",
       "      <td>0.000000</td>\n",
       "      <td>0.0</td>\n",
       "      <td>0.000000</td>\n",
       "      <td>...</td>\n",
       "      <td>-19.999989</td>\n",
       "      <td>0.000000</td>\n",
       "      <td>0.000000</td>\n",
       "      <td>0.000000</td>\n",
       "      <td>2.000003</td>\n",
       "      <td>0.000000</td>\n",
       "      <td>0.000000</td>\n",
       "      <td>0.000000</td>\n",
       "      <td>0.000000</td>\n",
       "      <td>0.000000</td>\n",
       "    </tr>\n",
       "    <tr>\n",
       "      <th>4</th>\n",
       "      <td>1.999999</td>\n",
       "      <td>0.0</td>\n",
       "      <td>0.000000</td>\n",
       "      <td>0.040000</td>\n",
       "      <td>0.0</td>\n",
       "      <td>0.000000</td>\n",
       "      <td>0.000000</td>\n",
       "      <td>0.000000</td>\n",
       "      <td>0.0</td>\n",
       "      <td>0.000000</td>\n",
       "      <td>...</td>\n",
       "      <td>-19.999989</td>\n",
       "      <td>0.000000</td>\n",
       "      <td>0.000000</td>\n",
       "      <td>0.000000</td>\n",
       "      <td>2.000000</td>\n",
       "      <td>0.000000</td>\n",
       "      <td>0.000000</td>\n",
       "      <td>0.000000</td>\n",
       "      <td>0.000000</td>\n",
       "      <td>0.000000</td>\n",
       "    </tr>\n",
       "    <tr>\n",
       "      <th>...</th>\n",
       "      <td>...</td>\n",
       "      <td>...</td>\n",
       "      <td>...</td>\n",
       "      <td>...</td>\n",
       "      <td>...</td>\n",
       "      <td>...</td>\n",
       "      <td>...</td>\n",
       "      <td>...</td>\n",
       "      <td>...</td>\n",
       "      <td>...</td>\n",
       "      <td>...</td>\n",
       "      <td>...</td>\n",
       "      <td>...</td>\n",
       "      <td>...</td>\n",
       "      <td>...</td>\n",
       "      <td>...</td>\n",
       "      <td>...</td>\n",
       "      <td>...</td>\n",
       "      <td>...</td>\n",
       "      <td>...</td>\n",
       "      <td>...</td>\n",
       "    </tr>\n",
       "    <tr>\n",
       "      <th>3195</th>\n",
       "      <td>0.003637</td>\n",
       "      <td>0.0</td>\n",
       "      <td>2.013336</td>\n",
       "      <td>1.989993</td>\n",
       "      <td>0.0</td>\n",
       "      <td>-0.007995</td>\n",
       "      <td>0.197962</td>\n",
       "      <td>0.471714</td>\n",
       "      <td>0.0</td>\n",
       "      <td>0.034974</td>\n",
       "      <td>...</td>\n",
       "      <td>-19.999411</td>\n",
       "      <td>0.270039</td>\n",
       "      <td>0.340515</td>\n",
       "      <td>-0.994468</td>\n",
       "      <td>0.947143</td>\n",
       "      <td>-0.007995</td>\n",
       "      <td>0.012290</td>\n",
       "      <td>-0.232942</td>\n",
       "      <td>0.103491</td>\n",
       "      <td>-6.187296</td>\n",
       "    </tr>\n",
       "    <tr>\n",
       "      <th>3196</th>\n",
       "      <td>0.002543</td>\n",
       "      <td>0.0</td>\n",
       "      <td>2.063595</td>\n",
       "      <td>1.990010</td>\n",
       "      <td>0.0</td>\n",
       "      <td>0.003465</td>\n",
       "      <td>0.148393</td>\n",
       "      <td>0.337106</td>\n",
       "      <td>0.0</td>\n",
       "      <td>0.035716</td>\n",
       "      <td>...</td>\n",
       "      <td>-19.999411</td>\n",
       "      <td>0.270039</td>\n",
       "      <td>0.340515</td>\n",
       "      <td>-0.994468</td>\n",
       "      <td>0.946104</td>\n",
       "      <td>0.003465</td>\n",
       "      <td>0.011151</td>\n",
       "      <td>-0.226023</td>\n",
       "      <td>0.070604</td>\n",
       "      <td>-6.283877</td>\n",
       "    </tr>\n",
       "    <tr>\n",
       "      <th>3197</th>\n",
       "      <td>0.001370</td>\n",
       "      <td>0.0</td>\n",
       "      <td>2.101391</td>\n",
       "      <td>1.990014</td>\n",
       "      <td>0.0</td>\n",
       "      <td>0.015127</td>\n",
       "      <td>0.098239</td>\n",
       "      <td>0.200889</td>\n",
       "      <td>0.0</td>\n",
       "      <td>0.036207</td>\n",
       "      <td>...</td>\n",
       "      <td>-19.999407</td>\n",
       "      <td>0.270039</td>\n",
       "      <td>0.340515</td>\n",
       "      <td>-0.994468</td>\n",
       "      <td>0.945107</td>\n",
       "      <td>0.015127</td>\n",
       "      <td>0.010047</td>\n",
       "      <td>-0.219259</td>\n",
       "      <td>0.037341</td>\n",
       "      <td>-6.341432</td>\n",
       "    </tr>\n",
       "    <tr>\n",
       "      <th>3198</th>\n",
       "      <td>0.000000</td>\n",
       "      <td>0.0</td>\n",
       "      <td>2.126533</td>\n",
       "      <td>1.990006</td>\n",
       "      <td>0.0</td>\n",
       "      <td>0.026921</td>\n",
       "      <td>0.047795</td>\n",
       "      <td>0.063872</td>\n",
       "      <td>0.0</td>\n",
       "      <td>0.036446</td>\n",
       "      <td>...</td>\n",
       "      <td>-19.999405</td>\n",
       "      <td>0.270039</td>\n",
       "      <td>0.340515</td>\n",
       "      <td>-0.994468</td>\n",
       "      <td>0.944164</td>\n",
       "      <td>0.026921</td>\n",
       "      <td>0.008975</td>\n",
       "      <td>-0.212650</td>\n",
       "      <td>0.003921</td>\n",
       "      <td>-6.359731</td>\n",
       "    </tr>\n",
       "    <tr>\n",
       "      <th>3199</th>\n",
       "      <td>-0.001099</td>\n",
       "      <td>0.0</td>\n",
       "      <td>2.138906</td>\n",
       "      <td>1.989984</td>\n",
       "      <td>0.0</td>\n",
       "      <td>0.038774</td>\n",
       "      <td>-0.002630</td>\n",
       "      <td>-0.073105</td>\n",
       "      <td>0.0</td>\n",
       "      <td>0.036433</td>\n",
       "      <td>...</td>\n",
       "      <td>-19.999403</td>\n",
       "      <td>0.270039</td>\n",
       "      <td>0.340515</td>\n",
       "      <td>-0.994468</td>\n",
       "      <td>0.943273</td>\n",
       "      <td>0.038774</td>\n",
       "      <td>0.007936</td>\n",
       "      <td>-0.206195</td>\n",
       "      <td>-0.029445</td>\n",
       "      <td>-6.338786</td>\n",
       "    </tr>\n",
       "  </tbody>\n",
       "</table>\n",
       "<p>3200 rows × 27 columns</p>\n",
       "</div>"
      ],
      "text/plain": [
       "         acc_x  acc_y     acc_z     vel_x  vel_y     vel_z  ang_acc_roll  \\\n",
       "0     0.000000    0.0  0.000000  0.000000    0.0  0.000000      0.000000   \n",
       "1     2.000000    0.0  0.000000  0.010000    0.0  0.000000      0.000000   \n",
       "2     2.000000    0.0  0.000000  0.020000    0.0  0.000000      0.000000   \n",
       "3     2.000000    0.0  0.000000  0.030000    0.0  0.000000      0.000000   \n",
       "4     1.999999    0.0  0.000000  0.040000    0.0  0.000000      0.000000   \n",
       "...        ...    ...       ...       ...    ...       ...           ...   \n",
       "3195  0.003637    0.0  2.013336  1.989993    0.0 -0.007995      0.197962   \n",
       "3196  0.002543    0.0  2.063595  1.990010    0.0  0.003465      0.148393   \n",
       "3197  0.001370    0.0  2.101391  1.990014    0.0  0.015127      0.098239   \n",
       "3198  0.000000    0.0  2.126533  1.990006    0.0  0.026921      0.047795   \n",
       "3199 -0.001099    0.0  2.138906  1.989984    0.0  0.038774     -0.002630   \n",
       "\n",
       "      ang_acc_pitch  ang_acc_yaw  ang_vel_roll  ...        yaw        u1  \\\n",
       "0          0.000000          0.0      0.000000  ... -19.999989  0.000000   \n",
       "1          0.000000          0.0      0.000000  ... -19.999989  0.000000   \n",
       "2          0.000000          0.0      0.000000  ... -19.999989  0.000000   \n",
       "3          0.000000          0.0      0.000000  ... -19.999989  0.000000   \n",
       "4          0.000000          0.0      0.000000  ... -19.999989  0.000000   \n",
       "...             ...          ...           ...  ...        ...       ...   \n",
       "3195       0.471714          0.0      0.034974  ... -19.999411  0.270039   \n",
       "3196       0.337106          0.0      0.035716  ... -19.999411  0.270039   \n",
       "3197       0.200889          0.0      0.036207  ... -19.999407  0.270039   \n",
       "3198       0.063872          0.0      0.036446  ... -19.999405  0.270039   \n",
       "3199      -0.073105          0.0      0.036433  ... -19.999403  0.270039   \n",
       "\n",
       "            u2        u3        x1        x2        x3        x4        x5  \\\n",
       "0     0.000000  0.000000  2.000000  0.000000  0.000000  0.000000  0.000000   \n",
       "1     0.000000  0.000000  2.000000  0.000000  0.000000  0.000000  0.000000   \n",
       "2     0.000000  0.000000  2.000003  0.000000  0.000000  0.000000  0.000000   \n",
       "3     0.000000  0.000000  2.000003  0.000000  0.000000  0.000000  0.000000   \n",
       "4     0.000000  0.000000  2.000000  0.000000  0.000000  0.000000  0.000000   \n",
       "...        ...       ...       ...       ...       ...       ...       ...   \n",
       "3195  0.340515 -0.994468  0.947143 -0.007995  0.012290 -0.232942  0.103491   \n",
       "3196  0.340515 -0.994468  0.946104  0.003465  0.011151 -0.226023  0.070604   \n",
       "3197  0.340515 -0.994468  0.945107  0.015127  0.010047 -0.219259  0.037341   \n",
       "3198  0.340515 -0.994468  0.944164  0.026921  0.008975 -0.212650  0.003921   \n",
       "3199  0.340515 -0.994468  0.943273  0.038774  0.007936 -0.206195 -0.029445   \n",
       "\n",
       "            x6  \n",
       "0     0.000000  \n",
       "1     0.000000  \n",
       "2     0.000000  \n",
       "3     0.000000  \n",
       "4     0.000000  \n",
       "...        ...  \n",
       "3195 -6.187296  \n",
       "3196 -6.283877  \n",
       "3197 -6.341432  \n",
       "3198 -6.359731  \n",
       "3199 -6.338786  \n",
       "\n",
       "[3200 rows x 27 columns]"
      ]
     },
     "metadata": {},
     "output_type": "display_data"
    }
   ],
   "source": [
    "import pandas as pd\n",
    "import numpy as np\n",
    "import matplotlib.pyplot as plt\n",
    "np.set_printoptions(formatter={'float': lambda x: \"{0:0.3f}\".format(x)})\n",
    "df = pd.read_csv(\"Simulation_data.csv\")\n",
    "display(df)"
   ]
  },
  {
   "cell_type": "code",
   "execution_count": 192,
   "id": "spatial-costume",
   "metadata": {},
   "outputs": [
    {
     "data": {
      "image/png": "[encoded data removed]",
      "text/plain": [
       "<Figure size 432x288 with 1 Axes>"
      ]
     },
     "metadata": {
      "needs_background": "light"
     },
     "output_type": "display_data"
    }
   ],
   "source": [
    "import numpy as np\n",
    "import matplotlib.pyplot as plt\n",
    "diff = 0\n",
    "prev_angles = np.array([-20,-20,0])[:,np.newaxis]\n",
    "real_angles = np.array([-20,-20,0])[:,np.newaxis]\n",
    "t = np.linspace(0,200,201)\n",
    "def wing_pid2(da1,da2,da3):\n",
    "    global prev_angles, real_angles, diff\n",
    "    desired_angles = np.vstack((da1, da2, da3))\n",
    "\n",
    "    error_angles = desired_angles - prev_angles\n",
    "    #print(error_angles)\n",
    "    Kp_a = 0.002\n",
    "    Kd_a = 0.01\n",
    "\n",
    "    real_angles = prev_angles + error_angles*Kp_a + diff * Kd_a\n",
    "    diff = real_angles - prev_angles\n",
    "    prev_angles = real_angles\n",
    "    return real_angles[0], real_angles[1], real_angles[2]\n",
    "\n",
    "angler1 = []\n",
    "angler2 = []\n",
    "angler3 = []\n",
    "for x in range(201):\n",
    "    angles1, angles2, angles3 = wing_pid2(1,2,3)\n",
    "    angler1.append(angles1)\n",
    "    angler2.append(angles2)\n",
    "    angler3.append(angles3)\n",
    "    \n",
    "plt.plot(t,angler1)\n",
    "plt.plot(t,angler2)\n",
    "plt.plot(t,angler3)\n",
    "plt.show()\n"
   ]
  },
  {
   "cell_type": "code",
   "execution_count": 193,
   "id": "funky-demand",
   "metadata": {},
   "outputs": [
    {
     "data": {
      "text/plain": [
       "<AxesSubplot:>"
      ]
     },
     "execution_count": 193,
     "metadata": {},
     "output_type": "execute_result"
    },
    {
     "data": {
      "image/png": "[encoded data removed]",
      "text/plain": [
       "<Figure size 432x288 with 1 Axes>"
      ]
     },
     "metadata": {
      "needs_background": "light"
     },
     "output_type": "display_data"
    }
   ],
   "source": [
    "df[\"roll\"].plot()\n",
    "\n"
   ]
  },
  {
   "cell_type": "markdown",
   "id": "seventh-feature",
   "metadata": {},
   "source": [
    "# State space representation"
   ]
  },
  {
   "cell_type": "markdown",
   "id": "opposed-swift",
   "metadata": {},
   "source": [
    "#### Define symbols"
   ]
  },
  {
   "cell_type": "code",
   "execution_count": 194,
   "id": "resident-platinum",
   "metadata": {},
   "outputs": [],
   "source": [
    "import sympy as sy\n",
    "from sympy import *\n",
    "m, g, theta, rho, Vol, S1, S2, S3, S4, u, x1, x2, x3, x4, x5, x6, dh1,dh2, dr1,dr2,dp1,dp2 = symbols(\"m g theta rho Vol S1 S2 S3 S4 u x1 x2 x3 x4 x5 x6 dh1 dh2 dr1 dr2 dp1 dp2\")\n",
    "u1, u2, u3, r1, Iyx, Ixz, Iyz, Zw, xG, dg, db, d1, d2, d3, d4 = symbols (\"u1 u2 u3 r1 Iyx Ixz Iyz Zw xG dg db d1 d2 d3 d4\")\n",
    "x2d, x4d, x6d, Ix, Kp, Ixy, Iy, Mq = symbols(\"x2d x4d x6d Ix Kp Ixy Iy Mq\")"
   ]
  },
  {
   "cell_type": "markdown",
   "id": "differential-model",
   "metadata": {},
   "source": [
    "#### Force equations"
   ]
  },
  {
   "cell_type": "code",
   "execution_count": 195,
   "id": "peripheral-winning",
   "metadata": {},
   "outputs": [],
   "source": [
    "#Heave equation\n",
    "damping_h = dh1*x2+dh2*x2d\n",
    "F1 = -damping_h -m*g*cos(x5) + rho*Vol*g*cos(x5) + 2*(1/2*rho*1/8*x5*S1*(x2**2+u**2) + 1/2*rho*1/8*x5*S3*(x2**2+u**2)+1/2*rho*1/8*(x5-u3)*S4*(x2**2+u**2)) + 1/2*rho*1/8*(x5-u1)*S2*(x2**2+u**2)+1/2*rho*1/8*(x5-u2)*S2*(x2**2+u**2) - u*m*x6\n",
    "#Roll equation\n",
    "damping_r = dr1*x4+dr2*x4d\n",
    "F2 = -damping_r + 1/2*rho*1/8*(x5-u1)*S2*(x2**2+u**2)*r1 - 1/2*rho*1/8*(x5-u2)*S2*(x2**2+u**2)*r1 + x6*(Iyx*x6-Ixz*x4)\n",
    "#Pitch equation\n",
    "damping_p = dp1*x6+dp2*x6d\n",
    "F3 = -damping_p -m*g*dg*cos(x5) + db*rho*Vol*g*cos(x5) + 2*1/2*rho*1/8*x5*S1*(x2**2+u**2)*d1 + 1/2*rho*1/8*(x5-u1)*S2*(x2**2+u**2)*d2 + 1/2*rho*1/8*(x5-u2)*S2*(x2**2+u**2)*d2 + 2*1/2*rho*1/8*x5*S3*(x2**2+u**2)*d3 + 2*1/2*rho*1/8*(x5-u3)*S4*(x2**2+u**2)*d4 + u*m*xG*x6 + x4*(Iyz*x6+Ixz*x4)+Zw*x2*u"
   ]
  },
  {
   "cell_type": "code",
   "execution_count": 196,
   "id": "charming-chosen",
   "metadata": {},
   "outputs": [],
   "source": [
    "#Heave equation\n",
    "damping_h = -dh1*x2-dh2*(x2**2)\n",
    "F1 = damping_h -m*g*sin(x5) + rho*Vol*g*sin(x5) + 2*(1/2*rho*1/8*x5*S1*(x2**2+u**2) + 1/2*rho*1/8*x5*S3*(x2**2+u**2)+1/2*rho*1/8*(x5-u3)*S4*(x2**2+u**2)) + 1/2*rho*1/8*(x5-u1)*S2*(x2**2+u**2)+1/2*rho*1/8*(x5-u2)*S2*(x2**2+u**2) - u*m*x6\n",
    "#Roll equation\n",
    "damping_r = -dr1*x4-dr2*(x4**2)\n",
    "F2 = damping_r + 1/2*rho*1/8*(x5-u1)*S2*(x2**2+u**2)*r1 - 1/2*rho*1/8*(x5-u2)*S2*(x2**2+u**2)*r1 + x6*(Iyx*x6-Ixz*x4)\n",
    "#Pitch equation\n",
    "damping_p = -dp1*x6-dp2*(x6**2)\n",
    "F3 = damping_p -m*g*dg*sin(x5) + db*rho*Vol*g*sin(x5) + 2*1/2*rho*1/8*x5*S1*(x2**2+u**2)*d1 + 1/2*rho*1/8*(x5-u1)*S2*(x2**2+u**2)*d2 + 1/2*rho*1/8*(x5-u2)*S2*(x2**2+u**2)*d2 + 2*1/2*rho*1/8*x5*S3*(x2**2+u**2)*d3 + 2*1/2*rho*1/8*(x5-u3)*S4*(x2**2+u**2)*d4 + u*m*xG*x6 + x4*(Iyz*x6+Ixz*x4)+Zw*x2*u"
   ]
  },
  {
   "cell_type": "markdown",
   "id": "united-intro",
   "metadata": {},
   "source": [
    "#### M*a equations"
   ]
  },
  {
   "cell_type": "code",
   "execution_count": 197,
   "id": "statewide-puzzle",
   "metadata": {},
   "outputs": [],
   "source": [
    "#Heave mass-acceleration product\n",
    "Ma1 = x2d*(m+Zw) - x6d*m*xG\n",
    "#Roll mass-acceleration product\n",
    "Ma2 = x4d*(Ix+Kp) - x6d*Ixy\n",
    "#Pitch mass-acceleration product\n",
    "Ma3 = -x2d*m*xG - x4d*Ixy + x6d*(Iy+Mq)\n",
    "\n",
    "#Define equations\n",
    "eq1 = sy.Eq(F1, Ma1)\n",
    "eq2 = sy.Eq(F2, Ma2)\n",
    "eq3 = sy.Eq(F3, Ma3)"
   ]
  },
  {
   "cell_type": "markdown",
   "id": "imported-draft",
   "metadata": {},
   "source": [
    "#### Solving for x2d, x4d and x6d - little slow"
   ]
  },
  {
   "cell_type": "code",
   "execution_count": 198,
   "id": "recorded-cooling",
   "metadata": {},
   "outputs": [
    {
     "data": {
      "text/plain": [
       "'\\nprint(\"---------------------------------------------X2D-------------------------------------------\")\\nprint(str(r_list[0]))\\nprint(\"---------------------------------------------X4D-------------------------------------------\")\\nprint(str(r_list[1]))\\nprint(\"---------------------------------------------X6D-------------------------------------------\")\\nprint(str(r_list[2]))\\n'"
      ]
     },
     "execution_count": 198,
     "metadata": {},
     "output_type": "execute_result"
    }
   ],
   "source": [
    "#\n",
    "r = sy.solve((eq1,eq2,eq3),(x2d,x4d,x6d))\n",
    "\n",
    "r_list = list(r.items())\n",
    "\"\"\"\n",
    "print(\"---------------------------------------------X2D-------------------------------------------\")\n",
    "print(str(r_list[0]))\n",
    "print(\"---------------------------------------------X4D-------------------------------------------\")\n",
    "print(str(r_list[1]))\n",
    "print(\"---------------------------------------------X6D-------------------------------------------\")\n",
    "print(str(r_list[2]))\n",
    "\"\"\""
   ]
  },
  {
   "cell_type": "markdown",
   "id": "double-utility",
   "metadata": {},
   "source": [
    "#### Define x2d,x4d and x6d using sin"
   ]
  },
  {
   "cell_type": "code",
   "execution_count": 199,
   "id": "under-cardiff",
   "metadata": {},
   "outputs": [],
   "source": [
    "x2d = -16.0*Ix*Ixz*m*x4**2*xG/(-16.0*Ix*Iy*Zw - 16.0*Ix*Iy*m - 16.0*Ix*Mq*Zw - 16.0*Ix*Mq*m + 16.0*Ix*m**2*xG**2 + 16.0*Ixy**2*Zw + 16.0*Ixy**2*m - 16.0*Iy*Kp*Zw - 16.0*Iy*Kp*m - 16.0*Kp*Mq*Zw - 16.0*Kp*Mq*m + 16.0*Kp*m**2*xG**2) - 2.0*Ix*Iy*S1*rho*u**2*x5/(-16.0*Ix*Iy*Zw - 16.0*Ix*Iy*m - 16.0*Ix*Mq*Zw - 16.0*Ix*Mq*m + 16.0*Ix*m**2*xG**2 + 16.0*Ixy**2*Zw + 16.0*Ixy**2*m - 16.0*Iy*Kp*Zw - 16.0*Iy*Kp*m - 16.0*Kp*Mq*Zw - 16.0*Kp*Mq*m + 16.0*Kp*m**2*xG**2) - 2.0*Ix*Iy*S1*rho*x2**2*x5/(-16.0*Ix*Iy*Zw - 16.0*Ix*Iy*m - 16.0*Ix*Mq*Zw - 16.0*Ix*Mq*m + 16.0*Ix*m**2*xG**2 + 16.0*Ixy**2*Zw + 16.0*Ixy**2*m - 16.0*Iy*Kp*Zw - 16.0*Iy*Kp*m - 16.0*Kp*Mq*Zw - 16.0*Kp*Mq*m + 16.0*Kp*m**2*xG**2) + Ix*Iy*S2*rho*u**2*u1/(-16.0*Ix*Iy*Zw - 16.0*Ix*Iy*m - 16.0*Ix*Mq*Zw - 16.0*Ix*Mq*m + 16.0*Ix*m**2*xG**2 + 16.0*Ixy**2*Zw + 16.0*Ixy**2*m - 16.0*Iy*Kp*Zw - 16.0*Iy*Kp*m - 16.0*Kp*Mq*Zw - 16.0*Kp*Mq*m + 16.0*Kp*m**2*xG**2) + Ix*Iy*S2*rho*u**2*u2/(-16.0*Ix*Iy*Zw - 16.0*Ix*Iy*m - 16.0*Ix*Mq*Zw - 16.0*Ix*Mq*m + 16.0*Ix*m**2*xG**2 + 16.0*Ixy**2*Zw + 16.0*Ixy**2*m - 16.0*Iy*Kp*Zw - 16.0*Iy*Kp*m - 16.0*Kp*Mq*Zw - 16.0*Kp*Mq*m + 16.0*Kp*m**2*xG**2) - 2.0*Ix*Iy*S2*rho*u**2*x5/(-16.0*Ix*Iy*Zw - 16.0*Ix*Iy*m - 16.0*Ix*Mq*Zw - 16.0*Ix*Mq*m + 16.0*Ix*m**2*xG**2 + 16.0*Ixy**2*Zw + 16.0*Ixy**2*m - 16.0*Iy*Kp*Zw - 16.0*Iy*Kp*m - 16.0*Kp*Mq*Zw - 16.0*Kp*Mq*m + 16.0*Kp*m**2*xG**2) + Ix*Iy*S2*rho*u1*x2**2/(-16.0*Ix*Iy*Zw - 16.0*Ix*Iy*m - 16.0*Ix*Mq*Zw - 16.0*Ix*Mq*m + 16.0*Ix*m**2*xG**2 + 16.0*Ixy**2*Zw + 16.0*Ixy**2*m - 16.0*Iy*Kp*Zw - 16.0*Iy*Kp*m - 16.0*Kp*Mq*Zw - 16.0*Kp*Mq*m + 16.0*Kp*m**2*xG**2) + Ix*Iy*S2*rho*u2*x2**2/(-16.0*Ix*Iy*Zw - 16.0*Ix*Iy*m - 16.0*Ix*Mq*Zw - 16.0*Ix*Mq*m + 16.0*Ix*m**2*xG**2 + 16.0*Ixy**2*Zw + 16.0*Ixy**2*m - 16.0*Iy*Kp*Zw - 16.0*Iy*Kp*m - 16.0*Kp*Mq*Zw - 16.0*Kp*Mq*m + 16.0*Kp*m**2*xG**2) - 2.0*Ix*Iy*S2*rho*x2**2*x5/(-16.0*Ix*Iy*Zw - 16.0*Ix*Iy*m - 16.0*Ix*Mq*Zw - 16.0*Ix*Mq*m + 16.0*Ix*m**2*xG**2 + 16.0*Ixy**2*Zw + 16.0*Ixy**2*m - 16.0*Iy*Kp*Zw - 16.0*Iy*Kp*m - 16.0*Kp*Mq*Zw - 16.0*Kp*Mq*m + 16.0*Kp*m**2*xG**2) - 2.0*Ix*Iy*S3*rho*u**2*x5/(-16.0*Ix*Iy*Zw - 16.0*Ix*Iy*m - 16.0*Ix*Mq*Zw - 16.0*Ix*Mq*m + 16.0*Ix*m**2*xG**2 + 16.0*Ixy**2*Zw + 16.0*Ixy**2*m - 16.0*Iy*Kp*Zw - 16.0*Iy*Kp*m - 16.0*Kp*Mq*Zw - 16.0*Kp*Mq*m + 16.0*Kp*m**2*xG**2) - 2.0*Ix*Iy*S3*rho*x2**2*x5/(-16.0*Ix*Iy*Zw - 16.0*Ix*Iy*m - 16.0*Ix*Mq*Zw - 16.0*Ix*Mq*m + 16.0*Ix*m**2*xG**2 + 16.0*Ixy**2*Zw + 16.0*Ixy**2*m - 16.0*Iy*Kp*Zw - 16.0*Iy*Kp*m - 16.0*Kp*Mq*Zw - 16.0*Kp*Mq*m + 16.0*Kp*m**2*xG**2) + 2.0*Ix*Iy*S4*rho*u**2*u3/(-16.0*Ix*Iy*Zw - 16.0*Ix*Iy*m - 16.0*Ix*Mq*Zw - 16.0*Ix*Mq*m + 16.0*Ix*m**2*xG**2 + 16.0*Ixy**2*Zw + 16.0*Ixy**2*m - 16.0*Iy*Kp*Zw - 16.0*Iy*Kp*m - 16.0*Kp*Mq*Zw - 16.0*Kp*Mq*m + 16.0*Kp*m**2*xG**2) - 2.0*Ix*Iy*S4*rho*u**2*x5/(-16.0*Ix*Iy*Zw - 16.0*Ix*Iy*m - 16.0*Ix*Mq*Zw - 16.0*Ix*Mq*m + 16.0*Ix*m**2*xG**2 + 16.0*Ixy**2*Zw + 16.0*Ixy**2*m - 16.0*Iy*Kp*Zw - 16.0*Iy*Kp*m - 16.0*Kp*Mq*Zw - 16.0*Kp*Mq*m + 16.0*Kp*m**2*xG**2) + 2.0*Ix*Iy*S4*rho*u3*x2**2/(-16.0*Ix*Iy*Zw - 16.0*Ix*Iy*m - 16.0*Ix*Mq*Zw - 16.0*Ix*Mq*m + 16.0*Ix*m**2*xG**2 + 16.0*Ixy**2*Zw + 16.0*Ixy**2*m - 16.0*Iy*Kp*Zw - 16.0*Iy*Kp*m - 16.0*Kp*Mq*Zw - 16.0*Kp*Mq*m + 16.0*Kp*m**2*xG**2) - 2.0*Ix*Iy*S4*rho*x2**2*x5/(-16.0*Ix*Iy*Zw - 16.0*Ix*Iy*m - 16.0*Ix*Mq*Zw - 16.0*Ix*Mq*m + 16.0*Ix*m**2*xG**2 + 16.0*Ixy**2*Zw + 16.0*Ixy**2*m - 16.0*Iy*Kp*Zw - 16.0*Iy*Kp*m - 16.0*Kp*Mq*Zw - 16.0*Kp*Mq*m + 16.0*Kp*m**2*xG**2) - 16.0*Ix*Iy*Vol*g*rho*sin(x5)/(-16.0*Ix*Iy*Zw - 16.0*Ix*Iy*m - 16.0*Ix*Mq*Zw - 16.0*Ix*Mq*m + 16.0*Ix*m**2*xG**2 + 16.0*Ixy**2*Zw + 16.0*Ixy**2*m - 16.0*Iy*Kp*Zw - 16.0*Iy*Kp*m - 16.0*Kp*Mq*Zw - 16.0*Kp*Mq*m + 16.0*Kp*m**2*xG**2) + 16.0*Ix*Iy*dh1*x2/(-16.0*Ix*Iy*Zw - 16.0*Ix*Iy*m - 16.0*Ix*Mq*Zw - 16.0*Ix*Mq*m + 16.0*Ix*m**2*xG**2 + 16.0*Ixy**2*Zw + 16.0*Ixy**2*m - 16.0*Iy*Kp*Zw - 16.0*Iy*Kp*m - 16.0*Kp*Mq*Zw - 16.0*Kp*Mq*m + 16.0*Kp*m**2*xG**2) + 16.0*Ix*Iy*dh2*x2**2/(-16.0*Ix*Iy*Zw - 16.0*Ix*Iy*m - 16.0*Ix*Mq*Zw - 16.0*Ix*Mq*m + 16.0*Ix*m**2*xG**2 + 16.0*Ixy**2*Zw + 16.0*Ixy**2*m - 16.0*Iy*Kp*Zw - 16.0*Iy*Kp*m - 16.0*Kp*Mq*Zw - 16.0*Kp*Mq*m + 16.0*Kp*m**2*xG**2) + 16.0*Ix*Iy*g*m*sin(x5)/(-16.0*Ix*Iy*Zw - 16.0*Ix*Iy*m - 16.0*Ix*Mq*Zw - 16.0*Ix*Mq*m + 16.0*Ix*m**2*xG**2 + 16.0*Ixy**2*Zw + 16.0*Ixy**2*m - 16.0*Iy*Kp*Zw - 16.0*Iy*Kp*m - 16.0*Kp*Mq*Zw - 16.0*Kp*Mq*m + 16.0*Kp*m**2*xG**2) + 16.0*Ix*Iy*m*u*x6/(-16.0*Ix*Iy*Zw - 16.0*Ix*Iy*m - 16.0*Ix*Mq*Zw - 16.0*Ix*Mq*m + 16.0*Ix*m**2*xG**2 + 16.0*Ixy**2*Zw + 16.0*Ixy**2*m - 16.0*Iy*Kp*Zw - 16.0*Iy*Kp*m - 16.0*Kp*Mq*Zw - 16.0*Kp*Mq*m + 16.0*Kp*m**2*xG**2) - 16.0*Ix*Iyz*m*x4*x6*xG/(-16.0*Ix*Iy*Zw - 16.0*Ix*Iy*m - 16.0*Ix*Mq*Zw - 16.0*Ix*Mq*m + 16.0*Ix*m**2*xG**2 + 16.0*Ixy**2*Zw + 16.0*Ixy**2*m - 16.0*Iy*Kp*Zw - 16.0*Iy*Kp*m - 16.0*Kp*Mq*Zw - 16.0*Kp*Mq*m + 16.0*Kp*m**2*xG**2) - 2.0*Ix*Mq*S1*rho*u**2*x5/(-16.0*Ix*Iy*Zw - 16.0*Ix*Iy*m - 16.0*Ix*Mq*Zw - 16.0*Ix*Mq*m + 16.0*Ix*m**2*xG**2 + 16.0*Ixy**2*Zw + 16.0*Ixy**2*m - 16.0*Iy*Kp*Zw - 16.0*Iy*Kp*m - 16.0*Kp*Mq*Zw - 16.0*Kp*Mq*m + 16.0*Kp*m**2*xG**2) - 2.0*Ix*Mq*S1*rho*x2**2*x5/(-16.0*Ix*Iy*Zw - 16.0*Ix*Iy*m - 16.0*Ix*Mq*Zw - 16.0*Ix*Mq*m + 16.0*Ix*m**2*xG**2 + 16.0*Ixy**2*Zw + 16.0*Ixy**2*m - 16.0*Iy*Kp*Zw - 16.0*Iy*Kp*m - 16.0*Kp*Mq*Zw - 16.0*Kp*Mq*m + 16.0*Kp*m**2*xG**2) + Ix*Mq*S2*rho*u**2*u1/(-16.0*Ix*Iy*Zw - 16.0*Ix*Iy*m - 16.0*Ix*Mq*Zw - 16.0*Ix*Mq*m + 16.0*Ix*m**2*xG**2 + 16.0*Ixy**2*Zw + 16.0*Ixy**2*m - 16.0*Iy*Kp*Zw - 16.0*Iy*Kp*m - 16.0*Kp*Mq*Zw - 16.0*Kp*Mq*m + 16.0*Kp*m**2*xG**2) + Ix*Mq*S2*rho*u**2*u2/(-16.0*Ix*Iy*Zw - 16.0*Ix*Iy*m - 16.0*Ix*Mq*Zw - 16.0*Ix*Mq*m + 16.0*Ix*m**2*xG**2 + 16.0*Ixy**2*Zw + 16.0*Ixy**2*m - 16.0*Iy*Kp*Zw - 16.0*Iy*Kp*m - 16.0*Kp*Mq*Zw - 16.0*Kp*Mq*m + 16.0*Kp*m**2*xG**2) - 2.0*Ix*Mq*S2*rho*u**2*x5/(-16.0*Ix*Iy*Zw - 16.0*Ix*Iy*m - 16.0*Ix*Mq*Zw - 16.0*Ix*Mq*m + 16.0*Ix*m**2*xG**2 + 16.0*Ixy**2*Zw + 16.0*Ixy**2*m - 16.0*Iy*Kp*Zw - 16.0*Iy*Kp*m - 16.0*Kp*Mq*Zw - 16.0*Kp*Mq*m + 16.0*Kp*m**2*xG**2) + Ix*Mq*S2*rho*u1*x2**2/(-16.0*Ix*Iy*Zw - 16.0*Ix*Iy*m - 16.0*Ix*Mq*Zw - 16.0*Ix*Mq*m + 16.0*Ix*m**2*xG**2 + 16.0*Ixy**2*Zw + 16.0*Ixy**2*m - 16.0*Iy*Kp*Zw - 16.0*Iy*Kp*m - 16.0*Kp*Mq*Zw - 16.0*Kp*Mq*m + 16.0*Kp*m**2*xG**2) + Ix*Mq*S2*rho*u2*x2**2/(-16.0*Ix*Iy*Zw - 16.0*Ix*Iy*m - 16.0*Ix*Mq*Zw - 16.0*Ix*Mq*m + 16.0*Ix*m**2*xG**2 + 16.0*Ixy**2*Zw + 16.0*Ixy**2*m - 16.0*Iy*Kp*Zw - 16.0*Iy*Kp*m - 16.0*Kp*Mq*Zw - 16.0*Kp*Mq*m + 16.0*Kp*m**2*xG**2) - 2.0*Ix*Mq*S2*rho*x2**2*x5/(-16.0*Ix*Iy*Zw - 16.0*Ix*Iy*m - 16.0*Ix*Mq*Zw - 16.0*Ix*Mq*m + 16.0*Ix*m**2*xG**2 + 16.0*Ixy**2*Zw + 16.0*Ixy**2*m - 16.0*Iy*Kp*Zw - 16.0*Iy*Kp*m - 16.0*Kp*Mq*Zw - 16.0*Kp*Mq*m + 16.0*Kp*m**2*xG**2) - 2.0*Ix*Mq*S3*rho*u**2*x5/(-16.0*Ix*Iy*Zw - 16.0*Ix*Iy*m - 16.0*Ix*Mq*Zw - 16.0*Ix*Mq*m + 16.0*Ix*m**2*xG**2 + 16.0*Ixy**2*Zw + 16.0*Ixy**2*m - 16.0*Iy*Kp*Zw - 16.0*Iy*Kp*m - 16.0*Kp*Mq*Zw - 16.0*Kp*Mq*m + 16.0*Kp*m**2*xG**2) - 2.0*Ix*Mq*S3*rho*x2**2*x5/(-16.0*Ix*Iy*Zw - 16.0*Ix*Iy*m - 16.0*Ix*Mq*Zw - 16.0*Ix*Mq*m + 16.0*Ix*m**2*xG**2 + 16.0*Ixy**2*Zw + 16.0*Ixy**2*m - 16.0*Iy*Kp*Zw - 16.0*Iy*Kp*m - 16.0*Kp*Mq*Zw - 16.0*Kp*Mq*m + 16.0*Kp*m**2*xG**2) + 2.0*Ix*Mq*S4*rho*u**2*u3/(-16.0*Ix*Iy*Zw - 16.0*Ix*Iy*m - 16.0*Ix*Mq*Zw - 16.0*Ix*Mq*m + 16.0*Ix*m**2*xG**2 + 16.0*Ixy**2*Zw + 16.0*Ixy**2*m - 16.0*Iy*Kp*Zw - 16.0*Iy*Kp*m - 16.0*Kp*Mq*Zw - 16.0*Kp*Mq*m + 16.0*Kp*m**2*xG**2) - 2.0*Ix*Mq*S4*rho*u**2*x5/(-16.0*Ix*Iy*Zw - 16.0*Ix*Iy*m - 16.0*Ix*Mq*Zw - 16.0*Ix*Mq*m + 16.0*Ix*m**2*xG**2 + 16.0*Ixy**2*Zw + 16.0*Ixy**2*m - 16.0*Iy*Kp*Zw - 16.0*Iy*Kp*m - 16.0*Kp*Mq*Zw - 16.0*Kp*Mq*m + 16.0*Kp*m**2*xG**2) + 2.0*Ix*Mq*S4*rho*u3*x2**2/(-16.0*Ix*Iy*Zw - 16.0*Ix*Iy*m - 16.0*Ix*Mq*Zw - 16.0*Ix*Mq*m + 16.0*Ix*m**2*xG**2 + 16.0*Ixy**2*Zw + 16.0*Ixy**2*m - 16.0*Iy*Kp*Zw - 16.0*Iy*Kp*m - 16.0*Kp*Mq*Zw - 16.0*Kp*Mq*m + 16.0*Kp*m**2*xG**2) - 2.0*Ix*Mq*S4*rho*x2**2*x5/(-16.0*Ix*Iy*Zw - 16.0*Ix*Iy*m - 16.0*Ix*Mq*Zw - 16.0*Ix*Mq*m + 16.0*Ix*m**2*xG**2 + 16.0*Ixy**2*Zw + 16.0*Ixy**2*m - 16.0*Iy*Kp*Zw - 16.0*Iy*Kp*m - 16.0*Kp*Mq*Zw - 16.0*Kp*Mq*m + 16.0*Kp*m**2*xG**2) - 16.0*Ix*Mq*Vol*g*rho*sin(x5)/(-16.0*Ix*Iy*Zw - 16.0*Ix*Iy*m - 16.0*Ix*Mq*Zw - 16.0*Ix*Mq*m + 16.0*Ix*m**2*xG**2 + 16.0*Ixy**2*Zw + 16.0*Ixy**2*m - 16.0*Iy*Kp*Zw - 16.0*Iy*Kp*m - 16.0*Kp*Mq*Zw - 16.0*Kp*Mq*m + 16.0*Kp*m**2*xG**2) + 16.0*Ix*Mq*dh1*x2/(-16.0*Ix*Iy*Zw - 16.0*Ix*Iy*m - 16.0*Ix*Mq*Zw - 16.0*Ix*Mq*m + 16.0*Ix*m**2*xG**2 + 16.0*Ixy**2*Zw + 16.0*Ixy**2*m - 16.0*Iy*Kp*Zw - 16.0*Iy*Kp*m - 16.0*Kp*Mq*Zw - 16.0*Kp*Mq*m + 16.0*Kp*m**2*xG**2) + 16.0*Ix*Mq*dh2*x2**2/(-16.0*Ix*Iy*Zw - 16.0*Ix*Iy*m - 16.0*Ix*Mq*Zw - 16.0*Ix*Mq*m + 16.0*Ix*m**2*xG**2 + 16.0*Ixy**2*Zw + 16.0*Ixy**2*m - 16.0*Iy*Kp*Zw - 16.0*Iy*Kp*m - 16.0*Kp*Mq*Zw - 16.0*Kp*Mq*m + 16.0*Kp*m**2*xG**2) + 16.0*Ix*Mq*g*m*sin(x5)/(-16.0*Ix*Iy*Zw - 16.0*Ix*Iy*m - 16.0*Ix*Mq*Zw - 16.0*Ix*Mq*m + 16.0*Ix*m**2*xG**2 + 16.0*Ixy**2*Zw + 16.0*Ixy**2*m - 16.0*Iy*Kp*Zw - 16.0*Iy*Kp*m - 16.0*Kp*Mq*Zw - 16.0*Kp*Mq*m + 16.0*Kp*m**2*xG**2) + 16.0*Ix*Mq*m*u*x6/(-16.0*Ix*Iy*Zw - 16.0*Ix*Iy*m - 16.0*Ix*Mq*Zw - 16.0*Ix*Mq*m + 16.0*Ix*m**2*xG**2 + 16.0*Ixy**2*Zw + 16.0*Ixy**2*m - 16.0*Iy*Kp*Zw - 16.0*Iy*Kp*m - 16.0*Kp*Mq*Zw - 16.0*Kp*Mq*m + 16.0*Kp*m**2*xG**2) - 2.0*Ix*S1*d1*m*rho*u**2*x5*xG/(-16.0*Ix*Iy*Zw - 16.0*Ix*Iy*m - 16.0*Ix*Mq*Zw - 16.0*Ix*Mq*m + 16.0*Ix*m**2*xG**2 + 16.0*Ixy**2*Zw + 16.0*Ixy**2*m - 16.0*Iy*Kp*Zw - 16.0*Iy*Kp*m - 16.0*Kp*Mq*Zw - 16.0*Kp*Mq*m + 16.0*Kp*m**2*xG**2) - 2.0*Ix*S1*d1*m*rho*x2**2*x5*xG/(-16.0*Ix*Iy*Zw - 16.0*Ix*Iy*m - 16.0*Ix*Mq*Zw - 16.0*Ix*Mq*m + 16.0*Ix*m**2*xG**2 + 16.0*Ixy**2*Zw + 16.0*Ixy**2*m - 16.0*Iy*Kp*Zw - 16.0*Iy*Kp*m - 16.0*Kp*Mq*Zw - 16.0*Kp*Mq*m + 16.0*Kp*m**2*xG**2) + Ix*S2*d2*m*rho*u**2*u1*xG/(-16.0*Ix*Iy*Zw - 16.0*Ix*Iy*m - 16.0*Ix*Mq*Zw - 16.0*Ix*Mq*m + 16.0*Ix*m**2*xG**2 + 16.0*Ixy**2*Zw + 16.0*Ixy**2*m - 16.0*Iy*Kp*Zw - 16.0*Iy*Kp*m - 16.0*Kp*Mq*Zw - 16.0*Kp*Mq*m + 16.0*Kp*m**2*xG**2) + Ix*S2*d2*m*rho*u**2*u2*xG/(-16.0*Ix*Iy*Zw - 16.0*Ix*Iy*m - 16.0*Ix*Mq*Zw - 16.0*Ix*Mq*m + 16.0*Ix*m**2*xG**2 + 16.0*Ixy**2*Zw + 16.0*Ixy**2*m - 16.0*Iy*Kp*Zw - 16.0*Iy*Kp*m - 16.0*Kp*Mq*Zw - 16.0*Kp*Mq*m + 16.0*Kp*m**2*xG**2) - 2.0*Ix*S2*d2*m*rho*u**2*x5*xG/(-16.0*Ix*Iy*Zw - 16.0*Ix*Iy*m - 16.0*Ix*Mq*Zw - 16.0*Ix*Mq*m + 16.0*Ix*m**2*xG**2 + 16.0*Ixy**2*Zw + 16.0*Ixy**2*m - 16.0*Iy*Kp*Zw - 16.0*Iy*Kp*m - 16.0*Kp*Mq*Zw - 16.0*Kp*Mq*m + 16.0*Kp*m**2*xG**2) + Ix*S2*d2*m*rho*u1*x2**2*xG/(-16.0*Ix*Iy*Zw - 16.0*Ix*Iy*m - 16.0*Ix*Mq*Zw - 16.0*Ix*Mq*m + 16.0*Ix*m**2*xG**2 + 16.0*Ixy**2*Zw + 16.0*Ixy**2*m - 16.0*Iy*Kp*Zw - 16.0*Iy*Kp*m - 16.0*Kp*Mq*Zw - 16.0*Kp*Mq*m + 16.0*Kp*m**2*xG**2) + Ix*S2*d2*m*rho*u2*x2**2*xG/(-16.0*Ix*Iy*Zw - 16.0*Ix*Iy*m - 16.0*Ix*Mq*Zw - 16.0*Ix*Mq*m + 16.0*Ix*m**2*xG**2 + 16.0*Ixy**2*Zw + 16.0*Ixy**2*m - 16.0*Iy*Kp*Zw - 16.0*Iy*Kp*m - 16.0*Kp*Mq*Zw - 16.0*Kp*Mq*m + 16.0*Kp*m**2*xG**2) - 2.0*Ix*S2*d2*m*rho*x2**2*x5*xG/(-16.0*Ix*Iy*Zw - 16.0*Ix*Iy*m - 16.0*Ix*Mq*Zw - 16.0*Ix*Mq*m + 16.0*Ix*m**2*xG**2 + 16.0*Ixy**2*Zw + 16.0*Ixy**2*m - 16.0*Iy*Kp*Zw - 16.0*Iy*Kp*m - 16.0*Kp*Mq*Zw - 16.0*Kp*Mq*m + 16.0*Kp*m**2*xG**2) - 2.0*Ix*S3*d3*m*rho*u**2*x5*xG/(-16.0*Ix*Iy*Zw - 16.0*Ix*Iy*m - 16.0*Ix*Mq*Zw - 16.0*Ix*Mq*m + 16.0*Ix*m**2*xG**2 + 16.0*Ixy**2*Zw + 16.0*Ixy**2*m - 16.0*Iy*Kp*Zw - 16.0*Iy*Kp*m - 16.0*Kp*Mq*Zw - 16.0*Kp*Mq*m + 16.0*Kp*m**2*xG**2) - 2.0*Ix*S3*d3*m*rho*x2**2*x5*xG/(-16.0*Ix*Iy*Zw - 16.0*Ix*Iy*m - 16.0*Ix*Mq*Zw - 16.0*Ix*Mq*m + 16.0*Ix*m**2*xG**2 + 16.0*Ixy**2*Zw + 16.0*Ixy**2*m - 16.0*Iy*Kp*Zw - 16.0*Iy*Kp*m - 16.0*Kp*Mq*Zw - 16.0*Kp*Mq*m + 16.0*Kp*m**2*xG**2) + 2.0*Ix*S4*d4*m*rho*u**2*u3*xG/(-16.0*Ix*Iy*Zw - 16.0*Ix*Iy*m - 16.0*Ix*Mq*Zw - 16.0*Ix*Mq*m + 16.0*Ix*m**2*xG**2 + 16.0*Ixy**2*Zw + 16.0*Ixy**2*m - 16.0*Iy*Kp*Zw - 16.0*Iy*Kp*m - 16.0*Kp*Mq*Zw - 16.0*Kp*Mq*m + 16.0*Kp*m**2*xG**2) - 2.0*Ix*S4*d4*m*rho*u**2*x5*xG/(-16.0*Ix*Iy*Zw - 16.0*Ix*Iy*m - 16.0*Ix*Mq*Zw - 16.0*Ix*Mq*m + 16.0*Ix*m**2*xG**2 + 16.0*Ixy**2*Zw + 16.0*Ixy**2*m - 16.0*Iy*Kp*Zw - 16.0*Iy*Kp*m - 16.0*Kp*Mq*Zw - 16.0*Kp*Mq*m + 16.0*Kp*m**2*xG**2) + 2.0*Ix*S4*d4*m*rho*u3*x2**2*xG/(-16.0*Ix*Iy*Zw - 16.0*Ix*Iy*m - 16.0*Ix*Mq*Zw - 16.0*Ix*Mq*m + 16.0*Ix*m**2*xG**2 + 16.0*Ixy**2*Zw + 16.0*Ixy**2*m - 16.0*Iy*Kp*Zw - 16.0*Iy*Kp*m - 16.0*Kp*Mq*Zw - 16.0*Kp*Mq*m + 16.0*Kp*m**2*xG**2) - 2.0*Ix*S4*d4*m*rho*x2**2*x5*xG/(-16.0*Ix*Iy*Zw - 16.0*Ix*Iy*m - 16.0*Ix*Mq*Zw - 16.0*Ix*Mq*m + 16.0*Ix*m**2*xG**2 + 16.0*Ixy**2*Zw + 16.0*Ixy**2*m - 16.0*Iy*Kp*Zw - 16.0*Iy*Kp*m - 16.0*Kp*Mq*Zw - 16.0*Kp*Mq*m + 16.0*Kp*m**2*xG**2) - 16.0*Ix*Vol*db*g*m*rho*xG*sin(x5)/(-16.0*Ix*Iy*Zw - 16.0*Ix*Iy*m - 16.0*Ix*Mq*Zw - 16.0*Ix*Mq*m + 16.0*Ix*m**2*xG**2 + 16.0*Ixy**2*Zw + 16.0*Ixy**2*m - 16.0*Iy*Kp*Zw - 16.0*Iy*Kp*m - 16.0*Kp*Mq*Zw - 16.0*Kp*Mq*m + 16.0*Kp*m**2*xG**2) - 16.0*Ix*Zw*m*u*x2*xG/(-16.0*Ix*Iy*Zw - 16.0*Ix*Iy*m - 16.0*Ix*Mq*Zw - 16.0*Ix*Mq*m + 16.0*Ix*m**2*xG**2 + 16.0*Ixy**2*Zw + 16.0*Ixy**2*m - 16.0*Iy*Kp*Zw - 16.0*Iy*Kp*m - 16.0*Kp*Mq*Zw - 16.0*Kp*Mq*m + 16.0*Kp*m**2*xG**2) + 16.0*Ix*dg*g*m**2*xG*sin(x5)/(-16.0*Ix*Iy*Zw - 16.0*Ix*Iy*m - 16.0*Ix*Mq*Zw - 16.0*Ix*Mq*m + 16.0*Ix*m**2*xG**2 + 16.0*Ixy**2*Zw + 16.0*Ixy**2*m - 16.0*Iy*Kp*Zw - 16.0*Iy*Kp*m - 16.0*Kp*Mq*Zw - 16.0*Kp*Mq*m + 16.0*Kp*m**2*xG**2) + 16.0*Ix*dp1*m*x6*xG/(-16.0*Ix*Iy*Zw - 16.0*Ix*Iy*m - 16.0*Ix*Mq*Zw - 16.0*Ix*Mq*m + 16.0*Ix*m**2*xG**2 + 16.0*Ixy**2*Zw + 16.0*Ixy**2*m - 16.0*Iy*Kp*Zw - 16.0*Iy*Kp*m - 16.0*Kp*Mq*Zw - 16.0*Kp*Mq*m + 16.0*Kp*m**2*xG**2) + 16.0*Ix*dp2*m*x6**2*xG/(-16.0*Ix*Iy*Zw - 16.0*Ix*Iy*m - 16.0*Ix*Mq*Zw - 16.0*Ix*Mq*m + 16.0*Ix*m**2*xG**2 + 16.0*Ixy**2*Zw + 16.0*Ixy**2*m - 16.0*Iy*Kp*Zw - 16.0*Iy*Kp*m - 16.0*Kp*Mq*Zw - 16.0*Kp*Mq*m + 16.0*Kp*m**2*xG**2) - 16.0*Ix*m**2*u*x6*xG**2/(-16.0*Ix*Iy*Zw - 16.0*Ix*Iy*m - 16.0*Ix*Mq*Zw - 16.0*Ix*Mq*m + 16.0*Ix*m**2*xG**2 + 16.0*Ixy**2*Zw + 16.0*Ixy**2*m - 16.0*Iy*Kp*Zw - 16.0*Iy*Kp*m - 16.0*Kp*Mq*Zw - 16.0*Kp*Mq*m + 16.0*Kp*m**2*xG**2) + 2.0*Ixy**2*S1*rho*u**2*x5/(-16.0*Ix*Iy*Zw - 16.0*Ix*Iy*m - 16.0*Ix*Mq*Zw - 16.0*Ix*Mq*m + 16.0*Ix*m**2*xG**2 + 16.0*Ixy**2*Zw + 16.0*Ixy**2*m - 16.0*Iy*Kp*Zw - 16.0*Iy*Kp*m - 16.0*Kp*Mq*Zw - 16.0*Kp*Mq*m + 16.0*Kp*m**2*xG**2) + 2.0*Ixy**2*S1*rho*x2**2*x5/(-16.0*Ix*Iy*Zw - 16.0*Ix*Iy*m - 16.0*Ix*Mq*Zw - 16.0*Ix*Mq*m + 16.0*Ix*m**2*xG**2 + 16.0*Ixy**2*Zw + 16.0*Ixy**2*m - 16.0*Iy*Kp*Zw - 16.0*Iy*Kp*m - 16.0*Kp*Mq*Zw - 16.0*Kp*Mq*m + 16.0*Kp*m**2*xG**2) - Ixy**2*S2*rho*u**2*u1/(-16.0*Ix*Iy*Zw - 16.0*Ix*Iy*m - 16.0*Ix*Mq*Zw - 16.0*Ix*Mq*m + 16.0*Ix*m**2*xG**2 + 16.0*Ixy**2*Zw + 16.0*Ixy**2*m - 16.0*Iy*Kp*Zw - 16.0*Iy*Kp*m - 16.0*Kp*Mq*Zw - 16.0*Kp*Mq*m + 16.0*Kp*m**2*xG**2) - Ixy**2*S2*rho*u**2*u2/(-16.0*Ix*Iy*Zw - 16.0*Ix*Iy*m - 16.0*Ix*Mq*Zw - 16.0*Ix*Mq*m + 16.0*Ix*m**2*xG**2 + 16.0*Ixy**2*Zw + 16.0*Ixy**2*m - 16.0*Iy*Kp*Zw - 16.0*Iy*Kp*m - 16.0*Kp*Mq*Zw - 16.0*Kp*Mq*m + 16.0*Kp*m**2*xG**2) + 2.0*Ixy**2*S2*rho*u**2*x5/(-16.0*Ix*Iy*Zw - 16.0*Ix*Iy*m - 16.0*Ix*Mq*Zw - 16.0*Ix*Mq*m + 16.0*Ix*m**2*xG**2 + 16.0*Ixy**2*Zw + 16.0*Ixy**2*m - 16.0*Iy*Kp*Zw - 16.0*Iy*Kp*m - 16.0*Kp*Mq*Zw - 16.0*Kp*Mq*m + 16.0*Kp*m**2*xG**2) - Ixy**2*S2*rho*u1*x2**2/(-16.0*Ix*Iy*Zw - 16.0*Ix*Iy*m - 16.0*Ix*Mq*Zw - 16.0*Ix*Mq*m + 16.0*Ix*m**2*xG**2 + 16.0*Ixy**2*Zw + 16.0*Ixy**2*m - 16.0*Iy*Kp*Zw - 16.0*Iy*Kp*m - 16.0*Kp*Mq*Zw - 16.0*Kp*Mq*m + 16.0*Kp*m**2*xG**2) - Ixy**2*S2*rho*u2*x2**2/(-16.0*Ix*Iy*Zw - 16.0*Ix*Iy*m - 16.0*Ix*Mq*Zw - 16.0*Ix*Mq*m + 16.0*Ix*m**2*xG**2 + 16.0*Ixy**2*Zw + 16.0*Ixy**2*m - 16.0*Iy*Kp*Zw - 16.0*Iy*Kp*m - 16.0*Kp*Mq*Zw - 16.0*Kp*Mq*m + 16.0*Kp*m**2*xG**2) + 2.0*Ixy**2*S2*rho*x2**2*x5/(-16.0*Ix*Iy*Zw - 16.0*Ix*Iy*m - 16.0*Ix*Mq*Zw - 16.0*Ix*Mq*m + 16.0*Ix*m**2*xG**2 + 16.0*Ixy**2*Zw + 16.0*Ixy**2*m - 16.0*Iy*Kp*Zw - 16.0*Iy*Kp*m - 16.0*Kp*Mq*Zw - 16.0*Kp*Mq*m + 16.0*Kp*m**2*xG**2) + 2.0*Ixy**2*S3*rho*u**2*x5/(-16.0*Ix*Iy*Zw - 16.0*Ix*Iy*m - 16.0*Ix*Mq*Zw - 16.0*Ix*Mq*m + 16.0*Ix*m**2*xG**2 + 16.0*Ixy**2*Zw + 16.0*Ixy**2*m - 16.0*Iy*Kp*Zw - 16.0*Iy*Kp*m - 16.0*Kp*Mq*Zw - 16.0*Kp*Mq*m + 16.0*Kp*m**2*xG**2) + 2.0*Ixy**2*S3*rho*x2**2*x5/(-16.0*Ix*Iy*Zw - 16.0*Ix*Iy*m - 16.0*Ix*Mq*Zw - 16.0*Ix*Mq*m + 16.0*Ix*m**2*xG**2 + 16.0*Ixy**2*Zw + 16.0*Ixy**2*m - 16.0*Iy*Kp*Zw - 16.0*Iy*Kp*m - 16.0*Kp*Mq*Zw - 16.0*Kp*Mq*m + 16.0*Kp*m**2*xG**2) - 2.0*Ixy**2*S4*rho*u**2*u3/(-16.0*Ix*Iy*Zw - 16.0*Ix*Iy*m - 16.0*Ix*Mq*Zw - 16.0*Ix*Mq*m + 16.0*Ix*m**2*xG**2 + 16.0*Ixy**2*Zw + 16.0*Ixy**2*m - 16.0*Iy*Kp*Zw - 16.0*Iy*Kp*m - 16.0*Kp*Mq*Zw - 16.0*Kp*Mq*m + 16.0*Kp*m**2*xG**2) + 2.0*Ixy**2*S4*rho*u**2*x5/(-16.0*Ix*Iy*Zw - 16.0*Ix*Iy*m - 16.0*Ix*Mq*Zw - 16.0*Ix*Mq*m + 16.0*Ix*m**2*xG**2 + 16.0*Ixy**2*Zw + 16.0*Ixy**2*m - 16.0*Iy*Kp*Zw - 16.0*Iy*Kp*m - 16.0*Kp*Mq*Zw - 16.0*Kp*Mq*m + 16.0*Kp*m**2*xG**2) - 2.0*Ixy**2*S4*rho*u3*x2**2/(-16.0*Ix*Iy*Zw - 16.0*Ix*Iy*m - 16.0*Ix*Mq*Zw - 16.0*Ix*Mq*m + 16.0*Ix*m**2*xG**2 + 16.0*Ixy**2*Zw + 16.0*Ixy**2*m - 16.0*Iy*Kp*Zw - 16.0*Iy*Kp*m - 16.0*Kp*Mq*Zw - 16.0*Kp*Mq*m + 16.0*Kp*m**2*xG**2) + 2.0*Ixy**2*S4*rho*x2**2*x5/(-16.0*Ix*Iy*Zw - 16.0*Ix*Iy*m - 16.0*Ix*Mq*Zw - 16.0*Ix*Mq*m + 16.0*Ix*m**2*xG**2 + 16.0*Ixy**2*Zw + 16.0*Ixy**2*m - 16.0*Iy*Kp*Zw - 16.0*Iy*Kp*m - 16.0*Kp*Mq*Zw - 16.0*Kp*Mq*m + 16.0*Kp*m**2*xG**2) + 16.0*Ixy**2*Vol*g*rho*sin(x5)/(-16.0*Ix*Iy*Zw - 16.0*Ix*Iy*m - 16.0*Ix*Mq*Zw - 16.0*Ix*Mq*m + 16.0*Ix*m**2*xG**2 + 16.0*Ixy**2*Zw + 16.0*Ixy**2*m - 16.0*Iy*Kp*Zw - 16.0*Iy*Kp*m - 16.0*Kp*Mq*Zw - 16.0*Kp*Mq*m + 16.0*Kp*m**2*xG**2) - 16.0*Ixy**2*dh1*x2/(-16.0*Ix*Iy*Zw - 16.0*Ix*Iy*m - 16.0*Ix*Mq*Zw - 16.0*Ix*Mq*m + 16.0*Ix*m**2*xG**2 + 16.0*Ixy**2*Zw + 16.0*Ixy**2*m - 16.0*Iy*Kp*Zw - 16.0*Iy*Kp*m - 16.0*Kp*Mq*Zw - 16.0*Kp*Mq*m + 16.0*Kp*m**2*xG**2) - 16.0*Ixy**2*dh2*x2**2/(-16.0*Ix*Iy*Zw - 16.0*Ix*Iy*m - 16.0*Ix*Mq*Zw - 16.0*Ix*Mq*m + 16.0*Ix*m**2*xG**2 + 16.0*Ixy**2*Zw + 16.0*Ixy**2*m - 16.0*Iy*Kp*Zw - 16.0*Iy*Kp*m - 16.0*Kp*Mq*Zw - 16.0*Kp*Mq*m + 16.0*Kp*m**2*xG**2) - 16.0*Ixy**2*g*m*sin(x5)/(-16.0*Ix*Iy*Zw - 16.0*Ix*Iy*m - 16.0*Ix*Mq*Zw - 16.0*Ix*Mq*m + 16.0*Ix*m**2*xG**2 + 16.0*Ixy**2*Zw + 16.0*Ixy**2*m - 16.0*Iy*Kp*Zw - 16.0*Iy*Kp*m - 16.0*Kp*Mq*Zw - 16.0*Kp*Mq*m + 16.0*Kp*m**2*xG**2) - 16.0*Ixy**2*m*u*x6/(-16.0*Ix*Iy*Zw - 16.0*Ix*Iy*m - 16.0*Ix*Mq*Zw - 16.0*Ix*Mq*m + 16.0*Ix*m**2*xG**2 + 16.0*Ixy**2*Zw + 16.0*Ixy**2*m - 16.0*Iy*Kp*Zw - 16.0*Iy*Kp*m - 16.0*Kp*Mq*Zw - 16.0*Kp*Mq*m + 16.0*Kp*m**2*xG**2) + 16.0*Ixy*Ixz*m*x4*x6*xG/(-16.0*Ix*Iy*Zw - 16.0*Ix*Iy*m - 16.0*Ix*Mq*Zw - 16.0*Ix*Mq*m + 16.0*Ix*m**2*xG**2 + 16.0*Ixy**2*Zw + 16.0*Ixy**2*m - 16.0*Iy*Kp*Zw - 16.0*Iy*Kp*m - 16.0*Kp*Mq*Zw - 16.0*Kp*Mq*m + 16.0*Kp*m**2*xG**2) - 16.0*Ixy*Iyx*m*x6**2*xG/(-16.0*Ix*Iy*Zw - 16.0*Ix*Iy*m - 16.0*Ix*Mq*Zw - 16.0*Ix*Mq*m + 16.0*Ix*m**2*xG**2 + 16.0*Ixy**2*Zw + 16.0*Ixy**2*m - 16.0*Iy*Kp*Zw - 16.0*Iy*Kp*m - 16.0*Kp*Mq*Zw - 16.0*Kp*Mq*m + 16.0*Kp*m**2*xG**2) + Ixy*S2*m*r1*rho*u**2*u1*xG/(-16.0*Ix*Iy*Zw - 16.0*Ix*Iy*m - 16.0*Ix*Mq*Zw - 16.0*Ix*Mq*m + 16.0*Ix*m**2*xG**2 + 16.0*Ixy**2*Zw + 16.0*Ixy**2*m - 16.0*Iy*Kp*Zw - 16.0*Iy*Kp*m - 16.0*Kp*Mq*Zw - 16.0*Kp*Mq*m + 16.0*Kp*m**2*xG**2) - Ixy*S2*m*r1*rho*u**2*u2*xG/(-16.0*Ix*Iy*Zw - 16.0*Ix*Iy*m - 16.0*Ix*Mq*Zw - 16.0*Ix*Mq*m + 16.0*Ix*m**2*xG**2 + 16.0*Ixy**2*Zw + 16.0*Ixy**2*m - 16.0*Iy*Kp*Zw - 16.0*Iy*Kp*m - 16.0*Kp*Mq*Zw - 16.0*Kp*Mq*m + 16.0*Kp*m**2*xG**2) + Ixy*S2*m*r1*rho*u1*x2**2*xG/(-16.0*Ix*Iy*Zw - 16.0*Ix*Iy*m - 16.0*Ix*Mq*Zw - 16.0*Ix*Mq*m + 16.0*Ix*m**2*xG**2 + 16.0*Ixy**2*Zw + 16.0*Ixy**2*m - 16.0*Iy*Kp*Zw - 16.0*Iy*Kp*m - 16.0*Kp*Mq*Zw - 16.0*Kp*Mq*m + 16.0*Kp*m**2*xG**2) - Ixy*S2*m*r1*rho*u2*x2**2*xG/(-16.0*Ix*Iy*Zw - 16.0*Ix*Iy*m - 16.0*Ix*Mq*Zw - 16.0*Ix*Mq*m + 16.0*Ix*m**2*xG**2 + 16.0*Ixy**2*Zw + 16.0*Ixy**2*m - 16.0*Iy*Kp*Zw - 16.0*Iy*Kp*m - 16.0*Kp*Mq*Zw - 16.0*Kp*Mq*m + 16.0*Kp*m**2*xG**2) + 16.0*Ixy*dr1*m*x4*xG/(-16.0*Ix*Iy*Zw - 16.0*Ix*Iy*m - 16.0*Ix*Mq*Zw - 16.0*Ix*Mq*m + 16.0*Ix*m**2*xG**2 + 16.0*Ixy**2*Zw + 16.0*Ixy**2*m - 16.0*Iy*Kp*Zw - 16.0*Iy*Kp*m - 16.0*Kp*Mq*Zw - 16.0*Kp*Mq*m + 16.0*Kp*m**2*xG**2) + 16.0*Ixy*dr2*m*x4**2*xG/(-16.0*Ix*Iy*Zw - 16.0*Ix*Iy*m - 16.0*Ix*Mq*Zw - 16.0*Ix*Mq*m + 16.0*Ix*m**2*xG**2 + 16.0*Ixy**2*Zw + 16.0*Ixy**2*m - 16.0*Iy*Kp*Zw - 16.0*Iy*Kp*m - 16.0*Kp*Mq*Zw - 16.0*Kp*Mq*m + 16.0*Kp*m**2*xG**2) - 16.0*Ixz*Kp*m*x4**2*xG/(-16.0*Ix*Iy*Zw - 16.0*Ix*Iy*m - 16.0*Ix*Mq*Zw - 16.0*Ix*Mq*m + 16.0*Ix*m**2*xG**2 + 16.0*Ixy**2*Zw + 16.0*Ixy**2*m - 16.0*Iy*Kp*Zw - 16.0*Iy*Kp*m - 16.0*Kp*Mq*Zw - 16.0*Kp*Mq*m + 16.0*Kp*m**2*xG**2) - 2.0*Iy*Kp*S1*rho*u**2*x5/(-16.0*Ix*Iy*Zw - 16.0*Ix*Iy*m - 16.0*Ix*Mq*Zw - 16.0*Ix*Mq*m + 16.0*Ix*m**2*xG**2 + 16.0*Ixy**2*Zw + 16.0*Ixy**2*m - 16.0*Iy*Kp*Zw - 16.0*Iy*Kp*m - 16.0*Kp*Mq*Zw - 16.0*Kp*Mq*m + 16.0*Kp*m**2*xG**2) - 2.0*Iy*Kp*S1*rho*x2**2*x5/(-16.0*Ix*Iy*Zw - 16.0*Ix*Iy*m - 16.0*Ix*Mq*Zw - 16.0*Ix*Mq*m + 16.0*Ix*m**2*xG**2 + 16.0*Ixy**2*Zw + 16.0*Ixy**2*m - 16.0*Iy*Kp*Zw - 16.0*Iy*Kp*m - 16.0*Kp*Mq*Zw - 16.0*Kp*Mq*m + 16.0*Kp*m**2*xG**2) + Iy*Kp*S2*rho*u**2*u1/(-16.0*Ix*Iy*Zw - 16.0*Ix*Iy*m - 16.0*Ix*Mq*Zw - 16.0*Ix*Mq*m + 16.0*Ix*m**2*xG**2 + 16.0*Ixy**2*Zw + 16.0*Ixy**2*m - 16.0*Iy*Kp*Zw - 16.0*Iy*Kp*m - 16.0*Kp*Mq*Zw - 16.0*Kp*Mq*m + 16.0*Kp*m**2*xG**2) + Iy*Kp*S2*rho*u**2*u2/(-16.0*Ix*Iy*Zw - 16.0*Ix*Iy*m - 16.0*Ix*Mq*Zw - 16.0*Ix*Mq*m + 16.0*Ix*m**2*xG**2 + 16.0*Ixy**2*Zw + 16.0*Ixy**2*m - 16.0*Iy*Kp*Zw - 16.0*Iy*Kp*m - 16.0*Kp*Mq*Zw - 16.0*Kp*Mq*m + 16.0*Kp*m**2*xG**2) - 2.0*Iy*Kp*S2*rho*u**2*x5/(-16.0*Ix*Iy*Zw - 16.0*Ix*Iy*m - 16.0*Ix*Mq*Zw - 16.0*Ix*Mq*m + 16.0*Ix*m**2*xG**2 + 16.0*Ixy**2*Zw + 16.0*Ixy**2*m - 16.0*Iy*Kp*Zw - 16.0*Iy*Kp*m - 16.0*Kp*Mq*Zw - 16.0*Kp*Mq*m + 16.0*Kp*m**2*xG**2) + Iy*Kp*S2*rho*u1*x2**2/(-16.0*Ix*Iy*Zw - 16.0*Ix*Iy*m - 16.0*Ix*Mq*Zw - 16.0*Ix*Mq*m + 16.0*Ix*m**2*xG**2 + 16.0*Ixy**2*Zw + 16.0*Ixy**2*m - 16.0*Iy*Kp*Zw - 16.0*Iy*Kp*m - 16.0*Kp*Mq*Zw - 16.0*Kp*Mq*m + 16.0*Kp*m**2*xG**2) + Iy*Kp*S2*rho*u2*x2**2/(-16.0*Ix*Iy*Zw - 16.0*Ix*Iy*m - 16.0*Ix*Mq*Zw - 16.0*Ix*Mq*m + 16.0*Ix*m**2*xG**2 + 16.0*Ixy**2*Zw + 16.0*Ixy**2*m - 16.0*Iy*Kp*Zw - 16.0*Iy*Kp*m - 16.0*Kp*Mq*Zw - 16.0*Kp*Mq*m + 16.0*Kp*m**2*xG**2) - 2.0*Iy*Kp*S2*rho*x2**2*x5/(-16.0*Ix*Iy*Zw - 16.0*Ix*Iy*m - 16.0*Ix*Mq*Zw - 16.0*Ix*Mq*m + 16.0*Ix*m**2*xG**2 + 16.0*Ixy**2*Zw + 16.0*Ixy**2*m - 16.0*Iy*Kp*Zw - 16.0*Iy*Kp*m - 16.0*Kp*Mq*Zw - 16.0*Kp*Mq*m + 16.0*Kp*m**2*xG**2) - 2.0*Iy*Kp*S3*rho*u**2*x5/(-16.0*Ix*Iy*Zw - 16.0*Ix*Iy*m - 16.0*Ix*Mq*Zw - 16.0*Ix*Mq*m + 16.0*Ix*m**2*xG**2 + 16.0*Ixy**2*Zw + 16.0*Ixy**2*m - 16.0*Iy*Kp*Zw - 16.0*Iy*Kp*m - 16.0*Kp*Mq*Zw - 16.0*Kp*Mq*m + 16.0*Kp*m**2*xG**2) - 2.0*Iy*Kp*S3*rho*x2**2*x5/(-16.0*Ix*Iy*Zw - 16.0*Ix*Iy*m - 16.0*Ix*Mq*Zw - 16.0*Ix*Mq*m + 16.0*Ix*m**2*xG**2 + 16.0*Ixy**2*Zw + 16.0*Ixy**2*m - 16.0*Iy*Kp*Zw - 16.0*Iy*Kp*m - 16.0*Kp*Mq*Zw - 16.0*Kp*Mq*m + 16.0*Kp*m**2*xG**2) + 2.0*Iy*Kp*S4*rho*u**2*u3/(-16.0*Ix*Iy*Zw - 16.0*Ix*Iy*m - 16.0*Ix*Mq*Zw - 16.0*Ix*Mq*m + 16.0*Ix*m**2*xG**2 + 16.0*Ixy**2*Zw + 16.0*Ixy**2*m - 16.0*Iy*Kp*Zw - 16.0*Iy*Kp*m - 16.0*Kp*Mq*Zw - 16.0*Kp*Mq*m + 16.0*Kp*m**2*xG**2) - 2.0*Iy*Kp*S4*rho*u**2*x5/(-16.0*Ix*Iy*Zw - 16.0*Ix*Iy*m - 16.0*Ix*Mq*Zw - 16.0*Ix*Mq*m + 16.0*Ix*m**2*xG**2 + 16.0*Ixy**2*Zw + 16.0*Ixy**2*m - 16.0*Iy*Kp*Zw - 16.0*Iy*Kp*m - 16.0*Kp*Mq*Zw - 16.0*Kp*Mq*m + 16.0*Kp*m**2*xG**2) + 2.0*Iy*Kp*S4*rho*u3*x2**2/(-16.0*Ix*Iy*Zw - 16.0*Ix*Iy*m - 16.0*Ix*Mq*Zw - 16.0*Ix*Mq*m + 16.0*Ix*m**2*xG**2 + 16.0*Ixy**2*Zw + 16.0*Ixy**2*m - 16.0*Iy*Kp*Zw - 16.0*Iy*Kp*m - 16.0*Kp*Mq*Zw - 16.0*Kp*Mq*m + 16.0*Kp*m**2*xG**2) - 2.0*Iy*Kp*S4*rho*x2**2*x5/(-16.0*Ix*Iy*Zw - 16.0*Ix*Iy*m - 16.0*Ix*Mq*Zw - 16.0*Ix*Mq*m + 16.0*Ix*m**2*xG**2 + 16.0*Ixy**2*Zw + 16.0*Ixy**2*m - 16.0*Iy*Kp*Zw - 16.0*Iy*Kp*m - 16.0*Kp*Mq*Zw - 16.0*Kp*Mq*m + 16.0*Kp*m**2*xG**2) - 16.0*Iy*Kp*Vol*g*rho*sin(x5)/(-16.0*Ix*Iy*Zw - 16.0*Ix*Iy*m - 16.0*Ix*Mq*Zw - 16.0*Ix*Mq*m + 16.0*Ix*m**2*xG**2 + 16.0*Ixy**2*Zw + 16.0*Ixy**2*m - 16.0*Iy*Kp*Zw - 16.0*Iy*Kp*m - 16.0*Kp*Mq*Zw - 16.0*Kp*Mq*m + 16.0*Kp*m**2*xG**2) + 16.0*Iy*Kp*dh1*x2/(-16.0*Ix*Iy*Zw - 16.0*Ix*Iy*m - 16.0*Ix*Mq*Zw - 16.0*Ix*Mq*m + 16.0*Ix*m**2*xG**2 + 16.0*Ixy**2*Zw + 16.0*Ixy**2*m - 16.0*Iy*Kp*Zw - 16.0*Iy*Kp*m - 16.0*Kp*Mq*Zw - 16.0*Kp*Mq*m + 16.0*Kp*m**2*xG**2) + 16.0*Iy*Kp*dh2*x2**2/(-16.0*Ix*Iy*Zw - 16.0*Ix*Iy*m - 16.0*Ix*Mq*Zw - 16.0*Ix*Mq*m + 16.0*Ix*m**2*xG**2 + 16.0*Ixy**2*Zw + 16.0*Ixy**2*m - 16.0*Iy*Kp*Zw - 16.0*Iy*Kp*m - 16.0*Kp*Mq*Zw - 16.0*Kp*Mq*m + 16.0*Kp*m**2*xG**2) + 16.0*Iy*Kp*g*m*sin(x5)/(-16.0*Ix*Iy*Zw - 16.0*Ix*Iy*m - 16.0*Ix*Mq*Zw - 16.0*Ix*Mq*m + 16.0*Ix*m**2*xG**2 + 16.0*Ixy**2*Zw + 16.0*Ixy**2*m - 16.0*Iy*Kp*Zw - 16.0*Iy*Kp*m - 16.0*Kp*Mq*Zw - 16.0*Kp*Mq*m + 16.0*Kp*m**2*xG**2) + 16.0*Iy*Kp*m*u*x6/(-16.0*Ix*Iy*Zw - 16.0*Ix*Iy*m - 16.0*Ix*Mq*Zw - 16.0*Ix*Mq*m + 16.0*Ix*m**2*xG**2 + 16.0*Ixy**2*Zw + 16.0*Ixy**2*m - 16.0*Iy*Kp*Zw - 16.0*Iy*Kp*m - 16.0*Kp*Mq*Zw - 16.0*Kp*Mq*m + 16.0*Kp*m**2*xG**2) - 16.0*Iyz*Kp*m*x4*x6*xG/(-16.0*Ix*Iy*Zw - 16.0*Ix*Iy*m - 16.0*Ix*Mq*Zw - 16.0*Ix*Mq*m + 16.0*Ix*m**2*xG**2 + 16.0*Ixy**2*Zw + 16.0*Ixy**2*m - 16.0*Iy*Kp*Zw - 16.0*Iy*Kp*m - 16.0*Kp*Mq*Zw - 16.0*Kp*Mq*m + 16.0*Kp*m**2*xG**2) - 2.0*Kp*Mq*S1*rho*u**2*x5/(-16.0*Ix*Iy*Zw - 16.0*Ix*Iy*m - 16.0*Ix*Mq*Zw - 16.0*Ix*Mq*m + 16.0*Ix*m**2*xG**2 + 16.0*Ixy**2*Zw + 16.0*Ixy**2*m - 16.0*Iy*Kp*Zw - 16.0*Iy*Kp*m - 16.0*Kp*Mq*Zw - 16.0*Kp*Mq*m + 16.0*Kp*m**2*xG**2) - 2.0*Kp*Mq*S1*rho*x2**2*x5/(-16.0*Ix*Iy*Zw - 16.0*Ix*Iy*m - 16.0*Ix*Mq*Zw - 16.0*Ix*Mq*m + 16.0*Ix*m**2*xG**2 + 16.0*Ixy**2*Zw + 16.0*Ixy**2*m - 16.0*Iy*Kp*Zw - 16.0*Iy*Kp*m - 16.0*Kp*Mq*Zw - 16.0*Kp*Mq*m + 16.0*Kp*m**2*xG**2) + Kp*Mq*S2*rho*u**2*u1/(-16.0*Ix*Iy*Zw - 16.0*Ix*Iy*m - 16.0*Ix*Mq*Zw - 16.0*Ix*Mq*m + 16.0*Ix*m**2*xG**2 + 16.0*Ixy**2*Zw + 16.0*Ixy**2*m - 16.0*Iy*Kp*Zw - 16.0*Iy*Kp*m - 16.0*Kp*Mq*Zw - 16.0*Kp*Mq*m + 16.0*Kp*m**2*xG**2) + Kp*Mq*S2*rho*u**2*u2/(-16.0*Ix*Iy*Zw - 16.0*Ix*Iy*m - 16.0*Ix*Mq*Zw - 16.0*Ix*Mq*m + 16.0*Ix*m**2*xG**2 + 16.0*Ixy**2*Zw + 16.0*Ixy**2*m - 16.0*Iy*Kp*Zw - 16.0*Iy*Kp*m - 16.0*Kp*Mq*Zw - 16.0*Kp*Mq*m + 16.0*Kp*m**2*xG**2) - 2.0*Kp*Mq*S2*rho*u**2*x5/(-16.0*Ix*Iy*Zw - 16.0*Ix*Iy*m - 16.0*Ix*Mq*Zw - 16.0*Ix*Mq*m + 16.0*Ix*m**2*xG**2 + 16.0*Ixy**2*Zw + 16.0*Ixy**2*m - 16.0*Iy*Kp*Zw - 16.0*Iy*Kp*m - 16.0*Kp*Mq*Zw - 16.0*Kp*Mq*m + 16.0*Kp*m**2*xG**2) + Kp*Mq*S2*rho*u1*x2**2/(-16.0*Ix*Iy*Zw - 16.0*Ix*Iy*m - 16.0*Ix*Mq*Zw - 16.0*Ix*Mq*m + 16.0*Ix*m**2*xG**2 + 16.0*Ixy**2*Zw + 16.0*Ixy**2*m - 16.0*Iy*Kp*Zw - 16.0*Iy*Kp*m - 16.0*Kp*Mq*Zw - 16.0*Kp*Mq*m + 16.0*Kp*m**2*xG**2) + Kp*Mq*S2*rho*u2*x2**2/(-16.0*Ix*Iy*Zw - 16.0*Ix*Iy*m - 16.0*Ix*Mq*Zw - 16.0*Ix*Mq*m + 16.0*Ix*m**2*xG**2 + 16.0*Ixy**2*Zw + 16.0*Ixy**2*m - 16.0*Iy*Kp*Zw - 16.0*Iy*Kp*m - 16.0*Kp*Mq*Zw - 16.0*Kp*Mq*m + 16.0*Kp*m**2*xG**2) - 2.0*Kp*Mq*S2*rho*x2**2*x5/(-16.0*Ix*Iy*Zw - 16.0*Ix*Iy*m - 16.0*Ix*Mq*Zw - 16.0*Ix*Mq*m + 16.0*Ix*m**2*xG**2 + 16.0*Ixy**2*Zw + 16.0*Ixy**2*m - 16.0*Iy*Kp*Zw - 16.0*Iy*Kp*m - 16.0*Kp*Mq*Zw - 16.0*Kp*Mq*m + 16.0*Kp*m**2*xG**2) - 2.0*Kp*Mq*S3*rho*u**2*x5/(-16.0*Ix*Iy*Zw - 16.0*Ix*Iy*m - 16.0*Ix*Mq*Zw - 16.0*Ix*Mq*m + 16.0*Ix*m**2*xG**2 + 16.0*Ixy**2*Zw + 16.0*Ixy**2*m - 16.0*Iy*Kp*Zw - 16.0*Iy*Kp*m - 16.0*Kp*Mq*Zw - 16.0*Kp*Mq*m + 16.0*Kp*m**2*xG**2) - 2.0*Kp*Mq*S3*rho*x2**2*x5/(-16.0*Ix*Iy*Zw - 16.0*Ix*Iy*m - 16.0*Ix*Mq*Zw - 16.0*Ix*Mq*m + 16.0*Ix*m**2*xG**2 + 16.0*Ixy**2*Zw + 16.0*Ixy**2*m - 16.0*Iy*Kp*Zw - 16.0*Iy*Kp*m - 16.0*Kp*Mq*Zw - 16.0*Kp*Mq*m + 16.0*Kp*m**2*xG**2) + 2.0*Kp*Mq*S4*rho*u**2*u3/(-16.0*Ix*Iy*Zw - 16.0*Ix*Iy*m - 16.0*Ix*Mq*Zw - 16.0*Ix*Mq*m + 16.0*Ix*m**2*xG**2 + 16.0*Ixy**2*Zw + 16.0*Ixy**2*m - 16.0*Iy*Kp*Zw - 16.0*Iy*Kp*m - 16.0*Kp*Mq*Zw - 16.0*Kp*Mq*m + 16.0*Kp*m**2*xG**2) - 2.0*Kp*Mq*S4*rho*u**2*x5/(-16.0*Ix*Iy*Zw - 16.0*Ix*Iy*m - 16.0*Ix*Mq*Zw - 16.0*Ix*Mq*m + 16.0*Ix*m**2*xG**2 + 16.0*Ixy**2*Zw + 16.0*Ixy**2*m - 16.0*Iy*Kp*Zw - 16.0*Iy*Kp*m - 16.0*Kp*Mq*Zw - 16.0*Kp*Mq*m + 16.0*Kp*m**2*xG**2) + 2.0*Kp*Mq*S4*rho*u3*x2**2/(-16.0*Ix*Iy*Zw - 16.0*Ix*Iy*m - 16.0*Ix*Mq*Zw - 16.0*Ix*Mq*m + 16.0*Ix*m**2*xG**2 + 16.0*Ixy**2*Zw + 16.0*Ixy**2*m - 16.0*Iy*Kp*Zw - 16.0*Iy*Kp*m - 16.0*Kp*Mq*Zw - 16.0*Kp*Mq*m + 16.0*Kp*m**2*xG**2) - 2.0*Kp*Mq*S4*rho*x2**2*x5/(-16.0*Ix*Iy*Zw - 16.0*Ix*Iy*m - 16.0*Ix*Mq*Zw - 16.0*Ix*Mq*m + 16.0*Ix*m**2*xG**2 + 16.0*Ixy**2*Zw + 16.0*Ixy**2*m - 16.0*Iy*Kp*Zw - 16.0*Iy*Kp*m - 16.0*Kp*Mq*Zw - 16.0*Kp*Mq*m + 16.0*Kp*m**2*xG**2) - 16.0*Kp*Mq*Vol*g*rho*sin(x5)/(-16.0*Ix*Iy*Zw - 16.0*Ix*Iy*m - 16.0*Ix*Mq*Zw - 16.0*Ix*Mq*m + 16.0*Ix*m**2*xG**2 + 16.0*Ixy**2*Zw + 16.0*Ixy**2*m - 16.0*Iy*Kp*Zw - 16.0*Iy*Kp*m - 16.0*Kp*Mq*Zw - 16.0*Kp*Mq*m + 16.0*Kp*m**2*xG**2) + 16.0*Kp*Mq*dh1*x2/(-16.0*Ix*Iy*Zw - 16.0*Ix*Iy*m - 16.0*Ix*Mq*Zw - 16.0*Ix*Mq*m + 16.0*Ix*m**2*xG**2 + 16.0*Ixy**2*Zw + 16.0*Ixy**2*m - 16.0*Iy*Kp*Zw - 16.0*Iy*Kp*m - 16.0*Kp*Mq*Zw - 16.0*Kp*Mq*m + 16.0*Kp*m**2*xG**2) + 16.0*Kp*Mq*dh2*x2**2/(-16.0*Ix*Iy*Zw - 16.0*Ix*Iy*m - 16.0*Ix*Mq*Zw - 16.0*Ix*Mq*m + 16.0*Ix*m**2*xG**2 + 16.0*Ixy**2*Zw + 16.0*Ixy**2*m - 16.0*Iy*Kp*Zw - 16.0*Iy*Kp*m - 16.0*Kp*Mq*Zw - 16.0*Kp*Mq*m + 16.0*Kp*m**2*xG**2) + 16.0*Kp*Mq*g*m*sin(x5)/(-16.0*Ix*Iy*Zw - 16.0*Ix*Iy*m - 16.0*Ix*Mq*Zw - 16.0*Ix*Mq*m + 16.0*Ix*m**2*xG**2 + 16.0*Ixy**2*Zw + 16.0*Ixy**2*m - 16.0*Iy*Kp*Zw - 16.0*Iy*Kp*m - 16.0*Kp*Mq*Zw - 16.0*Kp*Mq*m + 16.0*Kp*m**2*xG**2) + 16.0*Kp*Mq*m*u*x6/(-16.0*Ix*Iy*Zw - 16.0*Ix*Iy*m - 16.0*Ix*Mq*Zw - 16.0*Ix*Mq*m + 16.0*Ix*m**2*xG**2 + 16.0*Ixy**2*Zw + 16.0*Ixy**2*m - 16.0*Iy*Kp*Zw - 16.0*Iy*Kp*m - 16.0*Kp*Mq*Zw - 16.0*Kp*Mq*m + 16.0*Kp*m**2*xG**2) - 2.0*Kp*S1*d1*m*rho*u**2*x5*xG/(-16.0*Ix*Iy*Zw - 16.0*Ix*Iy*m - 16.0*Ix*Mq*Zw - 16.0*Ix*Mq*m + 16.0*Ix*m**2*xG**2 + 16.0*Ixy**2*Zw + 16.0*Ixy**2*m - 16.0*Iy*Kp*Zw - 16.0*Iy*Kp*m - 16.0*Kp*Mq*Zw - 16.0*Kp*Mq*m + 16.0*Kp*m**2*xG**2) - 2.0*Kp*S1*d1*m*rho*x2**2*x5*xG/(-16.0*Ix*Iy*Zw - 16.0*Ix*Iy*m - 16.0*Ix*Mq*Zw - 16.0*Ix*Mq*m + 16.0*Ix*m**2*xG**2 + 16.0*Ixy**2*Zw + 16.0*Ixy**2*m - 16.0*Iy*Kp*Zw - 16.0*Iy*Kp*m - 16.0*Kp*Mq*Zw - 16.0*Kp*Mq*m + 16.0*Kp*m**2*xG**2) + Kp*S2*d2*m*rho*u**2*u1*xG/(-16.0*Ix*Iy*Zw - 16.0*Ix*Iy*m - 16.0*Ix*Mq*Zw - 16.0*Ix*Mq*m + 16.0*Ix*m**2*xG**2 + 16.0*Ixy**2*Zw + 16.0*Ixy**2*m - 16.0*Iy*Kp*Zw - 16.0*Iy*Kp*m - 16.0*Kp*Mq*Zw - 16.0*Kp*Mq*m + 16.0*Kp*m**2*xG**2) + Kp*S2*d2*m*rho*u**2*u2*xG/(-16.0*Ix*Iy*Zw - 16.0*Ix*Iy*m - 16.0*Ix*Mq*Zw - 16.0*Ix*Mq*m + 16.0*Ix*m**2*xG**2 + 16.0*Ixy**2*Zw + 16.0*Ixy**2*m - 16.0*Iy*Kp*Zw - 16.0*Iy*Kp*m - 16.0*Kp*Mq*Zw - 16.0*Kp*Mq*m + 16.0*Kp*m**2*xG**2) - 2.0*Kp*S2*d2*m*rho*u**2*x5*xG/(-16.0*Ix*Iy*Zw - 16.0*Ix*Iy*m - 16.0*Ix*Mq*Zw - 16.0*Ix*Mq*m + 16.0*Ix*m**2*xG**2 + 16.0*Ixy**2*Zw + 16.0*Ixy**2*m - 16.0*Iy*Kp*Zw - 16.0*Iy*Kp*m - 16.0*Kp*Mq*Zw - 16.0*Kp*Mq*m + 16.0*Kp*m**2*xG**2) + Kp*S2*d2*m*rho*u1*x2**2*xG/(-16.0*Ix*Iy*Zw - 16.0*Ix*Iy*m - 16.0*Ix*Mq*Zw - 16.0*Ix*Mq*m + 16.0*Ix*m**2*xG**2 + 16.0*Ixy**2*Zw + 16.0*Ixy**2*m - 16.0*Iy*Kp*Zw - 16.0*Iy*Kp*m - 16.0*Kp*Mq*Zw - 16.0*Kp*Mq*m + 16.0*Kp*m**2*xG**2) + Kp*S2*d2*m*rho*u2*x2**2*xG/(-16.0*Ix*Iy*Zw - 16.0*Ix*Iy*m - 16.0*Ix*Mq*Zw - 16.0*Ix*Mq*m + 16.0*Ix*m**2*xG**2 + 16.0*Ixy**2*Zw + 16.0*Ixy**2*m - 16.0*Iy*Kp*Zw - 16.0*Iy*Kp*m - 16.0*Kp*Mq*Zw - 16.0*Kp*Mq*m + 16.0*Kp*m**2*xG**2) - 2.0*Kp*S2*d2*m*rho*x2**2*x5*xG/(-16.0*Ix*Iy*Zw - 16.0*Ix*Iy*m - 16.0*Ix*Mq*Zw - 16.0*Ix*Mq*m + 16.0*Ix*m**2*xG**2 + 16.0*Ixy**2*Zw + 16.0*Ixy**2*m - 16.0*Iy*Kp*Zw - 16.0*Iy*Kp*m - 16.0*Kp*Mq*Zw - 16.0*Kp*Mq*m + 16.0*Kp*m**2*xG**2) - 2.0*Kp*S3*d3*m*rho*u**2*x5*xG/(-16.0*Ix*Iy*Zw - 16.0*Ix*Iy*m - 16.0*Ix*Mq*Zw - 16.0*Ix*Mq*m + 16.0*Ix*m**2*xG**2 + 16.0*Ixy**2*Zw + 16.0*Ixy**2*m - 16.0*Iy*Kp*Zw - 16.0*Iy*Kp*m - 16.0*Kp*Mq*Zw - 16.0*Kp*Mq*m + 16.0*Kp*m**2*xG**2) - 2.0*Kp*S3*d3*m*rho*x2**2*x5*xG/(-16.0*Ix*Iy*Zw - 16.0*Ix*Iy*m - 16.0*Ix*Mq*Zw - 16.0*Ix*Mq*m + 16.0*Ix*m**2*xG**2 + 16.0*Ixy**2*Zw + 16.0*Ixy**2*m - 16.0*Iy*Kp*Zw - 16.0*Iy*Kp*m - 16.0*Kp*Mq*Zw - 16.0*Kp*Mq*m + 16.0*Kp*m**2*xG**2) + 2.0*Kp*S4*d4*m*rho*u**2*u3*xG/(-16.0*Ix*Iy*Zw - 16.0*Ix*Iy*m - 16.0*Ix*Mq*Zw - 16.0*Ix*Mq*m + 16.0*Ix*m**2*xG**2 + 16.0*Ixy**2*Zw + 16.0*Ixy**2*m - 16.0*Iy*Kp*Zw - 16.0*Iy*Kp*m - 16.0*Kp*Mq*Zw - 16.0*Kp*Mq*m + 16.0*Kp*m**2*xG**2) - 2.0*Kp*S4*d4*m*rho*u**2*x5*xG/(-16.0*Ix*Iy*Zw - 16.0*Ix*Iy*m - 16.0*Ix*Mq*Zw - 16.0*Ix*Mq*m + 16.0*Ix*m**2*xG**2 + 16.0*Ixy**2*Zw + 16.0*Ixy**2*m - 16.0*Iy*Kp*Zw - 16.0*Iy*Kp*m - 16.0*Kp*Mq*Zw - 16.0*Kp*Mq*m + 16.0*Kp*m**2*xG**2) + 2.0*Kp*S4*d4*m*rho*u3*x2**2*xG/(-16.0*Ix*Iy*Zw - 16.0*Ix*Iy*m - 16.0*Ix*Mq*Zw - 16.0*Ix*Mq*m + 16.0*Ix*m**2*xG**2 + 16.0*Ixy**2*Zw + 16.0*Ixy**2*m - 16.0*Iy*Kp*Zw - 16.0*Iy*Kp*m - 16.0*Kp*Mq*Zw - 16.0*Kp*Mq*m + 16.0*Kp*m**2*xG**2) - 2.0*Kp*S4*d4*m*rho*x2**2*x5*xG/(-16.0*Ix*Iy*Zw - 16.0*Ix*Iy*m - 16.0*Ix*Mq*Zw - 16.0*Ix*Mq*m + 16.0*Ix*m**2*xG**2 + 16.0*Ixy**2*Zw + 16.0*Ixy**2*m - 16.0*Iy*Kp*Zw - 16.0*Iy*Kp*m - 16.0*Kp*Mq*Zw - 16.0*Kp*Mq*m + 16.0*Kp*m**2*xG**2) - 16.0*Kp*Vol*db*g*m*rho*xG*sin(x5)/(-16.0*Ix*Iy*Zw - 16.0*Ix*Iy*m - 16.0*Ix*Mq*Zw - 16.0*Ix*Mq*m + 16.0*Ix*m**2*xG**2 + 16.0*Ixy**2*Zw + 16.0*Ixy**2*m - 16.0*Iy*Kp*Zw - 16.0*Iy*Kp*m - 16.0*Kp*Mq*Zw - 16.0*Kp*Mq*m + 16.0*Kp*m**2*xG**2) - 16.0*Kp*Zw*m*u*x2*xG/(-16.0*Ix*Iy*Zw - 16.0*Ix*Iy*m - 16.0*Ix*Mq*Zw - 16.0*Ix*Mq*m + 16.0*Ix*m**2*xG**2 + 16.0*Ixy**2*Zw + 16.0*Ixy**2*m - 16.0*Iy*Kp*Zw - 16.0*Iy*Kp*m - 16.0*Kp*Mq*Zw - 16.0*Kp*Mq*m + 16.0*Kp*m**2*xG**2) + 16.0*Kp*dg*g*m**2*xG*sin(x5)/(-16.0*Ix*Iy*Zw - 16.0*Ix*Iy*m - 16.0*Ix*Mq*Zw - 16.0*Ix*Mq*m + 16.0*Ix*m**2*xG**2 + 16.0*Ixy**2*Zw + 16.0*Ixy**2*m - 16.0*Iy*Kp*Zw - 16.0*Iy*Kp*m - 16.0*Kp*Mq*Zw - 16.0*Kp*Mq*m + 16.0*Kp*m**2*xG**2) + 16.0*Kp*dp1*m*x6*xG/(-16.0*Ix*Iy*Zw - 16.0*Ix*Iy*m - 16.0*Ix*Mq*Zw - 16.0*Ix*Mq*m + 16.0*Ix*m**2*xG**2 + 16.0*Ixy**2*Zw + 16.0*Ixy**2*m - 16.0*Iy*Kp*Zw - 16.0*Iy*Kp*m - 16.0*Kp*Mq*Zw - 16.0*Kp*Mq*m + 16.0*Kp*m**2*xG**2) + 16.0*Kp*dp2*m*x6**2*xG/(-16.0*Ix*Iy*Zw - 16.0*Ix*Iy*m - 16.0*Ix*Mq*Zw - 16.0*Ix*Mq*m + 16.0*Ix*m**2*xG**2 + 16.0*Ixy**2*Zw + 16.0*Ixy**2*m - 16.0*Iy*Kp*Zw - 16.0*Iy*Kp*m - 16.0*Kp*Mq*Zw - 16.0*Kp*Mq*m + 16.0*Kp*m**2*xG**2) - 16.0*Kp*m**2*u*x6*xG**2/(-16.0*Ix*Iy*Zw - 16.0*Ix*Iy*m - 16.0*Ix*Mq*Zw - 16.0*Ix*Mq*m + 16.0*Ix*m**2*xG**2 + 16.0*Ixy**2*Zw + 16.0*Ixy**2*m - 16.0*Iy*Kp*Zw - 16.0*Iy*Kp*m - 16.0*Kp*Mq*Zw - 16.0*Kp*Mq*m + 16.0*Kp*m**2*xG**2)"
   ]
  },
  {
   "cell_type": "code",
   "execution_count": 200,
   "id": "utility-rally",
   "metadata": {},
   "outputs": [],
   "source": [
    "x4d = -16.0*Ixy*Ixz*Zw*x4**2/(-16.0*Ix*Iy*Zw - 16.0*Ix*Iy*m - 16.0*Ix*Mq*Zw - 16.0*Ix*Mq*m + 16.0*Ix*m**2*xG**2 + 16.0*Ixy**2*Zw + 16.0*Ixy**2*m - 16.0*Iy*Kp*Zw - 16.0*Iy*Kp*m - 16.0*Kp*Mq*Zw - 16.0*Kp*Mq*m + 16.0*Kp*m**2*xG**2) - 16.0*Ixy*Ixz*m*x4**2/(-16.0*Ix*Iy*Zw - 16.0*Ix*Iy*m - 16.0*Ix*Mq*Zw - 16.0*Ix*Mq*m + 16.0*Ix*m**2*xG**2 + 16.0*Ixy**2*Zw + 16.0*Ixy**2*m - 16.0*Iy*Kp*Zw - 16.0*Iy*Kp*m - 16.0*Kp*Mq*Zw - 16.0*Kp*Mq*m + 16.0*Kp*m**2*xG**2) - 16.0*Ixy*Iyz*Zw*x4*x6/(-16.0*Ix*Iy*Zw - 16.0*Ix*Iy*m - 16.0*Ix*Mq*Zw - 16.0*Ix*Mq*m + 16.0*Ix*m**2*xG**2 + 16.0*Ixy**2*Zw + 16.0*Ixy**2*m - 16.0*Iy*Kp*Zw - 16.0*Iy*Kp*m - 16.0*Kp*Mq*Zw - 16.0*Kp*Mq*m + 16.0*Kp*m**2*xG**2) - 16.0*Ixy*Iyz*m*x4*x6/(-16.0*Ix*Iy*Zw - 16.0*Ix*Iy*m - 16.0*Ix*Mq*Zw - 16.0*Ix*Mq*m + 16.0*Ix*m**2*xG**2 + 16.0*Ixy**2*Zw + 16.0*Ixy**2*m - 16.0*Iy*Kp*Zw - 16.0*Iy*Kp*m - 16.0*Kp*Mq*Zw - 16.0*Kp*Mq*m + 16.0*Kp*m**2*xG**2) - 2.0*Ixy*S1*Zw*d1*rho*u**2*x5/(-16.0*Ix*Iy*Zw - 16.0*Ix*Iy*m - 16.0*Ix*Mq*Zw - 16.0*Ix*Mq*m + 16.0*Ix*m**2*xG**2 + 16.0*Ixy**2*Zw + 16.0*Ixy**2*m - 16.0*Iy*Kp*Zw - 16.0*Iy*Kp*m - 16.0*Kp*Mq*Zw - 16.0*Kp*Mq*m + 16.0*Kp*m**2*xG**2) - 2.0*Ixy*S1*Zw*d1*rho*x2**2*x5/(-16.0*Ix*Iy*Zw - 16.0*Ix*Iy*m - 16.0*Ix*Mq*Zw - 16.0*Ix*Mq*m + 16.0*Ix*m**2*xG**2 + 16.0*Ixy**2*Zw + 16.0*Ixy**2*m - 16.0*Iy*Kp*Zw - 16.0*Iy*Kp*m - 16.0*Kp*Mq*Zw - 16.0*Kp*Mq*m + 16.0*Kp*m**2*xG**2) - 2.0*Ixy*S1*d1*m*rho*u**2*x5/(-16.0*Ix*Iy*Zw - 16.0*Ix*Iy*m - 16.0*Ix*Mq*Zw - 16.0*Ix*Mq*m + 16.0*Ix*m**2*xG**2 + 16.0*Ixy**2*Zw + 16.0*Ixy**2*m - 16.0*Iy*Kp*Zw - 16.0*Iy*Kp*m - 16.0*Kp*Mq*Zw - 16.0*Kp*Mq*m + 16.0*Kp*m**2*xG**2) - 2.0*Ixy*S1*d1*m*rho*x2**2*x5/(-16.0*Ix*Iy*Zw - 16.0*Ix*Iy*m - 16.0*Ix*Mq*Zw - 16.0*Ix*Mq*m + 16.0*Ix*m**2*xG**2 + 16.0*Ixy**2*Zw + 16.0*Ixy**2*m - 16.0*Iy*Kp*Zw - 16.0*Iy*Kp*m - 16.0*Kp*Mq*Zw - 16.0*Kp*Mq*m + 16.0*Kp*m**2*xG**2) - 2.0*Ixy*S1*m*rho*u**2*x5*xG/(-16.0*Ix*Iy*Zw - 16.0*Ix*Iy*m - 16.0*Ix*Mq*Zw - 16.0*Ix*Mq*m + 16.0*Ix*m**2*xG**2 + 16.0*Ixy**2*Zw + 16.0*Ixy**2*m - 16.0*Iy*Kp*Zw - 16.0*Iy*Kp*m - 16.0*Kp*Mq*Zw - 16.0*Kp*Mq*m + 16.0*Kp*m**2*xG**2) - 2.0*Ixy*S1*m*rho*x2**2*x5*xG/(-16.0*Ix*Iy*Zw - 16.0*Ix*Iy*m - 16.0*Ix*Mq*Zw - 16.0*Ix*Mq*m + 16.0*Ix*m**2*xG**2 + 16.0*Ixy**2*Zw + 16.0*Ixy**2*m - 16.0*Iy*Kp*Zw - 16.0*Iy*Kp*m - 16.0*Kp*Mq*Zw - 16.0*Kp*Mq*m + 16.0*Kp*m**2*xG**2) + Ixy*S2*Zw*d2*rho*u**2*u1/(-16.0*Ix*Iy*Zw - 16.0*Ix*Iy*m - 16.0*Ix*Mq*Zw - 16.0*Ix*Mq*m + 16.0*Ix*m**2*xG**2 + 16.0*Ixy**2*Zw + 16.0*Ixy**2*m - 16.0*Iy*Kp*Zw - 16.0*Iy*Kp*m - 16.0*Kp*Mq*Zw - 16.0*Kp*Mq*m + 16.0*Kp*m**2*xG**2) + Ixy*S2*Zw*d2*rho*u**2*u2/(-16.0*Ix*Iy*Zw - 16.0*Ix*Iy*m - 16.0*Ix*Mq*Zw - 16.0*Ix*Mq*m + 16.0*Ix*m**2*xG**2 + 16.0*Ixy**2*Zw + 16.0*Ixy**2*m - 16.0*Iy*Kp*Zw - 16.0*Iy*Kp*m - 16.0*Kp*Mq*Zw - 16.0*Kp*Mq*m + 16.0*Kp*m**2*xG**2) - 2.0*Ixy*S2*Zw*d2*rho*u**2*x5/(-16.0*Ix*Iy*Zw - 16.0*Ix*Iy*m - 16.0*Ix*Mq*Zw - 16.0*Ix*Mq*m + 16.0*Ix*m**2*xG**2 + 16.0*Ixy**2*Zw + 16.0*Ixy**2*m - 16.0*Iy*Kp*Zw - 16.0*Iy*Kp*m - 16.0*Kp*Mq*Zw - 16.0*Kp*Mq*m + 16.0*Kp*m**2*xG**2) + Ixy*S2*Zw*d2*rho*u1*x2**2/(-16.0*Ix*Iy*Zw - 16.0*Ix*Iy*m - 16.0*Ix*Mq*Zw - 16.0*Ix*Mq*m + 16.0*Ix*m**2*xG**2 + 16.0*Ixy**2*Zw + 16.0*Ixy**2*m - 16.0*Iy*Kp*Zw - 16.0*Iy*Kp*m - 16.0*Kp*Mq*Zw - 16.0*Kp*Mq*m + 16.0*Kp*m**2*xG**2) + Ixy*S2*Zw*d2*rho*u2*x2**2/(-16.0*Ix*Iy*Zw - 16.0*Ix*Iy*m - 16.0*Ix*Mq*Zw - 16.0*Ix*Mq*m + 16.0*Ix*m**2*xG**2 + 16.0*Ixy**2*Zw + 16.0*Ixy**2*m - 16.0*Iy*Kp*Zw - 16.0*Iy*Kp*m - 16.0*Kp*Mq*Zw - 16.0*Kp*Mq*m + 16.0*Kp*m**2*xG**2) - 2.0*Ixy*S2*Zw*d2*rho*x2**2*x5/(-16.0*Ix*Iy*Zw - 16.0*Ix*Iy*m - 16.0*Ix*Mq*Zw - 16.0*Ix*Mq*m + 16.0*Ix*m**2*xG**2 + 16.0*Ixy**2*Zw + 16.0*Ixy**2*m - 16.0*Iy*Kp*Zw - 16.0*Iy*Kp*m - 16.0*Kp*Mq*Zw - 16.0*Kp*Mq*m + 16.0*Kp*m**2*xG**2) + Ixy*S2*d2*m*rho*u**2*u1/(-16.0*Ix*Iy*Zw - 16.0*Ix*Iy*m - 16.0*Ix*Mq*Zw - 16.0*Ix*Mq*m + 16.0*Ix*m**2*xG**2 + 16.0*Ixy**2*Zw + 16.0*Ixy**2*m - 16.0*Iy*Kp*Zw - 16.0*Iy*Kp*m - 16.0*Kp*Mq*Zw - 16.0*Kp*Mq*m + 16.0*Kp*m**2*xG**2) + Ixy*S2*d2*m*rho*u**2*u2/(-16.0*Ix*Iy*Zw - 16.0*Ix*Iy*m - 16.0*Ix*Mq*Zw - 16.0*Ix*Mq*m + 16.0*Ix*m**2*xG**2 + 16.0*Ixy**2*Zw + 16.0*Ixy**2*m - 16.0*Iy*Kp*Zw - 16.0*Iy*Kp*m - 16.0*Kp*Mq*Zw - 16.0*Kp*Mq*m + 16.0*Kp*m**2*xG**2) - 2.0*Ixy*S2*d2*m*rho*u**2*x5/(-16.0*Ix*Iy*Zw - 16.0*Ix*Iy*m - 16.0*Ix*Mq*Zw - 16.0*Ix*Mq*m + 16.0*Ix*m**2*xG**2 + 16.0*Ixy**2*Zw + 16.0*Ixy**2*m - 16.0*Iy*Kp*Zw - 16.0*Iy*Kp*m - 16.0*Kp*Mq*Zw - 16.0*Kp*Mq*m + 16.0*Kp*m**2*xG**2) + Ixy*S2*d2*m*rho*u1*x2**2/(-16.0*Ix*Iy*Zw - 16.0*Ix*Iy*m - 16.0*Ix*Mq*Zw - 16.0*Ix*Mq*m + 16.0*Ix*m**2*xG**2 + 16.0*Ixy**2*Zw + 16.0*Ixy**2*m - 16.0*Iy*Kp*Zw - 16.0*Iy*Kp*m - 16.0*Kp*Mq*Zw - 16.0*Kp*Mq*m + 16.0*Kp*m**2*xG**2) + Ixy*S2*d2*m*rho*u2*x2**2/(-16.0*Ix*Iy*Zw - 16.0*Ix*Iy*m - 16.0*Ix*Mq*Zw - 16.0*Ix*Mq*m + 16.0*Ix*m**2*xG**2 + 16.0*Ixy**2*Zw + 16.0*Ixy**2*m - 16.0*Iy*Kp*Zw - 16.0*Iy*Kp*m - 16.0*Kp*Mq*Zw - 16.0*Kp*Mq*m + 16.0*Kp*m**2*xG**2) - 2.0*Ixy*S2*d2*m*rho*x2**2*x5/(-16.0*Ix*Iy*Zw - 16.0*Ix*Iy*m - 16.0*Ix*Mq*Zw - 16.0*Ix*Mq*m + 16.0*Ix*m**2*xG**2 + 16.0*Ixy**2*Zw + 16.0*Ixy**2*m - 16.0*Iy*Kp*Zw - 16.0*Iy*Kp*m - 16.0*Kp*Mq*Zw - 16.0*Kp*Mq*m + 16.0*Kp*m**2*xG**2) + Ixy*S2*m*rho*u**2*u1*xG/(-16.0*Ix*Iy*Zw - 16.0*Ix*Iy*m - 16.0*Ix*Mq*Zw - 16.0*Ix*Mq*m + 16.0*Ix*m**2*xG**2 + 16.0*Ixy**2*Zw + 16.0*Ixy**2*m - 16.0*Iy*Kp*Zw - 16.0*Iy*Kp*m - 16.0*Kp*Mq*Zw - 16.0*Kp*Mq*m + 16.0*Kp*m**2*xG**2) + Ixy*S2*m*rho*u**2*u2*xG/(-16.0*Ix*Iy*Zw - 16.0*Ix*Iy*m - 16.0*Ix*Mq*Zw - 16.0*Ix*Mq*m + 16.0*Ix*m**2*xG**2 + 16.0*Ixy**2*Zw + 16.0*Ixy**2*m - 16.0*Iy*Kp*Zw - 16.0*Iy*Kp*m - 16.0*Kp*Mq*Zw - 16.0*Kp*Mq*m + 16.0*Kp*m**2*xG**2) - 2.0*Ixy*S2*m*rho*u**2*x5*xG/(-16.0*Ix*Iy*Zw - 16.0*Ix*Iy*m - 16.0*Ix*Mq*Zw - 16.0*Ix*Mq*m + 16.0*Ix*m**2*xG**2 + 16.0*Ixy**2*Zw + 16.0*Ixy**2*m - 16.0*Iy*Kp*Zw - 16.0*Iy*Kp*m - 16.0*Kp*Mq*Zw - 16.0*Kp*Mq*m + 16.0*Kp*m**2*xG**2) + Ixy*S2*m*rho*u1*x2**2*xG/(-16.0*Ix*Iy*Zw - 16.0*Ix*Iy*m - 16.0*Ix*Mq*Zw - 16.0*Ix*Mq*m + 16.0*Ix*m**2*xG**2 + 16.0*Ixy**2*Zw + 16.0*Ixy**2*m - 16.0*Iy*Kp*Zw - 16.0*Iy*Kp*m - 16.0*Kp*Mq*Zw - 16.0*Kp*Mq*m + 16.0*Kp*m**2*xG**2) + Ixy*S2*m*rho*u2*x2**2*xG/(-16.0*Ix*Iy*Zw - 16.0*Ix*Iy*m - 16.0*Ix*Mq*Zw - 16.0*Ix*Mq*m + 16.0*Ix*m**2*xG**2 + 16.0*Ixy**2*Zw + 16.0*Ixy**2*m - 16.0*Iy*Kp*Zw - 16.0*Iy*Kp*m - 16.0*Kp*Mq*Zw - 16.0*Kp*Mq*m + 16.0*Kp*m**2*xG**2) - 2.0*Ixy*S2*m*rho*x2**2*x5*xG/(-16.0*Ix*Iy*Zw - 16.0*Ix*Iy*m - 16.0*Ix*Mq*Zw - 16.0*Ix*Mq*m + 16.0*Ix*m**2*xG**2 + 16.0*Ixy**2*Zw + 16.0*Ixy**2*m - 16.0*Iy*Kp*Zw - 16.0*Iy*Kp*m - 16.0*Kp*Mq*Zw - 16.0*Kp*Mq*m + 16.0*Kp*m**2*xG**2) - 2.0*Ixy*S3*Zw*d3*rho*u**2*x5/(-16.0*Ix*Iy*Zw - 16.0*Ix*Iy*m - 16.0*Ix*Mq*Zw - 16.0*Ix*Mq*m + 16.0*Ix*m**2*xG**2 + 16.0*Ixy**2*Zw + 16.0*Ixy**2*m - 16.0*Iy*Kp*Zw - 16.0*Iy*Kp*m - 16.0*Kp*Mq*Zw - 16.0*Kp*Mq*m + 16.0*Kp*m**2*xG**2) - 2.0*Ixy*S3*Zw*d3*rho*x2**2*x5/(-16.0*Ix*Iy*Zw - 16.0*Ix*Iy*m - 16.0*Ix*Mq*Zw - 16.0*Ix*Mq*m + 16.0*Ix*m**2*xG**2 + 16.0*Ixy**2*Zw + 16.0*Ixy**2*m - 16.0*Iy*Kp*Zw - 16.0*Iy*Kp*m - 16.0*Kp*Mq*Zw - 16.0*Kp*Mq*m + 16.0*Kp*m**2*xG**2) - 2.0*Ixy*S3*d3*m*rho*u**2*x5/(-16.0*Ix*Iy*Zw - 16.0*Ix*Iy*m - 16.0*Ix*Mq*Zw - 16.0*Ix*Mq*m + 16.0*Ix*m**2*xG**2 + 16.0*Ixy**2*Zw + 16.0*Ixy**2*m - 16.0*Iy*Kp*Zw - 16.0*Iy*Kp*m - 16.0*Kp*Mq*Zw - 16.0*Kp*Mq*m + 16.0*Kp*m**2*xG**2) - 2.0*Ixy*S3*d3*m*rho*x2**2*x5/(-16.0*Ix*Iy*Zw - 16.0*Ix*Iy*m - 16.0*Ix*Mq*Zw - 16.0*Ix*Mq*m + 16.0*Ix*m**2*xG**2 + 16.0*Ixy**2*Zw + 16.0*Ixy**2*m - 16.0*Iy*Kp*Zw - 16.0*Iy*Kp*m - 16.0*Kp*Mq*Zw - 16.0*Kp*Mq*m + 16.0*Kp*m**2*xG**2) - 2.0*Ixy*S3*m*rho*u**2*x5*xG/(-16.0*Ix*Iy*Zw - 16.0*Ix*Iy*m - 16.0*Ix*Mq*Zw - 16.0*Ix*Mq*m + 16.0*Ix*m**2*xG**2 + 16.0*Ixy**2*Zw + 16.0*Ixy**2*m - 16.0*Iy*Kp*Zw - 16.0*Iy*Kp*m - 16.0*Kp*Mq*Zw - 16.0*Kp*Mq*m + 16.0*Kp*m**2*xG**2) - 2.0*Ixy*S3*m*rho*x2**2*x5*xG/(-16.0*Ix*Iy*Zw - 16.0*Ix*Iy*m - 16.0*Ix*Mq*Zw - 16.0*Ix*Mq*m + 16.0*Ix*m**2*xG**2 + 16.0*Ixy**2*Zw + 16.0*Ixy**2*m - 16.0*Iy*Kp*Zw - 16.0*Iy*Kp*m - 16.0*Kp*Mq*Zw - 16.0*Kp*Mq*m + 16.0*Kp*m**2*xG**2) + 2.0*Ixy*S4*Zw*d4*rho*u**2*u3/(-16.0*Ix*Iy*Zw - 16.0*Ix*Iy*m - 16.0*Ix*Mq*Zw - 16.0*Ix*Mq*m + 16.0*Ix*m**2*xG**2 + 16.0*Ixy**2*Zw + 16.0*Ixy**2*m - 16.0*Iy*Kp*Zw - 16.0*Iy*Kp*m - 16.0*Kp*Mq*Zw - 16.0*Kp*Mq*m + 16.0*Kp*m**2*xG**2) - 2.0*Ixy*S4*Zw*d4*rho*u**2*x5/(-16.0*Ix*Iy*Zw - 16.0*Ix*Iy*m - 16.0*Ix*Mq*Zw - 16.0*Ix*Mq*m + 16.0*Ix*m**2*xG**2 + 16.0*Ixy**2*Zw + 16.0*Ixy**2*m - 16.0*Iy*Kp*Zw - 16.0*Iy*Kp*m - 16.0*Kp*Mq*Zw - 16.0*Kp*Mq*m + 16.0*Kp*m**2*xG**2) + 2.0*Ixy*S4*Zw*d4*rho*u3*x2**2/(-16.0*Ix*Iy*Zw - 16.0*Ix*Iy*m - 16.0*Ix*Mq*Zw - 16.0*Ix*Mq*m + 16.0*Ix*m**2*xG**2 + 16.0*Ixy**2*Zw + 16.0*Ixy**2*m - 16.0*Iy*Kp*Zw - 16.0*Iy*Kp*m - 16.0*Kp*Mq*Zw - 16.0*Kp*Mq*m + 16.0*Kp*m**2*xG**2) - 2.0*Ixy*S4*Zw*d4*rho*x2**2*x5/(-16.0*Ix*Iy*Zw - 16.0*Ix*Iy*m - 16.0*Ix*Mq*Zw - 16.0*Ix*Mq*m + 16.0*Ix*m**2*xG**2 + 16.0*Ixy**2*Zw + 16.0*Ixy**2*m - 16.0*Iy*Kp*Zw - 16.0*Iy*Kp*m - 16.0*Kp*Mq*Zw - 16.0*Kp*Mq*m + 16.0*Kp*m**2*xG**2) + 2.0*Ixy*S4*d4*m*rho*u**2*u3/(-16.0*Ix*Iy*Zw - 16.0*Ix*Iy*m - 16.0*Ix*Mq*Zw - 16.0*Ix*Mq*m + 16.0*Ix*m**2*xG**2 + 16.0*Ixy**2*Zw + 16.0*Ixy**2*m - 16.0*Iy*Kp*Zw - 16.0*Iy*Kp*m - 16.0*Kp*Mq*Zw - 16.0*Kp*Mq*m + 16.0*Kp*m**2*xG**2) - 2.0*Ixy*S4*d4*m*rho*u**2*x5/(-16.0*Ix*Iy*Zw - 16.0*Ix*Iy*m - 16.0*Ix*Mq*Zw - 16.0*Ix*Mq*m + 16.0*Ix*m**2*xG**2 + 16.0*Ixy**2*Zw + 16.0*Ixy**2*m - 16.0*Iy*Kp*Zw - 16.0*Iy*Kp*m - 16.0*Kp*Mq*Zw - 16.0*Kp*Mq*m + 16.0*Kp*m**2*xG**2) + 2.0*Ixy*S4*d4*m*rho*u3*x2**2/(-16.0*Ix*Iy*Zw - 16.0*Ix*Iy*m - 16.0*Ix*Mq*Zw - 16.0*Ix*Mq*m + 16.0*Ix*m**2*xG**2 + 16.0*Ixy**2*Zw + 16.0*Ixy**2*m - 16.0*Iy*Kp*Zw - 16.0*Iy*Kp*m - 16.0*Kp*Mq*Zw - 16.0*Kp*Mq*m + 16.0*Kp*m**2*xG**2) - 2.0*Ixy*S4*d4*m*rho*x2**2*x5/(-16.0*Ix*Iy*Zw - 16.0*Ix*Iy*m - 16.0*Ix*Mq*Zw - 16.0*Ix*Mq*m + 16.0*Ix*m**2*xG**2 + 16.0*Ixy**2*Zw + 16.0*Ixy**2*m - 16.0*Iy*Kp*Zw - 16.0*Iy*Kp*m - 16.0*Kp*Mq*Zw - 16.0*Kp*Mq*m + 16.0*Kp*m**2*xG**2) + 2.0*Ixy*S4*m*rho*u**2*u3*xG/(-16.0*Ix*Iy*Zw - 16.0*Ix*Iy*m - 16.0*Ix*Mq*Zw - 16.0*Ix*Mq*m + 16.0*Ix*m**2*xG**2 + 16.0*Ixy**2*Zw + 16.0*Ixy**2*m - 16.0*Iy*Kp*Zw - 16.0*Iy*Kp*m - 16.0*Kp*Mq*Zw - 16.0*Kp*Mq*m + 16.0*Kp*m**2*xG**2) - 2.0*Ixy*S4*m*rho*u**2*x5*xG/(-16.0*Ix*Iy*Zw - 16.0*Ix*Iy*m - 16.0*Ix*Mq*Zw - 16.0*Ix*Mq*m + 16.0*Ix*m**2*xG**2 + 16.0*Ixy**2*Zw + 16.0*Ixy**2*m - 16.0*Iy*Kp*Zw - 16.0*Iy*Kp*m - 16.0*Kp*Mq*Zw - 16.0*Kp*Mq*m + 16.0*Kp*m**2*xG**2) + 2.0*Ixy*S4*m*rho*u3*x2**2*xG/(-16.0*Ix*Iy*Zw - 16.0*Ix*Iy*m - 16.0*Ix*Mq*Zw - 16.0*Ix*Mq*m + 16.0*Ix*m**2*xG**2 + 16.0*Ixy**2*Zw + 16.0*Ixy**2*m - 16.0*Iy*Kp*Zw - 16.0*Iy*Kp*m - 16.0*Kp*Mq*Zw - 16.0*Kp*Mq*m + 16.0*Kp*m**2*xG**2) - 2.0*Ixy*S4*m*rho*x2**2*x5*xG/(-16.0*Ix*Iy*Zw - 16.0*Ix*Iy*m - 16.0*Ix*Mq*Zw - 16.0*Ix*Mq*m + 16.0*Ix*m**2*xG**2 + 16.0*Ixy**2*Zw + 16.0*Ixy**2*m - 16.0*Iy*Kp*Zw - 16.0*Iy*Kp*m - 16.0*Kp*Mq*Zw - 16.0*Kp*Mq*m + 16.0*Kp*m**2*xG**2) - 16.0*Ixy*Vol*Zw*db*g*rho*sin(x5)/(-16.0*Ix*Iy*Zw - 16.0*Ix*Iy*m - 16.0*Ix*Mq*Zw - 16.0*Ix*Mq*m + 16.0*Ix*m**2*xG**2 + 16.0*Ixy**2*Zw + 16.0*Ixy**2*m - 16.0*Iy*Kp*Zw - 16.0*Iy*Kp*m - 16.0*Kp*Mq*Zw - 16.0*Kp*Mq*m + 16.0*Kp*m**2*xG**2) - 16.0*Ixy*Vol*db*g*m*rho*sin(x5)/(-16.0*Ix*Iy*Zw - 16.0*Ix*Iy*m - 16.0*Ix*Mq*Zw - 16.0*Ix*Mq*m + 16.0*Ix*m**2*xG**2 + 16.0*Ixy**2*Zw + 16.0*Ixy**2*m - 16.0*Iy*Kp*Zw - 16.0*Iy*Kp*m - 16.0*Kp*Mq*Zw - 16.0*Kp*Mq*m + 16.0*Kp*m**2*xG**2) - 16.0*Ixy*Vol*g*m*rho*xG*sin(x5)/(-16.0*Ix*Iy*Zw - 16.0*Ix*Iy*m - 16.0*Ix*Mq*Zw - 16.0*Ix*Mq*m + 16.0*Ix*m**2*xG**2 + 16.0*Ixy**2*Zw + 16.0*Ixy**2*m - 16.0*Iy*Kp*Zw - 16.0*Iy*Kp*m - 16.0*Kp*Mq*Zw - 16.0*Kp*Mq*m + 16.0*Kp*m**2*xG**2) - 16.0*Ixy*Zw**2*u*x2/(-16.0*Ix*Iy*Zw - 16.0*Ix*Iy*m - 16.0*Ix*Mq*Zw - 16.0*Ix*Mq*m + 16.0*Ix*m**2*xG**2 + 16.0*Ixy**2*Zw + 16.0*Ixy**2*m - 16.0*Iy*Kp*Zw - 16.0*Iy*Kp*m - 16.0*Kp*Mq*Zw - 16.0*Kp*Mq*m + 16.0*Kp*m**2*xG**2) + 16.0*Ixy*Zw*dg*g*m*sin(x5)/(-16.0*Ix*Iy*Zw - 16.0*Ix*Iy*m - 16.0*Ix*Mq*Zw - 16.0*Ix*Mq*m + 16.0*Ix*m**2*xG**2 + 16.0*Ixy**2*Zw + 16.0*Ixy**2*m - 16.0*Iy*Kp*Zw - 16.0*Iy*Kp*m - 16.0*Kp*Mq*Zw - 16.0*Kp*Mq*m + 16.0*Kp*m**2*xG**2) + 16.0*Ixy*Zw*dp1*x6/(-16.0*Ix*Iy*Zw - 16.0*Ix*Iy*m - 16.0*Ix*Mq*Zw - 16.0*Ix*Mq*m + 16.0*Ix*m**2*xG**2 + 16.0*Ixy**2*Zw + 16.0*Ixy**2*m - 16.0*Iy*Kp*Zw - 16.0*Iy*Kp*m - 16.0*Kp*Mq*Zw - 16.0*Kp*Mq*m + 16.0*Kp*m**2*xG**2) + 16.0*Ixy*Zw*dp2*x6**2/(-16.0*Ix*Iy*Zw - 16.0*Ix*Iy*m - 16.0*Ix*Mq*Zw - 16.0*Ix*Mq*m + 16.0*Ix*m**2*xG**2 + 16.0*Ixy**2*Zw + 16.0*Ixy**2*m - 16.0*Iy*Kp*Zw - 16.0*Iy*Kp*m - 16.0*Kp*Mq*Zw - 16.0*Kp*Mq*m + 16.0*Kp*m**2*xG**2) - 16.0*Ixy*Zw*m*u*x2/(-16.0*Ix*Iy*Zw - 16.0*Ix*Iy*m - 16.0*Ix*Mq*Zw - 16.0*Ix*Mq*m + 16.0*Ix*m**2*xG**2 + 16.0*Ixy**2*Zw + 16.0*Ixy**2*m - 16.0*Iy*Kp*Zw - 16.0*Iy*Kp*m - 16.0*Kp*Mq*Zw - 16.0*Kp*Mq*m + 16.0*Kp*m**2*xG**2) - 16.0*Ixy*Zw*m*u*x6*xG/(-16.0*Ix*Iy*Zw - 16.0*Ix*Iy*m - 16.0*Ix*Mq*Zw - 16.0*Ix*Mq*m + 16.0*Ix*m**2*xG**2 + 16.0*Ixy**2*Zw + 16.0*Ixy**2*m - 16.0*Iy*Kp*Zw - 16.0*Iy*Kp*m - 16.0*Kp*Mq*Zw - 16.0*Kp*Mq*m + 16.0*Kp*m**2*xG**2) + 16.0*Ixy*dg*g*m**2*sin(x5)/(-16.0*Ix*Iy*Zw - 16.0*Ix*Iy*m - 16.0*Ix*Mq*Zw - 16.0*Ix*Mq*m + 16.0*Ix*m**2*xG**2 + 16.0*Ixy**2*Zw + 16.0*Ixy**2*m - 16.0*Iy*Kp*Zw - 16.0*Iy*Kp*m - 16.0*Kp*Mq*Zw - 16.0*Kp*Mq*m + 16.0*Kp*m**2*xG**2) + 16.0*Ixy*dh1*m*x2*xG/(-16.0*Ix*Iy*Zw - 16.0*Ix*Iy*m - 16.0*Ix*Mq*Zw - 16.0*Ix*Mq*m + 16.0*Ix*m**2*xG**2 + 16.0*Ixy**2*Zw + 16.0*Ixy**2*m - 16.0*Iy*Kp*Zw - 16.0*Iy*Kp*m - 16.0*Kp*Mq*Zw - 16.0*Kp*Mq*m + 16.0*Kp*m**2*xG**2) + 16.0*Ixy*dh2*m*x2**2*xG/(-16.0*Ix*Iy*Zw - 16.0*Ix*Iy*m - 16.0*Ix*Mq*Zw - 16.0*Ix*Mq*m + 16.0*Ix*m**2*xG**2 + 16.0*Ixy**2*Zw + 16.0*Ixy**2*m - 16.0*Iy*Kp*Zw - 16.0*Iy*Kp*m - 16.0*Kp*Mq*Zw - 16.0*Kp*Mq*m + 16.0*Kp*m**2*xG**2) + 16.0*Ixy*dp1*m*x6/(-16.0*Ix*Iy*Zw - 16.0*Ix*Iy*m - 16.0*Ix*Mq*Zw - 16.0*Ix*Mq*m + 16.0*Ix*m**2*xG**2 + 16.0*Ixy**2*Zw + 16.0*Ixy**2*m - 16.0*Iy*Kp*Zw - 16.0*Iy*Kp*m - 16.0*Kp*Mq*Zw - 16.0*Kp*Mq*m + 16.0*Kp*m**2*xG**2) + 16.0*Ixy*dp2*m*x6**2/(-16.0*Ix*Iy*Zw - 16.0*Ix*Iy*m - 16.0*Ix*Mq*Zw - 16.0*Ix*Mq*m + 16.0*Ix*m**2*xG**2 + 16.0*Ixy**2*Zw + 16.0*Ixy**2*m - 16.0*Iy*Kp*Zw - 16.0*Iy*Kp*m - 16.0*Kp*Mq*Zw - 16.0*Kp*Mq*m + 16.0*Kp*m**2*xG**2) + 16.0*Ixy*g*m**2*xG*sin(x5)/(-16.0*Ix*Iy*Zw - 16.0*Ix*Iy*m - 16.0*Ix*Mq*Zw - 16.0*Ix*Mq*m + 16.0*Ix*m**2*xG**2 + 16.0*Ixy**2*Zw + 16.0*Ixy**2*m - 16.0*Iy*Kp*Zw - 16.0*Iy*Kp*m - 16.0*Kp*Mq*Zw - 16.0*Kp*Mq*m + 16.0*Kp*m**2*xG**2) + 16.0*Ixz*Iy*Zw*x4*x6/(-16.0*Ix*Iy*Zw - 16.0*Ix*Iy*m - 16.0*Ix*Mq*Zw - 16.0*Ix*Mq*m + 16.0*Ix*m**2*xG**2 + 16.0*Ixy**2*Zw + 16.0*Ixy**2*m - 16.0*Iy*Kp*Zw - 16.0*Iy*Kp*m - 16.0*Kp*Mq*Zw - 16.0*Kp*Mq*m + 16.0*Kp*m**2*xG**2) + 16.0*Ixz*Iy*m*x4*x6/(-16.0*Ix*Iy*Zw - 16.0*Ix*Iy*m - 16.0*Ix*Mq*Zw - 16.0*Ix*Mq*m + 16.0*Ix*m**2*xG**2 + 16.0*Ixy**2*Zw + 16.0*Ixy**2*m - 16.0*Iy*Kp*Zw - 16.0*Iy*Kp*m - 16.0*Kp*Mq*Zw - 16.0*Kp*Mq*m + 16.0*Kp*m**2*xG**2) + 16.0*Ixz*Mq*Zw*x4*x6/(-16.0*Ix*Iy*Zw - 16.0*Ix*Iy*m - 16.0*Ix*Mq*Zw - 16.0*Ix*Mq*m + 16.0*Ix*m**2*xG**2 + 16.0*Ixy**2*Zw + 16.0*Ixy**2*m - 16.0*Iy*Kp*Zw - 16.0*Iy*Kp*m - 16.0*Kp*Mq*Zw - 16.0*Kp*Mq*m + 16.0*Kp*m**2*xG**2) + 16.0*Ixz*Mq*m*x4*x6/(-16.0*Ix*Iy*Zw - 16.0*Ix*Iy*m - 16.0*Ix*Mq*Zw - 16.0*Ix*Mq*m + 16.0*Ix*m**2*xG**2 + 16.0*Ixy**2*Zw + 16.0*Ixy**2*m - 16.0*Iy*Kp*Zw - 16.0*Iy*Kp*m - 16.0*Kp*Mq*Zw - 16.0*Kp*Mq*m + 16.0*Kp*m**2*xG**2) - 16.0*Ixz*m**2*x4*x6*xG**2/(-16.0*Ix*Iy*Zw - 16.0*Ix*Iy*m - 16.0*Ix*Mq*Zw - 16.0*Ix*Mq*m + 16.0*Ix*m**2*xG**2 + 16.0*Ixy**2*Zw + 16.0*Ixy**2*m - 16.0*Iy*Kp*Zw - 16.0*Iy*Kp*m - 16.0*Kp*Mq*Zw - 16.0*Kp*Mq*m + 16.0*Kp*m**2*xG**2) - 16.0*Iy*Iyx*Zw*x6**2/(-16.0*Ix*Iy*Zw - 16.0*Ix*Iy*m - 16.0*Ix*Mq*Zw - 16.0*Ix*Mq*m + 16.0*Ix*m**2*xG**2 + 16.0*Ixy**2*Zw + 16.0*Ixy**2*m - 16.0*Iy*Kp*Zw - 16.0*Iy*Kp*m - 16.0*Kp*Mq*Zw - 16.0*Kp*Mq*m + 16.0*Kp*m**2*xG**2) - 16.0*Iy*Iyx*m*x6**2/(-16.0*Ix*Iy*Zw - 16.0*Ix*Iy*m - 16.0*Ix*Mq*Zw - 16.0*Ix*Mq*m + 16.0*Ix*m**2*xG**2 + 16.0*Ixy**2*Zw + 16.0*Ixy**2*m - 16.0*Iy*Kp*Zw - 16.0*Iy*Kp*m - 16.0*Kp*Mq*Zw - 16.0*Kp*Mq*m + 16.0*Kp*m**2*xG**2) + Iy*S2*Zw*r1*rho*u**2*u1/(-16.0*Ix*Iy*Zw - 16.0*Ix*Iy*m - 16.0*Ix*Mq*Zw - 16.0*Ix*Mq*m + 16.0*Ix*m**2*xG**2 + 16.0*Ixy**2*Zw + 16.0*Ixy**2*m - 16.0*Iy*Kp*Zw - 16.0*Iy*Kp*m - 16.0*Kp*Mq*Zw - 16.0*Kp*Mq*m + 16.0*Kp*m**2*xG**2) - Iy*S2*Zw*r1*rho*u**2*u2/(-16.0*Ix*Iy*Zw - 16.0*Ix*Iy*m - 16.0*Ix*Mq*Zw - 16.0*Ix*Mq*m + 16.0*Ix*m**2*xG**2 + 16.0*Ixy**2*Zw + 16.0*Ixy**2*m - 16.0*Iy*Kp*Zw - 16.0*Iy*Kp*m - 16.0*Kp*Mq*Zw - 16.0*Kp*Mq*m + 16.0*Kp*m**2*xG**2) + Iy*S2*Zw*r1*rho*u1*x2**2/(-16.0*Ix*Iy*Zw - 16.0*Ix*Iy*m - 16.0*Ix*Mq*Zw - 16.0*Ix*Mq*m + 16.0*Ix*m**2*xG**2 + 16.0*Ixy**2*Zw + 16.0*Ixy**2*m - 16.0*Iy*Kp*Zw - 16.0*Iy*Kp*m - 16.0*Kp*Mq*Zw - 16.0*Kp*Mq*m + 16.0*Kp*m**2*xG**2) - Iy*S2*Zw*r1*rho*u2*x2**2/(-16.0*Ix*Iy*Zw - 16.0*Ix*Iy*m - 16.0*Ix*Mq*Zw - 16.0*Ix*Mq*m + 16.0*Ix*m**2*xG**2 + 16.0*Ixy**2*Zw + 16.0*Ixy**2*m - 16.0*Iy*Kp*Zw - 16.0*Iy*Kp*m - 16.0*Kp*Mq*Zw - 16.0*Kp*Mq*m + 16.0*Kp*m**2*xG**2) + Iy*S2*m*r1*rho*u**2*u1/(-16.0*Ix*Iy*Zw - 16.0*Ix*Iy*m - 16.0*Ix*Mq*Zw - 16.0*Ix*Mq*m + 16.0*Ix*m**2*xG**2 + 16.0*Ixy**2*Zw + 16.0*Ixy**2*m - 16.0*Iy*Kp*Zw - 16.0*Iy*Kp*m - 16.0*Kp*Mq*Zw - 16.0*Kp*Mq*m + 16.0*Kp*m**2*xG**2) - Iy*S2*m*r1*rho*u**2*u2/(-16.0*Ix*Iy*Zw - 16.0*Ix*Iy*m - 16.0*Ix*Mq*Zw - 16.0*Ix*Mq*m + 16.0*Ix*m**2*xG**2 + 16.0*Ixy**2*Zw + 16.0*Ixy**2*m - 16.0*Iy*Kp*Zw - 16.0*Iy*Kp*m - 16.0*Kp*Mq*Zw - 16.0*Kp*Mq*m + 16.0*Kp*m**2*xG**2) + Iy*S2*m*r1*rho*u1*x2**2/(-16.0*Ix*Iy*Zw - 16.0*Ix*Iy*m - 16.0*Ix*Mq*Zw - 16.0*Ix*Mq*m + 16.0*Ix*m**2*xG**2 + 16.0*Ixy**2*Zw + 16.0*Ixy**2*m - 16.0*Iy*Kp*Zw - 16.0*Iy*Kp*m - 16.0*Kp*Mq*Zw - 16.0*Kp*Mq*m + 16.0*Kp*m**2*xG**2) - Iy*S2*m*r1*rho*u2*x2**2/(-16.0*Ix*Iy*Zw - 16.0*Ix*Iy*m - 16.0*Ix*Mq*Zw - 16.0*Ix*Mq*m + 16.0*Ix*m**2*xG**2 + 16.0*Ixy**2*Zw + 16.0*Ixy**2*m - 16.0*Iy*Kp*Zw - 16.0*Iy*Kp*m - 16.0*Kp*Mq*Zw - 16.0*Kp*Mq*m + 16.0*Kp*m**2*xG**2) + 16.0*Iy*Zw*dr1*x4/(-16.0*Ix*Iy*Zw - 16.0*Ix*Iy*m - 16.0*Ix*Mq*Zw - 16.0*Ix*Mq*m + 16.0*Ix*m**2*xG**2 + 16.0*Ixy**2*Zw + 16.0*Ixy**2*m - 16.0*Iy*Kp*Zw - 16.0*Iy*Kp*m - 16.0*Kp*Mq*Zw - 16.0*Kp*Mq*m + 16.0*Kp*m**2*xG**2) + 16.0*Iy*Zw*dr2*x4**2/(-16.0*Ix*Iy*Zw - 16.0*Ix*Iy*m - 16.0*Ix*Mq*Zw - 16.0*Ix*Mq*m + 16.0*Ix*m**2*xG**2 + 16.0*Ixy**2*Zw + 16.0*Ixy**2*m - 16.0*Iy*Kp*Zw - 16.0*Iy*Kp*m - 16.0*Kp*Mq*Zw - 16.0*Kp*Mq*m + 16.0*Kp*m**2*xG**2) + 16.0*Iy*dr1*m*x4/(-16.0*Ix*Iy*Zw - 16.0*Ix*Iy*m - 16.0*Ix*Mq*Zw - 16.0*Ix*Mq*m + 16.0*Ix*m**2*xG**2 + 16.0*Ixy**2*Zw + 16.0*Ixy**2*m - 16.0*Iy*Kp*Zw - 16.0*Iy*Kp*m - 16.0*Kp*Mq*Zw - 16.0*Kp*Mq*m + 16.0*Kp*m**2*xG**2) + 16.0*Iy*dr2*m*x4**2/(-16.0*Ix*Iy*Zw - 16.0*Ix*Iy*m - 16.0*Ix*Mq*Zw - 16.0*Ix*Mq*m + 16.0*Ix*m**2*xG**2 + 16.0*Ixy**2*Zw + 16.0*Ixy**2*m - 16.0*Iy*Kp*Zw - 16.0*Iy*Kp*m - 16.0*Kp*Mq*Zw - 16.0*Kp*Mq*m + 16.0*Kp*m**2*xG**2) - 16.0*Iyx*Mq*Zw*x6**2/(-16.0*Ix*Iy*Zw - 16.0*Ix*Iy*m - 16.0*Ix*Mq*Zw - 16.0*Ix*Mq*m + 16.0*Ix*m**2*xG**2 + 16.0*Ixy**2*Zw + 16.0*Ixy**2*m - 16.0*Iy*Kp*Zw - 16.0*Iy*Kp*m - 16.0*Kp*Mq*Zw - 16.0*Kp*Mq*m + 16.0*Kp*m**2*xG**2) - 16.0*Iyx*Mq*m*x6**2/(-16.0*Ix*Iy*Zw - 16.0*Ix*Iy*m - 16.0*Ix*Mq*Zw - 16.0*Ix*Mq*m + 16.0*Ix*m**2*xG**2 + 16.0*Ixy**2*Zw + 16.0*Ixy**2*m - 16.0*Iy*Kp*Zw - 16.0*Iy*Kp*m - 16.0*Kp*Mq*Zw - 16.0*Kp*Mq*m + 16.0*Kp*m**2*xG**2) + 16.0*Iyx*m**2*x6**2*xG**2/(-16.0*Ix*Iy*Zw - 16.0*Ix*Iy*m - 16.0*Ix*Mq*Zw - 16.0*Ix*Mq*m + 16.0*Ix*m**2*xG**2 + 16.0*Ixy**2*Zw + 16.0*Ixy**2*m - 16.0*Iy*Kp*Zw - 16.0*Iy*Kp*m - 16.0*Kp*Mq*Zw - 16.0*Kp*Mq*m + 16.0*Kp*m**2*xG**2) + Mq*S2*Zw*r1*rho*u**2*u1/(-16.0*Ix*Iy*Zw - 16.0*Ix*Iy*m - 16.0*Ix*Mq*Zw - 16.0*Ix*Mq*m + 16.0*Ix*m**2*xG**2 + 16.0*Ixy**2*Zw + 16.0*Ixy**2*m - 16.0*Iy*Kp*Zw - 16.0*Iy*Kp*m - 16.0*Kp*Mq*Zw - 16.0*Kp*Mq*m + 16.0*Kp*m**2*xG**2) - Mq*S2*Zw*r1*rho*u**2*u2/(-16.0*Ix*Iy*Zw - 16.0*Ix*Iy*m - 16.0*Ix*Mq*Zw - 16.0*Ix*Mq*m + 16.0*Ix*m**2*xG**2 + 16.0*Ixy**2*Zw + 16.0*Ixy**2*m - 16.0*Iy*Kp*Zw - 16.0*Iy*Kp*m - 16.0*Kp*Mq*Zw - 16.0*Kp*Mq*m + 16.0*Kp*m**2*xG**2) + Mq*S2*Zw*r1*rho*u1*x2**2/(-16.0*Ix*Iy*Zw - 16.0*Ix*Iy*m - 16.0*Ix*Mq*Zw - 16.0*Ix*Mq*m + 16.0*Ix*m**2*xG**2 + 16.0*Ixy**2*Zw + 16.0*Ixy**2*m - 16.0*Iy*Kp*Zw - 16.0*Iy*Kp*m - 16.0*Kp*Mq*Zw - 16.0*Kp*Mq*m + 16.0*Kp*m**2*xG**2) - Mq*S2*Zw*r1*rho*u2*x2**2/(-16.0*Ix*Iy*Zw - 16.0*Ix*Iy*m - 16.0*Ix*Mq*Zw - 16.0*Ix*Mq*m + 16.0*Ix*m**2*xG**2 + 16.0*Ixy**2*Zw + 16.0*Ixy**2*m - 16.0*Iy*Kp*Zw - 16.0*Iy*Kp*m - 16.0*Kp*Mq*Zw - 16.0*Kp*Mq*m + 16.0*Kp*m**2*xG**2) + Mq*S2*m*r1*rho*u**2*u1/(-16.0*Ix*Iy*Zw - 16.0*Ix*Iy*m - 16.0*Ix*Mq*Zw - 16.0*Ix*Mq*m + 16.0*Ix*m**2*xG**2 + 16.0*Ixy**2*Zw + 16.0*Ixy**2*m - 16.0*Iy*Kp*Zw - 16.0*Iy*Kp*m - 16.0*Kp*Mq*Zw - 16.0*Kp*Mq*m + 16.0*Kp*m**2*xG**2) - Mq*S2*m*r1*rho*u**2*u2/(-16.0*Ix*Iy*Zw - 16.0*Ix*Iy*m - 16.0*Ix*Mq*Zw - 16.0*Ix*Mq*m + 16.0*Ix*m**2*xG**2 + 16.0*Ixy**2*Zw + 16.0*Ixy**2*m - 16.0*Iy*Kp*Zw - 16.0*Iy*Kp*m - 16.0*Kp*Mq*Zw - 16.0*Kp*Mq*m + 16.0*Kp*m**2*xG**2) + Mq*S2*m*r1*rho*u1*x2**2/(-16.0*Ix*Iy*Zw - 16.0*Ix*Iy*m - 16.0*Ix*Mq*Zw - 16.0*Ix*Mq*m + 16.0*Ix*m**2*xG**2 + 16.0*Ixy**2*Zw + 16.0*Ixy**2*m - 16.0*Iy*Kp*Zw - 16.0*Iy*Kp*m - 16.0*Kp*Mq*Zw - 16.0*Kp*Mq*m + 16.0*Kp*m**2*xG**2) - Mq*S2*m*r1*rho*u2*x2**2/(-16.0*Ix*Iy*Zw - 16.0*Ix*Iy*m - 16.0*Ix*Mq*Zw - 16.0*Ix*Mq*m + 16.0*Ix*m**2*xG**2 + 16.0*Ixy**2*Zw + 16.0*Ixy**2*m - 16.0*Iy*Kp*Zw - 16.0*Iy*Kp*m - 16.0*Kp*Mq*Zw - 16.0*Kp*Mq*m + 16.0*Kp*m**2*xG**2) + 16.0*Mq*Zw*dr1*x4/(-16.0*Ix*Iy*Zw - 16.0*Ix*Iy*m - 16.0*Ix*Mq*Zw - 16.0*Ix*Mq*m + 16.0*Ix*m**2*xG**2 + 16.0*Ixy**2*Zw + 16.0*Ixy**2*m - 16.0*Iy*Kp*Zw - 16.0*Iy*Kp*m - 16.0*Kp*Mq*Zw - 16.0*Kp*Mq*m + 16.0*Kp*m**2*xG**2) + 16.0*Mq*Zw*dr2*x4**2/(-16.0*Ix*Iy*Zw - 16.0*Ix*Iy*m - 16.0*Ix*Mq*Zw - 16.0*Ix*Mq*m + 16.0*Ix*m**2*xG**2 + 16.0*Ixy**2*Zw + 16.0*Ixy**2*m - 16.0*Iy*Kp*Zw - 16.0*Iy*Kp*m - 16.0*Kp*Mq*Zw - 16.0*Kp*Mq*m + 16.0*Kp*m**2*xG**2) + 16.0*Mq*dr1*m*x4/(-16.0*Ix*Iy*Zw - 16.0*Ix*Iy*m - 16.0*Ix*Mq*Zw - 16.0*Ix*Mq*m + 16.0*Ix*m**2*xG**2 + 16.0*Ixy**2*Zw + 16.0*Ixy**2*m - 16.0*Iy*Kp*Zw - 16.0*Iy*Kp*m - 16.0*Kp*Mq*Zw - 16.0*Kp*Mq*m + 16.0*Kp*m**2*xG**2) + 16.0*Mq*dr2*m*x4**2/(-16.0*Ix*Iy*Zw - 16.0*Ix*Iy*m - 16.0*Ix*Mq*Zw - 16.0*Ix*Mq*m + 16.0*Ix*m**2*xG**2 + 16.0*Ixy**2*Zw + 16.0*Ixy**2*m - 16.0*Iy*Kp*Zw - 16.0*Iy*Kp*m - 16.0*Kp*Mq*Zw - 16.0*Kp*Mq*m + 16.0*Kp*m**2*xG**2) - S2*m**2*r1*rho*u**2*u1*xG**2/(-16.0*Ix*Iy*Zw - 16.0*Ix*Iy*m - 16.0*Ix*Mq*Zw - 16.0*Ix*Mq*m + 16.0*Ix*m**2*xG**2 + 16.0*Ixy**2*Zw + 16.0*Ixy**2*m - 16.0*Iy*Kp*Zw - 16.0*Iy*Kp*m - 16.0*Kp*Mq*Zw - 16.0*Kp*Mq*m + 16.0*Kp*m**2*xG**2) + S2*m**2*r1*rho*u**2*u2*xG**2/(-16.0*Ix*Iy*Zw - 16.0*Ix*Iy*m - 16.0*Ix*Mq*Zw - 16.0*Ix*Mq*m + 16.0*Ix*m**2*xG**2 + 16.0*Ixy**2*Zw + 16.0*Ixy**2*m - 16.0*Iy*Kp*Zw - 16.0*Iy*Kp*m - 16.0*Kp*Mq*Zw - 16.0*Kp*Mq*m + 16.0*Kp*m**2*xG**2) - S2*m**2*r1*rho*u1*x2**2*xG**2/(-16.0*Ix*Iy*Zw - 16.0*Ix*Iy*m - 16.0*Ix*Mq*Zw - 16.0*Ix*Mq*m + 16.0*Ix*m**2*xG**2 + 16.0*Ixy**2*Zw + 16.0*Ixy**2*m - 16.0*Iy*Kp*Zw - 16.0*Iy*Kp*m - 16.0*Kp*Mq*Zw - 16.0*Kp*Mq*m + 16.0*Kp*m**2*xG**2) + S2*m**2*r1*rho*u2*x2**2*xG**2/(-16.0*Ix*Iy*Zw - 16.0*Ix*Iy*m - 16.0*Ix*Mq*Zw - 16.0*Ix*Mq*m + 16.0*Ix*m**2*xG**2 + 16.0*Ixy**2*Zw + 16.0*Ixy**2*m - 16.0*Iy*Kp*Zw - 16.0*Iy*Kp*m - 16.0*Kp*Mq*Zw - 16.0*Kp*Mq*m + 16.0*Kp*m**2*xG**2) - 16.0*dr1*m**2*x4*xG**2/(-16.0*Ix*Iy*Zw - 16.0*Ix*Iy*m - 16.0*Ix*Mq*Zw - 16.0*Ix*Mq*m + 16.0*Ix*m**2*xG**2 + 16.0*Ixy**2*Zw + 16.0*Ixy**2*m - 16.0*Iy*Kp*Zw - 16.0*Iy*Kp*m - 16.0*Kp*Mq*Zw - 16.0*Kp*Mq*m + 16.0*Kp*m**2*xG**2) - 16.0*dr2*m**2*x4**2*xG**2/(-16.0*Ix*Iy*Zw - 16.0*Ix*Iy*m - 16.0*Ix*Mq*Zw - 16.0*Ix*Mq*m + 16.0*Ix*m**2*xG**2 + 16.0*Ixy**2*Zw + 16.0*Ixy**2*m - 16.0*Iy*Kp*Zw - 16.0*Iy*Kp*m - 16.0*Kp*Mq*Zw - 16.0*Kp*Mq*m + 16.0*Kp*m**2*xG**2)"
   ]
  },
  {
   "cell_type": "code",
   "execution_count": 201,
   "id": "received-discipline",
   "metadata": {},
   "outputs": [],
   "source": [
    "x6d = -16.0*Ix*Ixz*Zw*x4**2/(-16.0*Ix*Iy*Zw - 16.0*Ix*Iy*m - 16.0*Ix*Mq*Zw - 16.0*Ix*Mq*m + 16.0*Ix*m**2*xG**2 + 16.0*Ixy**2*Zw + 16.0*Ixy**2*m - 16.0*Iy*Kp*Zw - 16.0*Iy*Kp*m - 16.0*Kp*Mq*Zw - 16.0*Kp*Mq*m + 16.0*Kp*m**2*xG**2) - 16.0*Ix*Ixz*m*x4**2/(-16.0*Ix*Iy*Zw - 16.0*Ix*Iy*m - 16.0*Ix*Mq*Zw - 16.0*Ix*Mq*m + 16.0*Ix*m**2*xG**2 + 16.0*Ixy**2*Zw + 16.0*Ixy**2*m - 16.0*Iy*Kp*Zw - 16.0*Iy*Kp*m - 16.0*Kp*Mq*Zw - 16.0*Kp*Mq*m + 16.0*Kp*m**2*xG**2) - 16.0*Ix*Iyz*Zw*x4*x6/(-16.0*Ix*Iy*Zw - 16.0*Ix*Iy*m - 16.0*Ix*Mq*Zw - 16.0*Ix*Mq*m + 16.0*Ix*m**2*xG**2 + 16.0*Ixy**2*Zw + 16.0*Ixy**2*m - 16.0*Iy*Kp*Zw - 16.0*Iy*Kp*m - 16.0*Kp*Mq*Zw - 16.0*Kp*Mq*m + 16.0*Kp*m**2*xG**2) - 16.0*Ix*Iyz*m*x4*x6/(-16.0*Ix*Iy*Zw - 16.0*Ix*Iy*m - 16.0*Ix*Mq*Zw - 16.0*Ix*Mq*m + 16.0*Ix*m**2*xG**2 + 16.0*Ixy**2*Zw + 16.0*Ixy**2*m - 16.0*Iy*Kp*Zw - 16.0*Iy*Kp*m - 16.0*Kp*Mq*Zw - 16.0*Kp*Mq*m + 16.0*Kp*m**2*xG**2) - 2.0*Ix*S1*Zw*d1*rho*u**2*x5/(-16.0*Ix*Iy*Zw - 16.0*Ix*Iy*m - 16.0*Ix*Mq*Zw - 16.0*Ix*Mq*m + 16.0*Ix*m**2*xG**2 + 16.0*Ixy**2*Zw + 16.0*Ixy**2*m - 16.0*Iy*Kp*Zw - 16.0*Iy*Kp*m - 16.0*Kp*Mq*Zw - 16.0*Kp*Mq*m + 16.0*Kp*m**2*xG**2) - 2.0*Ix*S1*Zw*d1*rho*x2**2*x5/(-16.0*Ix*Iy*Zw - 16.0*Ix*Iy*m - 16.0*Ix*Mq*Zw - 16.0*Ix*Mq*m + 16.0*Ix*m**2*xG**2 + 16.0*Ixy**2*Zw + 16.0*Ixy**2*m - 16.0*Iy*Kp*Zw - 16.0*Iy*Kp*m - 16.0*Kp*Mq*Zw - 16.0*Kp*Mq*m + 16.0*Kp*m**2*xG**2) - 2.0*Ix*S1*d1*m*rho*u**2*x5/(-16.0*Ix*Iy*Zw - 16.0*Ix*Iy*m - 16.0*Ix*Mq*Zw - 16.0*Ix*Mq*m + 16.0*Ix*m**2*xG**2 + 16.0*Ixy**2*Zw + 16.0*Ixy**2*m - 16.0*Iy*Kp*Zw - 16.0*Iy*Kp*m - 16.0*Kp*Mq*Zw - 16.0*Kp*Mq*m + 16.0*Kp*m**2*xG**2) - 2.0*Ix*S1*d1*m*rho*x2**2*x5/(-16.0*Ix*Iy*Zw - 16.0*Ix*Iy*m - 16.0*Ix*Mq*Zw - 16.0*Ix*Mq*m + 16.0*Ix*m**2*xG**2 + 16.0*Ixy**2*Zw + 16.0*Ixy**2*m - 16.0*Iy*Kp*Zw - 16.0*Iy*Kp*m - 16.0*Kp*Mq*Zw - 16.0*Kp*Mq*m + 16.0*Kp*m**2*xG**2) - 2.0*Ix*S1*m*rho*u**2*x5*xG/(-16.0*Ix*Iy*Zw - 16.0*Ix*Iy*m - 16.0*Ix*Mq*Zw - 16.0*Ix*Mq*m + 16.0*Ix*m**2*xG**2 + 16.0*Ixy**2*Zw + 16.0*Ixy**2*m - 16.0*Iy*Kp*Zw - 16.0*Iy*Kp*m - 16.0*Kp*Mq*Zw - 16.0*Kp*Mq*m + 16.0*Kp*m**2*xG**2) - 2.0*Ix*S1*m*rho*x2**2*x5*xG/(-16.0*Ix*Iy*Zw - 16.0*Ix*Iy*m - 16.0*Ix*Mq*Zw - 16.0*Ix*Mq*m + 16.0*Ix*m**2*xG**2 + 16.0*Ixy**2*Zw + 16.0*Ixy**2*m - 16.0*Iy*Kp*Zw - 16.0*Iy*Kp*m - 16.0*Kp*Mq*Zw - 16.0*Kp*Mq*m + 16.0*Kp*m**2*xG**2) + Ix*S2*Zw*d2*rho*u**2*u1/(-16.0*Ix*Iy*Zw - 16.0*Ix*Iy*m - 16.0*Ix*Mq*Zw - 16.0*Ix*Mq*m + 16.0*Ix*m**2*xG**2 + 16.0*Ixy**2*Zw + 16.0*Ixy**2*m - 16.0*Iy*Kp*Zw - 16.0*Iy*Kp*m - 16.0*Kp*Mq*Zw - 16.0*Kp*Mq*m + 16.0*Kp*m**2*xG**2) + Ix*S2*Zw*d2*rho*u**2*u2/(-16.0*Ix*Iy*Zw - 16.0*Ix*Iy*m - 16.0*Ix*Mq*Zw - 16.0*Ix*Mq*m + 16.0*Ix*m**2*xG**2 + 16.0*Ixy**2*Zw + 16.0*Ixy**2*m - 16.0*Iy*Kp*Zw - 16.0*Iy*Kp*m - 16.0*Kp*Mq*Zw - 16.0*Kp*Mq*m + 16.0*Kp*m**2*xG**2) - 2.0*Ix*S2*Zw*d2*rho*u**2*x5/(-16.0*Ix*Iy*Zw - 16.0*Ix*Iy*m - 16.0*Ix*Mq*Zw - 16.0*Ix*Mq*m + 16.0*Ix*m**2*xG**2 + 16.0*Ixy**2*Zw + 16.0*Ixy**2*m - 16.0*Iy*Kp*Zw - 16.0*Iy*Kp*m - 16.0*Kp*Mq*Zw - 16.0*Kp*Mq*m + 16.0*Kp*m**2*xG**2) + Ix*S2*Zw*d2*rho*u1*x2**2/(-16.0*Ix*Iy*Zw - 16.0*Ix*Iy*m - 16.0*Ix*Mq*Zw - 16.0*Ix*Mq*m + 16.0*Ix*m**2*xG**2 + 16.0*Ixy**2*Zw + 16.0*Ixy**2*m - 16.0*Iy*Kp*Zw - 16.0*Iy*Kp*m - 16.0*Kp*Mq*Zw - 16.0*Kp*Mq*m + 16.0*Kp*m**2*xG**2) + Ix*S2*Zw*d2*rho*u2*x2**2/(-16.0*Ix*Iy*Zw - 16.0*Ix*Iy*m - 16.0*Ix*Mq*Zw - 16.0*Ix*Mq*m + 16.0*Ix*m**2*xG**2 + 16.0*Ixy**2*Zw + 16.0*Ixy**2*m - 16.0*Iy*Kp*Zw - 16.0*Iy*Kp*m - 16.0*Kp*Mq*Zw - 16.0*Kp*Mq*m + 16.0*Kp*m**2*xG**2) - 2.0*Ix*S2*Zw*d2*rho*x2**2*x5/(-16.0*Ix*Iy*Zw - 16.0*Ix*Iy*m - 16.0*Ix*Mq*Zw - 16.0*Ix*Mq*m + 16.0*Ix*m**2*xG**2 + 16.0*Ixy**2*Zw + 16.0*Ixy**2*m - 16.0*Iy*Kp*Zw - 16.0*Iy*Kp*m - 16.0*Kp*Mq*Zw - 16.0*Kp*Mq*m + 16.0*Kp*m**2*xG**2) + Ix*S2*d2*m*rho*u**2*u1/(-16.0*Ix*Iy*Zw - 16.0*Ix*Iy*m - 16.0*Ix*Mq*Zw - 16.0*Ix*Mq*m + 16.0*Ix*m**2*xG**2 + 16.0*Ixy**2*Zw + 16.0*Ixy**2*m - 16.0*Iy*Kp*Zw - 16.0*Iy*Kp*m - 16.0*Kp*Mq*Zw - 16.0*Kp*Mq*m + 16.0*Kp*m**2*xG**2) + Ix*S2*d2*m*rho*u**2*u2/(-16.0*Ix*Iy*Zw - 16.0*Ix*Iy*m - 16.0*Ix*Mq*Zw - 16.0*Ix*Mq*m + 16.0*Ix*m**2*xG**2 + 16.0*Ixy**2*Zw + 16.0*Ixy**2*m - 16.0*Iy*Kp*Zw - 16.0*Iy*Kp*m - 16.0*Kp*Mq*Zw - 16.0*Kp*Mq*m + 16.0*Kp*m**2*xG**2) - 2.0*Ix*S2*d2*m*rho*u**2*x5/(-16.0*Ix*Iy*Zw - 16.0*Ix*Iy*m - 16.0*Ix*Mq*Zw - 16.0*Ix*Mq*m + 16.0*Ix*m**2*xG**2 + 16.0*Ixy**2*Zw + 16.0*Ixy**2*m - 16.0*Iy*Kp*Zw - 16.0*Iy*Kp*m - 16.0*Kp*Mq*Zw - 16.0*Kp*Mq*m + 16.0*Kp*m**2*xG**2) + Ix*S2*d2*m*rho*u1*x2**2/(-16.0*Ix*Iy*Zw - 16.0*Ix*Iy*m - 16.0*Ix*Mq*Zw - 16.0*Ix*Mq*m + 16.0*Ix*m**2*xG**2 + 16.0*Ixy**2*Zw + 16.0*Ixy**2*m - 16.0*Iy*Kp*Zw - 16.0*Iy*Kp*m - 16.0*Kp*Mq*Zw - 16.0*Kp*Mq*m + 16.0*Kp*m**2*xG**2) + Ix*S2*d2*m*rho*u2*x2**2/(-16.0*Ix*Iy*Zw - 16.0*Ix*Iy*m - 16.0*Ix*Mq*Zw - 16.0*Ix*Mq*m + 16.0*Ix*m**2*xG**2 + 16.0*Ixy**2*Zw + 16.0*Ixy**2*m - 16.0*Iy*Kp*Zw - 16.0*Iy*Kp*m - 16.0*Kp*Mq*Zw - 16.0*Kp*Mq*m + 16.0*Kp*m**2*xG**2) - 2.0*Ix*S2*d2*m*rho*x2**2*x5/(-16.0*Ix*Iy*Zw - 16.0*Ix*Iy*m - 16.0*Ix*Mq*Zw - 16.0*Ix*Mq*m + 16.0*Ix*m**2*xG**2 + 16.0*Ixy**2*Zw + 16.0*Ixy**2*m - 16.0*Iy*Kp*Zw - 16.0*Iy*Kp*m - 16.0*Kp*Mq*Zw - 16.0*Kp*Mq*m + 16.0*Kp*m**2*xG**2) + Ix*S2*m*rho*u**2*u1*xG/(-16.0*Ix*Iy*Zw - 16.0*Ix*Iy*m - 16.0*Ix*Mq*Zw - 16.0*Ix*Mq*m + 16.0*Ix*m**2*xG**2 + 16.0*Ixy**2*Zw + 16.0*Ixy**2*m - 16.0*Iy*Kp*Zw - 16.0*Iy*Kp*m - 16.0*Kp*Mq*Zw - 16.0*Kp*Mq*m + 16.0*Kp*m**2*xG**2) + Ix*S2*m*rho*u**2*u2*xG/(-16.0*Ix*Iy*Zw - 16.0*Ix*Iy*m - 16.0*Ix*Mq*Zw - 16.0*Ix*Mq*m + 16.0*Ix*m**2*xG**2 + 16.0*Ixy**2*Zw + 16.0*Ixy**2*m - 16.0*Iy*Kp*Zw - 16.0*Iy*Kp*m - 16.0*Kp*Mq*Zw - 16.0*Kp*Mq*m + 16.0*Kp*m**2*xG**2) - 2.0*Ix*S2*m*rho*u**2*x5*xG/(-16.0*Ix*Iy*Zw - 16.0*Ix*Iy*m - 16.0*Ix*Mq*Zw - 16.0*Ix*Mq*m + 16.0*Ix*m**2*xG**2 + 16.0*Ixy**2*Zw + 16.0*Ixy**2*m - 16.0*Iy*Kp*Zw - 16.0*Iy*Kp*m - 16.0*Kp*Mq*Zw - 16.0*Kp*Mq*m + 16.0*Kp*m**2*xG**2) + Ix*S2*m*rho*u1*x2**2*xG/(-16.0*Ix*Iy*Zw - 16.0*Ix*Iy*m - 16.0*Ix*Mq*Zw - 16.0*Ix*Mq*m + 16.0*Ix*m**2*xG**2 + 16.0*Ixy**2*Zw + 16.0*Ixy**2*m - 16.0*Iy*Kp*Zw - 16.0*Iy*Kp*m - 16.0*Kp*Mq*Zw - 16.0*Kp*Mq*m + 16.0*Kp*m**2*xG**2) + Ix*S2*m*rho*u2*x2**2*xG/(-16.0*Ix*Iy*Zw - 16.0*Ix*Iy*m - 16.0*Ix*Mq*Zw - 16.0*Ix*Mq*m + 16.0*Ix*m**2*xG**2 + 16.0*Ixy**2*Zw + 16.0*Ixy**2*m - 16.0*Iy*Kp*Zw - 16.0*Iy*Kp*m - 16.0*Kp*Mq*Zw - 16.0*Kp*Mq*m + 16.0*Kp*m**2*xG**2) - 2.0*Ix*S2*m*rho*x2**2*x5*xG/(-16.0*Ix*Iy*Zw - 16.0*Ix*Iy*m - 16.0*Ix*Mq*Zw - 16.0*Ix*Mq*m + 16.0*Ix*m**2*xG**2 + 16.0*Ixy**2*Zw + 16.0*Ixy**2*m - 16.0*Iy*Kp*Zw - 16.0*Iy*Kp*m - 16.0*Kp*Mq*Zw - 16.0*Kp*Mq*m + 16.0*Kp*m**2*xG**2) - 2.0*Ix*S3*Zw*d3*rho*u**2*x5/(-16.0*Ix*Iy*Zw - 16.0*Ix*Iy*m - 16.0*Ix*Mq*Zw - 16.0*Ix*Mq*m + 16.0*Ix*m**2*xG**2 + 16.0*Ixy**2*Zw + 16.0*Ixy**2*m - 16.0*Iy*Kp*Zw - 16.0*Iy*Kp*m - 16.0*Kp*Mq*Zw - 16.0*Kp*Mq*m + 16.0*Kp*m**2*xG**2) - 2.0*Ix*S3*Zw*d3*rho*x2**2*x5/(-16.0*Ix*Iy*Zw - 16.0*Ix*Iy*m - 16.0*Ix*Mq*Zw - 16.0*Ix*Mq*m + 16.0*Ix*m**2*xG**2 + 16.0*Ixy**2*Zw + 16.0*Ixy**2*m - 16.0*Iy*Kp*Zw - 16.0*Iy*Kp*m - 16.0*Kp*Mq*Zw - 16.0*Kp*Mq*m + 16.0*Kp*m**2*xG**2) - 2.0*Ix*S3*d3*m*rho*u**2*x5/(-16.0*Ix*Iy*Zw - 16.0*Ix*Iy*m - 16.0*Ix*Mq*Zw - 16.0*Ix*Mq*m + 16.0*Ix*m**2*xG**2 + 16.0*Ixy**2*Zw + 16.0*Ixy**2*m - 16.0*Iy*Kp*Zw - 16.0*Iy*Kp*m - 16.0*Kp*Mq*Zw - 16.0*Kp*Mq*m + 16.0*Kp*m**2*xG**2) - 2.0*Ix*S3*d3*m*rho*x2**2*x5/(-16.0*Ix*Iy*Zw - 16.0*Ix*Iy*m - 16.0*Ix*Mq*Zw - 16.0*Ix*Mq*m + 16.0*Ix*m**2*xG**2 + 16.0*Ixy**2*Zw + 16.0*Ixy**2*m - 16.0*Iy*Kp*Zw - 16.0*Iy*Kp*m - 16.0*Kp*Mq*Zw - 16.0*Kp*Mq*m + 16.0*Kp*m**2*xG**2) - 2.0*Ix*S3*m*rho*u**2*x5*xG/(-16.0*Ix*Iy*Zw - 16.0*Ix*Iy*m - 16.0*Ix*Mq*Zw - 16.0*Ix*Mq*m + 16.0*Ix*m**2*xG**2 + 16.0*Ixy**2*Zw + 16.0*Ixy**2*m - 16.0*Iy*Kp*Zw - 16.0*Iy*Kp*m - 16.0*Kp*Mq*Zw - 16.0*Kp*Mq*m + 16.0*Kp*m**2*xG**2) - 2.0*Ix*S3*m*rho*x2**2*x5*xG/(-16.0*Ix*Iy*Zw - 16.0*Ix*Iy*m - 16.0*Ix*Mq*Zw - 16.0*Ix*Mq*m + 16.0*Ix*m**2*xG**2 + 16.0*Ixy**2*Zw + 16.0*Ixy**2*m - 16.0*Iy*Kp*Zw - 16.0*Iy*Kp*m - 16.0*Kp*Mq*Zw - 16.0*Kp*Mq*m + 16.0*Kp*m**2*xG**2) + 2.0*Ix*S4*Zw*d4*rho*u**2*u3/(-16.0*Ix*Iy*Zw - 16.0*Ix*Iy*m - 16.0*Ix*Mq*Zw - 16.0*Ix*Mq*m + 16.0*Ix*m**2*xG**2 + 16.0*Ixy**2*Zw + 16.0*Ixy**2*m - 16.0*Iy*Kp*Zw - 16.0*Iy*Kp*m - 16.0*Kp*Mq*Zw - 16.0*Kp*Mq*m + 16.0*Kp*m**2*xG**2) - 2.0*Ix*S4*Zw*d4*rho*u**2*x5/(-16.0*Ix*Iy*Zw - 16.0*Ix*Iy*m - 16.0*Ix*Mq*Zw - 16.0*Ix*Mq*m + 16.0*Ix*m**2*xG**2 + 16.0*Ixy**2*Zw + 16.0*Ixy**2*m - 16.0*Iy*Kp*Zw - 16.0*Iy*Kp*m - 16.0*Kp*Mq*Zw - 16.0*Kp*Mq*m + 16.0*Kp*m**2*xG**2) + 2.0*Ix*S4*Zw*d4*rho*u3*x2**2/(-16.0*Ix*Iy*Zw - 16.0*Ix*Iy*m - 16.0*Ix*Mq*Zw - 16.0*Ix*Mq*m + 16.0*Ix*m**2*xG**2 + 16.0*Ixy**2*Zw + 16.0*Ixy**2*m - 16.0*Iy*Kp*Zw - 16.0*Iy*Kp*m - 16.0*Kp*Mq*Zw - 16.0*Kp*Mq*m + 16.0*Kp*m**2*xG**2) - 2.0*Ix*S4*Zw*d4*rho*x2**2*x5/(-16.0*Ix*Iy*Zw - 16.0*Ix*Iy*m - 16.0*Ix*Mq*Zw - 16.0*Ix*Mq*m + 16.0*Ix*m**2*xG**2 + 16.0*Ixy**2*Zw + 16.0*Ixy**2*m - 16.0*Iy*Kp*Zw - 16.0*Iy*Kp*m - 16.0*Kp*Mq*Zw - 16.0*Kp*Mq*m + 16.0*Kp*m**2*xG**2) + 2.0*Ix*S4*d4*m*rho*u**2*u3/(-16.0*Ix*Iy*Zw - 16.0*Ix*Iy*m - 16.0*Ix*Mq*Zw - 16.0*Ix*Mq*m + 16.0*Ix*m**2*xG**2 + 16.0*Ixy**2*Zw + 16.0*Ixy**2*m - 16.0*Iy*Kp*Zw - 16.0*Iy*Kp*m - 16.0*Kp*Mq*Zw - 16.0*Kp*Mq*m + 16.0*Kp*m**2*xG**2) - 2.0*Ix*S4*d4*m*rho*u**2*x5/(-16.0*Ix*Iy*Zw - 16.0*Ix*Iy*m - 16.0*Ix*Mq*Zw - 16.0*Ix*Mq*m + 16.0*Ix*m**2*xG**2 + 16.0*Ixy**2*Zw + 16.0*Ixy**2*m - 16.0*Iy*Kp*Zw - 16.0*Iy*Kp*m - 16.0*Kp*Mq*Zw - 16.0*Kp*Mq*m + 16.0*Kp*m**2*xG**2) + 2.0*Ix*S4*d4*m*rho*u3*x2**2/(-16.0*Ix*Iy*Zw - 16.0*Ix*Iy*m - 16.0*Ix*Mq*Zw - 16.0*Ix*Mq*m + 16.0*Ix*m**2*xG**2 + 16.0*Ixy**2*Zw + 16.0*Ixy**2*m - 16.0*Iy*Kp*Zw - 16.0*Iy*Kp*m - 16.0*Kp*Mq*Zw - 16.0*Kp*Mq*m + 16.0*Kp*m**2*xG**2) - 2.0*Ix*S4*d4*m*rho*x2**2*x5/(-16.0*Ix*Iy*Zw - 16.0*Ix*Iy*m - 16.0*Ix*Mq*Zw - 16.0*Ix*Mq*m + 16.0*Ix*m**2*xG**2 + 16.0*Ixy**2*Zw + 16.0*Ixy**2*m - 16.0*Iy*Kp*Zw - 16.0*Iy*Kp*m - 16.0*Kp*Mq*Zw - 16.0*Kp*Mq*m + 16.0*Kp*m**2*xG**2) + 2.0*Ix*S4*m*rho*u**2*u3*xG/(-16.0*Ix*Iy*Zw - 16.0*Ix*Iy*m - 16.0*Ix*Mq*Zw - 16.0*Ix*Mq*m + 16.0*Ix*m**2*xG**2 + 16.0*Ixy**2*Zw + 16.0*Ixy**2*m - 16.0*Iy*Kp*Zw - 16.0*Iy*Kp*m - 16.0*Kp*Mq*Zw - 16.0*Kp*Mq*m + 16.0*Kp*m**2*xG**2) - 2.0*Ix*S4*m*rho*u**2*x5*xG/(-16.0*Ix*Iy*Zw - 16.0*Ix*Iy*m - 16.0*Ix*Mq*Zw - 16.0*Ix*Mq*m + 16.0*Ix*m**2*xG**2 + 16.0*Ixy**2*Zw + 16.0*Ixy**2*m - 16.0*Iy*Kp*Zw - 16.0*Iy*Kp*m - 16.0*Kp*Mq*Zw - 16.0*Kp*Mq*m + 16.0*Kp*m**2*xG**2) + 2.0*Ix*S4*m*rho*u3*x2**2*xG/(-16.0*Ix*Iy*Zw - 16.0*Ix*Iy*m - 16.0*Ix*Mq*Zw - 16.0*Ix*Mq*m + 16.0*Ix*m**2*xG**2 + 16.0*Ixy**2*Zw + 16.0*Ixy**2*m - 16.0*Iy*Kp*Zw - 16.0*Iy*Kp*m - 16.0*Kp*Mq*Zw - 16.0*Kp*Mq*m + 16.0*Kp*m**2*xG**2) - 2.0*Ix*S4*m*rho*x2**2*x5*xG/(-16.0*Ix*Iy*Zw - 16.0*Ix*Iy*m - 16.0*Ix*Mq*Zw - 16.0*Ix*Mq*m + 16.0*Ix*m**2*xG**2 + 16.0*Ixy**2*Zw + 16.0*Ixy**2*m - 16.0*Iy*Kp*Zw - 16.0*Iy*Kp*m - 16.0*Kp*Mq*Zw - 16.0*Kp*Mq*m + 16.0*Kp*m**2*xG**2) - 16.0*Ix*Vol*Zw*db*g*rho*sin(x5)/(-16.0*Ix*Iy*Zw - 16.0*Ix*Iy*m - 16.0*Ix*Mq*Zw - 16.0*Ix*Mq*m + 16.0*Ix*m**2*xG**2 + 16.0*Ixy**2*Zw + 16.0*Ixy**2*m - 16.0*Iy*Kp*Zw - 16.0*Iy*Kp*m - 16.0*Kp*Mq*Zw - 16.0*Kp*Mq*m + 16.0*Kp*m**2*xG**2) - 16.0*Ix*Vol*db*g*m*rho*sin(x5)/(-16.0*Ix*Iy*Zw - 16.0*Ix*Iy*m - 16.0*Ix*Mq*Zw - 16.0*Ix*Mq*m + 16.0*Ix*m**2*xG**2 + 16.0*Ixy**2*Zw + 16.0*Ixy**2*m - 16.0*Iy*Kp*Zw - 16.0*Iy*Kp*m - 16.0*Kp*Mq*Zw - 16.0*Kp*Mq*m + 16.0*Kp*m**2*xG**2) - 16.0*Ix*Vol*g*m*rho*xG*sin(x5)/(-16.0*Ix*Iy*Zw - 16.0*Ix*Iy*m - 16.0*Ix*Mq*Zw - 16.0*Ix*Mq*m + 16.0*Ix*m**2*xG**2 + 16.0*Ixy**2*Zw + 16.0*Ixy**2*m - 16.0*Iy*Kp*Zw - 16.0*Iy*Kp*m - 16.0*Kp*Mq*Zw - 16.0*Kp*Mq*m + 16.0*Kp*m**2*xG**2) - 16.0*Ix*Zw**2*u*x2/(-16.0*Ix*Iy*Zw - 16.0*Ix*Iy*m - 16.0*Ix*Mq*Zw - 16.0*Ix*Mq*m + 16.0*Ix*m**2*xG**2 + 16.0*Ixy**2*Zw + 16.0*Ixy**2*m - 16.0*Iy*Kp*Zw - 16.0*Iy*Kp*m - 16.0*Kp*Mq*Zw - 16.0*Kp*Mq*m + 16.0*Kp*m**2*xG**2) + 16.0*Ix*Zw*dg*g*m*sin(x5)/(-16.0*Ix*Iy*Zw - 16.0*Ix*Iy*m - 16.0*Ix*Mq*Zw - 16.0*Ix*Mq*m + 16.0*Ix*m**2*xG**2 + 16.0*Ixy**2*Zw + 16.0*Ixy**2*m - 16.0*Iy*Kp*Zw - 16.0*Iy*Kp*m - 16.0*Kp*Mq*Zw - 16.0*Kp*Mq*m + 16.0*Kp*m**2*xG**2) + 16.0*Ix*Zw*dp1*x6/(-16.0*Ix*Iy*Zw - 16.0*Ix*Iy*m - 16.0*Ix*Mq*Zw - 16.0*Ix*Mq*m + 16.0*Ix*m**2*xG**2 + 16.0*Ixy**2*Zw + 16.0*Ixy**2*m - 16.0*Iy*Kp*Zw - 16.0*Iy*Kp*m - 16.0*Kp*Mq*Zw - 16.0*Kp*Mq*m + 16.0*Kp*m**2*xG**2) + 16.0*Ix*Zw*dp2*x6**2/(-16.0*Ix*Iy*Zw - 16.0*Ix*Iy*m - 16.0*Ix*Mq*Zw - 16.0*Ix*Mq*m + 16.0*Ix*m**2*xG**2 + 16.0*Ixy**2*Zw + 16.0*Ixy**2*m - 16.0*Iy*Kp*Zw - 16.0*Iy*Kp*m - 16.0*Kp*Mq*Zw - 16.0*Kp*Mq*m + 16.0*Kp*m**2*xG**2) - 16.0*Ix*Zw*m*u*x2/(-16.0*Ix*Iy*Zw - 16.0*Ix*Iy*m - 16.0*Ix*Mq*Zw - 16.0*Ix*Mq*m + 16.0*Ix*m**2*xG**2 + 16.0*Ixy**2*Zw + 16.0*Ixy**2*m - 16.0*Iy*Kp*Zw - 16.0*Iy*Kp*m - 16.0*Kp*Mq*Zw - 16.0*Kp*Mq*m + 16.0*Kp*m**2*xG**2) - 16.0*Ix*Zw*m*u*x6*xG/(-16.0*Ix*Iy*Zw - 16.0*Ix*Iy*m - 16.0*Ix*Mq*Zw - 16.0*Ix*Mq*m + 16.0*Ix*m**2*xG**2 + 16.0*Ixy**2*Zw + 16.0*Ixy**2*m - 16.0*Iy*Kp*Zw - 16.0*Iy*Kp*m - 16.0*Kp*Mq*Zw - 16.0*Kp*Mq*m + 16.0*Kp*m**2*xG**2) + 16.0*Ix*dg*g*m**2*sin(x5)/(-16.0*Ix*Iy*Zw - 16.0*Ix*Iy*m - 16.0*Ix*Mq*Zw - 16.0*Ix*Mq*m + 16.0*Ix*m**2*xG**2 + 16.0*Ixy**2*Zw + 16.0*Ixy**2*m - 16.0*Iy*Kp*Zw - 16.0*Iy*Kp*m - 16.0*Kp*Mq*Zw - 16.0*Kp*Mq*m + 16.0*Kp*m**2*xG**2) + 16.0*Ix*dh1*m*x2*xG/(-16.0*Ix*Iy*Zw - 16.0*Ix*Iy*m - 16.0*Ix*Mq*Zw - 16.0*Ix*Mq*m + 16.0*Ix*m**2*xG**2 + 16.0*Ixy**2*Zw + 16.0*Ixy**2*m - 16.0*Iy*Kp*Zw - 16.0*Iy*Kp*m - 16.0*Kp*Mq*Zw - 16.0*Kp*Mq*m + 16.0*Kp*m**2*xG**2) + 16.0*Ix*dh2*m*x2**2*xG/(-16.0*Ix*Iy*Zw - 16.0*Ix*Iy*m - 16.0*Ix*Mq*Zw - 16.0*Ix*Mq*m + 16.0*Ix*m**2*xG**2 + 16.0*Ixy**2*Zw + 16.0*Ixy**2*m - 16.0*Iy*Kp*Zw - 16.0*Iy*Kp*m - 16.0*Kp*Mq*Zw - 16.0*Kp*Mq*m + 16.0*Kp*m**2*xG**2) + 16.0*Ix*dp1*m*x6/(-16.0*Ix*Iy*Zw - 16.0*Ix*Iy*m - 16.0*Ix*Mq*Zw - 16.0*Ix*Mq*m + 16.0*Ix*m**2*xG**2 + 16.0*Ixy**2*Zw + 16.0*Ixy**2*m - 16.0*Iy*Kp*Zw - 16.0*Iy*Kp*m - 16.0*Kp*Mq*Zw - 16.0*Kp*Mq*m + 16.0*Kp*m**2*xG**2) + 16.0*Ix*dp2*m*x6**2/(-16.0*Ix*Iy*Zw - 16.0*Ix*Iy*m - 16.0*Ix*Mq*Zw - 16.0*Ix*Mq*m + 16.0*Ix*m**2*xG**2 + 16.0*Ixy**2*Zw + 16.0*Ixy**2*m - 16.0*Iy*Kp*Zw - 16.0*Iy*Kp*m - 16.0*Kp*Mq*Zw - 16.0*Kp*Mq*m + 16.0*Kp*m**2*xG**2) + 16.0*Ix*g*m**2*xG*sin(x5)/(-16.0*Ix*Iy*Zw - 16.0*Ix*Iy*m - 16.0*Ix*Mq*Zw - 16.0*Ix*Mq*m + 16.0*Ix*m**2*xG**2 + 16.0*Ixy**2*Zw + 16.0*Ixy**2*m - 16.0*Iy*Kp*Zw - 16.0*Iy*Kp*m - 16.0*Kp*Mq*Zw - 16.0*Kp*Mq*m + 16.0*Kp*m**2*xG**2) + 16.0*Ixy*Ixz*Zw*x4*x6/(-16.0*Ix*Iy*Zw - 16.0*Ix*Iy*m - 16.0*Ix*Mq*Zw - 16.0*Ix*Mq*m + 16.0*Ix*m**2*xG**2 + 16.0*Ixy**2*Zw + 16.0*Ixy**2*m - 16.0*Iy*Kp*Zw - 16.0*Iy*Kp*m - 16.0*Kp*Mq*Zw - 16.0*Kp*Mq*m + 16.0*Kp*m**2*xG**2) + 16.0*Ixy*Ixz*m*x4*x6/(-16.0*Ix*Iy*Zw - 16.0*Ix*Iy*m - 16.0*Ix*Mq*Zw - 16.0*Ix*Mq*m + 16.0*Ix*m**2*xG**2 + 16.0*Ixy**2*Zw + 16.0*Ixy**2*m - 16.0*Iy*Kp*Zw - 16.0*Iy*Kp*m - 16.0*Kp*Mq*Zw - 16.0*Kp*Mq*m + 16.0*Kp*m**2*xG**2) - 16.0*Ixy*Iyx*Zw*x6**2/(-16.0*Ix*Iy*Zw - 16.0*Ix*Iy*m - 16.0*Ix*Mq*Zw - 16.0*Ix*Mq*m + 16.0*Ix*m**2*xG**2 + 16.0*Ixy**2*Zw + 16.0*Ixy**2*m - 16.0*Iy*Kp*Zw - 16.0*Iy*Kp*m - 16.0*Kp*Mq*Zw - 16.0*Kp*Mq*m + 16.0*Kp*m**2*xG**2) - 16.0*Ixy*Iyx*m*x6**2/(-16.0*Ix*Iy*Zw - 16.0*Ix*Iy*m - 16.0*Ix*Mq*Zw - 16.0*Ix*Mq*m + 16.0*Ix*m**2*xG**2 + 16.0*Ixy**2*Zw + 16.0*Ixy**2*m - 16.0*Iy*Kp*Zw - 16.0*Iy*Kp*m - 16.0*Kp*Mq*Zw - 16.0*Kp*Mq*m + 16.0*Kp*m**2*xG**2) + Ixy*S2*Zw*r1*rho*u**2*u1/(-16.0*Ix*Iy*Zw - 16.0*Ix*Iy*m - 16.0*Ix*Mq*Zw - 16.0*Ix*Mq*m + 16.0*Ix*m**2*xG**2 + 16.0*Ixy**2*Zw + 16.0*Ixy**2*m - 16.0*Iy*Kp*Zw - 16.0*Iy*Kp*m - 16.0*Kp*Mq*Zw - 16.0*Kp*Mq*m + 16.0*Kp*m**2*xG**2) - Ixy*S2*Zw*r1*rho*u**2*u2/(-16.0*Ix*Iy*Zw - 16.0*Ix*Iy*m - 16.0*Ix*Mq*Zw - 16.0*Ix*Mq*m + 16.0*Ix*m**2*xG**2 + 16.0*Ixy**2*Zw + 16.0*Ixy**2*m - 16.0*Iy*Kp*Zw - 16.0*Iy*Kp*m - 16.0*Kp*Mq*Zw - 16.0*Kp*Mq*m + 16.0*Kp*m**2*xG**2) + Ixy*S2*Zw*r1*rho*u1*x2**2/(-16.0*Ix*Iy*Zw - 16.0*Ix*Iy*m - 16.0*Ix*Mq*Zw - 16.0*Ix*Mq*m + 16.0*Ix*m**2*xG**2 + 16.0*Ixy**2*Zw + 16.0*Ixy**2*m - 16.0*Iy*Kp*Zw - 16.0*Iy*Kp*m - 16.0*Kp*Mq*Zw - 16.0*Kp*Mq*m + 16.0*Kp*m**2*xG**2) - Ixy*S2*Zw*r1*rho*u2*x2**2/(-16.0*Ix*Iy*Zw - 16.0*Ix*Iy*m - 16.0*Ix*Mq*Zw - 16.0*Ix*Mq*m + 16.0*Ix*m**2*xG**2 + 16.0*Ixy**2*Zw + 16.0*Ixy**2*m - 16.0*Iy*Kp*Zw - 16.0*Iy*Kp*m - 16.0*Kp*Mq*Zw - 16.0*Kp*Mq*m + 16.0*Kp*m**2*xG**2) + Ixy*S2*m*r1*rho*u**2*u1/(-16.0*Ix*Iy*Zw - 16.0*Ix*Iy*m - 16.0*Ix*Mq*Zw - 16.0*Ix*Mq*m + 16.0*Ix*m**2*xG**2 + 16.0*Ixy**2*Zw + 16.0*Ixy**2*m - 16.0*Iy*Kp*Zw - 16.0*Iy*Kp*m - 16.0*Kp*Mq*Zw - 16.0*Kp*Mq*m + 16.0*Kp*m**2*xG**2) - Ixy*S2*m*r1*rho*u**2*u2/(-16.0*Ix*Iy*Zw - 16.0*Ix*Iy*m - 16.0*Ix*Mq*Zw - 16.0*Ix*Mq*m + 16.0*Ix*m**2*xG**2 + 16.0*Ixy**2*Zw + 16.0*Ixy**2*m - 16.0*Iy*Kp*Zw - 16.0*Iy*Kp*m - 16.0*Kp*Mq*Zw - 16.0*Kp*Mq*m + 16.0*Kp*m**2*xG**2) + Ixy*S2*m*r1*rho*u1*x2**2/(-16.0*Ix*Iy*Zw - 16.0*Ix*Iy*m - 16.0*Ix*Mq*Zw - 16.0*Ix*Mq*m + 16.0*Ix*m**2*xG**2 + 16.0*Ixy**2*Zw + 16.0*Ixy**2*m - 16.0*Iy*Kp*Zw - 16.0*Iy*Kp*m - 16.0*Kp*Mq*Zw - 16.0*Kp*Mq*m + 16.0*Kp*m**2*xG**2) - Ixy*S2*m*r1*rho*u2*x2**2/(-16.0*Ix*Iy*Zw - 16.0*Ix*Iy*m - 16.0*Ix*Mq*Zw - 16.0*Ix*Mq*m + 16.0*Ix*m**2*xG**2 + 16.0*Ixy**2*Zw + 16.0*Ixy**2*m - 16.0*Iy*Kp*Zw - 16.0*Iy*Kp*m - 16.0*Kp*Mq*Zw - 16.0*Kp*Mq*m + 16.0*Kp*m**2*xG**2) + 16.0*Ixy*Zw*dr1*x4/(-16.0*Ix*Iy*Zw - 16.0*Ix*Iy*m - 16.0*Ix*Mq*Zw - 16.0*Ix*Mq*m + 16.0*Ix*m**2*xG**2 + 16.0*Ixy**2*Zw + 16.0*Ixy**2*m - 16.0*Iy*Kp*Zw - 16.0*Iy*Kp*m - 16.0*Kp*Mq*Zw - 16.0*Kp*Mq*m + 16.0*Kp*m**2*xG**2) + 16.0*Ixy*Zw*dr2*x4**2/(-16.0*Ix*Iy*Zw - 16.0*Ix*Iy*m - 16.0*Ix*Mq*Zw - 16.0*Ix*Mq*m + 16.0*Ix*m**2*xG**2 + 16.0*Ixy**2*Zw + 16.0*Ixy**2*m - 16.0*Iy*Kp*Zw - 16.0*Iy*Kp*m - 16.0*Kp*Mq*Zw - 16.0*Kp*Mq*m + 16.0*Kp*m**2*xG**2) + 16.0*Ixy*dr1*m*x4/(-16.0*Ix*Iy*Zw - 16.0*Ix*Iy*m - 16.0*Ix*Mq*Zw - 16.0*Ix*Mq*m + 16.0*Ix*m**2*xG**2 + 16.0*Ixy**2*Zw + 16.0*Ixy**2*m - 16.0*Iy*Kp*Zw - 16.0*Iy*Kp*m - 16.0*Kp*Mq*Zw - 16.0*Kp*Mq*m + 16.0*Kp*m**2*xG**2) + 16.0*Ixy*dr2*m*x4**2/(-16.0*Ix*Iy*Zw - 16.0*Ix*Iy*m - 16.0*Ix*Mq*Zw - 16.0*Ix*Mq*m + 16.0*Ix*m**2*xG**2 + 16.0*Ixy**2*Zw + 16.0*Ixy**2*m - 16.0*Iy*Kp*Zw - 16.0*Iy*Kp*m - 16.0*Kp*Mq*Zw - 16.0*Kp*Mq*m + 16.0*Kp*m**2*xG**2) - 16.0*Ixz*Kp*Zw*x4**2/(-16.0*Ix*Iy*Zw - 16.0*Ix*Iy*m - 16.0*Ix*Mq*Zw - 16.0*Ix*Mq*m + 16.0*Ix*m**2*xG**2 + 16.0*Ixy**2*Zw + 16.0*Ixy**2*m - 16.0*Iy*Kp*Zw - 16.0*Iy*Kp*m - 16.0*Kp*Mq*Zw - 16.0*Kp*Mq*m + 16.0*Kp*m**2*xG**2) - 16.0*Ixz*Kp*m*x4**2/(-16.0*Ix*Iy*Zw - 16.0*Ix*Iy*m - 16.0*Ix*Mq*Zw - 16.0*Ix*Mq*m + 16.0*Ix*m**2*xG**2 + 16.0*Ixy**2*Zw + 16.0*Ixy**2*m - 16.0*Iy*Kp*Zw - 16.0*Iy*Kp*m - 16.0*Kp*Mq*Zw - 16.0*Kp*Mq*m + 16.0*Kp*m**2*xG**2) - 16.0*Iyz*Kp*Zw*x4*x6/(-16.0*Ix*Iy*Zw - 16.0*Ix*Iy*m - 16.0*Ix*Mq*Zw - 16.0*Ix*Mq*m + 16.0*Ix*m**2*xG**2 + 16.0*Ixy**2*Zw + 16.0*Ixy**2*m - 16.0*Iy*Kp*Zw - 16.0*Iy*Kp*m - 16.0*Kp*Mq*Zw - 16.0*Kp*Mq*m + 16.0*Kp*m**2*xG**2) - 16.0*Iyz*Kp*m*x4*x6/(-16.0*Ix*Iy*Zw - 16.0*Ix*Iy*m - 16.0*Ix*Mq*Zw - 16.0*Ix*Mq*m + 16.0*Ix*m**2*xG**2 + 16.0*Ixy**2*Zw + 16.0*Ixy**2*m - 16.0*Iy*Kp*Zw - 16.0*Iy*Kp*m - 16.0*Kp*Mq*Zw - 16.0*Kp*Mq*m + 16.0*Kp*m**2*xG**2) - 2.0*Kp*S1*Zw*d1*rho*u**2*x5/(-16.0*Ix*Iy*Zw - 16.0*Ix*Iy*m - 16.0*Ix*Mq*Zw - 16.0*Ix*Mq*m + 16.0*Ix*m**2*xG**2 + 16.0*Ixy**2*Zw + 16.0*Ixy**2*m - 16.0*Iy*Kp*Zw - 16.0*Iy*Kp*m - 16.0*Kp*Mq*Zw - 16.0*Kp*Mq*m + 16.0*Kp*m**2*xG**2) - 2.0*Kp*S1*Zw*d1*rho*x2**2*x5/(-16.0*Ix*Iy*Zw - 16.0*Ix*Iy*m - 16.0*Ix*Mq*Zw - 16.0*Ix*Mq*m + 16.0*Ix*m**2*xG**2 + 16.0*Ixy**2*Zw + 16.0*Ixy**2*m - 16.0*Iy*Kp*Zw - 16.0*Iy*Kp*m - 16.0*Kp*Mq*Zw - 16.0*Kp*Mq*m + 16.0*Kp*m**2*xG**2) - 2.0*Kp*S1*d1*m*rho*u**2*x5/(-16.0*Ix*Iy*Zw - 16.0*Ix*Iy*m - 16.0*Ix*Mq*Zw - 16.0*Ix*Mq*m + 16.0*Ix*m**2*xG**2 + 16.0*Ixy**2*Zw + 16.0*Ixy**2*m - 16.0*Iy*Kp*Zw - 16.0*Iy*Kp*m - 16.0*Kp*Mq*Zw - 16.0*Kp*Mq*m + 16.0*Kp*m**2*xG**2) - 2.0*Kp*S1*d1*m*rho*x2**2*x5/(-16.0*Ix*Iy*Zw - 16.0*Ix*Iy*m - 16.0*Ix*Mq*Zw - 16.0*Ix*Mq*m + 16.0*Ix*m**2*xG**2 + 16.0*Ixy**2*Zw + 16.0*Ixy**2*m - 16.0*Iy*Kp*Zw - 16.0*Iy*Kp*m - 16.0*Kp*Mq*Zw - 16.0*Kp*Mq*m + 16.0*Kp*m**2*xG**2) - 2.0*Kp*S1*m*rho*u**2*x5*xG/(-16.0*Ix*Iy*Zw - 16.0*Ix*Iy*m - 16.0*Ix*Mq*Zw - 16.0*Ix*Mq*m + 16.0*Ix*m**2*xG**2 + 16.0*Ixy**2*Zw + 16.0*Ixy**2*m - 16.0*Iy*Kp*Zw - 16.0*Iy*Kp*m - 16.0*Kp*Mq*Zw - 16.0*Kp*Mq*m + 16.0*Kp*m**2*xG**2) - 2.0*Kp*S1*m*rho*x2**2*x5*xG/(-16.0*Ix*Iy*Zw - 16.0*Ix*Iy*m - 16.0*Ix*Mq*Zw - 16.0*Ix*Mq*m + 16.0*Ix*m**2*xG**2 + 16.0*Ixy**2*Zw + 16.0*Ixy**2*m - 16.0*Iy*Kp*Zw - 16.0*Iy*Kp*m - 16.0*Kp*Mq*Zw - 16.0*Kp*Mq*m + 16.0*Kp*m**2*xG**2) + Kp*S2*Zw*d2*rho*u**2*u1/(-16.0*Ix*Iy*Zw - 16.0*Ix*Iy*m - 16.0*Ix*Mq*Zw - 16.0*Ix*Mq*m + 16.0*Ix*m**2*xG**2 + 16.0*Ixy**2*Zw + 16.0*Ixy**2*m - 16.0*Iy*Kp*Zw - 16.0*Iy*Kp*m - 16.0*Kp*Mq*Zw - 16.0*Kp*Mq*m + 16.0*Kp*m**2*xG**2) + Kp*S2*Zw*d2*rho*u**2*u2/(-16.0*Ix*Iy*Zw - 16.0*Ix*Iy*m - 16.0*Ix*Mq*Zw - 16.0*Ix*Mq*m + 16.0*Ix*m**2*xG**2 + 16.0*Ixy**2*Zw + 16.0*Ixy**2*m - 16.0*Iy*Kp*Zw - 16.0*Iy*Kp*m - 16.0*Kp*Mq*Zw - 16.0*Kp*Mq*m + 16.0*Kp*m**2*xG**2) - 2.0*Kp*S2*Zw*d2*rho*u**2*x5/(-16.0*Ix*Iy*Zw - 16.0*Ix*Iy*m - 16.0*Ix*Mq*Zw - 16.0*Ix*Mq*m + 16.0*Ix*m**2*xG**2 + 16.0*Ixy**2*Zw + 16.0*Ixy**2*m - 16.0*Iy*Kp*Zw - 16.0*Iy*Kp*m - 16.0*Kp*Mq*Zw - 16.0*Kp*Mq*m + 16.0*Kp*m**2*xG**2) + Kp*S2*Zw*d2*rho*u1*x2**2/(-16.0*Ix*Iy*Zw - 16.0*Ix*Iy*m - 16.0*Ix*Mq*Zw - 16.0*Ix*Mq*m + 16.0*Ix*m**2*xG**2 + 16.0*Ixy**2*Zw + 16.0*Ixy**2*m - 16.0*Iy*Kp*Zw - 16.0*Iy*Kp*m - 16.0*Kp*Mq*Zw - 16.0*Kp*Mq*m + 16.0*Kp*m**2*xG**2) + Kp*S2*Zw*d2*rho*u2*x2**2/(-16.0*Ix*Iy*Zw - 16.0*Ix*Iy*m - 16.0*Ix*Mq*Zw - 16.0*Ix*Mq*m + 16.0*Ix*m**2*xG**2 + 16.0*Ixy**2*Zw + 16.0*Ixy**2*m - 16.0*Iy*Kp*Zw - 16.0*Iy*Kp*m - 16.0*Kp*Mq*Zw - 16.0*Kp*Mq*m + 16.0*Kp*m**2*xG**2) - 2.0*Kp*S2*Zw*d2*rho*x2**2*x5/(-16.0*Ix*Iy*Zw - 16.0*Ix*Iy*m - 16.0*Ix*Mq*Zw - 16.0*Ix*Mq*m + 16.0*Ix*m**2*xG**2 + 16.0*Ixy**2*Zw + 16.0*Ixy**2*m - 16.0*Iy*Kp*Zw - 16.0*Iy*Kp*m - 16.0*Kp*Mq*Zw - 16.0*Kp*Mq*m + 16.0*Kp*m**2*xG**2) + Kp*S2*d2*m*rho*u**2*u1/(-16.0*Ix*Iy*Zw - 16.0*Ix*Iy*m - 16.0*Ix*Mq*Zw - 16.0*Ix*Mq*m + 16.0*Ix*m**2*xG**2 + 16.0*Ixy**2*Zw + 16.0*Ixy**2*m - 16.0*Iy*Kp*Zw - 16.0*Iy*Kp*m - 16.0*Kp*Mq*Zw - 16.0*Kp*Mq*m + 16.0*Kp*m**2*xG**2) + Kp*S2*d2*m*rho*u**2*u2/(-16.0*Ix*Iy*Zw - 16.0*Ix*Iy*m - 16.0*Ix*Mq*Zw - 16.0*Ix*Mq*m + 16.0*Ix*m**2*xG**2 + 16.0*Ixy**2*Zw + 16.0*Ixy**2*m - 16.0*Iy*Kp*Zw - 16.0*Iy*Kp*m - 16.0*Kp*Mq*Zw - 16.0*Kp*Mq*m + 16.0*Kp*m**2*xG**2) - 2.0*Kp*S2*d2*m*rho*u**2*x5/(-16.0*Ix*Iy*Zw - 16.0*Ix*Iy*m - 16.0*Ix*Mq*Zw - 16.0*Ix*Mq*m + 16.0*Ix*m**2*xG**2 + 16.0*Ixy**2*Zw + 16.0*Ixy**2*m - 16.0*Iy*Kp*Zw - 16.0*Iy*Kp*m - 16.0*Kp*Mq*Zw - 16.0*Kp*Mq*m + 16.0*Kp*m**2*xG**2) + Kp*S2*d2*m*rho*u1*x2**2/(-16.0*Ix*Iy*Zw - 16.0*Ix*Iy*m - 16.0*Ix*Mq*Zw - 16.0*Ix*Mq*m + 16.0*Ix*m**2*xG**2 + 16.0*Ixy**2*Zw + 16.0*Ixy**2*m - 16.0*Iy*Kp*Zw - 16.0*Iy*Kp*m - 16.0*Kp*Mq*Zw - 16.0*Kp*Mq*m + 16.0*Kp*m**2*xG**2) + Kp*S2*d2*m*rho*u2*x2**2/(-16.0*Ix*Iy*Zw - 16.0*Ix*Iy*m - 16.0*Ix*Mq*Zw - 16.0*Ix*Mq*m + 16.0*Ix*m**2*xG**2 + 16.0*Ixy**2*Zw + 16.0*Ixy**2*m - 16.0*Iy*Kp*Zw - 16.0*Iy*Kp*m - 16.0*Kp*Mq*Zw - 16.0*Kp*Mq*m + 16.0*Kp*m**2*xG**2) - 2.0*Kp*S2*d2*m*rho*x2**2*x5/(-16.0*Ix*Iy*Zw - 16.0*Ix*Iy*m - 16.0*Ix*Mq*Zw - 16.0*Ix*Mq*m + 16.0*Ix*m**2*xG**2 + 16.0*Ixy**2*Zw + 16.0*Ixy**2*m - 16.0*Iy*Kp*Zw - 16.0*Iy*Kp*m - 16.0*Kp*Mq*Zw - 16.0*Kp*Mq*m + 16.0*Kp*m**2*xG**2) + Kp*S2*m*rho*u**2*u1*xG/(-16.0*Ix*Iy*Zw - 16.0*Ix*Iy*m - 16.0*Ix*Mq*Zw - 16.0*Ix*Mq*m + 16.0*Ix*m**2*xG**2 + 16.0*Ixy**2*Zw + 16.0*Ixy**2*m - 16.0*Iy*Kp*Zw - 16.0*Iy*Kp*m - 16.0*Kp*Mq*Zw - 16.0*Kp*Mq*m + 16.0*Kp*m**2*xG**2) + Kp*S2*m*rho*u**2*u2*xG/(-16.0*Ix*Iy*Zw - 16.0*Ix*Iy*m - 16.0*Ix*Mq*Zw - 16.0*Ix*Mq*m + 16.0*Ix*m**2*xG**2 + 16.0*Ixy**2*Zw + 16.0*Ixy**2*m - 16.0*Iy*Kp*Zw - 16.0*Iy*Kp*m - 16.0*Kp*Mq*Zw - 16.0*Kp*Mq*m + 16.0*Kp*m**2*xG**2) - 2.0*Kp*S2*m*rho*u**2*x5*xG/(-16.0*Ix*Iy*Zw - 16.0*Ix*Iy*m - 16.0*Ix*Mq*Zw - 16.0*Ix*Mq*m + 16.0*Ix*m**2*xG**2 + 16.0*Ixy**2*Zw + 16.0*Ixy**2*m - 16.0*Iy*Kp*Zw - 16.0*Iy*Kp*m - 16.0*Kp*Mq*Zw - 16.0*Kp*Mq*m + 16.0*Kp*m**2*xG**2) + Kp*S2*m*rho*u1*x2**2*xG/(-16.0*Ix*Iy*Zw - 16.0*Ix*Iy*m - 16.0*Ix*Mq*Zw - 16.0*Ix*Mq*m + 16.0*Ix*m**2*xG**2 + 16.0*Ixy**2*Zw + 16.0*Ixy**2*m - 16.0*Iy*Kp*Zw - 16.0*Iy*Kp*m - 16.0*Kp*Mq*Zw - 16.0*Kp*Mq*m + 16.0*Kp*m**2*xG**2) + Kp*S2*m*rho*u2*x2**2*xG/(-16.0*Ix*Iy*Zw - 16.0*Ix*Iy*m - 16.0*Ix*Mq*Zw - 16.0*Ix*Mq*m + 16.0*Ix*m**2*xG**2 + 16.0*Ixy**2*Zw + 16.0*Ixy**2*m - 16.0*Iy*Kp*Zw - 16.0*Iy*Kp*m - 16.0*Kp*Mq*Zw - 16.0*Kp*Mq*m + 16.0*Kp*m**2*xG**2) - 2.0*Kp*S2*m*rho*x2**2*x5*xG/(-16.0*Ix*Iy*Zw - 16.0*Ix*Iy*m - 16.0*Ix*Mq*Zw - 16.0*Ix*Mq*m + 16.0*Ix*m**2*xG**2 + 16.0*Ixy**2*Zw + 16.0*Ixy**2*m - 16.0*Iy*Kp*Zw - 16.0*Iy*Kp*m - 16.0*Kp*Mq*Zw - 16.0*Kp*Mq*m + 16.0*Kp*m**2*xG**2) - 2.0*Kp*S3*Zw*d3*rho*u**2*x5/(-16.0*Ix*Iy*Zw - 16.0*Ix*Iy*m - 16.0*Ix*Mq*Zw - 16.0*Ix*Mq*m + 16.0*Ix*m**2*xG**2 + 16.0*Ixy**2*Zw + 16.0*Ixy**2*m - 16.0*Iy*Kp*Zw - 16.0*Iy*Kp*m - 16.0*Kp*Mq*Zw - 16.0*Kp*Mq*m + 16.0*Kp*m**2*xG**2) - 2.0*Kp*S3*Zw*d3*rho*x2**2*x5/(-16.0*Ix*Iy*Zw - 16.0*Ix*Iy*m - 16.0*Ix*Mq*Zw - 16.0*Ix*Mq*m + 16.0*Ix*m**2*xG**2 + 16.0*Ixy**2*Zw + 16.0*Ixy**2*m - 16.0*Iy*Kp*Zw - 16.0*Iy*Kp*m - 16.0*Kp*Mq*Zw - 16.0*Kp*Mq*m + 16.0*Kp*m**2*xG**2) - 2.0*Kp*S3*d3*m*rho*u**2*x5/(-16.0*Ix*Iy*Zw - 16.0*Ix*Iy*m - 16.0*Ix*Mq*Zw - 16.0*Ix*Mq*m + 16.0*Ix*m**2*xG**2 + 16.0*Ixy**2*Zw + 16.0*Ixy**2*m - 16.0*Iy*Kp*Zw - 16.0*Iy*Kp*m - 16.0*Kp*Mq*Zw - 16.0*Kp*Mq*m + 16.0*Kp*m**2*xG**2) - 2.0*Kp*S3*d3*m*rho*x2**2*x5/(-16.0*Ix*Iy*Zw - 16.0*Ix*Iy*m - 16.0*Ix*Mq*Zw - 16.0*Ix*Mq*m + 16.0*Ix*m**2*xG**2 + 16.0*Ixy**2*Zw + 16.0*Ixy**2*m - 16.0*Iy*Kp*Zw - 16.0*Iy*Kp*m - 16.0*Kp*Mq*Zw - 16.0*Kp*Mq*m + 16.0*Kp*m**2*xG**2) - 2.0*Kp*S3*m*rho*u**2*x5*xG/(-16.0*Ix*Iy*Zw - 16.0*Ix*Iy*m - 16.0*Ix*Mq*Zw - 16.0*Ix*Mq*m + 16.0*Ix*m**2*xG**2 + 16.0*Ixy**2*Zw + 16.0*Ixy**2*m - 16.0*Iy*Kp*Zw - 16.0*Iy*Kp*m - 16.0*Kp*Mq*Zw - 16.0*Kp*Mq*m + 16.0*Kp*m**2*xG**2) - 2.0*Kp*S3*m*rho*x2**2*x5*xG/(-16.0*Ix*Iy*Zw - 16.0*Ix*Iy*m - 16.0*Ix*Mq*Zw - 16.0*Ix*Mq*m + 16.0*Ix*m**2*xG**2 + 16.0*Ixy**2*Zw + 16.0*Ixy**2*m - 16.0*Iy*Kp*Zw - 16.0*Iy*Kp*m - 16.0*Kp*Mq*Zw - 16.0*Kp*Mq*m + 16.0*Kp*m**2*xG**2) + 2.0*Kp*S4*Zw*d4*rho*u**2*u3/(-16.0*Ix*Iy*Zw - 16.0*Ix*Iy*m - 16.0*Ix*Mq*Zw - 16.0*Ix*Mq*m + 16.0*Ix*m**2*xG**2 + 16.0*Ixy**2*Zw + 16.0*Ixy**2*m - 16.0*Iy*Kp*Zw - 16.0*Iy*Kp*m - 16.0*Kp*Mq*Zw - 16.0*Kp*Mq*m + 16.0*Kp*m**2*xG**2) - 2.0*Kp*S4*Zw*d4*rho*u**2*x5/(-16.0*Ix*Iy*Zw - 16.0*Ix*Iy*m - 16.0*Ix*Mq*Zw - 16.0*Ix*Mq*m + 16.0*Ix*m**2*xG**2 + 16.0*Ixy**2*Zw + 16.0*Ixy**2*m - 16.0*Iy*Kp*Zw - 16.0*Iy*Kp*m - 16.0*Kp*Mq*Zw - 16.0*Kp*Mq*m + 16.0*Kp*m**2*xG**2) + 2.0*Kp*S4*Zw*d4*rho*u3*x2**2/(-16.0*Ix*Iy*Zw - 16.0*Ix*Iy*m - 16.0*Ix*Mq*Zw - 16.0*Ix*Mq*m + 16.0*Ix*m**2*xG**2 + 16.0*Ixy**2*Zw + 16.0*Ixy**2*m - 16.0*Iy*Kp*Zw - 16.0*Iy*Kp*m - 16.0*Kp*Mq*Zw - 16.0*Kp*Mq*m + 16.0*Kp*m**2*xG**2) - 2.0*Kp*S4*Zw*d4*rho*x2**2*x5/(-16.0*Ix*Iy*Zw - 16.0*Ix*Iy*m - 16.0*Ix*Mq*Zw - 16.0*Ix*Mq*m + 16.0*Ix*m**2*xG**2 + 16.0*Ixy**2*Zw + 16.0*Ixy**2*m - 16.0*Iy*Kp*Zw - 16.0*Iy*Kp*m - 16.0*Kp*Mq*Zw - 16.0*Kp*Mq*m + 16.0*Kp*m**2*xG**2) + 2.0*Kp*S4*d4*m*rho*u**2*u3/(-16.0*Ix*Iy*Zw - 16.0*Ix*Iy*m - 16.0*Ix*Mq*Zw - 16.0*Ix*Mq*m + 16.0*Ix*m**2*xG**2 + 16.0*Ixy**2*Zw + 16.0*Ixy**2*m - 16.0*Iy*Kp*Zw - 16.0*Iy*Kp*m - 16.0*Kp*Mq*Zw - 16.0*Kp*Mq*m + 16.0*Kp*m**2*xG**2) - 2.0*Kp*S4*d4*m*rho*u**2*x5/(-16.0*Ix*Iy*Zw - 16.0*Ix*Iy*m - 16.0*Ix*Mq*Zw - 16.0*Ix*Mq*m + 16.0*Ix*m**2*xG**2 + 16.0*Ixy**2*Zw + 16.0*Ixy**2*m - 16.0*Iy*Kp*Zw - 16.0*Iy*Kp*m - 16.0*Kp*Mq*Zw - 16.0*Kp*Mq*m + 16.0*Kp*m**2*xG**2) + 2.0*Kp*S4*d4*m*rho*u3*x2**2/(-16.0*Ix*Iy*Zw - 16.0*Ix*Iy*m - 16.0*Ix*Mq*Zw - 16.0*Ix*Mq*m + 16.0*Ix*m**2*xG**2 + 16.0*Ixy**2*Zw + 16.0*Ixy**2*m - 16.0*Iy*Kp*Zw - 16.0*Iy*Kp*m - 16.0*Kp*Mq*Zw - 16.0*Kp*Mq*m + 16.0*Kp*m**2*xG**2) - 2.0*Kp*S4*d4*m*rho*x2**2*x5/(-16.0*Ix*Iy*Zw - 16.0*Ix*Iy*m - 16.0*Ix*Mq*Zw - 16.0*Ix*Mq*m + 16.0*Ix*m**2*xG**2 + 16.0*Ixy**2*Zw + 16.0*Ixy**2*m - 16.0*Iy*Kp*Zw - 16.0*Iy*Kp*m - 16.0*Kp*Mq*Zw - 16.0*Kp*Mq*m + 16.0*Kp*m**2*xG**2) + 2.0*Kp*S4*m*rho*u**2*u3*xG/(-16.0*Ix*Iy*Zw - 16.0*Ix*Iy*m - 16.0*Ix*Mq*Zw - 16.0*Ix*Mq*m + 16.0*Ix*m**2*xG**2 + 16.0*Ixy**2*Zw + 16.0*Ixy**2*m - 16.0*Iy*Kp*Zw - 16.0*Iy*Kp*m - 16.0*Kp*Mq*Zw - 16.0*Kp*Mq*m + 16.0*Kp*m**2*xG**2) - 2.0*Kp*S4*m*rho*u**2*x5*xG/(-16.0*Ix*Iy*Zw - 16.0*Ix*Iy*m - 16.0*Ix*Mq*Zw - 16.0*Ix*Mq*m + 16.0*Ix*m**2*xG**2 + 16.0*Ixy**2*Zw + 16.0*Ixy**2*m - 16.0*Iy*Kp*Zw - 16.0*Iy*Kp*m - 16.0*Kp*Mq*Zw - 16.0*Kp*Mq*m + 16.0*Kp*m**2*xG**2) + 2.0*Kp*S4*m*rho*u3*x2**2*xG/(-16.0*Ix*Iy*Zw - 16.0*Ix*Iy*m - 16.0*Ix*Mq*Zw - 16.0*Ix*Mq*m + 16.0*Ix*m**2*xG**2 + 16.0*Ixy**2*Zw + 16.0*Ixy**2*m - 16.0*Iy*Kp*Zw - 16.0*Iy*Kp*m - 16.0*Kp*Mq*Zw - 16.0*Kp*Mq*m + 16.0*Kp*m**2*xG**2) - 2.0*Kp*S4*m*rho*x2**2*x5*xG/(-16.0*Ix*Iy*Zw - 16.0*Ix*Iy*m - 16.0*Ix*Mq*Zw - 16.0*Ix*Mq*m + 16.0*Ix*m**2*xG**2 + 16.0*Ixy**2*Zw + 16.0*Ixy**2*m - 16.0*Iy*Kp*Zw - 16.0*Iy*Kp*m - 16.0*Kp*Mq*Zw - 16.0*Kp*Mq*m + 16.0*Kp*m**2*xG**2) - 16.0*Kp*Vol*Zw*db*g*rho*sin(x5)/(-16.0*Ix*Iy*Zw - 16.0*Ix*Iy*m - 16.0*Ix*Mq*Zw - 16.0*Ix*Mq*m + 16.0*Ix*m**2*xG**2 + 16.0*Ixy**2*Zw + 16.0*Ixy**2*m - 16.0*Iy*Kp*Zw - 16.0*Iy*Kp*m - 16.0*Kp*Mq*Zw - 16.0*Kp*Mq*m + 16.0*Kp*m**2*xG**2) - 16.0*Kp*Vol*db*g*m*rho*sin(x5)/(-16.0*Ix*Iy*Zw - 16.0*Ix*Iy*m - 16.0*Ix*Mq*Zw - 16.0*Ix*Mq*m + 16.0*Ix*m**2*xG**2 + 16.0*Ixy**2*Zw + 16.0*Ixy**2*m - 16.0*Iy*Kp*Zw - 16.0*Iy*Kp*m - 16.0*Kp*Mq*Zw - 16.0*Kp*Mq*m + 16.0*Kp*m**2*xG**2) - 16.0*Kp*Vol*g*m*rho*xG*sin(x5)/(-16.0*Ix*Iy*Zw - 16.0*Ix*Iy*m - 16.0*Ix*Mq*Zw - 16.0*Ix*Mq*m + 16.0*Ix*m**2*xG**2 + 16.0*Ixy**2*Zw + 16.0*Ixy**2*m - 16.0*Iy*Kp*Zw - 16.0*Iy*Kp*m - 16.0*Kp*Mq*Zw - 16.0*Kp*Mq*m + 16.0*Kp*m**2*xG**2) - 16.0*Kp*Zw**2*u*x2/(-16.0*Ix*Iy*Zw - 16.0*Ix*Iy*m - 16.0*Ix*Mq*Zw - 16.0*Ix*Mq*m + 16.0*Ix*m**2*xG**2 + 16.0*Ixy**2*Zw + 16.0*Ixy**2*m - 16.0*Iy*Kp*Zw - 16.0*Iy*Kp*m - 16.0*Kp*Mq*Zw - 16.0*Kp*Mq*m + 16.0*Kp*m**2*xG**2) + 16.0*Kp*Zw*dg*g*m*sin(x5)/(-16.0*Ix*Iy*Zw - 16.0*Ix*Iy*m - 16.0*Ix*Mq*Zw - 16.0*Ix*Mq*m + 16.0*Ix*m**2*xG**2 + 16.0*Ixy**2*Zw + 16.0*Ixy**2*m - 16.0*Iy*Kp*Zw - 16.0*Iy*Kp*m - 16.0*Kp*Mq*Zw - 16.0*Kp*Mq*m + 16.0*Kp*m**2*xG**2) + 16.0*Kp*Zw*dp1*x6/(-16.0*Ix*Iy*Zw - 16.0*Ix*Iy*m - 16.0*Ix*Mq*Zw - 16.0*Ix*Mq*m + 16.0*Ix*m**2*xG**2 + 16.0*Ixy**2*Zw + 16.0*Ixy**2*m - 16.0*Iy*Kp*Zw - 16.0*Iy*Kp*m - 16.0*Kp*Mq*Zw - 16.0*Kp*Mq*m + 16.0*Kp*m**2*xG**2) + 16.0*Kp*Zw*dp2*x6**2/(-16.0*Ix*Iy*Zw - 16.0*Ix*Iy*m - 16.0*Ix*Mq*Zw - 16.0*Ix*Mq*m + 16.0*Ix*m**2*xG**2 + 16.0*Ixy**2*Zw + 16.0*Ixy**2*m - 16.0*Iy*Kp*Zw - 16.0*Iy*Kp*m - 16.0*Kp*Mq*Zw - 16.0*Kp*Mq*m + 16.0*Kp*m**2*xG**2) - 16.0*Kp*Zw*m*u*x2/(-16.0*Ix*Iy*Zw - 16.0*Ix*Iy*m - 16.0*Ix*Mq*Zw - 16.0*Ix*Mq*m + 16.0*Ix*m**2*xG**2 + 16.0*Ixy**2*Zw + 16.0*Ixy**2*m - 16.0*Iy*Kp*Zw - 16.0*Iy*Kp*m - 16.0*Kp*Mq*Zw - 16.0*Kp*Mq*m + 16.0*Kp*m**2*xG**2) - 16.0*Kp*Zw*m*u*x6*xG/(-16.0*Ix*Iy*Zw - 16.0*Ix*Iy*m - 16.0*Ix*Mq*Zw - 16.0*Ix*Mq*m + 16.0*Ix*m**2*xG**2 + 16.0*Ixy**2*Zw + 16.0*Ixy**2*m - 16.0*Iy*Kp*Zw - 16.0*Iy*Kp*m - 16.0*Kp*Mq*Zw - 16.0*Kp*Mq*m + 16.0*Kp*m**2*xG**2) + 16.0*Kp*dg*g*m**2*sin(x5)/(-16.0*Ix*Iy*Zw - 16.0*Ix*Iy*m - 16.0*Ix*Mq*Zw - 16.0*Ix*Mq*m + 16.0*Ix*m**2*xG**2 + 16.0*Ixy**2*Zw + 16.0*Ixy**2*m - 16.0*Iy*Kp*Zw - 16.0*Iy*Kp*m - 16.0*Kp*Mq*Zw - 16.0*Kp*Mq*m + 16.0*Kp*m**2*xG**2) + 16.0*Kp*dh1*m*x2*xG/(-16.0*Ix*Iy*Zw - 16.0*Ix*Iy*m - 16.0*Ix*Mq*Zw - 16.0*Ix*Mq*m + 16.0*Ix*m**2*xG**2 + 16.0*Ixy**2*Zw + 16.0*Ixy**2*m - 16.0*Iy*Kp*Zw - 16.0*Iy*Kp*m - 16.0*Kp*Mq*Zw - 16.0*Kp*Mq*m + 16.0*Kp*m**2*xG**2) + 16.0*Kp*dh2*m*x2**2*xG/(-16.0*Ix*Iy*Zw - 16.0*Ix*Iy*m - 16.0*Ix*Mq*Zw - 16.0*Ix*Mq*m + 16.0*Ix*m**2*xG**2 + 16.0*Ixy**2*Zw + 16.0*Ixy**2*m - 16.0*Iy*Kp*Zw - 16.0*Iy*Kp*m - 16.0*Kp*Mq*Zw - 16.0*Kp*Mq*m + 16.0*Kp*m**2*xG**2) + 16.0*Kp*dp1*m*x6/(-16.0*Ix*Iy*Zw - 16.0*Ix*Iy*m - 16.0*Ix*Mq*Zw - 16.0*Ix*Mq*m + 16.0*Ix*m**2*xG**2 + 16.0*Ixy**2*Zw + 16.0*Ixy**2*m - 16.0*Iy*Kp*Zw - 16.0*Iy*Kp*m - 16.0*Kp*Mq*Zw - 16.0*Kp*Mq*m + 16.0*Kp*m**2*xG**2) + 16.0*Kp*dp2*m*x6**2/(-16.0*Ix*Iy*Zw - 16.0*Ix*Iy*m - 16.0*Ix*Mq*Zw - 16.0*Ix*Mq*m + 16.0*Ix*m**2*xG**2 + 16.0*Ixy**2*Zw + 16.0*Ixy**2*m - 16.0*Iy*Kp*Zw - 16.0*Iy*Kp*m - 16.0*Kp*Mq*Zw - 16.0*Kp*Mq*m + 16.0*Kp*m**2*xG**2) + 16.0*Kp*g*m**2*xG*sin(x5)/(-16.0*Ix*Iy*Zw - 16.0*Ix*Iy*m - 16.0*Ix*Mq*Zw - 16.0*Ix*Mq*m + 16.0*Ix*m**2*xG**2 + 16.0*Ixy**2*Zw + 16.0*Ixy**2*m - 16.0*Iy*Kp*Zw - 16.0*Iy*Kp*m - 16.0*Kp*Mq*Zw - 16.0*Kp*Mq*m + 16.0*Kp*m**2*xG**2)"
   ]
  },
  {
   "cell_type": "markdown",
   "id": "accessory-schema",
   "metadata": {},
   "source": [
    "#### Insert parameter values to symbols"
   ]
  },
  {
   "cell_type": "code",
   "execution_count": 202,
   "id": "multiple-peeing",
   "metadata": {},
   "outputs": [
    {
     "name": "stdout",
     "output_type": "stream",
     "text": [
      "[(m,m_val),(g,g_val),(rho,rho_val),(Vol,Vol_val),(S1,S1_val),(S2,S2_val),(S3,S3_val),(S4,S4_val),(u,u_val),(Zw,Zw_val),(Kp,Kp_val),(Mq,Mq_val),(xG,xG_val),(r1,r1_val),(Iyx,Iyx_val),(Ixy,Ixy_val),(Ixz,Ixz_val),(Iyz,Iyz_val),(dg,dg_val),(db,db_val),(d1,d1_val),(d2,d2_val),(d3,d3_val),(d4,d4_val),(Ix,Ix_val),(Iy,Iy_val),(dh1,dh1_val),(dh2,dh2_val),(dr1,dr1_val),(dr2,dr2_val),(dp1,dp1_val),(dp2,dp2_val)]\n"
     ]
    }
   ],
   "source": [
    "# Inserval values to equations\n",
    "syms = [m,      g, rho,   Vol,    S1,    S2,    S3,   S4, u,  Zw, Kp, Mq, xG,    r1, Iyx, Ixy, Ixz, Iyz,   dg,   db,   d1,   d2,    d3,    d4, Ix ,Iy, dh1, dh2,dr1,dr2,dp1,dp2] \n",
    "values =[29, 9.82, 997, 0.018, 0.052, 0.084, 0.069, 0.05, 5, 151, 16, 20, 0.1, 0.31,   0,   0,   0,   0,  0.2, 0.10, 0.17, 0.05, -0.23, -0.58, 1,   1]\n",
    "\n",
    "#USED FOR GENERTAING STRING TO INPUT FOR SUBSTITUION\n",
    "string = \"[\"\n",
    "for j in range(len(syms)):\n",
    "    string += f\"({syms[j]},{syms[j]}_val),\"\n",
    "string = string[:-1]\n",
    "string += \"]\"\n",
    "print(string)\n",
    "\n",
    "# u_val symbol\n",
    "u_val = symbols(\"u_val\")\n",
    "\n",
    "# antagelse af pivot = center of gravity (dg_val = 0)\n",
    "# antagelse af center of gravity = center of bouyancy (indtil fredes far reder vores røv)\n",
    "\n",
    "m_val = 29.3\n",
    "g_val = 9.82\n",
    "rho_val = 997\n",
    "Vol_val = 0.0128\n",
    "S1_val = 0.052\n",
    "S2_val = 0.084\n",
    "S3_val = 0.069\n",
    "S4_val = 0.05\n",
    "u_val = u_val\n",
    "Zw_val = 151\n",
    "Kp_val = 21\n",
    "Mq_val = 7.8\n",
    "xG_val = 0\n",
    "r1_val = 0.288\n",
    "Iyx_val = -0.059 \n",
    "Ixy_val = -0.059\n",
    "Ixz_val = 0.25\n",
    "Iyz_val = 0.01255\n",
    "dg_val = 0\n",
    "db_val = 0\n",
    "d1_val = 0.14\n",
    "d2_val = 0.055\n",
    "d3_val = -0.1\n",
    "d4_val = -0.5\n",
    "Ix_val = 8\n",
    "Iy_val = 19\n",
    "\n",
    "#Damping coefficients for linear term\n",
    "dh1_val = 4 #0.9    #OLD: 0.9 \n",
    "dr1_val = 3 #0.8   #OLD: 0.35 \n",
    "dp1_val = 4 #0.9   #OLD: 0.36\n",
    "\n",
    "#Damping coefficients for quadratic term\n",
    "dh2_val = 1\n",
    "dr2_val = 1\n",
    "dp2_val = 1\n",
    "\n",
    "#Artificial damping\n"
   ]
  },
  {
   "cell_type": "markdown",
   "id": "wanted-minimum",
   "metadata": {},
   "source": [
    "#### With damping"
   ]
  },
  {
   "cell_type": "code",
   "execution_count": 203,
   "id": "differential-stick",
   "metadata": {},
   "outputs": [],
   "source": [
    "x2d_equ = x2d.subs([(m,m_val),(g,g_val),(rho,rho_val),(Vol,Vol_val),(S1,S1_val),(S2,S2_val),(S3,S3_val),(S4,S4_val),(u,u_val),(Zw,Zw_val),(Kp,Kp_val),(Mq,Mq_val),(xG,xG_val),(r1,r1_val),(Iyx,Iyx_val),(Ixy,Ixy_val),(Ixz,Ixz_val),(Iyz,Iyz_val),(dg,dg_val),(db,db_val),(d1,d1_val),(d2,d2_val),(d3,d3_val),(d4,d4_val),(Ix,Ix_val),(Iy,Iy_val),(dh1,dh1_val),(dh2,dh2_val),(dr1,dr1_val),(dr2,dr2_val),(dp1,dp1_val),(dp2,dp2_val)])\n",
    "x4d_equ = x4d.subs([(m,m_val),(g,g_val),(rho,rho_val),(Vol,Vol_val),(S1,S1_val),(S2,S2_val),(S3,S3_val),(S4,S4_val),(u,u_val),(Zw,Zw_val),(Kp,Kp_val),(Mq,Mq_val),(xG,xG_val),(r1,r1_val),(Iyx,Iyx_val),(Ixy,Ixy_val),(Ixz,Ixz_val),(Iyz,Iyz_val),(dg,dg_val),(db,db_val),(d1,d1_val),(d2,d2_val),(d3,d3_val),(d4,d4_val),(Ix,Ix_val),(Iy,Iy_val),(dh1,dh1_val),(dh2,dh2_val),(dr1,dr1_val),(dr2,dr2_val),(dp1,dp1_val),(dp2,dp2_val)])\n",
    "x6d_equ = x6d.subs([(m,m_val),(g,g_val),(rho,rho_val),(Vol,Vol_val),(S1,S1_val),(S2,S2_val),(S3,S3_val),(S4,S4_val),(u,u_val),(Zw,Zw_val),(Kp,Kp_val),(Mq,Mq_val),(xG,xG_val),(r1,r1_val),(Iyx,Iyx_val),(Ixy,Ixy_val),(Ixz,Ixz_val),(Iyz,Iyz_val),(dg,dg_val),(db,db_val),(d1,d1_val),(d2,d2_val),(d3,d3_val),(d4,d4_val),(Ix,Ix_val),(Iy,Iy_val),(dh1,dh1_val),(dh2,dh2_val),(dr1,dr1_val),(dr2,dr2_val),(dp1,dp1_val),(dp2,dp2_val)])\n"
   ]
  },
  {
   "cell_type": "markdown",
   "id": "twelve-girlfriend",
   "metadata": {},
   "source": [
    "#### Lineratization"
   ]
  },
  {
   "cell_type": "code",
   "execution_count": 206,
   "id": "twelve-access",
   "metadata": {},
   "outputs": [],
   "source": [
    "x_list = [x1,x2,x3,x4,x5,x6,u1,u2,u3]\n",
    "#Heave acceleration equation\n",
    "dif1_x1 = sy.diff(x2d_equ, x1) \n",
    "dif1_x2 = sy.diff(x2d_equ, x2) \n",
    "dif1_x3 = sy.diff(x2d_equ, x3) \n",
    "dif1_x4 = sy.diff(x2d_equ, x4) \n",
    "dif1_x5 = sy.diff(x2d_equ, x5) \n",
    "dif1_x6 = sy.diff(x2d_equ, x6) \n",
    "dif1_u1 = sy.diff(x2d_equ, u1) \n",
    "dif1_u2 = sy.diff(x2d_equ, u2) \n",
    "dif1_u3 = sy.diff(x2d_equ, u3) \n",
    "\n",
    "#Roll acceleration equation\n",
    "dif2_x1 = sy.diff(x4d_equ, x1) \n",
    "dif2_x2 = sy.diff(x4d_equ, x2) \n",
    "dif2_x3 = sy.diff(x4d_equ, x3) \n",
    "dif2_x4 = sy.diff(x4d_equ, x4) \n",
    "dif2_x5 = sy.diff(x4d_equ, x5) \n",
    "dif2_x6 = sy.diff(x4d_equ, x6) \n",
    "dif2_u1 = sy.diff(x4d_equ, u1) \n",
    "dif2_u2 = sy.diff(x4d_equ, u2) \n",
    "dif2_u3 = sy.diff(x4d_equ, u3) \n",
    "\n",
    "#Pitch acceleration equation\n",
    "dif3_x1 = sy.diff(x6d_equ, x1) \n",
    "dif3_x2 = sy.diff(x6d_equ, x2) \n",
    "dif3_x3 = sy.diff(x6d_equ, x3) \n",
    "dif3_x4 = sy.diff(x6d_equ, x4) \n",
    "dif3_x5 = sy.diff(x6d_equ, x5) \n",
    "dif3_x6 = sy.diff(x6d_equ, x6) \n",
    "dif3_u1 = sy.diff(x6d_equ, u1) \n",
    "dif3_u2 = sy.diff(x6d_equ, u2) \n",
    "dif3_u3 = sy.diff(x6d_equ, u3)\n",
    "\n",
    "list_diff = [dif1_x1, dif1_x2, dif1_x3, dif1_x4, dif1_x5, dif1_x6, dif1_u1, dif1_u2, dif1_u3, dif2_x1, dif2_x2, dif2_x3, dif2_x4, dif2_x5, dif2_x6, dif2_u1, dif2_u2, dif2_u3, dif3_x1, dif3_x2, dif3_x3, dif3_x4, dif3_x5, dif3_x6, dif3_u1, dif3_u2, dif3_u3]\n",
    "\n",
    "list_diff_sub = []\n",
    "for k in range(27):\n",
    "    list_diff_sub.append(list_diff[k].subs([(x1, 0),(x2, 0),(x3, 0),(x4, 0),(x5, 0),(x6, 0),(u1, 0),(u2, 0),(u3, 0)]))\n",
    "\n",
    "x2d_val = list_diff_sub[0:9]\n",
    "x4d_val = list_diff_sub[9:18]\n",
    "x6d_val = list_diff_sub[18:27]\n",
    "x1, x2, x3, x4, x5, x6 = symbols(\"x1 x2 x3 x4 x5 x6\")"
   ]
  },
  {
   "cell_type": "markdown",
   "id": "classified-following",
   "metadata": {},
   "source": [
    "#### Develop state space representation from linerized data and with symbols"
   ]
  },
  {
   "cell_type": "code",
   "execution_count": 207,
   "id": "breathing-range",
   "metadata": {},
   "outputs": [
    {
     "name": "stdout",
     "output_type": "stream",
     "text": [
      "A\n",
      "Matrix([[0, 1.00, 0, 0, 0, 0], [0, -0.0222, 0, 0, 0.176*u_val**2 - 0.901, -0.163*u_val], [0, 0, 0, 1.00, 0, 0], [0, -0.0115*u_val, 0, -0.103, 0.000189*u_val**2, 0.000304], [0, 0, 0, 0, 0, 1.00], [0, 5.63*u_val, 0, 0.000228, -0.093*u_val**2, -0.149]])\n",
      "\n",
      "B\n",
      "Matrix([[0, 0, 0], [-0.029*u_val**2, -0.029*u_val**2, -0.0346*u_val**2], [0, 0, 0], [-0.052*u_val**2, 0.052*u_val**2, -0.000237*u_val**2], [0, 0, 0], [-0.0106*u_val**2, -0.0109*u_val**2, 0.116*u_val**2]])\n",
      "\n",
      "C\n",
      "[[1 0 0 0 0 0]\n",
      " [0 0 1 0 0 0]\n",
      " [0 0 0 0 1 0]]\n",
      "\n",
      "D\n",
      "[[0 0 0]\n",
      " [0 0 0]\n",
      " [0 0 0]]\n"
     ]
    }
   ],
   "source": [
    "A = zeros(6,6)\n",
    "o = 0\n",
    "for j in range(3):\n",
    "    for k in range(6):\n",
    "        x=(k+o)\n",
    "        A[2*j+1,k] = list_diff_sub[x]\n",
    "    o += 9\n",
    "A[0,1] = 1\n",
    "A[2,3] = 1\n",
    "A[4,5] = 1\n",
    "\n",
    "o = 0\n",
    "B = zeros(6,3)\n",
    "for j in range(3):\n",
    "    for k in range(3):\n",
    "        x = k+o+6\n",
    "        B[2*j+1, k] = list_diff_sub[x]\n",
    "    o += 9\n",
    "\n",
    "C = np.array([[1, 0, 0, 0, 0, 0], \n",
    "              [0, 0, 1, 0, 0, 0],\n",
    "              [0, 0, 0, 0, 1, 0]])\n",
    "\n",
    "D = np.array([[0, 0, 0],\n",
    "              [0, 0, 0],\n",
    "              [0, 0, 0]])\n",
    "print(\"A\")\n",
    "print(N(A,3))\n",
    "print()\n",
    "print(\"B\")\n",
    "print(N(B,3))\n",
    "print()\n",
    "print(\"C\")\n",
    "print(C)\n",
    "print()\n",
    "print(\"D\")\n",
    "print(D)"
   ]
  },
  {
   "cell_type": "markdown",
   "id": "seventh-investing",
   "metadata": {},
   "source": [
    "#### Develop state space represention from linerized data"
   ]
  },
  {
   "cell_type": "code",
   "execution_count": 149,
   "id": "developed-cheat",
   "metadata": {},
   "outputs": [
    {
     "ename": "TypeError",
     "evalue": "can't convert expression to float",
     "output_type": "error",
     "traceback": [
      "\u001b[1;31m---------------------------------------------------------------------------\u001b[0m",
      "\u001b[1;31mTypeError\u001b[0m                                 Traceback (most recent call last)",
      "\u001b[1;32m<ipython-input-149-1f4e0104f203>\u001b[0m in \u001b[0;36m<module>\u001b[1;34m\u001b[0m\n\u001b[0;32m      4\u001b[0m     \u001b[1;32mfor\u001b[0m \u001b[0mk\u001b[0m \u001b[1;32min\u001b[0m \u001b[0mrange\u001b[0m\u001b[1;33m(\u001b[0m\u001b[1;36m6\u001b[0m\u001b[1;33m)\u001b[0m\u001b[1;33m:\u001b[0m\u001b[1;33m\u001b[0m\u001b[1;33m\u001b[0m\u001b[0m\n\u001b[0;32m      5\u001b[0m         \u001b[0mx\u001b[0m\u001b[1;33m=\u001b[0m\u001b[1;33m(\u001b[0m\u001b[0mk\u001b[0m\u001b[1;33m+\u001b[0m\u001b[0mo\u001b[0m\u001b[1;33m)\u001b[0m\u001b[1;33m\u001b[0m\u001b[1;33m\u001b[0m\u001b[0m\n\u001b[1;32m----> 6\u001b[1;33m         \u001b[0mA\u001b[0m\u001b[1;33m[\u001b[0m\u001b[1;36m2\u001b[0m\u001b[1;33m*\u001b[0m\u001b[0mj\u001b[0m\u001b[1;33m+\u001b[0m\u001b[1;36m1\u001b[0m\u001b[1;33m,\u001b[0m\u001b[0mk\u001b[0m\u001b[1;33m]\u001b[0m \u001b[1;33m=\u001b[0m \u001b[0mlist_diff_sub\u001b[0m\u001b[1;33m[\u001b[0m\u001b[0mx\u001b[0m\u001b[1;33m]\u001b[0m\u001b[1;33m\u001b[0m\u001b[1;33m\u001b[0m\u001b[0m\n\u001b[0m\u001b[0;32m      7\u001b[0m     \u001b[0mo\u001b[0m \u001b[1;33m+=\u001b[0m \u001b[1;36m9\u001b[0m\u001b[1;33m\u001b[0m\u001b[1;33m\u001b[0m\u001b[0m\n\u001b[0;32m      8\u001b[0m \u001b[0mA\u001b[0m\u001b[1;33m[\u001b[0m\u001b[1;36m0\u001b[0m\u001b[1;33m,\u001b[0m\u001b[1;36m1\u001b[0m\u001b[1;33m]\u001b[0m \u001b[1;33m=\u001b[0m \u001b[1;36m1\u001b[0m\u001b[1;33m\u001b[0m\u001b[1;33m\u001b[0m\u001b[0m\n",
      "\u001b[1;32m~\\anaconda3\\lib\\site-packages\\sympy\\core\\expr.py\u001b[0m in \u001b[0;36m__float__\u001b[1;34m(self)\u001b[0m\n\u001b[0;32m    348\u001b[0m         \u001b[1;32mif\u001b[0m \u001b[0mresult\u001b[0m\u001b[1;33m.\u001b[0m\u001b[0mis_number\u001b[0m \u001b[1;32mand\u001b[0m \u001b[0mresult\u001b[0m\u001b[1;33m.\u001b[0m\u001b[0mas_real_imag\u001b[0m\u001b[1;33m(\u001b[0m\u001b[1;33m)\u001b[0m\u001b[1;33m[\u001b[0m\u001b[1;36m1\u001b[0m\u001b[1;33m]\u001b[0m\u001b[1;33m:\u001b[0m\u001b[1;33m\u001b[0m\u001b[1;33m\u001b[0m\u001b[0m\n\u001b[0;32m    349\u001b[0m             \u001b[1;32mraise\u001b[0m \u001b[0mTypeError\u001b[0m\u001b[1;33m(\u001b[0m\u001b[1;34m\"can't convert complex to float\"\u001b[0m\u001b[1;33m)\u001b[0m\u001b[1;33m\u001b[0m\u001b[1;33m\u001b[0m\u001b[0m\n\u001b[1;32m--> 350\u001b[1;33m         \u001b[1;32mraise\u001b[0m \u001b[0mTypeError\u001b[0m\u001b[1;33m(\u001b[0m\u001b[1;34m\"can't convert expression to float\"\u001b[0m\u001b[1;33m)\u001b[0m\u001b[1;33m\u001b[0m\u001b[1;33m\u001b[0m\u001b[0m\n\u001b[0m\u001b[0;32m    351\u001b[0m \u001b[1;33m\u001b[0m\u001b[0m\n\u001b[0;32m    352\u001b[0m     \u001b[1;32mdef\u001b[0m \u001b[0m__complex__\u001b[0m\u001b[1;33m(\u001b[0m\u001b[0mself\u001b[0m\u001b[1;33m)\u001b[0m\u001b[1;33m:\u001b[0m\u001b[1;33m\u001b[0m\u001b[1;33m\u001b[0m\u001b[0m\n",
      "\u001b[1;31mTypeError\u001b[0m: can't convert expression to float"
     ]
    }
   ],
   "source": [
    "A = np.zeros((6,6))\n",
    "o = 0\n",
    "for j in range(3):\n",
    "    for k in range(6):\n",
    "        x=(k+o)\n",
    "        A[2*j+1,k] = list_diff_sub[x]\n",
    "    o += 9\n",
    "A[0,1] = 1\n",
    "A[2,3] = 1\n",
    "A[4,5] = 1\n",
    "\n",
    "o = 0\n",
    "B = np.zeros((6,3))\n",
    "for j in range(3):\n",
    "    for k in range(3):\n",
    "        x = k+o+6\n",
    "        B[2*j+1, k] = list_diff_sub[x]\n",
    "    o += 9\n",
    "\n",
    "C = np.array([[1, 0, 0, 0, 0, 0], \n",
    "              [0, 0, 1, 0, 0, 0],\n",
    "              [0, 0, 0, 0, 1, 0]])\n",
    "\n",
    "D = np.array([[0, 0, 0],\n",
    "              [0, 0, 0],\n",
    "              [0, 0, 0]])\n",
    "print(\"A\")\n",
    "print(A)\n",
    "print()\n",
    "print(\"B\")\n",
    "print(B)\n",
    "print()\n",
    "print(\"C\")\n",
    "print(C)\n",
    "print()\n",
    "print(\"D\")\n",
    "print(D)"
   ]
  },
  {
   "cell_type": "code",
   "execution_count": null,
   "id": "regulation-ecology",
   "metadata": {},
   "outputs": [],
   "source": [
    "A"
   ]
  },
  {
   "cell_type": "code",
   "execution_count": 154,
   "id": "funky-wiring",
   "metadata": {},
   "outputs": [
    {
     "data": {
      "text/plain": [
       "array([[1, 0, 0, 0, 0, 0],\n",
       "       [0, 0, 1, 0, 0, 0],\n",
       "       [0, 0, 0, 0, 1, 0]])"
      ]
     },
     "execution_count": 154,
     "metadata": {},
     "output_type": "execute_result"
    }
   ],
   "source": [
    "C"
   ]
  },
  {
   "cell_type": "code",
   "execution_count": null,
   "id": "behind-ecuador",
   "metadata": {},
   "outputs": [],
   "source": []
  },
  {
   "cell_type": "code",
   "execution_count": 155,
   "id": "amber-arrangement",
   "metadata": {},
   "outputs": [
    {
     "data": {
      "text/plain": [
       "array([[0, 0, 0],\n",
       "       [0, 0, 0],\n",
       "       [0, 0, 0]])"
      ]
     },
     "execution_count": 155,
     "metadata": {},
     "output_type": "execute_result"
    }
   ],
   "source": [
    "D"
   ]
  },
  {
   "cell_type": "markdown",
   "id": "following-picnic",
   "metadata": {},
   "source": [
    "# State space controller"
   ]
  },
  {
   "cell_type": "code",
   "execution_count": 89,
   "id": "chicken-athens",
   "metadata": {},
   "outputs": [
    {
     "data": {
      "text/plain": [
       "array([[-0.000, -8.348, 0.000, 0.512, -1.747, 2.522],\n",
       "       [-0.000, -6.976, 0.000, 0.919, -1.747, 1.478],\n",
       "       [0.000, 8.523, 0.000, 0.142, -1.123, 0.604]])"
      ]
     },
     "execution_count": 89,
     "metadata": {},
     "output_type": "execute_result"
    }
   ],
   "source": [
    "import control as ct\n",
    "desired_poles = [0, 0, 0,-1, (-2+1j),(-2-1j)]\n",
    "K=ct.place(A,B,desired_poles)\n",
    "K"
   ]
  },
  {
   "cell_type": "code",
   "execution_count": 90,
   "id": "minimal-peripheral",
   "metadata": {},
   "outputs": [
    {
     "data": {
      "text/plain": [
       "array([[-0.000, -8.356, 0.000, 0.532, -1.747, 2.505],\n",
       "       [-0.000, -7.147, 0.000, 1.330, -1.747, 1.113],\n",
       "       [0.000, 8.571, 0.000, 0.027, -1.123, 0.706]])"
      ]
     },
     "execution_count": 90,
     "metadata": {},
     "output_type": "execute_result"
    }
   ],
   "source": [
    "desired_poles1 = [0, -2, 0,0, (-2+1j),(-2-1j)]\n",
    "K=ct.place(A,B,desired_poles1)\n",
    "K"
   ]
  },
  {
   "cell_type": "code",
   "execution_count": 88,
   "id": "three-pharmacology",
   "metadata": {},
   "outputs": [
    {
     "name": "stdout",
     "output_type": "stream",
     "text": [
      "[[0.000 1.000 0.000 0.000 0.000 0.000]\n",
      " [-0.000 -3.851 0.000 1.375 -0.000 2.423]\n",
      " [0.000 0.000 0.000 1.000 0.000 0.000]\n",
      " [-0.000 -1.569 -0.000 -1.051 0.000 1.810]\n",
      " [0.000 0.000 0.000 0.000 0.000 1.000]\n",
      " [-0.000 -0.900 0.000 0.424 0.000 -1.098]]\n"
     ]
    }
   ],
   "source": [
    "abk = A - B@K\n",
    "np.set_printoptions(formatter={'float': lambda x: \"{0:0.3f}\".format(x)})\n",
    "print(abk)"
   ]
  },
  {
   "cell_type": "markdown",
   "id": "bibliographic-oakland",
   "metadata": {},
   "source": [
    "# Eigenvalues (poles)"
   ]
  },
  {
   "cell_type": "code",
   "execution_count": 19,
   "id": "offshore-destruction",
   "metadata": {},
   "outputs": [
    {
     "name": "stdout",
     "output_type": "stream",
     "text": [
      "0j\n",
      "0j\n",
      "(-1.3844758478279262+4.985692606990417j)\n",
      "(-1.3844758478279262-4.985692606990417j)\n",
      "(2.7547208378596983+0j)\n",
      "(-0.014583333333334817+0j)\n",
      "\n",
      " Poles for compensated system\n",
      "(-1.9999999999999982+0.9999999999999952j)\n",
      "(-1.9999999999999982-0.9999999999999952j)\n",
      "(-1.9999999999999978+0j)\n",
      "(-2.722410233383544e-16+0j)\n",
      "(-8.843132583625639e-16+0j)\n",
      "(5.77007543604053e-16+0j)\n"
     ]
    },
    {
     "data": {
      "image/png": "[encoded data removed]",
      "text/plain": [
       "<Figure size 432x288 with 1 Axes>"
      ]
     },
     "metadata": {
      "needs_background": "light"
     },
     "output_type": "display_data"
    }
   ],
   "source": [
    "[eigenval, v] = np.linalg.eig(A)\n",
    "for eig in eigenval:\n",
    "    print(eig)\n",
    "plt.scatter(np.real(eigenval), np.imag(eigenval), marker = \"x\",color =\"red\")\n",
    "plt.grid()\n",
    "\n",
    "print(\"\\n Poles for compensated system\")\n",
    "[eigenval, v] = np.linalg.eig(A-B@K)\n",
    "for eig in eigenval:\n",
    "    print(eig)\n",
    "plt.scatter(np.real(eigenval), np.imag(eigenval), marker = \"x\",color =\"green\")\n",
    "plt.grid()"
   ]
  },
  {
   "cell_type": "markdown",
   "id": "neural-healthcare",
   "metadata": {},
   "source": [
    "# Controllability"
   ]
  },
  {
   "cell_type": "code",
   "execution_count": 20,
   "id": "exposed-cement",
   "metadata": {},
   "outputs": [
    {
     "data": {
      "text/plain": [
       "6"
      ]
     },
     "execution_count": 20,
     "metadata": {},
     "output_type": "execute_result"
    }
   ],
   "source": [
    "R = np.hstack([B, A@B, A**2 @ B,A**3 @ B,A**4 @ B, A**5 @ B])\n",
    "np.linalg.matrix_rank(R)\n",
    "\n",
    "#OR: \n",
    "#import control as ct\n",
    "#R = ct.ctrb(A, B)"
   ]
  },
  {
   "cell_type": "markdown",
   "id": "modular-emperor",
   "metadata": {},
   "source": [
    "## LQR"
   ]
  },
  {
   "cell_type": "code",
   "execution_count": 98,
   "id": "fourth-preference",
   "metadata": {},
   "outputs": [
    {
     "name": "stdout",
     "output_type": "stream",
     "text": [
      "StateSpaceContinuous(\n",
      "array([[0.000, 1.000, 0.000, 0.000, 0.000, 0.000],\n",
      "       [0.000, -0.005, 0.000, 0.000, 3.506, -0.813],\n",
      "       [0.000, 0.000, 0.000, 1.000, 0.000, 0.000],\n",
      "       [0.000, -0.057, 0.000, -0.012, 0.005, 0.000],\n",
      "       [0.000, 0.000, 0.000, 0.000, 0.000, 1.000],\n",
      "       [0.000, 28.172, 0.000, 0.000, -2.325, -0.013]]),\n",
      "array([[0.000, 0.000, 0.000],\n",
      "       [-0.726, -0.726, -0.864],\n",
      "       [0.000, 0.000, 0.000],\n",
      "       [-1.299, 1.300, -0.006],\n",
      "       [0.000, 0.000, 0.000],\n",
      "       [-0.266, -0.271, 2.906]]),\n",
      "array([[1, 0, 0, 0, 0, 0],\n",
      "       [0, 0, 1, 0, 0, 0],\n",
      "       [0, 0, 0, 0, 1, 0]]),\n",
      "array([[0, 0, 0],\n",
      "       [0, 0, 0],\n",
      "       [0, 0, 0]]),\n",
      "dt: None\n",
      ")\n"
     ]
    },
    {
     "data": {
      "text/plain": [
       "scipy.signal.ltisys.StateSpaceContinuous"
      ]
     },
     "execution_count": 98,
     "metadata": {},
     "output_type": "execute_result"
    }
   ],
   "source": [
    "import scipy as sp\n",
    "import control as ct\n",
    "sys = sp.signal.lti(A,B,C,D)\n",
    "print(sys)\n",
    "type(sys)"
   ]
  },
  {
   "cell_type": "code",
   "execution_count": 104,
   "id": "crazy-avatar",
   "metadata": {},
   "outputs": [
    {
     "data": {
      "text/plain": [
       "array([[-18.660, -24.873, -3.538, -1.721, -4.513, -3.790],\n",
       "       [-18.675, -24.890, 3.533, 1.717, -4.520, -3.800],\n",
       "       [-25.061, -16.903, 0.002, 0.002, 3.003, 6.700]])"
      ]
     },
     "execution_count": 104,
     "metadata": {},
     "output_type": "execute_result"
    }
   ],
   "source": [
    "Q = np.array([[265.000, 0.000, 0.000, 0.000, 0.000, 0.000],\n",
    "              [0.000, 250.000, 0.000, 0.000, 0.000, 0.000],\n",
    "              [0.000, 0.000, 5.000, 0.000, 0.000, 0.000],\n",
    "              [0.000, 0.000, 0.000, 0.100, 0.000, 0.000],\n",
    "              [0.000, 0.000, 0.000, 0.000, 5.000, 0.000],\n",
    "              [0.000, 0.000, 0.000, 0.000, 0.000, 15.00]])\n",
    "\n",
    "R = np.array([[0.200, 0.000, 0.000],\n",
    "              [0.000, 0.200, 0.000],\n",
    "              [0.000, 0.000, 0.200]])\n",
    "\n",
    "K, S, E = ct.lqr(A, B, Q, R)\n",
    "K"
   ]
  },
  {
   "cell_type": "code",
   "execution_count": 40,
   "id": "sixth-favorite",
   "metadata": {},
   "outputs": [
    {
     "data": {
      "text/plain": [
       "array([[0.000, 1.000, 0.000, 0.000, 0.000, 0.000],\n",
       "       [-30.048, -68.972, -0.003, -0.001, 0.124, 0.197],\n",
       "       [0.000, 0.000, 0.000, 1.000, 0.000, 0.000],\n",
       "       [-0.056, -0.127, -16.902, -6.286, 0.055, 0.089],\n",
       "       [0.000, 0.000, 0.000, 0.000, 0.000, 1.000],\n",
       "       [28.778, 65.809, 0.014, 0.004, -14.788, -24.431]])"
      ]
     },
     "execution_count": 40,
     "metadata": {},
     "output_type": "execute_result"
    }
   ],
   "source": [
    "A-B@K"
   ]
  },
  {
   "cell_type": "code",
   "execution_count": 37,
   "id": "understood-southwest",
   "metadata": {},
   "outputs": [
    {
     "name": "stdout",
     "output_type": "stream",
     "text": [
      "(-68.82180683955494+0j)\n",
      "(-23.521192822853788+0j)\n",
      "(-0.43845010198063505+0j)\n",
      "(-0.621017840195682+0j)\n",
      "(-3.1431832297089253+2.650025468541197j)\n",
      "(-3.1431832297089253-2.650025468541197j)\n"
     ]
    },
    {
     "data": {
      "image/png": "[encoded data removed]",
      "text/plain": [
       "<Figure size 432x288 with 1 Axes>"
      ]
     },
     "metadata": {
      "needs_background": "light"
     },
     "output_type": "display_data"
    }
   ],
   "source": [
    "[eigenval, v] = np.linalg.eig(A-B@K)\n",
    "for eig in eigenval:\n",
    "    print(eig)\n",
    "plt.scatter(np.real(eigenval), np.imag(eigenval), marker = \"x\",color =\"red\")\n",
    "plt.grid()"
   ]
  }
 ],
 "metadata": {
  "kernelspec": {
   "display_name": "Python 3",
   "language": "python",
   "name": "python3"
  },
  "language_info": {
   "codemirror_mode": {
    "name": "ipython",
    "version": 3
   },
   "file_extension": ".py",
   "mimetype": "text/x-python",
   "name": "python",
   "nbconvert_exporter": "python",
   "pygments_lexer": "ipython3",
   "version": "3.8.5"
  }
 },
 "nbformat": 4,
 "nbformat_minor": 5
}
