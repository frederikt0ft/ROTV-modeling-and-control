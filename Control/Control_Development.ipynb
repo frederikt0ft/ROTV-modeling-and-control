{
 "cells": [
  {
   "cell_type": "code",
   "execution_count": 15,
   "id": "cathedral-credit",
   "metadata": {},
   "outputs": [
    {
     "data": {
      "text/html": [
       "<div>\n",
       "<style scoped>\n",
       "    .dataframe tbody tr th:only-of-type {\n",
       "        vertical-align: middle;\n",
       "    }\n",
       "\n",
       "    .dataframe tbody tr th {\n",
       "        vertical-align: top;\n",
       "    }\n",
       "\n",
       "    .dataframe thead th {\n",
       "        text-align: right;\n",
       "    }\n",
       "</style>\n",
       "<table border=\"1\" class=\"dataframe\">\n",
       "  <thead>\n",
       "    <tr style=\"text-align: right;\">\n",
       "      <th></th>\n",
       "      <th>acc_x</th>\n",
       "      <th>acc_y</th>\n",
       "      <th>acc_z</th>\n",
       "      <th>vel_x</th>\n",
       "      <th>vel_y</th>\n",
       "      <th>vel_z</th>\n",
       "      <th>ang_acc_roll</th>\n",
       "      <th>ang_acc_pitch</th>\n",
       "      <th>ang_acc_yaw</th>\n",
       "      <th>ang_vel_roll</th>\n",
       "      <th>ang_vel_pitch</th>\n",
       "      <th>ang_vel_yaw</th>\n",
       "      <th>x</th>\n",
       "      <th>y</th>\n",
       "      <th>z</th>\n",
       "      <th>roll</th>\n",
       "      <th>pitch</th>\n",
       "      <th>yaw</th>\n",
       "      <th>u1</th>\n",
       "      <th>u2</th>\n",
       "      <th>u3</th>\n",
       "      <th>x1</th>\n",
       "      <th>x2</th>\n",
       "      <th>x3</th>\n",
       "      <th>x4</th>\n",
       "      <th>x5</th>\n",
       "      <th>x6</th>\n",
       "    </tr>\n",
       "  </thead>\n",
       "  <tbody>\n",
       "    <tr>\n",
       "      <th>0</th>\n",
       "      <td>0.000000</td>\n",
       "      <td>0.0000</td>\n",
       "      <td>0.000000</td>\n",
       "      <td>0.000000</td>\n",
       "      <td>0.000000</td>\n",
       "      <td>0.000000</td>\n",
       "      <td>0.0</td>\n",
       "      <td>0.0</td>\n",
       "      <td>0.0</td>\n",
       "      <td>0.000000</td>\n",
       "      <td>0.000000</td>\n",
       "      <td>0.0</td>\n",
       "      <td>0.000000</td>\n",
       "      <td>0.000000</td>\n",
       "      <td>-26.000000</td>\n",
       "      <td>0.000000</td>\n",
       "      <td>0.000000</td>\n",
       "      <td>-19.999989</td>\n",
       "      <td>0.000000</td>\n",
       "      <td>0.000000</td>\n",
       "      <td>0.000000</td>\n",
       "      <td>3.840001</td>\n",
       "      <td>0.000000</td>\n",
       "      <td>0.000000</td>\n",
       "      <td>0.000000</td>\n",
       "      <td>0.000000</td>\n",
       "      <td>0.000000</td>\n",
       "    </tr>\n",
       "    <tr>\n",
       "      <th>1</th>\n",
       "      <td>4.698463</td>\n",
       "      <td>-1.7101</td>\n",
       "      <td>0.000000</td>\n",
       "      <td>0.023492</td>\n",
       "      <td>-0.008550</td>\n",
       "      <td>0.000000</td>\n",
       "      <td>0.0</td>\n",
       "      <td>0.0</td>\n",
       "      <td>0.0</td>\n",
       "      <td>0.000000</td>\n",
       "      <td>0.000000</td>\n",
       "      <td>0.0</td>\n",
       "      <td>0.000000</td>\n",
       "      <td>0.000000</td>\n",
       "      <td>-26.000000</td>\n",
       "      <td>0.000000</td>\n",
       "      <td>0.000000</td>\n",
       "      <td>-19.999989</td>\n",
       "      <td>0.000000</td>\n",
       "      <td>0.000000</td>\n",
       "      <td>0.000000</td>\n",
       "      <td>3.840001</td>\n",
       "      <td>0.000000</td>\n",
       "      <td>0.000000</td>\n",
       "      <td>0.000000</td>\n",
       "      <td>0.000000</td>\n",
       "      <td>0.000000</td>\n",
       "    </tr>\n",
       "    <tr>\n",
       "      <th>2</th>\n",
       "      <td>4.698463</td>\n",
       "      <td>-1.7101</td>\n",
       "      <td>0.000000</td>\n",
       "      <td>0.046985</td>\n",
       "      <td>-0.017101</td>\n",
       "      <td>0.000000</td>\n",
       "      <td>0.0</td>\n",
       "      <td>0.0</td>\n",
       "      <td>0.0</td>\n",
       "      <td>0.000000</td>\n",
       "      <td>0.000000</td>\n",
       "      <td>0.0</td>\n",
       "      <td>0.000000</td>\n",
       "      <td>0.000000</td>\n",
       "      <td>-26.000000</td>\n",
       "      <td>0.000000</td>\n",
       "      <td>0.000000</td>\n",
       "      <td>-19.999989</td>\n",
       "      <td>0.000000</td>\n",
       "      <td>0.000000</td>\n",
       "      <td>0.000000</td>\n",
       "      <td>3.840003</td>\n",
       "      <td>0.000000</td>\n",
       "      <td>0.000000</td>\n",
       "      <td>0.000000</td>\n",
       "      <td>0.000000</td>\n",
       "      <td>0.000000</td>\n",
       "    </tr>\n",
       "    <tr>\n",
       "      <th>3</th>\n",
       "      <td>4.698463</td>\n",
       "      <td>-1.7101</td>\n",
       "      <td>0.000000</td>\n",
       "      <td>0.070477</td>\n",
       "      <td>-0.025651</td>\n",
       "      <td>0.000000</td>\n",
       "      <td>0.0</td>\n",
       "      <td>0.0</td>\n",
       "      <td>0.0</td>\n",
       "      <td>0.000000</td>\n",
       "      <td>0.000000</td>\n",
       "      <td>0.0</td>\n",
       "      <td>0.000000</td>\n",
       "      <td>0.000000</td>\n",
       "      <td>-26.000000</td>\n",
       "      <td>0.000000</td>\n",
       "      <td>0.000000</td>\n",
       "      <td>-19.999989</td>\n",
       "      <td>0.000000</td>\n",
       "      <td>0.000000</td>\n",
       "      <td>0.000000</td>\n",
       "      <td>3.840001</td>\n",
       "      <td>0.000000</td>\n",
       "      <td>0.000000</td>\n",
       "      <td>0.000000</td>\n",
       "      <td>0.000000</td>\n",
       "      <td>0.000000</td>\n",
       "    </tr>\n",
       "    <tr>\n",
       "      <th>4</th>\n",
       "      <td>4.698463</td>\n",
       "      <td>-1.7101</td>\n",
       "      <td>0.000000</td>\n",
       "      <td>0.093969</td>\n",
       "      <td>-0.034202</td>\n",
       "      <td>0.000000</td>\n",
       "      <td>0.0</td>\n",
       "      <td>0.0</td>\n",
       "      <td>0.0</td>\n",
       "      <td>0.000000</td>\n",
       "      <td>0.000000</td>\n",
       "      <td>0.0</td>\n",
       "      <td>0.001057</td>\n",
       "      <td>0.000000</td>\n",
       "      <td>-26.000000</td>\n",
       "      <td>0.000000</td>\n",
       "      <td>0.000000</td>\n",
       "      <td>-19.999989</td>\n",
       "      <td>0.000000</td>\n",
       "      <td>0.000000</td>\n",
       "      <td>0.000000</td>\n",
       "      <td>3.840003</td>\n",
       "      <td>0.000000</td>\n",
       "      <td>0.000000</td>\n",
       "      <td>0.000000</td>\n",
       "      <td>0.000000</td>\n",
       "      <td>0.000000</td>\n",
       "    </tr>\n",
       "    <tr>\n",
       "      <th>...</th>\n",
       "      <td>...</td>\n",
       "      <td>...</td>\n",
       "      <td>...</td>\n",
       "      <td>...</td>\n",
       "      <td>...</td>\n",
       "      <td>...</td>\n",
       "      <td>...</td>\n",
       "      <td>...</td>\n",
       "      <td>...</td>\n",
       "      <td>...</td>\n",
       "      <td>...</td>\n",
       "      <td>...</td>\n",
       "      <td>...</td>\n",
       "      <td>...</td>\n",
       "      <td>...</td>\n",
       "      <td>...</td>\n",
       "      <td>...</td>\n",
       "      <td>...</td>\n",
       "      <td>...</td>\n",
       "      <td>...</td>\n",
       "      <td>...</td>\n",
       "      <td>...</td>\n",
       "      <td>...</td>\n",
       "      <td>...</td>\n",
       "      <td>...</td>\n",
       "      <td>...</td>\n",
       "      <td>...</td>\n",
       "    </tr>\n",
       "    <tr>\n",
       "      <th>395</th>\n",
       "      <td>0.000000</td>\n",
       "      <td>0.0000</td>\n",
       "      <td>0.063492</td>\n",
       "      <td>4.675034</td>\n",
       "      <td>-1.701636</td>\n",
       "      <td>0.066074</td>\n",
       "      <td>0.0</td>\n",
       "      <td>0.0</td>\n",
       "      <td>0.0</td>\n",
       "      <td>0.002796</td>\n",
       "      <td>0.001502</td>\n",
       "      <td>0.0</td>\n",
       "      <td>6.889750</td>\n",
       "      <td>-2.507681</td>\n",
       "      <td>-25.967045</td>\n",
       "      <td>0.119489</td>\n",
       "      <td>-0.137546</td>\n",
       "      <td>-19.999859</td>\n",
       "      <td>-7.921130</td>\n",
       "      <td>-7.961338</td>\n",
       "      <td>-1.854415</td>\n",
       "      <td>3.870096</td>\n",
       "      <td>0.066074</td>\n",
       "      <td>0.119489</td>\n",
       "      <td>0.121138</td>\n",
       "      <td>-0.137546</td>\n",
       "      <td>-0.086053</td>\n",
       "    </tr>\n",
       "    <tr>\n",
       "      <th>396</th>\n",
       "      <td>0.000000</td>\n",
       "      <td>0.0000</td>\n",
       "      <td>0.063442</td>\n",
       "      <td>4.675035</td>\n",
       "      <td>-1.701637</td>\n",
       "      <td>0.066391</td>\n",
       "      <td>0.0</td>\n",
       "      <td>0.0</td>\n",
       "      <td>0.0</td>\n",
       "      <td>0.002794</td>\n",
       "      <td>0.001499</td>\n",
       "      <td>0.0</td>\n",
       "      <td>6.913125</td>\n",
       "      <td>-2.516189</td>\n",
       "      <td>-25.966713</td>\n",
       "      <td>0.120095</td>\n",
       "      <td>-0.138216</td>\n",
       "      <td>-19.999853</td>\n",
       "      <td>-7.914784</td>\n",
       "      <td>-7.954999</td>\n",
       "      <td>-1.857121</td>\n",
       "      <td>3.870415</td>\n",
       "      <td>0.066391</td>\n",
       "      <td>0.120095</td>\n",
       "      <td>0.121037</td>\n",
       "      <td>-0.138216</td>\n",
       "      <td>-0.085921</td>\n",
       "    </tr>\n",
       "    <tr>\n",
       "      <th>397</th>\n",
       "      <td>0.000000</td>\n",
       "      <td>0.0000</td>\n",
       "      <td>0.063396</td>\n",
       "      <td>4.675035</td>\n",
       "      <td>-1.701638</td>\n",
       "      <td>0.066708</td>\n",
       "      <td>0.0</td>\n",
       "      <td>0.0</td>\n",
       "      <td>0.0</td>\n",
       "      <td>0.002791</td>\n",
       "      <td>0.001497</td>\n",
       "      <td>0.0</td>\n",
       "      <td>6.936500</td>\n",
       "      <td>-2.524697</td>\n",
       "      <td>-25.966381</td>\n",
       "      <td>0.120699</td>\n",
       "      <td>-0.138878</td>\n",
       "      <td>-19.999846</td>\n",
       "      <td>-7.908280</td>\n",
       "      <td>-7.948584</td>\n",
       "      <td>-1.859852</td>\n",
       "      <td>3.870734</td>\n",
       "      <td>0.066708</td>\n",
       "      <td>0.120699</td>\n",
       "      <td>0.120935</td>\n",
       "      <td>-0.138878</td>\n",
       "      <td>-0.085789</td>\n",
       "    </tr>\n",
       "    <tr>\n",
       "      <th>398</th>\n",
       "      <td>0.000000</td>\n",
       "      <td>0.0000</td>\n",
       "      <td>0.063345</td>\n",
       "      <td>4.675036</td>\n",
       "      <td>-1.701639</td>\n",
       "      <td>0.067025</td>\n",
       "      <td>0.0</td>\n",
       "      <td>0.0</td>\n",
       "      <td>0.0</td>\n",
       "      <td>0.002788</td>\n",
       "      <td>0.001495</td>\n",
       "      <td>0.0</td>\n",
       "      <td>6.959875</td>\n",
       "      <td>-2.533206</td>\n",
       "      <td>-25.966047</td>\n",
       "      <td>0.121304</td>\n",
       "      <td>-0.139554</td>\n",
       "      <td>-19.999847</td>\n",
       "      <td>-7.901769</td>\n",
       "      <td>-7.942161</td>\n",
       "      <td>-1.862595</td>\n",
       "      <td>3.871053</td>\n",
       "      <td>0.067025</td>\n",
       "      <td>0.121304</td>\n",
       "      <td>0.120832</td>\n",
       "      <td>-0.139554</td>\n",
       "      <td>-0.085658</td>\n",
       "    </tr>\n",
       "    <tr>\n",
       "      <th>399</th>\n",
       "      <td>0.000000</td>\n",
       "      <td>0.0000</td>\n",
       "      <td>0.063297</td>\n",
       "      <td>4.675036</td>\n",
       "      <td>-1.701640</td>\n",
       "      <td>0.067341</td>\n",
       "      <td>0.0</td>\n",
       "      <td>0.0</td>\n",
       "      <td>0.0</td>\n",
       "      <td>0.002785</td>\n",
       "      <td>0.001493</td>\n",
       "      <td>0.0</td>\n",
       "      <td>6.983251</td>\n",
       "      <td>-2.541714</td>\n",
       "      <td>-25.965710</td>\n",
       "      <td>0.121907</td>\n",
       "      <td>-0.140224</td>\n",
       "      <td>-19.999846</td>\n",
       "      <td>-7.895303</td>\n",
       "      <td>-7.935752</td>\n",
       "      <td>-1.865320</td>\n",
       "      <td>3.871376</td>\n",
       "      <td>0.067341</td>\n",
       "      <td>0.121907</td>\n",
       "      <td>0.120730</td>\n",
       "      <td>-0.140224</td>\n",
       "      <td>-0.085526</td>\n",
       "    </tr>\n",
       "  </tbody>\n",
       "</table>\n",
       "<p>400 rows × 27 columns</p>\n",
       "</div>"
      ],
      "text/plain": [
       "        acc_x   acc_y     acc_z     vel_x     vel_y     vel_z  ang_acc_roll  \\\n",
       "0    0.000000  0.0000  0.000000  0.000000  0.000000  0.000000           0.0   \n",
       "1    4.698463 -1.7101  0.000000  0.023492 -0.008550  0.000000           0.0   \n",
       "2    4.698463 -1.7101  0.000000  0.046985 -0.017101  0.000000           0.0   \n",
       "3    4.698463 -1.7101  0.000000  0.070477 -0.025651  0.000000           0.0   \n",
       "4    4.698463 -1.7101  0.000000  0.093969 -0.034202  0.000000           0.0   \n",
       "..        ...     ...       ...       ...       ...       ...           ...   \n",
       "395  0.000000  0.0000  0.063492  4.675034 -1.701636  0.066074           0.0   \n",
       "396  0.000000  0.0000  0.063442  4.675035 -1.701637  0.066391           0.0   \n",
       "397  0.000000  0.0000  0.063396  4.675035 -1.701638  0.066708           0.0   \n",
       "398  0.000000  0.0000  0.063345  4.675036 -1.701639  0.067025           0.0   \n",
       "399  0.000000  0.0000  0.063297  4.675036 -1.701640  0.067341           0.0   \n",
       "\n",
       "     ang_acc_pitch  ang_acc_yaw  ang_vel_roll  ang_vel_pitch  ang_vel_yaw  \\\n",
       "0              0.0          0.0      0.000000       0.000000          0.0   \n",
       "1              0.0          0.0      0.000000       0.000000          0.0   \n",
       "2              0.0          0.0      0.000000       0.000000          0.0   \n",
       "3              0.0          0.0      0.000000       0.000000          0.0   \n",
       "4              0.0          0.0      0.000000       0.000000          0.0   \n",
       "..             ...          ...           ...            ...          ...   \n",
       "395            0.0          0.0      0.002796       0.001502          0.0   \n",
       "396            0.0          0.0      0.002794       0.001499          0.0   \n",
       "397            0.0          0.0      0.002791       0.001497          0.0   \n",
       "398            0.0          0.0      0.002788       0.001495          0.0   \n",
       "399            0.0          0.0      0.002785       0.001493          0.0   \n",
       "\n",
       "            x         y          z      roll     pitch        yaw        u1  \\\n",
       "0    0.000000  0.000000 -26.000000  0.000000  0.000000 -19.999989  0.000000   \n",
       "1    0.000000  0.000000 -26.000000  0.000000  0.000000 -19.999989  0.000000   \n",
       "2    0.000000  0.000000 -26.000000  0.000000  0.000000 -19.999989  0.000000   \n",
       "3    0.000000  0.000000 -26.000000  0.000000  0.000000 -19.999989  0.000000   \n",
       "4    0.001057  0.000000 -26.000000  0.000000  0.000000 -19.999989  0.000000   \n",
       "..        ...       ...        ...       ...       ...        ...       ...   \n",
       "395  6.889750 -2.507681 -25.967045  0.119489 -0.137546 -19.999859 -7.921130   \n",
       "396  6.913125 -2.516189 -25.966713  0.120095 -0.138216 -19.999853 -7.914784   \n",
       "397  6.936500 -2.524697 -25.966381  0.120699 -0.138878 -19.999846 -7.908280   \n",
       "398  6.959875 -2.533206 -25.966047  0.121304 -0.139554 -19.999847 -7.901769   \n",
       "399  6.983251 -2.541714 -25.965710  0.121907 -0.140224 -19.999846 -7.895303   \n",
       "\n",
       "           u2        u3        x1        x2        x3        x4        x5  \\\n",
       "0    0.000000  0.000000  3.840001  0.000000  0.000000  0.000000  0.000000   \n",
       "1    0.000000  0.000000  3.840001  0.000000  0.000000  0.000000  0.000000   \n",
       "2    0.000000  0.000000  3.840003  0.000000  0.000000  0.000000  0.000000   \n",
       "3    0.000000  0.000000  3.840001  0.000000  0.000000  0.000000  0.000000   \n",
       "4    0.000000  0.000000  3.840003  0.000000  0.000000  0.000000  0.000000   \n",
       "..        ...       ...       ...       ...       ...       ...       ...   \n",
       "395 -7.961338 -1.854415  3.870096  0.066074  0.119489  0.121138 -0.137546   \n",
       "396 -7.954999 -1.857121  3.870415  0.066391  0.120095  0.121037 -0.138216   \n",
       "397 -7.948584 -1.859852  3.870734  0.066708  0.120699  0.120935 -0.138878   \n",
       "398 -7.942161 -1.862595  3.871053  0.067025  0.121304  0.120832 -0.139554   \n",
       "399 -7.935752 -1.865320  3.871376  0.067341  0.121907  0.120730 -0.140224   \n",
       "\n",
       "           x6  \n",
       "0    0.000000  \n",
       "1    0.000000  \n",
       "2    0.000000  \n",
       "3    0.000000  \n",
       "4    0.000000  \n",
       "..        ...  \n",
       "395 -0.086053  \n",
       "396 -0.085921  \n",
       "397 -0.085789  \n",
       "398 -0.085658  \n",
       "399 -0.085526  \n",
       "\n",
       "[400 rows x 27 columns]"
      ]
     },
     "metadata": {},
     "output_type": "display_data"
    }
   ],
   "source": [
    "import pandas as pd\n",
    "import numpy as np\n",
    "import matplotlib.pyplot as plt\n",
    "np.set_printoptions(formatter={'float': lambda x: \"{0:0.3f}\".format(x)})\n",
    "df = pd.read_csv(\"C:/Users/frede/OneDrive/Dokumenter/6_semester/Bachelor/github/frederikt0ft-ROTV-modeling-and-control/simulations/Simulation_data_1.csv\")\n",
    "display(df)"
   ]
  },
  {
   "cell_type": "markdown",
   "id": "worthy-complexity",
   "metadata": {},
   "source": [
    "# State space representation"
   ]
  },
  {
   "cell_type": "markdown",
   "id": "pressed-remains",
   "metadata": {},
   "source": [
    "#### Define symbols"
   ]
  },
  {
   "cell_type": "code",
   "execution_count": 16,
   "id": "external-gossip",
   "metadata": {},
   "outputs": [],
   "source": [
    "import sympy as sy\n",
    "from sympy import *\n",
    "m, g, theta, rho, Vol, S1, S2, S3, S4, u, x1, x2, x3, x4, x5, x6, dh1,dh2, dr1,dr2,dp1,dp2 = symbols(\"m g theta rho Vol S1 S2 S3 S4 u x1 x2 x3 x4 x5 x6 dh1 dh2 dr1 dr2 dp1 dp2\")\n",
    "u1, u2, u3, r1, Iyx, Ixz, Iyz, Zw, xG, dg, db, d1, d2, d3, d4 = symbols (\"u1 u2 u3 r1 Iyx Ixz Iyz Zw xG dg db d1 d2 d3 d4\")\n",
    "x2d, x4d, x6d, Ix, Kp, Ixy, Iy, Mq = symbols(\"x2d x4d x6d Ix Kp Ixy Iy Mq\")"
   ]
  },
  {
   "cell_type": "markdown",
   "id": "professional-cattle",
   "metadata": {},
   "source": [
    "#### Force equations"
   ]
  },
  {
   "cell_type": "code",
   "execution_count": 17,
   "id": "pacific-density",
   "metadata": {},
   "outputs": [],
   "source": [
    "#Heave equation\n",
    "damping_h = dh1*x2+dh2*x2d\n",
    "F1 = -damping_h -m*g*cos(x5) + rho*Vol*g*cos(x5) + 2*(1/2*rho*1/8*x5*S1*(x2**2+u**2) + 1/2*rho*1/8*x5*S3*(x2**2+u**2)+1/2*rho*1/8*(x5-u3)*S4*(x2**2+u**2)) + 1/2*rho*1/8*(x5-u1)*S2*(x2**2+u**2)+1/2*rho*1/8*(x5-u2)*S2*(x2**2+u**2) - u*m*x6\n",
    "#Roll equation\n",
    "damping_r = dr1*x4+dr2*x4d\n",
    "F2 = -damping_r + 1/2*rho*1/8*(x5-u1)*S2*(x2**2+u**2)*r1 - 1/2*rho*1/8*(x5-u2)*S2*(x2**2+u**2)*r1 + x6*(Iyx*x6-Ixz*x4)\n",
    "#Pitch equation\n",
    "damping_p = dp1*x6+dp2*x6d\n",
    "F3 = -damping_p -m*g*dg*cos(x5) + db*rho*Vol*g*cos(x5) + 2*1/2*rho*1/8*x5*S1*(x2**2+u**2)*d1 + 1/2*rho*1/8*(x5-u1)*S2*(x2**2+u**2)*d2 + 1/2*rho*1/8*(x5-u2)*S2*(x2**2+u**2)*d2 + 2*1/2*rho*1/8*x5*S3*(x2**2+u**2)*d3 + 2*1/2*rho*1/8*(x5-u3)*S4*(x2**2+u**2)*d4 + u*m*xG*x6 + x4*(Iyz*x6+Ixz*x4)+Zw*x2*u"
   ]
  },
  {
   "cell_type": "code",
   "execution_count": 18,
   "id": "matched-providence",
   "metadata": {},
   "outputs": [],
   "source": [
    "#Heave equation\n",
    "damping_h = -dh1*x2-dh2*(x2**2)\n",
    "F1 = damping_h -m*g*sin(x5) + rho*Vol*g*sin(x5) + 2*(1/2*rho*1/8*x5*S1*(x2**2+u**2) + 1/2*rho*1/8*x5*S3*(x2**2+u**2)+1/2*rho*1/8*(x5-u3)*S4*(x2**2+u**2)) + 1/2*rho*1/8*(x5-u1)*S2*(x2**2+u**2)+1/2*rho*1/8*(x5-u2)*S2*(x2**2+u**2) - u*m*x6\n",
    "#Roll equation\n",
    "damping_r = -dr1*x4-dr2*(x4**2)\n",
    "F2 = damping_r + 1/2*rho*1/8*(x5-u1)*S2*(x2**2+u**2)*r1 - 1/2*rho*1/8*(x5-u2)*S2*(x2**2+u**2)*r1 + x6*(Iyx*x6-Ixz*x4)\n",
    "#Pitch equation\n",
    "damping_p = -dp1*x6-dp2*(x6**2)\n",
    "F3 = damping_p -m*g*dg*sin(x5) + db*rho*Vol*g*sin(x5) + 2*1/2*rho*1/8*x5*S1*(x2**2+u**2)*d1 + 1/2*rho*1/8*(x5-u1)*S2*(x2**2+u**2)*d2 + 1/2*rho*1/8*(x5-u2)*S2*(x2**2+u**2)*d2 + 2*1/2*rho*1/8*x5*S3*(x2**2+u**2)*d3 + 2*1/2*rho*1/8*(x5-u3)*S4*(x2**2+u**2)*d4 + u*m*xG*x6 + x4*(Iyz*x6+Ixz*x4)+Zw*x2*u"
   ]
  },
  {
   "cell_type": "markdown",
   "id": "physical-group",
   "metadata": {},
   "source": [
    "#### M*a equations"
   ]
  },
  {
   "cell_type": "code",
   "execution_count": 19,
   "id": "equipped-insulation",
   "metadata": {},
   "outputs": [],
   "source": [
    "#Heave mass-acceleration product\n",
    "Ma1 = x2d*(m+Zw) - x6d*m*xG\n",
    "#Roll mass-acceleration product\n",
    "Ma2 = x4d*(Ix+Kp) - x6d*Ixy\n",
    "#Pitch mass-acceleration product\n",
    "Ma3 = -x2d*m*xG - x4d*Ixy + x6d*(Iy+Mq)\n",
    "\n",
    "#Define equations\n",
    "eq1 = sy.Eq(F1, Ma1)\n",
    "eq2 = sy.Eq(F2, Ma2)\n",
    "eq3 = sy.Eq(F3, Ma3)"
   ]
  },
  {
   "cell_type": "markdown",
   "id": "interracial-amino",
   "metadata": {},
   "source": [
    "#### Solving for x2d, x4d and x6d - little slow"
   ]
  },
  {
   "cell_type": "code",
   "execution_count": 20,
   "id": "theoretical-agenda",
   "metadata": {},
   "outputs": [
    {
     "data": {
      "text/plain": [
       "'\\nprint(\"---------------------------------------------X2D-------------------------------------------\")\\nprint(str(r_list[0]))\\nprint(\"---------------------------------------------X4D-------------------------------------------\")\\nprint(str(r_list[1]))\\nprint(\"---------------------------------------------X6D-------------------------------------------\")\\nprint(str(r_list[2]))\\n'"
      ]
     },
     "execution_count": 20,
     "metadata": {},
     "output_type": "execute_result"
    }
   ],
   "source": [
    "#\n",
    "r = sy.solve((eq1,eq2,eq3),(x2d,x4d,x6d))\n",
    "\n",
    "r_list = list(r.items())\n",
    "\"\"\"\n",
    "print(\"---------------------------------------------X2D-------------------------------------------\")\n",
    "print(str(r_list[0]))\n",
    "print(\"---------------------------------------------X4D-------------------------------------------\")\n",
    "print(str(r_list[1]))\n",
    "print(\"---------------------------------------------X6D-------------------------------------------\")\n",
    "print(str(r_list[2]))\n",
    "\"\"\""
   ]
  },
  {
   "cell_type": "markdown",
   "id": "destroyed-washington",
   "metadata": {},
   "source": [
    "#### Define x2d,x4d and x6d using sin"
   ]
  },
  {
   "cell_type": "code",
   "execution_count": 21,
   "id": "christian-execution",
   "metadata": {},
   "outputs": [],
   "source": [
    "x2d = -16.0*Ix*Ixz*m*x4**2*xG/(-16.0*Ix*Iy*Zw - 16.0*Ix*Iy*m - 16.0*Ix*Mq*Zw - 16.0*Ix*Mq*m + 16.0*Ix*m**2*xG**2 + 16.0*Ixy**2*Zw + 16.0*Ixy**2*m - 16.0*Iy*Kp*Zw - 16.0*Iy*Kp*m - 16.0*Kp*Mq*Zw - 16.0*Kp*Mq*m + 16.0*Kp*m**2*xG**2) - 2.0*Ix*Iy*S1*rho*u**2*x5/(-16.0*Ix*Iy*Zw - 16.0*Ix*Iy*m - 16.0*Ix*Mq*Zw - 16.0*Ix*Mq*m + 16.0*Ix*m**2*xG**2 + 16.0*Ixy**2*Zw + 16.0*Ixy**2*m - 16.0*Iy*Kp*Zw - 16.0*Iy*Kp*m - 16.0*Kp*Mq*Zw - 16.0*Kp*Mq*m + 16.0*Kp*m**2*xG**2) - 2.0*Ix*Iy*S1*rho*x2**2*x5/(-16.0*Ix*Iy*Zw - 16.0*Ix*Iy*m - 16.0*Ix*Mq*Zw - 16.0*Ix*Mq*m + 16.0*Ix*m**2*xG**2 + 16.0*Ixy**2*Zw + 16.0*Ixy**2*m - 16.0*Iy*Kp*Zw - 16.0*Iy*Kp*m - 16.0*Kp*Mq*Zw - 16.0*Kp*Mq*m + 16.0*Kp*m**2*xG**2) + Ix*Iy*S2*rho*u**2*u1/(-16.0*Ix*Iy*Zw - 16.0*Ix*Iy*m - 16.0*Ix*Mq*Zw - 16.0*Ix*Mq*m + 16.0*Ix*m**2*xG**2 + 16.0*Ixy**2*Zw + 16.0*Ixy**2*m - 16.0*Iy*Kp*Zw - 16.0*Iy*Kp*m - 16.0*Kp*Mq*Zw - 16.0*Kp*Mq*m + 16.0*Kp*m**2*xG**2) + Ix*Iy*S2*rho*u**2*u2/(-16.0*Ix*Iy*Zw - 16.0*Ix*Iy*m - 16.0*Ix*Mq*Zw - 16.0*Ix*Mq*m + 16.0*Ix*m**2*xG**2 + 16.0*Ixy**2*Zw + 16.0*Ixy**2*m - 16.0*Iy*Kp*Zw - 16.0*Iy*Kp*m - 16.0*Kp*Mq*Zw - 16.0*Kp*Mq*m + 16.0*Kp*m**2*xG**2) - 2.0*Ix*Iy*S2*rho*u**2*x5/(-16.0*Ix*Iy*Zw - 16.0*Ix*Iy*m - 16.0*Ix*Mq*Zw - 16.0*Ix*Mq*m + 16.0*Ix*m**2*xG**2 + 16.0*Ixy**2*Zw + 16.0*Ixy**2*m - 16.0*Iy*Kp*Zw - 16.0*Iy*Kp*m - 16.0*Kp*Mq*Zw - 16.0*Kp*Mq*m + 16.0*Kp*m**2*xG**2) + Ix*Iy*S2*rho*u1*x2**2/(-16.0*Ix*Iy*Zw - 16.0*Ix*Iy*m - 16.0*Ix*Mq*Zw - 16.0*Ix*Mq*m + 16.0*Ix*m**2*xG**2 + 16.0*Ixy**2*Zw + 16.0*Ixy**2*m - 16.0*Iy*Kp*Zw - 16.0*Iy*Kp*m - 16.0*Kp*Mq*Zw - 16.0*Kp*Mq*m + 16.0*Kp*m**2*xG**2) + Ix*Iy*S2*rho*u2*x2**2/(-16.0*Ix*Iy*Zw - 16.0*Ix*Iy*m - 16.0*Ix*Mq*Zw - 16.0*Ix*Mq*m + 16.0*Ix*m**2*xG**2 + 16.0*Ixy**2*Zw + 16.0*Ixy**2*m - 16.0*Iy*Kp*Zw - 16.0*Iy*Kp*m - 16.0*Kp*Mq*Zw - 16.0*Kp*Mq*m + 16.0*Kp*m**2*xG**2) - 2.0*Ix*Iy*S2*rho*x2**2*x5/(-16.0*Ix*Iy*Zw - 16.0*Ix*Iy*m - 16.0*Ix*Mq*Zw - 16.0*Ix*Mq*m + 16.0*Ix*m**2*xG**2 + 16.0*Ixy**2*Zw + 16.0*Ixy**2*m - 16.0*Iy*Kp*Zw - 16.0*Iy*Kp*m - 16.0*Kp*Mq*Zw - 16.0*Kp*Mq*m + 16.0*Kp*m**2*xG**2) - 2.0*Ix*Iy*S3*rho*u**2*x5/(-16.0*Ix*Iy*Zw - 16.0*Ix*Iy*m - 16.0*Ix*Mq*Zw - 16.0*Ix*Mq*m + 16.0*Ix*m**2*xG**2 + 16.0*Ixy**2*Zw + 16.0*Ixy**2*m - 16.0*Iy*Kp*Zw - 16.0*Iy*Kp*m - 16.0*Kp*Mq*Zw - 16.0*Kp*Mq*m + 16.0*Kp*m**2*xG**2) - 2.0*Ix*Iy*S3*rho*x2**2*x5/(-16.0*Ix*Iy*Zw - 16.0*Ix*Iy*m - 16.0*Ix*Mq*Zw - 16.0*Ix*Mq*m + 16.0*Ix*m**2*xG**2 + 16.0*Ixy**2*Zw + 16.0*Ixy**2*m - 16.0*Iy*Kp*Zw - 16.0*Iy*Kp*m - 16.0*Kp*Mq*Zw - 16.0*Kp*Mq*m + 16.0*Kp*m**2*xG**2) + 2.0*Ix*Iy*S4*rho*u**2*u3/(-16.0*Ix*Iy*Zw - 16.0*Ix*Iy*m - 16.0*Ix*Mq*Zw - 16.0*Ix*Mq*m + 16.0*Ix*m**2*xG**2 + 16.0*Ixy**2*Zw + 16.0*Ixy**2*m - 16.0*Iy*Kp*Zw - 16.0*Iy*Kp*m - 16.0*Kp*Mq*Zw - 16.0*Kp*Mq*m + 16.0*Kp*m**2*xG**2) - 2.0*Ix*Iy*S4*rho*u**2*x5/(-16.0*Ix*Iy*Zw - 16.0*Ix*Iy*m - 16.0*Ix*Mq*Zw - 16.0*Ix*Mq*m + 16.0*Ix*m**2*xG**2 + 16.0*Ixy**2*Zw + 16.0*Ixy**2*m - 16.0*Iy*Kp*Zw - 16.0*Iy*Kp*m - 16.0*Kp*Mq*Zw - 16.0*Kp*Mq*m + 16.0*Kp*m**2*xG**2) + 2.0*Ix*Iy*S4*rho*u3*x2**2/(-16.0*Ix*Iy*Zw - 16.0*Ix*Iy*m - 16.0*Ix*Mq*Zw - 16.0*Ix*Mq*m + 16.0*Ix*m**2*xG**2 + 16.0*Ixy**2*Zw + 16.0*Ixy**2*m - 16.0*Iy*Kp*Zw - 16.0*Iy*Kp*m - 16.0*Kp*Mq*Zw - 16.0*Kp*Mq*m + 16.0*Kp*m**2*xG**2) - 2.0*Ix*Iy*S4*rho*x2**2*x5/(-16.0*Ix*Iy*Zw - 16.0*Ix*Iy*m - 16.0*Ix*Mq*Zw - 16.0*Ix*Mq*m + 16.0*Ix*m**2*xG**2 + 16.0*Ixy**2*Zw + 16.0*Ixy**2*m - 16.0*Iy*Kp*Zw - 16.0*Iy*Kp*m - 16.0*Kp*Mq*Zw - 16.0*Kp*Mq*m + 16.0*Kp*m**2*xG**2) - 16.0*Ix*Iy*Vol*g*rho*sin(x5)/(-16.0*Ix*Iy*Zw - 16.0*Ix*Iy*m - 16.0*Ix*Mq*Zw - 16.0*Ix*Mq*m + 16.0*Ix*m**2*xG**2 + 16.0*Ixy**2*Zw + 16.0*Ixy**2*m - 16.0*Iy*Kp*Zw - 16.0*Iy*Kp*m - 16.0*Kp*Mq*Zw - 16.0*Kp*Mq*m + 16.0*Kp*m**2*xG**2) + 16.0*Ix*Iy*dh1*x2/(-16.0*Ix*Iy*Zw - 16.0*Ix*Iy*m - 16.0*Ix*Mq*Zw - 16.0*Ix*Mq*m + 16.0*Ix*m**2*xG**2 + 16.0*Ixy**2*Zw + 16.0*Ixy**2*m - 16.0*Iy*Kp*Zw - 16.0*Iy*Kp*m - 16.0*Kp*Mq*Zw - 16.0*Kp*Mq*m + 16.0*Kp*m**2*xG**2) + 16.0*Ix*Iy*dh2*x2**2/(-16.0*Ix*Iy*Zw - 16.0*Ix*Iy*m - 16.0*Ix*Mq*Zw - 16.0*Ix*Mq*m + 16.0*Ix*m**2*xG**2 + 16.0*Ixy**2*Zw + 16.0*Ixy**2*m - 16.0*Iy*Kp*Zw - 16.0*Iy*Kp*m - 16.0*Kp*Mq*Zw - 16.0*Kp*Mq*m + 16.0*Kp*m**2*xG**2) + 16.0*Ix*Iy*g*m*sin(x5)/(-16.0*Ix*Iy*Zw - 16.0*Ix*Iy*m - 16.0*Ix*Mq*Zw - 16.0*Ix*Mq*m + 16.0*Ix*m**2*xG**2 + 16.0*Ixy**2*Zw + 16.0*Ixy**2*m - 16.0*Iy*Kp*Zw - 16.0*Iy*Kp*m - 16.0*Kp*Mq*Zw - 16.0*Kp*Mq*m + 16.0*Kp*m**2*xG**2) + 16.0*Ix*Iy*m*u*x6/(-16.0*Ix*Iy*Zw - 16.0*Ix*Iy*m - 16.0*Ix*Mq*Zw - 16.0*Ix*Mq*m + 16.0*Ix*m**2*xG**2 + 16.0*Ixy**2*Zw + 16.0*Ixy**2*m - 16.0*Iy*Kp*Zw - 16.0*Iy*Kp*m - 16.0*Kp*Mq*Zw - 16.0*Kp*Mq*m + 16.0*Kp*m**2*xG**2) - 16.0*Ix*Iyz*m*x4*x6*xG/(-16.0*Ix*Iy*Zw - 16.0*Ix*Iy*m - 16.0*Ix*Mq*Zw - 16.0*Ix*Mq*m + 16.0*Ix*m**2*xG**2 + 16.0*Ixy**2*Zw + 16.0*Ixy**2*m - 16.0*Iy*Kp*Zw - 16.0*Iy*Kp*m - 16.0*Kp*Mq*Zw - 16.0*Kp*Mq*m + 16.0*Kp*m**2*xG**2) - 2.0*Ix*Mq*S1*rho*u**2*x5/(-16.0*Ix*Iy*Zw - 16.0*Ix*Iy*m - 16.0*Ix*Mq*Zw - 16.0*Ix*Mq*m + 16.0*Ix*m**2*xG**2 + 16.0*Ixy**2*Zw + 16.0*Ixy**2*m - 16.0*Iy*Kp*Zw - 16.0*Iy*Kp*m - 16.0*Kp*Mq*Zw - 16.0*Kp*Mq*m + 16.0*Kp*m**2*xG**2) - 2.0*Ix*Mq*S1*rho*x2**2*x5/(-16.0*Ix*Iy*Zw - 16.0*Ix*Iy*m - 16.0*Ix*Mq*Zw - 16.0*Ix*Mq*m + 16.0*Ix*m**2*xG**2 + 16.0*Ixy**2*Zw + 16.0*Ixy**2*m - 16.0*Iy*Kp*Zw - 16.0*Iy*Kp*m - 16.0*Kp*Mq*Zw - 16.0*Kp*Mq*m + 16.0*Kp*m**2*xG**2) + Ix*Mq*S2*rho*u**2*u1/(-16.0*Ix*Iy*Zw - 16.0*Ix*Iy*m - 16.0*Ix*Mq*Zw - 16.0*Ix*Mq*m + 16.0*Ix*m**2*xG**2 + 16.0*Ixy**2*Zw + 16.0*Ixy**2*m - 16.0*Iy*Kp*Zw - 16.0*Iy*Kp*m - 16.0*Kp*Mq*Zw - 16.0*Kp*Mq*m + 16.0*Kp*m**2*xG**2) + Ix*Mq*S2*rho*u**2*u2/(-16.0*Ix*Iy*Zw - 16.0*Ix*Iy*m - 16.0*Ix*Mq*Zw - 16.0*Ix*Mq*m + 16.0*Ix*m**2*xG**2 + 16.0*Ixy**2*Zw + 16.0*Ixy**2*m - 16.0*Iy*Kp*Zw - 16.0*Iy*Kp*m - 16.0*Kp*Mq*Zw - 16.0*Kp*Mq*m + 16.0*Kp*m**2*xG**2) - 2.0*Ix*Mq*S2*rho*u**2*x5/(-16.0*Ix*Iy*Zw - 16.0*Ix*Iy*m - 16.0*Ix*Mq*Zw - 16.0*Ix*Mq*m + 16.0*Ix*m**2*xG**2 + 16.0*Ixy**2*Zw + 16.0*Ixy**2*m - 16.0*Iy*Kp*Zw - 16.0*Iy*Kp*m - 16.0*Kp*Mq*Zw - 16.0*Kp*Mq*m + 16.0*Kp*m**2*xG**2) + Ix*Mq*S2*rho*u1*x2**2/(-16.0*Ix*Iy*Zw - 16.0*Ix*Iy*m - 16.0*Ix*Mq*Zw - 16.0*Ix*Mq*m + 16.0*Ix*m**2*xG**2 + 16.0*Ixy**2*Zw + 16.0*Ixy**2*m - 16.0*Iy*Kp*Zw - 16.0*Iy*Kp*m - 16.0*Kp*Mq*Zw - 16.0*Kp*Mq*m + 16.0*Kp*m**2*xG**2) + Ix*Mq*S2*rho*u2*x2**2/(-16.0*Ix*Iy*Zw - 16.0*Ix*Iy*m - 16.0*Ix*Mq*Zw - 16.0*Ix*Mq*m + 16.0*Ix*m**2*xG**2 + 16.0*Ixy**2*Zw + 16.0*Ixy**2*m - 16.0*Iy*Kp*Zw - 16.0*Iy*Kp*m - 16.0*Kp*Mq*Zw - 16.0*Kp*Mq*m + 16.0*Kp*m**2*xG**2) - 2.0*Ix*Mq*S2*rho*x2**2*x5/(-16.0*Ix*Iy*Zw - 16.0*Ix*Iy*m - 16.0*Ix*Mq*Zw - 16.0*Ix*Mq*m + 16.0*Ix*m**2*xG**2 + 16.0*Ixy**2*Zw + 16.0*Ixy**2*m - 16.0*Iy*Kp*Zw - 16.0*Iy*Kp*m - 16.0*Kp*Mq*Zw - 16.0*Kp*Mq*m + 16.0*Kp*m**2*xG**2) - 2.0*Ix*Mq*S3*rho*u**2*x5/(-16.0*Ix*Iy*Zw - 16.0*Ix*Iy*m - 16.0*Ix*Mq*Zw - 16.0*Ix*Mq*m + 16.0*Ix*m**2*xG**2 + 16.0*Ixy**2*Zw + 16.0*Ixy**2*m - 16.0*Iy*Kp*Zw - 16.0*Iy*Kp*m - 16.0*Kp*Mq*Zw - 16.0*Kp*Mq*m + 16.0*Kp*m**2*xG**2) - 2.0*Ix*Mq*S3*rho*x2**2*x5/(-16.0*Ix*Iy*Zw - 16.0*Ix*Iy*m - 16.0*Ix*Mq*Zw - 16.0*Ix*Mq*m + 16.0*Ix*m**2*xG**2 + 16.0*Ixy**2*Zw + 16.0*Ixy**2*m - 16.0*Iy*Kp*Zw - 16.0*Iy*Kp*m - 16.0*Kp*Mq*Zw - 16.0*Kp*Mq*m + 16.0*Kp*m**2*xG**2) + 2.0*Ix*Mq*S4*rho*u**2*u3/(-16.0*Ix*Iy*Zw - 16.0*Ix*Iy*m - 16.0*Ix*Mq*Zw - 16.0*Ix*Mq*m + 16.0*Ix*m**2*xG**2 + 16.0*Ixy**2*Zw + 16.0*Ixy**2*m - 16.0*Iy*Kp*Zw - 16.0*Iy*Kp*m - 16.0*Kp*Mq*Zw - 16.0*Kp*Mq*m + 16.0*Kp*m**2*xG**2) - 2.0*Ix*Mq*S4*rho*u**2*x5/(-16.0*Ix*Iy*Zw - 16.0*Ix*Iy*m - 16.0*Ix*Mq*Zw - 16.0*Ix*Mq*m + 16.0*Ix*m**2*xG**2 + 16.0*Ixy**2*Zw + 16.0*Ixy**2*m - 16.0*Iy*Kp*Zw - 16.0*Iy*Kp*m - 16.0*Kp*Mq*Zw - 16.0*Kp*Mq*m + 16.0*Kp*m**2*xG**2) + 2.0*Ix*Mq*S4*rho*u3*x2**2/(-16.0*Ix*Iy*Zw - 16.0*Ix*Iy*m - 16.0*Ix*Mq*Zw - 16.0*Ix*Mq*m + 16.0*Ix*m**2*xG**2 + 16.0*Ixy**2*Zw + 16.0*Ixy**2*m - 16.0*Iy*Kp*Zw - 16.0*Iy*Kp*m - 16.0*Kp*Mq*Zw - 16.0*Kp*Mq*m + 16.0*Kp*m**2*xG**2) - 2.0*Ix*Mq*S4*rho*x2**2*x5/(-16.0*Ix*Iy*Zw - 16.0*Ix*Iy*m - 16.0*Ix*Mq*Zw - 16.0*Ix*Mq*m + 16.0*Ix*m**2*xG**2 + 16.0*Ixy**2*Zw + 16.0*Ixy**2*m - 16.0*Iy*Kp*Zw - 16.0*Iy*Kp*m - 16.0*Kp*Mq*Zw - 16.0*Kp*Mq*m + 16.0*Kp*m**2*xG**2) - 16.0*Ix*Mq*Vol*g*rho*sin(x5)/(-16.0*Ix*Iy*Zw - 16.0*Ix*Iy*m - 16.0*Ix*Mq*Zw - 16.0*Ix*Mq*m + 16.0*Ix*m**2*xG**2 + 16.0*Ixy**2*Zw + 16.0*Ixy**2*m - 16.0*Iy*Kp*Zw - 16.0*Iy*Kp*m - 16.0*Kp*Mq*Zw - 16.0*Kp*Mq*m + 16.0*Kp*m**2*xG**2) + 16.0*Ix*Mq*dh1*x2/(-16.0*Ix*Iy*Zw - 16.0*Ix*Iy*m - 16.0*Ix*Mq*Zw - 16.0*Ix*Mq*m + 16.0*Ix*m**2*xG**2 + 16.0*Ixy**2*Zw + 16.0*Ixy**2*m - 16.0*Iy*Kp*Zw - 16.0*Iy*Kp*m - 16.0*Kp*Mq*Zw - 16.0*Kp*Mq*m + 16.0*Kp*m**2*xG**2) + 16.0*Ix*Mq*dh2*x2**2/(-16.0*Ix*Iy*Zw - 16.0*Ix*Iy*m - 16.0*Ix*Mq*Zw - 16.0*Ix*Mq*m + 16.0*Ix*m**2*xG**2 + 16.0*Ixy**2*Zw + 16.0*Ixy**2*m - 16.0*Iy*Kp*Zw - 16.0*Iy*Kp*m - 16.0*Kp*Mq*Zw - 16.0*Kp*Mq*m + 16.0*Kp*m**2*xG**2) + 16.0*Ix*Mq*g*m*sin(x5)/(-16.0*Ix*Iy*Zw - 16.0*Ix*Iy*m - 16.0*Ix*Mq*Zw - 16.0*Ix*Mq*m + 16.0*Ix*m**2*xG**2 + 16.0*Ixy**2*Zw + 16.0*Ixy**2*m - 16.0*Iy*Kp*Zw - 16.0*Iy*Kp*m - 16.0*Kp*Mq*Zw - 16.0*Kp*Mq*m + 16.0*Kp*m**2*xG**2) + 16.0*Ix*Mq*m*u*x6/(-16.0*Ix*Iy*Zw - 16.0*Ix*Iy*m - 16.0*Ix*Mq*Zw - 16.0*Ix*Mq*m + 16.0*Ix*m**2*xG**2 + 16.0*Ixy**2*Zw + 16.0*Ixy**2*m - 16.0*Iy*Kp*Zw - 16.0*Iy*Kp*m - 16.0*Kp*Mq*Zw - 16.0*Kp*Mq*m + 16.0*Kp*m**2*xG**2) - 2.0*Ix*S1*d1*m*rho*u**2*x5*xG/(-16.0*Ix*Iy*Zw - 16.0*Ix*Iy*m - 16.0*Ix*Mq*Zw - 16.0*Ix*Mq*m + 16.0*Ix*m**2*xG**2 + 16.0*Ixy**2*Zw + 16.0*Ixy**2*m - 16.0*Iy*Kp*Zw - 16.0*Iy*Kp*m - 16.0*Kp*Mq*Zw - 16.0*Kp*Mq*m + 16.0*Kp*m**2*xG**2) - 2.0*Ix*S1*d1*m*rho*x2**2*x5*xG/(-16.0*Ix*Iy*Zw - 16.0*Ix*Iy*m - 16.0*Ix*Mq*Zw - 16.0*Ix*Mq*m + 16.0*Ix*m**2*xG**2 + 16.0*Ixy**2*Zw + 16.0*Ixy**2*m - 16.0*Iy*Kp*Zw - 16.0*Iy*Kp*m - 16.0*Kp*Mq*Zw - 16.0*Kp*Mq*m + 16.0*Kp*m**2*xG**2) + Ix*S2*d2*m*rho*u**2*u1*xG/(-16.0*Ix*Iy*Zw - 16.0*Ix*Iy*m - 16.0*Ix*Mq*Zw - 16.0*Ix*Mq*m + 16.0*Ix*m**2*xG**2 + 16.0*Ixy**2*Zw + 16.0*Ixy**2*m - 16.0*Iy*Kp*Zw - 16.0*Iy*Kp*m - 16.0*Kp*Mq*Zw - 16.0*Kp*Mq*m + 16.0*Kp*m**2*xG**2) + Ix*S2*d2*m*rho*u**2*u2*xG/(-16.0*Ix*Iy*Zw - 16.0*Ix*Iy*m - 16.0*Ix*Mq*Zw - 16.0*Ix*Mq*m + 16.0*Ix*m**2*xG**2 + 16.0*Ixy**2*Zw + 16.0*Ixy**2*m - 16.0*Iy*Kp*Zw - 16.0*Iy*Kp*m - 16.0*Kp*Mq*Zw - 16.0*Kp*Mq*m + 16.0*Kp*m**2*xG**2) - 2.0*Ix*S2*d2*m*rho*u**2*x5*xG/(-16.0*Ix*Iy*Zw - 16.0*Ix*Iy*m - 16.0*Ix*Mq*Zw - 16.0*Ix*Mq*m + 16.0*Ix*m**2*xG**2 + 16.0*Ixy**2*Zw + 16.0*Ixy**2*m - 16.0*Iy*Kp*Zw - 16.0*Iy*Kp*m - 16.0*Kp*Mq*Zw - 16.0*Kp*Mq*m + 16.0*Kp*m**2*xG**2) + Ix*S2*d2*m*rho*u1*x2**2*xG/(-16.0*Ix*Iy*Zw - 16.0*Ix*Iy*m - 16.0*Ix*Mq*Zw - 16.0*Ix*Mq*m + 16.0*Ix*m**2*xG**2 + 16.0*Ixy**2*Zw + 16.0*Ixy**2*m - 16.0*Iy*Kp*Zw - 16.0*Iy*Kp*m - 16.0*Kp*Mq*Zw - 16.0*Kp*Mq*m + 16.0*Kp*m**2*xG**2) + Ix*S2*d2*m*rho*u2*x2**2*xG/(-16.0*Ix*Iy*Zw - 16.0*Ix*Iy*m - 16.0*Ix*Mq*Zw - 16.0*Ix*Mq*m + 16.0*Ix*m**2*xG**2 + 16.0*Ixy**2*Zw + 16.0*Ixy**2*m - 16.0*Iy*Kp*Zw - 16.0*Iy*Kp*m - 16.0*Kp*Mq*Zw - 16.0*Kp*Mq*m + 16.0*Kp*m**2*xG**2) - 2.0*Ix*S2*d2*m*rho*x2**2*x5*xG/(-16.0*Ix*Iy*Zw - 16.0*Ix*Iy*m - 16.0*Ix*Mq*Zw - 16.0*Ix*Mq*m + 16.0*Ix*m**2*xG**2 + 16.0*Ixy**2*Zw + 16.0*Ixy**2*m - 16.0*Iy*Kp*Zw - 16.0*Iy*Kp*m - 16.0*Kp*Mq*Zw - 16.0*Kp*Mq*m + 16.0*Kp*m**2*xG**2) - 2.0*Ix*S3*d3*m*rho*u**2*x5*xG/(-16.0*Ix*Iy*Zw - 16.0*Ix*Iy*m - 16.0*Ix*Mq*Zw - 16.0*Ix*Mq*m + 16.0*Ix*m**2*xG**2 + 16.0*Ixy**2*Zw + 16.0*Ixy**2*m - 16.0*Iy*Kp*Zw - 16.0*Iy*Kp*m - 16.0*Kp*Mq*Zw - 16.0*Kp*Mq*m + 16.0*Kp*m**2*xG**2) - 2.0*Ix*S3*d3*m*rho*x2**2*x5*xG/(-16.0*Ix*Iy*Zw - 16.0*Ix*Iy*m - 16.0*Ix*Mq*Zw - 16.0*Ix*Mq*m + 16.0*Ix*m**2*xG**2 + 16.0*Ixy**2*Zw + 16.0*Ixy**2*m - 16.0*Iy*Kp*Zw - 16.0*Iy*Kp*m - 16.0*Kp*Mq*Zw - 16.0*Kp*Mq*m + 16.0*Kp*m**2*xG**2) + 2.0*Ix*S4*d4*m*rho*u**2*u3*xG/(-16.0*Ix*Iy*Zw - 16.0*Ix*Iy*m - 16.0*Ix*Mq*Zw - 16.0*Ix*Mq*m + 16.0*Ix*m**2*xG**2 + 16.0*Ixy**2*Zw + 16.0*Ixy**2*m - 16.0*Iy*Kp*Zw - 16.0*Iy*Kp*m - 16.0*Kp*Mq*Zw - 16.0*Kp*Mq*m + 16.0*Kp*m**2*xG**2) - 2.0*Ix*S4*d4*m*rho*u**2*x5*xG/(-16.0*Ix*Iy*Zw - 16.0*Ix*Iy*m - 16.0*Ix*Mq*Zw - 16.0*Ix*Mq*m + 16.0*Ix*m**2*xG**2 + 16.0*Ixy**2*Zw + 16.0*Ixy**2*m - 16.0*Iy*Kp*Zw - 16.0*Iy*Kp*m - 16.0*Kp*Mq*Zw - 16.0*Kp*Mq*m + 16.0*Kp*m**2*xG**2) + 2.0*Ix*S4*d4*m*rho*u3*x2**2*xG/(-16.0*Ix*Iy*Zw - 16.0*Ix*Iy*m - 16.0*Ix*Mq*Zw - 16.0*Ix*Mq*m + 16.0*Ix*m**2*xG**2 + 16.0*Ixy**2*Zw + 16.0*Ixy**2*m - 16.0*Iy*Kp*Zw - 16.0*Iy*Kp*m - 16.0*Kp*Mq*Zw - 16.0*Kp*Mq*m + 16.0*Kp*m**2*xG**2) - 2.0*Ix*S4*d4*m*rho*x2**2*x5*xG/(-16.0*Ix*Iy*Zw - 16.0*Ix*Iy*m - 16.0*Ix*Mq*Zw - 16.0*Ix*Mq*m + 16.0*Ix*m**2*xG**2 + 16.0*Ixy**2*Zw + 16.0*Ixy**2*m - 16.0*Iy*Kp*Zw - 16.0*Iy*Kp*m - 16.0*Kp*Mq*Zw - 16.0*Kp*Mq*m + 16.0*Kp*m**2*xG**2) - 16.0*Ix*Vol*db*g*m*rho*xG*sin(x5)/(-16.0*Ix*Iy*Zw - 16.0*Ix*Iy*m - 16.0*Ix*Mq*Zw - 16.0*Ix*Mq*m + 16.0*Ix*m**2*xG**2 + 16.0*Ixy**2*Zw + 16.0*Ixy**2*m - 16.0*Iy*Kp*Zw - 16.0*Iy*Kp*m - 16.0*Kp*Mq*Zw - 16.0*Kp*Mq*m + 16.0*Kp*m**2*xG**2) - 16.0*Ix*Zw*m*u*x2*xG/(-16.0*Ix*Iy*Zw - 16.0*Ix*Iy*m - 16.0*Ix*Mq*Zw - 16.0*Ix*Mq*m + 16.0*Ix*m**2*xG**2 + 16.0*Ixy**2*Zw + 16.0*Ixy**2*m - 16.0*Iy*Kp*Zw - 16.0*Iy*Kp*m - 16.0*Kp*Mq*Zw - 16.0*Kp*Mq*m + 16.0*Kp*m**2*xG**2) + 16.0*Ix*dg*g*m**2*xG*sin(x5)/(-16.0*Ix*Iy*Zw - 16.0*Ix*Iy*m - 16.0*Ix*Mq*Zw - 16.0*Ix*Mq*m + 16.0*Ix*m**2*xG**2 + 16.0*Ixy**2*Zw + 16.0*Ixy**2*m - 16.0*Iy*Kp*Zw - 16.0*Iy*Kp*m - 16.0*Kp*Mq*Zw - 16.0*Kp*Mq*m + 16.0*Kp*m**2*xG**2) + 16.0*Ix*dp1*m*x6*xG/(-16.0*Ix*Iy*Zw - 16.0*Ix*Iy*m - 16.0*Ix*Mq*Zw - 16.0*Ix*Mq*m + 16.0*Ix*m**2*xG**2 + 16.0*Ixy**2*Zw + 16.0*Ixy**2*m - 16.0*Iy*Kp*Zw - 16.0*Iy*Kp*m - 16.0*Kp*Mq*Zw - 16.0*Kp*Mq*m + 16.0*Kp*m**2*xG**2) + 16.0*Ix*dp2*m*x6**2*xG/(-16.0*Ix*Iy*Zw - 16.0*Ix*Iy*m - 16.0*Ix*Mq*Zw - 16.0*Ix*Mq*m + 16.0*Ix*m**2*xG**2 + 16.0*Ixy**2*Zw + 16.0*Ixy**2*m - 16.0*Iy*Kp*Zw - 16.0*Iy*Kp*m - 16.0*Kp*Mq*Zw - 16.0*Kp*Mq*m + 16.0*Kp*m**2*xG**2) - 16.0*Ix*m**2*u*x6*xG**2/(-16.0*Ix*Iy*Zw - 16.0*Ix*Iy*m - 16.0*Ix*Mq*Zw - 16.0*Ix*Mq*m + 16.0*Ix*m**2*xG**2 + 16.0*Ixy**2*Zw + 16.0*Ixy**2*m - 16.0*Iy*Kp*Zw - 16.0*Iy*Kp*m - 16.0*Kp*Mq*Zw - 16.0*Kp*Mq*m + 16.0*Kp*m**2*xG**2) + 2.0*Ixy**2*S1*rho*u**2*x5/(-16.0*Ix*Iy*Zw - 16.0*Ix*Iy*m - 16.0*Ix*Mq*Zw - 16.0*Ix*Mq*m + 16.0*Ix*m**2*xG**2 + 16.0*Ixy**2*Zw + 16.0*Ixy**2*m - 16.0*Iy*Kp*Zw - 16.0*Iy*Kp*m - 16.0*Kp*Mq*Zw - 16.0*Kp*Mq*m + 16.0*Kp*m**2*xG**2) + 2.0*Ixy**2*S1*rho*x2**2*x5/(-16.0*Ix*Iy*Zw - 16.0*Ix*Iy*m - 16.0*Ix*Mq*Zw - 16.0*Ix*Mq*m + 16.0*Ix*m**2*xG**2 + 16.0*Ixy**2*Zw + 16.0*Ixy**2*m - 16.0*Iy*Kp*Zw - 16.0*Iy*Kp*m - 16.0*Kp*Mq*Zw - 16.0*Kp*Mq*m + 16.0*Kp*m**2*xG**2) - Ixy**2*S2*rho*u**2*u1/(-16.0*Ix*Iy*Zw - 16.0*Ix*Iy*m - 16.0*Ix*Mq*Zw - 16.0*Ix*Mq*m + 16.0*Ix*m**2*xG**2 + 16.0*Ixy**2*Zw + 16.0*Ixy**2*m - 16.0*Iy*Kp*Zw - 16.0*Iy*Kp*m - 16.0*Kp*Mq*Zw - 16.0*Kp*Mq*m + 16.0*Kp*m**2*xG**2) - Ixy**2*S2*rho*u**2*u2/(-16.0*Ix*Iy*Zw - 16.0*Ix*Iy*m - 16.0*Ix*Mq*Zw - 16.0*Ix*Mq*m + 16.0*Ix*m**2*xG**2 + 16.0*Ixy**2*Zw + 16.0*Ixy**2*m - 16.0*Iy*Kp*Zw - 16.0*Iy*Kp*m - 16.0*Kp*Mq*Zw - 16.0*Kp*Mq*m + 16.0*Kp*m**2*xG**2) + 2.0*Ixy**2*S2*rho*u**2*x5/(-16.0*Ix*Iy*Zw - 16.0*Ix*Iy*m - 16.0*Ix*Mq*Zw - 16.0*Ix*Mq*m + 16.0*Ix*m**2*xG**2 + 16.0*Ixy**2*Zw + 16.0*Ixy**2*m - 16.0*Iy*Kp*Zw - 16.0*Iy*Kp*m - 16.0*Kp*Mq*Zw - 16.0*Kp*Mq*m + 16.0*Kp*m**2*xG**2) - Ixy**2*S2*rho*u1*x2**2/(-16.0*Ix*Iy*Zw - 16.0*Ix*Iy*m - 16.0*Ix*Mq*Zw - 16.0*Ix*Mq*m + 16.0*Ix*m**2*xG**2 + 16.0*Ixy**2*Zw + 16.0*Ixy**2*m - 16.0*Iy*Kp*Zw - 16.0*Iy*Kp*m - 16.0*Kp*Mq*Zw - 16.0*Kp*Mq*m + 16.0*Kp*m**2*xG**2) - Ixy**2*S2*rho*u2*x2**2/(-16.0*Ix*Iy*Zw - 16.0*Ix*Iy*m - 16.0*Ix*Mq*Zw - 16.0*Ix*Mq*m + 16.0*Ix*m**2*xG**2 + 16.0*Ixy**2*Zw + 16.0*Ixy**2*m - 16.0*Iy*Kp*Zw - 16.0*Iy*Kp*m - 16.0*Kp*Mq*Zw - 16.0*Kp*Mq*m + 16.0*Kp*m**2*xG**2) + 2.0*Ixy**2*S2*rho*x2**2*x5/(-16.0*Ix*Iy*Zw - 16.0*Ix*Iy*m - 16.0*Ix*Mq*Zw - 16.0*Ix*Mq*m + 16.0*Ix*m**2*xG**2 + 16.0*Ixy**2*Zw + 16.0*Ixy**2*m - 16.0*Iy*Kp*Zw - 16.0*Iy*Kp*m - 16.0*Kp*Mq*Zw - 16.0*Kp*Mq*m + 16.0*Kp*m**2*xG**2) + 2.0*Ixy**2*S3*rho*u**2*x5/(-16.0*Ix*Iy*Zw - 16.0*Ix*Iy*m - 16.0*Ix*Mq*Zw - 16.0*Ix*Mq*m + 16.0*Ix*m**2*xG**2 + 16.0*Ixy**2*Zw + 16.0*Ixy**2*m - 16.0*Iy*Kp*Zw - 16.0*Iy*Kp*m - 16.0*Kp*Mq*Zw - 16.0*Kp*Mq*m + 16.0*Kp*m**2*xG**2) + 2.0*Ixy**2*S3*rho*x2**2*x5/(-16.0*Ix*Iy*Zw - 16.0*Ix*Iy*m - 16.0*Ix*Mq*Zw - 16.0*Ix*Mq*m + 16.0*Ix*m**2*xG**2 + 16.0*Ixy**2*Zw + 16.0*Ixy**2*m - 16.0*Iy*Kp*Zw - 16.0*Iy*Kp*m - 16.0*Kp*Mq*Zw - 16.0*Kp*Mq*m + 16.0*Kp*m**2*xG**2) - 2.0*Ixy**2*S4*rho*u**2*u3/(-16.0*Ix*Iy*Zw - 16.0*Ix*Iy*m - 16.0*Ix*Mq*Zw - 16.0*Ix*Mq*m + 16.0*Ix*m**2*xG**2 + 16.0*Ixy**2*Zw + 16.0*Ixy**2*m - 16.0*Iy*Kp*Zw - 16.0*Iy*Kp*m - 16.0*Kp*Mq*Zw - 16.0*Kp*Mq*m + 16.0*Kp*m**2*xG**2) + 2.0*Ixy**2*S4*rho*u**2*x5/(-16.0*Ix*Iy*Zw - 16.0*Ix*Iy*m - 16.0*Ix*Mq*Zw - 16.0*Ix*Mq*m + 16.0*Ix*m**2*xG**2 + 16.0*Ixy**2*Zw + 16.0*Ixy**2*m - 16.0*Iy*Kp*Zw - 16.0*Iy*Kp*m - 16.0*Kp*Mq*Zw - 16.0*Kp*Mq*m + 16.0*Kp*m**2*xG**2) - 2.0*Ixy**2*S4*rho*u3*x2**2/(-16.0*Ix*Iy*Zw - 16.0*Ix*Iy*m - 16.0*Ix*Mq*Zw - 16.0*Ix*Mq*m + 16.0*Ix*m**2*xG**2 + 16.0*Ixy**2*Zw + 16.0*Ixy**2*m - 16.0*Iy*Kp*Zw - 16.0*Iy*Kp*m - 16.0*Kp*Mq*Zw - 16.0*Kp*Mq*m + 16.0*Kp*m**2*xG**2) + 2.0*Ixy**2*S4*rho*x2**2*x5/(-16.0*Ix*Iy*Zw - 16.0*Ix*Iy*m - 16.0*Ix*Mq*Zw - 16.0*Ix*Mq*m + 16.0*Ix*m**2*xG**2 + 16.0*Ixy**2*Zw + 16.0*Ixy**2*m - 16.0*Iy*Kp*Zw - 16.0*Iy*Kp*m - 16.0*Kp*Mq*Zw - 16.0*Kp*Mq*m + 16.0*Kp*m**2*xG**2) + 16.0*Ixy**2*Vol*g*rho*sin(x5)/(-16.0*Ix*Iy*Zw - 16.0*Ix*Iy*m - 16.0*Ix*Mq*Zw - 16.0*Ix*Mq*m + 16.0*Ix*m**2*xG**2 + 16.0*Ixy**2*Zw + 16.0*Ixy**2*m - 16.0*Iy*Kp*Zw - 16.0*Iy*Kp*m - 16.0*Kp*Mq*Zw - 16.0*Kp*Mq*m + 16.0*Kp*m**2*xG**2) - 16.0*Ixy**2*dh1*x2/(-16.0*Ix*Iy*Zw - 16.0*Ix*Iy*m - 16.0*Ix*Mq*Zw - 16.0*Ix*Mq*m + 16.0*Ix*m**2*xG**2 + 16.0*Ixy**2*Zw + 16.0*Ixy**2*m - 16.0*Iy*Kp*Zw - 16.0*Iy*Kp*m - 16.0*Kp*Mq*Zw - 16.0*Kp*Mq*m + 16.0*Kp*m**2*xG**2) - 16.0*Ixy**2*dh2*x2**2/(-16.0*Ix*Iy*Zw - 16.0*Ix*Iy*m - 16.0*Ix*Mq*Zw - 16.0*Ix*Mq*m + 16.0*Ix*m**2*xG**2 + 16.0*Ixy**2*Zw + 16.0*Ixy**2*m - 16.0*Iy*Kp*Zw - 16.0*Iy*Kp*m - 16.0*Kp*Mq*Zw - 16.0*Kp*Mq*m + 16.0*Kp*m**2*xG**2) - 16.0*Ixy**2*g*m*sin(x5)/(-16.0*Ix*Iy*Zw - 16.0*Ix*Iy*m - 16.0*Ix*Mq*Zw - 16.0*Ix*Mq*m + 16.0*Ix*m**2*xG**2 + 16.0*Ixy**2*Zw + 16.0*Ixy**2*m - 16.0*Iy*Kp*Zw - 16.0*Iy*Kp*m - 16.0*Kp*Mq*Zw - 16.0*Kp*Mq*m + 16.0*Kp*m**2*xG**2) - 16.0*Ixy**2*m*u*x6/(-16.0*Ix*Iy*Zw - 16.0*Ix*Iy*m - 16.0*Ix*Mq*Zw - 16.0*Ix*Mq*m + 16.0*Ix*m**2*xG**2 + 16.0*Ixy**2*Zw + 16.0*Ixy**2*m - 16.0*Iy*Kp*Zw - 16.0*Iy*Kp*m - 16.0*Kp*Mq*Zw - 16.0*Kp*Mq*m + 16.0*Kp*m**2*xG**2) + 16.0*Ixy*Ixz*m*x4*x6*xG/(-16.0*Ix*Iy*Zw - 16.0*Ix*Iy*m - 16.0*Ix*Mq*Zw - 16.0*Ix*Mq*m + 16.0*Ix*m**2*xG**2 + 16.0*Ixy**2*Zw + 16.0*Ixy**2*m - 16.0*Iy*Kp*Zw - 16.0*Iy*Kp*m - 16.0*Kp*Mq*Zw - 16.0*Kp*Mq*m + 16.0*Kp*m**2*xG**2) - 16.0*Ixy*Iyx*m*x6**2*xG/(-16.0*Ix*Iy*Zw - 16.0*Ix*Iy*m - 16.0*Ix*Mq*Zw - 16.0*Ix*Mq*m + 16.0*Ix*m**2*xG**2 + 16.0*Ixy**2*Zw + 16.0*Ixy**2*m - 16.0*Iy*Kp*Zw - 16.0*Iy*Kp*m - 16.0*Kp*Mq*Zw - 16.0*Kp*Mq*m + 16.0*Kp*m**2*xG**2) + Ixy*S2*m*r1*rho*u**2*u1*xG/(-16.0*Ix*Iy*Zw - 16.0*Ix*Iy*m - 16.0*Ix*Mq*Zw - 16.0*Ix*Mq*m + 16.0*Ix*m**2*xG**2 + 16.0*Ixy**2*Zw + 16.0*Ixy**2*m - 16.0*Iy*Kp*Zw - 16.0*Iy*Kp*m - 16.0*Kp*Mq*Zw - 16.0*Kp*Mq*m + 16.0*Kp*m**2*xG**2) - Ixy*S2*m*r1*rho*u**2*u2*xG/(-16.0*Ix*Iy*Zw - 16.0*Ix*Iy*m - 16.0*Ix*Mq*Zw - 16.0*Ix*Mq*m + 16.0*Ix*m**2*xG**2 + 16.0*Ixy**2*Zw + 16.0*Ixy**2*m - 16.0*Iy*Kp*Zw - 16.0*Iy*Kp*m - 16.0*Kp*Mq*Zw - 16.0*Kp*Mq*m + 16.0*Kp*m**2*xG**2) + Ixy*S2*m*r1*rho*u1*x2**2*xG/(-16.0*Ix*Iy*Zw - 16.0*Ix*Iy*m - 16.0*Ix*Mq*Zw - 16.0*Ix*Mq*m + 16.0*Ix*m**2*xG**2 + 16.0*Ixy**2*Zw + 16.0*Ixy**2*m - 16.0*Iy*Kp*Zw - 16.0*Iy*Kp*m - 16.0*Kp*Mq*Zw - 16.0*Kp*Mq*m + 16.0*Kp*m**2*xG**2) - Ixy*S2*m*r1*rho*u2*x2**2*xG/(-16.0*Ix*Iy*Zw - 16.0*Ix*Iy*m - 16.0*Ix*Mq*Zw - 16.0*Ix*Mq*m + 16.0*Ix*m**2*xG**2 + 16.0*Ixy**2*Zw + 16.0*Ixy**2*m - 16.0*Iy*Kp*Zw - 16.0*Iy*Kp*m - 16.0*Kp*Mq*Zw - 16.0*Kp*Mq*m + 16.0*Kp*m**2*xG**2) + 16.0*Ixy*dr1*m*x4*xG/(-16.0*Ix*Iy*Zw - 16.0*Ix*Iy*m - 16.0*Ix*Mq*Zw - 16.0*Ix*Mq*m + 16.0*Ix*m**2*xG**2 + 16.0*Ixy**2*Zw + 16.0*Ixy**2*m - 16.0*Iy*Kp*Zw - 16.0*Iy*Kp*m - 16.0*Kp*Mq*Zw - 16.0*Kp*Mq*m + 16.0*Kp*m**2*xG**2) + 16.0*Ixy*dr2*m*x4**2*xG/(-16.0*Ix*Iy*Zw - 16.0*Ix*Iy*m - 16.0*Ix*Mq*Zw - 16.0*Ix*Mq*m + 16.0*Ix*m**2*xG**2 + 16.0*Ixy**2*Zw + 16.0*Ixy**2*m - 16.0*Iy*Kp*Zw - 16.0*Iy*Kp*m - 16.0*Kp*Mq*Zw - 16.0*Kp*Mq*m + 16.0*Kp*m**2*xG**2) - 16.0*Ixz*Kp*m*x4**2*xG/(-16.0*Ix*Iy*Zw - 16.0*Ix*Iy*m - 16.0*Ix*Mq*Zw - 16.0*Ix*Mq*m + 16.0*Ix*m**2*xG**2 + 16.0*Ixy**2*Zw + 16.0*Ixy**2*m - 16.0*Iy*Kp*Zw - 16.0*Iy*Kp*m - 16.0*Kp*Mq*Zw - 16.0*Kp*Mq*m + 16.0*Kp*m**2*xG**2) - 2.0*Iy*Kp*S1*rho*u**2*x5/(-16.0*Ix*Iy*Zw - 16.0*Ix*Iy*m - 16.0*Ix*Mq*Zw - 16.0*Ix*Mq*m + 16.0*Ix*m**2*xG**2 + 16.0*Ixy**2*Zw + 16.0*Ixy**2*m - 16.0*Iy*Kp*Zw - 16.0*Iy*Kp*m - 16.0*Kp*Mq*Zw - 16.0*Kp*Mq*m + 16.0*Kp*m**2*xG**2) - 2.0*Iy*Kp*S1*rho*x2**2*x5/(-16.0*Ix*Iy*Zw - 16.0*Ix*Iy*m - 16.0*Ix*Mq*Zw - 16.0*Ix*Mq*m + 16.0*Ix*m**2*xG**2 + 16.0*Ixy**2*Zw + 16.0*Ixy**2*m - 16.0*Iy*Kp*Zw - 16.0*Iy*Kp*m - 16.0*Kp*Mq*Zw - 16.0*Kp*Mq*m + 16.0*Kp*m**2*xG**2) + Iy*Kp*S2*rho*u**2*u1/(-16.0*Ix*Iy*Zw - 16.0*Ix*Iy*m - 16.0*Ix*Mq*Zw - 16.0*Ix*Mq*m + 16.0*Ix*m**2*xG**2 + 16.0*Ixy**2*Zw + 16.0*Ixy**2*m - 16.0*Iy*Kp*Zw - 16.0*Iy*Kp*m - 16.0*Kp*Mq*Zw - 16.0*Kp*Mq*m + 16.0*Kp*m**2*xG**2) + Iy*Kp*S2*rho*u**2*u2/(-16.0*Ix*Iy*Zw - 16.0*Ix*Iy*m - 16.0*Ix*Mq*Zw - 16.0*Ix*Mq*m + 16.0*Ix*m**2*xG**2 + 16.0*Ixy**2*Zw + 16.0*Ixy**2*m - 16.0*Iy*Kp*Zw - 16.0*Iy*Kp*m - 16.0*Kp*Mq*Zw - 16.0*Kp*Mq*m + 16.0*Kp*m**2*xG**2) - 2.0*Iy*Kp*S2*rho*u**2*x5/(-16.0*Ix*Iy*Zw - 16.0*Ix*Iy*m - 16.0*Ix*Mq*Zw - 16.0*Ix*Mq*m + 16.0*Ix*m**2*xG**2 + 16.0*Ixy**2*Zw + 16.0*Ixy**2*m - 16.0*Iy*Kp*Zw - 16.0*Iy*Kp*m - 16.0*Kp*Mq*Zw - 16.0*Kp*Mq*m + 16.0*Kp*m**2*xG**2) + Iy*Kp*S2*rho*u1*x2**2/(-16.0*Ix*Iy*Zw - 16.0*Ix*Iy*m - 16.0*Ix*Mq*Zw - 16.0*Ix*Mq*m + 16.0*Ix*m**2*xG**2 + 16.0*Ixy**2*Zw + 16.0*Ixy**2*m - 16.0*Iy*Kp*Zw - 16.0*Iy*Kp*m - 16.0*Kp*Mq*Zw - 16.0*Kp*Mq*m + 16.0*Kp*m**2*xG**2) + Iy*Kp*S2*rho*u2*x2**2/(-16.0*Ix*Iy*Zw - 16.0*Ix*Iy*m - 16.0*Ix*Mq*Zw - 16.0*Ix*Mq*m + 16.0*Ix*m**2*xG**2 + 16.0*Ixy**2*Zw + 16.0*Ixy**2*m - 16.0*Iy*Kp*Zw - 16.0*Iy*Kp*m - 16.0*Kp*Mq*Zw - 16.0*Kp*Mq*m + 16.0*Kp*m**2*xG**2) - 2.0*Iy*Kp*S2*rho*x2**2*x5/(-16.0*Ix*Iy*Zw - 16.0*Ix*Iy*m - 16.0*Ix*Mq*Zw - 16.0*Ix*Mq*m + 16.0*Ix*m**2*xG**2 + 16.0*Ixy**2*Zw + 16.0*Ixy**2*m - 16.0*Iy*Kp*Zw - 16.0*Iy*Kp*m - 16.0*Kp*Mq*Zw - 16.0*Kp*Mq*m + 16.0*Kp*m**2*xG**2) - 2.0*Iy*Kp*S3*rho*u**2*x5/(-16.0*Ix*Iy*Zw - 16.0*Ix*Iy*m - 16.0*Ix*Mq*Zw - 16.0*Ix*Mq*m + 16.0*Ix*m**2*xG**2 + 16.0*Ixy**2*Zw + 16.0*Ixy**2*m - 16.0*Iy*Kp*Zw - 16.0*Iy*Kp*m - 16.0*Kp*Mq*Zw - 16.0*Kp*Mq*m + 16.0*Kp*m**2*xG**2) - 2.0*Iy*Kp*S3*rho*x2**2*x5/(-16.0*Ix*Iy*Zw - 16.0*Ix*Iy*m - 16.0*Ix*Mq*Zw - 16.0*Ix*Mq*m + 16.0*Ix*m**2*xG**2 + 16.0*Ixy**2*Zw + 16.0*Ixy**2*m - 16.0*Iy*Kp*Zw - 16.0*Iy*Kp*m - 16.0*Kp*Mq*Zw - 16.0*Kp*Mq*m + 16.0*Kp*m**2*xG**2) + 2.0*Iy*Kp*S4*rho*u**2*u3/(-16.0*Ix*Iy*Zw - 16.0*Ix*Iy*m - 16.0*Ix*Mq*Zw - 16.0*Ix*Mq*m + 16.0*Ix*m**2*xG**2 + 16.0*Ixy**2*Zw + 16.0*Ixy**2*m - 16.0*Iy*Kp*Zw - 16.0*Iy*Kp*m - 16.0*Kp*Mq*Zw - 16.0*Kp*Mq*m + 16.0*Kp*m**2*xG**2) - 2.0*Iy*Kp*S4*rho*u**2*x5/(-16.0*Ix*Iy*Zw - 16.0*Ix*Iy*m - 16.0*Ix*Mq*Zw - 16.0*Ix*Mq*m + 16.0*Ix*m**2*xG**2 + 16.0*Ixy**2*Zw + 16.0*Ixy**2*m - 16.0*Iy*Kp*Zw - 16.0*Iy*Kp*m - 16.0*Kp*Mq*Zw - 16.0*Kp*Mq*m + 16.0*Kp*m**2*xG**2) + 2.0*Iy*Kp*S4*rho*u3*x2**2/(-16.0*Ix*Iy*Zw - 16.0*Ix*Iy*m - 16.0*Ix*Mq*Zw - 16.0*Ix*Mq*m + 16.0*Ix*m**2*xG**2 + 16.0*Ixy**2*Zw + 16.0*Ixy**2*m - 16.0*Iy*Kp*Zw - 16.0*Iy*Kp*m - 16.0*Kp*Mq*Zw - 16.0*Kp*Mq*m + 16.0*Kp*m**2*xG**2) - 2.0*Iy*Kp*S4*rho*x2**2*x5/(-16.0*Ix*Iy*Zw - 16.0*Ix*Iy*m - 16.0*Ix*Mq*Zw - 16.0*Ix*Mq*m + 16.0*Ix*m**2*xG**2 + 16.0*Ixy**2*Zw + 16.0*Ixy**2*m - 16.0*Iy*Kp*Zw - 16.0*Iy*Kp*m - 16.0*Kp*Mq*Zw - 16.0*Kp*Mq*m + 16.0*Kp*m**2*xG**2) - 16.0*Iy*Kp*Vol*g*rho*sin(x5)/(-16.0*Ix*Iy*Zw - 16.0*Ix*Iy*m - 16.0*Ix*Mq*Zw - 16.0*Ix*Mq*m + 16.0*Ix*m**2*xG**2 + 16.0*Ixy**2*Zw + 16.0*Ixy**2*m - 16.0*Iy*Kp*Zw - 16.0*Iy*Kp*m - 16.0*Kp*Mq*Zw - 16.0*Kp*Mq*m + 16.0*Kp*m**2*xG**2) + 16.0*Iy*Kp*dh1*x2/(-16.0*Ix*Iy*Zw - 16.0*Ix*Iy*m - 16.0*Ix*Mq*Zw - 16.0*Ix*Mq*m + 16.0*Ix*m**2*xG**2 + 16.0*Ixy**2*Zw + 16.0*Ixy**2*m - 16.0*Iy*Kp*Zw - 16.0*Iy*Kp*m - 16.0*Kp*Mq*Zw - 16.0*Kp*Mq*m + 16.0*Kp*m**2*xG**2) + 16.0*Iy*Kp*dh2*x2**2/(-16.0*Ix*Iy*Zw - 16.0*Ix*Iy*m - 16.0*Ix*Mq*Zw - 16.0*Ix*Mq*m + 16.0*Ix*m**2*xG**2 + 16.0*Ixy**2*Zw + 16.0*Ixy**2*m - 16.0*Iy*Kp*Zw - 16.0*Iy*Kp*m - 16.0*Kp*Mq*Zw - 16.0*Kp*Mq*m + 16.0*Kp*m**2*xG**2) + 16.0*Iy*Kp*g*m*sin(x5)/(-16.0*Ix*Iy*Zw - 16.0*Ix*Iy*m - 16.0*Ix*Mq*Zw - 16.0*Ix*Mq*m + 16.0*Ix*m**2*xG**2 + 16.0*Ixy**2*Zw + 16.0*Ixy**2*m - 16.0*Iy*Kp*Zw - 16.0*Iy*Kp*m - 16.0*Kp*Mq*Zw - 16.0*Kp*Mq*m + 16.0*Kp*m**2*xG**2) + 16.0*Iy*Kp*m*u*x6/(-16.0*Ix*Iy*Zw - 16.0*Ix*Iy*m - 16.0*Ix*Mq*Zw - 16.0*Ix*Mq*m + 16.0*Ix*m**2*xG**2 + 16.0*Ixy**2*Zw + 16.0*Ixy**2*m - 16.0*Iy*Kp*Zw - 16.0*Iy*Kp*m - 16.0*Kp*Mq*Zw - 16.0*Kp*Mq*m + 16.0*Kp*m**2*xG**2) - 16.0*Iyz*Kp*m*x4*x6*xG/(-16.0*Ix*Iy*Zw - 16.0*Ix*Iy*m - 16.0*Ix*Mq*Zw - 16.0*Ix*Mq*m + 16.0*Ix*m**2*xG**2 + 16.0*Ixy**2*Zw + 16.0*Ixy**2*m - 16.0*Iy*Kp*Zw - 16.0*Iy*Kp*m - 16.0*Kp*Mq*Zw - 16.0*Kp*Mq*m + 16.0*Kp*m**2*xG**2) - 2.0*Kp*Mq*S1*rho*u**2*x5/(-16.0*Ix*Iy*Zw - 16.0*Ix*Iy*m - 16.0*Ix*Mq*Zw - 16.0*Ix*Mq*m + 16.0*Ix*m**2*xG**2 + 16.0*Ixy**2*Zw + 16.0*Ixy**2*m - 16.0*Iy*Kp*Zw - 16.0*Iy*Kp*m - 16.0*Kp*Mq*Zw - 16.0*Kp*Mq*m + 16.0*Kp*m**2*xG**2) - 2.0*Kp*Mq*S1*rho*x2**2*x5/(-16.0*Ix*Iy*Zw - 16.0*Ix*Iy*m - 16.0*Ix*Mq*Zw - 16.0*Ix*Mq*m + 16.0*Ix*m**2*xG**2 + 16.0*Ixy**2*Zw + 16.0*Ixy**2*m - 16.0*Iy*Kp*Zw - 16.0*Iy*Kp*m - 16.0*Kp*Mq*Zw - 16.0*Kp*Mq*m + 16.0*Kp*m**2*xG**2) + Kp*Mq*S2*rho*u**2*u1/(-16.0*Ix*Iy*Zw - 16.0*Ix*Iy*m - 16.0*Ix*Mq*Zw - 16.0*Ix*Mq*m + 16.0*Ix*m**2*xG**2 + 16.0*Ixy**2*Zw + 16.0*Ixy**2*m - 16.0*Iy*Kp*Zw - 16.0*Iy*Kp*m - 16.0*Kp*Mq*Zw - 16.0*Kp*Mq*m + 16.0*Kp*m**2*xG**2) + Kp*Mq*S2*rho*u**2*u2/(-16.0*Ix*Iy*Zw - 16.0*Ix*Iy*m - 16.0*Ix*Mq*Zw - 16.0*Ix*Mq*m + 16.0*Ix*m**2*xG**2 + 16.0*Ixy**2*Zw + 16.0*Ixy**2*m - 16.0*Iy*Kp*Zw - 16.0*Iy*Kp*m - 16.0*Kp*Mq*Zw - 16.0*Kp*Mq*m + 16.0*Kp*m**2*xG**2) - 2.0*Kp*Mq*S2*rho*u**2*x5/(-16.0*Ix*Iy*Zw - 16.0*Ix*Iy*m - 16.0*Ix*Mq*Zw - 16.0*Ix*Mq*m + 16.0*Ix*m**2*xG**2 + 16.0*Ixy**2*Zw + 16.0*Ixy**2*m - 16.0*Iy*Kp*Zw - 16.0*Iy*Kp*m - 16.0*Kp*Mq*Zw - 16.0*Kp*Mq*m + 16.0*Kp*m**2*xG**2) + Kp*Mq*S2*rho*u1*x2**2/(-16.0*Ix*Iy*Zw - 16.0*Ix*Iy*m - 16.0*Ix*Mq*Zw - 16.0*Ix*Mq*m + 16.0*Ix*m**2*xG**2 + 16.0*Ixy**2*Zw + 16.0*Ixy**2*m - 16.0*Iy*Kp*Zw - 16.0*Iy*Kp*m - 16.0*Kp*Mq*Zw - 16.0*Kp*Mq*m + 16.0*Kp*m**2*xG**2) + Kp*Mq*S2*rho*u2*x2**2/(-16.0*Ix*Iy*Zw - 16.0*Ix*Iy*m - 16.0*Ix*Mq*Zw - 16.0*Ix*Mq*m + 16.0*Ix*m**2*xG**2 + 16.0*Ixy**2*Zw + 16.0*Ixy**2*m - 16.0*Iy*Kp*Zw - 16.0*Iy*Kp*m - 16.0*Kp*Mq*Zw - 16.0*Kp*Mq*m + 16.0*Kp*m**2*xG**2) - 2.0*Kp*Mq*S2*rho*x2**2*x5/(-16.0*Ix*Iy*Zw - 16.0*Ix*Iy*m - 16.0*Ix*Mq*Zw - 16.0*Ix*Mq*m + 16.0*Ix*m**2*xG**2 + 16.0*Ixy**2*Zw + 16.0*Ixy**2*m - 16.0*Iy*Kp*Zw - 16.0*Iy*Kp*m - 16.0*Kp*Mq*Zw - 16.0*Kp*Mq*m + 16.0*Kp*m**2*xG**2) - 2.0*Kp*Mq*S3*rho*u**2*x5/(-16.0*Ix*Iy*Zw - 16.0*Ix*Iy*m - 16.0*Ix*Mq*Zw - 16.0*Ix*Mq*m + 16.0*Ix*m**2*xG**2 + 16.0*Ixy**2*Zw + 16.0*Ixy**2*m - 16.0*Iy*Kp*Zw - 16.0*Iy*Kp*m - 16.0*Kp*Mq*Zw - 16.0*Kp*Mq*m + 16.0*Kp*m**2*xG**2) - 2.0*Kp*Mq*S3*rho*x2**2*x5/(-16.0*Ix*Iy*Zw - 16.0*Ix*Iy*m - 16.0*Ix*Mq*Zw - 16.0*Ix*Mq*m + 16.0*Ix*m**2*xG**2 + 16.0*Ixy**2*Zw + 16.0*Ixy**2*m - 16.0*Iy*Kp*Zw - 16.0*Iy*Kp*m - 16.0*Kp*Mq*Zw - 16.0*Kp*Mq*m + 16.0*Kp*m**2*xG**2) + 2.0*Kp*Mq*S4*rho*u**2*u3/(-16.0*Ix*Iy*Zw - 16.0*Ix*Iy*m - 16.0*Ix*Mq*Zw - 16.0*Ix*Mq*m + 16.0*Ix*m**2*xG**2 + 16.0*Ixy**2*Zw + 16.0*Ixy**2*m - 16.0*Iy*Kp*Zw - 16.0*Iy*Kp*m - 16.0*Kp*Mq*Zw - 16.0*Kp*Mq*m + 16.0*Kp*m**2*xG**2) - 2.0*Kp*Mq*S4*rho*u**2*x5/(-16.0*Ix*Iy*Zw - 16.0*Ix*Iy*m - 16.0*Ix*Mq*Zw - 16.0*Ix*Mq*m + 16.0*Ix*m**2*xG**2 + 16.0*Ixy**2*Zw + 16.0*Ixy**2*m - 16.0*Iy*Kp*Zw - 16.0*Iy*Kp*m - 16.0*Kp*Mq*Zw - 16.0*Kp*Mq*m + 16.0*Kp*m**2*xG**2) + 2.0*Kp*Mq*S4*rho*u3*x2**2/(-16.0*Ix*Iy*Zw - 16.0*Ix*Iy*m - 16.0*Ix*Mq*Zw - 16.0*Ix*Mq*m + 16.0*Ix*m**2*xG**2 + 16.0*Ixy**2*Zw + 16.0*Ixy**2*m - 16.0*Iy*Kp*Zw - 16.0*Iy*Kp*m - 16.0*Kp*Mq*Zw - 16.0*Kp*Mq*m + 16.0*Kp*m**2*xG**2) - 2.0*Kp*Mq*S4*rho*x2**2*x5/(-16.0*Ix*Iy*Zw - 16.0*Ix*Iy*m - 16.0*Ix*Mq*Zw - 16.0*Ix*Mq*m + 16.0*Ix*m**2*xG**2 + 16.0*Ixy**2*Zw + 16.0*Ixy**2*m - 16.0*Iy*Kp*Zw - 16.0*Iy*Kp*m - 16.0*Kp*Mq*Zw - 16.0*Kp*Mq*m + 16.0*Kp*m**2*xG**2) - 16.0*Kp*Mq*Vol*g*rho*sin(x5)/(-16.0*Ix*Iy*Zw - 16.0*Ix*Iy*m - 16.0*Ix*Mq*Zw - 16.0*Ix*Mq*m + 16.0*Ix*m**2*xG**2 + 16.0*Ixy**2*Zw + 16.0*Ixy**2*m - 16.0*Iy*Kp*Zw - 16.0*Iy*Kp*m - 16.0*Kp*Mq*Zw - 16.0*Kp*Mq*m + 16.0*Kp*m**2*xG**2) + 16.0*Kp*Mq*dh1*x2/(-16.0*Ix*Iy*Zw - 16.0*Ix*Iy*m - 16.0*Ix*Mq*Zw - 16.0*Ix*Mq*m + 16.0*Ix*m**2*xG**2 + 16.0*Ixy**2*Zw + 16.0*Ixy**2*m - 16.0*Iy*Kp*Zw - 16.0*Iy*Kp*m - 16.0*Kp*Mq*Zw - 16.0*Kp*Mq*m + 16.0*Kp*m**2*xG**2) + 16.0*Kp*Mq*dh2*x2**2/(-16.0*Ix*Iy*Zw - 16.0*Ix*Iy*m - 16.0*Ix*Mq*Zw - 16.0*Ix*Mq*m + 16.0*Ix*m**2*xG**2 + 16.0*Ixy**2*Zw + 16.0*Ixy**2*m - 16.0*Iy*Kp*Zw - 16.0*Iy*Kp*m - 16.0*Kp*Mq*Zw - 16.0*Kp*Mq*m + 16.0*Kp*m**2*xG**2) + 16.0*Kp*Mq*g*m*sin(x5)/(-16.0*Ix*Iy*Zw - 16.0*Ix*Iy*m - 16.0*Ix*Mq*Zw - 16.0*Ix*Mq*m + 16.0*Ix*m**2*xG**2 + 16.0*Ixy**2*Zw + 16.0*Ixy**2*m - 16.0*Iy*Kp*Zw - 16.0*Iy*Kp*m - 16.0*Kp*Mq*Zw - 16.0*Kp*Mq*m + 16.0*Kp*m**2*xG**2) + 16.0*Kp*Mq*m*u*x6/(-16.0*Ix*Iy*Zw - 16.0*Ix*Iy*m - 16.0*Ix*Mq*Zw - 16.0*Ix*Mq*m + 16.0*Ix*m**2*xG**2 + 16.0*Ixy**2*Zw + 16.0*Ixy**2*m - 16.0*Iy*Kp*Zw - 16.0*Iy*Kp*m - 16.0*Kp*Mq*Zw - 16.0*Kp*Mq*m + 16.0*Kp*m**2*xG**2) - 2.0*Kp*S1*d1*m*rho*u**2*x5*xG/(-16.0*Ix*Iy*Zw - 16.0*Ix*Iy*m - 16.0*Ix*Mq*Zw - 16.0*Ix*Mq*m + 16.0*Ix*m**2*xG**2 + 16.0*Ixy**2*Zw + 16.0*Ixy**2*m - 16.0*Iy*Kp*Zw - 16.0*Iy*Kp*m - 16.0*Kp*Mq*Zw - 16.0*Kp*Mq*m + 16.0*Kp*m**2*xG**2) - 2.0*Kp*S1*d1*m*rho*x2**2*x5*xG/(-16.0*Ix*Iy*Zw - 16.0*Ix*Iy*m - 16.0*Ix*Mq*Zw - 16.0*Ix*Mq*m + 16.0*Ix*m**2*xG**2 + 16.0*Ixy**2*Zw + 16.0*Ixy**2*m - 16.0*Iy*Kp*Zw - 16.0*Iy*Kp*m - 16.0*Kp*Mq*Zw - 16.0*Kp*Mq*m + 16.0*Kp*m**2*xG**2) + Kp*S2*d2*m*rho*u**2*u1*xG/(-16.0*Ix*Iy*Zw - 16.0*Ix*Iy*m - 16.0*Ix*Mq*Zw - 16.0*Ix*Mq*m + 16.0*Ix*m**2*xG**2 + 16.0*Ixy**2*Zw + 16.0*Ixy**2*m - 16.0*Iy*Kp*Zw - 16.0*Iy*Kp*m - 16.0*Kp*Mq*Zw - 16.0*Kp*Mq*m + 16.0*Kp*m**2*xG**2) + Kp*S2*d2*m*rho*u**2*u2*xG/(-16.0*Ix*Iy*Zw - 16.0*Ix*Iy*m - 16.0*Ix*Mq*Zw - 16.0*Ix*Mq*m + 16.0*Ix*m**2*xG**2 + 16.0*Ixy**2*Zw + 16.0*Ixy**2*m - 16.0*Iy*Kp*Zw - 16.0*Iy*Kp*m - 16.0*Kp*Mq*Zw - 16.0*Kp*Mq*m + 16.0*Kp*m**2*xG**2) - 2.0*Kp*S2*d2*m*rho*u**2*x5*xG/(-16.0*Ix*Iy*Zw - 16.0*Ix*Iy*m - 16.0*Ix*Mq*Zw - 16.0*Ix*Mq*m + 16.0*Ix*m**2*xG**2 + 16.0*Ixy**2*Zw + 16.0*Ixy**2*m - 16.0*Iy*Kp*Zw - 16.0*Iy*Kp*m - 16.0*Kp*Mq*Zw - 16.0*Kp*Mq*m + 16.0*Kp*m**2*xG**2) + Kp*S2*d2*m*rho*u1*x2**2*xG/(-16.0*Ix*Iy*Zw - 16.0*Ix*Iy*m - 16.0*Ix*Mq*Zw - 16.0*Ix*Mq*m + 16.0*Ix*m**2*xG**2 + 16.0*Ixy**2*Zw + 16.0*Ixy**2*m - 16.0*Iy*Kp*Zw - 16.0*Iy*Kp*m - 16.0*Kp*Mq*Zw - 16.0*Kp*Mq*m + 16.0*Kp*m**2*xG**2) + Kp*S2*d2*m*rho*u2*x2**2*xG/(-16.0*Ix*Iy*Zw - 16.0*Ix*Iy*m - 16.0*Ix*Mq*Zw - 16.0*Ix*Mq*m + 16.0*Ix*m**2*xG**2 + 16.0*Ixy**2*Zw + 16.0*Ixy**2*m - 16.0*Iy*Kp*Zw - 16.0*Iy*Kp*m - 16.0*Kp*Mq*Zw - 16.0*Kp*Mq*m + 16.0*Kp*m**2*xG**2) - 2.0*Kp*S2*d2*m*rho*x2**2*x5*xG/(-16.0*Ix*Iy*Zw - 16.0*Ix*Iy*m - 16.0*Ix*Mq*Zw - 16.0*Ix*Mq*m + 16.0*Ix*m**2*xG**2 + 16.0*Ixy**2*Zw + 16.0*Ixy**2*m - 16.0*Iy*Kp*Zw - 16.0*Iy*Kp*m - 16.0*Kp*Mq*Zw - 16.0*Kp*Mq*m + 16.0*Kp*m**2*xG**2) - 2.0*Kp*S3*d3*m*rho*u**2*x5*xG/(-16.0*Ix*Iy*Zw - 16.0*Ix*Iy*m - 16.0*Ix*Mq*Zw - 16.0*Ix*Mq*m + 16.0*Ix*m**2*xG**2 + 16.0*Ixy**2*Zw + 16.0*Ixy**2*m - 16.0*Iy*Kp*Zw - 16.0*Iy*Kp*m - 16.0*Kp*Mq*Zw - 16.0*Kp*Mq*m + 16.0*Kp*m**2*xG**2) - 2.0*Kp*S3*d3*m*rho*x2**2*x5*xG/(-16.0*Ix*Iy*Zw - 16.0*Ix*Iy*m - 16.0*Ix*Mq*Zw - 16.0*Ix*Mq*m + 16.0*Ix*m**2*xG**2 + 16.0*Ixy**2*Zw + 16.0*Ixy**2*m - 16.0*Iy*Kp*Zw - 16.0*Iy*Kp*m - 16.0*Kp*Mq*Zw - 16.0*Kp*Mq*m + 16.0*Kp*m**2*xG**2) + 2.0*Kp*S4*d4*m*rho*u**2*u3*xG/(-16.0*Ix*Iy*Zw - 16.0*Ix*Iy*m - 16.0*Ix*Mq*Zw - 16.0*Ix*Mq*m + 16.0*Ix*m**2*xG**2 + 16.0*Ixy**2*Zw + 16.0*Ixy**2*m - 16.0*Iy*Kp*Zw - 16.0*Iy*Kp*m - 16.0*Kp*Mq*Zw - 16.0*Kp*Mq*m + 16.0*Kp*m**2*xG**2) - 2.0*Kp*S4*d4*m*rho*u**2*x5*xG/(-16.0*Ix*Iy*Zw - 16.0*Ix*Iy*m - 16.0*Ix*Mq*Zw - 16.0*Ix*Mq*m + 16.0*Ix*m**2*xG**2 + 16.0*Ixy**2*Zw + 16.0*Ixy**2*m - 16.0*Iy*Kp*Zw - 16.0*Iy*Kp*m - 16.0*Kp*Mq*Zw - 16.0*Kp*Mq*m + 16.0*Kp*m**2*xG**2) + 2.0*Kp*S4*d4*m*rho*u3*x2**2*xG/(-16.0*Ix*Iy*Zw - 16.0*Ix*Iy*m - 16.0*Ix*Mq*Zw - 16.0*Ix*Mq*m + 16.0*Ix*m**2*xG**2 + 16.0*Ixy**2*Zw + 16.0*Ixy**2*m - 16.0*Iy*Kp*Zw - 16.0*Iy*Kp*m - 16.0*Kp*Mq*Zw - 16.0*Kp*Mq*m + 16.0*Kp*m**2*xG**2) - 2.0*Kp*S4*d4*m*rho*x2**2*x5*xG/(-16.0*Ix*Iy*Zw - 16.0*Ix*Iy*m - 16.0*Ix*Mq*Zw - 16.0*Ix*Mq*m + 16.0*Ix*m**2*xG**2 + 16.0*Ixy**2*Zw + 16.0*Ixy**2*m - 16.0*Iy*Kp*Zw - 16.0*Iy*Kp*m - 16.0*Kp*Mq*Zw - 16.0*Kp*Mq*m + 16.0*Kp*m**2*xG**2) - 16.0*Kp*Vol*db*g*m*rho*xG*sin(x5)/(-16.0*Ix*Iy*Zw - 16.0*Ix*Iy*m - 16.0*Ix*Mq*Zw - 16.0*Ix*Mq*m + 16.0*Ix*m**2*xG**2 + 16.0*Ixy**2*Zw + 16.0*Ixy**2*m - 16.0*Iy*Kp*Zw - 16.0*Iy*Kp*m - 16.0*Kp*Mq*Zw - 16.0*Kp*Mq*m + 16.0*Kp*m**2*xG**2) - 16.0*Kp*Zw*m*u*x2*xG/(-16.0*Ix*Iy*Zw - 16.0*Ix*Iy*m - 16.0*Ix*Mq*Zw - 16.0*Ix*Mq*m + 16.0*Ix*m**2*xG**2 + 16.0*Ixy**2*Zw + 16.0*Ixy**2*m - 16.0*Iy*Kp*Zw - 16.0*Iy*Kp*m - 16.0*Kp*Mq*Zw - 16.0*Kp*Mq*m + 16.0*Kp*m**2*xG**2) + 16.0*Kp*dg*g*m**2*xG*sin(x5)/(-16.0*Ix*Iy*Zw - 16.0*Ix*Iy*m - 16.0*Ix*Mq*Zw - 16.0*Ix*Mq*m + 16.0*Ix*m**2*xG**2 + 16.0*Ixy**2*Zw + 16.0*Ixy**2*m - 16.0*Iy*Kp*Zw - 16.0*Iy*Kp*m - 16.0*Kp*Mq*Zw - 16.0*Kp*Mq*m + 16.0*Kp*m**2*xG**2) + 16.0*Kp*dp1*m*x6*xG/(-16.0*Ix*Iy*Zw - 16.0*Ix*Iy*m - 16.0*Ix*Mq*Zw - 16.0*Ix*Mq*m + 16.0*Ix*m**2*xG**2 + 16.0*Ixy**2*Zw + 16.0*Ixy**2*m - 16.0*Iy*Kp*Zw - 16.0*Iy*Kp*m - 16.0*Kp*Mq*Zw - 16.0*Kp*Mq*m + 16.0*Kp*m**2*xG**2) + 16.0*Kp*dp2*m*x6**2*xG/(-16.0*Ix*Iy*Zw - 16.0*Ix*Iy*m - 16.0*Ix*Mq*Zw - 16.0*Ix*Mq*m + 16.0*Ix*m**2*xG**2 + 16.0*Ixy**2*Zw + 16.0*Ixy**2*m - 16.0*Iy*Kp*Zw - 16.0*Iy*Kp*m - 16.0*Kp*Mq*Zw - 16.0*Kp*Mq*m + 16.0*Kp*m**2*xG**2) - 16.0*Kp*m**2*u*x6*xG**2/(-16.0*Ix*Iy*Zw - 16.0*Ix*Iy*m - 16.0*Ix*Mq*Zw - 16.0*Ix*Mq*m + 16.0*Ix*m**2*xG**2 + 16.0*Ixy**2*Zw + 16.0*Ixy**2*m - 16.0*Iy*Kp*Zw - 16.0*Iy*Kp*m - 16.0*Kp*Mq*Zw - 16.0*Kp*Mq*m + 16.0*Kp*m**2*xG**2)"
   ]
  },
  {
   "cell_type": "code",
   "execution_count": 22,
   "id": "suspected-alfred",
   "metadata": {},
   "outputs": [],
   "source": [
    "x4d = -16.0*Ixy*Ixz*Zw*x4**2/(-16.0*Ix*Iy*Zw - 16.0*Ix*Iy*m - 16.0*Ix*Mq*Zw - 16.0*Ix*Mq*m + 16.0*Ix*m**2*xG**2 + 16.0*Ixy**2*Zw + 16.0*Ixy**2*m - 16.0*Iy*Kp*Zw - 16.0*Iy*Kp*m - 16.0*Kp*Mq*Zw - 16.0*Kp*Mq*m + 16.0*Kp*m**2*xG**2) - 16.0*Ixy*Ixz*m*x4**2/(-16.0*Ix*Iy*Zw - 16.0*Ix*Iy*m - 16.0*Ix*Mq*Zw - 16.0*Ix*Mq*m + 16.0*Ix*m**2*xG**2 + 16.0*Ixy**2*Zw + 16.0*Ixy**2*m - 16.0*Iy*Kp*Zw - 16.0*Iy*Kp*m - 16.0*Kp*Mq*Zw - 16.0*Kp*Mq*m + 16.0*Kp*m**2*xG**2) - 16.0*Ixy*Iyz*Zw*x4*x6/(-16.0*Ix*Iy*Zw - 16.0*Ix*Iy*m - 16.0*Ix*Mq*Zw - 16.0*Ix*Mq*m + 16.0*Ix*m**2*xG**2 + 16.0*Ixy**2*Zw + 16.0*Ixy**2*m - 16.0*Iy*Kp*Zw - 16.0*Iy*Kp*m - 16.0*Kp*Mq*Zw - 16.0*Kp*Mq*m + 16.0*Kp*m**2*xG**2) - 16.0*Ixy*Iyz*m*x4*x6/(-16.0*Ix*Iy*Zw - 16.0*Ix*Iy*m - 16.0*Ix*Mq*Zw - 16.0*Ix*Mq*m + 16.0*Ix*m**2*xG**2 + 16.0*Ixy**2*Zw + 16.0*Ixy**2*m - 16.0*Iy*Kp*Zw - 16.0*Iy*Kp*m - 16.0*Kp*Mq*Zw - 16.0*Kp*Mq*m + 16.0*Kp*m**2*xG**2) - 2.0*Ixy*S1*Zw*d1*rho*u**2*x5/(-16.0*Ix*Iy*Zw - 16.0*Ix*Iy*m - 16.0*Ix*Mq*Zw - 16.0*Ix*Mq*m + 16.0*Ix*m**2*xG**2 + 16.0*Ixy**2*Zw + 16.0*Ixy**2*m - 16.0*Iy*Kp*Zw - 16.0*Iy*Kp*m - 16.0*Kp*Mq*Zw - 16.0*Kp*Mq*m + 16.0*Kp*m**2*xG**2) - 2.0*Ixy*S1*Zw*d1*rho*x2**2*x5/(-16.0*Ix*Iy*Zw - 16.0*Ix*Iy*m - 16.0*Ix*Mq*Zw - 16.0*Ix*Mq*m + 16.0*Ix*m**2*xG**2 + 16.0*Ixy**2*Zw + 16.0*Ixy**2*m - 16.0*Iy*Kp*Zw - 16.0*Iy*Kp*m - 16.0*Kp*Mq*Zw - 16.0*Kp*Mq*m + 16.0*Kp*m**2*xG**2) - 2.0*Ixy*S1*d1*m*rho*u**2*x5/(-16.0*Ix*Iy*Zw - 16.0*Ix*Iy*m - 16.0*Ix*Mq*Zw - 16.0*Ix*Mq*m + 16.0*Ix*m**2*xG**2 + 16.0*Ixy**2*Zw + 16.0*Ixy**2*m - 16.0*Iy*Kp*Zw - 16.0*Iy*Kp*m - 16.0*Kp*Mq*Zw - 16.0*Kp*Mq*m + 16.0*Kp*m**2*xG**2) - 2.0*Ixy*S1*d1*m*rho*x2**2*x5/(-16.0*Ix*Iy*Zw - 16.0*Ix*Iy*m - 16.0*Ix*Mq*Zw - 16.0*Ix*Mq*m + 16.0*Ix*m**2*xG**2 + 16.0*Ixy**2*Zw + 16.0*Ixy**2*m - 16.0*Iy*Kp*Zw - 16.0*Iy*Kp*m - 16.0*Kp*Mq*Zw - 16.0*Kp*Mq*m + 16.0*Kp*m**2*xG**2) - 2.0*Ixy*S1*m*rho*u**2*x5*xG/(-16.0*Ix*Iy*Zw - 16.0*Ix*Iy*m - 16.0*Ix*Mq*Zw - 16.0*Ix*Mq*m + 16.0*Ix*m**2*xG**2 + 16.0*Ixy**2*Zw + 16.0*Ixy**2*m - 16.0*Iy*Kp*Zw - 16.0*Iy*Kp*m - 16.0*Kp*Mq*Zw - 16.0*Kp*Mq*m + 16.0*Kp*m**2*xG**2) - 2.0*Ixy*S1*m*rho*x2**2*x5*xG/(-16.0*Ix*Iy*Zw - 16.0*Ix*Iy*m - 16.0*Ix*Mq*Zw - 16.0*Ix*Mq*m + 16.0*Ix*m**2*xG**2 + 16.0*Ixy**2*Zw + 16.0*Ixy**2*m - 16.0*Iy*Kp*Zw - 16.0*Iy*Kp*m - 16.0*Kp*Mq*Zw - 16.0*Kp*Mq*m + 16.0*Kp*m**2*xG**2) + Ixy*S2*Zw*d2*rho*u**2*u1/(-16.0*Ix*Iy*Zw - 16.0*Ix*Iy*m - 16.0*Ix*Mq*Zw - 16.0*Ix*Mq*m + 16.0*Ix*m**2*xG**2 + 16.0*Ixy**2*Zw + 16.0*Ixy**2*m - 16.0*Iy*Kp*Zw - 16.0*Iy*Kp*m - 16.0*Kp*Mq*Zw - 16.0*Kp*Mq*m + 16.0*Kp*m**2*xG**2) + Ixy*S2*Zw*d2*rho*u**2*u2/(-16.0*Ix*Iy*Zw - 16.0*Ix*Iy*m - 16.0*Ix*Mq*Zw - 16.0*Ix*Mq*m + 16.0*Ix*m**2*xG**2 + 16.0*Ixy**2*Zw + 16.0*Ixy**2*m - 16.0*Iy*Kp*Zw - 16.0*Iy*Kp*m - 16.0*Kp*Mq*Zw - 16.0*Kp*Mq*m + 16.0*Kp*m**2*xG**2) - 2.0*Ixy*S2*Zw*d2*rho*u**2*x5/(-16.0*Ix*Iy*Zw - 16.0*Ix*Iy*m - 16.0*Ix*Mq*Zw - 16.0*Ix*Mq*m + 16.0*Ix*m**2*xG**2 + 16.0*Ixy**2*Zw + 16.0*Ixy**2*m - 16.0*Iy*Kp*Zw - 16.0*Iy*Kp*m - 16.0*Kp*Mq*Zw - 16.0*Kp*Mq*m + 16.0*Kp*m**2*xG**2) + Ixy*S2*Zw*d2*rho*u1*x2**2/(-16.0*Ix*Iy*Zw - 16.0*Ix*Iy*m - 16.0*Ix*Mq*Zw - 16.0*Ix*Mq*m + 16.0*Ix*m**2*xG**2 + 16.0*Ixy**2*Zw + 16.0*Ixy**2*m - 16.0*Iy*Kp*Zw - 16.0*Iy*Kp*m - 16.0*Kp*Mq*Zw - 16.0*Kp*Mq*m + 16.0*Kp*m**2*xG**2) + Ixy*S2*Zw*d2*rho*u2*x2**2/(-16.0*Ix*Iy*Zw - 16.0*Ix*Iy*m - 16.0*Ix*Mq*Zw - 16.0*Ix*Mq*m + 16.0*Ix*m**2*xG**2 + 16.0*Ixy**2*Zw + 16.0*Ixy**2*m - 16.0*Iy*Kp*Zw - 16.0*Iy*Kp*m - 16.0*Kp*Mq*Zw - 16.0*Kp*Mq*m + 16.0*Kp*m**2*xG**2) - 2.0*Ixy*S2*Zw*d2*rho*x2**2*x5/(-16.0*Ix*Iy*Zw - 16.0*Ix*Iy*m - 16.0*Ix*Mq*Zw - 16.0*Ix*Mq*m + 16.0*Ix*m**2*xG**2 + 16.0*Ixy**2*Zw + 16.0*Ixy**2*m - 16.0*Iy*Kp*Zw - 16.0*Iy*Kp*m - 16.0*Kp*Mq*Zw - 16.0*Kp*Mq*m + 16.0*Kp*m**2*xG**2) + Ixy*S2*d2*m*rho*u**2*u1/(-16.0*Ix*Iy*Zw - 16.0*Ix*Iy*m - 16.0*Ix*Mq*Zw - 16.0*Ix*Mq*m + 16.0*Ix*m**2*xG**2 + 16.0*Ixy**2*Zw + 16.0*Ixy**2*m - 16.0*Iy*Kp*Zw - 16.0*Iy*Kp*m - 16.0*Kp*Mq*Zw - 16.0*Kp*Mq*m + 16.0*Kp*m**2*xG**2) + Ixy*S2*d2*m*rho*u**2*u2/(-16.0*Ix*Iy*Zw - 16.0*Ix*Iy*m - 16.0*Ix*Mq*Zw - 16.0*Ix*Mq*m + 16.0*Ix*m**2*xG**2 + 16.0*Ixy**2*Zw + 16.0*Ixy**2*m - 16.0*Iy*Kp*Zw - 16.0*Iy*Kp*m - 16.0*Kp*Mq*Zw - 16.0*Kp*Mq*m + 16.0*Kp*m**2*xG**2) - 2.0*Ixy*S2*d2*m*rho*u**2*x5/(-16.0*Ix*Iy*Zw - 16.0*Ix*Iy*m - 16.0*Ix*Mq*Zw - 16.0*Ix*Mq*m + 16.0*Ix*m**2*xG**2 + 16.0*Ixy**2*Zw + 16.0*Ixy**2*m - 16.0*Iy*Kp*Zw - 16.0*Iy*Kp*m - 16.0*Kp*Mq*Zw - 16.0*Kp*Mq*m + 16.0*Kp*m**2*xG**2) + Ixy*S2*d2*m*rho*u1*x2**2/(-16.0*Ix*Iy*Zw - 16.0*Ix*Iy*m - 16.0*Ix*Mq*Zw - 16.0*Ix*Mq*m + 16.0*Ix*m**2*xG**2 + 16.0*Ixy**2*Zw + 16.0*Ixy**2*m - 16.0*Iy*Kp*Zw - 16.0*Iy*Kp*m - 16.0*Kp*Mq*Zw - 16.0*Kp*Mq*m + 16.0*Kp*m**2*xG**2) + Ixy*S2*d2*m*rho*u2*x2**2/(-16.0*Ix*Iy*Zw - 16.0*Ix*Iy*m - 16.0*Ix*Mq*Zw - 16.0*Ix*Mq*m + 16.0*Ix*m**2*xG**2 + 16.0*Ixy**2*Zw + 16.0*Ixy**2*m - 16.0*Iy*Kp*Zw - 16.0*Iy*Kp*m - 16.0*Kp*Mq*Zw - 16.0*Kp*Mq*m + 16.0*Kp*m**2*xG**2) - 2.0*Ixy*S2*d2*m*rho*x2**2*x5/(-16.0*Ix*Iy*Zw - 16.0*Ix*Iy*m - 16.0*Ix*Mq*Zw - 16.0*Ix*Mq*m + 16.0*Ix*m**2*xG**2 + 16.0*Ixy**2*Zw + 16.0*Ixy**2*m - 16.0*Iy*Kp*Zw - 16.0*Iy*Kp*m - 16.0*Kp*Mq*Zw - 16.0*Kp*Mq*m + 16.0*Kp*m**2*xG**2) + Ixy*S2*m*rho*u**2*u1*xG/(-16.0*Ix*Iy*Zw - 16.0*Ix*Iy*m - 16.0*Ix*Mq*Zw - 16.0*Ix*Mq*m + 16.0*Ix*m**2*xG**2 + 16.0*Ixy**2*Zw + 16.0*Ixy**2*m - 16.0*Iy*Kp*Zw - 16.0*Iy*Kp*m - 16.0*Kp*Mq*Zw - 16.0*Kp*Mq*m + 16.0*Kp*m**2*xG**2) + Ixy*S2*m*rho*u**2*u2*xG/(-16.0*Ix*Iy*Zw - 16.0*Ix*Iy*m - 16.0*Ix*Mq*Zw - 16.0*Ix*Mq*m + 16.0*Ix*m**2*xG**2 + 16.0*Ixy**2*Zw + 16.0*Ixy**2*m - 16.0*Iy*Kp*Zw - 16.0*Iy*Kp*m - 16.0*Kp*Mq*Zw - 16.0*Kp*Mq*m + 16.0*Kp*m**2*xG**2) - 2.0*Ixy*S2*m*rho*u**2*x5*xG/(-16.0*Ix*Iy*Zw - 16.0*Ix*Iy*m - 16.0*Ix*Mq*Zw - 16.0*Ix*Mq*m + 16.0*Ix*m**2*xG**2 + 16.0*Ixy**2*Zw + 16.0*Ixy**2*m - 16.0*Iy*Kp*Zw - 16.0*Iy*Kp*m - 16.0*Kp*Mq*Zw - 16.0*Kp*Mq*m + 16.0*Kp*m**2*xG**2) + Ixy*S2*m*rho*u1*x2**2*xG/(-16.0*Ix*Iy*Zw - 16.0*Ix*Iy*m - 16.0*Ix*Mq*Zw - 16.0*Ix*Mq*m + 16.0*Ix*m**2*xG**2 + 16.0*Ixy**2*Zw + 16.0*Ixy**2*m - 16.0*Iy*Kp*Zw - 16.0*Iy*Kp*m - 16.0*Kp*Mq*Zw - 16.0*Kp*Mq*m + 16.0*Kp*m**2*xG**2) + Ixy*S2*m*rho*u2*x2**2*xG/(-16.0*Ix*Iy*Zw - 16.0*Ix*Iy*m - 16.0*Ix*Mq*Zw - 16.0*Ix*Mq*m + 16.0*Ix*m**2*xG**2 + 16.0*Ixy**2*Zw + 16.0*Ixy**2*m - 16.0*Iy*Kp*Zw - 16.0*Iy*Kp*m - 16.0*Kp*Mq*Zw - 16.0*Kp*Mq*m + 16.0*Kp*m**2*xG**2) - 2.0*Ixy*S2*m*rho*x2**2*x5*xG/(-16.0*Ix*Iy*Zw - 16.0*Ix*Iy*m - 16.0*Ix*Mq*Zw - 16.0*Ix*Mq*m + 16.0*Ix*m**2*xG**2 + 16.0*Ixy**2*Zw + 16.0*Ixy**2*m - 16.0*Iy*Kp*Zw - 16.0*Iy*Kp*m - 16.0*Kp*Mq*Zw - 16.0*Kp*Mq*m + 16.0*Kp*m**2*xG**2) - 2.0*Ixy*S3*Zw*d3*rho*u**2*x5/(-16.0*Ix*Iy*Zw - 16.0*Ix*Iy*m - 16.0*Ix*Mq*Zw - 16.0*Ix*Mq*m + 16.0*Ix*m**2*xG**2 + 16.0*Ixy**2*Zw + 16.0*Ixy**2*m - 16.0*Iy*Kp*Zw - 16.0*Iy*Kp*m - 16.0*Kp*Mq*Zw - 16.0*Kp*Mq*m + 16.0*Kp*m**2*xG**2) - 2.0*Ixy*S3*Zw*d3*rho*x2**2*x5/(-16.0*Ix*Iy*Zw - 16.0*Ix*Iy*m - 16.0*Ix*Mq*Zw - 16.0*Ix*Mq*m + 16.0*Ix*m**2*xG**2 + 16.0*Ixy**2*Zw + 16.0*Ixy**2*m - 16.0*Iy*Kp*Zw - 16.0*Iy*Kp*m - 16.0*Kp*Mq*Zw - 16.0*Kp*Mq*m + 16.0*Kp*m**2*xG**2) - 2.0*Ixy*S3*d3*m*rho*u**2*x5/(-16.0*Ix*Iy*Zw - 16.0*Ix*Iy*m - 16.0*Ix*Mq*Zw - 16.0*Ix*Mq*m + 16.0*Ix*m**2*xG**2 + 16.0*Ixy**2*Zw + 16.0*Ixy**2*m - 16.0*Iy*Kp*Zw - 16.0*Iy*Kp*m - 16.0*Kp*Mq*Zw - 16.0*Kp*Mq*m + 16.0*Kp*m**2*xG**2) - 2.0*Ixy*S3*d3*m*rho*x2**2*x5/(-16.0*Ix*Iy*Zw - 16.0*Ix*Iy*m - 16.0*Ix*Mq*Zw - 16.0*Ix*Mq*m + 16.0*Ix*m**2*xG**2 + 16.0*Ixy**2*Zw + 16.0*Ixy**2*m - 16.0*Iy*Kp*Zw - 16.0*Iy*Kp*m - 16.0*Kp*Mq*Zw - 16.0*Kp*Mq*m + 16.0*Kp*m**2*xG**2) - 2.0*Ixy*S3*m*rho*u**2*x5*xG/(-16.0*Ix*Iy*Zw - 16.0*Ix*Iy*m - 16.0*Ix*Mq*Zw - 16.0*Ix*Mq*m + 16.0*Ix*m**2*xG**2 + 16.0*Ixy**2*Zw + 16.0*Ixy**2*m - 16.0*Iy*Kp*Zw - 16.0*Iy*Kp*m - 16.0*Kp*Mq*Zw - 16.0*Kp*Mq*m + 16.0*Kp*m**2*xG**2) - 2.0*Ixy*S3*m*rho*x2**2*x5*xG/(-16.0*Ix*Iy*Zw - 16.0*Ix*Iy*m - 16.0*Ix*Mq*Zw - 16.0*Ix*Mq*m + 16.0*Ix*m**2*xG**2 + 16.0*Ixy**2*Zw + 16.0*Ixy**2*m - 16.0*Iy*Kp*Zw - 16.0*Iy*Kp*m - 16.0*Kp*Mq*Zw - 16.0*Kp*Mq*m + 16.0*Kp*m**2*xG**2) + 2.0*Ixy*S4*Zw*d4*rho*u**2*u3/(-16.0*Ix*Iy*Zw - 16.0*Ix*Iy*m - 16.0*Ix*Mq*Zw - 16.0*Ix*Mq*m + 16.0*Ix*m**2*xG**2 + 16.0*Ixy**2*Zw + 16.0*Ixy**2*m - 16.0*Iy*Kp*Zw - 16.0*Iy*Kp*m - 16.0*Kp*Mq*Zw - 16.0*Kp*Mq*m + 16.0*Kp*m**2*xG**2) - 2.0*Ixy*S4*Zw*d4*rho*u**2*x5/(-16.0*Ix*Iy*Zw - 16.0*Ix*Iy*m - 16.0*Ix*Mq*Zw - 16.0*Ix*Mq*m + 16.0*Ix*m**2*xG**2 + 16.0*Ixy**2*Zw + 16.0*Ixy**2*m - 16.0*Iy*Kp*Zw - 16.0*Iy*Kp*m - 16.0*Kp*Mq*Zw - 16.0*Kp*Mq*m + 16.0*Kp*m**2*xG**2) + 2.0*Ixy*S4*Zw*d4*rho*u3*x2**2/(-16.0*Ix*Iy*Zw - 16.0*Ix*Iy*m - 16.0*Ix*Mq*Zw - 16.0*Ix*Mq*m + 16.0*Ix*m**2*xG**2 + 16.0*Ixy**2*Zw + 16.0*Ixy**2*m - 16.0*Iy*Kp*Zw - 16.0*Iy*Kp*m - 16.0*Kp*Mq*Zw - 16.0*Kp*Mq*m + 16.0*Kp*m**2*xG**2) - 2.0*Ixy*S4*Zw*d4*rho*x2**2*x5/(-16.0*Ix*Iy*Zw - 16.0*Ix*Iy*m - 16.0*Ix*Mq*Zw - 16.0*Ix*Mq*m + 16.0*Ix*m**2*xG**2 + 16.0*Ixy**2*Zw + 16.0*Ixy**2*m - 16.0*Iy*Kp*Zw - 16.0*Iy*Kp*m - 16.0*Kp*Mq*Zw - 16.0*Kp*Mq*m + 16.0*Kp*m**2*xG**2) + 2.0*Ixy*S4*d4*m*rho*u**2*u3/(-16.0*Ix*Iy*Zw - 16.0*Ix*Iy*m - 16.0*Ix*Mq*Zw - 16.0*Ix*Mq*m + 16.0*Ix*m**2*xG**2 + 16.0*Ixy**2*Zw + 16.0*Ixy**2*m - 16.0*Iy*Kp*Zw - 16.0*Iy*Kp*m - 16.0*Kp*Mq*Zw - 16.0*Kp*Mq*m + 16.0*Kp*m**2*xG**2) - 2.0*Ixy*S4*d4*m*rho*u**2*x5/(-16.0*Ix*Iy*Zw - 16.0*Ix*Iy*m - 16.0*Ix*Mq*Zw - 16.0*Ix*Mq*m + 16.0*Ix*m**2*xG**2 + 16.0*Ixy**2*Zw + 16.0*Ixy**2*m - 16.0*Iy*Kp*Zw - 16.0*Iy*Kp*m - 16.0*Kp*Mq*Zw - 16.0*Kp*Mq*m + 16.0*Kp*m**2*xG**2) + 2.0*Ixy*S4*d4*m*rho*u3*x2**2/(-16.0*Ix*Iy*Zw - 16.0*Ix*Iy*m - 16.0*Ix*Mq*Zw - 16.0*Ix*Mq*m + 16.0*Ix*m**2*xG**2 + 16.0*Ixy**2*Zw + 16.0*Ixy**2*m - 16.0*Iy*Kp*Zw - 16.0*Iy*Kp*m - 16.0*Kp*Mq*Zw - 16.0*Kp*Mq*m + 16.0*Kp*m**2*xG**2) - 2.0*Ixy*S4*d4*m*rho*x2**2*x5/(-16.0*Ix*Iy*Zw - 16.0*Ix*Iy*m - 16.0*Ix*Mq*Zw - 16.0*Ix*Mq*m + 16.0*Ix*m**2*xG**2 + 16.0*Ixy**2*Zw + 16.0*Ixy**2*m - 16.0*Iy*Kp*Zw - 16.0*Iy*Kp*m - 16.0*Kp*Mq*Zw - 16.0*Kp*Mq*m + 16.0*Kp*m**2*xG**2) + 2.0*Ixy*S4*m*rho*u**2*u3*xG/(-16.0*Ix*Iy*Zw - 16.0*Ix*Iy*m - 16.0*Ix*Mq*Zw - 16.0*Ix*Mq*m + 16.0*Ix*m**2*xG**2 + 16.0*Ixy**2*Zw + 16.0*Ixy**2*m - 16.0*Iy*Kp*Zw - 16.0*Iy*Kp*m - 16.0*Kp*Mq*Zw - 16.0*Kp*Mq*m + 16.0*Kp*m**2*xG**2) - 2.0*Ixy*S4*m*rho*u**2*x5*xG/(-16.0*Ix*Iy*Zw - 16.0*Ix*Iy*m - 16.0*Ix*Mq*Zw - 16.0*Ix*Mq*m + 16.0*Ix*m**2*xG**2 + 16.0*Ixy**2*Zw + 16.0*Ixy**2*m - 16.0*Iy*Kp*Zw - 16.0*Iy*Kp*m - 16.0*Kp*Mq*Zw - 16.0*Kp*Mq*m + 16.0*Kp*m**2*xG**2) + 2.0*Ixy*S4*m*rho*u3*x2**2*xG/(-16.0*Ix*Iy*Zw - 16.0*Ix*Iy*m - 16.0*Ix*Mq*Zw - 16.0*Ix*Mq*m + 16.0*Ix*m**2*xG**2 + 16.0*Ixy**2*Zw + 16.0*Ixy**2*m - 16.0*Iy*Kp*Zw - 16.0*Iy*Kp*m - 16.0*Kp*Mq*Zw - 16.0*Kp*Mq*m + 16.0*Kp*m**2*xG**2) - 2.0*Ixy*S4*m*rho*x2**2*x5*xG/(-16.0*Ix*Iy*Zw - 16.0*Ix*Iy*m - 16.0*Ix*Mq*Zw - 16.0*Ix*Mq*m + 16.0*Ix*m**2*xG**2 + 16.0*Ixy**2*Zw + 16.0*Ixy**2*m - 16.0*Iy*Kp*Zw - 16.0*Iy*Kp*m - 16.0*Kp*Mq*Zw - 16.0*Kp*Mq*m + 16.0*Kp*m**2*xG**2) - 16.0*Ixy*Vol*Zw*db*g*rho*sin(x5)/(-16.0*Ix*Iy*Zw - 16.0*Ix*Iy*m - 16.0*Ix*Mq*Zw - 16.0*Ix*Mq*m + 16.0*Ix*m**2*xG**2 + 16.0*Ixy**2*Zw + 16.0*Ixy**2*m - 16.0*Iy*Kp*Zw - 16.0*Iy*Kp*m - 16.0*Kp*Mq*Zw - 16.0*Kp*Mq*m + 16.0*Kp*m**2*xG**2) - 16.0*Ixy*Vol*db*g*m*rho*sin(x5)/(-16.0*Ix*Iy*Zw - 16.0*Ix*Iy*m - 16.0*Ix*Mq*Zw - 16.0*Ix*Mq*m + 16.0*Ix*m**2*xG**2 + 16.0*Ixy**2*Zw + 16.0*Ixy**2*m - 16.0*Iy*Kp*Zw - 16.0*Iy*Kp*m - 16.0*Kp*Mq*Zw - 16.0*Kp*Mq*m + 16.0*Kp*m**2*xG**2) - 16.0*Ixy*Vol*g*m*rho*xG*sin(x5)/(-16.0*Ix*Iy*Zw - 16.0*Ix*Iy*m - 16.0*Ix*Mq*Zw - 16.0*Ix*Mq*m + 16.0*Ix*m**2*xG**2 + 16.0*Ixy**2*Zw + 16.0*Ixy**2*m - 16.0*Iy*Kp*Zw - 16.0*Iy*Kp*m - 16.0*Kp*Mq*Zw - 16.0*Kp*Mq*m + 16.0*Kp*m**2*xG**2) - 16.0*Ixy*Zw**2*u*x2/(-16.0*Ix*Iy*Zw - 16.0*Ix*Iy*m - 16.0*Ix*Mq*Zw - 16.0*Ix*Mq*m + 16.0*Ix*m**2*xG**2 + 16.0*Ixy**2*Zw + 16.0*Ixy**2*m - 16.0*Iy*Kp*Zw - 16.0*Iy*Kp*m - 16.0*Kp*Mq*Zw - 16.0*Kp*Mq*m + 16.0*Kp*m**2*xG**2) + 16.0*Ixy*Zw*dg*g*m*sin(x5)/(-16.0*Ix*Iy*Zw - 16.0*Ix*Iy*m - 16.0*Ix*Mq*Zw - 16.0*Ix*Mq*m + 16.0*Ix*m**2*xG**2 + 16.0*Ixy**2*Zw + 16.0*Ixy**2*m - 16.0*Iy*Kp*Zw - 16.0*Iy*Kp*m - 16.0*Kp*Mq*Zw - 16.0*Kp*Mq*m + 16.0*Kp*m**2*xG**2) + 16.0*Ixy*Zw*dp1*x6/(-16.0*Ix*Iy*Zw - 16.0*Ix*Iy*m - 16.0*Ix*Mq*Zw - 16.0*Ix*Mq*m + 16.0*Ix*m**2*xG**2 + 16.0*Ixy**2*Zw + 16.0*Ixy**2*m - 16.0*Iy*Kp*Zw - 16.0*Iy*Kp*m - 16.0*Kp*Mq*Zw - 16.0*Kp*Mq*m + 16.0*Kp*m**2*xG**2) + 16.0*Ixy*Zw*dp2*x6**2/(-16.0*Ix*Iy*Zw - 16.0*Ix*Iy*m - 16.0*Ix*Mq*Zw - 16.0*Ix*Mq*m + 16.0*Ix*m**2*xG**2 + 16.0*Ixy**2*Zw + 16.0*Ixy**2*m - 16.0*Iy*Kp*Zw - 16.0*Iy*Kp*m - 16.0*Kp*Mq*Zw - 16.0*Kp*Mq*m + 16.0*Kp*m**2*xG**2) - 16.0*Ixy*Zw*m*u*x2/(-16.0*Ix*Iy*Zw - 16.0*Ix*Iy*m - 16.0*Ix*Mq*Zw - 16.0*Ix*Mq*m + 16.0*Ix*m**2*xG**2 + 16.0*Ixy**2*Zw + 16.0*Ixy**2*m - 16.0*Iy*Kp*Zw - 16.0*Iy*Kp*m - 16.0*Kp*Mq*Zw - 16.0*Kp*Mq*m + 16.0*Kp*m**2*xG**2) - 16.0*Ixy*Zw*m*u*x6*xG/(-16.0*Ix*Iy*Zw - 16.0*Ix*Iy*m - 16.0*Ix*Mq*Zw - 16.0*Ix*Mq*m + 16.0*Ix*m**2*xG**2 + 16.0*Ixy**2*Zw + 16.0*Ixy**2*m - 16.0*Iy*Kp*Zw - 16.0*Iy*Kp*m - 16.0*Kp*Mq*Zw - 16.0*Kp*Mq*m + 16.0*Kp*m**2*xG**2) + 16.0*Ixy*dg*g*m**2*sin(x5)/(-16.0*Ix*Iy*Zw - 16.0*Ix*Iy*m - 16.0*Ix*Mq*Zw - 16.0*Ix*Mq*m + 16.0*Ix*m**2*xG**2 + 16.0*Ixy**2*Zw + 16.0*Ixy**2*m - 16.0*Iy*Kp*Zw - 16.0*Iy*Kp*m - 16.0*Kp*Mq*Zw - 16.0*Kp*Mq*m + 16.0*Kp*m**2*xG**2) + 16.0*Ixy*dh1*m*x2*xG/(-16.0*Ix*Iy*Zw - 16.0*Ix*Iy*m - 16.0*Ix*Mq*Zw - 16.0*Ix*Mq*m + 16.0*Ix*m**2*xG**2 + 16.0*Ixy**2*Zw + 16.0*Ixy**2*m - 16.0*Iy*Kp*Zw - 16.0*Iy*Kp*m - 16.0*Kp*Mq*Zw - 16.0*Kp*Mq*m + 16.0*Kp*m**2*xG**2) + 16.0*Ixy*dh2*m*x2**2*xG/(-16.0*Ix*Iy*Zw - 16.0*Ix*Iy*m - 16.0*Ix*Mq*Zw - 16.0*Ix*Mq*m + 16.0*Ix*m**2*xG**2 + 16.0*Ixy**2*Zw + 16.0*Ixy**2*m - 16.0*Iy*Kp*Zw - 16.0*Iy*Kp*m - 16.0*Kp*Mq*Zw - 16.0*Kp*Mq*m + 16.0*Kp*m**2*xG**2) + 16.0*Ixy*dp1*m*x6/(-16.0*Ix*Iy*Zw - 16.0*Ix*Iy*m - 16.0*Ix*Mq*Zw - 16.0*Ix*Mq*m + 16.0*Ix*m**2*xG**2 + 16.0*Ixy**2*Zw + 16.0*Ixy**2*m - 16.0*Iy*Kp*Zw - 16.0*Iy*Kp*m - 16.0*Kp*Mq*Zw - 16.0*Kp*Mq*m + 16.0*Kp*m**2*xG**2) + 16.0*Ixy*dp2*m*x6**2/(-16.0*Ix*Iy*Zw - 16.0*Ix*Iy*m - 16.0*Ix*Mq*Zw - 16.0*Ix*Mq*m + 16.0*Ix*m**2*xG**2 + 16.0*Ixy**2*Zw + 16.0*Ixy**2*m - 16.0*Iy*Kp*Zw - 16.0*Iy*Kp*m - 16.0*Kp*Mq*Zw - 16.0*Kp*Mq*m + 16.0*Kp*m**2*xG**2) + 16.0*Ixy*g*m**2*xG*sin(x5)/(-16.0*Ix*Iy*Zw - 16.0*Ix*Iy*m - 16.0*Ix*Mq*Zw - 16.0*Ix*Mq*m + 16.0*Ix*m**2*xG**2 + 16.0*Ixy**2*Zw + 16.0*Ixy**2*m - 16.0*Iy*Kp*Zw - 16.0*Iy*Kp*m - 16.0*Kp*Mq*Zw - 16.0*Kp*Mq*m + 16.0*Kp*m**2*xG**2) + 16.0*Ixz*Iy*Zw*x4*x6/(-16.0*Ix*Iy*Zw - 16.0*Ix*Iy*m - 16.0*Ix*Mq*Zw - 16.0*Ix*Mq*m + 16.0*Ix*m**2*xG**2 + 16.0*Ixy**2*Zw + 16.0*Ixy**2*m - 16.0*Iy*Kp*Zw - 16.0*Iy*Kp*m - 16.0*Kp*Mq*Zw - 16.0*Kp*Mq*m + 16.0*Kp*m**2*xG**2) + 16.0*Ixz*Iy*m*x4*x6/(-16.0*Ix*Iy*Zw - 16.0*Ix*Iy*m - 16.0*Ix*Mq*Zw - 16.0*Ix*Mq*m + 16.0*Ix*m**2*xG**2 + 16.0*Ixy**2*Zw + 16.0*Ixy**2*m - 16.0*Iy*Kp*Zw - 16.0*Iy*Kp*m - 16.0*Kp*Mq*Zw - 16.0*Kp*Mq*m + 16.0*Kp*m**2*xG**2) + 16.0*Ixz*Mq*Zw*x4*x6/(-16.0*Ix*Iy*Zw - 16.0*Ix*Iy*m - 16.0*Ix*Mq*Zw - 16.0*Ix*Mq*m + 16.0*Ix*m**2*xG**2 + 16.0*Ixy**2*Zw + 16.0*Ixy**2*m - 16.0*Iy*Kp*Zw - 16.0*Iy*Kp*m - 16.0*Kp*Mq*Zw - 16.0*Kp*Mq*m + 16.0*Kp*m**2*xG**2) + 16.0*Ixz*Mq*m*x4*x6/(-16.0*Ix*Iy*Zw - 16.0*Ix*Iy*m - 16.0*Ix*Mq*Zw - 16.0*Ix*Mq*m + 16.0*Ix*m**2*xG**2 + 16.0*Ixy**2*Zw + 16.0*Ixy**2*m - 16.0*Iy*Kp*Zw - 16.0*Iy*Kp*m - 16.0*Kp*Mq*Zw - 16.0*Kp*Mq*m + 16.0*Kp*m**2*xG**2) - 16.0*Ixz*m**2*x4*x6*xG**2/(-16.0*Ix*Iy*Zw - 16.0*Ix*Iy*m - 16.0*Ix*Mq*Zw - 16.0*Ix*Mq*m + 16.0*Ix*m**2*xG**2 + 16.0*Ixy**2*Zw + 16.0*Ixy**2*m - 16.0*Iy*Kp*Zw - 16.0*Iy*Kp*m - 16.0*Kp*Mq*Zw - 16.0*Kp*Mq*m + 16.0*Kp*m**2*xG**2) - 16.0*Iy*Iyx*Zw*x6**2/(-16.0*Ix*Iy*Zw - 16.0*Ix*Iy*m - 16.0*Ix*Mq*Zw - 16.0*Ix*Mq*m + 16.0*Ix*m**2*xG**2 + 16.0*Ixy**2*Zw + 16.0*Ixy**2*m - 16.0*Iy*Kp*Zw - 16.0*Iy*Kp*m - 16.0*Kp*Mq*Zw - 16.0*Kp*Mq*m + 16.0*Kp*m**2*xG**2) - 16.0*Iy*Iyx*m*x6**2/(-16.0*Ix*Iy*Zw - 16.0*Ix*Iy*m - 16.0*Ix*Mq*Zw - 16.0*Ix*Mq*m + 16.0*Ix*m**2*xG**2 + 16.0*Ixy**2*Zw + 16.0*Ixy**2*m - 16.0*Iy*Kp*Zw - 16.0*Iy*Kp*m - 16.0*Kp*Mq*Zw - 16.0*Kp*Mq*m + 16.0*Kp*m**2*xG**2) + Iy*S2*Zw*r1*rho*u**2*u1/(-16.0*Ix*Iy*Zw - 16.0*Ix*Iy*m - 16.0*Ix*Mq*Zw - 16.0*Ix*Mq*m + 16.0*Ix*m**2*xG**2 + 16.0*Ixy**2*Zw + 16.0*Ixy**2*m - 16.0*Iy*Kp*Zw - 16.0*Iy*Kp*m - 16.0*Kp*Mq*Zw - 16.0*Kp*Mq*m + 16.0*Kp*m**2*xG**2) - Iy*S2*Zw*r1*rho*u**2*u2/(-16.0*Ix*Iy*Zw - 16.0*Ix*Iy*m - 16.0*Ix*Mq*Zw - 16.0*Ix*Mq*m + 16.0*Ix*m**2*xG**2 + 16.0*Ixy**2*Zw + 16.0*Ixy**2*m - 16.0*Iy*Kp*Zw - 16.0*Iy*Kp*m - 16.0*Kp*Mq*Zw - 16.0*Kp*Mq*m + 16.0*Kp*m**2*xG**2) + Iy*S2*Zw*r1*rho*u1*x2**2/(-16.0*Ix*Iy*Zw - 16.0*Ix*Iy*m - 16.0*Ix*Mq*Zw - 16.0*Ix*Mq*m + 16.0*Ix*m**2*xG**2 + 16.0*Ixy**2*Zw + 16.0*Ixy**2*m - 16.0*Iy*Kp*Zw - 16.0*Iy*Kp*m - 16.0*Kp*Mq*Zw - 16.0*Kp*Mq*m + 16.0*Kp*m**2*xG**2) - Iy*S2*Zw*r1*rho*u2*x2**2/(-16.0*Ix*Iy*Zw - 16.0*Ix*Iy*m - 16.0*Ix*Mq*Zw - 16.0*Ix*Mq*m + 16.0*Ix*m**2*xG**2 + 16.0*Ixy**2*Zw + 16.0*Ixy**2*m - 16.0*Iy*Kp*Zw - 16.0*Iy*Kp*m - 16.0*Kp*Mq*Zw - 16.0*Kp*Mq*m + 16.0*Kp*m**2*xG**2) + Iy*S2*m*r1*rho*u**2*u1/(-16.0*Ix*Iy*Zw - 16.0*Ix*Iy*m - 16.0*Ix*Mq*Zw - 16.0*Ix*Mq*m + 16.0*Ix*m**2*xG**2 + 16.0*Ixy**2*Zw + 16.0*Ixy**2*m - 16.0*Iy*Kp*Zw - 16.0*Iy*Kp*m - 16.0*Kp*Mq*Zw - 16.0*Kp*Mq*m + 16.0*Kp*m**2*xG**2) - Iy*S2*m*r1*rho*u**2*u2/(-16.0*Ix*Iy*Zw - 16.0*Ix*Iy*m - 16.0*Ix*Mq*Zw - 16.0*Ix*Mq*m + 16.0*Ix*m**2*xG**2 + 16.0*Ixy**2*Zw + 16.0*Ixy**2*m - 16.0*Iy*Kp*Zw - 16.0*Iy*Kp*m - 16.0*Kp*Mq*Zw - 16.0*Kp*Mq*m + 16.0*Kp*m**2*xG**2) + Iy*S2*m*r1*rho*u1*x2**2/(-16.0*Ix*Iy*Zw - 16.0*Ix*Iy*m - 16.0*Ix*Mq*Zw - 16.0*Ix*Mq*m + 16.0*Ix*m**2*xG**2 + 16.0*Ixy**2*Zw + 16.0*Ixy**2*m - 16.0*Iy*Kp*Zw - 16.0*Iy*Kp*m - 16.0*Kp*Mq*Zw - 16.0*Kp*Mq*m + 16.0*Kp*m**2*xG**2) - Iy*S2*m*r1*rho*u2*x2**2/(-16.0*Ix*Iy*Zw - 16.0*Ix*Iy*m - 16.0*Ix*Mq*Zw - 16.0*Ix*Mq*m + 16.0*Ix*m**2*xG**2 + 16.0*Ixy**2*Zw + 16.0*Ixy**2*m - 16.0*Iy*Kp*Zw - 16.0*Iy*Kp*m - 16.0*Kp*Mq*Zw - 16.0*Kp*Mq*m + 16.0*Kp*m**2*xG**2) + 16.0*Iy*Zw*dr1*x4/(-16.0*Ix*Iy*Zw - 16.0*Ix*Iy*m - 16.0*Ix*Mq*Zw - 16.0*Ix*Mq*m + 16.0*Ix*m**2*xG**2 + 16.0*Ixy**2*Zw + 16.0*Ixy**2*m - 16.0*Iy*Kp*Zw - 16.0*Iy*Kp*m - 16.0*Kp*Mq*Zw - 16.0*Kp*Mq*m + 16.0*Kp*m**2*xG**2) + 16.0*Iy*Zw*dr2*x4**2/(-16.0*Ix*Iy*Zw - 16.0*Ix*Iy*m - 16.0*Ix*Mq*Zw - 16.0*Ix*Mq*m + 16.0*Ix*m**2*xG**2 + 16.0*Ixy**2*Zw + 16.0*Ixy**2*m - 16.0*Iy*Kp*Zw - 16.0*Iy*Kp*m - 16.0*Kp*Mq*Zw - 16.0*Kp*Mq*m + 16.0*Kp*m**2*xG**2) + 16.0*Iy*dr1*m*x4/(-16.0*Ix*Iy*Zw - 16.0*Ix*Iy*m - 16.0*Ix*Mq*Zw - 16.0*Ix*Mq*m + 16.0*Ix*m**2*xG**2 + 16.0*Ixy**2*Zw + 16.0*Ixy**2*m - 16.0*Iy*Kp*Zw - 16.0*Iy*Kp*m - 16.0*Kp*Mq*Zw - 16.0*Kp*Mq*m + 16.0*Kp*m**2*xG**2) + 16.0*Iy*dr2*m*x4**2/(-16.0*Ix*Iy*Zw - 16.0*Ix*Iy*m - 16.0*Ix*Mq*Zw - 16.0*Ix*Mq*m + 16.0*Ix*m**2*xG**2 + 16.0*Ixy**2*Zw + 16.0*Ixy**2*m - 16.0*Iy*Kp*Zw - 16.0*Iy*Kp*m - 16.0*Kp*Mq*Zw - 16.0*Kp*Mq*m + 16.0*Kp*m**2*xG**2) - 16.0*Iyx*Mq*Zw*x6**2/(-16.0*Ix*Iy*Zw - 16.0*Ix*Iy*m - 16.0*Ix*Mq*Zw - 16.0*Ix*Mq*m + 16.0*Ix*m**2*xG**2 + 16.0*Ixy**2*Zw + 16.0*Ixy**2*m - 16.0*Iy*Kp*Zw - 16.0*Iy*Kp*m - 16.0*Kp*Mq*Zw - 16.0*Kp*Mq*m + 16.0*Kp*m**2*xG**2) - 16.0*Iyx*Mq*m*x6**2/(-16.0*Ix*Iy*Zw - 16.0*Ix*Iy*m - 16.0*Ix*Mq*Zw - 16.0*Ix*Mq*m + 16.0*Ix*m**2*xG**2 + 16.0*Ixy**2*Zw + 16.0*Ixy**2*m - 16.0*Iy*Kp*Zw - 16.0*Iy*Kp*m - 16.0*Kp*Mq*Zw - 16.0*Kp*Mq*m + 16.0*Kp*m**2*xG**2) + 16.0*Iyx*m**2*x6**2*xG**2/(-16.0*Ix*Iy*Zw - 16.0*Ix*Iy*m - 16.0*Ix*Mq*Zw - 16.0*Ix*Mq*m + 16.0*Ix*m**2*xG**2 + 16.0*Ixy**2*Zw + 16.0*Ixy**2*m - 16.0*Iy*Kp*Zw - 16.0*Iy*Kp*m - 16.0*Kp*Mq*Zw - 16.0*Kp*Mq*m + 16.0*Kp*m**2*xG**2) + Mq*S2*Zw*r1*rho*u**2*u1/(-16.0*Ix*Iy*Zw - 16.0*Ix*Iy*m - 16.0*Ix*Mq*Zw - 16.0*Ix*Mq*m + 16.0*Ix*m**2*xG**2 + 16.0*Ixy**2*Zw + 16.0*Ixy**2*m - 16.0*Iy*Kp*Zw - 16.0*Iy*Kp*m - 16.0*Kp*Mq*Zw - 16.0*Kp*Mq*m + 16.0*Kp*m**2*xG**2) - Mq*S2*Zw*r1*rho*u**2*u2/(-16.0*Ix*Iy*Zw - 16.0*Ix*Iy*m - 16.0*Ix*Mq*Zw - 16.0*Ix*Mq*m + 16.0*Ix*m**2*xG**2 + 16.0*Ixy**2*Zw + 16.0*Ixy**2*m - 16.0*Iy*Kp*Zw - 16.0*Iy*Kp*m - 16.0*Kp*Mq*Zw - 16.0*Kp*Mq*m + 16.0*Kp*m**2*xG**2) + Mq*S2*Zw*r1*rho*u1*x2**2/(-16.0*Ix*Iy*Zw - 16.0*Ix*Iy*m - 16.0*Ix*Mq*Zw - 16.0*Ix*Mq*m + 16.0*Ix*m**2*xG**2 + 16.0*Ixy**2*Zw + 16.0*Ixy**2*m - 16.0*Iy*Kp*Zw - 16.0*Iy*Kp*m - 16.0*Kp*Mq*Zw - 16.0*Kp*Mq*m + 16.0*Kp*m**2*xG**2) - Mq*S2*Zw*r1*rho*u2*x2**2/(-16.0*Ix*Iy*Zw - 16.0*Ix*Iy*m - 16.0*Ix*Mq*Zw - 16.0*Ix*Mq*m + 16.0*Ix*m**2*xG**2 + 16.0*Ixy**2*Zw + 16.0*Ixy**2*m - 16.0*Iy*Kp*Zw - 16.0*Iy*Kp*m - 16.0*Kp*Mq*Zw - 16.0*Kp*Mq*m + 16.0*Kp*m**2*xG**2) + Mq*S2*m*r1*rho*u**2*u1/(-16.0*Ix*Iy*Zw - 16.0*Ix*Iy*m - 16.0*Ix*Mq*Zw - 16.0*Ix*Mq*m + 16.0*Ix*m**2*xG**2 + 16.0*Ixy**2*Zw + 16.0*Ixy**2*m - 16.0*Iy*Kp*Zw - 16.0*Iy*Kp*m - 16.0*Kp*Mq*Zw - 16.0*Kp*Mq*m + 16.0*Kp*m**2*xG**2) - Mq*S2*m*r1*rho*u**2*u2/(-16.0*Ix*Iy*Zw - 16.0*Ix*Iy*m - 16.0*Ix*Mq*Zw - 16.0*Ix*Mq*m + 16.0*Ix*m**2*xG**2 + 16.0*Ixy**2*Zw + 16.0*Ixy**2*m - 16.0*Iy*Kp*Zw - 16.0*Iy*Kp*m - 16.0*Kp*Mq*Zw - 16.0*Kp*Mq*m + 16.0*Kp*m**2*xG**2) + Mq*S2*m*r1*rho*u1*x2**2/(-16.0*Ix*Iy*Zw - 16.0*Ix*Iy*m - 16.0*Ix*Mq*Zw - 16.0*Ix*Mq*m + 16.0*Ix*m**2*xG**2 + 16.0*Ixy**2*Zw + 16.0*Ixy**2*m - 16.0*Iy*Kp*Zw - 16.0*Iy*Kp*m - 16.0*Kp*Mq*Zw - 16.0*Kp*Mq*m + 16.0*Kp*m**2*xG**2) - Mq*S2*m*r1*rho*u2*x2**2/(-16.0*Ix*Iy*Zw - 16.0*Ix*Iy*m - 16.0*Ix*Mq*Zw - 16.0*Ix*Mq*m + 16.0*Ix*m**2*xG**2 + 16.0*Ixy**2*Zw + 16.0*Ixy**2*m - 16.0*Iy*Kp*Zw - 16.0*Iy*Kp*m - 16.0*Kp*Mq*Zw - 16.0*Kp*Mq*m + 16.0*Kp*m**2*xG**2) + 16.0*Mq*Zw*dr1*x4/(-16.0*Ix*Iy*Zw - 16.0*Ix*Iy*m - 16.0*Ix*Mq*Zw - 16.0*Ix*Mq*m + 16.0*Ix*m**2*xG**2 + 16.0*Ixy**2*Zw + 16.0*Ixy**2*m - 16.0*Iy*Kp*Zw - 16.0*Iy*Kp*m - 16.0*Kp*Mq*Zw - 16.0*Kp*Mq*m + 16.0*Kp*m**2*xG**2) + 16.0*Mq*Zw*dr2*x4**2/(-16.0*Ix*Iy*Zw - 16.0*Ix*Iy*m - 16.0*Ix*Mq*Zw - 16.0*Ix*Mq*m + 16.0*Ix*m**2*xG**2 + 16.0*Ixy**2*Zw + 16.0*Ixy**2*m - 16.0*Iy*Kp*Zw - 16.0*Iy*Kp*m - 16.0*Kp*Mq*Zw - 16.0*Kp*Mq*m + 16.0*Kp*m**2*xG**2) + 16.0*Mq*dr1*m*x4/(-16.0*Ix*Iy*Zw - 16.0*Ix*Iy*m - 16.0*Ix*Mq*Zw - 16.0*Ix*Mq*m + 16.0*Ix*m**2*xG**2 + 16.0*Ixy**2*Zw + 16.0*Ixy**2*m - 16.0*Iy*Kp*Zw - 16.0*Iy*Kp*m - 16.0*Kp*Mq*Zw - 16.0*Kp*Mq*m + 16.0*Kp*m**2*xG**2) + 16.0*Mq*dr2*m*x4**2/(-16.0*Ix*Iy*Zw - 16.0*Ix*Iy*m - 16.0*Ix*Mq*Zw - 16.0*Ix*Mq*m + 16.0*Ix*m**2*xG**2 + 16.0*Ixy**2*Zw + 16.0*Ixy**2*m - 16.0*Iy*Kp*Zw - 16.0*Iy*Kp*m - 16.0*Kp*Mq*Zw - 16.0*Kp*Mq*m + 16.0*Kp*m**2*xG**2) - S2*m**2*r1*rho*u**2*u1*xG**2/(-16.0*Ix*Iy*Zw - 16.0*Ix*Iy*m - 16.0*Ix*Mq*Zw - 16.0*Ix*Mq*m + 16.0*Ix*m**2*xG**2 + 16.0*Ixy**2*Zw + 16.0*Ixy**2*m - 16.0*Iy*Kp*Zw - 16.0*Iy*Kp*m - 16.0*Kp*Mq*Zw - 16.0*Kp*Mq*m + 16.0*Kp*m**2*xG**2) + S2*m**2*r1*rho*u**2*u2*xG**2/(-16.0*Ix*Iy*Zw - 16.0*Ix*Iy*m - 16.0*Ix*Mq*Zw - 16.0*Ix*Mq*m + 16.0*Ix*m**2*xG**2 + 16.0*Ixy**2*Zw + 16.0*Ixy**2*m - 16.0*Iy*Kp*Zw - 16.0*Iy*Kp*m - 16.0*Kp*Mq*Zw - 16.0*Kp*Mq*m + 16.0*Kp*m**2*xG**2) - S2*m**2*r1*rho*u1*x2**2*xG**2/(-16.0*Ix*Iy*Zw - 16.0*Ix*Iy*m - 16.0*Ix*Mq*Zw - 16.0*Ix*Mq*m + 16.0*Ix*m**2*xG**2 + 16.0*Ixy**2*Zw + 16.0*Ixy**2*m - 16.0*Iy*Kp*Zw - 16.0*Iy*Kp*m - 16.0*Kp*Mq*Zw - 16.0*Kp*Mq*m + 16.0*Kp*m**2*xG**2) + S2*m**2*r1*rho*u2*x2**2*xG**2/(-16.0*Ix*Iy*Zw - 16.0*Ix*Iy*m - 16.0*Ix*Mq*Zw - 16.0*Ix*Mq*m + 16.0*Ix*m**2*xG**2 + 16.0*Ixy**2*Zw + 16.0*Ixy**2*m - 16.0*Iy*Kp*Zw - 16.0*Iy*Kp*m - 16.0*Kp*Mq*Zw - 16.0*Kp*Mq*m + 16.0*Kp*m**2*xG**2) - 16.0*dr1*m**2*x4*xG**2/(-16.0*Ix*Iy*Zw - 16.0*Ix*Iy*m - 16.0*Ix*Mq*Zw - 16.0*Ix*Mq*m + 16.0*Ix*m**2*xG**2 + 16.0*Ixy**2*Zw + 16.0*Ixy**2*m - 16.0*Iy*Kp*Zw - 16.0*Iy*Kp*m - 16.0*Kp*Mq*Zw - 16.0*Kp*Mq*m + 16.0*Kp*m**2*xG**2) - 16.0*dr2*m**2*x4**2*xG**2/(-16.0*Ix*Iy*Zw - 16.0*Ix*Iy*m - 16.0*Ix*Mq*Zw - 16.0*Ix*Mq*m + 16.0*Ix*m**2*xG**2 + 16.0*Ixy**2*Zw + 16.0*Ixy**2*m - 16.0*Iy*Kp*Zw - 16.0*Iy*Kp*m - 16.0*Kp*Mq*Zw - 16.0*Kp*Mq*m + 16.0*Kp*m**2*xG**2)"
   ]
  },
  {
   "cell_type": "code",
   "execution_count": 23,
   "id": "regulation-spyware",
   "metadata": {},
   "outputs": [],
   "source": [
    "x6d = -16.0*Ix*Ixz*Zw*x4**2/(-16.0*Ix*Iy*Zw - 16.0*Ix*Iy*m - 16.0*Ix*Mq*Zw - 16.0*Ix*Mq*m + 16.0*Ix*m**2*xG**2 + 16.0*Ixy**2*Zw + 16.0*Ixy**2*m - 16.0*Iy*Kp*Zw - 16.0*Iy*Kp*m - 16.0*Kp*Mq*Zw - 16.0*Kp*Mq*m + 16.0*Kp*m**2*xG**2) - 16.0*Ix*Ixz*m*x4**2/(-16.0*Ix*Iy*Zw - 16.0*Ix*Iy*m - 16.0*Ix*Mq*Zw - 16.0*Ix*Mq*m + 16.0*Ix*m**2*xG**2 + 16.0*Ixy**2*Zw + 16.0*Ixy**2*m - 16.0*Iy*Kp*Zw - 16.0*Iy*Kp*m - 16.0*Kp*Mq*Zw - 16.0*Kp*Mq*m + 16.0*Kp*m**2*xG**2) - 16.0*Ix*Iyz*Zw*x4*x6/(-16.0*Ix*Iy*Zw - 16.0*Ix*Iy*m - 16.0*Ix*Mq*Zw - 16.0*Ix*Mq*m + 16.0*Ix*m**2*xG**2 + 16.0*Ixy**2*Zw + 16.0*Ixy**2*m - 16.0*Iy*Kp*Zw - 16.0*Iy*Kp*m - 16.0*Kp*Mq*Zw - 16.0*Kp*Mq*m + 16.0*Kp*m**2*xG**2) - 16.0*Ix*Iyz*m*x4*x6/(-16.0*Ix*Iy*Zw - 16.0*Ix*Iy*m - 16.0*Ix*Mq*Zw - 16.0*Ix*Mq*m + 16.0*Ix*m**2*xG**2 + 16.0*Ixy**2*Zw + 16.0*Ixy**2*m - 16.0*Iy*Kp*Zw - 16.0*Iy*Kp*m - 16.0*Kp*Mq*Zw - 16.0*Kp*Mq*m + 16.0*Kp*m**2*xG**2) - 2.0*Ix*S1*Zw*d1*rho*u**2*x5/(-16.0*Ix*Iy*Zw - 16.0*Ix*Iy*m - 16.0*Ix*Mq*Zw - 16.0*Ix*Mq*m + 16.0*Ix*m**2*xG**2 + 16.0*Ixy**2*Zw + 16.0*Ixy**2*m - 16.0*Iy*Kp*Zw - 16.0*Iy*Kp*m - 16.0*Kp*Mq*Zw - 16.0*Kp*Mq*m + 16.0*Kp*m**2*xG**2) - 2.0*Ix*S1*Zw*d1*rho*x2**2*x5/(-16.0*Ix*Iy*Zw - 16.0*Ix*Iy*m - 16.0*Ix*Mq*Zw - 16.0*Ix*Mq*m + 16.0*Ix*m**2*xG**2 + 16.0*Ixy**2*Zw + 16.0*Ixy**2*m - 16.0*Iy*Kp*Zw - 16.0*Iy*Kp*m - 16.0*Kp*Mq*Zw - 16.0*Kp*Mq*m + 16.0*Kp*m**2*xG**2) - 2.0*Ix*S1*d1*m*rho*u**2*x5/(-16.0*Ix*Iy*Zw - 16.0*Ix*Iy*m - 16.0*Ix*Mq*Zw - 16.0*Ix*Mq*m + 16.0*Ix*m**2*xG**2 + 16.0*Ixy**2*Zw + 16.0*Ixy**2*m - 16.0*Iy*Kp*Zw - 16.0*Iy*Kp*m - 16.0*Kp*Mq*Zw - 16.0*Kp*Mq*m + 16.0*Kp*m**2*xG**2) - 2.0*Ix*S1*d1*m*rho*x2**2*x5/(-16.0*Ix*Iy*Zw - 16.0*Ix*Iy*m - 16.0*Ix*Mq*Zw - 16.0*Ix*Mq*m + 16.0*Ix*m**2*xG**2 + 16.0*Ixy**2*Zw + 16.0*Ixy**2*m - 16.0*Iy*Kp*Zw - 16.0*Iy*Kp*m - 16.0*Kp*Mq*Zw - 16.0*Kp*Mq*m + 16.0*Kp*m**2*xG**2) - 2.0*Ix*S1*m*rho*u**2*x5*xG/(-16.0*Ix*Iy*Zw - 16.0*Ix*Iy*m - 16.0*Ix*Mq*Zw - 16.0*Ix*Mq*m + 16.0*Ix*m**2*xG**2 + 16.0*Ixy**2*Zw + 16.0*Ixy**2*m - 16.0*Iy*Kp*Zw - 16.0*Iy*Kp*m - 16.0*Kp*Mq*Zw - 16.0*Kp*Mq*m + 16.0*Kp*m**2*xG**2) - 2.0*Ix*S1*m*rho*x2**2*x5*xG/(-16.0*Ix*Iy*Zw - 16.0*Ix*Iy*m - 16.0*Ix*Mq*Zw - 16.0*Ix*Mq*m + 16.0*Ix*m**2*xG**2 + 16.0*Ixy**2*Zw + 16.0*Ixy**2*m - 16.0*Iy*Kp*Zw - 16.0*Iy*Kp*m - 16.0*Kp*Mq*Zw - 16.0*Kp*Mq*m + 16.0*Kp*m**2*xG**2) + Ix*S2*Zw*d2*rho*u**2*u1/(-16.0*Ix*Iy*Zw - 16.0*Ix*Iy*m - 16.0*Ix*Mq*Zw - 16.0*Ix*Mq*m + 16.0*Ix*m**2*xG**2 + 16.0*Ixy**2*Zw + 16.0*Ixy**2*m - 16.0*Iy*Kp*Zw - 16.0*Iy*Kp*m - 16.0*Kp*Mq*Zw - 16.0*Kp*Mq*m + 16.0*Kp*m**2*xG**2) + Ix*S2*Zw*d2*rho*u**2*u2/(-16.0*Ix*Iy*Zw - 16.0*Ix*Iy*m - 16.0*Ix*Mq*Zw - 16.0*Ix*Mq*m + 16.0*Ix*m**2*xG**2 + 16.0*Ixy**2*Zw + 16.0*Ixy**2*m - 16.0*Iy*Kp*Zw - 16.0*Iy*Kp*m - 16.0*Kp*Mq*Zw - 16.0*Kp*Mq*m + 16.0*Kp*m**2*xG**2) - 2.0*Ix*S2*Zw*d2*rho*u**2*x5/(-16.0*Ix*Iy*Zw - 16.0*Ix*Iy*m - 16.0*Ix*Mq*Zw - 16.0*Ix*Mq*m + 16.0*Ix*m**2*xG**2 + 16.0*Ixy**2*Zw + 16.0*Ixy**2*m - 16.0*Iy*Kp*Zw - 16.0*Iy*Kp*m - 16.0*Kp*Mq*Zw - 16.0*Kp*Mq*m + 16.0*Kp*m**2*xG**2) + Ix*S2*Zw*d2*rho*u1*x2**2/(-16.0*Ix*Iy*Zw - 16.0*Ix*Iy*m - 16.0*Ix*Mq*Zw - 16.0*Ix*Mq*m + 16.0*Ix*m**2*xG**2 + 16.0*Ixy**2*Zw + 16.0*Ixy**2*m - 16.0*Iy*Kp*Zw - 16.0*Iy*Kp*m - 16.0*Kp*Mq*Zw - 16.0*Kp*Mq*m + 16.0*Kp*m**2*xG**2) + Ix*S2*Zw*d2*rho*u2*x2**2/(-16.0*Ix*Iy*Zw - 16.0*Ix*Iy*m - 16.0*Ix*Mq*Zw - 16.0*Ix*Mq*m + 16.0*Ix*m**2*xG**2 + 16.0*Ixy**2*Zw + 16.0*Ixy**2*m - 16.0*Iy*Kp*Zw - 16.0*Iy*Kp*m - 16.0*Kp*Mq*Zw - 16.0*Kp*Mq*m + 16.0*Kp*m**2*xG**2) - 2.0*Ix*S2*Zw*d2*rho*x2**2*x5/(-16.0*Ix*Iy*Zw - 16.0*Ix*Iy*m - 16.0*Ix*Mq*Zw - 16.0*Ix*Mq*m + 16.0*Ix*m**2*xG**2 + 16.0*Ixy**2*Zw + 16.0*Ixy**2*m - 16.0*Iy*Kp*Zw - 16.0*Iy*Kp*m - 16.0*Kp*Mq*Zw - 16.0*Kp*Mq*m + 16.0*Kp*m**2*xG**2) + Ix*S2*d2*m*rho*u**2*u1/(-16.0*Ix*Iy*Zw - 16.0*Ix*Iy*m - 16.0*Ix*Mq*Zw - 16.0*Ix*Mq*m + 16.0*Ix*m**2*xG**2 + 16.0*Ixy**2*Zw + 16.0*Ixy**2*m - 16.0*Iy*Kp*Zw - 16.0*Iy*Kp*m - 16.0*Kp*Mq*Zw - 16.0*Kp*Mq*m + 16.0*Kp*m**2*xG**2) + Ix*S2*d2*m*rho*u**2*u2/(-16.0*Ix*Iy*Zw - 16.0*Ix*Iy*m - 16.0*Ix*Mq*Zw - 16.0*Ix*Mq*m + 16.0*Ix*m**2*xG**2 + 16.0*Ixy**2*Zw + 16.0*Ixy**2*m - 16.0*Iy*Kp*Zw - 16.0*Iy*Kp*m - 16.0*Kp*Mq*Zw - 16.0*Kp*Mq*m + 16.0*Kp*m**2*xG**2) - 2.0*Ix*S2*d2*m*rho*u**2*x5/(-16.0*Ix*Iy*Zw - 16.0*Ix*Iy*m - 16.0*Ix*Mq*Zw - 16.0*Ix*Mq*m + 16.0*Ix*m**2*xG**2 + 16.0*Ixy**2*Zw + 16.0*Ixy**2*m - 16.0*Iy*Kp*Zw - 16.0*Iy*Kp*m - 16.0*Kp*Mq*Zw - 16.0*Kp*Mq*m + 16.0*Kp*m**2*xG**2) + Ix*S2*d2*m*rho*u1*x2**2/(-16.0*Ix*Iy*Zw - 16.0*Ix*Iy*m - 16.0*Ix*Mq*Zw - 16.0*Ix*Mq*m + 16.0*Ix*m**2*xG**2 + 16.0*Ixy**2*Zw + 16.0*Ixy**2*m - 16.0*Iy*Kp*Zw - 16.0*Iy*Kp*m - 16.0*Kp*Mq*Zw - 16.0*Kp*Mq*m + 16.0*Kp*m**2*xG**2) + Ix*S2*d2*m*rho*u2*x2**2/(-16.0*Ix*Iy*Zw - 16.0*Ix*Iy*m - 16.0*Ix*Mq*Zw - 16.0*Ix*Mq*m + 16.0*Ix*m**2*xG**2 + 16.0*Ixy**2*Zw + 16.0*Ixy**2*m - 16.0*Iy*Kp*Zw - 16.0*Iy*Kp*m - 16.0*Kp*Mq*Zw - 16.0*Kp*Mq*m + 16.0*Kp*m**2*xG**2) - 2.0*Ix*S2*d2*m*rho*x2**2*x5/(-16.0*Ix*Iy*Zw - 16.0*Ix*Iy*m - 16.0*Ix*Mq*Zw - 16.0*Ix*Mq*m + 16.0*Ix*m**2*xG**2 + 16.0*Ixy**2*Zw + 16.0*Ixy**2*m - 16.0*Iy*Kp*Zw - 16.0*Iy*Kp*m - 16.0*Kp*Mq*Zw - 16.0*Kp*Mq*m + 16.0*Kp*m**2*xG**2) + Ix*S2*m*rho*u**2*u1*xG/(-16.0*Ix*Iy*Zw - 16.0*Ix*Iy*m - 16.0*Ix*Mq*Zw - 16.0*Ix*Mq*m + 16.0*Ix*m**2*xG**2 + 16.0*Ixy**2*Zw + 16.0*Ixy**2*m - 16.0*Iy*Kp*Zw - 16.0*Iy*Kp*m - 16.0*Kp*Mq*Zw - 16.0*Kp*Mq*m + 16.0*Kp*m**2*xG**2) + Ix*S2*m*rho*u**2*u2*xG/(-16.0*Ix*Iy*Zw - 16.0*Ix*Iy*m - 16.0*Ix*Mq*Zw - 16.0*Ix*Mq*m + 16.0*Ix*m**2*xG**2 + 16.0*Ixy**2*Zw + 16.0*Ixy**2*m - 16.0*Iy*Kp*Zw - 16.0*Iy*Kp*m - 16.0*Kp*Mq*Zw - 16.0*Kp*Mq*m + 16.0*Kp*m**2*xG**2) - 2.0*Ix*S2*m*rho*u**2*x5*xG/(-16.0*Ix*Iy*Zw - 16.0*Ix*Iy*m - 16.0*Ix*Mq*Zw - 16.0*Ix*Mq*m + 16.0*Ix*m**2*xG**2 + 16.0*Ixy**2*Zw + 16.0*Ixy**2*m - 16.0*Iy*Kp*Zw - 16.0*Iy*Kp*m - 16.0*Kp*Mq*Zw - 16.0*Kp*Mq*m + 16.0*Kp*m**2*xG**2) + Ix*S2*m*rho*u1*x2**2*xG/(-16.0*Ix*Iy*Zw - 16.0*Ix*Iy*m - 16.0*Ix*Mq*Zw - 16.0*Ix*Mq*m + 16.0*Ix*m**2*xG**2 + 16.0*Ixy**2*Zw + 16.0*Ixy**2*m - 16.0*Iy*Kp*Zw - 16.0*Iy*Kp*m - 16.0*Kp*Mq*Zw - 16.0*Kp*Mq*m + 16.0*Kp*m**2*xG**2) + Ix*S2*m*rho*u2*x2**2*xG/(-16.0*Ix*Iy*Zw - 16.0*Ix*Iy*m - 16.0*Ix*Mq*Zw - 16.0*Ix*Mq*m + 16.0*Ix*m**2*xG**2 + 16.0*Ixy**2*Zw + 16.0*Ixy**2*m - 16.0*Iy*Kp*Zw - 16.0*Iy*Kp*m - 16.0*Kp*Mq*Zw - 16.0*Kp*Mq*m + 16.0*Kp*m**2*xG**2) - 2.0*Ix*S2*m*rho*x2**2*x5*xG/(-16.0*Ix*Iy*Zw - 16.0*Ix*Iy*m - 16.0*Ix*Mq*Zw - 16.0*Ix*Mq*m + 16.0*Ix*m**2*xG**2 + 16.0*Ixy**2*Zw + 16.0*Ixy**2*m - 16.0*Iy*Kp*Zw - 16.0*Iy*Kp*m - 16.0*Kp*Mq*Zw - 16.0*Kp*Mq*m + 16.0*Kp*m**2*xG**2) - 2.0*Ix*S3*Zw*d3*rho*u**2*x5/(-16.0*Ix*Iy*Zw - 16.0*Ix*Iy*m - 16.0*Ix*Mq*Zw - 16.0*Ix*Mq*m + 16.0*Ix*m**2*xG**2 + 16.0*Ixy**2*Zw + 16.0*Ixy**2*m - 16.0*Iy*Kp*Zw - 16.0*Iy*Kp*m - 16.0*Kp*Mq*Zw - 16.0*Kp*Mq*m + 16.0*Kp*m**2*xG**2) - 2.0*Ix*S3*Zw*d3*rho*x2**2*x5/(-16.0*Ix*Iy*Zw - 16.0*Ix*Iy*m - 16.0*Ix*Mq*Zw - 16.0*Ix*Mq*m + 16.0*Ix*m**2*xG**2 + 16.0*Ixy**2*Zw + 16.0*Ixy**2*m - 16.0*Iy*Kp*Zw - 16.0*Iy*Kp*m - 16.0*Kp*Mq*Zw - 16.0*Kp*Mq*m + 16.0*Kp*m**2*xG**2) - 2.0*Ix*S3*d3*m*rho*u**2*x5/(-16.0*Ix*Iy*Zw - 16.0*Ix*Iy*m - 16.0*Ix*Mq*Zw - 16.0*Ix*Mq*m + 16.0*Ix*m**2*xG**2 + 16.0*Ixy**2*Zw + 16.0*Ixy**2*m - 16.0*Iy*Kp*Zw - 16.0*Iy*Kp*m - 16.0*Kp*Mq*Zw - 16.0*Kp*Mq*m + 16.0*Kp*m**2*xG**2) - 2.0*Ix*S3*d3*m*rho*x2**2*x5/(-16.0*Ix*Iy*Zw - 16.0*Ix*Iy*m - 16.0*Ix*Mq*Zw - 16.0*Ix*Mq*m + 16.0*Ix*m**2*xG**2 + 16.0*Ixy**2*Zw + 16.0*Ixy**2*m - 16.0*Iy*Kp*Zw - 16.0*Iy*Kp*m - 16.0*Kp*Mq*Zw - 16.0*Kp*Mq*m + 16.0*Kp*m**2*xG**2) - 2.0*Ix*S3*m*rho*u**2*x5*xG/(-16.0*Ix*Iy*Zw - 16.0*Ix*Iy*m - 16.0*Ix*Mq*Zw - 16.0*Ix*Mq*m + 16.0*Ix*m**2*xG**2 + 16.0*Ixy**2*Zw + 16.0*Ixy**2*m - 16.0*Iy*Kp*Zw - 16.0*Iy*Kp*m - 16.0*Kp*Mq*Zw - 16.0*Kp*Mq*m + 16.0*Kp*m**2*xG**2) - 2.0*Ix*S3*m*rho*x2**2*x5*xG/(-16.0*Ix*Iy*Zw - 16.0*Ix*Iy*m - 16.0*Ix*Mq*Zw - 16.0*Ix*Mq*m + 16.0*Ix*m**2*xG**2 + 16.0*Ixy**2*Zw + 16.0*Ixy**2*m - 16.0*Iy*Kp*Zw - 16.0*Iy*Kp*m - 16.0*Kp*Mq*Zw - 16.0*Kp*Mq*m + 16.0*Kp*m**2*xG**2) + 2.0*Ix*S4*Zw*d4*rho*u**2*u3/(-16.0*Ix*Iy*Zw - 16.0*Ix*Iy*m - 16.0*Ix*Mq*Zw - 16.0*Ix*Mq*m + 16.0*Ix*m**2*xG**2 + 16.0*Ixy**2*Zw + 16.0*Ixy**2*m - 16.0*Iy*Kp*Zw - 16.0*Iy*Kp*m - 16.0*Kp*Mq*Zw - 16.0*Kp*Mq*m + 16.0*Kp*m**2*xG**2) - 2.0*Ix*S4*Zw*d4*rho*u**2*x5/(-16.0*Ix*Iy*Zw - 16.0*Ix*Iy*m - 16.0*Ix*Mq*Zw - 16.0*Ix*Mq*m + 16.0*Ix*m**2*xG**2 + 16.0*Ixy**2*Zw + 16.0*Ixy**2*m - 16.0*Iy*Kp*Zw - 16.0*Iy*Kp*m - 16.0*Kp*Mq*Zw - 16.0*Kp*Mq*m + 16.0*Kp*m**2*xG**2) + 2.0*Ix*S4*Zw*d4*rho*u3*x2**2/(-16.0*Ix*Iy*Zw - 16.0*Ix*Iy*m - 16.0*Ix*Mq*Zw - 16.0*Ix*Mq*m + 16.0*Ix*m**2*xG**2 + 16.0*Ixy**2*Zw + 16.0*Ixy**2*m - 16.0*Iy*Kp*Zw - 16.0*Iy*Kp*m - 16.0*Kp*Mq*Zw - 16.0*Kp*Mq*m + 16.0*Kp*m**2*xG**2) - 2.0*Ix*S4*Zw*d4*rho*x2**2*x5/(-16.0*Ix*Iy*Zw - 16.0*Ix*Iy*m - 16.0*Ix*Mq*Zw - 16.0*Ix*Mq*m + 16.0*Ix*m**2*xG**2 + 16.0*Ixy**2*Zw + 16.0*Ixy**2*m - 16.0*Iy*Kp*Zw - 16.0*Iy*Kp*m - 16.0*Kp*Mq*Zw - 16.0*Kp*Mq*m + 16.0*Kp*m**2*xG**2) + 2.0*Ix*S4*d4*m*rho*u**2*u3/(-16.0*Ix*Iy*Zw - 16.0*Ix*Iy*m - 16.0*Ix*Mq*Zw - 16.0*Ix*Mq*m + 16.0*Ix*m**2*xG**2 + 16.0*Ixy**2*Zw + 16.0*Ixy**2*m - 16.0*Iy*Kp*Zw - 16.0*Iy*Kp*m - 16.0*Kp*Mq*Zw - 16.0*Kp*Mq*m + 16.0*Kp*m**2*xG**2) - 2.0*Ix*S4*d4*m*rho*u**2*x5/(-16.0*Ix*Iy*Zw - 16.0*Ix*Iy*m - 16.0*Ix*Mq*Zw - 16.0*Ix*Mq*m + 16.0*Ix*m**2*xG**2 + 16.0*Ixy**2*Zw + 16.0*Ixy**2*m - 16.0*Iy*Kp*Zw - 16.0*Iy*Kp*m - 16.0*Kp*Mq*Zw - 16.0*Kp*Mq*m + 16.0*Kp*m**2*xG**2) + 2.0*Ix*S4*d4*m*rho*u3*x2**2/(-16.0*Ix*Iy*Zw - 16.0*Ix*Iy*m - 16.0*Ix*Mq*Zw - 16.0*Ix*Mq*m + 16.0*Ix*m**2*xG**2 + 16.0*Ixy**2*Zw + 16.0*Ixy**2*m - 16.0*Iy*Kp*Zw - 16.0*Iy*Kp*m - 16.0*Kp*Mq*Zw - 16.0*Kp*Mq*m + 16.0*Kp*m**2*xG**2) - 2.0*Ix*S4*d4*m*rho*x2**2*x5/(-16.0*Ix*Iy*Zw - 16.0*Ix*Iy*m - 16.0*Ix*Mq*Zw - 16.0*Ix*Mq*m + 16.0*Ix*m**2*xG**2 + 16.0*Ixy**2*Zw + 16.0*Ixy**2*m - 16.0*Iy*Kp*Zw - 16.0*Iy*Kp*m - 16.0*Kp*Mq*Zw - 16.0*Kp*Mq*m + 16.0*Kp*m**2*xG**2) + 2.0*Ix*S4*m*rho*u**2*u3*xG/(-16.0*Ix*Iy*Zw - 16.0*Ix*Iy*m - 16.0*Ix*Mq*Zw - 16.0*Ix*Mq*m + 16.0*Ix*m**2*xG**2 + 16.0*Ixy**2*Zw + 16.0*Ixy**2*m - 16.0*Iy*Kp*Zw - 16.0*Iy*Kp*m - 16.0*Kp*Mq*Zw - 16.0*Kp*Mq*m + 16.0*Kp*m**2*xG**2) - 2.0*Ix*S4*m*rho*u**2*x5*xG/(-16.0*Ix*Iy*Zw - 16.0*Ix*Iy*m - 16.0*Ix*Mq*Zw - 16.0*Ix*Mq*m + 16.0*Ix*m**2*xG**2 + 16.0*Ixy**2*Zw + 16.0*Ixy**2*m - 16.0*Iy*Kp*Zw - 16.0*Iy*Kp*m - 16.0*Kp*Mq*Zw - 16.0*Kp*Mq*m + 16.0*Kp*m**2*xG**2) + 2.0*Ix*S4*m*rho*u3*x2**2*xG/(-16.0*Ix*Iy*Zw - 16.0*Ix*Iy*m - 16.0*Ix*Mq*Zw - 16.0*Ix*Mq*m + 16.0*Ix*m**2*xG**2 + 16.0*Ixy**2*Zw + 16.0*Ixy**2*m - 16.0*Iy*Kp*Zw - 16.0*Iy*Kp*m - 16.0*Kp*Mq*Zw - 16.0*Kp*Mq*m + 16.0*Kp*m**2*xG**2) - 2.0*Ix*S4*m*rho*x2**2*x5*xG/(-16.0*Ix*Iy*Zw - 16.0*Ix*Iy*m - 16.0*Ix*Mq*Zw - 16.0*Ix*Mq*m + 16.0*Ix*m**2*xG**2 + 16.0*Ixy**2*Zw + 16.0*Ixy**2*m - 16.0*Iy*Kp*Zw - 16.0*Iy*Kp*m - 16.0*Kp*Mq*Zw - 16.0*Kp*Mq*m + 16.0*Kp*m**2*xG**2) - 16.0*Ix*Vol*Zw*db*g*rho*sin(x5)/(-16.0*Ix*Iy*Zw - 16.0*Ix*Iy*m - 16.0*Ix*Mq*Zw - 16.0*Ix*Mq*m + 16.0*Ix*m**2*xG**2 + 16.0*Ixy**2*Zw + 16.0*Ixy**2*m - 16.0*Iy*Kp*Zw - 16.0*Iy*Kp*m - 16.0*Kp*Mq*Zw - 16.0*Kp*Mq*m + 16.0*Kp*m**2*xG**2) - 16.0*Ix*Vol*db*g*m*rho*sin(x5)/(-16.0*Ix*Iy*Zw - 16.0*Ix*Iy*m - 16.0*Ix*Mq*Zw - 16.0*Ix*Mq*m + 16.0*Ix*m**2*xG**2 + 16.0*Ixy**2*Zw + 16.0*Ixy**2*m - 16.0*Iy*Kp*Zw - 16.0*Iy*Kp*m - 16.0*Kp*Mq*Zw - 16.0*Kp*Mq*m + 16.0*Kp*m**2*xG**2) - 16.0*Ix*Vol*g*m*rho*xG*sin(x5)/(-16.0*Ix*Iy*Zw - 16.0*Ix*Iy*m - 16.0*Ix*Mq*Zw - 16.0*Ix*Mq*m + 16.0*Ix*m**2*xG**2 + 16.0*Ixy**2*Zw + 16.0*Ixy**2*m - 16.0*Iy*Kp*Zw - 16.0*Iy*Kp*m - 16.0*Kp*Mq*Zw - 16.0*Kp*Mq*m + 16.0*Kp*m**2*xG**2) - 16.0*Ix*Zw**2*u*x2/(-16.0*Ix*Iy*Zw - 16.0*Ix*Iy*m - 16.0*Ix*Mq*Zw - 16.0*Ix*Mq*m + 16.0*Ix*m**2*xG**2 + 16.0*Ixy**2*Zw + 16.0*Ixy**2*m - 16.0*Iy*Kp*Zw - 16.0*Iy*Kp*m - 16.0*Kp*Mq*Zw - 16.0*Kp*Mq*m + 16.0*Kp*m**2*xG**2) + 16.0*Ix*Zw*dg*g*m*sin(x5)/(-16.0*Ix*Iy*Zw - 16.0*Ix*Iy*m - 16.0*Ix*Mq*Zw - 16.0*Ix*Mq*m + 16.0*Ix*m**2*xG**2 + 16.0*Ixy**2*Zw + 16.0*Ixy**2*m - 16.0*Iy*Kp*Zw - 16.0*Iy*Kp*m - 16.0*Kp*Mq*Zw - 16.0*Kp*Mq*m + 16.0*Kp*m**2*xG**2) + 16.0*Ix*Zw*dp1*x6/(-16.0*Ix*Iy*Zw - 16.0*Ix*Iy*m - 16.0*Ix*Mq*Zw - 16.0*Ix*Mq*m + 16.0*Ix*m**2*xG**2 + 16.0*Ixy**2*Zw + 16.0*Ixy**2*m - 16.0*Iy*Kp*Zw - 16.0*Iy*Kp*m - 16.0*Kp*Mq*Zw - 16.0*Kp*Mq*m + 16.0*Kp*m**2*xG**2) + 16.0*Ix*Zw*dp2*x6**2/(-16.0*Ix*Iy*Zw - 16.0*Ix*Iy*m - 16.0*Ix*Mq*Zw - 16.0*Ix*Mq*m + 16.0*Ix*m**2*xG**2 + 16.0*Ixy**2*Zw + 16.0*Ixy**2*m - 16.0*Iy*Kp*Zw - 16.0*Iy*Kp*m - 16.0*Kp*Mq*Zw - 16.0*Kp*Mq*m + 16.0*Kp*m**2*xG**2) - 16.0*Ix*Zw*m*u*x2/(-16.0*Ix*Iy*Zw - 16.0*Ix*Iy*m - 16.0*Ix*Mq*Zw - 16.0*Ix*Mq*m + 16.0*Ix*m**2*xG**2 + 16.0*Ixy**2*Zw + 16.0*Ixy**2*m - 16.0*Iy*Kp*Zw - 16.0*Iy*Kp*m - 16.0*Kp*Mq*Zw - 16.0*Kp*Mq*m + 16.0*Kp*m**2*xG**2) - 16.0*Ix*Zw*m*u*x6*xG/(-16.0*Ix*Iy*Zw - 16.0*Ix*Iy*m - 16.0*Ix*Mq*Zw - 16.0*Ix*Mq*m + 16.0*Ix*m**2*xG**2 + 16.0*Ixy**2*Zw + 16.0*Ixy**2*m - 16.0*Iy*Kp*Zw - 16.0*Iy*Kp*m - 16.0*Kp*Mq*Zw - 16.0*Kp*Mq*m + 16.0*Kp*m**2*xG**2) + 16.0*Ix*dg*g*m**2*sin(x5)/(-16.0*Ix*Iy*Zw - 16.0*Ix*Iy*m - 16.0*Ix*Mq*Zw - 16.0*Ix*Mq*m + 16.0*Ix*m**2*xG**2 + 16.0*Ixy**2*Zw + 16.0*Ixy**2*m - 16.0*Iy*Kp*Zw - 16.0*Iy*Kp*m - 16.0*Kp*Mq*Zw - 16.0*Kp*Mq*m + 16.0*Kp*m**2*xG**2) + 16.0*Ix*dh1*m*x2*xG/(-16.0*Ix*Iy*Zw - 16.0*Ix*Iy*m - 16.0*Ix*Mq*Zw - 16.0*Ix*Mq*m + 16.0*Ix*m**2*xG**2 + 16.0*Ixy**2*Zw + 16.0*Ixy**2*m - 16.0*Iy*Kp*Zw - 16.0*Iy*Kp*m - 16.0*Kp*Mq*Zw - 16.0*Kp*Mq*m + 16.0*Kp*m**2*xG**2) + 16.0*Ix*dh2*m*x2**2*xG/(-16.0*Ix*Iy*Zw - 16.0*Ix*Iy*m - 16.0*Ix*Mq*Zw - 16.0*Ix*Mq*m + 16.0*Ix*m**2*xG**2 + 16.0*Ixy**2*Zw + 16.0*Ixy**2*m - 16.0*Iy*Kp*Zw - 16.0*Iy*Kp*m - 16.0*Kp*Mq*Zw - 16.0*Kp*Mq*m + 16.0*Kp*m**2*xG**2) + 16.0*Ix*dp1*m*x6/(-16.0*Ix*Iy*Zw - 16.0*Ix*Iy*m - 16.0*Ix*Mq*Zw - 16.0*Ix*Mq*m + 16.0*Ix*m**2*xG**2 + 16.0*Ixy**2*Zw + 16.0*Ixy**2*m - 16.0*Iy*Kp*Zw - 16.0*Iy*Kp*m - 16.0*Kp*Mq*Zw - 16.0*Kp*Mq*m + 16.0*Kp*m**2*xG**2) + 16.0*Ix*dp2*m*x6**2/(-16.0*Ix*Iy*Zw - 16.0*Ix*Iy*m - 16.0*Ix*Mq*Zw - 16.0*Ix*Mq*m + 16.0*Ix*m**2*xG**2 + 16.0*Ixy**2*Zw + 16.0*Ixy**2*m - 16.0*Iy*Kp*Zw - 16.0*Iy*Kp*m - 16.0*Kp*Mq*Zw - 16.0*Kp*Mq*m + 16.0*Kp*m**2*xG**2) + 16.0*Ix*g*m**2*xG*sin(x5)/(-16.0*Ix*Iy*Zw - 16.0*Ix*Iy*m - 16.0*Ix*Mq*Zw - 16.0*Ix*Mq*m + 16.0*Ix*m**2*xG**2 + 16.0*Ixy**2*Zw + 16.0*Ixy**2*m - 16.0*Iy*Kp*Zw - 16.0*Iy*Kp*m - 16.0*Kp*Mq*Zw - 16.0*Kp*Mq*m + 16.0*Kp*m**2*xG**2) + 16.0*Ixy*Ixz*Zw*x4*x6/(-16.0*Ix*Iy*Zw - 16.0*Ix*Iy*m - 16.0*Ix*Mq*Zw - 16.0*Ix*Mq*m + 16.0*Ix*m**2*xG**2 + 16.0*Ixy**2*Zw + 16.0*Ixy**2*m - 16.0*Iy*Kp*Zw - 16.0*Iy*Kp*m - 16.0*Kp*Mq*Zw - 16.0*Kp*Mq*m + 16.0*Kp*m**2*xG**2) + 16.0*Ixy*Ixz*m*x4*x6/(-16.0*Ix*Iy*Zw - 16.0*Ix*Iy*m - 16.0*Ix*Mq*Zw - 16.0*Ix*Mq*m + 16.0*Ix*m**2*xG**2 + 16.0*Ixy**2*Zw + 16.0*Ixy**2*m - 16.0*Iy*Kp*Zw - 16.0*Iy*Kp*m - 16.0*Kp*Mq*Zw - 16.0*Kp*Mq*m + 16.0*Kp*m**2*xG**2) - 16.0*Ixy*Iyx*Zw*x6**2/(-16.0*Ix*Iy*Zw - 16.0*Ix*Iy*m - 16.0*Ix*Mq*Zw - 16.0*Ix*Mq*m + 16.0*Ix*m**2*xG**2 + 16.0*Ixy**2*Zw + 16.0*Ixy**2*m - 16.0*Iy*Kp*Zw - 16.0*Iy*Kp*m - 16.0*Kp*Mq*Zw - 16.0*Kp*Mq*m + 16.0*Kp*m**2*xG**2) - 16.0*Ixy*Iyx*m*x6**2/(-16.0*Ix*Iy*Zw - 16.0*Ix*Iy*m - 16.0*Ix*Mq*Zw - 16.0*Ix*Mq*m + 16.0*Ix*m**2*xG**2 + 16.0*Ixy**2*Zw + 16.0*Ixy**2*m - 16.0*Iy*Kp*Zw - 16.0*Iy*Kp*m - 16.0*Kp*Mq*Zw - 16.0*Kp*Mq*m + 16.0*Kp*m**2*xG**2) + Ixy*S2*Zw*r1*rho*u**2*u1/(-16.0*Ix*Iy*Zw - 16.0*Ix*Iy*m - 16.0*Ix*Mq*Zw - 16.0*Ix*Mq*m + 16.0*Ix*m**2*xG**2 + 16.0*Ixy**2*Zw + 16.0*Ixy**2*m - 16.0*Iy*Kp*Zw - 16.0*Iy*Kp*m - 16.0*Kp*Mq*Zw - 16.0*Kp*Mq*m + 16.0*Kp*m**2*xG**2) - Ixy*S2*Zw*r1*rho*u**2*u2/(-16.0*Ix*Iy*Zw - 16.0*Ix*Iy*m - 16.0*Ix*Mq*Zw - 16.0*Ix*Mq*m + 16.0*Ix*m**2*xG**2 + 16.0*Ixy**2*Zw + 16.0*Ixy**2*m - 16.0*Iy*Kp*Zw - 16.0*Iy*Kp*m - 16.0*Kp*Mq*Zw - 16.0*Kp*Mq*m + 16.0*Kp*m**2*xG**2) + Ixy*S2*Zw*r1*rho*u1*x2**2/(-16.0*Ix*Iy*Zw - 16.0*Ix*Iy*m - 16.0*Ix*Mq*Zw - 16.0*Ix*Mq*m + 16.0*Ix*m**2*xG**2 + 16.0*Ixy**2*Zw + 16.0*Ixy**2*m - 16.0*Iy*Kp*Zw - 16.0*Iy*Kp*m - 16.0*Kp*Mq*Zw - 16.0*Kp*Mq*m + 16.0*Kp*m**2*xG**2) - Ixy*S2*Zw*r1*rho*u2*x2**2/(-16.0*Ix*Iy*Zw - 16.0*Ix*Iy*m - 16.0*Ix*Mq*Zw - 16.0*Ix*Mq*m + 16.0*Ix*m**2*xG**2 + 16.0*Ixy**2*Zw + 16.0*Ixy**2*m - 16.0*Iy*Kp*Zw - 16.0*Iy*Kp*m - 16.0*Kp*Mq*Zw - 16.0*Kp*Mq*m + 16.0*Kp*m**2*xG**2) + Ixy*S2*m*r1*rho*u**2*u1/(-16.0*Ix*Iy*Zw - 16.0*Ix*Iy*m - 16.0*Ix*Mq*Zw - 16.0*Ix*Mq*m + 16.0*Ix*m**2*xG**2 + 16.0*Ixy**2*Zw + 16.0*Ixy**2*m - 16.0*Iy*Kp*Zw - 16.0*Iy*Kp*m - 16.0*Kp*Mq*Zw - 16.0*Kp*Mq*m + 16.0*Kp*m**2*xG**2) - Ixy*S2*m*r1*rho*u**2*u2/(-16.0*Ix*Iy*Zw - 16.0*Ix*Iy*m - 16.0*Ix*Mq*Zw - 16.0*Ix*Mq*m + 16.0*Ix*m**2*xG**2 + 16.0*Ixy**2*Zw + 16.0*Ixy**2*m - 16.0*Iy*Kp*Zw - 16.0*Iy*Kp*m - 16.0*Kp*Mq*Zw - 16.0*Kp*Mq*m + 16.0*Kp*m**2*xG**2) + Ixy*S2*m*r1*rho*u1*x2**2/(-16.0*Ix*Iy*Zw - 16.0*Ix*Iy*m - 16.0*Ix*Mq*Zw - 16.0*Ix*Mq*m + 16.0*Ix*m**2*xG**2 + 16.0*Ixy**2*Zw + 16.0*Ixy**2*m - 16.0*Iy*Kp*Zw - 16.0*Iy*Kp*m - 16.0*Kp*Mq*Zw - 16.0*Kp*Mq*m + 16.0*Kp*m**2*xG**2) - Ixy*S2*m*r1*rho*u2*x2**2/(-16.0*Ix*Iy*Zw - 16.0*Ix*Iy*m - 16.0*Ix*Mq*Zw - 16.0*Ix*Mq*m + 16.0*Ix*m**2*xG**2 + 16.0*Ixy**2*Zw + 16.0*Ixy**2*m - 16.0*Iy*Kp*Zw - 16.0*Iy*Kp*m - 16.0*Kp*Mq*Zw - 16.0*Kp*Mq*m + 16.0*Kp*m**2*xG**2) + 16.0*Ixy*Zw*dr1*x4/(-16.0*Ix*Iy*Zw - 16.0*Ix*Iy*m - 16.0*Ix*Mq*Zw - 16.0*Ix*Mq*m + 16.0*Ix*m**2*xG**2 + 16.0*Ixy**2*Zw + 16.0*Ixy**2*m - 16.0*Iy*Kp*Zw - 16.0*Iy*Kp*m - 16.0*Kp*Mq*Zw - 16.0*Kp*Mq*m + 16.0*Kp*m**2*xG**2) + 16.0*Ixy*Zw*dr2*x4**2/(-16.0*Ix*Iy*Zw - 16.0*Ix*Iy*m - 16.0*Ix*Mq*Zw - 16.0*Ix*Mq*m + 16.0*Ix*m**2*xG**2 + 16.0*Ixy**2*Zw + 16.0*Ixy**2*m - 16.0*Iy*Kp*Zw - 16.0*Iy*Kp*m - 16.0*Kp*Mq*Zw - 16.0*Kp*Mq*m + 16.0*Kp*m**2*xG**2) + 16.0*Ixy*dr1*m*x4/(-16.0*Ix*Iy*Zw - 16.0*Ix*Iy*m - 16.0*Ix*Mq*Zw - 16.0*Ix*Mq*m + 16.0*Ix*m**2*xG**2 + 16.0*Ixy**2*Zw + 16.0*Ixy**2*m - 16.0*Iy*Kp*Zw - 16.0*Iy*Kp*m - 16.0*Kp*Mq*Zw - 16.0*Kp*Mq*m + 16.0*Kp*m**2*xG**2) + 16.0*Ixy*dr2*m*x4**2/(-16.0*Ix*Iy*Zw - 16.0*Ix*Iy*m - 16.0*Ix*Mq*Zw - 16.0*Ix*Mq*m + 16.0*Ix*m**2*xG**2 + 16.0*Ixy**2*Zw + 16.0*Ixy**2*m - 16.0*Iy*Kp*Zw - 16.0*Iy*Kp*m - 16.0*Kp*Mq*Zw - 16.0*Kp*Mq*m + 16.0*Kp*m**2*xG**2) - 16.0*Ixz*Kp*Zw*x4**2/(-16.0*Ix*Iy*Zw - 16.0*Ix*Iy*m - 16.0*Ix*Mq*Zw - 16.0*Ix*Mq*m + 16.0*Ix*m**2*xG**2 + 16.0*Ixy**2*Zw + 16.0*Ixy**2*m - 16.0*Iy*Kp*Zw - 16.0*Iy*Kp*m - 16.0*Kp*Mq*Zw - 16.0*Kp*Mq*m + 16.0*Kp*m**2*xG**2) - 16.0*Ixz*Kp*m*x4**2/(-16.0*Ix*Iy*Zw - 16.0*Ix*Iy*m - 16.0*Ix*Mq*Zw - 16.0*Ix*Mq*m + 16.0*Ix*m**2*xG**2 + 16.0*Ixy**2*Zw + 16.0*Ixy**2*m - 16.0*Iy*Kp*Zw - 16.0*Iy*Kp*m - 16.0*Kp*Mq*Zw - 16.0*Kp*Mq*m + 16.0*Kp*m**2*xG**2) - 16.0*Iyz*Kp*Zw*x4*x6/(-16.0*Ix*Iy*Zw - 16.0*Ix*Iy*m - 16.0*Ix*Mq*Zw - 16.0*Ix*Mq*m + 16.0*Ix*m**2*xG**2 + 16.0*Ixy**2*Zw + 16.0*Ixy**2*m - 16.0*Iy*Kp*Zw - 16.0*Iy*Kp*m - 16.0*Kp*Mq*Zw - 16.0*Kp*Mq*m + 16.0*Kp*m**2*xG**2) - 16.0*Iyz*Kp*m*x4*x6/(-16.0*Ix*Iy*Zw - 16.0*Ix*Iy*m - 16.0*Ix*Mq*Zw - 16.0*Ix*Mq*m + 16.0*Ix*m**2*xG**2 + 16.0*Ixy**2*Zw + 16.0*Ixy**2*m - 16.0*Iy*Kp*Zw - 16.0*Iy*Kp*m - 16.0*Kp*Mq*Zw - 16.0*Kp*Mq*m + 16.0*Kp*m**2*xG**2) - 2.0*Kp*S1*Zw*d1*rho*u**2*x5/(-16.0*Ix*Iy*Zw - 16.0*Ix*Iy*m - 16.0*Ix*Mq*Zw - 16.0*Ix*Mq*m + 16.0*Ix*m**2*xG**2 + 16.0*Ixy**2*Zw + 16.0*Ixy**2*m - 16.0*Iy*Kp*Zw - 16.0*Iy*Kp*m - 16.0*Kp*Mq*Zw - 16.0*Kp*Mq*m + 16.0*Kp*m**2*xG**2) - 2.0*Kp*S1*Zw*d1*rho*x2**2*x5/(-16.0*Ix*Iy*Zw - 16.0*Ix*Iy*m - 16.0*Ix*Mq*Zw - 16.0*Ix*Mq*m + 16.0*Ix*m**2*xG**2 + 16.0*Ixy**2*Zw + 16.0*Ixy**2*m - 16.0*Iy*Kp*Zw - 16.0*Iy*Kp*m - 16.0*Kp*Mq*Zw - 16.0*Kp*Mq*m + 16.0*Kp*m**2*xG**2) - 2.0*Kp*S1*d1*m*rho*u**2*x5/(-16.0*Ix*Iy*Zw - 16.0*Ix*Iy*m - 16.0*Ix*Mq*Zw - 16.0*Ix*Mq*m + 16.0*Ix*m**2*xG**2 + 16.0*Ixy**2*Zw + 16.0*Ixy**2*m - 16.0*Iy*Kp*Zw - 16.0*Iy*Kp*m - 16.0*Kp*Mq*Zw - 16.0*Kp*Mq*m + 16.0*Kp*m**2*xG**2) - 2.0*Kp*S1*d1*m*rho*x2**2*x5/(-16.0*Ix*Iy*Zw - 16.0*Ix*Iy*m - 16.0*Ix*Mq*Zw - 16.0*Ix*Mq*m + 16.0*Ix*m**2*xG**2 + 16.0*Ixy**2*Zw + 16.0*Ixy**2*m - 16.0*Iy*Kp*Zw - 16.0*Iy*Kp*m - 16.0*Kp*Mq*Zw - 16.0*Kp*Mq*m + 16.0*Kp*m**2*xG**2) - 2.0*Kp*S1*m*rho*u**2*x5*xG/(-16.0*Ix*Iy*Zw - 16.0*Ix*Iy*m - 16.0*Ix*Mq*Zw - 16.0*Ix*Mq*m + 16.0*Ix*m**2*xG**2 + 16.0*Ixy**2*Zw + 16.0*Ixy**2*m - 16.0*Iy*Kp*Zw - 16.0*Iy*Kp*m - 16.0*Kp*Mq*Zw - 16.0*Kp*Mq*m + 16.0*Kp*m**2*xG**2) - 2.0*Kp*S1*m*rho*x2**2*x5*xG/(-16.0*Ix*Iy*Zw - 16.0*Ix*Iy*m - 16.0*Ix*Mq*Zw - 16.0*Ix*Mq*m + 16.0*Ix*m**2*xG**2 + 16.0*Ixy**2*Zw + 16.0*Ixy**2*m - 16.0*Iy*Kp*Zw - 16.0*Iy*Kp*m - 16.0*Kp*Mq*Zw - 16.0*Kp*Mq*m + 16.0*Kp*m**2*xG**2) + Kp*S2*Zw*d2*rho*u**2*u1/(-16.0*Ix*Iy*Zw - 16.0*Ix*Iy*m - 16.0*Ix*Mq*Zw - 16.0*Ix*Mq*m + 16.0*Ix*m**2*xG**2 + 16.0*Ixy**2*Zw + 16.0*Ixy**2*m - 16.0*Iy*Kp*Zw - 16.0*Iy*Kp*m - 16.0*Kp*Mq*Zw - 16.0*Kp*Mq*m + 16.0*Kp*m**2*xG**2) + Kp*S2*Zw*d2*rho*u**2*u2/(-16.0*Ix*Iy*Zw - 16.0*Ix*Iy*m - 16.0*Ix*Mq*Zw - 16.0*Ix*Mq*m + 16.0*Ix*m**2*xG**2 + 16.0*Ixy**2*Zw + 16.0*Ixy**2*m - 16.0*Iy*Kp*Zw - 16.0*Iy*Kp*m - 16.0*Kp*Mq*Zw - 16.0*Kp*Mq*m + 16.0*Kp*m**2*xG**2) - 2.0*Kp*S2*Zw*d2*rho*u**2*x5/(-16.0*Ix*Iy*Zw - 16.0*Ix*Iy*m - 16.0*Ix*Mq*Zw - 16.0*Ix*Mq*m + 16.0*Ix*m**2*xG**2 + 16.0*Ixy**2*Zw + 16.0*Ixy**2*m - 16.0*Iy*Kp*Zw - 16.0*Iy*Kp*m - 16.0*Kp*Mq*Zw - 16.0*Kp*Mq*m + 16.0*Kp*m**2*xG**2) + Kp*S2*Zw*d2*rho*u1*x2**2/(-16.0*Ix*Iy*Zw - 16.0*Ix*Iy*m - 16.0*Ix*Mq*Zw - 16.0*Ix*Mq*m + 16.0*Ix*m**2*xG**2 + 16.0*Ixy**2*Zw + 16.0*Ixy**2*m - 16.0*Iy*Kp*Zw - 16.0*Iy*Kp*m - 16.0*Kp*Mq*Zw - 16.0*Kp*Mq*m + 16.0*Kp*m**2*xG**2) + Kp*S2*Zw*d2*rho*u2*x2**2/(-16.0*Ix*Iy*Zw - 16.0*Ix*Iy*m - 16.0*Ix*Mq*Zw - 16.0*Ix*Mq*m + 16.0*Ix*m**2*xG**2 + 16.0*Ixy**2*Zw + 16.0*Ixy**2*m - 16.0*Iy*Kp*Zw - 16.0*Iy*Kp*m - 16.0*Kp*Mq*Zw - 16.0*Kp*Mq*m + 16.0*Kp*m**2*xG**2) - 2.0*Kp*S2*Zw*d2*rho*x2**2*x5/(-16.0*Ix*Iy*Zw - 16.0*Ix*Iy*m - 16.0*Ix*Mq*Zw - 16.0*Ix*Mq*m + 16.0*Ix*m**2*xG**2 + 16.0*Ixy**2*Zw + 16.0*Ixy**2*m - 16.0*Iy*Kp*Zw - 16.0*Iy*Kp*m - 16.0*Kp*Mq*Zw - 16.0*Kp*Mq*m + 16.0*Kp*m**2*xG**2) + Kp*S2*d2*m*rho*u**2*u1/(-16.0*Ix*Iy*Zw - 16.0*Ix*Iy*m - 16.0*Ix*Mq*Zw - 16.0*Ix*Mq*m + 16.0*Ix*m**2*xG**2 + 16.0*Ixy**2*Zw + 16.0*Ixy**2*m - 16.0*Iy*Kp*Zw - 16.0*Iy*Kp*m - 16.0*Kp*Mq*Zw - 16.0*Kp*Mq*m + 16.0*Kp*m**2*xG**2) + Kp*S2*d2*m*rho*u**2*u2/(-16.0*Ix*Iy*Zw - 16.0*Ix*Iy*m - 16.0*Ix*Mq*Zw - 16.0*Ix*Mq*m + 16.0*Ix*m**2*xG**2 + 16.0*Ixy**2*Zw + 16.0*Ixy**2*m - 16.0*Iy*Kp*Zw - 16.0*Iy*Kp*m - 16.0*Kp*Mq*Zw - 16.0*Kp*Mq*m + 16.0*Kp*m**2*xG**2) - 2.0*Kp*S2*d2*m*rho*u**2*x5/(-16.0*Ix*Iy*Zw - 16.0*Ix*Iy*m - 16.0*Ix*Mq*Zw - 16.0*Ix*Mq*m + 16.0*Ix*m**2*xG**2 + 16.0*Ixy**2*Zw + 16.0*Ixy**2*m - 16.0*Iy*Kp*Zw - 16.0*Iy*Kp*m - 16.0*Kp*Mq*Zw - 16.0*Kp*Mq*m + 16.0*Kp*m**2*xG**2) + Kp*S2*d2*m*rho*u1*x2**2/(-16.0*Ix*Iy*Zw - 16.0*Ix*Iy*m - 16.0*Ix*Mq*Zw - 16.0*Ix*Mq*m + 16.0*Ix*m**2*xG**2 + 16.0*Ixy**2*Zw + 16.0*Ixy**2*m - 16.0*Iy*Kp*Zw - 16.0*Iy*Kp*m - 16.0*Kp*Mq*Zw - 16.0*Kp*Mq*m + 16.0*Kp*m**2*xG**2) + Kp*S2*d2*m*rho*u2*x2**2/(-16.0*Ix*Iy*Zw - 16.0*Ix*Iy*m - 16.0*Ix*Mq*Zw - 16.0*Ix*Mq*m + 16.0*Ix*m**2*xG**2 + 16.0*Ixy**2*Zw + 16.0*Ixy**2*m - 16.0*Iy*Kp*Zw - 16.0*Iy*Kp*m - 16.0*Kp*Mq*Zw - 16.0*Kp*Mq*m + 16.0*Kp*m**2*xG**2) - 2.0*Kp*S2*d2*m*rho*x2**2*x5/(-16.0*Ix*Iy*Zw - 16.0*Ix*Iy*m - 16.0*Ix*Mq*Zw - 16.0*Ix*Mq*m + 16.0*Ix*m**2*xG**2 + 16.0*Ixy**2*Zw + 16.0*Ixy**2*m - 16.0*Iy*Kp*Zw - 16.0*Iy*Kp*m - 16.0*Kp*Mq*Zw - 16.0*Kp*Mq*m + 16.0*Kp*m**2*xG**2) + Kp*S2*m*rho*u**2*u1*xG/(-16.0*Ix*Iy*Zw - 16.0*Ix*Iy*m - 16.0*Ix*Mq*Zw - 16.0*Ix*Mq*m + 16.0*Ix*m**2*xG**2 + 16.0*Ixy**2*Zw + 16.0*Ixy**2*m - 16.0*Iy*Kp*Zw - 16.0*Iy*Kp*m - 16.0*Kp*Mq*Zw - 16.0*Kp*Mq*m + 16.0*Kp*m**2*xG**2) + Kp*S2*m*rho*u**2*u2*xG/(-16.0*Ix*Iy*Zw - 16.0*Ix*Iy*m - 16.0*Ix*Mq*Zw - 16.0*Ix*Mq*m + 16.0*Ix*m**2*xG**2 + 16.0*Ixy**2*Zw + 16.0*Ixy**2*m - 16.0*Iy*Kp*Zw - 16.0*Iy*Kp*m - 16.0*Kp*Mq*Zw - 16.0*Kp*Mq*m + 16.0*Kp*m**2*xG**2) - 2.0*Kp*S2*m*rho*u**2*x5*xG/(-16.0*Ix*Iy*Zw - 16.0*Ix*Iy*m - 16.0*Ix*Mq*Zw - 16.0*Ix*Mq*m + 16.0*Ix*m**2*xG**2 + 16.0*Ixy**2*Zw + 16.0*Ixy**2*m - 16.0*Iy*Kp*Zw - 16.0*Iy*Kp*m - 16.0*Kp*Mq*Zw - 16.0*Kp*Mq*m + 16.0*Kp*m**2*xG**2) + Kp*S2*m*rho*u1*x2**2*xG/(-16.0*Ix*Iy*Zw - 16.0*Ix*Iy*m - 16.0*Ix*Mq*Zw - 16.0*Ix*Mq*m + 16.0*Ix*m**2*xG**2 + 16.0*Ixy**2*Zw + 16.0*Ixy**2*m - 16.0*Iy*Kp*Zw - 16.0*Iy*Kp*m - 16.0*Kp*Mq*Zw - 16.0*Kp*Mq*m + 16.0*Kp*m**2*xG**2) + Kp*S2*m*rho*u2*x2**2*xG/(-16.0*Ix*Iy*Zw - 16.0*Ix*Iy*m - 16.0*Ix*Mq*Zw - 16.0*Ix*Mq*m + 16.0*Ix*m**2*xG**2 + 16.0*Ixy**2*Zw + 16.0*Ixy**2*m - 16.0*Iy*Kp*Zw - 16.0*Iy*Kp*m - 16.0*Kp*Mq*Zw - 16.0*Kp*Mq*m + 16.0*Kp*m**2*xG**2) - 2.0*Kp*S2*m*rho*x2**2*x5*xG/(-16.0*Ix*Iy*Zw - 16.0*Ix*Iy*m - 16.0*Ix*Mq*Zw - 16.0*Ix*Mq*m + 16.0*Ix*m**2*xG**2 + 16.0*Ixy**2*Zw + 16.0*Ixy**2*m - 16.0*Iy*Kp*Zw - 16.0*Iy*Kp*m - 16.0*Kp*Mq*Zw - 16.0*Kp*Mq*m + 16.0*Kp*m**2*xG**2) - 2.0*Kp*S3*Zw*d3*rho*u**2*x5/(-16.0*Ix*Iy*Zw - 16.0*Ix*Iy*m - 16.0*Ix*Mq*Zw - 16.0*Ix*Mq*m + 16.0*Ix*m**2*xG**2 + 16.0*Ixy**2*Zw + 16.0*Ixy**2*m - 16.0*Iy*Kp*Zw - 16.0*Iy*Kp*m - 16.0*Kp*Mq*Zw - 16.0*Kp*Mq*m + 16.0*Kp*m**2*xG**2) - 2.0*Kp*S3*Zw*d3*rho*x2**2*x5/(-16.0*Ix*Iy*Zw - 16.0*Ix*Iy*m - 16.0*Ix*Mq*Zw - 16.0*Ix*Mq*m + 16.0*Ix*m**2*xG**2 + 16.0*Ixy**2*Zw + 16.0*Ixy**2*m - 16.0*Iy*Kp*Zw - 16.0*Iy*Kp*m - 16.0*Kp*Mq*Zw - 16.0*Kp*Mq*m + 16.0*Kp*m**2*xG**2) - 2.0*Kp*S3*d3*m*rho*u**2*x5/(-16.0*Ix*Iy*Zw - 16.0*Ix*Iy*m - 16.0*Ix*Mq*Zw - 16.0*Ix*Mq*m + 16.0*Ix*m**2*xG**2 + 16.0*Ixy**2*Zw + 16.0*Ixy**2*m - 16.0*Iy*Kp*Zw - 16.0*Iy*Kp*m - 16.0*Kp*Mq*Zw - 16.0*Kp*Mq*m + 16.0*Kp*m**2*xG**2) - 2.0*Kp*S3*d3*m*rho*x2**2*x5/(-16.0*Ix*Iy*Zw - 16.0*Ix*Iy*m - 16.0*Ix*Mq*Zw - 16.0*Ix*Mq*m + 16.0*Ix*m**2*xG**2 + 16.0*Ixy**2*Zw + 16.0*Ixy**2*m - 16.0*Iy*Kp*Zw - 16.0*Iy*Kp*m - 16.0*Kp*Mq*Zw - 16.0*Kp*Mq*m + 16.0*Kp*m**2*xG**2) - 2.0*Kp*S3*m*rho*u**2*x5*xG/(-16.0*Ix*Iy*Zw - 16.0*Ix*Iy*m - 16.0*Ix*Mq*Zw - 16.0*Ix*Mq*m + 16.0*Ix*m**2*xG**2 + 16.0*Ixy**2*Zw + 16.0*Ixy**2*m - 16.0*Iy*Kp*Zw - 16.0*Iy*Kp*m - 16.0*Kp*Mq*Zw - 16.0*Kp*Mq*m + 16.0*Kp*m**2*xG**2) - 2.0*Kp*S3*m*rho*x2**2*x5*xG/(-16.0*Ix*Iy*Zw - 16.0*Ix*Iy*m - 16.0*Ix*Mq*Zw - 16.0*Ix*Mq*m + 16.0*Ix*m**2*xG**2 + 16.0*Ixy**2*Zw + 16.0*Ixy**2*m - 16.0*Iy*Kp*Zw - 16.0*Iy*Kp*m - 16.0*Kp*Mq*Zw - 16.0*Kp*Mq*m + 16.0*Kp*m**2*xG**2) + 2.0*Kp*S4*Zw*d4*rho*u**2*u3/(-16.0*Ix*Iy*Zw - 16.0*Ix*Iy*m - 16.0*Ix*Mq*Zw - 16.0*Ix*Mq*m + 16.0*Ix*m**2*xG**2 + 16.0*Ixy**2*Zw + 16.0*Ixy**2*m - 16.0*Iy*Kp*Zw - 16.0*Iy*Kp*m - 16.0*Kp*Mq*Zw - 16.0*Kp*Mq*m + 16.0*Kp*m**2*xG**2) - 2.0*Kp*S4*Zw*d4*rho*u**2*x5/(-16.0*Ix*Iy*Zw - 16.0*Ix*Iy*m - 16.0*Ix*Mq*Zw - 16.0*Ix*Mq*m + 16.0*Ix*m**2*xG**2 + 16.0*Ixy**2*Zw + 16.0*Ixy**2*m - 16.0*Iy*Kp*Zw - 16.0*Iy*Kp*m - 16.0*Kp*Mq*Zw - 16.0*Kp*Mq*m + 16.0*Kp*m**2*xG**2) + 2.0*Kp*S4*Zw*d4*rho*u3*x2**2/(-16.0*Ix*Iy*Zw - 16.0*Ix*Iy*m - 16.0*Ix*Mq*Zw - 16.0*Ix*Mq*m + 16.0*Ix*m**2*xG**2 + 16.0*Ixy**2*Zw + 16.0*Ixy**2*m - 16.0*Iy*Kp*Zw - 16.0*Iy*Kp*m - 16.0*Kp*Mq*Zw - 16.0*Kp*Mq*m + 16.0*Kp*m**2*xG**2) - 2.0*Kp*S4*Zw*d4*rho*x2**2*x5/(-16.0*Ix*Iy*Zw - 16.0*Ix*Iy*m - 16.0*Ix*Mq*Zw - 16.0*Ix*Mq*m + 16.0*Ix*m**2*xG**2 + 16.0*Ixy**2*Zw + 16.0*Ixy**2*m - 16.0*Iy*Kp*Zw - 16.0*Iy*Kp*m - 16.0*Kp*Mq*Zw - 16.0*Kp*Mq*m + 16.0*Kp*m**2*xG**2) + 2.0*Kp*S4*d4*m*rho*u**2*u3/(-16.0*Ix*Iy*Zw - 16.0*Ix*Iy*m - 16.0*Ix*Mq*Zw - 16.0*Ix*Mq*m + 16.0*Ix*m**2*xG**2 + 16.0*Ixy**2*Zw + 16.0*Ixy**2*m - 16.0*Iy*Kp*Zw - 16.0*Iy*Kp*m - 16.0*Kp*Mq*Zw - 16.0*Kp*Mq*m + 16.0*Kp*m**2*xG**2) - 2.0*Kp*S4*d4*m*rho*u**2*x5/(-16.0*Ix*Iy*Zw - 16.0*Ix*Iy*m - 16.0*Ix*Mq*Zw - 16.0*Ix*Mq*m + 16.0*Ix*m**2*xG**2 + 16.0*Ixy**2*Zw + 16.0*Ixy**2*m - 16.0*Iy*Kp*Zw - 16.0*Iy*Kp*m - 16.0*Kp*Mq*Zw - 16.0*Kp*Mq*m + 16.0*Kp*m**2*xG**2) + 2.0*Kp*S4*d4*m*rho*u3*x2**2/(-16.0*Ix*Iy*Zw - 16.0*Ix*Iy*m - 16.0*Ix*Mq*Zw - 16.0*Ix*Mq*m + 16.0*Ix*m**2*xG**2 + 16.0*Ixy**2*Zw + 16.0*Ixy**2*m - 16.0*Iy*Kp*Zw - 16.0*Iy*Kp*m - 16.0*Kp*Mq*Zw - 16.0*Kp*Mq*m + 16.0*Kp*m**2*xG**2) - 2.0*Kp*S4*d4*m*rho*x2**2*x5/(-16.0*Ix*Iy*Zw - 16.0*Ix*Iy*m - 16.0*Ix*Mq*Zw - 16.0*Ix*Mq*m + 16.0*Ix*m**2*xG**2 + 16.0*Ixy**2*Zw + 16.0*Ixy**2*m - 16.0*Iy*Kp*Zw - 16.0*Iy*Kp*m - 16.0*Kp*Mq*Zw - 16.0*Kp*Mq*m + 16.0*Kp*m**2*xG**2) + 2.0*Kp*S4*m*rho*u**2*u3*xG/(-16.0*Ix*Iy*Zw - 16.0*Ix*Iy*m - 16.0*Ix*Mq*Zw - 16.0*Ix*Mq*m + 16.0*Ix*m**2*xG**2 + 16.0*Ixy**2*Zw + 16.0*Ixy**2*m - 16.0*Iy*Kp*Zw - 16.0*Iy*Kp*m - 16.0*Kp*Mq*Zw - 16.0*Kp*Mq*m + 16.0*Kp*m**2*xG**2) - 2.0*Kp*S4*m*rho*u**2*x5*xG/(-16.0*Ix*Iy*Zw - 16.0*Ix*Iy*m - 16.0*Ix*Mq*Zw - 16.0*Ix*Mq*m + 16.0*Ix*m**2*xG**2 + 16.0*Ixy**2*Zw + 16.0*Ixy**2*m - 16.0*Iy*Kp*Zw - 16.0*Iy*Kp*m - 16.0*Kp*Mq*Zw - 16.0*Kp*Mq*m + 16.0*Kp*m**2*xG**2) + 2.0*Kp*S4*m*rho*u3*x2**2*xG/(-16.0*Ix*Iy*Zw - 16.0*Ix*Iy*m - 16.0*Ix*Mq*Zw - 16.0*Ix*Mq*m + 16.0*Ix*m**2*xG**2 + 16.0*Ixy**2*Zw + 16.0*Ixy**2*m - 16.0*Iy*Kp*Zw - 16.0*Iy*Kp*m - 16.0*Kp*Mq*Zw - 16.0*Kp*Mq*m + 16.0*Kp*m**2*xG**2) - 2.0*Kp*S4*m*rho*x2**2*x5*xG/(-16.0*Ix*Iy*Zw - 16.0*Ix*Iy*m - 16.0*Ix*Mq*Zw - 16.0*Ix*Mq*m + 16.0*Ix*m**2*xG**2 + 16.0*Ixy**2*Zw + 16.0*Ixy**2*m - 16.0*Iy*Kp*Zw - 16.0*Iy*Kp*m - 16.0*Kp*Mq*Zw - 16.0*Kp*Mq*m + 16.0*Kp*m**2*xG**2) - 16.0*Kp*Vol*Zw*db*g*rho*sin(x5)/(-16.0*Ix*Iy*Zw - 16.0*Ix*Iy*m - 16.0*Ix*Mq*Zw - 16.0*Ix*Mq*m + 16.0*Ix*m**2*xG**2 + 16.0*Ixy**2*Zw + 16.0*Ixy**2*m - 16.0*Iy*Kp*Zw - 16.0*Iy*Kp*m - 16.0*Kp*Mq*Zw - 16.0*Kp*Mq*m + 16.0*Kp*m**2*xG**2) - 16.0*Kp*Vol*db*g*m*rho*sin(x5)/(-16.0*Ix*Iy*Zw - 16.0*Ix*Iy*m - 16.0*Ix*Mq*Zw - 16.0*Ix*Mq*m + 16.0*Ix*m**2*xG**2 + 16.0*Ixy**2*Zw + 16.0*Ixy**2*m - 16.0*Iy*Kp*Zw - 16.0*Iy*Kp*m - 16.0*Kp*Mq*Zw - 16.0*Kp*Mq*m + 16.0*Kp*m**2*xG**2) - 16.0*Kp*Vol*g*m*rho*xG*sin(x5)/(-16.0*Ix*Iy*Zw - 16.0*Ix*Iy*m - 16.0*Ix*Mq*Zw - 16.0*Ix*Mq*m + 16.0*Ix*m**2*xG**2 + 16.0*Ixy**2*Zw + 16.0*Ixy**2*m - 16.0*Iy*Kp*Zw - 16.0*Iy*Kp*m - 16.0*Kp*Mq*Zw - 16.0*Kp*Mq*m + 16.0*Kp*m**2*xG**2) - 16.0*Kp*Zw**2*u*x2/(-16.0*Ix*Iy*Zw - 16.0*Ix*Iy*m - 16.0*Ix*Mq*Zw - 16.0*Ix*Mq*m + 16.0*Ix*m**2*xG**2 + 16.0*Ixy**2*Zw + 16.0*Ixy**2*m - 16.0*Iy*Kp*Zw - 16.0*Iy*Kp*m - 16.0*Kp*Mq*Zw - 16.0*Kp*Mq*m + 16.0*Kp*m**2*xG**2) + 16.0*Kp*Zw*dg*g*m*sin(x5)/(-16.0*Ix*Iy*Zw - 16.0*Ix*Iy*m - 16.0*Ix*Mq*Zw - 16.0*Ix*Mq*m + 16.0*Ix*m**2*xG**2 + 16.0*Ixy**2*Zw + 16.0*Ixy**2*m - 16.0*Iy*Kp*Zw - 16.0*Iy*Kp*m - 16.0*Kp*Mq*Zw - 16.0*Kp*Mq*m + 16.0*Kp*m**2*xG**2) + 16.0*Kp*Zw*dp1*x6/(-16.0*Ix*Iy*Zw - 16.0*Ix*Iy*m - 16.0*Ix*Mq*Zw - 16.0*Ix*Mq*m + 16.0*Ix*m**2*xG**2 + 16.0*Ixy**2*Zw + 16.0*Ixy**2*m - 16.0*Iy*Kp*Zw - 16.0*Iy*Kp*m - 16.0*Kp*Mq*Zw - 16.0*Kp*Mq*m + 16.0*Kp*m**2*xG**2) + 16.0*Kp*Zw*dp2*x6**2/(-16.0*Ix*Iy*Zw - 16.0*Ix*Iy*m - 16.0*Ix*Mq*Zw - 16.0*Ix*Mq*m + 16.0*Ix*m**2*xG**2 + 16.0*Ixy**2*Zw + 16.0*Ixy**2*m - 16.0*Iy*Kp*Zw - 16.0*Iy*Kp*m - 16.0*Kp*Mq*Zw - 16.0*Kp*Mq*m + 16.0*Kp*m**2*xG**2) - 16.0*Kp*Zw*m*u*x2/(-16.0*Ix*Iy*Zw - 16.0*Ix*Iy*m - 16.0*Ix*Mq*Zw - 16.0*Ix*Mq*m + 16.0*Ix*m**2*xG**2 + 16.0*Ixy**2*Zw + 16.0*Ixy**2*m - 16.0*Iy*Kp*Zw - 16.0*Iy*Kp*m - 16.0*Kp*Mq*Zw - 16.0*Kp*Mq*m + 16.0*Kp*m**2*xG**2) - 16.0*Kp*Zw*m*u*x6*xG/(-16.0*Ix*Iy*Zw - 16.0*Ix*Iy*m - 16.0*Ix*Mq*Zw - 16.0*Ix*Mq*m + 16.0*Ix*m**2*xG**2 + 16.0*Ixy**2*Zw + 16.0*Ixy**2*m - 16.0*Iy*Kp*Zw - 16.0*Iy*Kp*m - 16.0*Kp*Mq*Zw - 16.0*Kp*Mq*m + 16.0*Kp*m**2*xG**2) + 16.0*Kp*dg*g*m**2*sin(x5)/(-16.0*Ix*Iy*Zw - 16.0*Ix*Iy*m - 16.0*Ix*Mq*Zw - 16.0*Ix*Mq*m + 16.0*Ix*m**2*xG**2 + 16.0*Ixy**2*Zw + 16.0*Ixy**2*m - 16.0*Iy*Kp*Zw - 16.0*Iy*Kp*m - 16.0*Kp*Mq*Zw - 16.0*Kp*Mq*m + 16.0*Kp*m**2*xG**2) + 16.0*Kp*dh1*m*x2*xG/(-16.0*Ix*Iy*Zw - 16.0*Ix*Iy*m - 16.0*Ix*Mq*Zw - 16.0*Ix*Mq*m + 16.0*Ix*m**2*xG**2 + 16.0*Ixy**2*Zw + 16.0*Ixy**2*m - 16.0*Iy*Kp*Zw - 16.0*Iy*Kp*m - 16.0*Kp*Mq*Zw - 16.0*Kp*Mq*m + 16.0*Kp*m**2*xG**2) + 16.0*Kp*dh2*m*x2**2*xG/(-16.0*Ix*Iy*Zw - 16.0*Ix*Iy*m - 16.0*Ix*Mq*Zw - 16.0*Ix*Mq*m + 16.0*Ix*m**2*xG**2 + 16.0*Ixy**2*Zw + 16.0*Ixy**2*m - 16.0*Iy*Kp*Zw - 16.0*Iy*Kp*m - 16.0*Kp*Mq*Zw - 16.0*Kp*Mq*m + 16.0*Kp*m**2*xG**2) + 16.0*Kp*dp1*m*x6/(-16.0*Ix*Iy*Zw - 16.0*Ix*Iy*m - 16.0*Ix*Mq*Zw - 16.0*Ix*Mq*m + 16.0*Ix*m**2*xG**2 + 16.0*Ixy**2*Zw + 16.0*Ixy**2*m - 16.0*Iy*Kp*Zw - 16.0*Iy*Kp*m - 16.0*Kp*Mq*Zw - 16.0*Kp*Mq*m + 16.0*Kp*m**2*xG**2) + 16.0*Kp*dp2*m*x6**2/(-16.0*Ix*Iy*Zw - 16.0*Ix*Iy*m - 16.0*Ix*Mq*Zw - 16.0*Ix*Mq*m + 16.0*Ix*m**2*xG**2 + 16.0*Ixy**2*Zw + 16.0*Ixy**2*m - 16.0*Iy*Kp*Zw - 16.0*Iy*Kp*m - 16.0*Kp*Mq*Zw - 16.0*Kp*Mq*m + 16.0*Kp*m**2*xG**2) + 16.0*Kp*g*m**2*xG*sin(x5)/(-16.0*Ix*Iy*Zw - 16.0*Ix*Iy*m - 16.0*Ix*Mq*Zw - 16.0*Ix*Mq*m + 16.0*Ix*m**2*xG**2 + 16.0*Ixy**2*Zw + 16.0*Ixy**2*m - 16.0*Iy*Kp*Zw - 16.0*Iy*Kp*m - 16.0*Kp*Mq*Zw - 16.0*Kp*Mq*m + 16.0*Kp*m**2*xG**2)"
   ]
  },
  {
   "cell_type": "markdown",
   "id": "cooperative-tower",
   "metadata": {},
   "source": [
    "#### Insert parameter values to symbols"
   ]
  },
  {
   "cell_type": "code",
   "execution_count": 24,
   "id": "seasonal-aside",
   "metadata": {},
   "outputs": [
    {
     "name": "stdout",
     "output_type": "stream",
     "text": [
      "[(m,m_val),(g,g_val),(rho,rho_val),(Vol,Vol_val),(S1,S1_val),(S2,S2_val),(S3,S3_val),(S4,S4_val),(u,u_val),(Zw,Zw_val),(Kp,Kp_val),(Mq,Mq_val),(xG,xG_val),(r1,r1_val),(Iyx,Iyx_val),(Ixy,Ixy_val),(Ixz,Ixz_val),(Iyz,Iyz_val),(dg,dg_val),(db,db_val),(d1,d1_val),(d2,d2_val),(d3,d3_val),(d4,d4_val),(Ix,Ix_val),(Iy,Iy_val),(dh1,dh1_val),(dh2,dh2_val),(dr1,dr1_val),(dr2,dr2_val),(dp1,dp1_val),(dp2,dp2_val)]\n"
     ]
    }
   ],
   "source": [
    "# Inserval values to equations\n",
    "syms = [m,      g, rho,   Vol,    S1,    S2,    S3,   S4, u,  Zw, Kp, Mq, xG,    r1, Iyx, Ixy, Ixz, Iyz,   dg,   db,   d1,   d2,    d3,    d4, Ix ,Iy, dh1, dh2,dr1,dr2,dp1,dp2] \n",
    "values =[29, 9.82, 997, 0.018, 0.052, 0.084, 0.069, 0.05, 5, 151, 16, 20, 0.1, 0.31,   0,   0,   0,   0,  0.2, 0.10, 0.17, 0.05, -0.23, -0.58, 1,   1]\n",
    "\n",
    "#USED FOR GENERTAING STRING TO INPUT FOR SUBSTITUION\n",
    "string = \"[\"\n",
    "for j in range(len(syms)):\n",
    "    string += f\"({syms[j]},{syms[j]}_val),\"\n",
    "string = string[:-1]\n",
    "string += \"]\"\n",
    "print(string)\n",
    "\n",
    "\n",
    "\n",
    "m_val = 29\n",
    "g_val = 9.82\n",
    "rho_val = 997\n",
    "Vol_val = 0.018\n",
    "S1_val = 0.052\n",
    "S2_val = 0.084\n",
    "S3_val = 0.069\n",
    "S4_val = 0.05\n",
    "u_val = 5\n",
    "Zw_val = 151\n",
    "Kp_val = 16\n",
    "Mq_val = 20\n",
    "xG_val = 0\n",
    "r1_val = 0.31\n",
    "Iyx_val = -0.059 \n",
    "Ixy_val = -0.059\n",
    "Ixz_val = 0.25\n",
    "Iyz_val = 0.01255\n",
    "dg_val = 0.2\n",
    "db_val = 0.1\n",
    "d1_val = 0.17\n",
    "d2_val = 0.05\n",
    "d3_val = -0.23\n",
    "d4_val = -0.58\n",
    "Ix_val = 8\n",
    "Iy_val = 19\n",
    "\n",
    "#Damping coefficients for linear term\n",
    "dh1_val = 0.9 #0.9\n",
    "dr1_val = 0.35 #0.8\n",
    "dp1_val = 0.36 #0.9\n",
    "\n",
    "#Damping coefficients for quadratic term\n",
    "dh2_val = 1\n",
    "dr2_val = 1\n",
    "dp2_val = 1\n",
    "\n",
    "#Artificial damping\n"
   ]
  },
  {
   "cell_type": "markdown",
   "id": "therapeutic-worst",
   "metadata": {},
   "source": [
    "#### With damping"
   ]
  },
  {
   "cell_type": "code",
   "execution_count": 25,
   "id": "medium-environment",
   "metadata": {},
   "outputs": [],
   "source": [
    "x2d_equ = x2d.subs([(m,m_val),(g,g_val),(rho,rho_val),(Vol,Vol_val),(S1,S1_val),(S2,S2_val),(S3,S3_val),(S4,S4_val),(u,u_val),(Zw,Zw_val),(Kp,Kp_val),(Mq,Mq_val),(xG,xG_val),(r1,r1_val),(Iyx,Iyx_val),(Ixy,Ixy_val),(Ixz,Ixz_val),(Iyz,Iyz_val),(dg,dg_val),(db,db_val),(d1,d1_val),(d2,d2_val),(d3,d3_val),(d4,d4_val),(Ix,Ix_val),(Iy,Iy_val),(dh1,dh1_val),(dh2,dh2_val),(dr1,dr1_val),(dr2,dr2_val),(dp1,dp1_val),(dp2,dp2_val)])\n",
    "x4d_equ = x4d.subs([(m,m_val),(g,g_val),(rho,rho_val),(Vol,Vol_val),(S1,S1_val),(S2,S2_val),(S3,S3_val),(S4,S4_val),(u,u_val),(Zw,Zw_val),(Kp,Kp_val),(Mq,Mq_val),(xG,xG_val),(r1,r1_val),(Iyx,Iyx_val),(Ixy,Ixy_val),(Ixz,Ixz_val),(Iyz,Iyz_val),(dg,dg_val),(db,db_val),(d1,d1_val),(d2,d2_val),(d3,d3_val),(d4,d4_val),(Ix,Ix_val),(Iy,Iy_val),(dh1,dh1_val),(dh2,dh2_val),(dr1,dr1_val),(dr2,dr2_val),(dp1,dp1_val),(dp2,dp2_val)])\n",
    "x6d_equ = x6d.subs([(m,m_val),(g,g_val),(rho,rho_val),(Vol,Vol_val),(S1,S1_val),(S2,S2_val),(S3,S3_val),(S4,S4_val),(u,u_val),(Zw,Zw_val),(Kp,Kp_val),(Mq,Mq_val),(xG,xG_val),(r1,r1_val),(Iyx,Iyx_val),(Ixy,Ixy_val),(Ixz,Ixz_val),(Iyz,Iyz_val),(dg,dg_val),(db,db_val),(d1,d1_val),(d2,d2_val),(d3,d3_val),(d4,d4_val),(Ix,Ix_val),(Iy,Iy_val),(dh1,dh1_val),(dh2,dh2_val),(dr1,dr1_val),(dr2,dr2_val),(dp1,dp1_val),(dp2,dp2_val)])\n"
   ]
  },
  {
   "cell_type": "markdown",
   "id": "suffering-wealth",
   "metadata": {},
   "source": [
    "#### Lineratization"
   ]
  },
  {
   "cell_type": "code",
   "execution_count": 26,
   "id": "empty-injury",
   "metadata": {},
   "outputs": [],
   "source": [
    "x_list = [x1,x2,x3,x4,x5,x6,u1,u2,u3]\n",
    "#Heave acceleration equation\n",
    "dif1_x1 = sy.diff(x2d_equ, x1) \n",
    "dif1_x2 = sy.diff(x2d_equ, x2) \n",
    "dif1_x3 = sy.diff(x2d_equ, x3) \n",
    "dif1_x4 = sy.diff(x2d_equ, x4) \n",
    "dif1_x5 = sy.diff(x2d_equ, x5) \n",
    "dif1_x6 = sy.diff(x2d_equ, x6) \n",
    "dif1_u1 = sy.diff(x2d_equ, u1) \n",
    "dif1_u2 = sy.diff(x2d_equ, u2) \n",
    "dif1_u3 = sy.diff(x2d_equ, u3) \n",
    "\n",
    "#Roll acceleration equation\n",
    "dif2_x1 = sy.diff(x4d_equ, x1) \n",
    "dif2_x2 = sy.diff(x4d_equ, x2) \n",
    "dif2_x3 = sy.diff(x4d_equ, x3) \n",
    "dif2_x4 = sy.diff(x4d_equ, x4) \n",
    "dif2_x5 = sy.diff(x4d_equ, x5) \n",
    "dif2_x6 = sy.diff(x4d_equ, x6) \n",
    "dif2_u1 = sy.diff(x4d_equ, u1) \n",
    "dif2_u2 = sy.diff(x4d_equ, u2) \n",
    "dif2_u3 = sy.diff(x4d_equ, u3) \n",
    "\n",
    "#Pitch acceleration equation\n",
    "dif3_x1 = sy.diff(x6d_equ, x1) \n",
    "dif3_x2 = sy.diff(x6d_equ, x2) \n",
    "dif3_x3 = sy.diff(x6d_equ, x3) \n",
    "dif3_x4 = sy.diff(x6d_equ, x4) \n",
    "dif3_x5 = sy.diff(x6d_equ, x5) \n",
    "dif3_x6 = sy.diff(x6d_equ, x6) \n",
    "dif3_u1 = sy.diff(x6d_equ, u1) \n",
    "dif3_u2 = sy.diff(x6d_equ, u2) \n",
    "dif3_u3 = sy.diff(x6d_equ, u3)\n",
    "\n",
    "list_diff = [dif1_x1, dif1_x2, dif1_x3, dif1_x4, dif1_x5, dif1_x6, dif1_u1, dif1_u2, dif1_u3, dif2_x1, dif2_x2, dif2_x3, dif2_x4, dif2_x5, dif2_x6, dif2_u1, dif2_u2, dif2_u3, dif3_x1, dif3_x2, dif3_x3, dif3_x4, dif3_x5, dif3_x6, dif3_u1, dif3_u2, dif3_u3]\n",
    "\n",
    "list_diff_sub = []\n",
    "for k in range(27):\n",
    "    list_diff_sub.append(list_diff[k].subs([(x1, 0),(x2, 0),(x3, 0),(x4, 0),(x5, 0),(x6, 0),(u1, 0),(u2, 0),(u3, 0)]))\n",
    "\n",
    "x2d_val = list_diff_sub[0:9]\n",
    "x4d_val = list_diff_sub[9:18]\n",
    "x6d_val = list_diff_sub[18:27]\n",
    "x1, x2, x3, x4, x5, x6 = symbols(\"x1 x2 x3 x4 x5 x6\")"
   ]
  },
  {
   "cell_type": "markdown",
   "id": "australian-relation",
   "metadata": {},
   "source": [
    "#### Develop state space represention from linerized data"
   ]
  },
  {
   "cell_type": "code",
   "execution_count": 27,
   "id": "given-router",
   "metadata": {},
   "outputs": [
    {
     "name": "stdout",
     "output_type": "stream",
     "text": [
      "A\n",
      "[[0.000 1.000 0.000 0.000 0.000 0.000]\n",
      " [0.000 -0.005 0.000 0.000 3.811 -0.806]\n",
      " [0.000 0.000 0.000 1.000 0.000 0.000]\n",
      " [0.000 -0.048 0.000 -0.015 0.009 0.000]\n",
      " [0.000 0.000 0.000 0.000 0.000 1.000]\n",
      " [0.000 19.359 0.000 0.000 -3.551 -0.009]]\n",
      "\n",
      "B\n",
      "[[0.000 0.000 0.000]\n",
      " [-0.727 -0.727 -0.865]\n",
      " [0.000 0.000 0.000]\n",
      " [-1.690 1.691 -0.006]\n",
      " [0.000 0.000 0.000]\n",
      " [-0.165 -0.170 2.317]]\n",
      "\n",
      "C\n",
      "[[1 0 0 0 0 0]\n",
      " [0 0 1 0 0 0]\n",
      " [0 0 0 0 1 0]]\n",
      "\n",
      "D\n",
      "[[0 0 0]\n",
      " [0 0 0]\n",
      " [0 0 0]]\n"
     ]
    }
   ],
   "source": [
    "A = np.zeros((6,6))\n",
    "o = 0\n",
    "for j in range(3):\n",
    "    for k in range(6):\n",
    "        x=(k+o)\n",
    "        A[2*j+1,k] = list_diff_sub[x]\n",
    "    o += 9\n",
    "A[0,1] = 1\n",
    "A[2,3] = 1\n",
    "A[4,5] = 1\n",
    "\n",
    "o = 0\n",
    "B = np.zeros((6,3))\n",
    "for j in range(3):\n",
    "    for k in range(3):\n",
    "        x = k+o+6\n",
    "        B[2*j+1, k] = list_diff_sub[x]\n",
    "    o += 9\n",
    "\n",
    "C = np.array([[1, 0, 0, 0, 0, 0], \n",
    "              [0, 0, 1, 0, 0, 0],\n",
    "              [0, 0, 0, 0, 1, 0]])\n",
    "\n",
    "D = np.array([[0, 0, 0],\n",
    "              [0, 0, 0],\n",
    "              [0, 0, 0]])\n",
    "print(\"A\")\n",
    "print(A)\n",
    "print()\n",
    "print(\"B\")\n",
    "print(B)\n",
    "print()\n",
    "print(\"C\")\n",
    "print(C)\n",
    "print()\n",
    "print(\"D\")\n",
    "print(D)"
   ]
  },
  {
   "cell_type": "code",
   "execution_count": 28,
   "id": "latest-cloud",
   "metadata": {},
   "outputs": [
    {
     "data": {
      "text/plain": [
       "array([[0, 0, 0],\n",
       "       [0, 0, 0],\n",
       "       [0, 0, 0]])"
      ]
     },
     "execution_count": 28,
     "metadata": {},
     "output_type": "execute_result"
    }
   ],
   "source": [
    "D"
   ]
  },
  {
   "cell_type": "markdown",
   "id": "aware-newspaper",
   "metadata": {},
   "source": [
    "# State space controller"
   ]
  },
  {
   "cell_type": "code",
   "execution_count": 29,
   "id": "executed-pantyhose",
   "metadata": {},
   "outputs": [
    {
     "data": {
      "text/plain": [
       "array([[-0.000, -7.657, -0.000, 0.567, -1.573, 2.403],\n",
       "       [-0.000, -6.596, -0.000, 0.880, -1.573, 1.597],\n",
       "       [0.000, 7.632, -0.000, 0.118, -1.761, 0.586]])"
      ]
     },
     "execution_count": 29,
     "metadata": {},
     "output_type": "execute_result"
    }
   ],
   "source": [
    "import control as ct\n",
    "desired_poles = [0, 0, 0,-1, (-2+1j),(-2-1j)]\n",
    "K=ct.place(A,B,desired_poles)\n",
    "K"
   ]
  },
  {
   "cell_type": "code",
   "execution_count": 30,
   "id": "random-aaron",
   "metadata": {},
   "outputs": [
    {
     "data": {
      "text/plain": [
       "array([[-0.000, -7.695, -0.000, 0.659, -1.573, 2.321],\n",
       "       [-0.000, -6.761, -0.000, 1.272, -1.573, 1.249],\n",
       "       [0.000, 7.699, 0.000, -0.042, -1.761, 0.727]])"
      ]
     },
     "execution_count": 30,
     "metadata": {},
     "output_type": "execute_result"
    }
   ],
   "source": [
    "desired_poles1 = [0, -2, 0,0, (-2+1j),(-2-1j)]\n",
    "K=ct.place(A,B,desired_poles1)\n",
    "K"
   ]
  },
  {
   "cell_type": "code",
   "execution_count": 31,
   "id": "fifty-surgery",
   "metadata": {},
   "outputs": [
    {
     "name": "stdout",
     "output_type": "stream",
     "text": [
      "[[0.000 1.000 0.000 0.000 0.000 0.000]\n",
      " [-0.000 -3.851 -0.000 1.368 -0.000 2.419]\n",
      " [0.000 0.000 0.000 1.000 0.000 0.000]\n",
      " [-0.000 -1.576 0.000 -1.051 -0.000 1.816]\n",
      " [0.000 0.000 0.000 0.000 0.000 1.000]\n",
      " [-0.000 -0.901 -0.000 0.422 -0.000 -1.098]]\n"
     ]
    }
   ],
   "source": [
    "abk = A - B@K\n",
    "np.set_printoptions(formatter={'float': lambda x: \"{0:0.3f}\".format(x)})\n",
    "print(abk)"
   ]
  },
  {
   "cell_type": "markdown",
   "id": "fixed-timber",
   "metadata": {},
   "source": [
    "# Eigenvalues (poles)"
   ]
  },
  {
   "cell_type": "code",
   "execution_count": 32,
   "id": "banner-audience",
   "metadata": {},
   "outputs": [
    {
     "name": "stdout",
     "output_type": "stream",
     "text": [
      "0j\n",
      "0j\n",
      "(-1.3844758478279262+4.985692606990417j)\n",
      "(-1.3844758478279262-4.985692606990417j)\n",
      "(2.7547208378596983+0j)\n",
      "(-0.014583333333334817+0j)\n",
      "\n",
      " Poles for compensated system\n",
      "(-1.9999999999999982+0.9999999999999952j)\n",
      "(-1.9999999999999982-0.9999999999999952j)\n",
      "(-1.9999999999999978+0j)\n",
      "(-2.722410233383544e-16+0j)\n",
      "(-8.843132583625639e-16+0j)\n",
      "(5.77007543604053e-16+0j)\n"
     ]
    },
    {
     "data": {
      "image/png": "[encoded data removed]",
      "text/plain": [
       "<Figure size 432x288 with 1 Axes>"
      ]
     },
     "metadata": {
      "needs_background": "light"
     },
     "output_type": "display_data"
    }
   ],
   "source": [
    "[eigenval, v] = np.linalg.eig(A)\n",
    "for eig in eigenval:\n",
    "    print(eig)\n",
    "plt.scatter(np.real(eigenval), np.imag(eigenval), marker = \"x\",color =\"red\")\n",
    "plt.grid()\n",
    "\n",
    "print(\"\\n Poles for compensated system\")\n",
    "[eigenval, v] = np.linalg.eig(A-B@K)\n",
    "for eig in eigenval:\n",
    "    print(eig)\n",
    "plt.scatter(np.real(eigenval), np.imag(eigenval), marker = \"x\",color =\"green\")\n",
    "plt.grid()"
   ]
  },
  {
   "cell_type": "markdown",
   "id": "reported-black",
   "metadata": {},
   "source": [
    "# Controllability"
   ]
  },
  {
   "cell_type": "code",
   "execution_count": 33,
   "id": "included-uzbekistan",
   "metadata": {},
   "outputs": [
    {
     "data": {
      "text/plain": [
       "6"
      ]
     },
     "execution_count": 33,
     "metadata": {},
     "output_type": "execute_result"
    }
   ],
   "source": [
    "R = np.hstack([B, A@B, A**2 @ B,A**3 @ B,A**4 @ B, A**5 @ B])\n",
    "np.linalg.matrix_rank(R)\n",
    "\n",
    "#OR: \n",
    "#import control as ct\n",
    "#R = ct.ctrb(A, B)"
   ]
  },
  {
   "cell_type": "markdown",
   "id": "toxic-wiring",
   "metadata": {},
   "source": [
    "## LQR"
   ]
  },
  {
   "cell_type": "code",
   "execution_count": 34,
   "id": "cellular-brook",
   "metadata": {},
   "outputs": [],
   "source": [
    "import scipy as sp\n",
    "import control as ct\n",
    "sys = sp.signal.lti(A,B,C,D)"
   ]
  },
  {
   "cell_type": "code",
   "execution_count": 35,
   "id": "analyzed-peoples",
   "metadata": {},
   "outputs": [
    {
     "data": {
      "text/plain": [
       "array([[-12.214, -32.672, -5.004, -1.857, -4.987, -5.133],\n",
       "       [-12.223, -32.692, 4.996, 1.853, -4.998, -5.150],\n",
       "       [-14.191, -24.783, 0.004, 0.002, 4.127, 9.797]])"
      ]
     },
     "execution_count": 35,
     "metadata": {},
     "output_type": "execute_result"
    }
   ],
   "source": [
    "Q = np.array([[50.000, 0.000, 0.000, 0.000, 0.000, 0.000],\n",
    "              [0.000, 250.000, 0.000, 0.000, 0.000, 0.000],\n",
    "              [0.000, 0.000, 5.000, 0.000, 0.000, 0.000],\n",
    "              [0.000, 0.000, 0.000, 0.100, 0.000, 0.000],\n",
    "              [0.000, 0.000, 0.000, 0.000, 5.000, 0.000],\n",
    "              [0.000, 0.000, 0.000, 0.000, 0.000, 15.00]])\n",
    "\n",
    "R = np.array([[0.100, 0.000, 0.000],\n",
    "              [0.000, 0.100, 0.000],\n",
    "              [0.000, 0.000, 0.100]])\n",
    "\n",
    "K, S, E = ct.lqr(sys, Q, R)\n",
    "K"
   ]
  },
  {
   "cell_type": "code",
   "execution_count": 36,
   "id": "supreme-climb",
   "metadata": {},
   "outputs": [
    {
     "data": {
      "text/plain": [
       "array([[0.000, 1.000, 0.000, 0.000, 0.000, 0.000],\n",
       "       [-30.048, -68.972, -0.003, -0.001, 0.124, 0.197],\n",
       "       [0.000, 0.000, 0.000, 1.000, 0.000, 0.000],\n",
       "       [-0.056, -0.127, -16.902, -6.286, 0.055, 0.089],\n",
       "       [0.000, 0.000, 0.000, 0.000, 0.000, 1.000],\n",
       "       [28.778, 65.809, 0.014, 0.004, -14.788, -24.431]])"
      ]
     },
     "execution_count": 36,
     "metadata": {},
     "output_type": "execute_result"
    }
   ],
   "source": [
    "A-B@K"
   ]
  },
  {
   "cell_type": "code",
   "execution_count": 37,
   "id": "tender-galaxy",
   "metadata": {},
   "outputs": [
    {
     "name": "stdout",
     "output_type": "stream",
     "text": [
      "(-68.82180683955494+0j)\n",
      "(-23.521192822853788+0j)\n",
      "(-0.43845010198063505+0j)\n",
      "(-0.621017840195682+0j)\n",
      "(-3.1431832297089253+2.650025468541197j)\n",
      "(-3.1431832297089253-2.650025468541197j)\n"
     ]
    },
    {
     "data": {
      "image/png": "[encoded data removed]",
      "text/plain": [
       "<Figure size 432x288 with 1 Axes>"
      ]
     },
     "metadata": {
      "needs_background": "light"
     },
     "output_type": "display_data"
    }
   ],
   "source": [
    "[eigenval, v] = np.linalg.eig(A-B@K)\n",
    "for eig in eigenval:\n",
    "    print(eig)\n",
    "plt.scatter(np.real(eigenval), np.imag(eigenval), marker = \"x\",color =\"red\")\n",
    "plt.grid()"
   ]
  }
 ],
 "metadata": {
  "kernelspec": {
   "display_name": "Python 3",
   "language": "python",
   "name": "python3"
  },
  "language_info": {
   "codemirror_mode": {
    "name": "ipython",
    "version": 3
   },
   "file_extension": ".py",
   "mimetype": "text/x-python",
   "name": "python",
   "nbconvert_exporter": "python",
   "pygments_lexer": "ipython3",
   "version": "3.8.5"
  }
 },
 "nbformat": 4,
 "nbformat_minor": 5
}
